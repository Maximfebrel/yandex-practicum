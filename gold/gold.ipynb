{
 "cells": [
  {
   "cell_type": "markdown",
   "metadata": {
    "toc": true
   },
   "source": [
    "<h1>Содержание<span class=\"tocSkip\"></span></h1>\n",
    "<div class=\"toc\"><ul class=\"toc-item\"><li><span><a href=\"#Подготовка-данных\" data-toc-modified-id=\"Подготовка-данных-1\"><span class=\"toc-item-num\">1&nbsp;&nbsp;</span>Подготовка данных</a></span></li><li><span><a href=\"#Анализ-данных\" data-toc-modified-id=\"Анализ-данных-2\"><span class=\"toc-item-num\">2&nbsp;&nbsp;</span>Анализ данных</a></span></li><li><span><a href=\"#Модель\" data-toc-modified-id=\"Модель-3\"><span class=\"toc-item-num\">3&nbsp;&nbsp;</span>Модель</a></span></li><li><span><a href=\"#Чек-лист-готовности-проекта\" data-toc-modified-id=\"Чек-лист-готовности-проекта-4\"><span class=\"toc-item-num\">4&nbsp;&nbsp;</span>Чек-лист готовности проекта</a></span></li></ul></div>"
   ]
  },
  {
   "cell_type": "markdown",
   "metadata": {},
   "source": [
    "# Восстановление золота из руды"
   ]
  },
  {
   "cell_type": "markdown",
   "metadata": {},
   "source": [
    "Подготовьте прототип модели машинного обучения для «Цифры». Компания разрабатывает решения для эффективной работы промышленных предприятий.\n",
    "\n",
    "Модель должна предсказать коэффициент восстановления золота из золотосодержащей руды. Используйте данные с параметрами добычи и очистки. \n",
    "\n",
    "Модель поможет оптимизировать производство, чтобы не запускать предприятие с убыточными характеристиками.\n",
    "\n",
    "Вам нужно:\n",
    "\n",
    "1. Подготовить данные;\n",
    "2. Провести исследовательский анализ данных;\n",
    "3. Построить и обучить модель.\n",
    "\n",
    "Чтобы выполнить проект, обращайтесь к библиотекам *pandas*, *matplotlib* и *sklearn.* Вам поможет их документация."
   ]
  },
  {
   "cell_type": "markdown",
   "metadata": {},
   "source": [
    "## Подготовка данных"
   ]
  },
  {
   "cell_type": "code",
   "execution_count": 348,
   "metadata": {},
   "outputs": [],
   "source": [
    "import pandas as pd\n",
    "from sklearn.metrics import mean_absolute_error\n",
    "import matplotlib.pyplot as plt\n",
    "from sklearn.linear_model import LinearRegression\n",
    "from sklearn.tree import DecisionTreeRegressor\n",
    "from sklearn.ensemble import RandomForestRegressor\n",
    "import math\n",
    "import seaborn as sns\n",
    "from sklearn.dummy import DummyRegressor"
   ]
  },
  {
   "cell_type": "code",
   "execution_count": 287,
   "metadata": {},
   "outputs": [],
   "source": [
    "data_train = pd.read_csv('/datasets/gold_recovery_train_new.csv')\n",
    "data_test = pd.read_csv('/datasets/gold_recovery_test_new.csv')\n",
    "data = pd.read_csv('/datasets/gold_recovery_full_new.csv')"
   ]
  },
  {
   "cell_type": "code",
   "execution_count": 288,
   "metadata": {
    "collapsed": true
   },
   "outputs": [
    {
     "name": "stdout",
     "output_type": "stream",
     "text": [
      "<class 'pandas.core.frame.DataFrame'>\n",
      "RangeIndex: 14149 entries, 0 to 14148\n",
      "Data columns (total 87 columns):\n",
      " #   Column                                              Non-Null Count  Dtype  \n",
      "---  ------                                              --------------  -----  \n",
      " 0   date                                                14149 non-null  object \n",
      " 1   final.output.concentrate_ag                         14148 non-null  float64\n",
      " 2   final.output.concentrate_pb                         14148 non-null  float64\n",
      " 3   final.output.concentrate_sol                        13938 non-null  float64\n",
      " 4   final.output.concentrate_au                         14149 non-null  float64\n",
      " 5   final.output.recovery                               14149 non-null  float64\n",
      " 6   final.output.tail_ag                                14149 non-null  float64\n",
      " 7   final.output.tail_pb                                14049 non-null  float64\n",
      " 8   final.output.tail_sol                               14144 non-null  float64\n",
      " 9   final.output.tail_au                                14149 non-null  float64\n",
      " 10  primary_cleaner.input.sulfate                       14129 non-null  float64\n",
      " 11  primary_cleaner.input.depressant                    14117 non-null  float64\n",
      " 12  primary_cleaner.input.feed_size                     14149 non-null  float64\n",
      " 13  primary_cleaner.input.xanthate                      14049 non-null  float64\n",
      " 14  primary_cleaner.output.concentrate_ag               14149 non-null  float64\n",
      " 15  primary_cleaner.output.concentrate_pb               14063 non-null  float64\n",
      " 16  primary_cleaner.output.concentrate_sol              13863 non-null  float64\n",
      " 17  primary_cleaner.output.concentrate_au               14149 non-null  float64\n",
      " 18  primary_cleaner.output.tail_ag                      14148 non-null  float64\n",
      " 19  primary_cleaner.output.tail_pb                      14134 non-null  float64\n",
      " 20  primary_cleaner.output.tail_sol                     14103 non-null  float64\n",
      " 21  primary_cleaner.output.tail_au                      14149 non-null  float64\n",
      " 22  primary_cleaner.state.floatbank8_a_air              14145 non-null  float64\n",
      " 23  primary_cleaner.state.floatbank8_a_level            14148 non-null  float64\n",
      " 24  primary_cleaner.state.floatbank8_b_air              14145 non-null  float64\n",
      " 25  primary_cleaner.state.floatbank8_b_level            14148 non-null  float64\n",
      " 26  primary_cleaner.state.floatbank8_c_air              14147 non-null  float64\n",
      " 27  primary_cleaner.state.floatbank8_c_level            14148 non-null  float64\n",
      " 28  primary_cleaner.state.floatbank8_d_air              14146 non-null  float64\n",
      " 29  primary_cleaner.state.floatbank8_d_level            14148 non-null  float64\n",
      " 30  rougher.calculation.sulfate_to_au_concentrate       14148 non-null  float64\n",
      " 31  rougher.calculation.floatbank10_sulfate_to_au_feed  14148 non-null  float64\n",
      " 32  rougher.calculation.floatbank11_sulfate_to_au_feed  14148 non-null  float64\n",
      " 33  rougher.calculation.au_pb_ratio                     14149 non-null  float64\n",
      " 34  rougher.input.feed_ag                               14149 non-null  float64\n",
      " 35  rougher.input.feed_pb                               14049 non-null  float64\n",
      " 36  rougher.input.feed_rate                             14141 non-null  float64\n",
      " 37  rougher.input.feed_size                             14005 non-null  float64\n",
      " 38  rougher.input.feed_sol                              14071 non-null  float64\n",
      " 39  rougher.input.feed_au                               14149 non-null  float64\n",
      " 40  rougher.input.floatbank10_sulfate                   14120 non-null  float64\n",
      " 41  rougher.input.floatbank10_xanthate                  14141 non-null  float64\n",
      " 42  rougher.input.floatbank11_sulfate                   14113 non-null  float64\n",
      " 43  rougher.input.floatbank11_xanthate                  13721 non-null  float64\n",
      " 44  rougher.output.concentrate_ag                       14149 non-null  float64\n",
      " 45  rougher.output.concentrate_pb                       14149 non-null  float64\n",
      " 46  rougher.output.concentrate_sol                      14127 non-null  float64\n",
      " 47  rougher.output.concentrate_au                       14149 non-null  float64\n",
      " 48  rougher.output.recovery                             14149 non-null  float64\n",
      " 49  rougher.output.tail_ag                              14148 non-null  float64\n",
      " 50  rougher.output.tail_pb                              14149 non-null  float64\n",
      " 51  rougher.output.tail_sol                             14149 non-null  float64\n",
      " 52  rougher.output.tail_au                              14149 non-null  float64\n",
      " 53  rougher.state.floatbank10_a_air                     14148 non-null  float64\n",
      " 54  rougher.state.floatbank10_a_level                   14148 non-null  float64\n",
      " 55  rougher.state.floatbank10_b_air                     14148 non-null  float64\n",
      " 56  rougher.state.floatbank10_b_level                   14148 non-null  float64\n",
      " 57  rougher.state.floatbank10_c_air                     14148 non-null  float64\n",
      " 58  rougher.state.floatbank10_c_level                   14148 non-null  float64\n",
      " 59  rougher.state.floatbank10_d_air                     14149 non-null  float64\n",
      " 60  rougher.state.floatbank10_d_level                   14149 non-null  float64\n",
      " 61  rougher.state.floatbank10_e_air                     13713 non-null  float64\n",
      " 62  rougher.state.floatbank10_e_level                   14149 non-null  float64\n",
      " 63  rougher.state.floatbank10_f_air                     14149 non-null  float64\n",
      " 64  rougher.state.floatbank10_f_level                   14149 non-null  float64\n",
      " 65  secondary_cleaner.output.tail_ag                    14147 non-null  float64\n",
      " 66  secondary_cleaner.output.tail_pb                    14139 non-null  float64\n",
      " 67  secondary_cleaner.output.tail_sol                   12544 non-null  float64\n",
      " 68  secondary_cleaner.output.tail_au                    14149 non-null  float64\n",
      " 69  secondary_cleaner.state.floatbank2_a_air            13932 non-null  float64\n",
      " 70  secondary_cleaner.state.floatbank2_a_level          14148 non-null  float64\n",
      " 71  secondary_cleaner.state.floatbank2_b_air            14128 non-null  float64\n",
      " 72  secondary_cleaner.state.floatbank2_b_level          14148 non-null  float64\n",
      " 73  secondary_cleaner.state.floatbank3_a_air            14145 non-null  float64\n",
      " 74  secondary_cleaner.state.floatbank3_a_level          14148 non-null  float64\n",
      " 75  secondary_cleaner.state.floatbank3_b_air            14148 non-null  float64\n",
      " 76  secondary_cleaner.state.floatbank3_b_level          14148 non-null  float64\n",
      " 77  secondary_cleaner.state.floatbank4_a_air            14143 non-null  float64\n",
      " 78  secondary_cleaner.state.floatbank4_a_level          14148 non-null  float64\n",
      " 79  secondary_cleaner.state.floatbank4_b_air            14148 non-null  float64\n",
      " 80  secondary_cleaner.state.floatbank4_b_level          14148 non-null  float64\n",
      " 81  secondary_cleaner.state.floatbank5_a_air            14148 non-null  float64\n",
      " 82  secondary_cleaner.state.floatbank5_a_level          14148 non-null  float64\n",
      " 83  secondary_cleaner.state.floatbank5_b_air            14148 non-null  float64\n",
      " 84  secondary_cleaner.state.floatbank5_b_level          14148 non-null  float64\n",
      " 85  secondary_cleaner.state.floatbank6_a_air            14147 non-null  float64\n",
      " 86  secondary_cleaner.state.floatbank6_a_level          14148 non-null  float64\n",
      "dtypes: float64(86), object(1)\n",
      "memory usage: 9.4+ MB\n"
     ]
    }
   ],
   "source": [
    "data_train.info()"
   ]
  },
  {
   "cell_type": "code",
   "execution_count": 289,
   "metadata": {
    "collapsed": true
   },
   "outputs": [
    {
     "name": "stdout",
     "output_type": "stream",
     "text": [
      "<class 'pandas.core.frame.DataFrame'>\n",
      "RangeIndex: 5290 entries, 0 to 5289\n",
      "Data columns (total 53 columns):\n",
      " #   Column                                      Non-Null Count  Dtype  \n",
      "---  ------                                      --------------  -----  \n",
      " 0   date                                        5290 non-null   object \n",
      " 1   primary_cleaner.input.sulfate               5286 non-null   float64\n",
      " 2   primary_cleaner.input.depressant            5285 non-null   float64\n",
      " 3   primary_cleaner.input.feed_size             5290 non-null   float64\n",
      " 4   primary_cleaner.input.xanthate              5286 non-null   float64\n",
      " 5   primary_cleaner.state.floatbank8_a_air      5290 non-null   float64\n",
      " 6   primary_cleaner.state.floatbank8_a_level    5290 non-null   float64\n",
      " 7   primary_cleaner.state.floatbank8_b_air      5290 non-null   float64\n",
      " 8   primary_cleaner.state.floatbank8_b_level    5290 non-null   float64\n",
      " 9   primary_cleaner.state.floatbank8_c_air      5290 non-null   float64\n",
      " 10  primary_cleaner.state.floatbank8_c_level    5290 non-null   float64\n",
      " 11  primary_cleaner.state.floatbank8_d_air      5290 non-null   float64\n",
      " 12  primary_cleaner.state.floatbank8_d_level    5290 non-null   float64\n",
      " 13  rougher.input.feed_ag                       5290 non-null   float64\n",
      " 14  rougher.input.feed_pb                       5290 non-null   float64\n",
      " 15  rougher.input.feed_rate                     5287 non-null   float64\n",
      " 16  rougher.input.feed_size                     5289 non-null   float64\n",
      " 17  rougher.input.feed_sol                      5269 non-null   float64\n",
      " 18  rougher.input.feed_au                       5290 non-null   float64\n",
      " 19  rougher.input.floatbank10_sulfate           5285 non-null   float64\n",
      " 20  rougher.input.floatbank10_xanthate          5290 non-null   float64\n",
      " 21  rougher.input.floatbank11_sulfate           5282 non-null   float64\n",
      " 22  rougher.input.floatbank11_xanthate          5265 non-null   float64\n",
      " 23  rougher.state.floatbank10_a_air             5290 non-null   float64\n",
      " 24  rougher.state.floatbank10_a_level           5290 non-null   float64\n",
      " 25  rougher.state.floatbank10_b_air             5290 non-null   float64\n",
      " 26  rougher.state.floatbank10_b_level           5290 non-null   float64\n",
      " 27  rougher.state.floatbank10_c_air             5290 non-null   float64\n",
      " 28  rougher.state.floatbank10_c_level           5290 non-null   float64\n",
      " 29  rougher.state.floatbank10_d_air             5290 non-null   float64\n",
      " 30  rougher.state.floatbank10_d_level           5290 non-null   float64\n",
      " 31  rougher.state.floatbank10_e_air             5290 non-null   float64\n",
      " 32  rougher.state.floatbank10_e_level           5290 non-null   float64\n",
      " 33  rougher.state.floatbank10_f_air             5290 non-null   float64\n",
      " 34  rougher.state.floatbank10_f_level           5290 non-null   float64\n",
      " 35  secondary_cleaner.state.floatbank2_a_air    5287 non-null   float64\n",
      " 36  secondary_cleaner.state.floatbank2_a_level  5290 non-null   float64\n",
      " 37  secondary_cleaner.state.floatbank2_b_air    5288 non-null   float64\n",
      " 38  secondary_cleaner.state.floatbank2_b_level  5290 non-null   float64\n",
      " 39  secondary_cleaner.state.floatbank3_a_air    5281 non-null   float64\n",
      " 40  secondary_cleaner.state.floatbank3_a_level  5290 non-null   float64\n",
      " 41  secondary_cleaner.state.floatbank3_b_air    5290 non-null   float64\n",
      " 42  secondary_cleaner.state.floatbank3_b_level  5290 non-null   float64\n",
      " 43  secondary_cleaner.state.floatbank4_a_air    5290 non-null   float64\n",
      " 44  secondary_cleaner.state.floatbank4_a_level  5290 non-null   float64\n",
      " 45  secondary_cleaner.state.floatbank4_b_air    5290 non-null   float64\n",
      " 46  secondary_cleaner.state.floatbank4_b_level  5290 non-null   float64\n",
      " 47  secondary_cleaner.state.floatbank5_a_air    5290 non-null   float64\n",
      " 48  secondary_cleaner.state.floatbank5_a_level  5290 non-null   float64\n",
      " 49  secondary_cleaner.state.floatbank5_b_air    5290 non-null   float64\n",
      " 50  secondary_cleaner.state.floatbank5_b_level  5290 non-null   float64\n",
      " 51  secondary_cleaner.state.floatbank6_a_air    5290 non-null   float64\n",
      " 52  secondary_cleaner.state.floatbank6_a_level  5290 non-null   float64\n",
      "dtypes: float64(52), object(1)\n",
      "memory usage: 2.1+ MB\n"
     ]
    }
   ],
   "source": [
    "data_test.info()"
   ]
  },
  {
   "cell_type": "code",
   "execution_count": 290,
   "metadata": {
    "collapsed": true
   },
   "outputs": [
    {
     "name": "stdout",
     "output_type": "stream",
     "text": [
      "<class 'pandas.core.frame.DataFrame'>\n",
      "RangeIndex: 19439 entries, 0 to 19438\n",
      "Data columns (total 87 columns):\n",
      " #   Column                                              Non-Null Count  Dtype  \n",
      "---  ------                                              --------------  -----  \n",
      " 0   date                                                19439 non-null  object \n",
      " 1   final.output.concentrate_ag                         19438 non-null  float64\n",
      " 2   final.output.concentrate_pb                         19438 non-null  float64\n",
      " 3   final.output.concentrate_sol                        19228 non-null  float64\n",
      " 4   final.output.concentrate_au                         19439 non-null  float64\n",
      " 5   final.output.recovery                               19439 non-null  float64\n",
      " 6   final.output.tail_ag                                19438 non-null  float64\n",
      " 7   final.output.tail_pb                                19338 non-null  float64\n",
      " 8   final.output.tail_sol                               19433 non-null  float64\n",
      " 9   final.output.tail_au                                19439 non-null  float64\n",
      " 10  primary_cleaner.input.sulfate                       19415 non-null  float64\n",
      " 11  primary_cleaner.input.depressant                    19402 non-null  float64\n",
      " 12  primary_cleaner.input.feed_size                     19439 non-null  float64\n",
      " 13  primary_cleaner.input.xanthate                      19335 non-null  float64\n",
      " 14  primary_cleaner.output.concentrate_ag               19439 non-null  float64\n",
      " 15  primary_cleaner.output.concentrate_pb               19323 non-null  float64\n",
      " 16  primary_cleaner.output.concentrate_sol              19069 non-null  float64\n",
      " 17  primary_cleaner.output.concentrate_au               19439 non-null  float64\n",
      " 18  primary_cleaner.output.tail_ag                      19435 non-null  float64\n",
      " 19  primary_cleaner.output.tail_pb                      19418 non-null  float64\n",
      " 20  primary_cleaner.output.tail_sol                     19377 non-null  float64\n",
      " 21  primary_cleaner.output.tail_au                      19439 non-null  float64\n",
      " 22  primary_cleaner.state.floatbank8_a_air              19435 non-null  float64\n",
      " 23  primary_cleaner.state.floatbank8_a_level            19438 non-null  float64\n",
      " 24  primary_cleaner.state.floatbank8_b_air              19435 non-null  float64\n",
      " 25  primary_cleaner.state.floatbank8_b_level            19438 non-null  float64\n",
      " 26  primary_cleaner.state.floatbank8_c_air              19437 non-null  float64\n",
      " 27  primary_cleaner.state.floatbank8_c_level            19438 non-null  float64\n",
      " 28  primary_cleaner.state.floatbank8_d_air              19436 non-null  float64\n",
      " 29  primary_cleaner.state.floatbank8_d_level            19438 non-null  float64\n",
      " 30  rougher.calculation.sulfate_to_au_concentrate       19437 non-null  float64\n",
      " 31  rougher.calculation.floatbank10_sulfate_to_au_feed  19437 non-null  float64\n",
      " 32  rougher.calculation.floatbank11_sulfate_to_au_feed  19437 non-null  float64\n",
      " 33  rougher.calculation.au_pb_ratio                     19439 non-null  float64\n",
      " 34  rougher.input.feed_ag                               19439 non-null  float64\n",
      " 35  rougher.input.feed_pb                               19339 non-null  float64\n",
      " 36  rougher.input.feed_rate                             19428 non-null  float64\n",
      " 37  rougher.input.feed_size                             19294 non-null  float64\n",
      " 38  rougher.input.feed_sol                              19340 non-null  float64\n",
      " 39  rougher.input.feed_au                               19439 non-null  float64\n",
      " 40  rougher.input.floatbank10_sulfate                   19405 non-null  float64\n",
      " 41  rougher.input.floatbank10_xanthate                  19431 non-null  float64\n",
      " 42  rougher.input.floatbank11_sulfate                   19395 non-null  float64\n",
      " 43  rougher.input.floatbank11_xanthate                  18986 non-null  float64\n",
      " 44  rougher.output.concentrate_ag                       19439 non-null  float64\n",
      " 45  rougher.output.concentrate_pb                       19439 non-null  float64\n",
      " 46  rougher.output.concentrate_sol                      19416 non-null  float64\n",
      " 47  rougher.output.concentrate_au                       19439 non-null  float64\n",
      " 48  rougher.output.recovery                             19439 non-null  float64\n",
      " 49  rougher.output.tail_ag                              19438 non-null  float64\n",
      " 50  rougher.output.tail_pb                              19439 non-null  float64\n",
      " 51  rougher.output.tail_sol                             19439 non-null  float64\n",
      " 52  rougher.output.tail_au                              19439 non-null  float64\n",
      " 53  rougher.state.floatbank10_a_air                     19438 non-null  float64\n",
      " 54  rougher.state.floatbank10_a_level                   19438 non-null  float64\n",
      " 55  rougher.state.floatbank10_b_air                     19438 non-null  float64\n",
      " 56  rougher.state.floatbank10_b_level                   19438 non-null  float64\n",
      " 57  rougher.state.floatbank10_c_air                     19438 non-null  float64\n",
      " 58  rougher.state.floatbank10_c_level                   19438 non-null  float64\n",
      " 59  rougher.state.floatbank10_d_air                     19439 non-null  float64\n",
      " 60  rougher.state.floatbank10_d_level                   19439 non-null  float64\n",
      " 61  rougher.state.floatbank10_e_air                     19003 non-null  float64\n",
      " 62  rougher.state.floatbank10_e_level                   19439 non-null  float64\n",
      " 63  rougher.state.floatbank10_f_air                     19439 non-null  float64\n",
      " 64  rougher.state.floatbank10_f_level                   19439 non-null  float64\n",
      " 65  secondary_cleaner.output.tail_ag                    19437 non-null  float64\n",
      " 66  secondary_cleaner.output.tail_pb                    19427 non-null  float64\n",
      " 67  secondary_cleaner.output.tail_sol                   17691 non-null  float64\n",
      " 68  secondary_cleaner.output.tail_au                    19439 non-null  float64\n",
      " 69  secondary_cleaner.state.floatbank2_a_air            19219 non-null  float64\n",
      " 70  secondary_cleaner.state.floatbank2_a_level          19438 non-null  float64\n",
      " 71  secondary_cleaner.state.floatbank2_b_air            19416 non-null  float64\n",
      " 72  secondary_cleaner.state.floatbank2_b_level          19438 non-null  float64\n",
      " 73  secondary_cleaner.state.floatbank3_a_air            19426 non-null  float64\n",
      " 74  secondary_cleaner.state.floatbank3_a_level          19438 non-null  float64\n",
      " 75  secondary_cleaner.state.floatbank3_b_air            19438 non-null  float64\n",
      " 76  secondary_cleaner.state.floatbank3_b_level          19438 non-null  float64\n",
      " 77  secondary_cleaner.state.floatbank4_a_air            19433 non-null  float64\n",
      " 78  secondary_cleaner.state.floatbank4_a_level          19438 non-null  float64\n",
      " 79  secondary_cleaner.state.floatbank4_b_air            19438 non-null  float64\n",
      " 80  secondary_cleaner.state.floatbank4_b_level          19438 non-null  float64\n",
      " 81  secondary_cleaner.state.floatbank5_a_air            19438 non-null  float64\n",
      " 82  secondary_cleaner.state.floatbank5_a_level          19438 non-null  float64\n",
      " 83  secondary_cleaner.state.floatbank5_b_air            19438 non-null  float64\n",
      " 84  secondary_cleaner.state.floatbank5_b_level          19438 non-null  float64\n",
      " 85  secondary_cleaner.state.floatbank6_a_air            19437 non-null  float64\n",
      " 86  secondary_cleaner.state.floatbank6_a_level          19438 non-null  float64\n",
      "dtypes: float64(86), object(1)\n",
      "memory usage: 12.9+ MB\n"
     ]
    }
   ],
   "source": [
    "data.info()"
   ]
  },
  {
   "cell_type": "code",
   "execution_count": 291,
   "metadata": {},
   "outputs": [
    {
     "data": {
      "text/plain": [
       "9.73512347450521e-15"
      ]
     },
     "execution_count": 291,
     "metadata": {},
     "output_type": "execute_result"
    }
   ],
   "source": [
    "#расчет метрики MAE для признака rougher.output.recovery\n",
    "C = data_train['rougher.output.concentrate_au']\n",
    "F = data_train['rougher.input.feed_au']\n",
    "T = data_train['rougher.output.tail_au']\n",
    "\n",
    "mean_absolute_error(data_train['rougher.output.recovery'], C*(F-T)/(F*(C-T))*100)"
   ]
  },
  {
   "cell_type": "markdown",
   "metadata": {},
   "source": [
    "**Вывод**\n",
    "\n",
    "Также следует отметить, что данные в параметре rougher.output.recovery сосчитаны верно, так как средняя квадратичная ошибка составляет очень малую величину."
   ]
  },
  {
   "cell_type": "code",
   "execution_count": 292,
   "metadata": {},
   "outputs": [
    {
     "name": "stdout",
     "output_type": "stream",
     "text": [
      "date\n",
      "primary_cleaner.input.sulfate\n",
      "primary_cleaner.input.depressant\n",
      "primary_cleaner.input.feed_size\n",
      "primary_cleaner.input.xanthate\n",
      "primary_cleaner.state.floatbank8_a_air\n",
      "primary_cleaner.state.floatbank8_a_level\n",
      "primary_cleaner.state.floatbank8_b_air\n",
      "primary_cleaner.state.floatbank8_b_level\n",
      "primary_cleaner.state.floatbank8_c_air\n",
      "primary_cleaner.state.floatbank8_c_level\n",
      "primary_cleaner.state.floatbank8_d_air\n",
      "primary_cleaner.state.floatbank8_d_level\n",
      "rougher.input.feed_ag\n",
      "rougher.input.feed_pb\n",
      "rougher.input.feed_rate\n",
      "rougher.input.feed_size\n",
      "rougher.input.feed_sol\n",
      "rougher.input.feed_au\n",
      "rougher.input.floatbank10_sulfate\n",
      "rougher.input.floatbank10_xanthate\n",
      "rougher.input.floatbank11_sulfate\n",
      "rougher.input.floatbank11_xanthate\n",
      "rougher.state.floatbank10_a_air\n",
      "rougher.state.floatbank10_a_level\n",
      "rougher.state.floatbank10_b_air\n",
      "rougher.state.floatbank10_b_level\n",
      "rougher.state.floatbank10_c_air\n",
      "rougher.state.floatbank10_c_level\n",
      "rougher.state.floatbank10_d_air\n",
      "rougher.state.floatbank10_d_level\n",
      "rougher.state.floatbank10_e_air\n",
      "rougher.state.floatbank10_e_level\n",
      "rougher.state.floatbank10_f_air\n",
      "rougher.state.floatbank10_f_level\n",
      "secondary_cleaner.state.floatbank2_a_air\n",
      "secondary_cleaner.state.floatbank2_a_level\n",
      "secondary_cleaner.state.floatbank2_b_air\n",
      "secondary_cleaner.state.floatbank2_b_level\n",
      "secondary_cleaner.state.floatbank3_a_air\n",
      "secondary_cleaner.state.floatbank3_a_level\n",
      "secondary_cleaner.state.floatbank3_b_air\n",
      "secondary_cleaner.state.floatbank3_b_level\n",
      "secondary_cleaner.state.floatbank4_a_air\n",
      "secondary_cleaner.state.floatbank4_a_level\n",
      "secondary_cleaner.state.floatbank4_b_air\n",
      "secondary_cleaner.state.floatbank4_b_level\n",
      "secondary_cleaner.state.floatbank5_a_air\n",
      "secondary_cleaner.state.floatbank5_a_level\n",
      "secondary_cleaner.state.floatbank5_b_air\n",
      "secondary_cleaner.state.floatbank5_b_level\n",
      "secondary_cleaner.state.floatbank6_a_air\n",
      "secondary_cleaner.state.floatbank6_a_level\n"
     ]
    }
   ],
   "source": [
    "columns_train = list(pd.Series(data_train.columns))\n",
    "columns_test = list(pd.Series(data_test.columns))\n",
    "total_column = []\n",
    "\n",
    "# составление списка столбцов, которые отсутсвуют в test, но присутствуют в train\n",
    "for column in columns_train:\n",
    "    if column in columns_test:\n",
    "        total_column.append(column)\n",
    "        print(column)"
   ]
  },
  {
   "cell_type": "code",
   "execution_count": 293,
   "metadata": {},
   "outputs": [],
   "source": [
    "data_train = data_train.ffill(axis=0)\n",
    "data_test = data_test.ffill(axis=0)\n",
    "data = data.ffill(axis=0)"
   ]
  },
  {
   "cell_type": "code",
   "execution_count": 294,
   "metadata": {},
   "outputs": [],
   "source": [
    "data_train = data_train.drop_duplicates()\n",
    "data_test = data_test.drop_duplicates()\n",
    "data = data.drop_duplicates()"
   ]
  },
  {
   "cell_type": "markdown",
   "metadata": {},
   "source": [
    "**Вывод**\n",
    "\n",
    "По итогу предобработки данных были выполнены следующие операции:\n",
    "\n",
    "1) Были проанализированы столбцы, которые отсутствуют в test, но присутствуют в train. Был сделан вывод о том, что эти данные еще не были получены в выборке test. Т.е. на момент составления датасета, еще не были известны выходные параметры. Так как в основном пропущены именно они. Также возможно они не замрялись, так как на выходе проводить замер каких-либо параметров является сложным и дорогостоящим;\n",
    "\n",
    "2) Далее были заполнены пропуски во всех столбцах методом ffil, так как данные, которые являются соседними по времени, являются довольно схожими, поэтому является возможным заполнение пропусков таким методом;\n",
    "\n",
    "3) Были удалены явные дубликаты.\n",
    "\n",
    "\n",
    "Также следует отметить, что данные в параметре rougher.output.recovery сосчитаны верно, так как средняя квадратичная ошибка составляет очень малую величину."
   ]
  },
  {
   "cell_type": "markdown",
   "metadata": {},
   "source": [
    "## Анализ данных"
   ]
  },
  {
   "cell_type": "markdown",
   "metadata": {},
   "source": [
    "**Анализ концентраций металлов**"
   ]
  },
  {
   "cell_type": "code",
   "execution_count": 295,
   "metadata": {},
   "outputs": [],
   "source": [
    "columns_data = list(pd.Series(data.columns))\n",
    "concentrate_columns = []\n",
    "\n",
    "# отделение списка столбцов с концентрацией металлов\n",
    "for elem in columns_data:\n",
    "    if 'concentrate' in elem or 'rougher.input.feed_ag' in elem or 'rougher.input.feed_au' in elem or 'rougher.input.feed_pb' in elem:\n",
    "        concentrate_columns.append(elem)\n",
    "\n",
    "concentrate_data = data[concentrate_columns].copy()\n",
    "\n",
    "# выделение концентраций золота\n",
    "concentrate_au = []\n",
    "\n",
    "for concentrate in concentrate_data.columns:\n",
    "    if 'au' in concentrate:\n",
    "        concentrate_au.append(concentrate)\n",
    "concentrate_data_au = concentrate_data[concentrate_au]\n",
    "concentrate_data_au = concentrate_data_au.drop(['rougher.calculation.sulfate_to_au_concentrate'], axis=1)\n",
    "\n",
    "# выделение концентраций серебра\n",
    "concentrate_ag = []\n",
    "\n",
    "for concentrate in concentrate_data.columns:\n",
    "    if 'ag' in concentrate:\n",
    "        concentrate_ag.append(concentrate)\n",
    "concentrate_data_ag = concentrate_data[concentrate_ag].copy()\n",
    "\n",
    "# выделение концентраций свинца\n",
    "concentrate_pb = []\n",
    "\n",
    "for concentrate in concentrate_data.columns:\n",
    "    if 'pb' in concentrate:\n",
    "        concentrate_pb.append(concentrate)\n",
    "concentrate_data_pb = concentrate_data[concentrate_pb].copy()"
   ]
  },
  {
   "cell_type": "code",
   "execution_count": 296,
   "metadata": {},
   "outputs": [],
   "source": [
    "# функция по изменению концентрации со временем\n",
    "def change(concentrate_data_me):\n",
    "    for name, values in concentrate_data_me.iteritems():\n",
    "        values.plot(label=name, style='o', alpha=0.1)\n",
    "        plt.legend(bbox_to_anchor=(1,1), loc=\"upper left\")"
   ]
  },
  {
   "cell_type": "code",
   "execution_count": 297,
   "metadata": {
    "scrolled": false
   },
   "outputs": [
    {
     "data": {
      "text/plain": [
       "final.output.concentrate_au              44.076513\n",
       "primary_cleaner.output.concentrate_au    32.119400\n",
       "rougher.input.feed_au                     8.266097\n",
       "rougher.output.concentrate_au            19.772000\n",
       "dtype: float64"
      ]
     },
     "execution_count": 297,
     "metadata": {},
     "output_type": "execute_result"
    },
    {
     "data": {
      "image/png": "[encoded data removed]",
      "text/plain": [
       "<Figure size 432x288 with 1 Axes>"
      ]
     },
     "metadata": {
      "needs_background": "light"
     },
     "output_type": "display_data"
    }
   ],
   "source": [
    "change(concentrate_data_au)\n",
    "concentrate_data_au.mean()"
   ]
  },
  {
   "cell_type": "code",
   "execution_count": 298,
   "metadata": {
    "scrolled": true
   },
   "outputs": [
    {
     "data": {
      "text/plain": [
       "final.output.concentrate_ag               5.168387\n",
       "primary_cleaner.output.concentrate_ag     8.442408\n",
       "rougher.input.feed_ag                     8.794927\n",
       "rougher.output.concentrate_ag            11.994759\n",
       "dtype: float64"
      ]
     },
     "execution_count": 298,
     "metadata": {},
     "output_type": "execute_result"
    },
    {
     "data": {
      "image/png": "[encoded data removed]",
      "text/plain": [
       "<Figure size 432x288 with 1 Axes>"
      ]
     },
     "metadata": {
      "needs_background": "light"
     },
     "output_type": "display_data"
    }
   ],
   "source": [
    "change(concentrate_data_ag)\n",
    "concentrate_data_ag.mean()"
   ]
  },
  {
   "cell_type": "code",
   "execution_count": 299,
   "metadata": {
    "scrolled": true
   },
   "outputs": [
    {
     "data": {
      "text/plain": [
       "final.output.concentrate_pb              9.978821\n",
       "primary_cleaner.output.concentrate_pb    9.810317\n",
       "rougher.input.feed_pb                    3.585096\n",
       "rougher.output.concentrate_pb            7.606272\n",
       "dtype: float64"
      ]
     },
     "execution_count": 299,
     "metadata": {},
     "output_type": "execute_result"
    },
    {
     "data": {
      "image/png": "[encoded data removed]",
      "text/plain": [
       "<Figure size 432x288 with 1 Axes>"
      ]
     },
     "metadata": {
      "needs_background": "light"
     },
     "output_type": "display_data"
    }
   ],
   "source": [
    "change(concentrate_data_pb)\n",
    "concentrate_data_pb.mean()"
   ]
  },
  {
   "cell_type": "markdown",
   "metadata": {},
   "source": [
    "**Вывод** \n",
    "\n",
    "Из анализа концентраций различных металлов после различных этапов очистки можно сделать следующий вывод:\n",
    "\n",
    "1) Золото. На конечном этапе концентрация золота намного выше, чем на начальном. Также следует отметить тот факт, что после флотации концентрация золота уменьшилась.\n",
    "\n",
    "2) Серебро. Здесь границы становятся более размытыми. Но в целом можно сделать вывод, что на финальном этапе концентрация сербра в руде значительно меньше;\n",
    "\n",
    "3) Свинец. По свинцу сделать вывод сложно. Все границы являются размытыми, поэтому можно сделать вывод, что концентрация свинца меняется не сильно. Видно различие лишб на этапе флотации и первичной очистки, далее концентрация почти не изменяется."
   ]
  },
  {
   "cell_type": "markdown",
   "metadata": {},
   "source": [
    "**Анализ рамезров глобул**"
   ]
  },
  {
   "cell_type": "code",
   "execution_count": 300,
   "metadata": {},
   "outputs": [
    {
     "data": {
      "text/plain": [
       "['primary_cleaner.input.feed_size', 'rougher.input.feed_size']"
      ]
     },
     "metadata": {},
     "output_type": "display_data"
    }
   ],
   "source": [
    "# отделение списка столбцов с размером глобул \n",
    "columns_feed = list(pd.Series(data.columns))\n",
    "feed_size_column =[]\n",
    "\n",
    "for elem in columns_feed:\n",
    "    if 'size' in elem:\n",
    "        feed_size_column.append(elem)\n",
    "\n",
    "display(feed_size_column)\n",
    "# создание тестовой и тренировочной выборки с размером глобул\n",
    "feed_data_train = data_train[feed_size_column].copy()\n",
    "feed_data_test = data_test[feed_size_column].copy()"
   ]
  },
  {
   "cell_type": "code",
   "execution_count": 301,
   "metadata": {
    "scrolled": true
   },
   "outputs": [
    {
     "data": {
      "text/plain": [
       "<AxesSubplot:>"
      ]
     },
     "execution_count": 301,
     "metadata": {},
     "output_type": "execute_result"
    },
    {
     "data": {
      "image/png": "[encoded data removed]",
      "text/plain": [
       "<Figure size 432x288 with 1 Axes>"
      ]
     },
     "metadata": {
      "needs_background": "light"
     },
     "output_type": "display_data"
    }
   ],
   "source": [
    "primary_cleaner = {\"train\": pd.Series(feed_data_train['primary_cleaner.input.feed_size'], index=feed_data_train.index),\n",
    "                   \"test\": pd.Series(feed_data_test['primary_cleaner.input.feed_size'], index=feed_data_test.index)\n",
    "                  }\n",
    "primary_cleaner = pd.DataFrame(primary_cleaner)\n",
    "\n",
    "primary_cleaner.boxplot()"
   ]
  },
  {
   "cell_type": "code",
   "execution_count": 302,
   "metadata": {},
   "outputs": [
    {
     "data": {
      "text/plain": [
       "<AxesSubplot:>"
      ]
     },
     "execution_count": 302,
     "metadata": {},
     "output_type": "execute_result"
    },
    {
     "data": {
      "image/png": "[encoded data removed]",
      "text/plain": [
       "<Figure size 432x288 with 1 Axes>"
      ]
     },
     "metadata": {
      "needs_background": "light"
     },
     "output_type": "display_data"
    }
   ],
   "source": [
    "rougher = {\"train\": pd.Series(feed_data_train['rougher.input.feed_size'], index=feed_data_train.index),\n",
    "                   \"test\": pd.Series(feed_data_test['rougher.input.feed_size'], index=feed_data_test.index)\n",
    "                  }\n",
    "rougher = pd.DataFrame(rougher)\n",
    "\n",
    "rougher.boxplot()"
   ]
  },
  {
   "cell_type": "markdown",
   "metadata": {},
   "source": [
    "**Вывод**\n",
    "\n",
    "Итого, можно сделать вывод о том, что распределения по размеру глобул сырья в тестовой и тренировочной выборках отличаются не сильно."
   ]
  },
  {
   "cell_type": "markdown",
   "metadata": {},
   "source": [
    "**Анализ суммарной концентрации всех веществ**"
   ]
  },
  {
   "cell_type": "code",
   "execution_count": 303,
   "metadata": {},
   "outputs": [],
   "source": [
    "# суммирование всех металлов \n",
    "\n",
    "cols_final = ['final.output.concentrate_ag', 'final.output.concentrate_au', 'final.output.concentrate_pb', 'final.output.concentrate_sol']\n",
    "data['sum_final'] = data[cols_final].sum(axis=1)\n",
    "\n",
    "\n",
    "cols_primary = ['primary_cleaner.output.concentrate_ag', 'primary_cleaner.output.concentrate_au', 'primary_cleaner.output.concentrate_pb', 'primary_cleaner.output.concentrate_sol']\n",
    "data['sum_primary_cleaner'] = data[cols_primary].sum(axis=1)\n",
    "\n",
    "cols_rougher = ['rougher.output.concentrate_ag', 'rougher.output.concentrate_au', 'rougher.output.concentrate_pb', 'rougher.output.concentrate_sol']\n",
    "data['sum_rougher'] = data[cols_rougher].sum(axis=1)\n",
    "\n",
    "cols_input = ['rougher.input.feed_ag', 'rougher.input.feed_au', 'rougher.input.feed_pb', 'rougher.input.feed_sol']\n",
    "data['sum_input'] = data[cols_input].sum(axis=1)"
   ]
  },
  {
   "cell_type": "code",
   "execution_count": 304,
   "metadata": {
    "scrolled": true
   },
   "outputs": [
    {
     "data": {
      "text/plain": [
       "<AxesSubplot:>"
      ]
     },
     "execution_count": 304,
     "metadata": {},
     "output_type": "execute_result"
    },
    {
     "data": {
      "image/png": "[encoded data removed]",
      "text/plain": [
       "<Figure size 432x288 with 1 Axes>"
      ]
     },
     "metadata": {
      "needs_background": "light"
     },
     "output_type": "display_data"
    }
   ],
   "source": [
    "data['sum_rougher'].hist(bins=100)"
   ]
  },
  {
   "cell_type": "code",
   "execution_count": 305,
   "metadata": {
    "scrolled": true
   },
   "outputs": [
    {
     "data": {
      "text/plain": [
       "<AxesSubplot:>"
      ]
     },
     "execution_count": 305,
     "metadata": {},
     "output_type": "execute_result"
    },
    {
     "data": {
      "image/png": "[encoded data removed]",
      "text/plain": [
       "<Figure size 432x288 with 1 Axes>"
      ]
     },
     "metadata": {
      "needs_background": "light"
     },
     "output_type": "display_data"
    }
   ],
   "source": [
    "data['sum_primary_cleaner'].hist(bins=100)"
   ]
  },
  {
   "cell_type": "code",
   "execution_count": 306,
   "metadata": {
    "scrolled": true
   },
   "outputs": [
    {
     "data": {
      "text/plain": [
       "<AxesSubplot:>"
      ]
     },
     "execution_count": 306,
     "metadata": {},
     "output_type": "execute_result"
    },
    {
     "data": {
      "image/png": "[encoded data removed]",
      "text/plain": [
       "<Figure size 432x288 with 1 Axes>"
      ]
     },
     "metadata": {
      "needs_background": "light"
     },
     "output_type": "display_data"
    }
   ],
   "source": [
    "data['sum_final'].hist(bins=100)"
   ]
  },
  {
   "cell_type": "code",
   "execution_count": 307,
   "metadata": {
    "scrolled": true
   },
   "outputs": [
    {
     "data": {
      "text/plain": [
       "<AxesSubplot:>"
      ]
     },
     "execution_count": 307,
     "metadata": {},
     "output_type": "execute_result"
    },
    {
     "data": {
      "image/png": "[encoded data removed]",
      "text/plain": [
       "<Figure size 432x288 with 1 Axes>"
      ]
     },
     "metadata": {
      "needs_background": "light"
     },
     "output_type": "display_data"
    }
   ],
   "source": [
    "data['sum_input'].hist(bins=100)"
   ]
  },
  {
   "cell_type": "code",
   "execution_count": 308,
   "metadata": {},
   "outputs": [],
   "source": [
    "for col in ['sum_input', 'sum_rougher', 'sum_final', 'sum_primary_cleaner']:\n",
    "    data = data.loc[data[col] > 0]"
   ]
  },
  {
   "cell_type": "code",
   "execution_count": 309,
   "metadata": {},
   "outputs": [],
   "source": [
    "data_train = data_train.set_index('date')\n",
    "data_test = data_test.set_index('date')\n",
    "data = data.set_index('date')\n",
    "\n",
    "data_train = data_train.loc[data_train.index.isin(data.index)]\n",
    "data_test = data_test.loc[data_test.index.isin(data.index)]"
   ]
  },
  {
   "cell_type": "markdown",
   "metadata": {},
   "source": [
    "**Вывод**\n",
    "\n",
    "Явно прослеживается увеличение концентрации метоаллов в руде с увеличением количества обаботок."
   ]
  },
  {
   "cell_type": "markdown",
   "metadata": {},
   "source": [
    "## Модель"
   ]
  },
  {
   "cell_type": "markdown",
   "metadata": {},
   "source": [
    "***rougher.output.recovery***"
   ]
  },
  {
   "cell_type": "markdown",
   "metadata": {},
   "source": [
    "**Выбор признаков**"
   ]
  },
  {
   "cell_type": "code",
   "execution_count": 310,
   "metadata": {},
   "outputs": [],
   "source": [
    "# так как rougher это отдельный этап для него отберем обучающие признаки, связанные только с ним\n",
    "columns_test = list(pd.Series(data_test.columns))\n",
    "columns_rougher = []\n",
    "\n",
    "for elem in columns_test:\n",
    "    if 'rougher' in elem:\n",
    "        columns_rougher.append(elem)\n",
    "\n",
    "data_test_rougher = data_test[columns_rougher]\n",
    "data_train_rougher = data_train[columns_rougher]\n",
    "\n",
    "data_target = data['rougher.output.recovery']\n",
    "\n",
    "data_train_rougher = data_train_rougher[data_test_rougher.columns]"
   ]
  },
  {
   "cell_type": "markdown",
   "metadata": {},
   "source": [
    "**Разделение на целевой и обучающий признаки**"
   ]
  },
  {
   "cell_type": "code",
   "execution_count": 315,
   "metadata": {},
   "outputs": [],
   "source": [
    "target_test_rougher = data_target.loc[data_target.index.isin(data_test_rougher.index)]\n",
    "features_test_rougher = data_test_rougher\n",
    "\n",
    "target_train_rougher = data_target.loc[data_target.index.isin(data_train_rougher.index)]\n",
    "features_train_rougher = data_train_rougher"
   ]
  },
  {
   "cell_type": "code",
   "execution_count": 316,
   "metadata": {},
   "outputs": [],
   "source": [
    "target_test_rougher = target_test_rougher.reset_index(drop=True)\n",
    "features_test_rougher = features_test_rougher.reset_index(drop=True)\n",
    "target_train_rougher = target_train_rougher.reset_index(drop=True)\n",
    "features_train_rougher = features_train_rougher.reset_index(drop=True)"
   ]
  },
  {
   "cell_type": "markdown",
   "metadata": {},
   "source": [
    "***final.output.recovery***"
   ]
  },
  {
   "cell_type": "markdown",
   "metadata": {},
   "source": [
    "**Выбор признаков**"
   ]
  },
  {
   "cell_type": "code",
   "execution_count": 320,
   "metadata": {},
   "outputs": [],
   "source": [
    "data_test_final = data_test.copy()\n",
    "data_train_final = data_train.copy()\n",
    "\n",
    "data_target = data['final.output.recovery']\n",
    "\n",
    "data_train_final = data_train_final[data_test_final.columns]"
   ]
  },
  {
   "cell_type": "markdown",
   "metadata": {},
   "source": [
    "**Разделение на целевой и обучающий признаки**"
   ]
  },
  {
   "cell_type": "code",
   "execution_count": 323,
   "metadata": {},
   "outputs": [],
   "source": [
    "target_test_final = data_target.loc[data_target.index.isin(data_test_final.index)]\n",
    "features_test_final = data_test_final\n",
    "\n",
    "target_train_final = data_target.loc[data_target.index.isin(data_train_final.index)]\n",
    "features_train_final = data_train_final"
   ]
  },
  {
   "cell_type": "code",
   "execution_count": 324,
   "metadata": {},
   "outputs": [],
   "source": [
    "target_test_final = target_test_final.reset_index(drop=True)\n",
    "features_test_final = features_test_final.reset_index(drop=True)\n",
    "target_train_final = target_train_final.reset_index(drop=True)\n",
    "features_train_final = features_train_final.reset_index(drop=True)"
   ]
  },
  {
   "cell_type": "markdown",
   "metadata": {},
   "source": [
    "**Функция sMAPE**"
   ]
  },
  {
   "cell_type": "code",
   "execution_count": 326,
   "metadata": {},
   "outputs": [],
   "source": [
    "def sMAPE_func(targ, pred):\n",
    "    return(1/len(targ)*100*sum((abs(pred - targ) * 2 / (abs(pred) + abs(targ)))))\n",
    "\n",
    "def sMAPE_func_final(rougher, final):\n",
    "    return rougher*0.25 + final*0.75"
   ]
  },
  {
   "cell_type": "markdown",
   "metadata": {},
   "source": [
    "**Обучеиние моделей**"
   ]
  },
  {
   "cell_type": "markdown",
   "metadata": {},
   "source": [
    "**Линейная регрессия**"
   ]
  },
  {
   "cell_type": "code",
   "execution_count": 333,
   "metadata": {},
   "outputs": [
    {
     "name": "stdout",
     "output_type": "stream",
     "text": [
      "9.008842290513728\n"
     ]
    }
   ],
   "source": [
    "sample_size = int(len(target_train_rougher)/3)\n",
    "sMAPE = []\n",
    "\n",
    "for i in range(0, len(target_train_rougher), sample_size):\n",
    "    valid_indexes = features_train_rougher.iloc[i: i + sample_size].index\n",
    "    train_indexes = features_train_rougher.loc[features_train_rougher.index.isin(valid_indexes) == False].index\n",
    "    model_reg = LinearRegression()\n",
    "    \n",
    "    # rougher\n",
    "    features_train = features_train_rougher.loc[train_indexes]\n",
    "    target_train = target_train_rougher.loc[train_indexes]\n",
    "    \n",
    "    features_valid = features_train_rougher.loc[valid_indexes]\n",
    "    target_valid = target_train_rougher.loc[valid_indexes]\n",
    "    \n",
    "    model_reg = model_reg.fit(features_train, target_train)\n",
    "    predict_valid = model_reg.predict(features_valid)\n",
    "    \n",
    "    sMAPE.append(sMAPE_func(target_valid, predict_valid))\n",
    "\n",
    "sMAPE_r = sum(sMAPE)/len(sMAPE)\n",
    "print(sum(sMAPE)/len(sMAPE))"
   ]
  },
  {
   "cell_type": "code",
   "execution_count": 336,
   "metadata": {},
   "outputs": [
    {
     "name": "stdout",
     "output_type": "stream",
     "text": [
      "13.421883586284784\n"
     ]
    }
   ],
   "source": [
    "sample_size = int(len(target_train_final)/3)\n",
    "sMAPE = []\n",
    "\n",
    "for i in range(0, len(target_train_final), sample_size):\n",
    "    valid_indexes = target_train_final.iloc[i: i + sample_size].index\n",
    "    train_indexes = target_train_final.loc[target_train_final.index.isin(valid_indexes) == False].index\n",
    "    model_reg = LinearRegression()\n",
    "    \n",
    "    #final\n",
    "    features_train = features_train_final.loc[train_indexes]\n",
    "    target_train = target_train_final.loc[train_indexes]\n",
    "    \n",
    "    features_valid = features_train_final.loc[valid_indexes]\n",
    "    target_valid = target_train_final.loc[valid_indexes]\n",
    "\n",
    "    model_reg = model_reg.fit(features_train, target_train)\n",
    "    predict_valid = model_reg.predict(features_valid)\n",
    "    \n",
    "    sMAPE.append(sMAPE_func(target_valid, predict_valid))\n",
    "\n",
    "sMAPE_f = sum(sMAPE)/len(sMAPE)\n",
    "print(sum(sMAPE)/len(sMAPE))"
   ]
  },
  {
   "cell_type": "markdown",
   "metadata": {},
   "source": [
    "**Лес деревьев**"
   ]
  },
  {
   "cell_type": "code",
   "execution_count": 337,
   "metadata": {},
   "outputs": [
    {
     "name": "stdout",
     "output_type": "stream",
     "text": [
      "7.84115094952011\n",
      "30\n",
      "7\n"
     ]
    }
   ],
   "source": [
    "sample_size = int(len(target_train_rougher)/3)\n",
    "\n",
    "best_sMAPE = 1000\n",
    "best_est = 0\n",
    "best_depth = 0\n",
    "\n",
    "for est in range(30, 91, 10):\n",
    "    for depth in range (7, 10):\n",
    "        result = []\n",
    "        for i in range(0, len(target_train_rougher), sample_size):\n",
    "            valid_indexes = [k for k in range(i, i + sample_size)]\n",
    "            train_indexes = [j for j in range(i)] + [j for j in range(i + sample_size, len(target_train_rougher))]\n",
    "            model_forest = RandomForestRegressor(random_state=12345, n_estimators=est, max_depth=depth)\n",
    "            \n",
    "            # rougher\n",
    "            features_train = features_train_rougher.loc[train_indexes]\n",
    "            target_train = target_train_rougher.loc[train_indexes]\n",
    "\n",
    "            features_valid = features_train_rougher.loc[valid_indexes]\n",
    "            target_valid = target_train_rougher.loc[valid_indexes]\n",
    "\n",
    "            model_forest = model_forest.fit(features_train, target_train)\n",
    "            predict_valid = model_forest.predict(features_valid)\n",
    "\n",
    "            result.append(sMAPE_func(target_valid, predict_valid))\n",
    "        \n",
    "        sMAPE =  sum(result) / len(result)\n",
    "        \n",
    "        # поиск наилучших гиперпараметров\n",
    "        if sMAPE < best_sMAPE:\n",
    "            best_sMAPE = sMAPE\n",
    "            best_est = est\n",
    "            best_depth = depth\n",
    "\n",
    "best_sMAPE_r = best_sMAPE      \n",
    "best_est_r = best_est\n",
    "best_depth_r = best_depth\n",
    "print(best_sMAPE_r)\n",
    "print(best_est_r)\n",
    "print(best_depth_r)"
   ]
  },
  {
   "cell_type": "code",
   "execution_count": 338,
   "metadata": {},
   "outputs": [
    {
     "name": "stdout",
     "output_type": "stream",
     "text": [
      "10.340952298753288\n",
      "70\n",
      "7\n"
     ]
    }
   ],
   "source": [
    "sample_size = int(len(target_train_final)/3)\n",
    "\n",
    "best_sMAPE = 1000\n",
    "best_est = 0\n",
    "best_depth = 0\n",
    "\n",
    "for est in range(30, 91, 10):\n",
    "    for depth in range (7, 10):\n",
    "        result = []\n",
    "        for i in range(0, len(target_train_final), sample_size):\n",
    "            valid_indexes = [k for k in range(i, i + sample_size)]\n",
    "            train_indexes = [j for j in range(i)] + [j for j in range(i + sample_size, len(target_train_final))]\n",
    "            model_forest = RandomForestRegressor(random_state=12345, n_estimators=est, max_depth=depth)\n",
    "            \n",
    "            #final\n",
    "            features_train = features_train_final.loc[train_indexes]\n",
    "            target_train = target_train_final.loc[train_indexes]\n",
    "\n",
    "            features_valid = features_train_final.loc[valid_indexes]\n",
    "            target_valid = target_train_final.loc[valid_indexes]\n",
    "\n",
    "            model_forest = model_forest.fit(features_train, target_train)\n",
    "            predict_valid = model_forest.predict(features_valid)\n",
    "\n",
    "            result.append(sMAPE_func(target_valid, predict_valid))\n",
    "        \n",
    "        sMAPE =  sum(result) / len(result)\n",
    "        \n",
    "        # поиск наилучших гиперпараметров\n",
    "        if sMAPE < best_sMAPE:\n",
    "            best_sMAPE = sMAPE\n",
    "            best_est = est\n",
    "            best_depth = depth\n",
    "\n",
    "best_sMAPE_f = best_sMAPE      \n",
    "best_est_f = best_est\n",
    "best_depth_f = best_depth\n",
    "print(best_sMAPE_f)\n",
    "print(best_est_f)\n",
    "print(best_depth_f)"
   ]
  },
  {
   "cell_type": "markdown",
   "metadata": {},
   "source": [
    "**Дерево решений**"
   ]
  },
  {
   "cell_type": "code",
   "execution_count": 345,
   "metadata": {},
   "outputs": [
    {
     "name": "stdout",
     "output_type": "stream",
     "text": [
      "7.97408811578078\n",
      "2\n"
     ]
    }
   ],
   "source": [
    "sample_size = int(len(target_train_rougher)/3)\n",
    "\n",
    "best_sMAPE = 1000\n",
    "best_depth = 0\n",
    "\n",
    "for depth in range (1, 15):\n",
    "    result = []\n",
    "    for i in range(0, len(target_train_rougher), sample_size):\n",
    "        valid_indexes = [k for k in range(i, i + sample_size)]\n",
    "        train_indexes = [j for j in range(i)] + [j for j in range(i + sample_size, len(target_train_rougher))]\n",
    "        model_dec = DecisionTreeRegressor(random_state=12345, max_depth=depth)\n",
    "            \n",
    "        # rougher\n",
    "        features_train = features_train_rougher.loc[train_indexes]\n",
    "        target_train = target_train_rougher.loc[train_indexes]\n",
    "\n",
    "        features_valid = features_train_rougher.loc[valid_indexes]\n",
    "        target_valid = target_train_rougher.loc[valid_indexes]\n",
    "\n",
    "        model_dec = model_dec.fit(features_train, target_train)\n",
    "        predict_valid = model_dec.predict(features_valid)\n",
    "\n",
    "        result.append(sMAPE_func(target_valid, predict_valid))\n",
    "    \n",
    "    sMAPE =  sum(result) / len(result)\n",
    "    \n",
    "    # поиск наилучших гиперпараметров\n",
    "    if sMAPE < best_sMAPE:\n",
    "        best_sMAPE = sMAPE\n",
    "        best_depth = depth\n",
    "\n",
    "best_sMAPE_r = best_sMAPE      \n",
    "best_depth_r = best_depth\n",
    "print(best_sMAPE_r)\n",
    "print(best_depth_r)"
   ]
  },
  {
   "cell_type": "code",
   "execution_count": 346,
   "metadata": {},
   "outputs": [
    {
     "name": "stdout",
     "output_type": "stream",
     "text": [
      "10.289734998154735\n",
      "1\n"
     ]
    }
   ],
   "source": [
    "sample_size = int(len(target_train_final)/3)\n",
    "\n",
    "best_sMAPE = 1000\n",
    "best_depth = 0\n",
    "\n",
    "for depth in range (1, 15):\n",
    "    result = []\n",
    "    for i in range(0, len(target_train_final), sample_size):\n",
    "        valid_indexes = [k for k in range(i, i + sample_size)]\n",
    "        train_indexes = [j for j in range(i)] + [j for j in range(i + sample_size, len(target_train_final))]\n",
    "        model_dec = DecisionTreeRegressor(random_state=12345, max_depth=depth)\n",
    "            \n",
    "        # final\n",
    "        features_train = features_train_final.loc[train_indexes]\n",
    "        target_train = target_train_final.loc[train_indexes]\n",
    "\n",
    "        features_valid = features_train_final.loc[valid_indexes]\n",
    "        target_valid = target_train_final.loc[valid_indexes]\n",
    "\n",
    "        model_dec = model_dec.fit(features_train, target_train)\n",
    "        predict_valid = model_dec.predict(features_valid)\n",
    "\n",
    "        result.append(sMAPE_func(target_valid, predict_valid))\n",
    "    \n",
    "    sMAPE =  sum(result) / len(result)\n",
    "    \n",
    "    # поиск наилучших гиперпараметров\n",
    "    if sMAPE < best_sMAPE:\n",
    "        best_sMAPE = sMAPE\n",
    "        best_depth = depth\n",
    "\n",
    "best_sMAPE_f = best_sMAPE      \n",
    "best_depth_f = best_depth\n",
    "print(best_sMAPE_f)\n",
    "print(best_depth_f)"
   ]
  },
  {
   "cell_type": "markdown",
   "metadata": {},
   "source": [
    "**Вывод**\n",
    "\n",
    "Итого, по параметру rougher.output.recovery можно сделать вывод о том, что наилучшей является модель обучающего леса деревьев с максимальным количеством деревьев 30 и глубиной 7. Погрешность составляет 7,84%.\n",
    "\n",
    "Итого, по параметру final.output.recovery можно сделать вывод о том, что наилучшей является модель обучающего дерева с максимальной глубиной 1. Погрешность составляет 10,3%."
   ]
  },
  {
   "cell_type": "markdown",
   "metadata": {},
   "source": [
    "**Проверка тестовой выборки**"
   ]
  },
  {
   "cell_type": "code",
   "execution_count": 352,
   "metadata": {},
   "outputs": [],
   "source": [
    "model_forest = RandomForestRegressor(random_state=12345, n_estimators=30, max_depth=7)\n",
    "\n",
    "model_forest = model_forest.fit(features_train_rougher, target_train_rougher)\n",
    "predict_test = model_forest.predict(features_test_rougher)\n",
    "\n",
    "sMAPE_func_r = sMAPE_func(target_test_rougher, predict_test)"
   ]
  },
  {
   "cell_type": "code",
   "execution_count": 353,
   "metadata": {},
   "outputs": [],
   "source": [
    "model_dec = DecisionTreeRegressor(random_state=12345, max_depth=1)\n",
    "\n",
    "model_dec = model_dec.fit(features_train_final, target_train_final)\n",
    "predict_test = model_dec.predict(features_test_final)\n",
    "\n",
    "sMAPE_func_f = sMAPE_func(target_test_final, predict_test)"
   ]
  },
  {
   "cell_type": "code",
   "execution_count": 354,
   "metadata": {},
   "outputs": [
    {
     "name": "stdout",
     "output_type": "stream",
     "text": [
      "7.198994887216875\n"
     ]
    }
   ],
   "source": [
    "print(sMAPE_func_final(sMAPE_func_r, sMAPE_func_f))"
   ]
  },
  {
   "cell_type": "code",
   "execution_count": 360,
   "metadata": {},
   "outputs": [
    {
     "name": "stdout",
     "output_type": "stream",
     "text": [
      "12.946035803347957\n"
     ]
    }
   ],
   "source": [
    "dummy_regr = DummyRegressor(strategy=\"mean\")\n",
    "\n",
    "dummy_regr.fit(features_train_rougher, target_train_final)\n",
    "dummy_pred = dummy_regr.predict(features_test_rougher)\n",
    "sMAPE_rougher = sMAPE_func(target_test_rougher, dummy_pred)\n",
    "\n",
    "dummy_regr.fit(features_train_final, target_train_final)\n",
    "dummy_pred = dummy_regr.predict(features_test_final)\n",
    "sMAPE_final = sMAPE_func(target_test_final, dummy_pred)\n",
    "\n",
    "print(sMAPE_func_final(sMAPE_rougher, sMAPE_final))"
   ]
  },
  {
   "cell_type": "markdown",
   "metadata": {},
   "source": [
    "**Вывод**\n",
    "\n",
    "Была обучена модель для предсказания двух целевых признаков. Итоговое sMAPE по данным моделям составляем 7,19%. При этом sMAPE константной модели составляет 13%.\n",
    "\n",
    "Итого, применение машинного обучения в данной отрасли не явлется рекомендованным, так как значение предсказанное значение отличается от константного всего лишь на 6%."
   ]
  }
 ],
 "metadata": {
  "ExecuteTimeLog": [
   {
    "duration": 368,
    "start_time": "2023-04-24T17:59:55.126Z"
   },
   {
    "duration": 1904,
    "start_time": "2023-04-24T18:00:52.712Z"
   },
   {
    "duration": 17,
    "start_time": "2023-04-24T18:01:14.387Z"
   },
   {
    "duration": 13,
    "start_time": "2023-04-24T18:03:06.242Z"
   },
   {
    "duration": 15,
    "start_time": "2023-04-24T18:03:17.295Z"
   },
   {
    "duration": 58,
    "start_time": "2023-04-24T18:12:04.066Z"
   },
   {
    "duration": 11,
    "start_time": "2023-04-24T18:12:21.714Z"
   },
   {
    "duration": 10,
    "start_time": "2023-04-24T18:12:54.557Z"
   },
   {
    "duration": 13,
    "start_time": "2023-04-24T18:13:16.793Z"
   },
   {
    "duration": 11,
    "start_time": "2023-04-24T18:13:30.842Z"
   },
   {
    "duration": 9,
    "start_time": "2023-04-24T18:14:59.663Z"
   },
   {
    "duration": 12,
    "start_time": "2023-04-24T18:15:11.733Z"
   },
   {
    "duration": 10,
    "start_time": "2023-04-24T18:15:23.796Z"
   },
   {
    "duration": 9,
    "start_time": "2023-04-24T18:15:46.306Z"
   },
   {
    "duration": 8,
    "start_time": "2023-04-24T18:16:01.254Z"
   },
   {
    "duration": 4,
    "start_time": "2023-04-24T18:16:17.520Z"
   },
   {
    "duration": 5,
    "start_time": "2023-04-24T18:16:33.039Z"
   },
   {
    "duration": 5,
    "start_time": "2023-04-24T18:16:48.333Z"
   },
   {
    "duration": 5,
    "start_time": "2023-04-24T18:16:56.597Z"
   },
   {
    "duration": 4,
    "start_time": "2023-04-24T18:19:04.787Z"
   },
   {
    "duration": 4,
    "start_time": "2023-04-24T18:19:29.205Z"
   },
   {
    "duration": 10,
    "start_time": "2023-04-24T18:23:11.846Z"
   },
   {
    "duration": 12,
    "start_time": "2023-04-24T18:24:30.435Z"
   },
   {
    "duration": 7,
    "start_time": "2023-04-24T18:24:55.310Z"
   },
   {
    "duration": 13,
    "start_time": "2023-04-24T18:25:12.364Z"
   },
   {
    "duration": 10,
    "start_time": "2023-04-24T18:25:58.689Z"
   },
   {
    "duration": 13,
    "start_time": "2023-04-24T18:26:18.109Z"
   },
   {
    "duration": 73,
    "start_time": "2023-04-24T18:26:41.225Z"
   },
   {
    "duration": 12,
    "start_time": "2023-04-24T18:26:47.952Z"
   },
   {
    "duration": 12,
    "start_time": "2023-04-24T18:26:57.885Z"
   },
   {
    "duration": 4,
    "start_time": "2023-04-24T18:29:14.653Z"
   },
   {
    "duration": 14,
    "start_time": "2023-04-24T18:29:19.290Z"
   },
   {
    "duration": 3,
    "start_time": "2023-04-24T18:30:33.355Z"
   },
   {
    "duration": 7,
    "start_time": "2023-04-24T18:30:59.818Z"
   },
   {
    "duration": 8,
    "start_time": "2023-04-24T18:32:27.106Z"
   },
   {
    "duration": 6,
    "start_time": "2023-04-24T18:32:34.509Z"
   },
   {
    "duration": 669,
    "start_time": "2023-04-24T18:40:31.047Z"
   },
   {
    "duration": 1265,
    "start_time": "2023-04-24T18:42:16.609Z"
   },
   {
    "duration": 12,
    "start_time": "2023-04-24T18:43:13.591Z"
   },
   {
    "duration": 7,
    "start_time": "2023-04-24T18:43:29.286Z"
   },
   {
    "duration": 7,
    "start_time": "2023-04-24T18:43:59.236Z"
   },
   {
    "duration": 4,
    "start_time": "2023-04-24T18:45:58.471Z"
   },
   {
    "duration": 7,
    "start_time": "2023-04-24T18:46:36.738Z"
   },
   {
    "duration": 13,
    "start_time": "2023-04-24T18:48:58.475Z"
   },
   {
    "duration": 11,
    "start_time": "2023-04-24T18:49:29.761Z"
   },
   {
    "duration": 13,
    "start_time": "2023-04-24T18:49:51.416Z"
   },
   {
    "duration": 11,
    "start_time": "2023-04-24T18:50:03.773Z"
   },
   {
    "duration": 11,
    "start_time": "2023-04-24T18:50:11.973Z"
   },
   {
    "duration": 244,
    "start_time": "2023-04-24T19:27:59.459Z"
   },
   {
    "duration": 23,
    "start_time": "2023-04-24T19:28:30.493Z"
   },
   {
    "duration": 23,
    "start_time": "2023-04-24T19:28:35.142Z"
   },
   {
    "duration": 21,
    "start_time": "2023-04-24T19:28:41.928Z"
   },
   {
    "duration": 126,
    "start_time": "2023-04-24T19:29:14.440Z"
   },
   {
    "duration": 77,
    "start_time": "2023-04-24T19:29:22.708Z"
   },
   {
    "duration": 75,
    "start_time": "2023-04-24T19:29:38.888Z"
   },
   {
    "duration": 8,
    "start_time": "2023-04-24T20:07:29.798Z"
   },
   {
    "duration": 3,
    "start_time": "2023-04-24T20:07:34.748Z"
   },
   {
    "duration": 654,
    "start_time": "2023-04-24T20:07:34.758Z"
   },
   {
    "duration": 17,
    "start_time": "2023-04-24T20:07:35.414Z"
   },
   {
    "duration": 14,
    "start_time": "2023-04-24T20:07:35.432Z"
   },
   {
    "duration": 20,
    "start_time": "2023-04-24T20:07:35.448Z"
   },
   {
    "duration": 31,
    "start_time": "2023-04-24T20:07:35.469Z"
   },
   {
    "duration": 5,
    "start_time": "2023-04-24T20:07:35.501Z"
   },
   {
    "duration": 11,
    "start_time": "2023-04-24T20:07:55.602Z"
   },
   {
    "duration": 6,
    "start_time": "2023-04-24T20:08:14.262Z"
   },
   {
    "duration": 4,
    "start_time": "2023-04-24T20:08:20.956Z"
   },
   {
    "duration": 4,
    "start_time": "2023-04-24T20:08:26.904Z"
   },
   {
    "duration": 4,
    "start_time": "2023-04-24T20:08:28.180Z"
   },
   {
    "duration": 11,
    "start_time": "2023-04-24T20:08:52.070Z"
   },
   {
    "duration": 525,
    "start_time": "2023-04-24T20:09:16.027Z"
   },
   {
    "duration": 447,
    "start_time": "2023-04-24T20:09:40.572Z"
   },
   {
    "duration": 11,
    "start_time": "2023-04-24T20:09:50.213Z"
   },
   {
    "duration": 480,
    "start_time": "2023-04-24T20:10:03.805Z"
   },
   {
    "duration": 11,
    "start_time": "2023-04-24T20:10:04.907Z"
   },
   {
    "duration": 2,
    "start_time": "2023-04-24T20:13:43.340Z"
   },
   {
    "duration": 608,
    "start_time": "2023-04-24T20:13:43.344Z"
   },
   {
    "duration": 14,
    "start_time": "2023-04-24T20:13:43.954Z"
   },
   {
    "duration": 25,
    "start_time": "2023-04-24T20:13:43.970Z"
   },
   {
    "duration": 15,
    "start_time": "2023-04-24T20:13:43.997Z"
   },
   {
    "duration": 6,
    "start_time": "2023-04-24T20:13:44.013Z"
   },
   {
    "duration": 13,
    "start_time": "2023-04-24T20:13:44.020Z"
   },
   {
    "duration": 12,
    "start_time": "2023-04-24T20:13:44.035Z"
   },
   {
    "duration": 516,
    "start_time": "2023-04-24T20:13:44.049Z"
   },
   {
    "duration": 156,
    "start_time": "2023-04-24T20:13:44.567Z"
   },
   {
    "duration": 134,
    "start_time": "2023-04-24T20:14:17.030Z"
   },
   {
    "duration": 12,
    "start_time": "2023-04-24T20:24:26.489Z"
   },
   {
    "duration": 11,
    "start_time": "2023-04-24T20:24:36.315Z"
   },
   {
    "duration": 23,
    "start_time": "2023-04-24T20:24:48.433Z"
   },
   {
    "duration": 13,
    "start_time": "2023-04-24T20:24:58.275Z"
   },
   {
    "duration": 4,
    "start_time": "2023-04-24T20:25:25.195Z"
   },
   {
    "duration": 4,
    "start_time": "2023-04-24T20:25:26.403Z"
   },
   {
    "duration": 46,
    "start_time": "2023-04-24T20:25:28.262Z"
   },
   {
    "duration": 59,
    "start_time": "2023-04-24T20:25:29.517Z"
   },
   {
    "duration": 11,
    "start_time": "2023-04-24T20:25:30.172Z"
   },
   {
    "duration": 5,
    "start_time": "2023-04-24T20:25:39.844Z"
   },
   {
    "duration": 3,
    "start_time": "2023-04-24T20:25:47.904Z"
   },
   {
    "duration": 626,
    "start_time": "2023-04-24T20:25:47.909Z"
   },
   {
    "duration": 15,
    "start_time": "2023-04-24T20:25:48.537Z"
   },
   {
    "duration": 10,
    "start_time": "2023-04-24T20:25:48.553Z"
   },
   {
    "duration": 31,
    "start_time": "2023-04-24T20:25:48.564Z"
   },
   {
    "duration": 7,
    "start_time": "2023-04-24T20:25:48.596Z"
   },
   {
    "duration": 8,
    "start_time": "2023-04-24T20:25:54.989Z"
   },
   {
    "duration": 5,
    "start_time": "2023-04-24T20:26:01.112Z"
   },
   {
    "duration": 3885,
    "start_time": "2023-04-24T20:26:02.321Z"
   },
   {
    "duration": 653,
    "start_time": "2023-04-24T20:26:07.358Z"
   },
   {
    "duration": 14,
    "start_time": "2023-04-24T20:26:18.564Z"
   },
   {
    "duration": 1033,
    "start_time": "2023-04-25T06:43:44.687Z"
   },
   {
    "duration": 2017,
    "start_time": "2023-04-25T06:43:45.721Z"
   },
   {
    "duration": 19,
    "start_time": "2023-04-25T06:43:47.740Z"
   },
   {
    "duration": 12,
    "start_time": "2023-04-25T06:43:47.761Z"
   },
   {
    "duration": 17,
    "start_time": "2023-04-25T06:43:47.775Z"
   },
   {
    "duration": 12,
    "start_time": "2023-04-25T06:43:47.793Z"
   },
   {
    "duration": 8,
    "start_time": "2023-04-25T06:43:47.807Z"
   },
   {
    "duration": 13,
    "start_time": "2023-04-25T06:43:47.817Z"
   },
   {
    "duration": 4160,
    "start_time": "2023-04-25T06:43:47.832Z"
   },
   {
    "duration": 640,
    "start_time": "2023-04-25T06:43:51.993Z"
   },
   {
    "duration": 29,
    "start_time": "2023-04-25T06:43:52.634Z"
   },
   {
    "duration": 92,
    "start_time": "2023-04-25T06:46:08.818Z"
   },
   {
    "duration": 9,
    "start_time": "2023-04-25T06:46:26.649Z"
   },
   {
    "duration": 23,
    "start_time": "2023-04-25T06:46:37.006Z"
   },
   {
    "duration": 17,
    "start_time": "2023-04-25T06:54:42.576Z"
   },
   {
    "duration": 14,
    "start_time": "2023-04-25T06:57:36.886Z"
   },
   {
    "duration": 23,
    "start_time": "2023-04-25T06:58:04.270Z"
   },
   {
    "duration": 23,
    "start_time": "2023-04-25T06:58:21.499Z"
   },
   {
    "duration": 21,
    "start_time": "2023-04-25T06:58:40.185Z"
   },
   {
    "duration": 27,
    "start_time": "2023-04-25T06:59:15.970Z"
   },
   {
    "duration": 18,
    "start_time": "2023-04-25T07:00:04.929Z"
   },
   {
    "duration": 33,
    "start_time": "2023-04-25T07:08:02.562Z"
   },
   {
    "duration": 35,
    "start_time": "2023-04-25T07:08:12.288Z"
   },
   {
    "duration": 3,
    "start_time": "2023-04-25T07:13:23.699Z"
   },
   {
    "duration": 22,
    "start_time": "2023-04-25T07:13:34.408Z"
   },
   {
    "duration": 3,
    "start_time": "2023-04-25T07:13:52.229Z"
   },
   {
    "duration": 611,
    "start_time": "2023-04-25T07:13:53.159Z"
   },
   {
    "duration": 4,
    "start_time": "2023-04-25T07:14:03.478Z"
   },
   {
    "duration": 128,
    "start_time": "2023-04-25T07:14:04.139Z"
   },
   {
    "duration": 7,
    "start_time": "2023-04-25T07:18:37.720Z"
   },
   {
    "duration": 1182,
    "start_time": "2023-04-25T07:18:50.046Z"
   },
   {
    "duration": 3,
    "start_time": "2023-04-25T07:19:19.489Z"
   },
   {
    "duration": 1217,
    "start_time": "2023-04-25T07:19:20.509Z"
   },
   {
    "duration": 3,
    "start_time": "2023-04-25T07:20:28.474Z"
   },
   {
    "duration": 1251,
    "start_time": "2023-04-25T07:20:29.576Z"
   },
   {
    "duration": 1560,
    "start_time": "2023-04-25T18:00:15.483Z"
   },
   {
    "duration": 2257,
    "start_time": "2023-04-25T18:00:17.045Z"
   },
   {
    "duration": 23,
    "start_time": "2023-04-25T18:00:19.305Z"
   },
   {
    "duration": 18,
    "start_time": "2023-04-25T18:00:19.330Z"
   },
   {
    "duration": 24,
    "start_time": "2023-04-25T18:00:19.351Z"
   },
   {
    "duration": 39,
    "start_time": "2023-04-25T18:00:19.377Z"
   },
   {
    "duration": 10,
    "start_time": "2023-04-25T18:00:19.418Z"
   },
   {
    "duration": 4627,
    "start_time": "2023-04-25T18:00:19.429Z"
   },
   {
    "duration": 910,
    "start_time": "2023-04-25T18:00:24.058Z"
   },
   {
    "duration": 15,
    "start_time": "2023-04-25T18:00:24.970Z"
   },
   {
    "duration": 3,
    "start_time": "2023-04-25T18:04:01.720Z"
   },
   {
    "duration": 129,
    "start_time": "2023-04-25T18:04:05.737Z"
   },
   {
    "duration": 3,
    "start_time": "2023-04-25T18:04:59.237Z"
   },
   {
    "duration": 1242,
    "start_time": "2023-04-25T18:05:00.068Z"
   },
   {
    "duration": 3,
    "start_time": "2023-04-25T18:05:14.454Z"
   },
   {
    "duration": 1148,
    "start_time": "2023-04-25T18:05:15.213Z"
   },
   {
    "duration": 3,
    "start_time": "2023-04-25T18:05:41.019Z"
   },
   {
    "duration": 429,
    "start_time": "2023-04-25T18:05:42.794Z"
   },
   {
    "duration": 14,
    "start_time": "2023-04-25T18:06:03.901Z"
   },
   {
    "duration": 18,
    "start_time": "2023-04-25T18:06:19.448Z"
   },
   {
    "duration": 3,
    "start_time": "2023-04-25T18:06:21.071Z"
   },
   {
    "duration": 11,
    "start_time": "2023-04-25T18:06:22.468Z"
   },
   {
    "duration": 284,
    "start_time": "2023-04-25T18:06:41.416Z"
   },
   {
    "duration": 4,
    "start_time": "2023-04-25T18:07:00.563Z"
   },
   {
    "duration": 274,
    "start_time": "2023-04-25T18:07:01.230Z"
   },
   {
    "duration": 4,
    "start_time": "2023-04-25T18:07:31.424Z"
   },
   {
    "duration": 358,
    "start_time": "2023-04-25T18:07:32.087Z"
   },
   {
    "duration": 4,
    "start_time": "2023-04-25T18:07:46.861Z"
   },
   {
    "duration": 324,
    "start_time": "2023-04-25T18:07:48.489Z"
   },
   {
    "duration": 3,
    "start_time": "2023-04-25T18:07:59.196Z"
   },
   {
    "duration": 327,
    "start_time": "2023-04-25T18:08:00.693Z"
   },
   {
    "duration": 4,
    "start_time": "2023-04-25T18:08:50.217Z"
   },
   {
    "duration": 345,
    "start_time": "2023-04-25T18:08:51.035Z"
   },
   {
    "duration": 4,
    "start_time": "2023-04-25T18:09:18.916Z"
   },
   {
    "duration": 321,
    "start_time": "2023-04-25T18:09:19.563Z"
   },
   {
    "duration": 5,
    "start_time": "2023-04-25T18:09:28.957Z"
   },
   {
    "duration": 353,
    "start_time": "2023-04-25T18:09:29.780Z"
   },
   {
    "duration": 3,
    "start_time": "2023-04-25T18:10:45.115Z"
   },
   {
    "duration": 687,
    "start_time": "2023-04-25T18:10:46.169Z"
   },
   {
    "duration": 4,
    "start_time": "2023-04-25T18:11:07.621Z"
   },
   {
    "duration": 1445,
    "start_time": "2023-04-25T18:11:08.369Z"
   },
   {
    "duration": 4,
    "start_time": "2023-04-25T18:11:59.433Z"
   },
   {
    "duration": 262,
    "start_time": "2023-04-25T18:12:00.780Z"
   },
   {
    "duration": 4,
    "start_time": "2023-04-25T18:14:31.045Z"
   },
   {
    "duration": 1246,
    "start_time": "2023-04-25T18:14:31.769Z"
   },
   {
    "duration": 4,
    "start_time": "2023-04-25T18:14:50.221Z"
   },
   {
    "duration": 1326,
    "start_time": "2023-04-25T18:14:51.103Z"
   },
   {
    "duration": 4,
    "start_time": "2023-04-25T18:15:23.013Z"
   },
   {
    "duration": 4,
    "start_time": "2023-04-25T18:16:24.930Z"
   },
   {
    "duration": 822,
    "start_time": "2023-04-25T18:16:25.856Z"
   },
   {
    "duration": 5,
    "start_time": "2023-04-25T18:20:09.940Z"
   },
   {
    "duration": 713,
    "start_time": "2023-04-25T18:20:11.012Z"
   },
   {
    "duration": 4,
    "start_time": "2023-04-25T18:20:48.648Z"
   },
   {
    "duration": 374,
    "start_time": "2023-04-25T18:20:49.550Z"
   },
   {
    "duration": 4,
    "start_time": "2023-04-25T18:21:30.998Z"
   },
   {
    "duration": 790,
    "start_time": "2023-04-25T18:21:31.798Z"
   },
   {
    "duration": 4,
    "start_time": "2023-04-25T18:21:39.672Z"
   },
   {
    "duration": 843,
    "start_time": "2023-04-25T18:21:41.979Z"
   },
   {
    "duration": 4,
    "start_time": "2023-04-25T18:23:06.965Z"
   },
   {
    "duration": 3,
    "start_time": "2023-04-25T18:25:06.436Z"
   },
   {
    "duration": 689,
    "start_time": "2023-04-25T18:25:06.441Z"
   },
   {
    "duration": 17,
    "start_time": "2023-04-25T18:25:07.132Z"
   },
   {
    "duration": 14,
    "start_time": "2023-04-25T18:25:07.151Z"
   },
   {
    "duration": 42,
    "start_time": "2023-04-25T18:25:07.171Z"
   },
   {
    "duration": 8,
    "start_time": "2023-04-25T18:25:07.215Z"
   },
   {
    "duration": 7,
    "start_time": "2023-04-25T18:25:07.225Z"
   },
   {
    "duration": 2240,
    "start_time": "2023-04-25T18:25:07.236Z"
   },
   {
    "duration": 548,
    "start_time": "2023-04-25T18:25:09.478Z"
   },
   {
    "duration": 14,
    "start_time": "2023-04-25T18:25:10.028Z"
   },
   {
    "duration": 22,
    "start_time": "2023-04-25T18:25:10.044Z"
   },
   {
    "duration": 843,
    "start_time": "2023-04-25T18:25:10.068Z"
   },
   {
    "duration": 4,
    "start_time": "2023-04-25T18:25:10.913Z"
   },
   {
    "duration": 3,
    "start_time": "2023-04-25T18:25:26.485Z"
   },
   {
    "duration": 714,
    "start_time": "2023-04-25T18:25:26.490Z"
   },
   {
    "duration": 19,
    "start_time": "2023-04-25T18:25:27.206Z"
   },
   {
    "duration": 11,
    "start_time": "2023-04-25T18:25:27.227Z"
   },
   {
    "duration": 17,
    "start_time": "2023-04-25T18:25:27.240Z"
   },
   {
    "duration": 7,
    "start_time": "2023-04-25T18:25:27.258Z"
   },
   {
    "duration": 9,
    "start_time": "2023-04-25T18:25:27.267Z"
   },
   {
    "duration": 4542,
    "start_time": "2023-04-25T18:25:27.312Z"
   },
   {
    "duration": 890,
    "start_time": "2023-04-25T18:25:31.856Z"
   },
   {
    "duration": 16,
    "start_time": "2023-04-25T18:25:32.748Z"
   },
   {
    "duration": 35,
    "start_time": "2023-04-25T18:25:32.766Z"
   },
   {
    "duration": 859,
    "start_time": "2023-04-25T18:25:32.803Z"
   },
   {
    "duration": 4,
    "start_time": "2023-04-25T18:25:33.664Z"
   },
   {
    "duration": 32,
    "start_time": "2023-04-25T18:25:35.573Z"
   },
   {
    "duration": 3,
    "start_time": "2023-04-25T18:26:48.816Z"
   },
   {
    "duration": 725,
    "start_time": "2023-04-25T18:26:48.821Z"
   },
   {
    "duration": 16,
    "start_time": "2023-04-25T18:26:49.548Z"
   },
   {
    "duration": 13,
    "start_time": "2023-04-25T18:26:49.565Z"
   },
   {
    "duration": 40,
    "start_time": "2023-04-25T18:26:49.580Z"
   },
   {
    "duration": 7,
    "start_time": "2023-04-25T18:26:49.621Z"
   },
   {
    "duration": 10,
    "start_time": "2023-04-25T18:26:49.630Z"
   },
   {
    "duration": 4607,
    "start_time": "2023-04-25T18:26:49.642Z"
   },
   {
    "duration": 915,
    "start_time": "2023-04-25T18:26:54.251Z"
   },
   {
    "duration": 15,
    "start_time": "2023-04-25T18:26:55.168Z"
   },
   {
    "duration": 34,
    "start_time": "2023-04-25T18:26:55.185Z"
   },
   {
    "duration": 803,
    "start_time": "2023-04-25T18:26:55.221Z"
   },
   {
    "duration": 5,
    "start_time": "2023-04-25T18:26:56.026Z"
   },
   {
    "duration": 31,
    "start_time": "2023-04-25T18:27:40.124Z"
   },
   {
    "duration": 10,
    "start_time": "2023-04-25T18:27:52.599Z"
   },
   {
    "duration": 30,
    "start_time": "2023-04-25T18:28:03.963Z"
   },
   {
    "duration": 9,
    "start_time": "2023-04-25T18:28:48.927Z"
   },
   {
    "duration": 14,
    "start_time": "2023-04-25T18:30:09.727Z"
   },
   {
    "duration": 308,
    "start_time": "2023-04-25T18:30:22.828Z"
   },
   {
    "duration": 4,
    "start_time": "2023-04-25T18:30:47.227Z"
   },
   {
    "duration": 326,
    "start_time": "2023-04-25T18:30:48.628Z"
   },
   {
    "duration": 2,
    "start_time": "2023-04-25T18:30:53.443Z"
   },
   {
    "duration": 681,
    "start_time": "2023-04-25T18:30:53.447Z"
   },
   {
    "duration": 17,
    "start_time": "2023-04-25T18:30:54.130Z"
   },
   {
    "duration": 42,
    "start_time": "2023-04-25T18:30:54.149Z"
   },
   {
    "duration": 66,
    "start_time": "2023-04-25T18:30:54.192Z"
   },
   {
    "duration": 18,
    "start_time": "2023-04-25T18:30:54.260Z"
   },
   {
    "duration": 10,
    "start_time": "2023-04-25T18:30:54.280Z"
   },
   {
    "duration": 4329,
    "start_time": "2023-04-25T18:30:54.292Z"
   },
   {
    "duration": 957,
    "start_time": "2023-04-25T18:30:58.623Z"
   },
   {
    "duration": 15,
    "start_time": "2023-04-25T18:30:59.582Z"
   },
   {
    "duration": 13,
    "start_time": "2023-04-25T18:30:59.598Z"
   },
   {
    "duration": 332,
    "start_time": "2023-04-25T18:31:00.462Z"
   },
   {
    "duration": 18,
    "start_time": "2023-04-25T18:31:24.093Z"
   },
   {
    "duration": 10,
    "start_time": "2023-04-25T18:31:44.193Z"
   },
   {
    "duration": 18,
    "start_time": "2023-04-25T18:31:57.128Z"
   },
   {
    "duration": 10,
    "start_time": "2023-04-25T18:32:53.261Z"
   },
   {
    "duration": 12,
    "start_time": "2023-04-25T18:33:00.160Z"
   },
   {
    "duration": 15,
    "start_time": "2023-04-25T18:34:21.255Z"
   },
   {
    "duration": 10,
    "start_time": "2023-04-25T18:34:31.600Z"
   },
   {
    "duration": 15,
    "start_time": "2023-04-25T18:34:42.669Z"
   },
   {
    "duration": 20,
    "start_time": "2023-04-25T18:35:23.827Z"
   },
   {
    "duration": 4,
    "start_time": "2023-04-25T18:35:25.569Z"
   },
   {
    "duration": 305,
    "start_time": "2023-04-25T18:35:26.331Z"
   },
   {
    "duration": 10,
    "start_time": "2023-04-25T18:35:29.336Z"
   },
   {
    "duration": 13,
    "start_time": "2023-04-25T18:35:35.765Z"
   },
   {
    "duration": 12,
    "start_time": "2023-04-25T18:35:47.755Z"
   },
   {
    "duration": 297,
    "start_time": "2023-04-25T18:36:02.903Z"
   },
   {
    "duration": 12,
    "start_time": "2023-04-25T18:36:07.199Z"
   },
   {
    "duration": 18,
    "start_time": "2023-04-25T18:36:42.921Z"
   },
   {
    "duration": 399,
    "start_time": "2023-04-25T18:36:51.331Z"
   },
   {
    "duration": 12,
    "start_time": "2023-04-25T18:37:07.331Z"
   },
   {
    "duration": 20,
    "start_time": "2023-04-25T18:37:15.984Z"
   },
   {
    "duration": 21,
    "start_time": "2023-04-25T18:38:13.459Z"
   },
   {
    "duration": 3,
    "start_time": "2023-04-25T18:38:19.072Z"
   },
   {
    "duration": 717,
    "start_time": "2023-04-25T18:38:19.077Z"
   },
   {
    "duration": 21,
    "start_time": "2023-04-25T18:38:19.796Z"
   },
   {
    "duration": 13,
    "start_time": "2023-04-25T18:38:19.819Z"
   },
   {
    "duration": 18,
    "start_time": "2023-04-25T18:38:19.834Z"
   },
   {
    "duration": 9,
    "start_time": "2023-04-25T18:38:19.854Z"
   },
   {
    "duration": 8,
    "start_time": "2023-04-25T18:38:19.865Z"
   },
   {
    "duration": 4404,
    "start_time": "2023-04-25T18:38:19.912Z"
   },
   {
    "duration": 891,
    "start_time": "2023-04-25T18:38:24.318Z"
   },
   {
    "duration": 17,
    "start_time": "2023-04-25T18:38:25.211Z"
   },
   {
    "duration": 13,
    "start_time": "2023-04-25T18:38:25.229Z"
   },
   {
    "duration": 324,
    "start_time": "2023-04-25T18:38:25.244Z"
   },
   {
    "duration": 306,
    "start_time": "2023-04-25T18:38:33.906Z"
   },
   {
    "duration": 21,
    "start_time": "2023-04-25T18:38:36.612Z"
   },
   {
    "duration": 7,
    "start_time": "2023-04-25T18:39:12.623Z"
   },
   {
    "duration": 9,
    "start_time": "2023-04-25T18:39:26.524Z"
   },
   {
    "duration": 7,
    "start_time": "2023-04-25T18:40:06.231Z"
   },
   {
    "duration": 9,
    "start_time": "2023-04-25T18:41:07.831Z"
   },
   {
    "duration": 10,
    "start_time": "2023-04-25T18:41:26.788Z"
   },
   {
    "duration": 9,
    "start_time": "2023-04-25T18:41:35.215Z"
   },
   {
    "duration": 1194,
    "start_time": "2023-04-25T18:41:49.586Z"
   },
   {
    "duration": 8,
    "start_time": "2023-04-25T18:42:04.336Z"
   },
   {
    "duration": 15,
    "start_time": "2023-04-25T18:43:10.432Z"
   },
   {
    "duration": 3,
    "start_time": "2023-04-25T18:44:35.670Z"
   },
   {
    "duration": 747,
    "start_time": "2023-04-25T18:44:35.675Z"
   },
   {
    "duration": 17,
    "start_time": "2023-04-25T18:44:36.424Z"
   },
   {
    "duration": 12,
    "start_time": "2023-04-25T18:44:36.444Z"
   },
   {
    "duration": 25,
    "start_time": "2023-04-25T18:44:36.458Z"
   },
   {
    "duration": 28,
    "start_time": "2023-04-25T18:44:36.485Z"
   },
   {
    "duration": 10,
    "start_time": "2023-04-25T18:44:36.515Z"
   },
   {
    "duration": 23,
    "start_time": "2023-04-25T18:44:47.032Z"
   },
   {
    "duration": 214,
    "start_time": "2023-04-25T18:44:47.944Z"
   },
   {
    "duration": 13,
    "start_time": "2023-04-25T18:44:52.539Z"
   },
   {
    "duration": 18,
    "start_time": "2023-04-25T18:45:04.432Z"
   },
   {
    "duration": 3,
    "start_time": "2023-04-25T18:46:14.951Z"
   },
   {
    "duration": 685,
    "start_time": "2023-04-25T18:46:14.955Z"
   },
   {
    "duration": 17,
    "start_time": "2023-04-25T18:46:15.641Z"
   },
   {
    "duration": 13,
    "start_time": "2023-04-25T18:46:15.659Z"
   },
   {
    "duration": 38,
    "start_time": "2023-04-25T18:46:15.674Z"
   },
   {
    "duration": 7,
    "start_time": "2023-04-25T18:46:15.714Z"
   },
   {
    "duration": 9,
    "start_time": "2023-04-25T18:46:15.723Z"
   },
   {
    "duration": 23,
    "start_time": "2023-04-25T18:46:19.224Z"
   },
   {
    "duration": 250,
    "start_time": "2023-04-25T18:46:20.044Z"
   },
   {
    "duration": 10,
    "start_time": "2023-04-25T18:46:23.856Z"
   },
   {
    "duration": 4,
    "start_time": "2023-04-25T18:46:25.577Z"
   },
   {
    "duration": 284,
    "start_time": "2023-04-25T18:46:26.323Z"
   },
   {
    "duration": 4,
    "start_time": "2023-04-25T18:46:30.559Z"
   },
   {
    "duration": 306,
    "start_time": "2023-04-25T18:46:40.776Z"
   },
   {
    "duration": 322,
    "start_time": "2023-04-25T18:46:53.457Z"
   },
   {
    "duration": 5,
    "start_time": "2023-04-25T18:53:55.782Z"
   },
   {
    "duration": 11,
    "start_time": "2023-04-25T18:54:00.388Z"
   },
   {
    "duration": 32,
    "start_time": "2023-04-25T18:54:10.901Z"
   },
   {
    "duration": 7,
    "start_time": "2023-04-25T18:54:19.906Z"
   },
   {
    "duration": 15,
    "start_time": "2023-04-25T18:54:57.675Z"
   },
   {
    "duration": 68,
    "start_time": "2023-04-25T18:59:13.589Z"
   },
   {
    "duration": 22170,
    "start_time": "2023-04-25T18:59:18.982Z"
   },
   {
    "duration": 14,
    "start_time": "2023-04-25T19:01:59.852Z"
   },
   {
    "duration": 6,
    "start_time": "2023-04-25T19:02:13.489Z"
   },
   {
    "duration": 13,
    "start_time": "2023-04-25T19:02:24.940Z"
   },
   {
    "duration": 15,
    "start_time": "2023-04-25T19:02:36.551Z"
   },
   {
    "duration": 6,
    "start_time": "2023-04-25T19:02:44.517Z"
   },
   {
    "duration": 2526,
    "start_time": "2023-04-25T19:04:37.143Z"
   },
   {
    "duration": 12,
    "start_time": "2023-04-25T19:05:12.747Z"
   },
   {
    "duration": 8,
    "start_time": "2023-04-25T19:05:34.695Z"
   },
   {
    "duration": 10,
    "start_time": "2023-04-25T19:05:42.752Z"
   },
   {
    "duration": 71,
    "start_time": "2023-04-25T19:16:42.124Z"
   },
   {
    "duration": 5,
    "start_time": "2023-04-25T19:16:55.232Z"
   },
   {
    "duration": 12,
    "start_time": "2023-04-25T19:16:59.347Z"
   },
   {
    "duration": 131,
    "start_time": "2023-04-25T19:17:16.939Z"
   },
   {
    "duration": 1361,
    "start_time": "2023-04-25T19:18:13.795Z"
   },
   {
    "duration": 317,
    "start_time": "2023-04-25T19:21:01.351Z"
   },
   {
    "duration": 303,
    "start_time": "2023-04-25T19:21:15.548Z"
   },
   {
    "duration": 308,
    "start_time": "2023-04-25T19:21:26.974Z"
   },
   {
    "duration": 18,
    "start_time": "2023-04-25T19:32:11.351Z"
   },
   {
    "duration": 5,
    "start_time": "2023-04-25T19:33:32.824Z"
   },
   {
    "duration": 4,
    "start_time": "2023-04-25T19:34:57.044Z"
   },
   {
    "duration": 5,
    "start_time": "2023-04-25T19:35:09.347Z"
   },
   {
    "duration": 4,
    "start_time": "2023-04-25T19:35:26.231Z"
   },
   {
    "duration": 5,
    "start_time": "2023-04-25T19:36:00.235Z"
   },
   {
    "duration": 5,
    "start_time": "2023-04-25T19:37:20.095Z"
   },
   {
    "duration": 17,
    "start_time": "2023-04-25T19:38:17.921Z"
   },
   {
    "duration": 7,
    "start_time": "2023-04-25T19:41:11.283Z"
   },
   {
    "duration": 73,
    "start_time": "2023-04-25T19:41:19.661Z"
   },
   {
    "duration": 8,
    "start_time": "2023-04-25T19:41:35.135Z"
   },
   {
    "duration": 19,
    "start_time": "2023-04-25T19:42:48.543Z"
   },
   {
    "duration": 7,
    "start_time": "2023-04-25T19:43:18.623Z"
   },
   {
    "duration": 40,
    "start_time": "2023-04-25T19:43:22.547Z"
   },
   {
    "duration": 20,
    "start_time": "2023-04-25T19:43:38.466Z"
   },
   {
    "duration": 24,
    "start_time": "2023-04-25T19:44:07.343Z"
   },
   {
    "duration": 21,
    "start_time": "2023-04-25T19:44:23.585Z"
   },
   {
    "duration": 25,
    "start_time": "2023-04-25T19:45:03.327Z"
   },
   {
    "duration": 19,
    "start_time": "2023-04-25T19:45:15.024Z"
   },
   {
    "duration": 11,
    "start_time": "2023-04-25T19:45:32.815Z"
   },
   {
    "duration": 16,
    "start_time": "2023-04-25T19:47:29.627Z"
   },
   {
    "duration": 10,
    "start_time": "2023-04-25T19:47:35.289Z"
   },
   {
    "duration": 295,
    "start_time": "2023-04-25T19:47:55.723Z"
   },
   {
    "duration": 1545,
    "start_time": "2023-04-26T08:51:04.925Z"
   },
   {
    "duration": 2524,
    "start_time": "2023-04-26T08:51:06.472Z"
   },
   {
    "duration": 18,
    "start_time": "2023-04-26T08:51:08.997Z"
   },
   {
    "duration": 12,
    "start_time": "2023-04-26T08:51:09.017Z"
   },
   {
    "duration": 28,
    "start_time": "2023-04-26T08:51:09.030Z"
   },
   {
    "duration": 20,
    "start_time": "2023-04-26T08:51:09.060Z"
   },
   {
    "duration": 11,
    "start_time": "2023-04-26T08:51:09.082Z"
   },
   {
    "duration": 32,
    "start_time": "2023-04-26T08:51:09.095Z"
   },
   {
    "duration": 277,
    "start_time": "2023-04-26T08:51:09.129Z"
   },
   {
    "duration": 11,
    "start_time": "2023-04-26T08:51:09.408Z"
   },
   {
    "duration": 8,
    "start_time": "2023-04-26T08:51:09.420Z"
   },
   {
    "duration": 356,
    "start_time": "2023-04-26T08:51:09.429Z"
   },
   {
    "duration": 316,
    "start_time": "2023-04-26T08:51:09.787Z"
   },
   {
    "duration": 315,
    "start_time": "2023-04-26T08:51:10.105Z"
   },
   {
    "duration": 7,
    "start_time": "2023-04-26T08:51:10.421Z"
   },
   {
    "duration": 134,
    "start_time": "2023-04-26T08:51:10.429Z"
   },
   {
    "duration": 126,
    "start_time": "2023-04-26T08:51:10.565Z"
   },
   {
    "duration": 15,
    "start_time": "2023-04-26T08:51:10.693Z"
   },
   {
    "duration": 366,
    "start_time": "2023-04-26T08:51:10.710Z"
   },
   {
    "duration": 6,
    "start_time": "2023-04-26T08:56:19.332Z"
   },
   {
    "duration": 4,
    "start_time": "2023-04-26T08:56:24.233Z"
   },
   {
    "duration": 5,
    "start_time": "2023-04-26T08:59:35.543Z"
   },
   {
    "duration": 4,
    "start_time": "2023-04-26T09:02:39.009Z"
   },
   {
    "duration": 23,
    "start_time": "2023-04-26T09:02:42.166Z"
   },
   {
    "duration": 3293,
    "start_time": "2023-04-26T09:03:14.044Z"
   },
   {
    "duration": 39,
    "start_time": "2023-04-26T09:03:54.219Z"
   },
   {
    "duration": 5,
    "start_time": "2023-04-26T09:04:01.565Z"
   },
   {
    "duration": 24,
    "start_time": "2023-04-26T09:05:33.576Z"
   },
   {
    "duration": 17,
    "start_time": "2023-04-26T09:05:40.082Z"
   },
   {
    "duration": 13,
    "start_time": "2023-04-26T09:05:44.061Z"
   },
   {
    "duration": 16,
    "start_time": "2023-04-26T09:05:47.469Z"
   },
   {
    "duration": 7,
    "start_time": "2023-04-26T09:06:04.036Z"
   },
   {
    "duration": 2828,
    "start_time": "2023-04-26T09:06:05.771Z"
   },
   {
    "duration": 2828,
    "start_time": "2023-04-26T09:06:23.396Z"
   },
   {
    "duration": 26,
    "start_time": "2023-04-26T09:06:34.408Z"
   },
   {
    "duration": 5,
    "start_time": "2023-04-26T09:06:49.356Z"
   },
   {
    "duration": 24,
    "start_time": "2023-04-26T09:07:29.891Z"
   },
   {
    "duration": 25,
    "start_time": "2023-04-26T09:07:37.912Z"
   },
   {
    "duration": 3,
    "start_time": "2023-04-26T09:11:40.939Z"
   },
   {
    "duration": 3,
    "start_time": "2023-04-26T09:12:42.145Z"
   },
   {
    "duration": 22,
    "start_time": "2023-04-26T09:12:43.772Z"
   },
   {
    "duration": 4,
    "start_time": "2023-04-26T09:12:56.700Z"
   },
   {
    "duration": 46,
    "start_time": "2023-04-26T09:12:57.328Z"
   },
   {
    "duration": 32,
    "start_time": "2023-04-26T09:13:09.679Z"
   },
   {
    "duration": 36,
    "start_time": "2023-04-26T09:13:31.147Z"
   },
   {
    "duration": 209,
    "start_time": "2023-04-26T09:14:17.721Z"
   },
   {
    "duration": 6,
    "start_time": "2023-04-26T09:14:27.512Z"
   },
   {
    "duration": 13,
    "start_time": "2023-04-26T09:14:44.651Z"
   },
   {
    "duration": 5,
    "start_time": "2023-04-26T09:16:35.446Z"
   },
   {
    "duration": 58,
    "start_time": "2023-04-26T09:18:28.213Z"
   },
   {
    "duration": 15,
    "start_time": "2023-04-26T09:20:15.022Z"
   },
   {
    "duration": 8,
    "start_time": "2023-04-26T09:20:47.561Z"
   },
   {
    "duration": 24,
    "start_time": "2023-04-26T09:40:38.383Z"
   },
   {
    "duration": 17,
    "start_time": "2023-04-26T09:40:48.418Z"
   },
   {
    "duration": 49,
    "start_time": "2023-04-26T09:40:57.547Z"
   },
   {
    "duration": 14,
    "start_time": "2023-04-26T09:41:29.562Z"
   },
   {
    "duration": 7,
    "start_time": "2023-04-26T09:41:49.555Z"
   },
   {
    "duration": 568,
    "start_time": "2023-04-26T09:41:52.500Z"
   },
   {
    "duration": 458,
    "start_time": "2023-04-26T09:43:04.182Z"
   },
   {
    "duration": 72,
    "start_time": "2023-04-26T09:43:16.574Z"
   },
   {
    "duration": 184,
    "start_time": "2023-04-26T09:43:36.168Z"
   },
   {
    "duration": 599,
    "start_time": "2023-04-26T09:43:52.175Z"
   },
   {
    "duration": 150,
    "start_time": "2023-04-26T09:44:36.501Z"
   },
   {
    "duration": 548,
    "start_time": "2023-04-26T09:44:43.107Z"
   },
   {
    "duration": 501,
    "start_time": "2023-04-26T09:45:02.574Z"
   },
   {
    "duration": 7,
    "start_time": "2023-04-26T09:49:55.305Z"
   },
   {
    "duration": 9,
    "start_time": "2023-04-26T09:49:58.203Z"
   },
   {
    "duration": 5,
    "start_time": "2023-04-26T09:50:02.954Z"
   },
   {
    "duration": 410,
    "start_time": "2023-04-26T09:50:23.545Z"
   },
   {
    "duration": 0,
    "start_time": "2023-04-26T09:51:04.977Z"
   },
   {
    "duration": 0,
    "start_time": "2023-04-26T09:51:06.259Z"
   },
   {
    "duration": 534,
    "start_time": "2023-04-26T09:51:07.739Z"
   },
   {
    "duration": 555,
    "start_time": "2023-04-26T09:51:24.919Z"
   },
   {
    "duration": 505,
    "start_time": "2023-04-26T09:53:42.364Z"
   },
   {
    "duration": 495,
    "start_time": "2023-04-26T09:54:35.458Z"
   },
   {
    "duration": 587,
    "start_time": "2023-04-26T09:55:48.764Z"
   },
   {
    "duration": 563,
    "start_time": "2023-04-26T09:56:04.795Z"
   },
   {
    "duration": 575,
    "start_time": "2023-04-26T09:58:22.899Z"
   },
   {
    "duration": 604,
    "start_time": "2023-04-26T09:58:28.252Z"
   },
   {
    "duration": 546,
    "start_time": "2023-04-26T09:58:51.713Z"
   },
   {
    "duration": 669,
    "start_time": "2023-04-26T09:59:05.384Z"
   },
   {
    "duration": 545,
    "start_time": "2023-04-26T09:59:13.827Z"
   },
   {
    "duration": 691,
    "start_time": "2023-04-26T10:00:56.375Z"
   },
   {
    "duration": 6994,
    "start_time": "2023-04-26T10:08:26.029Z"
   },
   {
    "duration": 27782,
    "start_time": "2023-04-26T10:08:47.859Z"
   },
   {
    "duration": 31593,
    "start_time": "2023-04-26T10:09:44.604Z"
   },
   {
    "duration": 0,
    "start_time": "2023-04-26T10:13:08.204Z"
   },
   {
    "duration": 626683,
    "start_time": "2023-04-26T10:13:11.358Z"
   },
   {
    "duration": 1588,
    "start_time": "2023-04-26T14:31:48.420Z"
   },
   {
    "duration": 2605,
    "start_time": "2023-04-26T14:31:50.010Z"
   },
   {
    "duration": 20,
    "start_time": "2023-04-26T14:31:52.616Z"
   },
   {
    "duration": 17,
    "start_time": "2023-04-26T14:31:52.638Z"
   },
   {
    "duration": 28,
    "start_time": "2023-04-26T14:31:52.657Z"
   },
   {
    "duration": 22,
    "start_time": "2023-04-26T14:31:52.687Z"
   },
   {
    "duration": 29,
    "start_time": "2023-04-26T14:31:52.711Z"
   },
   {
    "duration": 28,
    "start_time": "2023-04-26T14:31:52.742Z"
   },
   {
    "duration": 251,
    "start_time": "2023-04-26T14:31:52.772Z"
   },
   {
    "duration": 11,
    "start_time": "2023-04-26T14:31:53.025Z"
   },
   {
    "duration": 24,
    "start_time": "2023-04-26T14:31:53.037Z"
   },
   {
    "duration": 382,
    "start_time": "2023-04-26T14:31:53.063Z"
   },
   {
    "duration": 336,
    "start_time": "2023-04-26T14:31:53.446Z"
   },
   {
    "duration": 359,
    "start_time": "2023-04-26T14:31:53.784Z"
   },
   {
    "duration": 8,
    "start_time": "2023-04-26T14:31:54.145Z"
   },
   {
    "duration": 164,
    "start_time": "2023-04-26T14:31:54.154Z"
   },
   {
    "duration": 232,
    "start_time": "2023-04-26T14:31:54.320Z"
   },
   {
    "duration": 20,
    "start_time": "2023-04-26T14:31:54.554Z"
   },
   {
    "duration": 336,
    "start_time": "2023-04-26T14:31:54.591Z"
   },
   {
    "duration": 29,
    "start_time": "2023-04-26T14:31:54.928Z"
   },
   {
    "duration": 7,
    "start_time": "2023-04-26T14:31:54.959Z"
   },
   {
    "duration": 27,
    "start_time": "2023-04-26T14:31:54.968Z"
   },
   {
    "duration": 13,
    "start_time": "2023-04-26T14:31:54.996Z"
   },
   {
    "duration": 20,
    "start_time": "2023-04-26T14:31:55.011Z"
   },
   {
    "duration": 20,
    "start_time": "2023-04-26T14:31:55.033Z"
   },
   {
    "duration": 32,
    "start_time": "2023-04-26T14:31:55.055Z"
   },
   {
    "duration": 704,
    "start_time": "2023-04-26T14:31:55.089Z"
   },
   {
    "duration": 544225,
    "start_time": "2023-04-26T14:31:55.799Z"
   },
   {
    "duration": 9004,
    "start_time": "2023-04-26T15:09:46.161Z"
   },
   {
    "duration": 5,
    "start_time": "2023-04-26T15:26:31.330Z"
   },
   {
    "duration": 13,
    "start_time": "2023-04-26T15:27:16.873Z"
   },
   {
    "duration": 5,
    "start_time": "2023-04-26T15:28:03.708Z"
   },
   {
    "duration": 13,
    "start_time": "2023-04-26T15:28:04.732Z"
   },
   {
    "duration": 18,
    "start_time": "2023-04-26T15:28:05.652Z"
   },
   {
    "duration": 47,
    "start_time": "2023-04-26T15:28:19.276Z"
   },
   {
    "duration": 6,
    "start_time": "2023-04-26T15:29:17.340Z"
   },
   {
    "duration": 28,
    "start_time": "2023-04-26T15:29:25.052Z"
   },
   {
    "duration": 122,
    "start_time": "2023-04-26T15:31:05.346Z"
   },
   {
    "duration": 4,
    "start_time": "2023-04-26T15:31:37.921Z"
   },
   {
    "duration": 1023,
    "start_time": "2023-04-26T15:31:37.928Z"
   },
   {
    "duration": 26,
    "start_time": "2023-04-26T15:31:38.954Z"
   },
   {
    "duration": 21,
    "start_time": "2023-04-26T15:31:38.994Z"
   },
   {
    "duration": 27,
    "start_time": "2023-04-26T15:31:39.017Z"
   },
   {
    "duration": 11,
    "start_time": "2023-04-26T15:31:39.047Z"
   },
   {
    "duration": 14,
    "start_time": "2023-04-26T15:31:39.092Z"
   },
   {
    "duration": 39,
    "start_time": "2023-04-26T15:31:39.109Z"
   },
   {
    "duration": 347,
    "start_time": "2023-04-26T15:31:39.151Z"
   },
   {
    "duration": 11,
    "start_time": "2023-04-26T15:31:39.502Z"
   },
   {
    "duration": 7,
    "start_time": "2023-04-26T15:31:39.516Z"
   },
   {
    "duration": 349,
    "start_time": "2023-04-26T15:31:39.524Z"
   },
   {
    "duration": 372,
    "start_time": "2023-04-26T15:31:39.875Z"
   },
   {
    "duration": 439,
    "start_time": "2023-04-26T15:31:40.249Z"
   },
   {
    "duration": 10,
    "start_time": "2023-04-26T15:31:40.693Z"
   },
   {
    "duration": 187,
    "start_time": "2023-04-26T15:31:40.705Z"
   },
   {
    "duration": 149,
    "start_time": "2023-04-26T15:31:40.894Z"
   },
   {
    "duration": 17,
    "start_time": "2023-04-26T15:31:41.045Z"
   },
   {
    "duration": 333,
    "start_time": "2023-04-26T15:31:41.065Z"
   },
   {
    "duration": 33,
    "start_time": "2023-04-26T15:31:41.401Z"
   },
   {
    "duration": 10,
    "start_time": "2023-04-26T15:31:41.437Z"
   },
   {
    "duration": 20,
    "start_time": "2023-04-26T15:31:41.448Z"
   },
   {
    "duration": 21,
    "start_time": "2023-04-26T15:31:41.471Z"
   },
   {
    "duration": 32,
    "start_time": "2023-04-26T15:31:41.494Z"
   },
   {
    "duration": 16,
    "start_time": "2023-04-26T15:31:41.528Z"
   },
   {
    "duration": 21,
    "start_time": "2023-04-26T15:31:41.546Z"
   },
   {
    "duration": 641,
    "start_time": "2023-04-26T15:31:41.569Z"
   },
   {
    "duration": 9014,
    "start_time": "2023-04-26T15:31:45.748Z"
   },
   {
    "duration": 5,
    "start_time": "2023-04-26T15:32:31.699Z"
   },
   {
    "duration": 23,
    "start_time": "2023-04-26T15:32:32.443Z"
   },
   {
    "duration": 22,
    "start_time": "2023-04-26T15:32:35.368Z"
   },
   {
    "duration": 22,
    "start_time": "2023-04-26T15:32:41.598Z"
   },
   {
    "duration": 9113,
    "start_time": "2023-04-26T15:33:00.649Z"
   },
   {
    "duration": 557,
    "start_time": "2023-04-26T15:40:18.338Z"
   },
   {
    "duration": 581,
    "start_time": "2023-04-26T15:40:26.225Z"
   },
   {
    "duration": 42529,
    "start_time": "2023-04-26T15:43:18.875Z"
   },
   {
    "duration": 7214,
    "start_time": "2023-04-26T15:44:11.083Z"
   },
   {
    "duration": 520371,
    "start_time": "2023-04-26T15:44:42.339Z"
   },
   {
    "duration": 75,
    "start_time": "2023-04-26T15:53:22.713Z"
   },
   {
    "duration": 9353,
    "start_time": "2023-04-26T15:58:42.410Z"
   },
   {
    "duration": 9281,
    "start_time": "2023-04-26T16:00:08.105Z"
   },
   {
    "duration": 0,
    "start_time": "2023-04-26T16:01:02.854Z"
   },
   {
    "duration": 9461,
    "start_time": "2023-04-26T16:01:35.239Z"
   },
   {
    "duration": 9169,
    "start_time": "2023-04-26T16:03:31.164Z"
   },
   {
    "duration": 9302,
    "start_time": "2023-04-26T16:03:55.980Z"
   },
   {
    "duration": 9508,
    "start_time": "2023-04-26T16:04:22.106Z"
   },
   {
    "duration": 9251,
    "start_time": "2023-04-26T16:06:22.421Z"
   },
   {
    "duration": 9218,
    "start_time": "2023-04-26T16:08:19.924Z"
   },
   {
    "duration": 11,
    "start_time": "2023-04-26T16:08:56.178Z"
   },
   {
    "duration": 6,
    "start_time": "2023-04-26T16:09:01.126Z"
   },
   {
    "duration": 7,
    "start_time": "2023-04-26T16:09:10.096Z"
   },
   {
    "duration": 42,
    "start_time": "2023-04-26T16:09:24.130Z"
   },
   {
    "duration": 7,
    "start_time": "2023-04-26T16:09:42.440Z"
   },
   {
    "duration": 8822,
    "start_time": "2023-04-26T16:11:22.777Z"
   },
   {
    "duration": 5982,
    "start_time": "2023-04-26T16:11:51.123Z"
   },
   {
    "duration": 9022,
    "start_time": "2023-04-26T16:12:04.457Z"
   },
   {
    "duration": 8847,
    "start_time": "2023-04-26T16:12:44.301Z"
   },
   {
    "duration": 8791,
    "start_time": "2023-04-26T16:14:06.707Z"
   },
   {
    "duration": 8624,
    "start_time": "2023-04-26T16:15:31.785Z"
   },
   {
    "duration": 8957,
    "start_time": "2023-04-26T16:16:26.976Z"
   },
   {
    "duration": 9368,
    "start_time": "2023-04-26T16:16:41.803Z"
   },
   {
    "duration": 8839,
    "start_time": "2023-04-26T16:17:32.096Z"
   },
   {
    "duration": 9217,
    "start_time": "2023-04-26T16:18:15.833Z"
   },
   {
    "duration": 132,
    "start_time": "2023-04-26T16:19:30.254Z"
   },
   {
    "duration": 8864,
    "start_time": "2023-04-26T16:19:40.885Z"
   },
   {
    "duration": 6,
    "start_time": "2023-04-26T16:22:56.509Z"
   },
   {
    "duration": 8974,
    "start_time": "2023-04-26T16:23:20.042Z"
   },
   {
    "duration": 9166,
    "start_time": "2023-04-26T16:23:32.927Z"
   },
   {
    "duration": 9260,
    "start_time": "2023-04-26T16:23:52.820Z"
   },
   {
    "duration": 8835,
    "start_time": "2023-04-26T16:25:04.688Z"
   },
   {
    "duration": 8981,
    "start_time": "2023-04-26T16:25:41.319Z"
   },
   {
    "duration": 9510,
    "start_time": "2023-04-26T16:33:59.173Z"
   },
   {
    "duration": 37467,
    "start_time": "2023-04-26T16:34:27.902Z"
   },
   {
    "duration": 23191,
    "start_time": "2023-04-26T16:35:14.622Z"
   },
   {
    "duration": 23,
    "start_time": "2023-04-26T16:35:54.889Z"
   },
   {
    "duration": 15,
    "start_time": "2023-04-26T16:37:23.480Z"
   },
   {
    "duration": 15,
    "start_time": "2023-04-26T16:39:17.222Z"
   },
   {
    "duration": 4,
    "start_time": "2023-04-26T16:39:40.724Z"
   },
   {
    "duration": 662,
    "start_time": "2023-04-26T16:39:40.730Z"
   },
   {
    "duration": 19,
    "start_time": "2023-04-26T16:39:41.394Z"
   },
   {
    "duration": 15,
    "start_time": "2023-04-26T16:39:41.417Z"
   },
   {
    "duration": 17,
    "start_time": "2023-04-26T16:39:41.434Z"
   },
   {
    "duration": 42,
    "start_time": "2023-04-26T16:39:41.453Z"
   },
   {
    "duration": 7,
    "start_time": "2023-04-26T16:39:41.497Z"
   },
   {
    "duration": 27,
    "start_time": "2023-04-26T16:39:41.508Z"
   },
   {
    "duration": 270,
    "start_time": "2023-04-26T16:39:41.537Z"
   },
   {
    "duration": 10,
    "start_time": "2023-04-26T16:39:41.810Z"
   },
   {
    "duration": 9,
    "start_time": "2023-04-26T16:39:41.822Z"
   },
   {
    "duration": 406,
    "start_time": "2023-04-26T16:39:41.833Z"
   },
   {
    "duration": 323,
    "start_time": "2023-04-26T16:39:42.241Z"
   },
   {
    "duration": 348,
    "start_time": "2023-04-26T16:39:42.566Z"
   },
   {
    "duration": 9,
    "start_time": "2023-04-26T16:39:42.917Z"
   },
   {
    "duration": 168,
    "start_time": "2023-04-26T16:39:42.927Z"
   },
   {
    "duration": 149,
    "start_time": "2023-04-26T16:39:43.097Z"
   },
   {
    "duration": 19,
    "start_time": "2023-04-26T16:39:43.248Z"
   },
   {
    "duration": 348,
    "start_time": "2023-04-26T16:39:43.269Z"
   },
   {
    "duration": 27,
    "start_time": "2023-04-26T16:39:43.627Z"
   },
   {
    "duration": 8,
    "start_time": "2023-04-26T16:39:43.656Z"
   },
   {
    "duration": 7,
    "start_time": "2023-04-26T16:39:43.666Z"
   },
   {
    "duration": 21,
    "start_time": "2023-04-26T16:39:43.674Z"
   },
   {
    "duration": 16,
    "start_time": "2023-04-26T16:39:43.697Z"
   },
   {
    "duration": 20,
    "start_time": "2023-04-26T16:39:43.716Z"
   },
   {
    "duration": 9,
    "start_time": "2023-04-26T16:39:43.738Z"
   },
   {
    "duration": 444,
    "start_time": "2023-04-26T16:39:43.749Z"
   },
   {
    "duration": 24,
    "start_time": "2023-04-26T16:40:15.714Z"
   },
   {
    "duration": 20,
    "start_time": "2023-04-26T16:40:33.645Z"
   },
   {
    "duration": 21,
    "start_time": "2023-04-26T16:41:20.077Z"
   },
   {
    "duration": 15,
    "start_time": "2023-04-26T16:41:45.171Z"
   },
   {
    "duration": 33,
    "start_time": "2023-04-26T16:41:59.655Z"
   },
   {
    "duration": 358208,
    "start_time": "2023-04-26T16:48:37.599Z"
   },
   {
    "duration": 1426,
    "start_time": "2023-04-26T16:56:18.288Z"
   },
   {
    "duration": 1525,
    "start_time": "2023-04-26T16:56:36.395Z"
   },
   {
    "duration": 1468,
    "start_time": "2023-04-26T16:56:45.820Z"
   },
   {
    "duration": 1838,
    "start_time": "2023-04-26T16:57:22.509Z"
   },
   {
    "duration": 1493,
    "start_time": "2023-04-26T16:57:50.969Z"
   },
   {
    "duration": 6219,
    "start_time": "2023-04-26T16:58:10.297Z"
   },
   {
    "duration": 81,
    "start_time": "2023-04-26T16:58:38.052Z"
   },
   {
    "duration": 6174,
    "start_time": "2023-04-26T16:58:49.303Z"
   },
   {
    "duration": 6060,
    "start_time": "2023-04-26T16:59:26.069Z"
   },
   {
    "duration": 5867,
    "start_time": "2023-04-26T16:59:47.674Z"
   },
   {
    "duration": 6133,
    "start_time": "2023-04-26T17:01:18.391Z"
   },
   {
    "duration": 6099,
    "start_time": "2023-04-26T17:03:21.841Z"
   },
   {
    "duration": 14,
    "start_time": "2023-04-26T17:06:46.783Z"
   },
   {
    "duration": 4,
    "start_time": "2023-04-26T17:06:56.906Z"
   },
   {
    "duration": 5956,
    "start_time": "2023-04-26T17:07:48.807Z"
   },
   {
    "duration": 24,
    "start_time": "2023-04-26T17:10:27.619Z"
   },
   {
    "duration": 24,
    "start_time": "2023-04-26T17:11:11.677Z"
   },
   {
    "duration": 21,
    "start_time": "2023-04-26T17:13:04.589Z"
   },
   {
    "duration": 18,
    "start_time": "2023-04-26T17:13:12.147Z"
   },
   {
    "duration": 7,
    "start_time": "2023-04-26T17:13:44.439Z"
   },
   {
    "duration": 8,
    "start_time": "2023-04-26T17:13:52.379Z"
   },
   {
    "duration": 44,
    "start_time": "2023-04-26T17:14:10.271Z"
   },
   {
    "duration": 39,
    "start_time": "2023-04-26T17:14:24.019Z"
   },
   {
    "duration": 4,
    "start_time": "2023-04-26T17:14:38.081Z"
   },
   {
    "duration": 770,
    "start_time": "2023-04-26T17:14:38.087Z"
   },
   {
    "duration": 19,
    "start_time": "2023-04-26T17:14:38.858Z"
   },
   {
    "duration": 33,
    "start_time": "2023-04-26T17:14:38.879Z"
   },
   {
    "duration": 18,
    "start_time": "2023-04-26T17:14:38.914Z"
   },
   {
    "duration": 9,
    "start_time": "2023-04-26T17:14:38.934Z"
   },
   {
    "duration": 14,
    "start_time": "2023-04-26T17:14:38.945Z"
   },
   {
    "duration": 51,
    "start_time": "2023-04-26T17:14:38.961Z"
   },
   {
    "duration": 253,
    "start_time": "2023-04-26T17:14:39.013Z"
   },
   {
    "duration": 12,
    "start_time": "2023-04-26T17:14:39.269Z"
   },
   {
    "duration": 12,
    "start_time": "2023-04-26T17:14:39.283Z"
   },
   {
    "duration": 316,
    "start_time": "2023-04-26T17:14:39.297Z"
   },
   {
    "duration": 321,
    "start_time": "2023-04-26T17:14:39.615Z"
   },
   {
    "duration": 336,
    "start_time": "2023-04-26T17:14:39.938Z"
   },
   {
    "duration": 8,
    "start_time": "2023-04-26T17:14:40.276Z"
   },
   {
    "duration": 157,
    "start_time": "2023-04-26T17:14:40.292Z"
   },
   {
    "duration": 153,
    "start_time": "2023-04-26T17:14:40.450Z"
   },
   {
    "duration": 17,
    "start_time": "2023-04-26T17:14:40.605Z"
   },
   {
    "duration": 410,
    "start_time": "2023-04-26T17:14:40.625Z"
   },
   {
    "duration": 26,
    "start_time": "2023-04-26T17:14:41.037Z"
   },
   {
    "duration": 9,
    "start_time": "2023-04-26T17:14:41.065Z"
   },
   {
    "duration": 4,
    "start_time": "2023-04-26T17:14:41.093Z"
   },
   {
    "duration": 8,
    "start_time": "2023-04-26T17:14:41.098Z"
   },
   {
    "duration": 16,
    "start_time": "2023-04-26T17:14:41.107Z"
   },
   {
    "duration": 33,
    "start_time": "2023-04-26T17:14:41.125Z"
   },
   {
    "duration": 17,
    "start_time": "2023-04-26T17:14:41.161Z"
   },
   {
    "duration": 692,
    "start_time": "2023-04-26T17:14:42.700Z"
   },
   {
    "duration": 33,
    "start_time": "2023-04-26T17:14:59.268Z"
   },
   {
    "duration": 16,
    "start_time": "2023-04-26T17:15:36.797Z"
   },
   {
    "duration": 17,
    "start_time": "2023-04-26T17:15:48.821Z"
   },
   {
    "duration": 28,
    "start_time": "2023-04-26T17:15:58.079Z"
   },
   {
    "duration": 3,
    "start_time": "2023-04-26T17:16:11.680Z"
   },
   {
    "duration": 695,
    "start_time": "2023-04-26T17:16:11.685Z"
   },
   {
    "duration": 24,
    "start_time": "2023-04-26T17:16:12.382Z"
   },
   {
    "duration": 15,
    "start_time": "2023-04-26T17:16:12.408Z"
   },
   {
    "duration": 18,
    "start_time": "2023-04-26T17:16:12.424Z"
   },
   {
    "duration": 10,
    "start_time": "2023-04-26T17:16:12.444Z"
   },
   {
    "duration": 45,
    "start_time": "2023-04-26T17:16:12.456Z"
   },
   {
    "duration": 21,
    "start_time": "2023-04-26T17:16:12.503Z"
   },
   {
    "duration": 274,
    "start_time": "2023-04-26T17:16:12.527Z"
   },
   {
    "duration": 15,
    "start_time": "2023-04-26T17:16:12.803Z"
   },
   {
    "duration": 5,
    "start_time": "2023-04-26T17:16:12.821Z"
   },
   {
    "duration": 356,
    "start_time": "2023-04-26T17:16:12.828Z"
   },
   {
    "duration": 340,
    "start_time": "2023-04-26T17:16:13.186Z"
   },
   {
    "duration": 348,
    "start_time": "2023-04-26T17:16:13.527Z"
   },
   {
    "duration": 15,
    "start_time": "2023-04-26T17:16:13.877Z"
   },
   {
    "duration": 151,
    "start_time": "2023-04-26T17:16:13.893Z"
   },
   {
    "duration": 131,
    "start_time": "2023-04-26T17:16:14.045Z"
   },
   {
    "duration": 25,
    "start_time": "2023-04-26T17:16:14.178Z"
   },
   {
    "duration": 340,
    "start_time": "2023-04-26T17:16:14.204Z"
   },
   {
    "duration": 28,
    "start_time": "2023-04-26T17:16:14.546Z"
   },
   {
    "duration": 22,
    "start_time": "2023-04-26T17:16:14.576Z"
   },
   {
    "duration": 12,
    "start_time": "2023-04-26T17:16:14.600Z"
   },
   {
    "duration": 26,
    "start_time": "2023-04-26T17:16:14.613Z"
   },
   {
    "duration": 13,
    "start_time": "2023-04-26T17:16:14.642Z"
   },
   {
    "duration": 16,
    "start_time": "2023-04-26T17:16:14.656Z"
   },
   {
    "duration": 18,
    "start_time": "2023-04-26T17:16:14.674Z"
   },
   {
    "duration": 698,
    "start_time": "2023-04-26T17:16:14.695Z"
   },
   {
    "duration": 6,
    "start_time": "2023-04-26T17:16:32.094Z"
   },
   {
    "duration": 107198,
    "start_time": "2023-04-26T17:16:39.498Z"
   },
   {
    "duration": 0,
    "start_time": "2023-04-26T17:18:26.698Z"
   },
   {
    "duration": 342685,
    "start_time": "2023-04-26T17:18:38.135Z"
   },
   {
    "duration": 6160,
    "start_time": "2023-04-26T17:24:20.822Z"
   },
   {
    "duration": 570,
    "start_time": "2023-04-26T17:24:26.984Z"
   },
   {
    "duration": 180,
    "start_time": "2023-04-26T17:25:02.612Z"
   },
   {
    "duration": 191,
    "start_time": "2023-04-26T17:25:16.404Z"
   },
   {
    "duration": 6,
    "start_time": "2023-04-26T17:27:18.100Z"
   },
   {
    "duration": 18,
    "start_time": "2023-04-26T17:27:29.122Z"
   },
   {
    "duration": 62,
    "start_time": "2023-04-26T17:27:38.006Z"
   },
   {
    "duration": 17,
    "start_time": "2023-04-26T17:27:52.416Z"
   },
   {
    "duration": 22,
    "start_time": "2023-04-26T17:28:37.552Z"
   },
   {
    "duration": 28,
    "start_time": "2023-04-26T17:28:41.594Z"
   },
   {
    "duration": 34,
    "start_time": "2023-04-26T17:29:42.806Z"
   },
   {
    "duration": 20,
    "start_time": "2023-04-26T17:29:57.769Z"
   },
   {
    "duration": 1173,
    "start_time": "2023-04-26T17:30:35.028Z"
   },
   {
    "duration": 1226,
    "start_time": "2023-04-26T17:31:07.301Z"
   },
   {
    "duration": 32,
    "start_time": "2023-04-26T17:31:21.195Z"
   },
   {
    "duration": 6,
    "start_time": "2023-04-26T17:31:33.869Z"
   },
   {
    "duration": 21,
    "start_time": "2023-04-26T17:31:34.644Z"
   },
   {
    "duration": 27,
    "start_time": "2023-04-26T17:31:37.446Z"
   },
   {
    "duration": 34,
    "start_time": "2023-04-26T17:31:38.145Z"
   },
   {
    "duration": 3,
    "start_time": "2023-04-26T17:31:54.987Z"
   },
   {
    "duration": 656,
    "start_time": "2023-04-26T17:31:54.993Z"
   },
   {
    "duration": 18,
    "start_time": "2023-04-26T17:31:55.651Z"
   },
   {
    "duration": 38,
    "start_time": "2023-04-26T17:31:55.672Z"
   },
   {
    "duration": 36,
    "start_time": "2023-04-26T17:31:55.712Z"
   },
   {
    "duration": 8,
    "start_time": "2023-04-26T17:31:55.751Z"
   },
   {
    "duration": 31,
    "start_time": "2023-04-26T17:31:55.761Z"
   },
   {
    "duration": 33,
    "start_time": "2023-04-26T17:31:55.794Z"
   },
   {
    "duration": 234,
    "start_time": "2023-04-26T17:31:55.831Z"
   },
   {
    "duration": 11,
    "start_time": "2023-04-26T17:31:56.067Z"
   },
   {
    "duration": 27,
    "start_time": "2023-04-26T17:31:56.079Z"
   },
   {
    "duration": 332,
    "start_time": "2023-04-26T17:31:56.108Z"
   },
   {
    "duration": 343,
    "start_time": "2023-04-26T17:31:56.442Z"
   },
   {
    "duration": 352,
    "start_time": "2023-04-26T17:31:56.787Z"
   },
   {
    "duration": 9,
    "start_time": "2023-04-26T17:31:57.141Z"
   },
   {
    "duration": 170,
    "start_time": "2023-04-26T17:31:57.152Z"
   },
   {
    "duration": 239,
    "start_time": "2023-04-26T17:31:57.323Z"
   },
   {
    "duration": 30,
    "start_time": "2023-04-26T17:31:57.564Z"
   },
   {
    "duration": 314,
    "start_time": "2023-04-26T17:31:57.596Z"
   },
   {
    "duration": 26,
    "start_time": "2023-04-26T17:31:57.912Z"
   },
   {
    "duration": 9,
    "start_time": "2023-04-26T17:31:57.940Z"
   },
   {
    "duration": 19,
    "start_time": "2023-04-26T17:31:57.951Z"
   },
   {
    "duration": 23,
    "start_time": "2023-04-26T17:31:57.973Z"
   },
   {
    "duration": 16,
    "start_time": "2023-04-26T17:31:58.000Z"
   },
   {
    "duration": 18,
    "start_time": "2023-04-26T17:31:58.018Z"
   },
   {
    "duration": 9,
    "start_time": "2023-04-26T17:31:58.038Z"
   },
   {
    "duration": 655,
    "start_time": "2023-04-26T17:31:58.049Z"
   },
   {
    "duration": 86,
    "start_time": "2023-04-26T17:31:58.707Z"
   },
   {
    "duration": 343345,
    "start_time": "2023-04-26T17:31:58.798Z"
   },
   {
    "duration": 6273,
    "start_time": "2023-04-26T17:37:42.145Z"
   },
   {
    "duration": 273,
    "start_time": "2023-04-26T17:37:48.420Z"
   },
   {
    "duration": 8,
    "start_time": "2023-04-26T17:37:48.696Z"
   },
   {
    "duration": 10,
    "start_time": "2023-04-26T17:37:48.705Z"
   },
   {
    "duration": 14,
    "start_time": "2023-04-26T17:37:48.717Z"
   },
   {
    "duration": 17,
    "start_time": "2023-04-26T17:37:48.733Z"
   },
   {
    "duration": 43,
    "start_time": "2023-04-26T17:37:48.752Z"
   },
   {
    "duration": 0,
    "start_time": "2023-04-26T17:37:48.797Z"
   },
   {
    "duration": 0,
    "start_time": "2023-04-26T17:37:48.798Z"
   },
   {
    "duration": 14,
    "start_time": "2023-04-26T17:38:21.823Z"
   },
   {
    "duration": 39,
    "start_time": "2023-04-26T17:38:35.835Z"
   },
   {
    "duration": 6,
    "start_time": "2023-04-26T17:38:59.571Z"
   },
   {
    "duration": 6,
    "start_time": "2023-04-26T17:39:50.412Z"
   },
   {
    "duration": 9,
    "start_time": "2023-04-26T17:40:01.717Z"
   },
   {
    "duration": 1264,
    "start_time": "2023-04-26T17:40:05.031Z"
   },
   {
    "duration": 32,
    "start_time": "2023-04-26T17:40:16.207Z"
   },
   {
    "duration": 6,
    "start_time": "2023-04-26T17:40:24.491Z"
   },
   {
    "duration": 5,
    "start_time": "2023-04-26T17:40:42.781Z"
   },
   {
    "duration": 4,
    "start_time": "2023-04-26T17:41:08.532Z"
   },
   {
    "duration": 6,
    "start_time": "2023-04-26T17:41:09.911Z"
   },
   {
    "duration": 5,
    "start_time": "2023-04-26T17:41:10.719Z"
   },
   {
    "duration": 4,
    "start_time": "2023-04-26T17:41:14.356Z"
   },
   {
    "duration": 15,
    "start_time": "2023-04-26T17:41:15.919Z"
   },
   {
    "duration": 5,
    "start_time": "2023-04-26T17:41:22.790Z"
   },
   {
    "duration": 10,
    "start_time": "2023-04-26T17:41:34.483Z"
   },
   {
    "duration": 6,
    "start_time": "2023-04-26T17:41:35.213Z"
   },
   {
    "duration": 4,
    "start_time": "2023-04-26T17:41:39.166Z"
   },
   {
    "duration": 13,
    "start_time": "2023-04-26T17:41:49.911Z"
   },
   {
    "duration": 5,
    "start_time": "2023-04-26T17:41:54.533Z"
   },
   {
    "duration": 18,
    "start_time": "2023-04-26T17:42:02.828Z"
   },
   {
    "duration": 5,
    "start_time": "2023-04-26T17:42:03.841Z"
   },
   {
    "duration": 6,
    "start_time": "2023-04-26T17:42:37.761Z"
   },
   {
    "duration": 6,
    "start_time": "2023-04-26T17:42:39.382Z"
   },
   {
    "duration": 5,
    "start_time": "2023-04-26T17:42:42.699Z"
   },
   {
    "duration": 6,
    "start_time": "2023-04-26T17:42:45.538Z"
   },
   {
    "duration": 7,
    "start_time": "2023-04-26T17:42:56.250Z"
   },
   {
    "duration": 6,
    "start_time": "2023-04-26T17:42:56.942Z"
   },
   {
    "duration": 5,
    "start_time": "2023-04-26T17:43:00.778Z"
   },
   {
    "duration": 20,
    "start_time": "2023-04-26T17:43:05.184Z"
   },
   {
    "duration": 5,
    "start_time": "2023-04-26T17:43:05.923Z"
   },
   {
    "duration": 8,
    "start_time": "2023-04-26T17:43:10.558Z"
   },
   {
    "duration": 6,
    "start_time": "2023-04-26T17:43:19.352Z"
   },
   {
    "duration": 10,
    "start_time": "2023-04-26T17:43:25.441Z"
   },
   {
    "duration": 6,
    "start_time": "2023-04-26T17:43:49.842Z"
   },
   {
    "duration": 733,
    "start_time": "2023-04-26T17:44:08.666Z"
   },
   {
    "duration": 298473,
    "start_time": "2023-04-26T17:45:00.152Z"
   },
   {
    "duration": 0,
    "start_time": "2023-04-26T17:49:58.626Z"
   },
   {
    "duration": 27,
    "start_time": "2023-04-26T17:51:08.133Z"
   },
   {
    "duration": 28,
    "start_time": "2023-04-26T17:51:09.440Z"
   },
   {
    "duration": 1163,
    "start_time": "2023-04-26T17:51:11.822Z"
   },
   {
    "duration": 4,
    "start_time": "2023-04-26T17:51:15.306Z"
   },
   {
    "duration": 769,
    "start_time": "2023-04-26T17:51:15.313Z"
   },
   {
    "duration": 32,
    "start_time": "2023-04-26T17:51:16.085Z"
   },
   {
    "duration": 15,
    "start_time": "2023-04-26T17:51:16.120Z"
   },
   {
    "duration": 54,
    "start_time": "2023-04-26T17:51:16.137Z"
   },
   {
    "duration": 10,
    "start_time": "2023-04-26T17:51:16.194Z"
   },
   {
    "duration": 46,
    "start_time": "2023-04-26T17:51:16.206Z"
   },
   {
    "duration": 43,
    "start_time": "2023-04-26T17:51:16.254Z"
   },
   {
    "duration": 269,
    "start_time": "2023-04-26T17:51:16.300Z"
   },
   {
    "duration": 12,
    "start_time": "2023-04-26T17:51:16.571Z"
   },
   {
    "duration": 4,
    "start_time": "2023-04-26T17:51:16.592Z"
   },
   {
    "duration": 343,
    "start_time": "2023-04-26T17:51:16.598Z"
   },
   {
    "duration": 336,
    "start_time": "2023-04-26T17:51:16.943Z"
   },
   {
    "duration": 348,
    "start_time": "2023-04-26T17:51:17.281Z"
   },
   {
    "duration": 7,
    "start_time": "2023-04-26T17:51:17.631Z"
   },
   {
    "duration": 203,
    "start_time": "2023-04-26T17:51:17.640Z"
   },
   {
    "duration": 182,
    "start_time": "2023-04-26T17:51:17.845Z"
   },
   {
    "duration": 22,
    "start_time": "2023-04-26T17:51:18.029Z"
   },
   {
    "duration": 352,
    "start_time": "2023-04-26T17:51:18.054Z"
   },
   {
    "duration": 26,
    "start_time": "2023-04-26T17:51:21.041Z"
   },
   {
    "duration": 31,
    "start_time": "2023-04-26T17:51:22.053Z"
   },
   {
    "duration": 8,
    "start_time": "2023-04-26T17:51:26.703Z"
   },
   {
    "duration": 26,
    "start_time": "2023-04-26T17:51:30.005Z"
   },
   {
    "duration": 10,
    "start_time": "2023-04-26T17:51:46.300Z"
   },
   {
    "duration": 6,
    "start_time": "2023-04-26T17:52:25.086Z"
   },
   {
    "duration": 3,
    "start_time": "2023-04-26T17:54:23.344Z"
   },
   {
    "duration": 114,
    "start_time": "2023-04-26T17:59:09.378Z"
   },
   {
    "duration": 180,
    "start_time": "2023-04-26T17:59:39.036Z"
   },
   {
    "duration": 4,
    "start_time": "2023-04-26T17:59:42.958Z"
   },
   {
    "duration": 496,
    "start_time": "2023-04-26T17:59:43.806Z"
   },
   {
    "duration": 1480,
    "start_time": "2023-04-26T18:00:27.918Z"
   },
   {
    "duration": 62314,
    "start_time": "2023-04-26T18:07:29.719Z"
   },
   {
    "duration": 476212,
    "start_time": "2023-04-26T18:08:49.210Z"
   },
   {
    "duration": 0,
    "start_time": "2023-04-26T18:16:45.425Z"
   },
   {
    "duration": 9172,
    "start_time": "2023-04-26T18:16:53.704Z"
   },
   {
    "duration": 1156333,
    "start_time": "2023-04-26T18:17:11.022Z"
   },
   {
    "duration": 20613,
    "start_time": "2023-04-26T18:36:27.357Z"
   },
   {
    "duration": 1145652,
    "start_time": "2023-04-26T18:49:14.617Z"
   },
   {
    "duration": 19667,
    "start_time": "2023-04-26T19:08:20.271Z"
   },
   {
    "duration": 247,
    "start_time": "2023-04-26T19:14:12.224Z"
   },
   {
    "duration": 224,
    "start_time": "2023-04-26T19:14:21.407Z"
   },
   {
    "duration": 38163,
    "start_time": "2023-04-26T19:15:11.197Z"
   },
   {
    "duration": 22215,
    "start_time": "2023-04-26T19:16:15.892Z"
   },
   {
    "duration": 16,
    "start_time": "2023-04-26T19:16:49.439Z"
   },
   {
    "duration": 488,
    "start_time": "2023-04-26T19:16:54.916Z"
   },
   {
    "duration": 42,
    "start_time": "2023-04-27T15:22:01.681Z"
   },
   {
    "duration": 45,
    "start_time": "2023-04-27T15:22:12.157Z"
   },
   {
    "duration": 14,
    "start_time": "2023-04-27T15:55:23.961Z"
   },
   {
    "duration": 1528,
    "start_time": "2023-04-27T18:05:16.883Z"
   },
   {
    "duration": 2168,
    "start_time": "2023-04-27T18:05:18.413Z"
   },
   {
    "duration": 19,
    "start_time": "2023-04-27T18:05:20.582Z"
   },
   {
    "duration": 13,
    "start_time": "2023-04-27T18:05:20.602Z"
   },
   {
    "duration": 29,
    "start_time": "2023-04-27T18:05:20.616Z"
   },
   {
    "duration": 9,
    "start_time": "2023-04-27T18:05:20.647Z"
   },
   {
    "duration": 9,
    "start_time": "2023-04-27T18:05:20.657Z"
   },
   {
    "duration": 29,
    "start_time": "2023-04-27T18:05:20.667Z"
   },
   {
    "duration": 262,
    "start_time": "2023-04-27T18:05:20.697Z"
   },
   {
    "duration": 71,
    "start_time": "2023-04-27T18:05:25.098Z"
   },
   {
    "duration": 719,
    "start_time": "2023-04-27T18:05:34.180Z"
   },
   {
    "duration": 578,
    "start_time": "2023-04-27T18:05:52.133Z"
   },
   {
    "duration": 93,
    "start_time": "2023-04-27T18:07:04.701Z"
   },
   {
    "duration": 12,
    "start_time": "2023-04-27T18:07:25.313Z"
   },
   {
    "duration": 4,
    "start_time": "2023-04-27T18:07:29.143Z"
   },
   {
    "duration": 388,
    "start_time": "2023-04-27T18:07:34.369Z"
   },
   {
    "duration": 364,
    "start_time": "2023-04-27T18:08:51.330Z"
   },
   {
    "duration": 353,
    "start_time": "2023-04-27T18:08:53.991Z"
   },
   {
    "duration": 387,
    "start_time": "2023-04-27T18:08:59.375Z"
   },
   {
    "duration": 1218,
    "start_time": "2023-04-27T18:13:22.199Z"
   },
   {
    "duration": 15,
    "start_time": "2023-04-27T18:15:32.600Z"
   },
   {
    "duration": 4,
    "start_time": "2023-04-27T18:15:34.849Z"
   },
   {
    "duration": 394,
    "start_time": "2023-04-27T18:15:36.365Z"
   },
   {
    "duration": 20,
    "start_time": "2023-04-27T18:17:49.445Z"
   },
   {
    "duration": 4,
    "start_time": "2023-04-27T18:17:50.901Z"
   },
   {
    "duration": 364,
    "start_time": "2023-04-27T18:17:51.679Z"
   },
   {
    "duration": 352,
    "start_time": "2023-04-27T18:17:58.457Z"
   },
   {
    "duration": 389,
    "start_time": "2023-04-27T18:18:00.899Z"
   },
   {
    "duration": 6,
    "start_time": "2023-04-27T18:18:16.417Z"
   },
   {
    "duration": 21,
    "start_time": "2023-04-27T18:18:41.265Z"
   },
   {
    "duration": 4,
    "start_time": "2023-04-27T18:18:43.149Z"
   },
   {
    "duration": 376,
    "start_time": "2023-04-27T18:18:43.901Z"
   },
   {
    "duration": 372,
    "start_time": "2023-04-27T18:19:14.203Z"
   },
   {
    "duration": 372,
    "start_time": "2023-04-27T18:19:16.767Z"
   },
   {
    "duration": 34,
    "start_time": "2023-04-27T18:19:58.820Z"
   },
   {
    "duration": 11,
    "start_time": "2023-04-27T18:20:10.575Z"
   },
   {
    "duration": 22,
    "start_time": "2023-04-27T18:20:14.112Z"
   },
   {
    "duration": 6,
    "start_time": "2023-04-27T18:20:44.068Z"
   },
   {
    "duration": 19,
    "start_time": "2023-04-27T18:21:08.177Z"
   },
   {
    "duration": 19,
    "start_time": "2023-04-27T18:21:09.765Z"
   },
   {
    "duration": 19,
    "start_time": "2023-04-27T18:22:24.907Z"
   },
   {
    "duration": 12,
    "start_time": "2023-04-27T18:22:29.290Z"
   },
   {
    "duration": 13,
    "start_time": "2023-04-27T18:22:36.563Z"
   },
   {
    "duration": 11,
    "start_time": "2023-04-27T18:22:48.184Z"
   },
   {
    "duration": 4,
    "start_time": "2023-04-27T18:22:50.130Z"
   },
   {
    "duration": 351,
    "start_time": "2023-04-27T18:22:51.261Z"
   },
   {
    "duration": 410,
    "start_time": "2023-04-27T18:22:53.659Z"
   },
   {
    "duration": 430,
    "start_time": "2023-04-27T18:22:55.818Z"
   },
   {
    "duration": 54,
    "start_time": "2023-04-27T18:35:38.639Z"
   },
   {
    "duration": 9,
    "start_time": "2023-04-27T18:35:44.036Z"
   },
   {
    "duration": 145,
    "start_time": "2023-04-27T18:36:09.409Z"
   },
   {
    "duration": 230,
    "start_time": "2023-04-27T18:38:06.660Z"
   },
   {
    "duration": 256,
    "start_time": "2023-04-27T18:38:26.363Z"
   },
   {
    "duration": 252,
    "start_time": "2023-04-27T18:38:41.555Z"
   },
   {
    "duration": 244,
    "start_time": "2023-04-27T18:38:59.046Z"
   },
   {
    "duration": 71,
    "start_time": "2023-04-27T18:40:16.615Z"
   },
   {
    "duration": 77,
    "start_time": "2023-04-27T18:40:34.386Z"
   },
   {
    "duration": 75,
    "start_time": "2023-04-27T18:40:49.498Z"
   },
   {
    "duration": 39,
    "start_time": "2023-04-27T18:41:37.060Z"
   },
   {
    "duration": 18,
    "start_time": "2023-04-27T18:41:45.219Z"
   },
   {
    "duration": 18,
    "start_time": "2023-04-27T18:42:42.886Z"
   },
   {
    "duration": 16,
    "start_time": "2023-04-27T18:42:52.817Z"
   },
   {
    "duration": 29,
    "start_time": "2023-04-27T18:43:25.065Z"
   },
   {
    "duration": 21,
    "start_time": "2023-04-27T18:44:53.285Z"
   },
   {
    "duration": 24,
    "start_time": "2023-04-27T18:44:54.143Z"
   },
   {
    "duration": 21,
    "start_time": "2023-04-27T18:45:45.757Z"
   },
   {
    "duration": 11,
    "start_time": "2023-04-27T18:46:35.216Z"
   },
   {
    "duration": 8,
    "start_time": "2023-04-27T18:49:55.864Z"
   },
   {
    "duration": 728,
    "start_time": "2023-04-27T18:49:55.874Z"
   },
   {
    "duration": 16,
    "start_time": "2023-04-27T18:49:56.604Z"
   },
   {
    "duration": 11,
    "start_time": "2023-04-27T18:49:56.622Z"
   },
   {
    "duration": 44,
    "start_time": "2023-04-27T18:49:56.636Z"
   },
   {
    "duration": 7,
    "start_time": "2023-04-27T18:49:56.682Z"
   },
   {
    "duration": 19,
    "start_time": "2023-04-27T18:49:56.691Z"
   },
   {
    "duration": 27,
    "start_time": "2023-04-27T18:49:56.712Z"
   },
   {
    "duration": 276,
    "start_time": "2023-04-27T18:49:56.740Z"
   },
   {
    "duration": 11,
    "start_time": "2023-04-27T18:49:57.017Z"
   },
   {
    "duration": 7,
    "start_time": "2023-04-27T18:49:57.030Z"
   },
   {
    "duration": 383,
    "start_time": "2023-04-27T18:49:57.038Z"
   },
   {
    "duration": 387,
    "start_time": "2023-04-27T18:49:57.422Z"
   },
   {
    "duration": 508,
    "start_time": "2023-04-27T18:49:57.813Z"
   },
   {
    "duration": 8,
    "start_time": "2023-04-27T18:49:58.322Z"
   },
   {
    "duration": 157,
    "start_time": "2023-04-27T18:49:58.332Z"
   },
   {
    "duration": 129,
    "start_time": "2023-04-27T18:49:58.491Z"
   },
   {
    "duration": 41,
    "start_time": "2023-04-27T18:49:58.622Z"
   },
   {
    "duration": 248,
    "start_time": "2023-04-27T18:49:58.666Z"
   },
   {
    "duration": 278,
    "start_time": "2023-04-27T18:49:58.916Z"
   },
   {
    "duration": 259,
    "start_time": "2023-04-27T18:49:59.195Z"
   },
   {
    "duration": 328,
    "start_time": "2023-04-27T18:49:59.456Z"
   },
   {
    "duration": 33,
    "start_time": "2023-04-27T18:49:59.786Z"
   },
   {
    "duration": 18,
    "start_time": "2023-04-27T18:49:59.821Z"
   },
   {
    "duration": 21,
    "start_time": "2023-04-27T18:50:02.074Z"
   },
   {
    "duration": 11,
    "start_time": "2023-04-27T18:50:12.690Z"
   },
   {
    "duration": 17,
    "start_time": "2023-04-27T18:50:16.158Z"
   },
   {
    "duration": 3,
    "start_time": "2023-04-27T18:50:29.019Z"
   },
   {
    "duration": 845,
    "start_time": "2023-04-27T18:50:29.029Z"
   },
   {
    "duration": 146,
    "start_time": "2023-04-27T18:50:29.877Z"
   },
   {
    "duration": 15,
    "start_time": "2023-04-27T18:50:30.025Z"
   },
   {
    "duration": 39,
    "start_time": "2023-04-27T18:50:30.041Z"
   },
   {
    "duration": 7,
    "start_time": "2023-04-27T18:50:30.082Z"
   },
   {
    "duration": 17,
    "start_time": "2023-04-27T18:50:30.090Z"
   },
   {
    "duration": 22,
    "start_time": "2023-04-27T18:50:30.109Z"
   },
   {
    "duration": 279,
    "start_time": "2023-04-27T18:50:30.132Z"
   },
   {
    "duration": 12,
    "start_time": "2023-04-27T18:50:30.413Z"
   },
   {
    "duration": 19,
    "start_time": "2023-04-27T18:50:30.426Z"
   },
   {
    "duration": 438,
    "start_time": "2023-04-27T18:50:30.447Z"
   },
   {
    "duration": 429,
    "start_time": "2023-04-27T18:50:30.887Z"
   },
   {
    "duration": 413,
    "start_time": "2023-04-27T18:50:31.317Z"
   },
   {
    "duration": 7,
    "start_time": "2023-04-27T18:50:31.733Z"
   },
   {
    "duration": 227,
    "start_time": "2023-04-27T18:50:31.742Z"
   },
   {
    "duration": 139,
    "start_time": "2023-04-27T18:50:31.971Z"
   },
   {
    "duration": 47,
    "start_time": "2023-04-27T18:50:32.112Z"
   },
   {
    "duration": 264,
    "start_time": "2023-04-27T18:50:32.162Z"
   },
   {
    "duration": 299,
    "start_time": "2023-04-27T18:50:32.428Z"
   },
   {
    "duration": 270,
    "start_time": "2023-04-27T18:50:32.728Z"
   },
   {
    "duration": 386,
    "start_time": "2023-04-27T18:50:32.999Z"
   },
   {
    "duration": 29,
    "start_time": "2023-04-27T18:50:33.387Z"
   },
   {
    "duration": 15,
    "start_time": "2023-04-27T18:50:33.417Z"
   },
   {
    "duration": 46,
    "start_time": "2023-04-27T18:50:33.434Z"
   },
   {
    "duration": 28,
    "start_time": "2023-04-27T18:50:37.626Z"
   },
   {
    "duration": 13,
    "start_time": "2023-04-27T18:50:42.940Z"
   },
   {
    "duration": 13,
    "start_time": "2023-04-27T18:50:56.950Z"
   },
   {
    "duration": 35,
    "start_time": "2023-04-27T18:51:00.836Z"
   },
   {
    "duration": 12,
    "start_time": "2023-04-27T18:51:05.941Z"
   },
   {
    "duration": 3,
    "start_time": "2023-04-27T18:52:06.194Z"
   },
   {
    "duration": 686,
    "start_time": "2023-04-27T18:52:06.199Z"
   },
   {
    "duration": 18,
    "start_time": "2023-04-27T18:52:06.887Z"
   },
   {
    "duration": 13,
    "start_time": "2023-04-27T18:52:06.906Z"
   },
   {
    "duration": 42,
    "start_time": "2023-04-27T18:52:06.921Z"
   },
   {
    "duration": 15,
    "start_time": "2023-04-27T18:52:06.964Z"
   },
   {
    "duration": 10,
    "start_time": "2023-04-27T18:52:06.981Z"
   },
   {
    "duration": 19,
    "start_time": "2023-04-27T18:52:06.993Z"
   },
   {
    "duration": 278,
    "start_time": "2023-04-27T18:52:07.014Z"
   },
   {
    "duration": 10,
    "start_time": "2023-04-27T18:52:07.294Z"
   },
   {
    "duration": 3,
    "start_time": "2023-04-27T18:52:07.307Z"
   },
   {
    "duration": 380,
    "start_time": "2023-04-27T18:52:07.312Z"
   },
   {
    "duration": 394,
    "start_time": "2023-04-27T18:52:07.694Z"
   },
   {
    "duration": 401,
    "start_time": "2023-04-27T18:52:08.090Z"
   },
   {
    "duration": 7,
    "start_time": "2023-04-27T18:52:08.492Z"
   },
   {
    "duration": 144,
    "start_time": "2023-04-27T18:52:08.501Z"
   },
   {
    "duration": 141,
    "start_time": "2023-04-27T18:52:08.646Z"
   },
   {
    "duration": 37,
    "start_time": "2023-04-27T18:52:08.788Z"
   },
   {
    "duration": 265,
    "start_time": "2023-04-27T18:52:08.826Z"
   },
   {
    "duration": 297,
    "start_time": "2023-04-27T18:52:09.093Z"
   },
   {
    "duration": 324,
    "start_time": "2023-04-27T18:52:09.392Z"
   },
   {
    "duration": 327,
    "start_time": "2023-04-27T18:52:09.718Z"
   },
   {
    "duration": 37,
    "start_time": "2023-04-27T18:52:10.046Z"
   },
   {
    "duration": 16,
    "start_time": "2023-04-27T18:52:10.084Z"
   },
   {
    "duration": 21,
    "start_time": "2023-04-27T18:52:10.103Z"
   },
   {
    "duration": 17,
    "start_time": "2023-04-27T18:52:11.151Z"
   },
   {
    "duration": 14,
    "start_time": "2023-04-27T18:52:23.273Z"
   },
   {
    "duration": 3,
    "start_time": "2023-04-27T18:56:33.833Z"
   },
   {
    "duration": 677,
    "start_time": "2023-04-27T18:56:33.838Z"
   },
   {
    "duration": 174,
    "start_time": "2023-04-27T18:56:34.516Z"
   },
   {
    "duration": 13,
    "start_time": "2023-04-27T18:56:34.692Z"
   },
   {
    "duration": 17,
    "start_time": "2023-04-27T18:56:34.706Z"
   },
   {
    "duration": 8,
    "start_time": "2023-04-27T18:56:34.725Z"
   },
   {
    "duration": 48,
    "start_time": "2023-04-27T18:56:34.734Z"
   },
   {
    "duration": 18,
    "start_time": "2023-04-27T18:56:34.784Z"
   },
   {
    "duration": 284,
    "start_time": "2023-04-27T18:56:34.804Z"
   },
   {
    "duration": 11,
    "start_time": "2023-04-27T18:56:35.090Z"
   },
   {
    "duration": 12,
    "start_time": "2023-04-27T18:56:35.103Z"
   },
   {
    "duration": 371,
    "start_time": "2023-04-27T18:56:35.117Z"
   },
   {
    "duration": 385,
    "start_time": "2023-04-27T18:56:35.490Z"
   },
   {
    "duration": 412,
    "start_time": "2023-04-27T18:56:35.877Z"
   },
   {
    "duration": 9,
    "start_time": "2023-04-27T18:56:36.291Z"
   },
   {
    "duration": 159,
    "start_time": "2023-04-27T18:56:36.302Z"
   },
   {
    "duration": 137,
    "start_time": "2023-04-27T18:56:36.464Z"
   },
   {
    "duration": 37,
    "start_time": "2023-04-27T18:56:36.602Z"
   },
   {
    "duration": 254,
    "start_time": "2023-04-27T18:56:36.640Z"
   },
   {
    "duration": 263,
    "start_time": "2023-04-27T18:56:36.896Z"
   },
   {
    "duration": 268,
    "start_time": "2023-04-27T18:56:37.161Z"
   },
   {
    "duration": 267,
    "start_time": "2023-04-27T18:56:37.431Z"
   },
   {
    "duration": 29,
    "start_time": "2023-04-27T18:56:37.699Z"
   },
   {
    "duration": 32,
    "start_time": "2023-04-27T18:56:37.730Z"
   },
   {
    "duration": 24,
    "start_time": "2023-04-27T18:56:37.766Z"
   },
   {
    "duration": 13,
    "start_time": "2023-04-27T18:56:38.999Z"
   },
   {
    "duration": 31,
    "start_time": "2023-04-27T18:56:44.907Z"
   },
   {
    "duration": 28,
    "start_time": "2023-04-27T18:56:51.825Z"
   },
   {
    "duration": 29,
    "start_time": "2023-04-27T18:58:56.127Z"
   },
   {
    "duration": 9,
    "start_time": "2023-04-27T19:01:07.102Z"
   },
   {
    "duration": 7,
    "start_time": "2023-04-27T19:01:14.835Z"
   },
   {
    "duration": 22,
    "start_time": "2023-04-27T19:03:20.656Z"
   },
   {
    "duration": 13,
    "start_time": "2023-04-27T19:03:38.157Z"
   },
   {
    "duration": 38,
    "start_time": "2023-04-27T19:03:39.812Z"
   },
   {
    "duration": 5,
    "start_time": "2023-04-27T19:03:51.914Z"
   },
   {
    "duration": 6,
    "start_time": "2023-04-27T19:04:01.444Z"
   },
   {
    "duration": 32,
    "start_time": "2023-04-27T19:04:18.161Z"
   },
   {
    "duration": 10,
    "start_time": "2023-04-27T19:05:56.654Z"
   },
   {
    "duration": 10,
    "start_time": "2023-04-27T19:06:13.172Z"
   },
   {
    "duration": 4,
    "start_time": "2023-04-27T19:07:18.078Z"
   },
   {
    "duration": 210,
    "start_time": "2023-04-27T19:08:33.169Z"
   },
   {
    "duration": 5,
    "start_time": "2023-04-27T19:10:06.871Z"
   },
   {
    "duration": 4,
    "start_time": "2023-04-27T19:10:21.715Z"
   },
   {
    "duration": 5,
    "start_time": "2023-04-27T19:10:44.282Z"
   },
   {
    "duration": 22,
    "start_time": "2023-04-27T19:10:47.831Z"
   },
   {
    "duration": 4,
    "start_time": "2023-04-27T19:11:04.027Z"
   },
   {
    "duration": 715,
    "start_time": "2023-04-27T19:11:04.047Z"
   },
   {
    "duration": 23,
    "start_time": "2023-04-27T19:11:04.764Z"
   },
   {
    "duration": 14,
    "start_time": "2023-04-27T19:11:04.789Z"
   },
   {
    "duration": 21,
    "start_time": "2023-04-27T19:11:04.806Z"
   },
   {
    "duration": 36,
    "start_time": "2023-04-27T19:11:04.830Z"
   },
   {
    "duration": 10,
    "start_time": "2023-04-27T19:11:04.868Z"
   },
   {
    "duration": 25,
    "start_time": "2023-04-27T19:11:04.880Z"
   },
   {
    "duration": 275,
    "start_time": "2023-04-27T19:11:04.908Z"
   },
   {
    "duration": 12,
    "start_time": "2023-04-27T19:11:05.185Z"
   },
   {
    "duration": 6,
    "start_time": "2023-04-27T19:11:05.199Z"
   },
   {
    "duration": 387,
    "start_time": "2023-04-27T19:11:05.207Z"
   },
   {
    "duration": 385,
    "start_time": "2023-04-27T19:11:05.596Z"
   },
   {
    "duration": 402,
    "start_time": "2023-04-27T19:11:05.983Z"
   },
   {
    "duration": 9,
    "start_time": "2023-04-27T19:11:06.388Z"
   },
   {
    "duration": 155,
    "start_time": "2023-04-27T19:11:06.398Z"
   },
   {
    "duration": 327,
    "start_time": "2023-04-27T19:11:06.560Z"
   },
   {
    "duration": 41,
    "start_time": "2023-04-27T19:11:06.889Z"
   },
   {
    "duration": 288,
    "start_time": "2023-04-27T19:11:06.933Z"
   },
   {
    "duration": 293,
    "start_time": "2023-04-27T19:11:07.222Z"
   },
   {
    "duration": 266,
    "start_time": "2023-04-27T19:11:07.517Z"
   },
   {
    "duration": 277,
    "start_time": "2023-04-27T19:11:07.785Z"
   },
   {
    "duration": 30,
    "start_time": "2023-04-27T19:11:08.064Z"
   },
   {
    "duration": 22,
    "start_time": "2023-04-27T19:11:08.097Z"
   },
   {
    "duration": 49,
    "start_time": "2023-04-27T19:11:08.122Z"
   },
   {
    "duration": 17,
    "start_time": "2023-04-27T19:11:08.173Z"
   },
   {
    "duration": 13,
    "start_time": "2023-04-27T19:11:08.193Z"
   },
   {
    "duration": 6,
    "start_time": "2023-04-27T19:11:08.209Z"
   },
   {
    "duration": 14,
    "start_time": "2023-04-27T19:11:08.217Z"
   },
   {
    "duration": 12,
    "start_time": "2023-04-27T19:11:08.258Z"
   },
   {
    "duration": 7,
    "start_time": "2023-04-27T19:11:09.015Z"
   },
   {
    "duration": 4,
    "start_time": "2023-04-27T19:11:10.380Z"
   },
   {
    "duration": 185,
    "start_time": "2023-04-27T19:11:14.981Z"
   },
   {
    "duration": 26,
    "start_time": "2023-04-27T19:11:58.958Z"
   },
   {
    "duration": 28,
    "start_time": "2023-04-27T19:12:16.071Z"
   },
   {
    "duration": 30,
    "start_time": "2023-04-27T19:12:26.328Z"
   },
   {
    "duration": 4,
    "start_time": "2023-04-27T19:14:39.900Z"
   },
   {
    "duration": 703,
    "start_time": "2023-04-27T19:14:39.906Z"
   },
   {
    "duration": 17,
    "start_time": "2023-04-27T19:14:40.611Z"
   },
   {
    "duration": 15,
    "start_time": "2023-04-27T19:14:40.630Z"
   },
   {
    "duration": 29,
    "start_time": "2023-04-27T19:14:40.658Z"
   },
   {
    "duration": 8,
    "start_time": "2023-04-27T19:14:40.688Z"
   },
   {
    "duration": 58,
    "start_time": "2023-04-27T19:14:40.697Z"
   },
   {
    "duration": 30,
    "start_time": "2023-04-27T19:14:40.757Z"
   },
   {
    "duration": 259,
    "start_time": "2023-04-27T19:14:40.789Z"
   },
   {
    "duration": 24,
    "start_time": "2023-04-27T19:14:41.050Z"
   },
   {
    "duration": 4,
    "start_time": "2023-04-27T19:14:41.077Z"
   },
   {
    "duration": 389,
    "start_time": "2023-04-27T19:14:41.083Z"
   },
   {
    "duration": 369,
    "start_time": "2023-04-27T19:14:41.479Z"
   },
   {
    "duration": 395,
    "start_time": "2023-04-27T19:14:41.850Z"
   },
   {
    "duration": 17,
    "start_time": "2023-04-27T19:14:42.247Z"
   },
   {
    "duration": 152,
    "start_time": "2023-04-27T19:14:42.269Z"
   },
   {
    "duration": 140,
    "start_time": "2023-04-27T19:14:42.422Z"
   },
   {
    "duration": 41,
    "start_time": "2023-04-27T19:14:42.564Z"
   },
   {
    "duration": 269,
    "start_time": "2023-04-27T19:14:42.607Z"
   },
   {
    "duration": 288,
    "start_time": "2023-04-27T19:14:42.878Z"
   },
   {
    "duration": 475,
    "start_time": "2023-04-27T19:14:43.168Z"
   },
   {
    "duration": 291,
    "start_time": "2023-04-27T19:14:43.645Z"
   },
   {
    "duration": 42,
    "start_time": "2023-04-27T19:14:43.938Z"
   },
   {
    "duration": 19,
    "start_time": "2023-04-27T19:14:47.409Z"
   },
   {
    "duration": 18,
    "start_time": "2023-04-27T19:14:48.321Z"
   },
   {
    "duration": 19,
    "start_time": "2023-04-27T19:14:53.798Z"
   },
   {
    "duration": 9,
    "start_time": "2023-04-27T19:15:34.585Z"
   },
   {
    "duration": 12,
    "start_time": "2023-04-27T19:15:58.853Z"
   },
   {
    "duration": 11,
    "start_time": "2023-04-27T19:16:04.212Z"
   },
   {
    "duration": 4,
    "start_time": "2023-04-27T19:16:21.039Z"
   },
   {
    "duration": 782,
    "start_time": "2023-04-27T19:16:21.044Z"
   },
   {
    "duration": 17,
    "start_time": "2023-04-27T19:16:21.828Z"
   },
   {
    "duration": 30,
    "start_time": "2023-04-27T19:16:21.846Z"
   },
   {
    "duration": 28,
    "start_time": "2023-04-27T19:16:21.879Z"
   },
   {
    "duration": 7,
    "start_time": "2023-04-27T19:16:21.908Z"
   },
   {
    "duration": 25,
    "start_time": "2023-04-27T19:16:21.917Z"
   },
   {
    "duration": 39,
    "start_time": "2023-04-27T19:16:21.960Z"
   },
   {
    "duration": 274,
    "start_time": "2023-04-27T19:16:22.001Z"
   },
   {
    "duration": 14,
    "start_time": "2023-04-27T19:16:22.277Z"
   },
   {
    "duration": 9,
    "start_time": "2023-04-27T19:16:22.293Z"
   },
   {
    "duration": 443,
    "start_time": "2023-04-27T19:16:22.303Z"
   },
   {
    "duration": 458,
    "start_time": "2023-04-27T19:16:22.748Z"
   },
   {
    "duration": 445,
    "start_time": "2023-04-27T19:16:23.209Z"
   },
   {
    "duration": 11,
    "start_time": "2023-04-27T19:16:23.658Z"
   },
   {
    "duration": 171,
    "start_time": "2023-04-27T19:16:23.672Z"
   },
   {
    "duration": 151,
    "start_time": "2023-04-27T19:16:23.844Z"
   },
   {
    "duration": 39,
    "start_time": "2023-04-27T19:16:23.997Z"
   },
   {
    "duration": 298,
    "start_time": "2023-04-27T19:16:24.038Z"
   },
   {
    "duration": 308,
    "start_time": "2023-04-27T19:16:24.337Z"
   },
   {
    "duration": 334,
    "start_time": "2023-04-27T19:16:24.647Z"
   },
   {
    "duration": 286,
    "start_time": "2023-04-27T19:16:24.983Z"
   },
   {
    "duration": 35,
    "start_time": "2023-04-27T19:16:25.271Z"
   },
   {
    "duration": 18,
    "start_time": "2023-04-27T19:16:25.308Z"
   },
   {
    "duration": 4,
    "start_time": "2023-04-27T19:16:43.400Z"
   },
   {
    "duration": 790,
    "start_time": "2023-04-27T19:16:43.406Z"
   },
   {
    "duration": 16,
    "start_time": "2023-04-27T19:16:44.198Z"
   },
   {
    "duration": 12,
    "start_time": "2023-04-27T19:16:44.215Z"
   },
   {
    "duration": 50,
    "start_time": "2023-04-27T19:16:44.229Z"
   },
   {
    "duration": 8,
    "start_time": "2023-04-27T19:16:44.289Z"
   },
   {
    "duration": 15,
    "start_time": "2023-04-27T19:16:44.298Z"
   },
   {
    "duration": 20,
    "start_time": "2023-04-27T19:16:44.314Z"
   },
   {
    "duration": 285,
    "start_time": "2023-04-27T19:16:44.336Z"
   },
   {
    "duration": 11,
    "start_time": "2023-04-27T19:16:44.622Z"
   },
   {
    "duration": 7,
    "start_time": "2023-04-27T19:16:44.635Z"
   },
   {
    "duration": 452,
    "start_time": "2023-04-27T19:16:44.644Z"
   },
   {
    "duration": 430,
    "start_time": "2023-04-27T19:16:45.099Z"
   },
   {
    "duration": 482,
    "start_time": "2023-04-27T19:16:45.532Z"
   },
   {
    "duration": 8,
    "start_time": "2023-04-27T19:16:46.015Z"
   },
   {
    "duration": 171,
    "start_time": "2023-04-27T19:16:46.024Z"
   },
   {
    "duration": 163,
    "start_time": "2023-04-27T19:16:46.197Z"
   },
   {
    "duration": 47,
    "start_time": "2023-04-27T19:16:46.364Z"
   },
   {
    "duration": 552,
    "start_time": "2023-04-27T19:16:46.412Z"
   },
   {
    "duration": 325,
    "start_time": "2023-04-27T19:16:46.966Z"
   },
   {
    "duration": 291,
    "start_time": "2023-04-27T19:16:47.294Z"
   },
   {
    "duration": 309,
    "start_time": "2023-04-27T19:16:47.588Z"
   },
   {
    "duration": 28,
    "start_time": "2023-04-27T19:16:47.899Z"
   },
   {
    "duration": 21,
    "start_time": "2023-04-27T19:16:49.310Z"
   },
   {
    "duration": 12,
    "start_time": "2023-04-27T19:16:52.459Z"
   },
   {
    "duration": 34,
    "start_time": "2023-04-27T19:16:53.836Z"
   },
   {
    "duration": 33,
    "start_time": "2023-04-27T19:17:15.287Z"
   },
   {
    "duration": 32,
    "start_time": "2023-04-27T19:17:25.286Z"
   },
   {
    "duration": 7,
    "start_time": "2023-04-27T19:17:35.187Z"
   },
   {
    "duration": 13,
    "start_time": "2023-04-27T19:17:59.603Z"
   },
   {
    "duration": 9,
    "start_time": "2023-04-27T19:18:01.859Z"
   },
   {
    "duration": 27,
    "start_time": "2023-04-27T19:18:21.019Z"
   },
   {
    "duration": 62,
    "start_time": "2023-04-27T19:18:40.309Z"
   },
   {
    "duration": 9,
    "start_time": "2023-04-27T19:27:26.188Z"
   },
   {
    "duration": 7,
    "start_time": "2023-04-27T19:27:40.680Z"
   },
   {
    "duration": 37,
    "start_time": "2023-04-27T19:27:47.907Z"
   },
   {
    "duration": 16,
    "start_time": "2023-04-27T19:29:06.887Z"
   },
   {
    "duration": 10,
    "start_time": "2023-04-27T19:30:42.557Z"
   },
   {
    "duration": 7,
    "start_time": "2023-04-27T19:30:47.001Z"
   },
   {
    "duration": 58,
    "start_time": "2023-04-27T19:30:58.017Z"
   },
   {
    "duration": 4,
    "start_time": "2023-04-27T19:31:31.704Z"
   },
   {
    "duration": 5,
    "start_time": "2023-04-27T19:32:08.738Z"
   },
   {
    "duration": 1754,
    "start_time": "2023-04-27T19:32:32.407Z"
   },
   {
    "duration": 447599,
    "start_time": "2023-04-27T19:32:38.149Z"
   },
   {
    "duration": 0,
    "start_time": "2023-04-27T19:40:05.750Z"
   },
   {
    "duration": 8,
    "start_time": "2023-04-27T19:40:53.957Z"
   },
   {
    "duration": 534599,
    "start_time": "2023-04-27T19:41:00.624Z"
   },
   {
    "duration": 1,
    "start_time": "2023-04-27T19:49:55.225Z"
   },
   {
    "duration": 849,
    "start_time": "2023-04-27T19:51:02.110Z"
   },
   {
    "duration": 562,
    "start_time": "2023-04-27T19:52:07.412Z"
   },
   {
    "duration": 991,
    "start_time": "2023-04-27T19:52:35.184Z"
   },
   {
    "duration": 7,
    "start_time": "2023-04-27T19:53:02.885Z"
   },
   {
    "duration": 1596,
    "start_time": "2023-04-27T19:54:39.183Z"
   },
   {
    "duration": 352457,
    "start_time": "2023-04-27T19:59:55.562Z"
   },
   {
    "duration": 848189,
    "start_time": "2023-04-27T20:05:48.021Z"
   },
   {
    "duration": 4,
    "start_time": "2023-04-27T20:19:56.211Z"
   },
   {
    "duration": 3,
    "start_time": "2023-04-27T20:20:17.721Z"
   },
   {
    "duration": 6471,
    "start_time": "2023-04-27T20:20:17.726Z"
   },
   {
    "duration": 14522,
    "start_time": "2023-04-27T20:20:24.199Z"
   },
   {
    "duration": 6574,
    "start_time": "2023-04-27T20:23:30.292Z"
   },
   {
    "duration": 15116,
    "start_time": "2023-04-27T20:23:39.416Z"
   },
   {
    "duration": 15,
    "start_time": "2023-04-27T20:27:44.841Z"
   },
   {
    "duration": 4,
    "start_time": "2023-04-27T20:27:53.128Z"
   },
   {
    "duration": 319,
    "start_time": "2023-04-27T20:27:58.309Z"
   },
   {
    "duration": 3663,
    "start_time": "2023-04-27T20:30:28.597Z"
   },
   {
    "duration": 87,
    "start_time": "2023-04-27T20:31:28.545Z"
   },
   {
    "duration": 3483,
    "start_time": "2023-04-27T20:32:39.986Z"
   },
   {
    "duration": 93,
    "start_time": "2023-04-27T20:32:43.471Z"
   },
   {
    "duration": 3,
    "start_time": "2023-04-27T20:32:43.566Z"
   },
   {
    "duration": 294,
    "start_time": "2023-04-27T20:34:32.332Z"
   },
   {
    "duration": 323,
    "start_time": "2023-04-27T20:37:13.087Z"
   },
   {
    "duration": 18,
    "start_time": "2023-04-27T20:37:27.594Z"
   },
   {
    "duration": 9,
    "start_time": "2023-04-27T20:38:07.740Z"
   },
   {
    "duration": 13,
    "start_time": "2023-04-27T20:38:51.827Z"
   },
   {
    "duration": 11,
    "start_time": "2023-04-27T20:38:56.663Z"
   },
   {
    "duration": 0,
    "start_time": "2023-04-28T16:01:53.116Z"
   },
   {
    "duration": 27,
    "start_time": "2023-04-28T16:01:55.461Z"
   },
   {
    "duration": 78,
    "start_time": "2023-04-28T16:02:04.012Z"
   }
  ],
  "kernelspec": {
   "display_name": "Python 3 (ipykernel)",
   "language": "python",
   "name": "python3"
  },
  "language_info": {
   "codemirror_mode": {
    "name": "ipython",
    "version": 3
   },
   "file_extension": ".py",
   "mimetype": "text/x-python",
   "name": "python",
   "nbconvert_exporter": "python",
   "pygments_lexer": "ipython3",
   "version": "3.11.5"
  },
  "toc": {
   "base_numbering": 1,
   "nav_menu": {},
   "number_sections": true,
   "sideBar": true,
   "skip_h1_title": true,
   "title_cell": "Содержание",
   "title_sidebar": "Contents",
   "toc_cell": true,
   "toc_position": {
    "height": "calc(100% - 180px)",
    "left": "10px",
    "top": "150px",
    "width": "165px"
   },
   "toc_section_display": true,
   "toc_window_display": true
  }
 },
 "nbformat": 4,
 "nbformat_minor": 2
}
