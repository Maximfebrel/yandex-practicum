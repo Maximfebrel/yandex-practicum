{
 "cells": [
  {
   "cell_type": "markdown",
   "metadata": {},
   "source": [
    "# Выбор локации для скважины"
   ]
  },
  {
   "cell_type": "markdown",
   "metadata": {},
   "source": [
    "Допустим, вы работаете в добывающей компании «ГлавРосГосНефть». Нужно решить, где бурить новую скважину.\n",
    "\n",
    "Вам предоставлены пробы нефти в трёх регионах: в каждом 10 000 месторождений, где измерили качество нефти и объём её запасов. Постройте модель машинного обучения, которая поможет определить регион, где добыча принесёт наибольшую прибыль. Проанализируйте возможную прибыль и риски техникой *Bootstrap.*\n",
    "\n",
    "Шаги для выбора локации:\n",
    "\n",
    "- В избранном регионе ищут месторождения, для каждого определяют значения признаков;\n",
    "- Строят модель и оценивают объём запасов;\n",
    "- Выбирают месторождения с самым высокими оценками значений. Количество месторождений зависит от бюджета компании и стоимости разработки одной скважины;\n",
    "- Прибыль равна суммарной прибыли отобранных месторождений."
   ]
  },
  {
   "cell_type": "markdown",
   "metadata": {},
   "source": [
    "## Загрузка и подготовка данных"
   ]
  },
  {
   "cell_type": "code",
   "execution_count": 1,
   "metadata": {},
   "outputs": [],
   "source": [
    "import pandas as pd\n",
    "from sklearn.linear_model import LinearRegression\n",
    "from sklearn.model_selection import train_test_split\n",
    "from sklearn.metrics import mean_squared_error\n",
    "import numpy as np"
   ]
  },
  {
   "cell_type": "code",
   "execution_count": 2,
   "metadata": {},
   "outputs": [],
   "source": [
    "data_0 = pd.read_csv('/datasets/geo_data_0.csv')\n",
    "data_1 = pd.read_csv('/datasets/geo_data_1.csv')\n",
    "data_2 = pd.read_csv('/datasets/geo_data_2.csv')"
   ]
  },
  {
   "cell_type": "code",
   "execution_count": 3,
   "metadata": {
    "scrolled": false
   },
   "outputs": [
    {
     "name": "stdout",
     "output_type": "stream",
     "text": [
      "(100000, 5)\n",
      "<class 'pandas.core.frame.DataFrame'>\n",
      "RangeIndex: 100000 entries, 0 to 99999\n",
      "Data columns (total 5 columns):\n",
      " #   Column   Non-Null Count   Dtype  \n",
      "---  ------   --------------   -----  \n",
      " 0   id       100000 non-null  object \n",
      " 1   f0       100000 non-null  float64\n",
      " 2   f1       100000 non-null  float64\n",
      " 3   f2       100000 non-null  float64\n",
      " 4   product  100000 non-null  float64\n",
      "dtypes: float64(4), object(1)\n",
      "memory usage: 3.8+ MB\n"
     ]
    },
    {
     "data": {
      "text/plain": [
       "None"
      ]
     },
     "metadata": {},
     "output_type": "display_data"
    },
    {
     "data": {
      "text/html": [
       "<div>\n",
       "<style scoped>\n",
       "    .dataframe tbody tr th:only-of-type {\n",
       "        vertical-align: middle;\n",
       "    }\n",
       "\n",
       "    .dataframe tbody tr th {\n",
       "        vertical-align: top;\n",
       "    }\n",
       "\n",
       "    .dataframe thead th {\n",
       "        text-align: right;\n",
       "    }\n",
       "</style>\n",
       "<table border=\"1\" class=\"dataframe\">\n",
       "  <thead>\n",
       "    <tr style=\"text-align: right;\">\n",
       "      <th></th>\n",
       "      <th>id</th>\n",
       "      <th>f0</th>\n",
       "      <th>f1</th>\n",
       "      <th>f2</th>\n",
       "      <th>product</th>\n",
       "    </tr>\n",
       "  </thead>\n",
       "  <tbody>\n",
       "    <tr>\n",
       "      <th>0</th>\n",
       "      <td>txEyH</td>\n",
       "      <td>0.705745</td>\n",
       "      <td>-0.497823</td>\n",
       "      <td>1.221170</td>\n",
       "      <td>105.280062</td>\n",
       "    </tr>\n",
       "    <tr>\n",
       "      <th>1</th>\n",
       "      <td>2acmU</td>\n",
       "      <td>1.334711</td>\n",
       "      <td>-0.340164</td>\n",
       "      <td>4.365080</td>\n",
       "      <td>73.037750</td>\n",
       "    </tr>\n",
       "    <tr>\n",
       "      <th>2</th>\n",
       "      <td>409Wp</td>\n",
       "      <td>1.022732</td>\n",
       "      <td>0.151990</td>\n",
       "      <td>1.419926</td>\n",
       "      <td>85.265647</td>\n",
       "    </tr>\n",
       "    <tr>\n",
       "      <th>3</th>\n",
       "      <td>iJLyR</td>\n",
       "      <td>-0.032172</td>\n",
       "      <td>0.139033</td>\n",
       "      <td>2.978566</td>\n",
       "      <td>168.620776</td>\n",
       "    </tr>\n",
       "    <tr>\n",
       "      <th>4</th>\n",
       "      <td>Xdl7t</td>\n",
       "      <td>1.988431</td>\n",
       "      <td>0.155413</td>\n",
       "      <td>4.751769</td>\n",
       "      <td>154.036647</td>\n",
       "    </tr>\n",
       "  </tbody>\n",
       "</table>\n",
       "</div>"
      ],
      "text/plain": [
       "      id        f0        f1        f2     product\n",
       "0  txEyH  0.705745 -0.497823  1.221170  105.280062\n",
       "1  2acmU  1.334711 -0.340164  4.365080   73.037750\n",
       "2  409Wp  1.022732  0.151990  1.419926   85.265647\n",
       "3  iJLyR -0.032172  0.139033  2.978566  168.620776\n",
       "4  Xdl7t  1.988431  0.155413  4.751769  154.036647"
      ]
     },
     "metadata": {},
     "output_type": "display_data"
    }
   ],
   "source": [
    "print(data_0.shape)\n",
    "display(data_0.info())\n",
    "display(data_0.head(5))"
   ]
  },
  {
   "cell_type": "code",
   "execution_count": 4,
   "metadata": {
    "scrolled": false
   },
   "outputs": [
    {
     "name": "stdout",
     "output_type": "stream",
     "text": [
      "(100000, 5)\n",
      "<class 'pandas.core.frame.DataFrame'>\n",
      "RangeIndex: 100000 entries, 0 to 99999\n",
      "Data columns (total 5 columns):\n",
      " #   Column   Non-Null Count   Dtype  \n",
      "---  ------   --------------   -----  \n",
      " 0   id       100000 non-null  object \n",
      " 1   f0       100000 non-null  float64\n",
      " 2   f1       100000 non-null  float64\n",
      " 3   f2       100000 non-null  float64\n",
      " 4   product  100000 non-null  float64\n",
      "dtypes: float64(4), object(1)\n",
      "memory usage: 3.8+ MB\n"
     ]
    },
    {
     "data": {
      "text/plain": [
       "None"
      ]
     },
     "metadata": {},
     "output_type": "display_data"
    },
    {
     "data": {
      "text/html": [
       "<div>\n",
       "<style scoped>\n",
       "    .dataframe tbody tr th:only-of-type {\n",
       "        vertical-align: middle;\n",
       "    }\n",
       "\n",
       "    .dataframe tbody tr th {\n",
       "        vertical-align: top;\n",
       "    }\n",
       "\n",
       "    .dataframe thead th {\n",
       "        text-align: right;\n",
       "    }\n",
       "</style>\n",
       "<table border=\"1\" class=\"dataframe\">\n",
       "  <thead>\n",
       "    <tr style=\"text-align: right;\">\n",
       "      <th></th>\n",
       "      <th>id</th>\n",
       "      <th>f0</th>\n",
       "      <th>f1</th>\n",
       "      <th>f2</th>\n",
       "      <th>product</th>\n",
       "    </tr>\n",
       "  </thead>\n",
       "  <tbody>\n",
       "    <tr>\n",
       "      <th>0</th>\n",
       "      <td>kBEdx</td>\n",
       "      <td>-15.001348</td>\n",
       "      <td>-8.276000</td>\n",
       "      <td>-0.005876</td>\n",
       "      <td>3.179103</td>\n",
       "    </tr>\n",
       "    <tr>\n",
       "      <th>1</th>\n",
       "      <td>62mP7</td>\n",
       "      <td>14.272088</td>\n",
       "      <td>-3.475083</td>\n",
       "      <td>0.999183</td>\n",
       "      <td>26.953261</td>\n",
       "    </tr>\n",
       "    <tr>\n",
       "      <th>2</th>\n",
       "      <td>vyE1P</td>\n",
       "      <td>6.263187</td>\n",
       "      <td>-5.948386</td>\n",
       "      <td>5.001160</td>\n",
       "      <td>134.766305</td>\n",
       "    </tr>\n",
       "    <tr>\n",
       "      <th>3</th>\n",
       "      <td>KcrkZ</td>\n",
       "      <td>-13.081196</td>\n",
       "      <td>-11.506057</td>\n",
       "      <td>4.999415</td>\n",
       "      <td>137.945408</td>\n",
       "    </tr>\n",
       "    <tr>\n",
       "      <th>4</th>\n",
       "      <td>AHL4O</td>\n",
       "      <td>12.702195</td>\n",
       "      <td>-8.147433</td>\n",
       "      <td>5.004363</td>\n",
       "      <td>134.766305</td>\n",
       "    </tr>\n",
       "  </tbody>\n",
       "</table>\n",
       "</div>"
      ],
      "text/plain": [
       "      id         f0         f1        f2     product\n",
       "0  kBEdx -15.001348  -8.276000 -0.005876    3.179103\n",
       "1  62mP7  14.272088  -3.475083  0.999183   26.953261\n",
       "2  vyE1P   6.263187  -5.948386  5.001160  134.766305\n",
       "3  KcrkZ -13.081196 -11.506057  4.999415  137.945408\n",
       "4  AHL4O  12.702195  -8.147433  5.004363  134.766305"
      ]
     },
     "metadata": {},
     "output_type": "display_data"
    }
   ],
   "source": [
    "print(data_1.shape)\n",
    "display(data_1.info())\n",
    "display(data_1.head(5))"
   ]
  },
  {
   "cell_type": "code",
   "execution_count": 5,
   "metadata": {
    "scrolled": false
   },
   "outputs": [
    {
     "name": "stdout",
     "output_type": "stream",
     "text": [
      "(100000, 5)\n",
      "<class 'pandas.core.frame.DataFrame'>\n",
      "RangeIndex: 100000 entries, 0 to 99999\n",
      "Data columns (total 5 columns):\n",
      " #   Column   Non-Null Count   Dtype  \n",
      "---  ------   --------------   -----  \n",
      " 0   id       100000 non-null  object \n",
      " 1   f0       100000 non-null  float64\n",
      " 2   f1       100000 non-null  float64\n",
      " 3   f2       100000 non-null  float64\n",
      " 4   product  100000 non-null  float64\n",
      "dtypes: float64(4), object(1)\n",
      "memory usage: 3.8+ MB\n"
     ]
    },
    {
     "data": {
      "text/plain": [
       "None"
      ]
     },
     "metadata": {},
     "output_type": "display_data"
    },
    {
     "data": {
      "text/html": [
       "<div>\n",
       "<style scoped>\n",
       "    .dataframe tbody tr th:only-of-type {\n",
       "        vertical-align: middle;\n",
       "    }\n",
       "\n",
       "    .dataframe tbody tr th {\n",
       "        vertical-align: top;\n",
       "    }\n",
       "\n",
       "    .dataframe thead th {\n",
       "        text-align: right;\n",
       "    }\n",
       "</style>\n",
       "<table border=\"1\" class=\"dataframe\">\n",
       "  <thead>\n",
       "    <tr style=\"text-align: right;\">\n",
       "      <th></th>\n",
       "      <th>id</th>\n",
       "      <th>f0</th>\n",
       "      <th>f1</th>\n",
       "      <th>f2</th>\n",
       "      <th>product</th>\n",
       "    </tr>\n",
       "  </thead>\n",
       "  <tbody>\n",
       "    <tr>\n",
       "      <th>0</th>\n",
       "      <td>fwXo0</td>\n",
       "      <td>-1.146987</td>\n",
       "      <td>0.963328</td>\n",
       "      <td>-0.828965</td>\n",
       "      <td>27.758673</td>\n",
       "    </tr>\n",
       "    <tr>\n",
       "      <th>1</th>\n",
       "      <td>WJtFt</td>\n",
       "      <td>0.262778</td>\n",
       "      <td>0.269839</td>\n",
       "      <td>-2.530187</td>\n",
       "      <td>56.069697</td>\n",
       "    </tr>\n",
       "    <tr>\n",
       "      <th>2</th>\n",
       "      <td>ovLUW</td>\n",
       "      <td>0.194587</td>\n",
       "      <td>0.289035</td>\n",
       "      <td>-5.586433</td>\n",
       "      <td>62.871910</td>\n",
       "    </tr>\n",
       "    <tr>\n",
       "      <th>3</th>\n",
       "      <td>q6cA6</td>\n",
       "      <td>2.236060</td>\n",
       "      <td>-0.553760</td>\n",
       "      <td>0.930038</td>\n",
       "      <td>114.572842</td>\n",
       "    </tr>\n",
       "    <tr>\n",
       "      <th>4</th>\n",
       "      <td>WPMUX</td>\n",
       "      <td>-0.515993</td>\n",
       "      <td>1.716266</td>\n",
       "      <td>5.899011</td>\n",
       "      <td>149.600746</td>\n",
       "    </tr>\n",
       "  </tbody>\n",
       "</table>\n",
       "</div>"
      ],
      "text/plain": [
       "      id        f0        f1        f2     product\n",
       "0  fwXo0 -1.146987  0.963328 -0.828965   27.758673\n",
       "1  WJtFt  0.262778  0.269839 -2.530187   56.069697\n",
       "2  ovLUW  0.194587  0.289035 -5.586433   62.871910\n",
       "3  q6cA6  2.236060 -0.553760  0.930038  114.572842\n",
       "4  WPMUX -0.515993  1.716266  5.899011  149.600746"
      ]
     },
     "metadata": {},
     "output_type": "display_data"
    }
   ],
   "source": [
    "print(data_2.shape)\n",
    "display(data_2.info())\n",
    "display(data_2.head(5))"
   ]
  },
  {
   "cell_type": "code",
   "execution_count": 6,
   "metadata": {},
   "outputs": [],
   "source": [
    "data_0 = data_0.drop(['id'], axis=1).copy()\n",
    "data_1 = data_1.drop(['id'], axis=1).copy()\n",
    "data_2 = data_2.drop(['id'], axis=1).copy()"
   ]
  },
  {
   "cell_type": "markdown",
   "metadata": {},
   "source": [
    "**Вывод**\n",
    "\n",
    "Были проанализированы 3 датасета. Пропуски в столбцах отсутствуют. Также все датасеты имеют одинаковый размер. На данном этапы были удалены дубликаты, если таковые имелись. Также датасеты не были объединены, так как интересует выбор наиболее прибыльного региона. Также был удален столбец с индексом скважины."
   ]
  },
  {
   "cell_type": "markdown",
   "metadata": {},
   "source": [
    "## Обучение и проверка модели"
   ]
  },
  {
   "cell_type": "markdown",
   "metadata": {},
   "source": [
    "***Первый датасет***"
   ]
  },
  {
   "cell_type": "code",
   "execution_count": 7,
   "metadata": {},
   "outputs": [],
   "source": [
    "target_0 = data_0['product']\n",
    "features_0 = data_0.drop(['product'], axis=1)\n",
    "\n",
    "features_train_0, features_valid_0, target_train_0, target_valid_0 = train_test_split(\n",
    "    features_0, target_0, test_size=0.25, random_state=12345)"
   ]
  },
  {
   "cell_type": "code",
   "execution_count": 8,
   "metadata": {},
   "outputs": [
    {
     "name": "stdout",
     "output_type": "stream",
     "text": [
      "Средняя квадратичная ошибка на первом датасете по модели линейной регрессии: 37.5794217150813\n"
     ]
    }
   ],
   "source": [
    "model_reg_0 = LinearRegression()\n",
    "model_reg_0.fit(features_train_0, target_train_0)\n",
    "\n",
    "predictions_valid_reg_0 = model_reg_0.predict(features_valid_0)\n",
    "\n",
    "result_reg_0 = (mean_squared_error(target_valid_0, predictions_valid_reg_0))**0.5\n",
    "\n",
    "print('Средняя квадратичная ошибка на первом датасете по модели линейной регрессии:', result_reg_0)"
   ]
  },
  {
   "cell_type": "markdown",
   "metadata": {},
   "source": [
    "***Второй датасет***"
   ]
  },
  {
   "cell_type": "code",
   "execution_count": 9,
   "metadata": {},
   "outputs": [],
   "source": [
    "target_1 = data_1['product']\n",
    "features_1 = data_1.drop(['product'], axis=1)\n",
    "\n",
    "features_train_1, features_valid_1, target_train_1, target_valid_1 = train_test_split(\n",
    "    features_1, target_1, test_size=0.25, random_state=12345)"
   ]
  },
  {
   "cell_type": "code",
   "execution_count": 10,
   "metadata": {},
   "outputs": [
    {
     "name": "stdout",
     "output_type": "stream",
     "text": [
      "Средняя квадратичная ошибка на первом датасете по модели линейной регрессии: 0.893099286775617\n"
     ]
    }
   ],
   "source": [
    "model_reg_1 = LinearRegression()\n",
    "model_reg_1.fit(features_train_1, target_train_1)\n",
    "\n",
    "predictions_valid_reg_1 = model_reg_1.predict(features_valid_1)\n",
    "\n",
    "result_reg_1 = (mean_squared_error(target_valid_1, predictions_valid_reg_1))**0.5\n",
    "\n",
    "print('Средняя квадратичная ошибка на первом датасете по модели линейной регрессии:', result_reg_1)"
   ]
  },
  {
   "cell_type": "markdown",
   "metadata": {},
   "source": [
    "***Третий датасет***"
   ]
  },
  {
   "cell_type": "code",
   "execution_count": 11,
   "metadata": {},
   "outputs": [],
   "source": [
    "target_2 = data_2['product']\n",
    "features_2 = data_2.drop(['product'], axis=1)\n",
    "\n",
    "features_train_2, features_valid_2, target_train_2, target_valid_2 = train_test_split(\n",
    "    features_2, target_2, test_size=0.25, random_state=12345)"
   ]
  },
  {
   "cell_type": "markdown",
   "metadata": {},
   "source": [
    "**Линейная регрессия**"
   ]
  },
  {
   "cell_type": "code",
   "execution_count": 12,
   "metadata": {},
   "outputs": [
    {
     "name": "stdout",
     "output_type": "stream",
     "text": [
      "Средняя квадратичная ошибка на первом датасете по модели линейной регрессии: 40.02970873393434\n"
     ]
    }
   ],
   "source": [
    "model_reg_2 = LinearRegression()\n",
    "model_reg_2.fit(features_train_2, target_train_2)\n",
    "\n",
    "predictions_valid_reg_2 = model_reg_2.predict(features_valid_2)\n",
    "\n",
    "result_reg_2 = (mean_squared_error(target_valid_2, predictions_valid_reg_2))**0.5\n",
    "\n",
    "print('Средняя квадратичная ошибка на первом датасете по модели линейной регрессии:', result_reg_2)"
   ]
  },
  {
   "cell_type": "code",
   "execution_count": 13,
   "metadata": {},
   "outputs": [
    {
     "name": "stdout",
     "output_type": "stream",
     "text": [
      "Первый регион\n",
      "Среднее значение предсказанных запасов нефти в первом регионе в скважине составляет 92.59256778438035\n",
      "RMSE модели составляет 37.5794217150813\n",
      "Второй регион\n",
      "Среднее значение предсказанных запасов нефти во втором регионе в скважине составляет 68.728546895446\n",
      "RMSE модели составляет 0.893099286775617\n",
      "Третий регион\n",
      "Среднее значение предсказанных запасов нефти в первом регионе в скважине составляет 94.96504596800489\n",
      "RMSE модели составляет 40.02970873393434\n"
     ]
    }
   ],
   "source": [
    "print('Первый регион')\n",
    "print(f'Среднее значение предсказанных запасов нефти в первом регионе в скважине составляет {predictions_valid_reg_0.mean()}')\n",
    "print(f'RMSE модели составляет {result_reg_0}')\n",
    "\n",
    "print('Второй регион')\n",
    "print(f'Среднее значение предсказанных запасов нефти во втором регионе в скважине составляет {predictions_valid_reg_1.mean()}')\n",
    "print(f'RMSE модели составляет {result_reg_1}')\n",
    "\n",
    "print('Третий регион')\n",
    "print(f'Среднее значение предсказанных запасов нефти в первом регионе в скважине составляет {predictions_valid_reg_2.mean()}')\n",
    "print(f'RMSE модели составляет {result_reg_2}')"
   ]
  },
  {
   "cell_type": "markdown",
   "metadata": {},
   "source": [
    "**Вывод**\n",
    "\n",
    "Были проанализированы следующие модели машинного обучения на всех датасетах: линейная регрессия, дерево решений, лес деревьев.\n",
    "\n",
    "1) По первому датасету наилучшую сходимость показала модель линейной регрессии. Средняя квадратичная ошибка данной модели составила 37,57. \n",
    "\n",
    "2) По второму датасету наилучшую сходимость показала модель линейной регрессии. Средняя квадратичная ошибка данной модели составила 0,893. \n",
    "\n",
    "3) По третьему датасету наилучшую сходимость показала модель линейной регрессии. Средняя квадратичная ошибка данной модели составила 40,03. \n",
    "\n",
    "Также была подсчитано среднее количество запасов. По нему понятно, что модель 1 и 3 региона работает не очень хорошо. Ошибка составляет половину среднего значения. Тогда как во втором регионе модель работает хорошо."
   ]
  },
  {
   "cell_type": "markdown",
   "metadata": {},
   "source": [
    "## Подготовка к расчёту прибыли"
   ]
  },
  {
   "cell_type": "code",
   "execution_count": 14,
   "metadata": {},
   "outputs": [],
   "source": [
    "points_drilling_total = 500 # точек для бурения всего\n",
    "points_drilling_best = 200 # количество выбранных для бурения точек\n",
    "total_money = 10**10 # бюджет\n",
    "price_one_barrel = 450 # стоимость одного барреля\n",
    "price_one_product = 450000 # стоимость продукции\n",
    "interval = 0.025 # доверительный интервал\n",
    "means = [predictions_valid_reg_0.mean(), predictions_valid_reg_1.mean(), predictions_valid_reg_2.mean()]"
   ]
  },
  {
   "cell_type": "code",
   "execution_count": 15,
   "metadata": {},
   "outputs": [
    {
     "name": "stdout",
     "output_type": "stream",
     "text": [
      "Среднее количество продукции для того, чтобы разработка окупилась 111.11111111111111\n",
      "В 0 регионе разность между требуемым количеством нефти и среднием по скважинам составляет 18.518543326730764\n",
      "В 1 регионе разность между требуемым количеством нефти и среднием по скважинам составляет 42.38256421566511\n",
      "В 2 регионе разность между требуемым количеством нефти и среднием по скважинам составляет 16.146065143106227\n"
     ]
    }
   ],
   "source": [
    "product_one_well_need = total_money / points_drilling_best / price_one_product\n",
    "print('Среднее количество продукции для того, чтобы разработка окупилась', product_one_well_need)\n",
    "\n",
    "count = 0\n",
    "\n",
    "for mean in means:\n",
    "    if product_one_well_need > mean:\n",
    "        print(f'В {count} регионе разность между требуемым количеством нефти и среднием по скважинам составляет {product_one_well_need - mean}')\n",
    "    count += 1"
   ]
  },
  {
   "cell_type": "markdown",
   "metadata": {},
   "source": [
    "**Вывод**\n",
    "\n",
    "Согласно среднему предсказанному значению запасов нефти разработка никакого региона не окупится. Однако наилучшие перспективы у 3 региона, который отстает на 16 тыс. баррелей."
   ]
  },
  {
   "cell_type": "markdown",
   "metadata": {},
   "source": [
    "## Расчёт прибыли и рисков "
   ]
  },
  {
   "cell_type": "code",
   "execution_count": 16,
   "metadata": {},
   "outputs": [],
   "source": [
    "# функция для подсчета прибыли\n",
    "def profit(probabilities, target, price=price_one_product, count=points_drilling_best):\n",
    "    probs_sorted = probabilities.sort_values(ascending=False)\n",
    "    selected = target[probs_sorted.index][:count]\n",
    "    proruct_of_best_wells = selected.sum()\n",
    "    profit = proruct_of_best_wells * price\n",
    "    \n",
    "    return profit"
   ]
  },
  {
   "cell_type": "code",
   "execution_count": 17,
   "metadata": {},
   "outputs": [],
   "source": [
    "probabilities_0 = pd.Series(predictions_valid_reg_0)\n",
    "target_0 = pd.Series(target_valid_0)\n",
    "target_0 = target_0.reset_index(drop=True)\n",
    "\n",
    "probabilities_1 = pd.Series(predictions_valid_reg_1)\n",
    "target_1 = pd.Series(target_valid_1)\n",
    "target_1 = target_1.reset_index(drop=True)\n",
    "\n",
    "probabilities_2 = pd.Series(predictions_valid_reg_2)\n",
    "target_2 = pd.Series(target_valid_2)\n",
    "target_2 = target_2.reset_index(drop=True)"
   ]
  },
  {
   "cell_type": "markdown",
   "metadata": {},
   "source": [
    "**Расчет прибыли и рисков для первого региона**"
   ]
  },
  {
   "cell_type": "code",
   "execution_count": 18,
   "metadata": {},
   "outputs": [
    {
     "name": "stdout",
     "output_type": "stream",
     "text": [
      "Средний доход первого региона равен 10.425938526910594 млрд. рублей\n",
      "С вероятностью 95% доход равен от 10.947976353358369 до 9.897909905162063 млрд. рублей\n",
      "Средний прибыль первого региона равна 425.93852691059305 млн. рублей\n",
      "С вероятностью 95% прибыль равна от 947.9763533583698 до -102.0900948379364 млн. рублей\n",
      "Риск отрицательной прибыли в первом регионе 6.0 %\n"
     ]
    }
   ],
   "source": [
    "state = np.random.RandomState(12345)   \n",
    "\n",
    "values = []\n",
    "\n",
    "for i in range(1000):\n",
    "    target_0_subsample = target_0.sample(frac=points_drilling_total/len(target_0), replace=True, random_state=state)\n",
    "    probabilities_0_subsample = probabilities_0[target_0_subsample.index]\n",
    "   \n",
    "    values.append(profit(probabilities_0_subsample, target_0_subsample))\n",
    "\n",
    "values = pd.Series(values)\n",
    "\n",
    "lower = values.quantile(0.025)\n",
    "higher = values.quantile(0.975)\n",
    "\n",
    "mean_profit = values.mean()\n",
    "\n",
    "count = 0 \n",
    "for value in values:\n",
    "    if value < 10**10:\n",
    "        count += 1\n",
    "\n",
    "print(f'Средний доход первого региона равен {mean_profit / 10**9} млрд. рублей')\n",
    "print(f'С вероятностью 95% доход равен от {higher / 10**9} до {lower / 10**9} млрд. рублей')\n",
    "print(f'Средний прибыль первого региона равна {(mean_profit - 10**10) / 10**6} млн. рублей')\n",
    "print(f'С вероятностью 95% прибыль равна от {(higher - 10**10) / 10**6} до {(lower - 10**10) / 10**6} млн. рублей')\n",
    "print(f'Риск отрицательной прибыли в первом регионе {count / len(values) * 100} %')"
   ]
  },
  {
   "cell_type": "code",
   "execution_count": 19,
   "metadata": {},
   "outputs": [
    {
     "name": "stdout",
     "output_type": "stream",
     "text": [
      "Средний доход второго региона равен 10.515222773443291 млрд. рублей\n",
      "С вероятностью 95% доход равен от 10.931547591257049 до 10.068873225370503 млрд. рублей\n",
      "Средний прибыль второго региона равна 515.2227734432907 млн. рублей\n",
      "С вероятностью 95% прибыль равна от 931.5475912570496 до 68.87322537050247 млн. рублей\n",
      "Риск отрицательной прибыли во втором регионе 1.0 %\n"
     ]
    }
   ],
   "source": [
    "state = np.random.RandomState(12345)   \n",
    "\n",
    "values = []\n",
    "\n",
    "for i in range(1000):\n",
    "    target_1_subsample = target_1.sample(frac=points_drilling_total/len(target_1), replace=True, random_state=state)\n",
    "    probabilities_1_subsample = probabilities_1[target_1_subsample.index]\n",
    "   \n",
    "    values.append(profit(probabilities_1_subsample, target_1_subsample))\n",
    "\n",
    "values = pd.Series(values)\n",
    "\n",
    "lower = values.quantile(0.025)\n",
    "higher = values.quantile(0.975)\n",
    "\n",
    "mean_profit = values.mean()\n",
    "\n",
    "count = 0 \n",
    "for value in values:\n",
    "    if value < 10**10:\n",
    "        count += 1\n",
    "\n",
    "print(f'Средний доход второго региона равен {mean_profit / 10**9} млрд. рублей')\n",
    "print(f'С вероятностью 95% доход равен от {higher / 10**9} до {lower / 10**9} млрд. рублей')\n",
    "print(f'Средний прибыль второго региона равна {(mean_profit - 10**10) / 10**6} млн. рублей')\n",
    "print(f'С вероятностью 95% прибыль равна от {(higher - 10**10) / 10**6} до {(lower - 10**10) / 10**6} млн. рублей')\n",
    "print(f'Риск отрицательной прибыли во втором регионе {count / len(values) * 100} %')"
   ]
  },
  {
   "cell_type": "code",
   "execution_count": 20,
   "metadata": {
    "scrolled": true
   },
   "outputs": [
    {
     "name": "stdout",
     "output_type": "stream",
     "text": [
      "Средний доход третьего региона равен 10.435008362782757 млрд. рублей\n",
      "С вероятностью 95% доход равен от 10.969706954180266 до 9.871119452670213 млрд. рублей\n",
      "Средний прибыль третьего региона равна 435.0083627827568 млн. рублей\n",
      "С вероятностью 95% прибыль равна от 969.7069541802654 до -128.88054732978821 млн. рублей\n",
      "Риск отрицательной прибыли в третьем регионе 6.4 %\n"
     ]
    }
   ],
   "source": [
    "state = np.random.RandomState(12345)   \n",
    "\n",
    "values = []\n",
    "\n",
    "for i in range(1000):\n",
    "    target_2_subsample = target_2.sample(frac=points_drilling_total/len(target_2), replace=True, random_state=state)\n",
    "    probabilities_2_subsample = probabilities_2[target_2_subsample.index]\n",
    "   \n",
    "    values.append(profit(probabilities_2_subsample, target_2_subsample))\n",
    "\n",
    "values = pd.Series(values)\n",
    "\n",
    "lower = values.quantile(0.025)\n",
    "higher = values.quantile(0.975)\n",
    "\n",
    "mean_profit = values.mean()\n",
    "\n",
    "count = 0 \n",
    "for value in values:\n",
    "    if value < 10**10:\n",
    "        count += 1\n",
    "\n",
    "print(f'Средний доход третьего региона равен {mean_profit / 10**9} млрд. рублей')\n",
    "print(f'С вероятностью 95% доход равен от {higher / 10**9} до {lower / 10**9} млрд. рублей')\n",
    "print(f'Средний прибыль третьего региона равна {(mean_profit - 10**10) / 10**6} млн. рублей')\n",
    "print(f'С вероятностью 95% прибыль равна от {(higher - 10**10) / 10**6} до {(lower - 10**10) / 10**6} млн. рублей')\n",
    "print(f'Риск отрицательной прибыли в третьем регионе {count / len(values) * 100} %')"
   ]
  },
  {
   "cell_type": "markdown",
   "metadata": {},
   "source": [
    "**Общий вывод**\n",
    "\n",
    "С учетом рисков (риск отрицательной прибыли составляет 1%) для разработки выбирается **второй регион**. Также по данном региону прибыль является наибольшей и составляет 515 млн рублей. \n",
    "\n",
    "Также следует отметить, что в 95% доверительный интервал попадает только положительная прибыль."
   ]
  }
 ],
 "metadata": {
  "ExecuteTimeLog": [
   {
    "duration": 1937,
    "start_time": "2023-04-17T18:10:28.308Z"
   },
   {
    "duration": 29,
    "start_time": "2023-04-17T18:11:20.785Z"
   },
   {
    "duration": 22,
    "start_time": "2023-04-17T18:11:40.420Z"
   },
   {
    "duration": 21,
    "start_time": "2023-04-17T18:11:57.708Z"
   },
   {
    "duration": 140,
    "start_time": "2023-04-17T18:14:24.210Z"
   },
   {
    "duration": 747,
    "start_time": "2023-04-17T18:18:13.880Z"
   },
   {
    "duration": 73,
    "start_time": "2023-04-17T18:18:58.420Z"
   },
   {
    "duration": 73,
    "start_time": "2023-04-17T18:19:01.011Z"
   },
   {
    "duration": 76,
    "start_time": "2023-04-17T18:19:20.305Z"
   },
   {
    "duration": 102,
    "start_time": "2023-04-17T18:20:25.021Z"
   },
   {
    "duration": 24,
    "start_time": "2023-04-17T18:20:51.130Z"
   },
   {
    "duration": 38,
    "start_time": "2023-04-17T18:23:36.767Z"
   },
   {
    "duration": 17,
    "start_time": "2023-04-17T18:24:51.850Z"
   },
   {
    "duration": 60,
    "start_time": "2023-04-17T18:24:53.104Z"
   },
   {
    "duration": 13,
    "start_time": "2023-04-17T18:25:05.832Z"
   },
   {
    "duration": 260,
    "start_time": "2023-04-17T18:35:02.036Z"
   },
   {
    "duration": 77,
    "start_time": "2023-04-17T18:35:40.984Z"
   },
   {
    "duration": 81,
    "start_time": "2023-04-17T18:36:50.939Z"
   },
   {
    "duration": 3,
    "start_time": "2023-04-17T18:38:41.507Z"
   },
   {
    "duration": 80,
    "start_time": "2023-04-17T18:38:45.247Z"
   },
   {
    "duration": 3107,
    "start_time": "2023-04-17T18:39:23.588Z"
   },
   {
    "duration": 3158,
    "start_time": "2023-04-17T18:39:52.705Z"
   },
   {
    "duration": 3083,
    "start_time": "2023-04-17T18:41:09.509Z"
   },
   {
    "duration": 3094,
    "start_time": "2023-04-17T18:43:10.340Z"
   },
   {
    "duration": 18,
    "start_time": "2023-04-17T18:47:09.384Z"
   },
   {
    "duration": 57305,
    "start_time": "2023-04-17T18:47:38.989Z"
   },
   {
    "duration": 811826,
    "start_time": "2023-04-17T18:48:42.386Z"
   },
   {
    "duration": 14232,
    "start_time": "2023-04-17T19:02:41.912Z"
   },
   {
    "duration": 0,
    "start_time": "2023-04-17T19:04:35.750Z"
   },
   {
    "duration": 7133,
    "start_time": "2023-04-17T19:05:19.494Z"
   },
   {
    "duration": 7056,
    "start_time": "2023-04-17T19:05:34.188Z"
   },
   {
    "duration": 904191,
    "start_time": "2023-04-17T19:05:42.187Z"
   },
   {
    "duration": 868466,
    "start_time": "2023-04-17T19:26:13.720Z"
   },
   {
    "duration": 46,
    "start_time": "2023-04-18T05:56:06.402Z"
   },
   {
    "duration": 1044,
    "start_time": "2023-04-18T05:56:14.107Z"
   },
   {
    "duration": 1584,
    "start_time": "2023-04-18T05:56:15.152Z"
   },
   {
    "duration": 30,
    "start_time": "2023-04-18T05:56:16.738Z"
   },
   {
    "duration": 22,
    "start_time": "2023-04-18T05:56:16.770Z"
   },
   {
    "duration": 22,
    "start_time": "2023-04-18T05:56:16.794Z"
   },
   {
    "duration": 185,
    "start_time": "2023-04-18T05:56:16.818Z"
   },
   {
    "duration": 21,
    "start_time": "2023-04-18T05:56:17.005Z"
   },
   {
    "duration": 266,
    "start_time": "2023-04-18T05:56:17.028Z"
   },
   {
    "duration": 0,
    "start_time": "2023-04-18T05:56:17.296Z"
   },
   {
    "duration": 19,
    "start_time": "2023-04-18T05:56:28.153Z"
   },
   {
    "duration": 19,
    "start_time": "2023-04-18T05:56:46.202Z"
   },
   {
    "duration": 14,
    "start_time": "2023-04-18T05:57:01.321Z"
   },
   {
    "duration": 71,
    "start_time": "2023-04-18T05:57:04.771Z"
   },
   {
    "duration": 3109,
    "start_time": "2023-04-18T05:57:14.195Z"
   },
   {
    "duration": 880188,
    "start_time": "2023-04-18T05:57:20.442Z"
   },
   {
    "duration": 26,
    "start_time": "2023-04-18T06:12:00.631Z"
   },
   {
    "duration": 28,
    "start_time": "2023-04-18T06:12:00.658Z"
   },
   {
    "duration": 3182,
    "start_time": "2023-04-18T06:12:00.694Z"
   },
   {
    "duration": 1040942,
    "start_time": "2023-04-18T06:12:03.878Z"
   },
   {
    "duration": 17,
    "start_time": "2023-04-18T06:29:24.822Z"
   },
   {
    "duration": 32,
    "start_time": "2023-04-18T06:29:24.840Z"
   },
   {
    "duration": 3170,
    "start_time": "2023-04-18T06:29:24.956Z"
   },
   {
    "duration": 3195,
    "start_time": "2023-04-18T06:47:56.386Z"
   },
   {
    "duration": 1045293,
    "start_time": "2023-04-18T06:47:59.583Z"
   },
   {
    "duration": 18,
    "start_time": "2023-04-18T07:05:24.877Z"
   },
   {
    "duration": 0,
    "start_time": "2023-04-18T07:05:24.896Z"
   },
   {
    "duration": 0,
    "start_time": "2023-04-18T07:05:24.898Z"
   },
   {
    "duration": 0,
    "start_time": "2023-04-18T07:05:24.898Z"
   },
   {
    "duration": 3,
    "start_time": "2023-04-18T07:19:02.933Z"
   },
   {
    "duration": 385,
    "start_time": "2023-04-18T07:19:02.938Z"
   },
   {
    "duration": 22,
    "start_time": "2023-04-18T07:19:03.324Z"
   },
   {
    "duration": 27,
    "start_time": "2023-04-18T07:19:03.347Z"
   },
   {
    "duration": 21,
    "start_time": "2023-04-18T07:19:03.377Z"
   },
   {
    "duration": 168,
    "start_time": "2023-04-18T07:19:03.399Z"
   },
   {
    "duration": 17,
    "start_time": "2023-04-18T07:19:03.569Z"
   },
   {
    "duration": 15,
    "start_time": "2023-04-18T07:19:03.587Z"
   },
   {
    "duration": 3133,
    "start_time": "2023-04-18T07:19:03.656Z"
   },
   {
    "duration": 897126,
    "start_time": "2023-04-18T07:19:10.571Z"
   },
   {
    "duration": 17,
    "start_time": "2023-04-18T07:34:07.699Z"
   },
   {
    "duration": 47,
    "start_time": "2023-04-18T07:34:07.718Z"
   },
   {
    "duration": 3221,
    "start_time": "2023-04-18T07:34:07.769Z"
   },
   {
    "duration": 536053,
    "start_time": "2023-04-18T07:34:10.991Z"
   },
   {
    "duration": 0,
    "start_time": "2023-04-18T07:43:07.046Z"
   },
   {
    "duration": 0,
    "start_time": "2023-04-18T07:43:07.055Z"
   },
   {
    "duration": 0,
    "start_time": "2023-04-18T07:43:07.056Z"
   },
   {
    "duration": 0,
    "start_time": "2023-04-18T07:43:07.058Z"
   },
   {
    "duration": 3076,
    "start_time": "2023-04-18T07:43:17.807Z"
   },
   {
    "duration": 3071,
    "start_time": "2023-04-18T07:43:45.443Z"
   },
   {
    "duration": 2951,
    "start_time": "2023-04-18T07:44:07.851Z"
   },
   {
    "duration": 2950,
    "start_time": "2023-04-18T07:44:23.272Z"
   },
   {
    "duration": 59,
    "start_time": "2023-04-18T17:10:19.118Z"
   },
   {
    "duration": 1098,
    "start_time": "2023-04-18T17:10:25.429Z"
   },
   {
    "duration": 2120,
    "start_time": "2023-04-18T17:10:28.187Z"
   },
   {
    "duration": 31,
    "start_time": "2023-04-18T17:10:32.117Z"
   },
   {
    "duration": 22,
    "start_time": "2023-04-18T17:10:33.819Z"
   },
   {
    "duration": 21,
    "start_time": "2023-04-18T17:10:36.010Z"
   },
   {
    "duration": 156,
    "start_time": "2023-04-18T17:10:37.921Z"
   },
   {
    "duration": 18,
    "start_time": "2023-04-18T17:10:39.589Z"
   },
   {
    "duration": 22,
    "start_time": "2023-04-18T17:10:40.687Z"
   },
   {
    "duration": 3489,
    "start_time": "2023-04-18T17:10:42.519Z"
   },
   {
    "duration": 5324,
    "start_time": "2023-04-18T17:10:51.879Z"
   },
   {
    "duration": 1065369,
    "start_time": "2023-04-18T17:11:02.387Z"
   },
   {
    "duration": 27,
    "start_time": "2023-04-18T17:28:47.758Z"
   },
   {
    "duration": 96,
    "start_time": "2023-04-18T17:28:47.787Z"
   },
   {
    "duration": 4030,
    "start_time": "2023-04-18T17:28:47.891Z"
   },
   {
    "duration": 1367023,
    "start_time": "2023-04-18T17:28:51.923Z"
   },
   {
    "duration": 34,
    "start_time": "2023-04-18T17:51:38.948Z"
   },
   {
    "duration": 38,
    "start_time": "2023-04-18T17:51:38.985Z"
   },
   {
    "duration": 4197,
    "start_time": "2023-04-18T17:51:39.074Z"
   },
   {
    "duration": 1144591,
    "start_time": "2023-04-18T17:51:43.273Z"
   },
   {
    "duration": 4,
    "start_time": "2023-04-18T18:13:29.620Z"
   },
   {
    "duration": 527,
    "start_time": "2023-04-18T18:13:29.626Z"
   },
   {
    "duration": 29,
    "start_time": "2023-04-18T18:13:30.155Z"
   },
   {
    "duration": 45,
    "start_time": "2023-04-18T18:13:30.187Z"
   },
   {
    "duration": 48,
    "start_time": "2023-04-18T18:13:30.234Z"
   },
   {
    "duration": 192,
    "start_time": "2023-04-18T18:13:30.288Z"
   },
   {
    "duration": 29,
    "start_time": "2023-04-18T18:13:30.486Z"
   },
   {
    "duration": 55,
    "start_time": "2023-04-18T18:13:30.519Z"
   },
   {
    "duration": 112,
    "start_time": "2023-04-18T18:13:30.578Z"
   },
   {
    "duration": 73,
    "start_time": "2023-04-18T18:13:30.702Z"
   },
   {
    "duration": 111,
    "start_time": "2023-04-18T18:13:30.782Z"
   },
   {
    "duration": 27,
    "start_time": "2023-04-18T18:13:30.903Z"
   },
   {
    "duration": 6,
    "start_time": "2023-04-18T18:13:32.221Z"
   },
   {
    "duration": 5,
    "start_time": "2023-04-18T18:17:12.385Z"
   },
   {
    "duration": 3,
    "start_time": "2023-04-18T18:18:28.693Z"
   },
   {
    "duration": 4,
    "start_time": "2023-04-18T18:22:34.510Z"
   },
   {
    "duration": 11,
    "start_time": "2023-04-18T18:25:30.832Z"
   },
   {
    "duration": 3,
    "start_time": "2023-04-18T18:25:33.824Z"
   },
   {
    "duration": 3,
    "start_time": "2023-04-18T18:25:34.808Z"
   },
   {
    "duration": 5,
    "start_time": "2023-04-18T18:27:08.915Z"
   },
   {
    "duration": 4,
    "start_time": "2023-04-18T18:36:33.748Z"
   },
   {
    "duration": 11,
    "start_time": "2023-04-18T18:49:09.123Z"
   },
   {
    "duration": 12,
    "start_time": "2023-04-18T18:49:53.528Z"
   },
   {
    "duration": 13,
    "start_time": "2023-04-18T18:50:03.608Z"
   },
   {
    "duration": 8,
    "start_time": "2023-04-18T18:50:29.208Z"
   },
   {
    "duration": 11,
    "start_time": "2023-04-18T18:50:30.328Z"
   },
   {
    "duration": 12,
    "start_time": "2023-04-18T18:51:30.634Z"
   },
   {
    "duration": 10,
    "start_time": "2023-04-18T18:51:37.423Z"
   },
   {
    "duration": 11,
    "start_time": "2023-04-18T18:57:25.797Z"
   },
   {
    "duration": 3,
    "start_time": "2023-04-18T18:57:54.014Z"
   },
   {
    "duration": 21,
    "start_time": "2023-04-18T18:57:55.101Z"
   },
   {
    "duration": 3,
    "start_time": "2023-04-18T18:59:48.829Z"
   },
   {
    "duration": 20,
    "start_time": "2023-04-18T18:59:49.903Z"
   },
   {
    "duration": 3,
    "start_time": "2023-04-18T19:00:20.557Z"
   },
   {
    "duration": 462,
    "start_time": "2023-04-18T19:00:20.567Z"
   },
   {
    "duration": 34,
    "start_time": "2023-04-18T19:00:21.031Z"
   },
   {
    "duration": 37,
    "start_time": "2023-04-18T19:00:21.067Z"
   },
   {
    "duration": 22,
    "start_time": "2023-04-18T19:00:21.106Z"
   },
   {
    "duration": 172,
    "start_time": "2023-04-18T19:00:21.130Z"
   },
   {
    "duration": 18,
    "start_time": "2023-04-18T19:00:21.304Z"
   },
   {
    "duration": 14,
    "start_time": "2023-04-18T19:00:21.323Z"
   },
   {
    "duration": 99,
    "start_time": "2023-04-18T19:00:21.367Z"
   },
   {
    "duration": 36,
    "start_time": "2023-04-18T19:00:21.468Z"
   },
   {
    "duration": 86,
    "start_time": "2023-04-18T19:00:21.509Z"
   },
   {
    "duration": 85,
    "start_time": "2023-04-18T19:00:21.597Z"
   },
   {
    "duration": 90,
    "start_time": "2023-04-18T19:00:21.688Z"
   },
   {
    "duration": 13,
    "start_time": "2023-04-18T19:00:21.783Z"
   },
   {
    "duration": 86,
    "start_time": "2023-04-18T19:00:21.799Z"
   },
   {
    "duration": 3,
    "start_time": "2023-04-18T19:00:26.504Z"
   },
   {
    "duration": 26,
    "start_time": "2023-04-18T19:00:37.003Z"
   },
   {
    "duration": 9,
    "start_time": "2023-04-18T19:01:00.903Z"
   },
   {
    "duration": 8,
    "start_time": "2023-04-18T19:01:11.620Z"
   },
   {
    "duration": 115,
    "start_time": "2023-04-18T19:01:20.939Z"
   },
   {
    "duration": 6,
    "start_time": "2023-04-18T19:01:35.753Z"
   },
   {
    "duration": 8,
    "start_time": "2023-04-18T19:01:49.120Z"
   },
   {
    "duration": 16,
    "start_time": "2023-04-18T19:02:58.791Z"
   },
   {
    "duration": 10,
    "start_time": "2023-04-18T19:03:40.049Z"
   },
   {
    "duration": 19,
    "start_time": "2023-04-18T19:04:35.322Z"
   },
   {
    "duration": 14,
    "start_time": "2023-04-18T19:05:09.617Z"
   },
   {
    "duration": 13,
    "start_time": "2023-04-18T19:05:39.118Z"
   },
   {
    "duration": 11,
    "start_time": "2023-04-18T19:06:14.834Z"
   },
   {
    "duration": 17,
    "start_time": "2023-04-18T19:06:19.807Z"
   },
   {
    "duration": 18,
    "start_time": "2023-04-18T19:07:01.460Z"
   },
   {
    "duration": 2,
    "start_time": "2023-04-18T19:07:14.620Z"
   },
   {
    "duration": 476,
    "start_time": "2023-04-18T19:07:14.624Z"
   },
   {
    "duration": 32,
    "start_time": "2023-04-18T19:07:15.107Z"
   },
   {
    "duration": 37,
    "start_time": "2023-04-18T19:07:15.141Z"
   },
   {
    "duration": 46,
    "start_time": "2023-04-18T19:07:15.180Z"
   },
   {
    "duration": 149,
    "start_time": "2023-04-18T19:07:15.228Z"
   },
   {
    "duration": 30,
    "start_time": "2023-04-18T19:07:15.379Z"
   },
   {
    "duration": 79,
    "start_time": "2023-04-18T19:07:15.416Z"
   },
   {
    "duration": 80,
    "start_time": "2023-04-18T19:07:15.505Z"
   },
   {
    "duration": 29,
    "start_time": "2023-04-18T19:07:15.593Z"
   },
   {
    "duration": 151,
    "start_time": "2023-04-18T19:07:15.628Z"
   },
   {
    "duration": 36,
    "start_time": "2023-04-18T19:07:15.784Z"
   },
   {
    "duration": 43,
    "start_time": "2023-04-18T19:07:15.827Z"
   },
   {
    "duration": 14,
    "start_time": "2023-04-18T19:07:15.873Z"
   },
   {
    "duration": 9,
    "start_time": "2023-04-18T19:07:15.893Z"
   },
   {
    "duration": 11,
    "start_time": "2023-04-18T19:07:15.963Z"
   },
   {
    "duration": 13,
    "start_time": "2023-04-18T19:07:16.960Z"
   },
   {
    "duration": 3,
    "start_time": "2023-04-18T19:08:07.435Z"
   },
   {
    "duration": 485,
    "start_time": "2023-04-18T19:08:07.440Z"
   },
   {
    "duration": 23,
    "start_time": "2023-04-18T19:08:07.927Z"
   },
   {
    "duration": 38,
    "start_time": "2023-04-18T19:08:07.965Z"
   },
   {
    "duration": 25,
    "start_time": "2023-04-18T19:08:08.014Z"
   },
   {
    "duration": 162,
    "start_time": "2023-04-18T19:08:08.041Z"
   },
   {
    "duration": 21,
    "start_time": "2023-04-18T19:08:08.205Z"
   },
   {
    "duration": 52,
    "start_time": "2023-04-18T19:08:08.236Z"
   },
   {
    "duration": 125,
    "start_time": "2023-04-18T19:08:08.292Z"
   },
   {
    "duration": 13,
    "start_time": "2023-04-18T19:08:08.420Z"
   },
   {
    "duration": 27,
    "start_time": "2023-04-18T19:08:08.464Z"
   },
   {
    "duration": 86,
    "start_time": "2023-04-18T19:08:08.493Z"
   },
   {
    "duration": 33,
    "start_time": "2023-04-18T19:08:08.587Z"
   },
   {
    "duration": 21,
    "start_time": "2023-04-18T19:08:08.675Z"
   },
   {
    "duration": 18,
    "start_time": "2023-04-18T19:08:08.703Z"
   },
   {
    "duration": 3,
    "start_time": "2023-04-18T19:08:08.723Z"
   },
   {
    "duration": 13,
    "start_time": "2023-04-18T19:08:11.601Z"
   },
   {
    "duration": 12,
    "start_time": "2023-04-18T19:09:00.016Z"
   },
   {
    "duration": 15,
    "start_time": "2023-04-18T19:09:09.912Z"
   },
   {
    "duration": 13,
    "start_time": "2023-04-18T19:09:32.305Z"
   },
   {
    "duration": 3,
    "start_time": "2023-04-18T19:09:45.530Z"
   },
   {
    "duration": 517,
    "start_time": "2023-04-18T19:09:45.535Z"
   },
   {
    "duration": 42,
    "start_time": "2023-04-18T19:09:46.054Z"
   },
   {
    "duration": 36,
    "start_time": "2023-04-18T19:09:46.101Z"
   },
   {
    "duration": 43,
    "start_time": "2023-04-18T19:09:46.139Z"
   },
   {
    "duration": 206,
    "start_time": "2023-04-18T19:09:46.184Z"
   },
   {
    "duration": 27,
    "start_time": "2023-04-18T19:09:46.393Z"
   },
   {
    "duration": 40,
    "start_time": "2023-04-18T19:09:46.422Z"
   },
   {
    "duration": 38,
    "start_time": "2023-04-18T19:09:46.476Z"
   },
   {
    "duration": 51,
    "start_time": "2023-04-18T19:09:46.564Z"
   },
   {
    "duration": 145,
    "start_time": "2023-04-18T19:09:46.617Z"
   },
   {
    "duration": 47,
    "start_time": "2023-04-18T19:09:46.775Z"
   },
   {
    "duration": 47,
    "start_time": "2023-04-18T19:09:46.827Z"
   },
   {
    "duration": 36,
    "start_time": "2023-04-18T19:09:46.878Z"
   },
   {
    "duration": 56,
    "start_time": "2023-04-18T19:09:46.916Z"
   },
   {
    "duration": 12,
    "start_time": "2023-04-18T19:09:46.977Z"
   },
   {
    "duration": 11,
    "start_time": "2023-04-18T19:09:46.995Z"
   },
   {
    "duration": 12,
    "start_time": "2023-04-18T19:10:11.020Z"
   },
   {
    "duration": 10,
    "start_time": "2023-04-18T19:11:09.124Z"
   },
   {
    "duration": 6,
    "start_time": "2023-04-18T19:11:32.525Z"
   },
   {
    "duration": 6,
    "start_time": "2023-04-18T19:11:55.954Z"
   },
   {
    "duration": 12,
    "start_time": "2023-04-18T19:11:59.830Z"
   },
   {
    "duration": 13,
    "start_time": "2023-04-18T19:13:35.036Z"
   },
   {
    "duration": 22,
    "start_time": "2023-04-18T19:13:56.912Z"
   },
   {
    "duration": 11,
    "start_time": "2023-04-18T19:16:04.927Z"
   },
   {
    "duration": 3,
    "start_time": "2023-04-18T19:19:14.049Z"
   },
   {
    "duration": 18,
    "start_time": "2023-04-18T19:19:15.419Z"
   },
   {
    "duration": 3,
    "start_time": "2023-04-18T19:19:20.343Z"
   },
   {
    "duration": 696,
    "start_time": "2023-04-18T19:19:20.348Z"
   },
   {
    "duration": 31,
    "start_time": "2023-04-18T19:19:21.046Z"
   },
   {
    "duration": 37,
    "start_time": "2023-04-18T19:19:21.078Z"
   },
   {
    "duration": 28,
    "start_time": "2023-04-18T19:19:21.121Z"
   },
   {
    "duration": 229,
    "start_time": "2023-04-18T19:19:21.151Z"
   },
   {
    "duration": 24,
    "start_time": "2023-04-18T19:19:21.391Z"
   },
   {
    "duration": 22,
    "start_time": "2023-04-18T19:19:21.417Z"
   },
   {
    "duration": 30,
    "start_time": "2023-04-18T19:19:21.476Z"
   },
   {
    "duration": 156,
    "start_time": "2023-04-18T19:19:21.514Z"
   },
   {
    "duration": 93,
    "start_time": "2023-04-18T19:19:21.685Z"
   },
   {
    "duration": 42,
    "start_time": "2023-04-18T19:19:21.786Z"
   },
   {
    "duration": 47,
    "start_time": "2023-04-18T19:19:21.830Z"
   },
   {
    "duration": 75,
    "start_time": "2023-04-18T19:19:21.893Z"
   },
   {
    "duration": 29,
    "start_time": "2023-04-18T19:19:21.987Z"
   },
   {
    "duration": 8,
    "start_time": "2023-04-18T19:19:22.020Z"
   },
   {
    "duration": 18,
    "start_time": "2023-04-18T19:19:22.811Z"
   },
   {
    "duration": 6,
    "start_time": "2023-04-18T19:19:44.639Z"
   },
   {
    "duration": 1612,
    "start_time": "2023-04-18T19:20:55.319Z"
   },
   {
    "duration": 1587,
    "start_time": "2023-04-18T19:21:11.842Z"
   },
   {
    "duration": 1768,
    "start_time": "2023-04-18T19:21:40.321Z"
   },
   {
    "duration": 1517,
    "start_time": "2023-04-18T19:22:10.315Z"
   },
   {
    "duration": 1544,
    "start_time": "2023-04-18T19:27:52.609Z"
   },
   {
    "duration": 1467,
    "start_time": "2023-04-18T19:28:23.986Z"
   },
   {
    "duration": 9,
    "start_time": "2023-04-18T19:29:57.783Z"
   },
   {
    "duration": 719,
    "start_time": "2023-04-18T19:29:57.795Z"
   },
   {
    "duration": 22,
    "start_time": "2023-04-18T19:29:58.516Z"
   },
   {
    "duration": 57,
    "start_time": "2023-04-18T19:29:58.540Z"
   },
   {
    "duration": 30,
    "start_time": "2023-04-18T19:29:58.600Z"
   },
   {
    "duration": 143,
    "start_time": "2023-04-18T19:29:58.631Z"
   },
   {
    "duration": 32,
    "start_time": "2023-04-18T19:29:58.776Z"
   },
   {
    "duration": 70,
    "start_time": "2023-04-18T19:29:58.811Z"
   },
   {
    "duration": 89,
    "start_time": "2023-04-18T19:29:58.889Z"
   },
   {
    "duration": 86,
    "start_time": "2023-04-18T19:29:58.980Z"
   },
   {
    "duration": 94,
    "start_time": "2023-04-18T19:29:59.070Z"
   },
   {
    "duration": 27,
    "start_time": "2023-04-18T19:29:59.172Z"
   },
   {
    "duration": 72,
    "start_time": "2023-04-18T19:29:59.206Z"
   },
   {
    "duration": 10,
    "start_time": "2023-04-18T19:29:59.280Z"
   },
   {
    "duration": 66,
    "start_time": "2023-04-18T19:29:59.304Z"
   },
   {
    "duration": 15,
    "start_time": "2023-04-18T19:29:59.379Z"
   },
   {
    "duration": 19,
    "start_time": "2023-04-18T19:29:59.400Z"
   },
   {
    "duration": 1620,
    "start_time": "2023-04-18T19:30:03.007Z"
   },
   {
    "duration": 1631,
    "start_time": "2023-04-18T19:34:48.422Z"
   },
   {
    "duration": 1789,
    "start_time": "2023-04-18T19:35:13.310Z"
   },
   {
    "duration": 1726,
    "start_time": "2023-04-18T19:35:46.687Z"
   },
   {
    "duration": 1883,
    "start_time": "2023-04-18T19:38:16.813Z"
   },
   {
    "duration": 1941,
    "start_time": "2023-04-18T19:39:14.657Z"
   },
   {
    "duration": 1609,
    "start_time": "2023-04-18T19:40:23.710Z"
   },
   {
    "duration": 994,
    "start_time": "2023-04-19T06:34:55.834Z"
   },
   {
    "duration": 1546,
    "start_time": "2023-04-19T06:34:56.830Z"
   },
   {
    "duration": 27,
    "start_time": "2023-04-19T06:34:58.377Z"
   },
   {
    "duration": 37,
    "start_time": "2023-04-19T06:34:58.405Z"
   },
   {
    "duration": 18,
    "start_time": "2023-04-19T06:34:58.443Z"
   },
   {
    "duration": 135,
    "start_time": "2023-04-19T06:34:58.462Z"
   },
   {
    "duration": 18,
    "start_time": "2023-04-19T06:34:58.599Z"
   },
   {
    "duration": 78,
    "start_time": "2023-04-19T06:34:58.618Z"
   },
   {
    "duration": 102,
    "start_time": "2023-04-19T06:34:58.698Z"
   },
   {
    "duration": 14,
    "start_time": "2023-04-19T06:34:58.803Z"
   },
   {
    "duration": 176,
    "start_time": "2023-04-19T06:34:58.819Z"
   },
   {
    "duration": 14,
    "start_time": "2023-04-19T06:34:58.996Z"
   },
   {
    "duration": 82,
    "start_time": "2023-04-19T06:34:59.012Z"
   },
   {
    "duration": 3,
    "start_time": "2023-04-19T06:34:59.097Z"
   },
   {
    "duration": 95,
    "start_time": "2023-04-19T06:34:59.103Z"
   },
   {
    "duration": 12,
    "start_time": "2023-04-19T06:34:59.199Z"
   },
   {
    "duration": 9,
    "start_time": "2023-04-19T06:34:59.212Z"
   },
   {
    "duration": 1196,
    "start_time": "2023-04-19T06:34:59.223Z"
   },
   {
    "duration": 1209,
    "start_time": "2023-04-19T06:35:00.420Z"
   },
   {
    "duration": 1119,
    "start_time": "2023-04-19T06:35:01.631Z"
   },
   {
    "duration": 1117,
    "start_time": "2023-04-19T06:37:55.109Z"
   },
   {
    "duration": 1142,
    "start_time": "2023-04-19T06:38:23.971Z"
   },
   {
    "duration": 1139,
    "start_time": "2023-04-19T06:38:50.183Z"
   },
   {
    "duration": 1160,
    "start_time": "2023-04-19T06:39:14.112Z"
   },
   {
    "duration": 1267,
    "start_time": "2023-04-19T06:40:00.328Z"
   },
   {
    "duration": 1165,
    "start_time": "2023-04-19T06:40:23.085Z"
   },
   {
    "duration": 4,
    "start_time": "2023-04-19T06:45:44.203Z"
   },
   {
    "duration": 2,
    "start_time": "2023-04-19T06:48:58.605Z"
   },
   {
    "duration": 323,
    "start_time": "2023-04-19T06:48:58.609Z"
   },
   {
    "duration": 19,
    "start_time": "2023-04-19T06:48:58.933Z"
   },
   {
    "duration": 20,
    "start_time": "2023-04-19T06:48:58.954Z"
   },
   {
    "duration": 19,
    "start_time": "2023-04-19T06:48:58.994Z"
   },
   {
    "duration": 128,
    "start_time": "2023-04-19T06:48:59.015Z"
   },
   {
    "duration": 13,
    "start_time": "2023-04-19T06:48:59.144Z"
   },
   {
    "duration": 10,
    "start_time": "2023-04-19T06:48:59.158Z"
   },
   {
    "duration": 27,
    "start_time": "2023-04-19T06:48:59.170Z"
   },
   {
    "duration": 95,
    "start_time": "2023-04-19T06:48:59.199Z"
   },
   {
    "duration": 105,
    "start_time": "2023-04-19T06:48:59.296Z"
   },
   {
    "duration": 99,
    "start_time": "2023-04-19T06:48:59.403Z"
   },
   {
    "duration": 101,
    "start_time": "2023-04-19T06:48:59.504Z"
   },
   {
    "duration": 89,
    "start_time": "2023-04-19T06:48:59.607Z"
   },
   {
    "duration": 97,
    "start_time": "2023-04-19T06:48:59.699Z"
   },
   {
    "duration": 11,
    "start_time": "2023-04-19T06:48:59.797Z"
   },
   {
    "duration": 7,
    "start_time": "2023-04-19T06:48:59.809Z"
   },
   {
    "duration": 6,
    "start_time": "2023-04-19T06:48:59.818Z"
   },
   {
    "duration": 1261,
    "start_time": "2023-04-19T06:48:59.825Z"
   },
   {
    "duration": 1234,
    "start_time": "2023-04-19T06:49:01.088Z"
   },
   {
    "duration": 1211,
    "start_time": "2023-04-19T06:49:02.324Z"
   },
   {
    "duration": 1260,
    "start_time": "2023-04-19T06:50:15.386Z"
   },
   {
    "duration": 3,
    "start_time": "2023-04-19T06:50:39.280Z"
   },
   {
    "duration": 330,
    "start_time": "2023-04-19T06:50:39.285Z"
   },
   {
    "duration": 19,
    "start_time": "2023-04-19T06:50:39.617Z"
   },
   {
    "duration": 24,
    "start_time": "2023-04-19T06:50:39.638Z"
   },
   {
    "duration": 43,
    "start_time": "2023-04-19T06:50:39.664Z"
   },
   {
    "duration": 130,
    "start_time": "2023-04-19T06:50:39.709Z"
   },
   {
    "duration": 1178,
    "start_time": "2023-04-19T06:50:54.926Z"
   },
   {
    "duration": 3,
    "start_time": "2023-04-19T06:51:06.452Z"
   },
   {
    "duration": 353,
    "start_time": "2023-04-19T06:51:06.456Z"
   },
   {
    "duration": 21,
    "start_time": "2023-04-19T06:51:06.811Z"
   },
   {
    "duration": 21,
    "start_time": "2023-04-19T06:51:06.834Z"
   },
   {
    "duration": 45,
    "start_time": "2023-04-19T06:51:06.858Z"
   },
   {
    "duration": 148,
    "start_time": "2023-04-19T06:51:06.905Z"
   },
   {
    "duration": 15,
    "start_time": "2023-04-19T06:51:07.055Z"
   },
   {
    "duration": 25,
    "start_time": "2023-04-19T06:51:07.072Z"
   },
   {
    "duration": 97,
    "start_time": "2023-04-19T06:51:07.099Z"
   },
   {
    "duration": 99,
    "start_time": "2023-04-19T06:51:07.197Z"
   },
   {
    "duration": 53,
    "start_time": "2023-04-19T06:51:07.298Z"
   },
   {
    "duration": 144,
    "start_time": "2023-04-19T06:51:07.353Z"
   },
   {
    "duration": 14,
    "start_time": "2023-04-19T06:51:07.499Z"
   },
   {
    "duration": 77,
    "start_time": "2023-04-19T06:51:07.520Z"
   },
   {
    "duration": 8,
    "start_time": "2023-04-19T06:51:07.599Z"
   },
   {
    "duration": 92,
    "start_time": "2023-04-19T06:51:07.608Z"
   },
   {
    "duration": 21,
    "start_time": "2023-04-19T06:51:07.702Z"
   },
   {
    "duration": 7,
    "start_time": "2023-04-19T06:51:07.724Z"
   },
   {
    "duration": 1231,
    "start_time": "2023-04-19T06:51:07.733Z"
   },
   {
    "duration": 1288,
    "start_time": "2023-04-19T06:51:08.966Z"
   },
   {
    "duration": 1355,
    "start_time": "2023-04-19T06:51:10.256Z"
   },
   {
    "duration": 2385,
    "start_time": "2023-04-20T07:03:59.515Z"
   },
   {
    "duration": 1097,
    "start_time": "2023-04-20T07:04:01.903Z"
   },
   {
    "duration": 37,
    "start_time": "2023-04-20T07:04:03.003Z"
   },
   {
    "duration": 337,
    "start_time": "2023-04-20T07:04:03.054Z"
   },
   {
    "duration": 135,
    "start_time": "2023-04-20T07:04:03.394Z"
   },
   {
    "duration": 238,
    "start_time": "2023-04-20T07:04:03.532Z"
   },
   {
    "duration": 24,
    "start_time": "2023-04-20T07:04:03.775Z"
   },
   {
    "duration": 15,
    "start_time": "2023-04-20T07:04:03.801Z"
   },
   {
    "duration": 46,
    "start_time": "2023-04-20T07:04:03.818Z"
   },
   {
    "duration": 206,
    "start_time": "2023-04-20T07:04:03.866Z"
   },
   {
    "duration": 67,
    "start_time": "2023-04-20T07:04:04.078Z"
   },
   {
    "duration": 166,
    "start_time": "2023-04-20T07:04:04.150Z"
   },
   {
    "duration": 136,
    "start_time": "2023-04-20T07:04:04.319Z"
   },
   {
    "duration": 131,
    "start_time": "2023-04-20T07:04:04.459Z"
   },
   {
    "duration": 109,
    "start_time": "2023-04-20T07:04:04.592Z"
   },
   {
    "duration": 98,
    "start_time": "2023-04-20T07:04:04.703Z"
   },
   {
    "duration": 29,
    "start_time": "2023-04-20T07:04:04.803Z"
   },
   {
    "duration": 91,
    "start_time": "2023-04-20T07:04:04.835Z"
   },
   {
    "duration": 2058,
    "start_time": "2023-04-20T07:04:04.929Z"
   },
   {
    "duration": 1682,
    "start_time": "2023-04-20T07:04:06.989Z"
   },
   {
    "duration": 1611,
    "start_time": "2023-04-20T07:04:08.674Z"
   },
   {
    "duration": 3,
    "start_time": "2023-04-20T07:05:14.571Z"
   },
   {
    "duration": 526,
    "start_time": "2023-04-20T07:05:15.007Z"
   },
   {
    "duration": 103,
    "start_time": "2023-04-20T07:05:16.782Z"
   },
   {
    "duration": 37,
    "start_time": "2023-04-20T07:05:17.216Z"
   },
   {
    "duration": 105,
    "start_time": "2023-04-20T07:05:17.662Z"
   },
   {
    "duration": 23,
    "start_time": "2023-04-20T07:05:24.669Z"
   },
   {
    "duration": 175,
    "start_time": "2023-04-20T07:05:25.105Z"
   },
   {
    "duration": 30,
    "start_time": "2023-04-20T07:05:25.984Z"
   },
   {
    "duration": 47,
    "start_time": "2023-04-20T07:05:26.867Z"
   },
   {
    "duration": 7,
    "start_time": "2023-04-20T07:05:27.306Z"
   },
   {
    "duration": 4,
    "start_time": "2023-04-20T07:05:28.635Z"
   },
   {
    "duration": 6,
    "start_time": "2023-04-20T07:05:29.101Z"
   },
   {
    "duration": 7,
    "start_time": "2023-04-20T07:05:31.684Z"
   },
   {
    "duration": 1750,
    "start_time": "2023-04-20T07:05:32.562Z"
   },
   {
    "duration": 1651,
    "start_time": "2023-04-20T07:05:34.315Z"
   },
   {
    "duration": 1758,
    "start_time": "2023-04-20T07:05:35.979Z"
   },
   {
    "duration": 2002,
    "start_time": "2023-04-20T07:05:54.267Z"
   },
   {
    "duration": 480,
    "start_time": "2023-04-20T07:05:56.274Z"
   },
   {
    "duration": 42,
    "start_time": "2023-04-20T07:05:56.756Z"
   },
   {
    "duration": 137,
    "start_time": "2023-04-20T07:05:56.800Z"
   },
   {
    "duration": 0,
    "start_time": "2023-04-20T07:05:56.945Z"
   },
   {
    "duration": 1,
    "start_time": "2023-04-20T07:05:56.946Z"
   },
   {
    "duration": 0,
    "start_time": "2023-04-20T07:05:56.948Z"
   },
   {
    "duration": 0,
    "start_time": "2023-04-20T07:05:56.949Z"
   },
   {
    "duration": 0,
    "start_time": "2023-04-20T07:05:56.950Z"
   },
   {
    "duration": 0,
    "start_time": "2023-04-20T07:05:56.952Z"
   },
   {
    "duration": 0,
    "start_time": "2023-04-20T07:05:56.953Z"
   },
   {
    "duration": 0,
    "start_time": "2023-04-20T07:05:56.955Z"
   },
   {
    "duration": 0,
    "start_time": "2023-04-20T07:05:56.959Z"
   },
   {
    "duration": 0,
    "start_time": "2023-04-20T07:05:56.960Z"
   },
   {
    "duration": 0,
    "start_time": "2023-04-20T07:05:56.961Z"
   },
   {
    "duration": 0,
    "start_time": "2023-04-20T07:05:56.962Z"
   },
   {
    "duration": 0,
    "start_time": "2023-04-20T07:05:56.968Z"
   },
   {
    "duration": 0,
    "start_time": "2023-04-20T07:05:56.970Z"
   },
   {
    "duration": 0,
    "start_time": "2023-04-20T07:05:56.972Z"
   },
   {
    "duration": 0,
    "start_time": "2023-04-20T07:05:56.974Z"
   },
   {
    "duration": 0,
    "start_time": "2023-04-20T07:05:56.976Z"
   },
   {
    "duration": 25,
    "start_time": "2023-04-20T07:06:04.176Z"
   },
   {
    "duration": 2033,
    "start_time": "2023-04-20T07:09:25.900Z"
   },
   {
    "duration": 472,
    "start_time": "2023-04-20T07:09:27.935Z"
   },
   {
    "duration": 53,
    "start_time": "2023-04-20T07:09:28.408Z"
   },
   {
    "duration": 27,
    "start_time": "2023-04-20T07:09:28.464Z"
   },
   {
    "duration": 31,
    "start_time": "2023-04-20T07:09:28.493Z"
   },
   {
    "duration": 27,
    "start_time": "2023-04-20T07:09:28.547Z"
   },
   {
    "duration": 17,
    "start_time": "2023-04-20T07:09:28.575Z"
   },
   {
    "duration": 56,
    "start_time": "2023-04-20T07:09:28.595Z"
   },
   {
    "duration": 110,
    "start_time": "2023-04-20T07:09:28.654Z"
   },
   {
    "duration": 32,
    "start_time": "2023-04-20T07:09:28.767Z"
   },
   {
    "duration": 70,
    "start_time": "2023-04-20T07:09:28.802Z"
   },
   {
    "duration": 170,
    "start_time": "2023-04-20T07:09:28.876Z"
   },
   {
    "duration": 101,
    "start_time": "2023-04-20T07:09:29.052Z"
   },
   {
    "duration": 21,
    "start_time": "2023-04-20T07:09:29.156Z"
   },
   {
    "duration": 18,
    "start_time": "2023-04-20T07:09:29.179Z"
   },
   {
    "duration": 6,
    "start_time": "2023-04-20T07:09:29.200Z"
   },
   {
    "duration": 34,
    "start_time": "2023-04-20T07:09:29.211Z"
   },
   {
    "duration": 1845,
    "start_time": "2023-04-20T07:09:29.251Z"
   },
   {
    "duration": 1782,
    "start_time": "2023-04-20T07:09:31.098Z"
   },
   {
    "duration": 1725,
    "start_time": "2023-04-20T07:09:32.882Z"
   }
  ],
  "kernelspec": {
   "display_name": "Python 3 (ipykernel)",
   "language": "python",
   "name": "python3"
  },
  "language_info": {
   "codemirror_mode": {
    "name": "ipython",
    "version": 3
   },
   "file_extension": ".py",
   "mimetype": "text/x-python",
   "name": "python",
   "nbconvert_exporter": "python",
   "pygments_lexer": "ipython3",
   "version": "3.11.5"
  },
  "toc": {
   "base_numbering": 1,
   "nav_menu": {},
   "number_sections": true,
   "sideBar": true,
   "skip_h1_title": true,
   "title_cell": "Table of Contents",
   "title_sidebar": "Contents",
   "toc_cell": false,
   "toc_position": {},
   "toc_section_display": true,
   "toc_window_display": false
  }
 },
 "nbformat": 4,
 "nbformat_minor": 2
}
