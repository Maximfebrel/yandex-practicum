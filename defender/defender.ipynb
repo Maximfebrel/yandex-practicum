{
 "cells": [
  {
   "cell_type": "markdown",
   "metadata": {
    "toc": true
   },
   "source": [
    "<h1>Содержание<span class=\"tocSkip\"></span></h1>\n",
    "<div class=\"toc\"><ul class=\"toc-item\"><li><span><a href=\"#Загрузка-данных\" data-toc-modified-id=\"Загрузка-данных-1\"><span class=\"toc-item-num\">1&nbsp;&nbsp;</span>Загрузка данных</a></span></li><li><span><a href=\"#Умножение-матриц\" data-toc-modified-id=\"Умножение-матриц-2\"><span class=\"toc-item-num\">2&nbsp;&nbsp;</span>Умножение матриц</a></span></li><li><span><a href=\"#Алгоритм-преобразования\" data-toc-modified-id=\"Алгоритм-преобразования-3\"><span class=\"toc-item-num\">3&nbsp;&nbsp;</span>Алгоритм преобразования</a></span></li><li><span><a href=\"#Проверка-алгоритма\" data-toc-modified-id=\"Проверка-алгоритма-4\"><span class=\"toc-item-num\">4&nbsp;&nbsp;</span>Проверка алгоритма</a></span></li><li><span><a href=\"#Чек-лист-проверки\" data-toc-modified-id=\"Чек-лист-проверки-5\"><span class=\"toc-item-num\">5&nbsp;&nbsp;</span>Чек-лист проверки</a></span></li></ul></div>"
   ]
  },
  {
   "cell_type": "markdown",
   "metadata": {},
   "source": [
    "# Защита персональных данных клиентов"
   ]
  },
  {
   "cell_type": "markdown",
   "metadata": {},
   "source": [
    "Вам нужно защитить данные клиентов страховой компании «Хоть потоп». Разработайте такой метод преобразования данных, чтобы по ним было сложно восстановить персональную информацию. Обоснуйте корректность его работы.\n",
    "\n",
    "Нужно защитить данные, чтобы при преобразовании качество моделей машинного обучения не ухудшилось. Подбирать наилучшую модель не требуется."
   ]
  },
  {
   "cell_type": "markdown",
   "metadata": {},
   "source": [
    "## Загрузка данных"
   ]
  },
  {
   "cell_type": "code",
   "execution_count": 14,
   "metadata": {},
   "outputs": [],
   "source": [
    "import pandas as pd\n",
    "from sklearn.model_selection import train_test_split\n",
    "from sklearn.linear_model import LinearRegression\n",
    "from sklearn.metrics import r2_score\n",
    "import numpy as np"
   ]
  },
  {
   "cell_type": "code",
   "execution_count": 2,
   "metadata": {},
   "outputs": [],
   "source": [
    "data = pd.read_csv('/datasets/insurance.csv')"
   ]
  },
  {
   "cell_type": "code",
   "execution_count": 3,
   "metadata": {},
   "outputs": [
    {
     "name": "stdout",
     "output_type": "stream",
     "text": [
      "<class 'pandas.core.frame.DataFrame'>\n",
      "RangeIndex: 5000 entries, 0 to 4999\n",
      "Data columns (total 5 columns):\n",
      " #   Column             Non-Null Count  Dtype  \n",
      "---  ------             --------------  -----  \n",
      " 0   Пол                5000 non-null   int64  \n",
      " 1   Возраст            5000 non-null   float64\n",
      " 2   Зарплата           5000 non-null   float64\n",
      " 3   Члены семьи        5000 non-null   int64  \n",
      " 4   Страховые выплаты  5000 non-null   int64  \n",
      "dtypes: float64(2), int64(3)\n",
      "memory usage: 195.4 KB\n"
     ]
    }
   ],
   "source": [
    "data.info()"
   ]
  },
  {
   "cell_type": "code",
   "execution_count": 4,
   "metadata": {},
   "outputs": [
    {
     "data": {
      "text/html": [
       "<div>\n",
       "<style scoped>\n",
       "    .dataframe tbody tr th:only-of-type {\n",
       "        vertical-align: middle;\n",
       "    }\n",
       "\n",
       "    .dataframe tbody tr th {\n",
       "        vertical-align: top;\n",
       "    }\n",
       "\n",
       "    .dataframe thead th {\n",
       "        text-align: right;\n",
       "    }\n",
       "</style>\n",
       "<table border=\"1\" class=\"dataframe\">\n",
       "  <thead>\n",
       "    <tr style=\"text-align: right;\">\n",
       "      <th></th>\n",
       "      <th>Пол</th>\n",
       "      <th>Возраст</th>\n",
       "      <th>Зарплата</th>\n",
       "      <th>Члены семьи</th>\n",
       "      <th>Страховые выплаты</th>\n",
       "    </tr>\n",
       "  </thead>\n",
       "  <tbody>\n",
       "    <tr>\n",
       "      <th>0</th>\n",
       "      <td>1</td>\n",
       "      <td>41.0</td>\n",
       "      <td>49600.0</td>\n",
       "      <td>1</td>\n",
       "      <td>0</td>\n",
       "    </tr>\n",
       "    <tr>\n",
       "      <th>1</th>\n",
       "      <td>0</td>\n",
       "      <td>46.0</td>\n",
       "      <td>38000.0</td>\n",
       "      <td>1</td>\n",
       "      <td>1</td>\n",
       "    </tr>\n",
       "    <tr>\n",
       "      <th>2</th>\n",
       "      <td>0</td>\n",
       "      <td>29.0</td>\n",
       "      <td>21000.0</td>\n",
       "      <td>0</td>\n",
       "      <td>0</td>\n",
       "    </tr>\n",
       "    <tr>\n",
       "      <th>3</th>\n",
       "      <td>0</td>\n",
       "      <td>21.0</td>\n",
       "      <td>41700.0</td>\n",
       "      <td>2</td>\n",
       "      <td>0</td>\n",
       "    </tr>\n",
       "    <tr>\n",
       "      <th>4</th>\n",
       "      <td>1</td>\n",
       "      <td>28.0</td>\n",
       "      <td>26100.0</td>\n",
       "      <td>0</td>\n",
       "      <td>0</td>\n",
       "    </tr>\n",
       "  </tbody>\n",
       "</table>\n",
       "</div>"
      ],
      "text/plain": [
       "   Пол  Возраст  Зарплата  Члены семьи  Страховые выплаты\n",
       "0    1     41.0   49600.0            1                  0\n",
       "1    0     46.0   38000.0            1                  1\n",
       "2    0     29.0   21000.0            0                  0\n",
       "3    0     21.0   41700.0            2                  0\n",
       "4    1     28.0   26100.0            0                  0"
      ]
     },
     "execution_count": 4,
     "metadata": {},
     "output_type": "execute_result"
    }
   ],
   "source": [
    "data.head(5)"
   ]
  },
  {
   "cell_type": "markdown",
   "metadata": {},
   "source": [
    "**Вывод**\n",
    "\n",
    "Были загружены и обработаны данные. Пропуски в данных отсутствуют. Дубликаты были оставлены, так как недостаточно данных для подтверждения того, что это дубликаты. "
   ]
  },
  {
   "cell_type": "markdown",
   "metadata": {},
   "source": [
    "## Умножение матриц"
   ]
  },
  {
   "cell_type": "markdown",
   "metadata": {},
   "source": [
    "В этом задании вы можете записывать формулы в *Jupyter Notebook.*\n",
    "\n",
    "Чтобы записать формулу внутри текста, окружите её символами доллара \\\\$; если снаружи —  двойными символами \\\\$\\\\$. Эти формулы записываются на языке вёрстки *LaTeX.* \n",
    "\n",
    "Для примера мы записали формулы линейной регрессии. Можете их скопировать и отредактировать, чтобы решить задачу.\n",
    "\n",
    "Работать в *LaTeX* необязательно."
   ]
  },
  {
   "cell_type": "markdown",
   "metadata": {},
   "source": [
    "Обозначения:\n",
    "\n",
    "- $X$ — матрица признаков (нулевой столбец состоит из единиц)\n",
    "\n",
    "- $y$ — вектор целевого признака\n",
    "\n",
    "- $P$ — матрица, на которую умножаются признаки\n",
    "\n",
    "- $w$ — вектор весов линейной регрессии (нулевой элемент равен сдвигу)"
   ]
  },
  {
   "cell_type": "markdown",
   "metadata": {},
   "source": [
    "Предсказания:\n",
    "\n",
    "$$\n",
    "a = Xw\n",
    "$$\n",
    "\n",
    "Задача обучения:\n",
    "\n",
    "$$\n",
    "w = \\arg\\min_w MSE(Xw, y)\n",
    "$$\n",
    "\n",
    "Формула обучения:\n",
    "\n",
    "$$\n",
    "w = (X^T X)^{-1} X^T y\n",
    "$$"
   ]
  },
  {
   "cell_type": "markdown",
   "metadata": {},
   "source": [
    "**Ответ:** Если домножить матрицу на обратимую (квадратную), то качество модели и предсказания не изменится. Изменятся лишь веса обучаемой модели.\n",
    "\n",
    "**Обоснование:** \n",
    "\n",
    "$$\n",
    "w' = ((XP)^T XP)^{-1} (XP)^T y,\n",
    "$$\n",
    " \n",
    "где P - обратимая матрица, X - исходная матрица признаков, w' - новые веса в закодированной матрице.\n",
    "\n",
    "$$\n",
    "w' = ((XP)^T XP)^{-1} (XP)^T y = (P^T X^TX P)^{-1} P^TX^T y\n",
    "$$\n",
    "\n",
    "$$\n",
    "w' = (P^T X^TX P)^{-1} P^TX^T y = P^{-1} (X^TX)^{-1} (P^T)^{-1} P^TX^T y\n",
    "$$\n",
    "\n",
    "$$\n",
    "(P^T)^{-1} P^T = E\n",
    "$$\n",
    "\n",
    "$$\n",
    "w' = P^{-1} (X^TX)^{-1} (P^T)^{-1} P^TX^T y = P^{-1} ((X^TX)^{-1} X^T y)\n",
    "$$\n",
    "\n",
    "$$\n",
    "w' = P^{-1} w \n",
    "$$"
   ]
  },
  {
   "cell_type": "markdown",
   "metadata": {},
   "source": [
    "## Алгоритм преобразования"
   ]
  },
  {
   "cell_type": "markdown",
   "metadata": {},
   "source": [
    "**Алгоритм**\n",
    "\n",
    "1) Обучить модель на исходных данных\n",
    "\n",
    "2) Домножить признаки на квадратную матрицу и обучить модель на этих данных\n",
    "\n",
    "3) Проверить совпадений результатов двух моделей"
   ]
  },
  {
   "cell_type": "markdown",
   "metadata": {},
   "source": [
    "**Обоснование**\n",
    "\n",
    "1) Для данных без преобразования\n",
    "\n",
    "$$\n",
    "a = Xw\n",
    "$$\n",
    "\n",
    "2) Для данных с преобразованием\n",
    "\n",
    "$$\n",
    "a' = (XP) w'\n",
    "$$\n",
    "\n",
    "$$\n",
    "a' = (XP) w' = (XP) P^{-1} w = Xw\n",
    "$$"
   ]
  },
  {
   "cell_type": "markdown",
   "metadata": {},
   "source": [
    "## Проверка алгоритма"
   ]
  },
  {
   "cell_type": "code",
   "execution_count": 37,
   "metadata": {},
   "outputs": [],
   "source": [
    "features = data.drop(['Страховые выплаты'], axis=1)\n",
    "target = data['Страховые выплаты']"
   ]
  },
  {
   "cell_type": "code",
   "execution_count": 38,
   "metadata": {},
   "outputs": [],
   "source": [
    "features_train, features_test, target_train, target_test = train_test_split(\n",
    "    features, target, test_size=0.8, random_state=12345)"
   ]
  },
  {
   "cell_type": "markdown",
   "metadata": {},
   "source": [
    "**Обучение на данных без кодировки**"
   ]
  },
  {
   "cell_type": "code",
   "execution_count": 39,
   "metadata": {},
   "outputs": [],
   "source": [
    "model = LinearRegression()\n",
    "model.fit(features_train, target_train)\n",
    "predictions = model.predict(features_test)\n",
    "r2 = r2_score(target_test, predictions)"
   ]
  },
  {
   "cell_type": "markdown",
   "metadata": {},
   "source": [
    "**Кодирование исходных данных**"
   ]
  },
  {
   "cell_type": "markdown",
   "metadata": {},
   "source": [
    "Всего признака 4, поэтому для кодирования необходимо домножить исходные данные на квадратную матрицу размерностью 4."
   ]
  },
  {
   "cell_type": "code",
   "execution_count": 40,
   "metadata": {},
   "outputs": [],
   "source": [
    "matrix = np.array([\n",
    "    [1, 2, 3, 4],\n",
    "    [4, 6, 7, 9],\n",
    "    [-1, 4, 8, 10],\n",
    "    [0, 7, 15, 3]\n",
    "])\n",
    "\n",
    "features_train_code = np.array(features_train) @ matrix\n",
    "features_test_code = np.array(features_test) @ matrix"
   ]
  },
  {
   "cell_type": "code",
   "execution_count": 41,
   "metadata": {},
   "outputs": [],
   "source": [
    "model = LinearRegression()\n",
    "model.fit(features_train_code, target_train)\n",
    "predictions = model.predict(features_test_code)\n",
    "r2_code = r2_score(target_test, predictions)"
   ]
  },
  {
   "cell_type": "markdown",
   "metadata": {},
   "source": [
    "**Проверка качества моделей**"
   ]
  },
  {
   "cell_type": "code",
   "execution_count": 42,
   "metadata": {
    "scrolled": false
   },
   "outputs": [
    {
     "name": "stdout",
     "output_type": "stream",
     "text": [
      "Качество модели на исходных данных: 0.42016377665505733\n",
      "Качество модели на закодированных данных: 0.42016377665464144\n"
     ]
    }
   ],
   "source": [
    "print('Качество модели на исходных данных:', r2)\n",
    "print('Качество модели на закодированных данных:',r2_code)"
   ]
  },
  {
   "cell_type": "markdown",
   "metadata": {},
   "source": [
    "**Восстановление исходной матрицы**"
   ]
  },
  {
   "cell_type": "code",
   "execution_count": 43,
   "metadata": {},
   "outputs": [],
   "source": [
    "features_train_after_code = features_train_code @ np.linalg.inv(matrix)"
   ]
  },
  {
   "cell_type": "code",
   "execution_count": 44,
   "metadata": {},
   "outputs": [
    {
     "data": {
      "text/plain": [
       "array([[ 1.47922785e-11,  3.20000000e+01,  2.12000000e+04,\n",
       "         1.00000000e+00],\n",
       "       [ 1.00000000e+00,  2.00000000e+01,  3.64000000e+04,\n",
       "         2.00000000e+00],\n",
       "       [-3.44826390e-11,  4.80000000e+01,  2.82000000e+04,\n",
       "        -3.11040083e-12],\n",
       "       ...,\n",
       "       [ 1.00000000e+00,  4.10000000e+01,  4.47000000e+04,\n",
       "         1.00000000e+00],\n",
       "       [ 5.29130073e-11,  2.20000000e+01,  5.01000000e+04,\n",
       "         4.00000000e+00],\n",
       "       [ 3.04553049e-11,  1.90000000e+01,  4.08000000e+04,\n",
       "        -5.43656786e-12]])"
      ]
     },
     "execution_count": 44,
     "metadata": {},
     "output_type": "execute_result"
    }
   ],
   "source": [
    "features_train_after_code"
   ]
  },
  {
   "cell_type": "code",
   "execution_count": 46,
   "metadata": {},
   "outputs": [
    {
     "data": {
      "text/plain": [
       "array([[0.00e+00, 3.20e+01, 2.12e+04, 1.00e+00],\n",
       "       [1.00e+00, 2.00e+01, 3.64e+04, 2.00e+00],\n",
       "       [0.00e+00, 4.80e+01, 2.82e+04, 0.00e+00],\n",
       "       ...,\n",
       "       [1.00e+00, 4.10e+01, 4.47e+04, 1.00e+00],\n",
       "       [0.00e+00, 2.20e+01, 5.01e+04, 4.00e+00],\n",
       "       [0.00e+00, 1.90e+01, 4.08e+04, 0.00e+00]])"
      ]
     },
     "execution_count": 46,
     "metadata": {},
     "output_type": "execute_result"
    }
   ],
   "source": [
    "np.array(features_train)"
   ]
  },
  {
   "cell_type": "markdown",
   "metadata": {},
   "source": [
    "**Вывод**"
   ]
  },
  {
   "cell_type": "markdown",
   "metadata": {},
   "source": [
    "Было обучено две модели. По результатам обучения можно сделать вывод о том, что при кодировании качество модели и результат работы модели не изменяется.\n",
    "\n",
    "Поэтому для различных компаний, которые работают с секретными данными клиентов возможно применение способа кодирования аданных при помощи умножения исходных данных на квадратную матрицу.\n",
    "\n",
    "Также следует отметить, что данные восстанавливаются после кодирования, то есть потеряные они не будут."
   ]
  }
 ],
 "metadata": {
  "ExecuteTimeLog": [
   {
    "duration": 375,
    "start_time": "2023-05-15T19:28:17.054Z"
   },
   {
    "duration": 93,
    "start_time": "2023-05-15T19:28:33.948Z"
   },
   {
    "duration": 11,
    "start_time": "2023-05-15T19:28:45.378Z"
   },
   {
    "duration": 12,
    "start_time": "2023-05-15T19:28:48.676Z"
   },
   {
    "duration": 5,
    "start_time": "2023-05-15T19:29:03.417Z"
   },
   {
    "duration": 14,
    "start_time": "2023-05-15T19:29:17.740Z"
   },
   {
    "duration": 443,
    "start_time": "2023-05-21T07:57:18.479Z"
   },
   {
    "duration": 78,
    "start_time": "2023-05-21T07:57:19.634Z"
   },
   {
    "duration": 13,
    "start_time": "2023-05-21T07:57:20.345Z"
   },
   {
    "duration": 18,
    "start_time": "2023-05-21T07:57:22.083Z"
   },
   {
    "duration": 5,
    "start_time": "2023-05-21T08:25:26.995Z"
   },
   {
    "duration": 832,
    "start_time": "2023-05-21T08:26:49.826Z"
   },
   {
    "duration": 6,
    "start_time": "2023-05-21T08:27:33.118Z"
   },
   {
    "duration": 3,
    "start_time": "2023-05-21T08:30:39.179Z"
   },
   {
    "duration": 16,
    "start_time": "2023-05-21T08:30:44.272Z"
   },
   {
    "duration": 4,
    "start_time": "2023-05-21T08:31:07.340Z"
   },
   {
    "duration": 12,
    "start_time": "2023-05-21T08:31:39.101Z"
   },
   {
    "duration": 14,
    "start_time": "2023-05-21T08:31:45.407Z"
   },
   {
    "duration": 135,
    "start_time": "2023-05-21T08:35:48.372Z"
   },
   {
    "duration": 4,
    "start_time": "2023-05-21T08:36:02.824Z"
   },
   {
    "duration": 5,
    "start_time": "2023-05-21T08:36:06.676Z"
   },
   {
    "duration": 6,
    "start_time": "2023-05-21T08:37:05.019Z"
   },
   {
    "duration": 15,
    "start_time": "2023-05-21T08:37:05.523Z"
   },
   {
    "duration": 9,
    "start_time": "2023-05-21T08:37:12.165Z"
   },
   {
    "duration": 5,
    "start_time": "2023-05-21T08:37:13.999Z"
   },
   {
    "duration": 17,
    "start_time": "2023-05-21T08:37:15.865Z"
   },
   {
    "duration": 5,
    "start_time": "2023-05-21T08:37:31.264Z"
   },
   {
    "duration": 4,
    "start_time": "2023-05-21T08:38:10.369Z"
   },
   {
    "duration": 11,
    "start_time": "2023-05-21T09:00:35.564Z"
   },
   {
    "duration": 4,
    "start_time": "2023-05-21T09:01:02.705Z"
   },
   {
    "duration": 13,
    "start_time": "2023-05-21T09:01:14.401Z"
   },
   {
    "duration": 11,
    "start_time": "2023-05-21T09:01:56.946Z"
   },
   {
    "duration": 5,
    "start_time": "2023-05-21T09:02:37.596Z"
   },
   {
    "duration": 7,
    "start_time": "2023-05-21T09:02:37.961Z"
   },
   {
    "duration": 4,
    "start_time": "2023-05-21T09:02:39.110Z"
   },
   {
    "duration": 5,
    "start_time": "2023-05-21T09:02:41.974Z"
   },
   {
    "duration": 11,
    "start_time": "2023-05-21T09:02:42.801Z"
   },
   {
    "duration": 11,
    "start_time": "2023-05-21T09:02:59.779Z"
   },
   {
    "duration": 5,
    "start_time": "2023-05-21T09:03:34.610Z"
   },
   {
    "duration": 4,
    "start_time": "2023-05-21T09:05:13.364Z"
   },
   {
    "duration": 4,
    "start_time": "2023-05-21T09:06:36.106Z"
   },
   {
    "duration": 6,
    "start_time": "2023-05-21T09:06:42.553Z"
   },
   {
    "duration": 6,
    "start_time": "2023-05-21T09:07:54.097Z"
   },
   {
    "duration": 7,
    "start_time": "2023-05-21T09:07:54.462Z"
   },
   {
    "duration": 10,
    "start_time": "2023-05-21T09:07:55.626Z"
   },
   {
    "duration": 5,
    "start_time": "2023-05-21T09:07:58.363Z"
   },
   {
    "duration": 9,
    "start_time": "2023-05-21T09:08:00.363Z"
   },
   {
    "duration": 6,
    "start_time": "2023-05-21T09:08:01.822Z"
   },
   {
    "duration": 4,
    "start_time": "2023-05-21T09:08:04.162Z"
   },
   {
    "duration": 6,
    "start_time": "2023-05-21T09:08:04.686Z"
   },
   {
    "duration": 10,
    "start_time": "2023-05-21T09:08:32.728Z"
   },
   {
    "duration": 7,
    "start_time": "2023-05-21T09:08:43.071Z"
   }
  ],
  "kernelspec": {
   "display_name": "Python 3 (ipykernel)",
   "language": "python",
   "name": "python3"
  },
  "language_info": {
   "codemirror_mode": {
    "name": "ipython",
    "version": 3
   },
   "file_extension": ".py",
   "mimetype": "text/x-python",
   "name": "python",
   "nbconvert_exporter": "python",
   "pygments_lexer": "ipython3",
   "version": "3.11.5"
  },
  "toc": {
   "base_numbering": 1,
   "nav_menu": {},
   "number_sections": true,
   "sideBar": true,
   "skip_h1_title": true,
   "title_cell": "Содержание",
   "title_sidebar": "Contents",
   "toc_cell": true,
   "toc_position": {},
   "toc_section_display": true,
   "toc_window_display": true
  }
 },
 "nbformat": 4,
 "nbformat_minor": 2
}
