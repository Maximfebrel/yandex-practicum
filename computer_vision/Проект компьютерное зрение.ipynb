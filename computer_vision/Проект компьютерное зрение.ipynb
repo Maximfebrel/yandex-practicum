{
 "cells": [
  {
   "cell_type": "markdown",
   "id": "720b812d",
   "metadata": {},
   "source": [
    "# Введение"
   ]
  },
  {
   "cell_type": "markdown",
   "id": "4eab6f54",
   "metadata": {},
   "source": [
    "Сетевой супермаркет «Хлеб-Соль» внедряет систему компьютерного зрения для обработки фотографий покупателей. Фотофиксация в прикассовой зоне поможет определять возраст клиентов, чтобы:\n",
    "\n",
    "Анализировать покупки и предлагать товары, которые могут заинтересовать покупателей этой возрастной группы;\n",
    "Контролировать добросовестность кассиров при продаже алкоголя.\n",
    "\n",
    "Постройте модель, которая по фотографии определит приблизительный возраст человека. В вашем распоряжении набор фотографий людей с указанием возраста.\n",
    "\n",
    "Данная задача является задачей регрессии, целевой метрикой является метрика MAE, ее значение должно составлять меньше 8."
   ]
  },
  {
   "cell_type": "markdown",
   "id": "3dc2f7c4",
   "metadata": {},
   "source": [
    "# Исследовательский анализ данных"
   ]
  },
  {
   "cell_type": "code",
   "execution_count": 4,
   "id": "65b642a4",
   "metadata": {},
   "outputs": [
    {
     "ename": "ModuleNotFoundError",
     "evalue": "No module named 'tensorflow'",
     "output_type": "error",
     "traceback": [
      "\u001b[1;31m---------------------------------------------------------------------------\u001b[0m",
      "\u001b[1;31mModuleNotFoundError\u001b[0m                       Traceback (most recent call last)",
      "\u001b[1;32m~\\AppData\\Local\\Temp\\ipykernel_5168\\1341938968.py\u001b[0m in \u001b[0;36m<module>\u001b[1;34m\u001b[0m\n\u001b[0;32m      1\u001b[0m \u001b[1;31m# импорт билиотек\u001b[0m\u001b[1;33m\u001b[0m\u001b[1;33m\u001b[0m\u001b[0m\n\u001b[1;32m----> 2\u001b[1;33m \u001b[1;32mfrom\u001b[0m \u001b[0mtensorflow\u001b[0m\u001b[1;33m.\u001b[0m\u001b[0mkeras\u001b[0m\u001b[1;33m.\u001b[0m\u001b[0mapplications\u001b[0m\u001b[1;33m.\u001b[0m\u001b[0mresnet\u001b[0m \u001b[1;32mimport\u001b[0m \u001b[0mResNet50\u001b[0m\u001b[1;33m\u001b[0m\u001b[1;33m\u001b[0m\u001b[0m\n\u001b[0m\u001b[0;32m      3\u001b[0m \u001b[1;32mfrom\u001b[0m \u001b[0mtensorflow\u001b[0m\u001b[1;33m.\u001b[0m\u001b[0mkeras\u001b[0m\u001b[1;33m.\u001b[0m\u001b[0mpreprocessing\u001b[0m\u001b[1;33m.\u001b[0m\u001b[0mimage\u001b[0m \u001b[1;32mimport\u001b[0m \u001b[0mImageDataGenerator\u001b[0m\u001b[1;33m\u001b[0m\u001b[1;33m\u001b[0m\u001b[0m\n\u001b[0;32m      4\u001b[0m \u001b[1;32mfrom\u001b[0m \u001b[0mtensorflow\u001b[0m\u001b[1;33m.\u001b[0m\u001b[0mkeras\u001b[0m\u001b[1;33m.\u001b[0m\u001b[0mlayers\u001b[0m \u001b[1;32mimport\u001b[0m \u001b[0mGlobalAveragePooling2D\u001b[0m\u001b[1;33m,\u001b[0m \u001b[0mDense\u001b[0m\u001b[1;33m,\u001b[0m \u001b[0mFlatten\u001b[0m\u001b[1;33m\u001b[0m\u001b[1;33m\u001b[0m\u001b[0m\n\u001b[0;32m      5\u001b[0m \u001b[1;32mfrom\u001b[0m \u001b[0mtensorflow\u001b[0m\u001b[1;33m.\u001b[0m\u001b[0mkeras\u001b[0m\u001b[1;33m.\u001b[0m\u001b[0mmodels\u001b[0m \u001b[1;32mimport\u001b[0m \u001b[0mSequential\u001b[0m\u001b[1;33m\u001b[0m\u001b[1;33m\u001b[0m\u001b[0m\n",
      "\u001b[1;31mModuleNotFoundError\u001b[0m: No module named 'tensorflow'"
     ]
    }
   ],
   "source": [
    "# импорт билиотек\n",
    "from tensorflow.keras.applications.resnet import ResNet50\n",
    "from tensorflow.keras.preprocessing.image import ImageDataGenerator\n",
    "from tensorflow.keras.layers import GlobalAveragePooling2D, Dense, Flatten\n",
    "from tensorflow.keras.models import Sequential\n",
    "from tensorflow.keras.optimizers import Adam\n",
    "import numpy as np\n",
    "import pandas as pd\n",
    "import matplotlib.pyplot as plt"
   ]
  },
  {
   "cell_type": "code",
   "execution_count": null,
   "id": "9cd1501e",
   "metadata": {},
   "outputs": [],
   "source": [
    "labels = pd.read_csv('/datasets/faces/labels.csv')"
   ]
  },
  {
   "cell_type": "code",
   "execution_count": null,
   "id": "88772ed5",
   "metadata": {},
   "outputs": [],
   "source": [
    "# размер датасета\n",
    "df.shape"
   ]
  },
  {
   "cell_type": "code",
   "execution_count": null,
   "id": "8ae5dbd7",
   "metadata": {},
   "outputs": [],
   "source": [
    "df.info()"
   ]
  },
  {
   "cell_type": "code",
   "execution_count": null,
   "id": "cfd9dc0c",
   "metadata": {},
   "outputs": [],
   "source": [
    "# график распределения людей по возрасту\n",
    "df['real_age'].hist()\n",
    "plt.title(\"Распрделение возраста\")\n",
    "plt.xlabel(\"Возраст\")\n",
    "plt.ylabel(\"Количество людей\")"
   ]
  },
  {
   "cell_type": "code",
   "execution_count": 2,
   "id": "b6d31dd0",
   "metadata": {
    "collapsed": true
   },
   "outputs": [
    {
     "ename": "NameError",
     "evalue": "name 'ImageDataGenerator' is not defined",
     "output_type": "error",
     "traceback": [
      "\u001b[1;31m---------------------------------------------------------------------------\u001b[0m",
      "\u001b[1;31mNameError\u001b[0m                                 Traceback (most recent call last)",
      "\u001b[1;32m~\\AppData\\Local\\Temp\\ipykernel_5168\\3317023697.py\u001b[0m in \u001b[0;36m<module>\u001b[1;34m\u001b[0m\n\u001b[0;32m      1\u001b[0m \u001b[1;31m# извлечение картинок\u001b[0m\u001b[1;33m\u001b[0m\u001b[1;33m\u001b[0m\u001b[0m\n\u001b[1;32m----> 2\u001b[1;33m \u001b[0mtrain_datagen\u001b[0m \u001b[1;33m=\u001b[0m \u001b[0mImageDataGenerator\u001b[0m\u001b[1;33m(\u001b[0m\u001b[0mrescale\u001b[0m\u001b[1;33m=\u001b[0m\u001b[1;36m1.\u001b[0m\u001b[1;33m/\u001b[0m\u001b[1;36m255\u001b[0m\u001b[1;33m)\u001b[0m\u001b[1;33m\u001b[0m\u001b[1;33m\u001b[0m\u001b[0m\n\u001b[0m\u001b[0;32m      3\u001b[0m train_gen_flow = train_datagen.flow_from_dataframe(\n\u001b[0;32m      4\u001b[0m         \u001b[0mdataframe\u001b[0m\u001b[1;33m=\u001b[0m\u001b[0mdf\u001b[0m\u001b[1;33m,\u001b[0m\u001b[1;33m\u001b[0m\u001b[1;33m\u001b[0m\u001b[0m\n\u001b[0;32m      5\u001b[0m         \u001b[0mdirectory\u001b[0m\u001b[1;33m=\u001b[0m\u001b[1;34m'/datasets/faces/final_files/'\u001b[0m\u001b[1;33m,\u001b[0m\u001b[1;33m\u001b[0m\u001b[1;33m\u001b[0m\u001b[0m\n",
      "\u001b[1;31mNameError\u001b[0m: name 'ImageDataGenerator' is not defined"
     ]
    }
   ],
   "source": [
    "# извлечение картинок\n",
    "train_datagen = ImageDataGenerator(rescale=1./255)\n",
    "train_gen_flow = train_datagen.flow_from_dataframe(\n",
    "        dataframe=df,\n",
    "        directory='/datasets/faces/final_files/',\n",
    "        x_col='file_name',\n",
    "        y_col='real_age',\n",
    "        target_size=(224, 224),\n",
    "        batch_size=32,\n",
    "        class_mode='raw',\n",
    "        seed=12345) "
   ]
  },
  {
   "cell_type": "code",
   "execution_count": null,
   "id": "7ff6c07d",
   "metadata": {},
   "outputs": [],
   "source": [
    "features, target = next(train_gen_flow)\n",
    "\n",
    "# выводим 15 изображений\n",
    "fig = plt.figure(figsize=(10,10))\n",
    "for i in range(15):\n",
    "    fig.add_subplot(4, 4, i+1)\n",
    "    plt.imshow(features[i])\n",
    "    plt.xticks([])\n",
    "    plt.yticks([])\n",
    "    plt.tight_layout()"
   ]
  },
  {
   "cell_type": "markdown",
   "id": "c9664187",
   "metadata": {},
   "source": [
    "**Вывод**\n",
    "\n",
    "Был проведен исследовательский анализ данных, в ходе которого был сделан вывод о том, что больше всего людей в распределении относится к возрасту 20-30 лет. В датасете отсутствуют пропуски. Также следует отметить, что в датасете присутствуют как цветные, так и черно-белые фотографии, некоторые из них повернуты.\n",
    "\n",
    "Для улучшения обучения модели необходимо уменьшить влияние этих факторов: добавляется аугментация, увеличивается количество эпох и снижается скорость обучения модели."
   ]
  },
  {
   "cell_type": "markdown",
   "id": "dbf8f852",
   "metadata": {},
   "source": [
    "# Обучение модели"
   ]
  },
  {
   "cell_type": "code",
   "execution_count": null,
   "id": "7383c5e7",
   "metadata": {},
   "outputs": [],
   "source": [
    "# функция загрузки тренировочных данных\n",
    "\n",
    "def load_train(path):\n",
    "    labels = pd.read_csv('/datasets/faces/labels.csv')\n",
    "\n",
    "    train_datagen = ImageDataGenerator(\n",
    "        rescale=1.0/255,\n",
    "        validation_split=0.25,\n",
    "        horizontal_flip=True,\n",
    "        vertical_flip=True)\n",
    "\n",
    "    train_gen_flow = train_datagen.flow_from_dataframe(\n",
    "        dataframe=labels,\n",
    "        directory='/datasets/faces/final_files/',\n",
    "        x_col='file_name',\n",
    "        y_col='real_age',\n",
    "        target_size=(224, 224),\n",
    "        batch_size=16,\n",
    "        class_mode='raw',\n",
    "        subset='training',\n",
    "        seed=12345)\n",
    "\n",
    "    return train_gen_flow"
   ]
  },
  {
   "cell_type": "code",
   "execution_count": null,
   "id": "38d04508",
   "metadata": {},
   "outputs": [],
   "source": [
    "# функция загрузки тестовых данных\n",
    "\n",
    "def load_test(path):\n",
    "\n",
    "    labels = pd.read_csv('/datasets/faces/labels.csv')\n",
    "\n",
    "    test_datagen = ImageDataGenerator(\n",
    "        rescale=1.0/255,\n",
    "        validation_split=0.25)\n",
    "\n",
    "    test_gen_flow = test_datagen.flow_from_dataframe(\n",
    "        dataframe=labels,\n",
    "        directory='/datasets/faces/final_files/',\n",
    "        x_col='file_name',\n",
    "        y_col='real_age',\n",
    "        target_size=(224, 224),\n",
    "        batch_size=16,\n",
    "        class_mode='raw',\n",
    "        subset='validation',\n",
    "        seed=12345)\n",
    "\n",
    "    return test_gen_flow"
   ]
  },
  {
   "cell_type": "code",
   "execution_count": null,
   "id": "33c9db54",
   "metadata": {},
   "outputs": [],
   "source": [
    "# функция создания модели\n",
    "\n",
    "def create_model(input_shape):\n",
    "\n",
    "    backbone = ResNet50(input_shape=input_shape,\n",
    "        weights='imagenet',\n",
    "        include_top=False)\n",
    "\n",
    "    model = Sequential()\n",
    "    model.add(backbone)\n",
    "    model.add(GlobalAveragePooling2D())\n",
    "    model.add(Flatten())\n",
    "    model.add(Dense(1, activation='relu'))\n",
    "\n",
    "    optimizer = Adam(lr=0.0001)\n",
    "    model.compile(loss='mse',optimizer=optimizer, metrics=['mae'])\n",
    "\n",
    "    return model"
   ]
  },
  {
   "cell_type": "code",
   "execution_count": null,
   "id": "c5ea58fe",
   "metadata": {},
   "outputs": [],
   "source": [
    "# функция обучения модели\n",
    "\n",
    "def train_model(model, train_data, test_data, batch_size=None, epochs=10,\n",
    "    steps_per_epoch=None, validation_steps=None):\n",
    "\n",
    "    if steps_per_epoch is None:\n",
    "        steps_per_epoch = len(train_data)\n",
    "    if validation_steps is None:\n",
    "        validation_steps = len(test_data)\n",
    "\n",
    "    model.fit(train_data,\n",
    "        validation_data=test_data,\n",
    "        batch_size=batch_size, epochs=epochs,\n",
    "        steps_per_epoch=steps_per_epoch,\n",
    "        validation_steps=validation_steps,\n",
    "        verbose=2)\n",
    "\n",
    "    return model"
   ]
  },
  {
   "cell_type": "markdown",
   "id": "6c74bf24",
   "metadata": {},
   "source": [
    "'''Train for 356 steps, validate for 119 steps\n",
    "Epoch 1/10\n",
    "2023-07-28 14:51:07.206225: I tensorflow/stream_executor/platform/default/dso_loader.cc:44] Successfully opened dynamic library libcublas.so.10\n",
    "2023-07-28 14:51:07.489680: I tensorflow/stream_executor/platform/default/dso_loader.cc:44] Successfully opened dynamic library libcudnn.so.7\n",
    "\n",
    "356/356 - 54s - loss: 240.7817 - mae: 11.4654 - val_loss: 598.7144 - val_mae: 19.2781\n",
    "Epoch 2/10\n",
    "356/356 - 71s - loss: 114.4266 - mae: 8.0991 - val_loss: 162.8076 - val_mae: 9.5016\n",
    "\n",
    "Epoch 3/10\n",
    "356/356 - 67s - loss: 89.8226 - mae: 7.1959 - val_loss: 197.0861 - val_mae: 11.1104\n",
    "\n",
    "Epoch 4/10\n",
    "356/356 - 68s - loss: 73.8645 - mae: 6.5884 - val_loss: 83.8716 - val_mae: 6.9288\n",
    "\n",
    "Epoch 5/10\n",
    "356/356 - 79s - loss: 60.9170 - mae: 5.9545 - val_loss: 84.4396 - val_mae: 6.9547\n",
    "\n",
    "Epoch 6/10\n",
    "356/356 - 84s - loss: 54.4624 - mae: 5.6239 - val_loss: 79.2450 - val_mae: 6.6180\n",
    "\n",
    "Epoch 7/10\n",
    "356/356 - 74s - loss: 46.0303 - mae: 5.1974 - val_loss: 91.2569 - val_mae: 7.0422\n",
    "\n",
    "Epoch 8/10\n",
    "356/356 - 82s - loss: 41.0021 - mae: 4.8876 - val_loss: 83.8227 - val_mae: 6.7788\n",
    "\n",
    "Epoch 9/10\n",
    "356/356 - 59s - loss: 35.6409 - mae: 4.5710 - val_loss: 94.7778 - val_mae: 7.3930\n",
    "\n",
    "Epoch 10/10\n",
    "356/356 - 48s - loss: 29.9138 - mae: 4.1993 - val_loss: 71.2509 - val_mae: 6.2757\n",
    "\n",
    "WARNING:tensorflow:sample_weight modes were coerced from\n",
    "  ...\n",
    "    to  \n",
    "  ['...']\n",
    "  \n",
    "119/119 - 11s - loss: 71.2509 - mae: 6.2757\n",
    "Test MAE: 6.2757'''"
   ]
  },
  {
   "cell_type": "markdown",
   "id": "8f068a04",
   "metadata": {},
   "source": [
    "**Вывод**\n",
    "\n",
    "Итоговый MAE составил 6,27, что является удовлетворительным результатом"
   ]
  },
  {
   "cell_type": "markdown",
   "id": "9aaa6921",
   "metadata": {},
   "source": [
    "# Общий вывод"
   ]
  },
  {
   "cell_type": "markdown",
   "id": "23400708",
   "metadata": {},
   "source": [
    "В ходе выполнения данного проекта была обучена модель компьютерного зрения, которая определяет возраст людей. Итоговый MAE обученной модели составил 6,27, что является удовлетворительным результатом.\n",
    "\n",
    "Также следует отметить, что в датасете были выделены следющие проблемы: цветные и черно-белые фотографии, а также различная ориентация фотографий (некоторые повернуты).\n",
    "\n",
    "Для улучшения обучения модели были предприняты следующие методы: использовалась модель компьютерного зрения ResNet50, была проведена аугментация, количество эпох обучения увеличено до 10, скорость обучения модели составляет 0,0001. Также фотографии были приведены к единому масштабу от 0 до 1."
   ]
  },
  {
   "cell_type": "markdown",
   "id": "7e69c873",
   "metadata": {},
   "source": [
    "<div class=\"alert alert-info\"> <b>Комментарий студента:</b> Здравствуйте, хотел бы у Вас попросить какие-либо материалы, либо совет касательно компьютерного зрения.\n",
    "\n",
    "На работе поставили задачу создать программу, которая из отсканированных файлов PDF могла бы выделять таблицы, и эти таблицы заносить в Excel, то есть необходимо делать оцифровку изображений.\n",
    "\n",
    "Хотел бы у Вас попросить какую-то литература, или, может быть, совет по этой задаче.\n",
    "\n",
    "Премного буду благодарен. Заранее спасибо.</div>"
   ]
  }
 ],
 "metadata": {
  "kernelspec": {
   "display_name": "Python 3 (ipykernel)",
   "language": "python",
   "name": "python3"
  },
  "language_info": {
   "codemirror_mode": {
    "name": "ipython",
    "version": 3
   },
   "file_extension": ".py",
   "mimetype": "text/x-python",
   "name": "python",
   "nbconvert_exporter": "python",
   "pygments_lexer": "ipython3",
   "version": "3.9.13"
  },
  "toc": {
   "base_numbering": 1,
   "nav_menu": {},
   "number_sections": true,
   "sideBar": true,
   "skip_h1_title": false,
   "title_cell": "Table of Contents",
   "title_sidebar": "Contents",
   "toc_cell": false,
   "toc_position": {},
   "toc_section_display": true,
   "toc_window_display": false
  }
 },
 "nbformat": 4,
 "nbformat_minor": 5
}
