{
 "cells": [
  {
   "cell_type": "markdown",
   "metadata": {},
   "source": [
    "# Определение стоимости автомобилей"
   ]
  },
  {
   "cell_type": "markdown",
   "metadata": {},
   "source": [
    "Сервис по продаже автомобилей с пробегом «Не бит, не крашен» разрабатывает приложение для привлечения новых клиентов. В нём можно быстро узнать рыночную стоимость своего автомобиля. В вашем распоряжении исторические данные: технические характеристики, комплектации и цены автомобилей. Вам нужно построить модель для определения стоимости. \n",
    "\n",
    "Заказчику важны:\n",
    "\n",
    "- качество предсказания;\n",
    "- скорость предсказания;\n",
    "- время обучения."
   ]
  },
  {
   "cell_type": "markdown",
   "metadata": {},
   "source": [
    "# Введение"
   ]
  },
  {
   "cell_type": "markdown",
   "metadata": {},
   "source": [
    "## Подготовка данных"
   ]
  },
  {
   "cell_type": "code",
   "execution_count": 29,
   "metadata": {},
   "outputs": [],
   "source": [
    "import pandas as pd\n",
    "from sklearn.model_selection import train_test_split\n",
    "from sklearn.preprocessing import MinMaxScaler\n",
    "import category_encoders as ce\n",
    "from sklearn.model_selection import train_test_split\n",
    "import lightgbm as ltb\n",
    "from sklearn.metrics import mean_squared_error\n",
    "import numpy as np\n",
    "from sklearn.ensemble import RandomForestRegressor\n",
    "from sklearn.tree import DecisionTreeRegressor\n",
    "from sklearn.linear_model import LinearRegression\n",
    "import matplotlib.pyplot as plt\n",
    "import seaborn as sns\n",
    "from sklearn.preprocessing import StandardScaler"
   ]
  },
  {
   "cell_type": "code",
   "execution_count": 30,
   "metadata": {},
   "outputs": [],
   "source": [
    "data = pd.read_csv('/datasets/autos.csv')"
   ]
  },
  {
   "cell_type": "code",
   "execution_count": 31,
   "metadata": {},
   "outputs": [
    {
     "name": "stdout",
     "output_type": "stream",
     "text": [
      "<class 'pandas.core.frame.DataFrame'>\n",
      "RangeIndex: 354369 entries, 0 to 354368\n",
      "Data columns (total 16 columns):\n",
      " #   Column             Non-Null Count   Dtype \n",
      "---  ------             --------------   ----- \n",
      " 0   DateCrawled        354369 non-null  object\n",
      " 1   Price              354369 non-null  int64 \n",
      " 2   VehicleType        316879 non-null  object\n",
      " 3   RegistrationYear   354369 non-null  int64 \n",
      " 4   Gearbox            334536 non-null  object\n",
      " 5   Power              354369 non-null  int64 \n",
      " 6   Model              334664 non-null  object\n",
      " 7   Kilometer          354369 non-null  int64 \n",
      " 8   RegistrationMonth  354369 non-null  int64 \n",
      " 9   FuelType           321474 non-null  object\n",
      " 10  Brand              354369 non-null  object\n",
      " 11  Repaired           283215 non-null  object\n",
      " 12  DateCreated        354369 non-null  object\n",
      " 13  NumberOfPictures   354369 non-null  int64 \n",
      " 14  PostalCode         354369 non-null  int64 \n",
      " 15  LastSeen           354369 non-null  object\n",
      "dtypes: int64(7), object(9)\n",
      "memory usage: 43.3+ MB\n"
     ]
    }
   ],
   "source": [
    "data.info()"
   ]
  },
  {
   "cell_type": "code",
   "execution_count": 32,
   "metadata": {},
   "outputs": [],
   "source": [
    "data['Repaired'] = data['Repaired'].fillna('unknown')"
   ]
  },
  {
   "cell_type": "code",
   "execution_count": 33,
   "metadata": {},
   "outputs": [],
   "source": [
    "data = data.drop_duplicates()"
   ]
  },
  {
   "cell_type": "code",
   "execution_count": 34,
   "metadata": {},
   "outputs": [
    {
     "data": {
      "text/plain": [
       "<AxesSubplot:ylabel='Price'>"
      ]
     },
     "metadata": {},
     "output_type": "display_data"
    },
    {
     "data": {
      "image/png": "[encoded data removed]",
      "text/plain": [
       "<Figure size 432x288 with 1 Axes>"
      ]
     },
     "metadata": {
      "needs_background": "light"
     },
     "output_type": "display_data"
    }
   ],
   "source": [
    "data = data.loc[(data['Price'] > 200) & (data['Price'] < 15000)]\n",
    "\n",
    "display(sns.boxplot(y=\"Price\", color='g', data=data))"
   ]
  },
  {
   "cell_type": "code",
   "execution_count": 35,
   "metadata": {},
   "outputs": [
    {
     "data": {
      "text/plain": [
       "count    319429.000000\n",
       "mean     130204.568151\n",
       "std       35714.620299\n",
       "min        5000.000000\n",
       "25%      125000.000000\n",
       "50%      150000.000000\n",
       "75%      150000.000000\n",
       "max      150000.000000\n",
       "Name: Kilometer, dtype: float64"
      ]
     },
     "execution_count": 35,
     "metadata": {},
     "output_type": "execute_result"
    }
   ],
   "source": [
    "data['Kilometer'].describe()"
   ]
  },
  {
   "cell_type": "code",
   "execution_count": 36,
   "metadata": {},
   "outputs": [
    {
     "data": {
      "text/plain": [
       "'2016-04-07 14:36:58'"
      ]
     },
     "execution_count": 36,
     "metadata": {},
     "output_type": "execute_result"
    }
   ],
   "source": [
    "data['DateCrawled'].max()"
   ]
  },
  {
   "cell_type": "code",
   "execution_count": 37,
   "metadata": {
    "scrolled": true
   },
   "outputs": [
    {
     "name": "stdout",
     "output_type": "stream",
     "text": [
      "count    319429.000000\n",
      "mean       2003.685517\n",
      "std          65.383965\n",
      "min        1000.000000\n",
      "25%        1999.000000\n",
      "50%        2003.000000\n",
      "75%        2007.000000\n",
      "max        9999.000000\n",
      "Name: RegistrationYear, dtype: float64\n"
     ]
    },
    {
     "data": {
      "text/plain": [
       "<AxesSubplot:ylabel='RegistrationYear'>"
      ]
     },
     "metadata": {},
     "output_type": "display_data"
    },
    {
     "data": {
      "image/png": "[encoded data removed]",
      "text/plain": [
       "<Figure size 432x288 with 1 Axes>"
      ]
     },
     "metadata": {
      "needs_background": "light"
     },
     "output_type": "display_data"
    }
   ],
   "source": [
    "print(data['RegistrationYear'].describe())\n",
    "\n",
    "data = data.loc[(data['RegistrationYear'] > 1987) & (data['RegistrationYear'] < 2016)]\n",
    "display(sns.boxplot(y=\"RegistrationYear\", color='g', data=data))"
   ]
  },
  {
   "cell_type": "code",
   "execution_count": 38,
   "metadata": {
    "scrolled": false
   },
   "outputs": [
    {
     "name": "stdout",
     "output_type": "stream",
     "text": [
      "count    291898.000000\n",
      "mean        111.438078\n",
      "std         179.992799\n",
      "min           0.000000\n",
      "25%          75.000000\n",
      "50%         105.000000\n",
      "75%         140.000000\n",
      "max       20000.000000\n",
      "Name: Power, dtype: float64\n"
     ]
    },
    {
     "data": {
      "text/plain": [
       "<AxesSubplot:ylabel='Power'>"
      ]
     },
     "metadata": {},
     "output_type": "display_data"
    },
    {
     "data": {
      "image/png": "[encoded data removed]",
      "text/plain": [
       "<Figure size 432x288 with 1 Axes>"
      ]
     },
     "metadata": {
      "needs_background": "light"
     },
     "output_type": "display_data"
    }
   ],
   "source": [
    "print(data['Power'].describe())\n",
    "\n",
    "data = data.loc[(data['Power'] > 0) & (data['Power'] < 250)]\n",
    "display(sns.boxplot(y=\"Power\", color='g', data=data))"
   ]
  },
  {
   "cell_type": "code",
   "execution_count": 14,
   "metadata": {},
   "outputs": [],
   "source": [
    "data['VehicleType'] = data['VehicleType'].fillna('unknown')"
   ]
  },
  {
   "cell_type": "code",
   "execution_count": 15,
   "metadata": {
    "scrolled": true
   },
   "outputs": [],
   "source": [
    "data = data.dropna(subset=['Model'])"
   ]
  },
  {
   "cell_type": "code",
   "execution_count": 16,
   "metadata": {},
   "outputs": [],
   "source": [
    "data['FuelType'].value_counts()\n",
    "\n",
    "data['FuelType'] = data['FuelType'].fillna('petrol')"
   ]
  },
  {
   "cell_type": "code",
   "execution_count": 17,
   "metadata": {},
   "outputs": [],
   "source": [
    "data['Gearbox'].value_counts()\n",
    "\n",
    "\n",
    "data['Gearbox'] = data['Gearbox'].fillna('manual')"
   ]
  },
  {
   "cell_type": "code",
   "execution_count": 18,
   "metadata": {},
   "outputs": [
    {
     "name": "stdout",
     "output_type": "stream",
     "text": [
      "<class 'pandas.core.frame.DataFrame'>\n",
      "RangeIndex: 252199 entries, 0 to 252198\n",
      "Data columns (total 16 columns):\n",
      " #   Column             Non-Null Count   Dtype \n",
      "---  ------             --------------   ----- \n",
      " 0   DateCrawled        252199 non-null  object\n",
      " 1   Price              252199 non-null  int64 \n",
      " 2   VehicleType        252199 non-null  object\n",
      " 3   RegistrationYear   252199 non-null  int64 \n",
      " 4   Gearbox            252199 non-null  object\n",
      " 5   Power              252199 non-null  int64 \n",
      " 6   Model              252199 non-null  object\n",
      " 7   Kilometer          252199 non-null  int64 \n",
      " 8   RegistrationMonth  252199 non-null  int64 \n",
      " 9   FuelType           252199 non-null  object\n",
      " 10  Brand              252199 non-null  object\n",
      " 11  Repaired           252199 non-null  object\n",
      " 12  DateCreated        252199 non-null  object\n",
      " 13  NumberOfPictures   252199 non-null  int64 \n",
      " 14  PostalCode         252199 non-null  int64 \n",
      " 15  LastSeen           252199 non-null  object\n",
      "dtypes: int64(7), object(9)\n",
      "memory usage: 30.8+ MB\n"
     ]
    }
   ],
   "source": [
    "data.reset_index(drop=True, inplace=True)\n",
    "data.info()"
   ]
  },
  {
   "cell_type": "code",
   "execution_count": 19,
   "metadata": {},
   "outputs": [],
   "source": [
    "data = data.drop(['DateCrawled', 'RegistrationMonth', 'NumberOfPictures', 'PostalCode', 'LastSeen', 'DateCreated'], axis=1)"
   ]
  },
  {
   "cell_type": "code",
   "execution_count": 20,
   "metadata": {},
   "outputs": [
    {
     "data": {
      "text/html": [
       "<div>\n",
       "<style scoped>\n",
       "    .dataframe tbody tr th:only-of-type {\n",
       "        vertical-align: middle;\n",
       "    }\n",
       "\n",
       "    .dataframe tbody tr th {\n",
       "        vertical-align: top;\n",
       "    }\n",
       "\n",
       "    .dataframe thead th {\n",
       "        text-align: right;\n",
       "    }\n",
       "</style>\n",
       "<table border=\"1\" class=\"dataframe\">\n",
       "  <thead>\n",
       "    <tr style=\"text-align: right;\">\n",
       "      <th></th>\n",
       "      <th>Price</th>\n",
       "      <th>RegistrationYear</th>\n",
       "      <th>Power</th>\n",
       "      <th>Kilometer</th>\n",
       "    </tr>\n",
       "  </thead>\n",
       "  <tbody>\n",
       "    <tr>\n",
       "      <th>Price</th>\n",
       "      <td>1.000000</td>\n",
       "      <td>0.680334</td>\n",
       "      <td>0.456771</td>\n",
       "      <td>-0.363676</td>\n",
       "    </tr>\n",
       "    <tr>\n",
       "      <th>RegistrationYear</th>\n",
       "      <td>0.680334</td>\n",
       "      <td>1.000000</td>\n",
       "      <td>0.128090</td>\n",
       "      <td>-0.412237</td>\n",
       "    </tr>\n",
       "    <tr>\n",
       "      <th>Power</th>\n",
       "      <td>0.456771</td>\n",
       "      <td>0.128090</td>\n",
       "      <td>1.000000</td>\n",
       "      <td>0.161246</td>\n",
       "    </tr>\n",
       "    <tr>\n",
       "      <th>Kilometer</th>\n",
       "      <td>-0.363676</td>\n",
       "      <td>-0.412237</td>\n",
       "      <td>0.161246</td>\n",
       "      <td>1.000000</td>\n",
       "    </tr>\n",
       "  </tbody>\n",
       "</table>\n",
       "</div>"
      ],
      "text/plain": [
       "                     Price  RegistrationYear     Power  Kilometer\n",
       "Price             1.000000          0.680334  0.456771  -0.363676\n",
       "RegistrationYear  0.680334          1.000000  0.128090  -0.412237\n",
       "Power             0.456771          0.128090  1.000000   0.161246\n",
       "Kilometer        -0.363676         -0.412237  0.161246   1.000000"
      ]
     },
     "execution_count": 20,
     "metadata": {},
     "output_type": "execute_result"
    }
   ],
   "source": [
    "data.corr()"
   ]
  },
  {
   "cell_type": "code",
   "execution_count": 21,
   "metadata": {},
   "outputs": [
    {
     "name": "stdout",
     "output_type": "stream",
     "text": [
      "<class 'pandas.core.frame.DataFrame'>\n",
      "RangeIndex: 252199 entries, 0 to 252198\n",
      "Data columns (total 10 columns):\n",
      " #   Column            Non-Null Count   Dtype \n",
      "---  ------            --------------   ----- \n",
      " 0   Price             252199 non-null  int64 \n",
      " 1   VehicleType       252199 non-null  object\n",
      " 2   RegistrationYear  252199 non-null  int64 \n",
      " 3   Gearbox           252199 non-null  object\n",
      " 4   Power             252199 non-null  int64 \n",
      " 5   Model             252199 non-null  object\n",
      " 6   Kilometer         252199 non-null  int64 \n",
      " 7   FuelType          252199 non-null  object\n",
      " 8   Brand             252199 non-null  object\n",
      " 9   Repaired          252199 non-null  object\n",
      "dtypes: int64(4), object(6)\n",
      "memory usage: 19.2+ MB\n"
     ]
    }
   ],
   "source": [
    "data.info()"
   ]
  },
  {
   "cell_type": "code",
   "execution_count": 22,
   "metadata": {},
   "outputs": [],
   "source": [
    "data = data.drop('Model', axis=1) # удаление категорийного столбца Model необходимо, так как моделей машин очень много и это не будет влиять на обучение, то есть данный столбцец не является информативным"
   ]
  },
  {
   "cell_type": "code",
   "execution_count": 23,
   "metadata": {},
   "outputs": [],
   "source": [
    "target = data['Price']\n",
    "features = data.drop(['Price'] , axis=1)\n",
    "\n",
    "features_train, features_valid, target_train, target_valid = train_test_split(\n",
    "    features, target, test_size=0.2, random_state=12345)\n",
    "\n",
    "features_valid, features_test, target_valid, target_test = train_test_split(\n",
    "    features_valid, target_valid, test_size=0.5, random_state=12345)"
   ]
  },
  {
   "cell_type": "code",
   "execution_count": 24,
   "metadata": {},
   "outputs": [],
   "source": [
    "# кодировка категориальных переменных\n",
    "cat = ['VehicleType', 'Gearbox', 'FuelType', 'Repaired', 'Brand']\n",
    "# тренировочные данные\n",
    "encoder = ce.TargetEncoder(cols=cat)\n",
    "\n",
    "\n",
    "encoder.fit(features_train, target_train)\n",
    "\n",
    "features_train = encoder.transform(features_train)\n",
    "\n",
    "# валидационные данные\n",
    "\n",
    "features_valid = encoder.transform(features_valid)\n",
    "\n",
    "# тестовые данные\n",
    "\n",
    "features_test = encoder.transform(features_test)"
   ]
  },
  {
   "cell_type": "code",
   "execution_count": 25,
   "metadata": {},
   "outputs": [],
   "source": [
    "num = ['VehicleType', 'Gearbox', 'FuelType', 'Repaired', 'Brand', 'RegistrationYear', 'Power', 'Kilometer']\n",
    "scaler = StandardScaler()\n",
    "scaler.fit(features_train)\n",
    "features_train[num] = scaler.transform(features_train[num])\n",
    "features_valid[num] = scaler.transform(features_valid[num])\n",
    "features_test[num] = scaler.transform(features_test[num])"
   ]
  },
  {
   "cell_type": "markdown",
   "metadata": {},
   "source": [
    "## Анализ моделей"
   ]
  },
  {
   "cell_type": "markdown",
   "metadata": {},
   "source": [
    "**LightGBM**"
   ]
  },
  {
   "cell_type": "code",
   "execution_count": 26,
   "metadata": {},
   "outputs": [
    {
     "name": "stderr",
     "output_type": "stream",
     "text": [
      "/opt/conda/lib/python3.9/site-packages/lightgbm/sklearn.py:726: UserWarning: 'early_stopping_rounds' argument is deprecated and will be removed in a future release of LightGBM. Pass 'early_stopping()' callback via 'callbacks' argument instead.\n",
      "  _log_warning(\"'early_stopping_rounds' argument is deprecated and will be removed in a future release of LightGBM. \"\n",
      "/opt/conda/lib/python3.9/site-packages/lightgbm/sklearn.py:736: UserWarning: 'verbose' argument is deprecated and will be removed in a future release of LightGBM. Pass 'log_evaluation()' callback via 'callbacks' argument instead.\n",
      "  _log_warning(\"'verbose' argument is deprecated and will be removed in a future release of LightGBM. \"\n"
     ]
    },
    {
     "name": "stdout",
     "output_type": "stream",
     "text": [
      "[10]\tvalid_0's rmse: 1937.57\tvalid_0's l2: 3.75418e+06\n",
      "[20]\tvalid_0's rmse: 1504.54\tvalid_0's l2: 2.26365e+06\n",
      "[30]\tvalid_0's rmse: 1391.75\tvalid_0's l2: 1.93698e+06\n",
      "[40]\tvalid_0's rmse: 1348.79\tvalid_0's l2: 1.81923e+06\n",
      "[50]\tvalid_0's rmse: 1328.68\tvalid_0's l2: 1.7654e+06\n",
      "[60]\tvalid_0's rmse: 1314.57\tvalid_0's l2: 1.72808e+06\n",
      "[70]\tvalid_0's rmse: 1305.78\tvalid_0's l2: 1.70506e+06\n",
      "[80]\tvalid_0's rmse: 1298.76\tvalid_0's l2: 1.68679e+06\n",
      "[90]\tvalid_0's rmse: 1293.51\tvalid_0's l2: 1.67317e+06\n",
      "[100]\tvalid_0's rmse: 1290.21\tvalid_0's l2: 1.66463e+06\n",
      "1290.2057682129503\n",
      "CPU times: user 46.1 s, sys: 271 ms, total: 46.4 s\n",
      "Wall time: 47.9 s\n"
     ]
    }
   ],
   "source": [
    "%%time\n",
    "lgbr = ltb.LGBMRegressor(random_seed=12345, n_estimators=100, num_leaves=100) \n",
    "\n",
    "lgbr.fit(features_train, target_train,\n",
    "        eval_set=[(features_valid, target_valid)],\n",
    "        eval_metric='rmse', verbose=10,\n",
    "        early_stopping_rounds=100)\n",
    "        \n",
    "predict_valid = lgbr.predict(features_valid)\n",
    "        \n",
    "print((mean_squared_error(target_valid, predict_valid))**0.5)"
   ]
  },
  {
   "cell_type": "markdown",
   "metadata": {},
   "source": [
    "**Лес деревьев**"
   ]
  },
  {
   "cell_type": "code",
   "execution_count": 27,
   "metadata": {},
   "outputs": [
    {
     "name": "stdout",
     "output_type": "stream",
     "text": [
      "1292.5242870703562\n",
      "100\n",
      "14\n",
      "CPU times: user 5min 2s, sys: 570 ms, total: 5min 3s\n",
      "Wall time: 5min 3s\n"
     ]
    }
   ],
   "source": [
    "%%time\n",
    "best_result = 2500\n",
    "best_est = 0\n",
    "best_depth = 0\n",
    "\n",
    "for est in range(80, 101, 10):\n",
    "    for depth in range (10, 15):\n",
    "        model = RandomForestRegressor(random_state=12345, n_estimators=est, max_depth=depth) \n",
    "\n",
    "        model.fit(features_train, target_train)\n",
    "        \n",
    "        predict_valid = model.predict(features_valid)\n",
    "        \n",
    "        result = (mean_squared_error(target_valid, predict_valid))**0.5\n",
    "\n",
    "        if result < best_result:\n",
    "            best_result = result\n",
    "            best_est = est\n",
    "            best_depth = depth\n",
    "\n",
    "print(best_result)    \n",
    "print(best_est)\n",
    "print(best_depth)"
   ]
  },
  {
   "cell_type": "code",
   "execution_count": 28,
   "metadata": {},
   "outputs": [
    {
     "name": "stdout",
     "output_type": "stream",
     "text": [
      "1292.5242870703562\n",
      "CPU times: user 25.3 s, sys: 116 ms, total: 25.4 s\n",
      "Wall time: 25.5 s\n"
     ]
    }
   ],
   "source": [
    "%%time\n",
    "model = RandomForestRegressor(random_state=12345, n_estimators=100, max_depth=14) \n",
    "model.fit(features_train, target_train)\n",
    "        \n",
    "predict_valid = model.predict(features_valid)\n",
    "        \n",
    "print((mean_squared_error(target_valid, predict_valid))**0.5)"
   ]
  },
  {
   "cell_type": "markdown",
   "metadata": {},
   "source": [
    "**Дерево решений**"
   ]
  },
  {
   "cell_type": "code",
   "execution_count": 29,
   "metadata": {},
   "outputs": [
    {
     "name": "stdout",
     "output_type": "stream",
     "text": [
      "1407.8023491306537\n",
      "14\n",
      "CPU times: user 3.11 s, sys: 4.05 ms, total: 3.11 s\n",
      "Wall time: 3.12 s\n"
     ]
    }
   ],
   "source": [
    "%%time\n",
    "best_result = 2500\n",
    "best_depth = 0\n",
    "\n",
    "for depth in range (1, 15):\n",
    "        result = []\n",
    "        model_tree = DecisionTreeRegressor(random_state=12345, max_depth=depth)\n",
    "        model_tree = model_tree.fit(features_train, target_train)\n",
    "        predict_valid = model_tree.predict(features_valid)\n",
    "\n",
    "        result = (mean_squared_error(target_valid, predict_valid))**0.5\n",
    "        if result < best_result:\n",
    "            best_result = result\n",
    "            best_depth = depth\n",
    "\n",
    "print(best_result)\n",
    "print(best_depth)"
   ]
  },
  {
   "cell_type": "code",
   "execution_count": 30,
   "metadata": {},
   "outputs": [
    {
     "name": "stdout",
     "output_type": "stream",
     "text": [
      "1407.8023491306537\n",
      "CPU times: user 371 ms, sys: 0 ns, total: 371 ms\n",
      "Wall time: 376 ms\n"
     ]
    }
   ],
   "source": [
    "%%time\n",
    "model_tree = DecisionTreeRegressor(random_state=12345, max_depth=depth)\n",
    "model_tree = model_tree.fit(features_train, target_train)\n",
    "predict_valid = model_tree.predict(features_valid)\n",
    "print((mean_squared_error(target_valid, predict_valid))**0.5)"
   ]
  },
  {
   "cell_type": "markdown",
   "metadata": {},
   "source": [
    "**Линейная регрессия**"
   ]
  },
  {
   "cell_type": "code",
   "execution_count": 31,
   "metadata": {},
   "outputs": [
    {
     "name": "stdout",
     "output_type": "stream",
     "text": [
      "CPU times: user 62.1 ms, sys: 99.4 ms, total: 161 ms\n",
      "Wall time: 108 ms\n"
     ]
    },
    {
     "data": {
      "text/plain": [
       "2030.5175847269047"
      ]
     },
     "execution_count": 31,
     "metadata": {},
     "output_type": "execute_result"
    }
   ],
   "source": [
    "%%time\n",
    "model_lin = LinearRegression()\n",
    "\n",
    "model_lin.fit(features_train, target_train)\n",
    "predict_valid = model_lin.predict(features_valid)\n",
    "(mean_squared_error(target_valid, predict_valid))**0.5"
   ]
  },
  {
   "cell_type": "markdown",
   "metadata": {},
   "source": [
    "**Вывод**\n",
    "\n",
    "Лучше всего показала себя модель LightGBM с метрикой rmse, равной 1290, также время обучения модели составляет 8,7, что также является хорошим результатом."
   ]
  },
  {
   "cell_type": "code",
   "execution_count": null,
   "metadata": {
    "scrolled": true
   },
   "outputs": [
    {
     "name": "stderr",
     "output_type": "stream",
     "text": [
      "/opt/conda/lib/python3.9/site-packages/lightgbm/sklearn.py:726: UserWarning: 'early_stopping_rounds' argument is deprecated and will be removed in a future release of LightGBM. Pass 'early_stopping()' callback via 'callbacks' argument instead.\n",
      "  _log_warning(\"'early_stopping_rounds' argument is deprecated and will be removed in a future release of LightGBM. \"\n",
      "/opt/conda/lib/python3.9/site-packages/lightgbm/sklearn.py:736: UserWarning: 'verbose' argument is deprecated and will be removed in a future release of LightGBM. Pass 'log_evaluation()' callback via 'callbacks' argument instead.\n",
      "  _log_warning(\"'verbose' argument is deprecated and will be removed in a future release of LightGBM. \"\n"
     ]
    },
    {
     "name": "stdout",
     "output_type": "stream",
     "text": [
      "[10]\tvalid_0's rmse: 1931.96\tvalid_0's l2: 3.73246e+06\n",
      "[20]\tvalid_0's rmse: 1503.28\tvalid_0's l2: 2.25985e+06\n"
     ]
    }
   ],
   "source": [
    "%%time\n",
    "lgbr = ltb.LGBMRegressor(random_seed=12345, n_estimators=100, num_leaves=100) \n",
    "\n",
    "lgbr.fit(features_train, target_train,\n",
    "        eval_set=[(features_test, target_test)],\n",
    "        eval_metric='rmse', verbose=10,\n",
    "        early_stopping_rounds=100)\n",
    "        \n",
    "predict_test = lgbr.predict(features_test)\n",
    "        \n",
    "print((mean_squared_error(target_test, predict_test))**0.5)"
   ]
  },
  {
   "cell_type": "code",
   "execution_count": null,
   "metadata": {},
   "outputs": [],
   "source": [
    "predict_constant = pd.Series([data['Price'].mean()] * len(target_test))\n",
    "print((mean_squared_error(target_test, predict_constant))**0.5)"
   ]
  },
  {
   "cell_type": "markdown",
   "metadata": {},
   "source": [
    "**Вывод**\n",
    "На начальном этапе была проведена предобработка данных.\n",
    "\n",
    "По результатам предобработки данных были выполнены следующие пункты:\n",
    "\n",
    "1) Удалены дубликаты;\n",
    "\n",
    "2) В категориальных столбцах VehicleType, Repaired были заполнены пропуски путем замены их на значение unknown;\n",
    "\n",
    "3) В столбце Model были удалены все пропуски;\n",
    "\n",
    "4) В столцах FuelType и Gearbox значения были заменены на наиболее часто встречающиеся;\n",
    "\n",
    "5) Были удалены аномальные значения в столбце с ценой, согласно графику boxplot;\n",
    "\n",
    "6) Были удалены аномальные значения в столбце с лошадиными силами, согласно графику boxplot;\n",
    "\n",
    "7) Были удалены аномальные значения в столбце с годом выпуска, согласно графику boxplot;\n",
    "\n",
    "8) Также были удалены столбцы с датами, так как они не влияют на цену автомобиля, также данные о заказчикке и количество картинок не влияет на цену автомобиля. Эти данные были полезные при предобработке, однако впоследствии их применение для машинного обучения не является информативным, так как они будут делать обучение более долгим и могут негативно влиять на само обучение. Также был удален столбец Model, так как он не является информативным.\n",
    "\n",
    "Далее данные были разделены на тестовую, валидационную и тренировочную выборки в отношении 80:10:10 соответственно. Далее были закодированы категорийные признаки и все признаки были масштабированы.\n",
    "\n",
    "Итоговое RMSE модели составило 1291. Что является хорошим результатом. Лудшая модель - Light GBM. Количество листьев - 100, количество деревьев - 100. Время обучения модели - 12 секунд.\n",
    "\n",
    "Также модель была сравнена с константной, которая предсказывает все время среднее значение. Значение RMSE у модели намного лучше, что говорит об адекватности модели."
   ]
  }
 ],
 "metadata": {
  "ExecuteTimeLog": [
   {
    "duration": 395,
    "start_time": "2023-05-28T15:29:50.890Z"
   },
   {
    "duration": 2774,
    "start_time": "2023-05-28T15:30:06.249Z"
   },
   {
    "duration": 97,
    "start_time": "2023-05-28T15:30:14.778Z"
   },
   {
    "duration": 43,
    "start_time": "2023-05-28T15:32:21.649Z"
   },
   {
    "duration": 84,
    "start_time": "2023-05-28T15:32:28.368Z"
   },
   {
    "duration": 19,
    "start_time": "2023-05-28T15:32:50.596Z"
   },
   {
    "duration": 60,
    "start_time": "2023-05-28T15:35:02.476Z"
   },
   {
    "duration": 724,
    "start_time": "2023-05-28T15:35:07.399Z"
   },
   {
    "duration": 94,
    "start_time": "2023-05-28T15:35:08.142Z"
   },
   {
    "duration": 42,
    "start_time": "2023-05-28T15:35:09.136Z"
   },
   {
    "duration": 73,
    "start_time": "2023-05-28T15:35:11.167Z"
   },
   {
    "duration": 11,
    "start_time": "2023-05-28T15:35:12.772Z"
   },
   {
    "duration": 669,
    "start_time": "2023-05-28T15:35:25.841Z"
   },
   {
    "duration": 111,
    "start_time": "2023-05-28T15:35:26.512Z"
   },
   {
    "duration": 40,
    "start_time": "2023-05-28T15:35:29.478Z"
   },
   {
    "duration": 89,
    "start_time": "2023-05-28T15:35:29.874Z"
   },
   {
    "duration": 12,
    "start_time": "2023-05-28T15:35:33.341Z"
   },
   {
    "duration": 653,
    "start_time": "2023-05-28T15:38:31.085Z"
   },
   {
    "duration": 26,
    "start_time": "2023-05-28T15:40:54.046Z"
   },
   {
    "duration": 25,
    "start_time": "2023-05-28T15:41:25.900Z"
   },
   {
    "duration": 43,
    "start_time": "2023-05-28T15:41:26.478Z"
   },
   {
    "duration": 20,
    "start_time": "2023-05-28T15:42:30.780Z"
   },
   {
    "duration": 8,
    "start_time": "2023-05-28T15:42:38.196Z"
   },
   {
    "duration": 53,
    "start_time": "2023-05-28T15:43:02.541Z"
   },
   {
    "duration": 89,
    "start_time": "2023-05-28T15:43:20.346Z"
   },
   {
    "duration": 2,
    "start_time": "2023-05-28T15:43:37.310Z"
   },
   {
    "duration": 20,
    "start_time": "2023-05-28T15:43:55.147Z"
   },
   {
    "duration": 228,
    "start_time": "2023-05-28T15:44:12.442Z"
   },
   {
    "duration": 10,
    "start_time": "2023-05-28T15:44:29.308Z"
   },
   {
    "duration": 33,
    "start_time": "2023-05-28T15:44:42.781Z"
   },
   {
    "duration": 219,
    "start_time": "2023-05-28T15:44:46.084Z"
   },
   {
    "duration": 57,
    "start_time": "2023-05-28T15:45:30.506Z"
   },
   {
    "duration": 11,
    "start_time": "2023-05-28T15:47:37.439Z"
   },
   {
    "duration": 116,
    "start_time": "2023-05-28T15:47:43.713Z"
   },
   {
    "duration": 45,
    "start_time": "2023-05-28T15:48:02.343Z"
   },
   {
    "duration": 14,
    "start_time": "2023-05-28T15:50:06.947Z"
   },
   {
    "duration": 47,
    "start_time": "2023-05-28T15:50:07.646Z"
   },
   {
    "duration": 93,
    "start_time": "2023-05-28T15:50:12.363Z"
   },
   {
    "duration": 178,
    "start_time": "2023-05-28T15:50:12.889Z"
   },
   {
    "duration": 431,
    "start_time": "2023-05-28T15:50:13.343Z"
   },
   {
    "duration": 55,
    "start_time": "2023-05-28T15:50:14.705Z"
   },
   {
    "duration": 237,
    "start_time": "2023-05-28T15:50:59.975Z"
   },
   {
    "duration": 73,
    "start_time": "2023-05-28T15:51:50.741Z"
   },
   {
    "duration": 50,
    "start_time": "2023-05-28T15:52:03.179Z"
   },
   {
    "duration": 9,
    "start_time": "2023-05-28T15:54:02.715Z"
   },
   {
    "duration": 133,
    "start_time": "2023-05-28T15:54:14.977Z"
   },
   {
    "duration": 3,
    "start_time": "2023-05-28T15:54:41.570Z"
   },
   {
    "duration": 2,
    "start_time": "2023-05-28T15:54:48.200Z"
   },
   {
    "duration": 8,
    "start_time": "2023-05-28T15:54:57.166Z"
   },
   {
    "duration": 3,
    "start_time": "2023-05-28T15:55:10.055Z"
   },
   {
    "duration": 645,
    "start_time": "2023-05-28T15:55:10.059Z"
   },
   {
    "duration": 33,
    "start_time": "2023-05-28T15:55:10.706Z"
   },
   {
    "duration": 94,
    "start_time": "2023-05-28T15:55:10.741Z"
   },
   {
    "duration": 14,
    "start_time": "2023-05-28T15:55:10.836Z"
   },
   {
    "duration": 33,
    "start_time": "2023-05-28T15:55:10.851Z"
   },
   {
    "duration": 47,
    "start_time": "2023-05-28T15:55:10.886Z"
   },
   {
    "duration": 67,
    "start_time": "2023-05-28T15:55:10.935Z"
   },
   {
    "duration": 0,
    "start_time": "2023-05-28T15:55:11.004Z"
   },
   {
    "duration": 0,
    "start_time": "2023-05-28T15:55:11.005Z"
   },
   {
    "duration": 0,
    "start_time": "2023-05-28T15:55:11.007Z"
   },
   {
    "duration": 94,
    "start_time": "2023-05-28T15:55:21.858Z"
   },
   {
    "duration": 192,
    "start_time": "2023-05-28T15:55:22.180Z"
   },
   {
    "duration": 329,
    "start_time": "2023-05-28T15:55:22.493Z"
   },
   {
    "duration": 79,
    "start_time": "2023-05-28T15:55:22.875Z"
   },
   {
    "duration": 3,
    "start_time": "2023-05-28T15:55:44.477Z"
   },
   {
    "duration": 11,
    "start_time": "2023-05-28T15:55:44.970Z"
   },
   {
    "duration": 3,
    "start_time": "2023-05-28T15:55:50.591Z"
   },
   {
    "duration": 716,
    "start_time": "2023-05-28T15:55:50.597Z"
   },
   {
    "duration": 33,
    "start_time": "2023-05-28T15:55:51.315Z"
   },
   {
    "duration": 111,
    "start_time": "2023-05-28T15:55:51.350Z"
   },
   {
    "duration": 12,
    "start_time": "2023-05-28T15:55:51.463Z"
   },
   {
    "duration": 33,
    "start_time": "2023-05-28T15:55:51.477Z"
   },
   {
    "duration": 55,
    "start_time": "2023-05-28T15:55:51.512Z"
   },
   {
    "duration": 111,
    "start_time": "2023-05-28T15:55:51.569Z"
   },
   {
    "duration": 200,
    "start_time": "2023-05-28T15:55:51.682Z"
   },
   {
    "duration": 276,
    "start_time": "2023-05-28T15:55:51.884Z"
   },
   {
    "duration": 59,
    "start_time": "2023-05-28T15:55:53.303Z"
   },
   {
    "duration": 60,
    "start_time": "2023-05-28T15:55:58.773Z"
   },
   {
    "duration": 3,
    "start_time": "2023-05-28T15:56:30.109Z"
   },
   {
    "duration": 20,
    "start_time": "2023-05-28T15:56:33.808Z"
   },
   {
    "duration": 2,
    "start_time": "2023-05-28T15:57:12.856Z"
   },
   {
    "duration": 609,
    "start_time": "2023-05-28T15:57:12.860Z"
   },
   {
    "duration": 38,
    "start_time": "2023-05-28T15:57:13.470Z"
   },
   {
    "duration": 86,
    "start_time": "2023-05-28T15:57:13.510Z"
   },
   {
    "duration": 29,
    "start_time": "2023-05-28T15:57:13.606Z"
   },
   {
    "duration": 20,
    "start_time": "2023-05-28T15:57:13.637Z"
   },
   {
    "duration": 51,
    "start_time": "2023-05-28T15:57:13.658Z"
   },
   {
    "duration": 95,
    "start_time": "2023-05-28T15:57:13.711Z"
   },
   {
    "duration": 363,
    "start_time": "2023-05-28T15:57:13.808Z"
   },
   {
    "duration": 59,
    "start_time": "2023-05-28T15:57:14.173Z"
   },
   {
    "duration": 2,
    "start_time": "2023-05-28T15:57:14.234Z"
   },
   {
    "duration": 21,
    "start_time": "2023-05-28T15:57:16.448Z"
   },
   {
    "duration": 35,
    "start_time": "2023-05-28T15:57:43.642Z"
   },
   {
    "duration": 23,
    "start_time": "2023-05-28T15:58:19.097Z"
   },
   {
    "duration": 1175,
    "start_time": "2023-05-28T15:59:10.344Z"
   },
   {
    "duration": 1300,
    "start_time": "2023-05-28T15:59:20.046Z"
   },
   {
    "duration": 39,
    "start_time": "2023-05-28T15:59:35.670Z"
   },
   {
    "duration": 6,
    "start_time": "2023-05-28T16:00:13.726Z"
   },
   {
    "duration": 5,
    "start_time": "2023-05-28T16:03:43.213Z"
   },
   {
    "duration": 5,
    "start_time": "2023-05-28T16:04:03.028Z"
   },
   {
    "duration": 11,
    "start_time": "2023-05-28T16:05:31.057Z"
   },
   {
    "duration": 2,
    "start_time": "2023-05-28T16:05:46.774Z"
   },
   {
    "duration": 624,
    "start_time": "2023-05-28T16:05:46.778Z"
   },
   {
    "duration": 41,
    "start_time": "2023-05-28T16:05:47.404Z"
   },
   {
    "duration": 93,
    "start_time": "2023-05-28T16:05:47.447Z"
   },
   {
    "duration": 10,
    "start_time": "2023-05-28T16:05:47.542Z"
   },
   {
    "duration": 9,
    "start_time": "2023-05-28T16:05:47.553Z"
   },
   {
    "duration": 554,
    "start_time": "2023-05-28T16:05:53.458Z"
   },
   {
    "duration": 2,
    "start_time": "2023-05-28T16:05:59.830Z"
   },
   {
    "duration": 8,
    "start_time": "2023-05-28T16:06:03.946Z"
   },
   {
    "duration": 5,
    "start_time": "2023-05-28T16:06:18.410Z"
   },
   {
    "duration": 9,
    "start_time": "2023-05-28T16:06:18.772Z"
   },
   {
    "duration": 8,
    "start_time": "2023-05-28T16:06:19.111Z"
   },
   {
    "duration": 2,
    "start_time": "2023-05-28T16:06:31.770Z"
   },
   {
    "duration": 618,
    "start_time": "2023-05-28T16:06:31.774Z"
   },
   {
    "duration": 37,
    "start_time": "2023-05-28T16:06:32.394Z"
   },
   {
    "duration": 110,
    "start_time": "2023-05-28T16:06:32.433Z"
   },
   {
    "duration": 37,
    "start_time": "2023-05-28T16:06:32.545Z"
   },
   {
    "duration": 27,
    "start_time": "2023-05-28T16:06:32.584Z"
   },
   {
    "duration": 5,
    "start_time": "2023-05-28T16:07:03.058Z"
   },
   {
    "duration": 539,
    "start_time": "2023-05-28T16:07:03.512Z"
   },
   {
    "duration": 8,
    "start_time": "2023-05-28T16:07:05.042Z"
   },
   {
    "duration": 3,
    "start_time": "2023-05-28T16:10:45.987Z"
   },
   {
    "duration": 656,
    "start_time": "2023-05-28T16:10:45.992Z"
   },
   {
    "duration": 33,
    "start_time": "2023-05-28T16:10:46.650Z"
   },
   {
    "duration": 96,
    "start_time": "2023-05-28T16:10:46.684Z"
   },
   {
    "duration": 10,
    "start_time": "2023-05-28T16:10:46.782Z"
   },
   {
    "duration": 5,
    "start_time": "2023-05-28T16:10:48.885Z"
   },
   {
    "duration": 19,
    "start_time": "2023-05-28T16:11:44.150Z"
   },
   {
    "duration": 5,
    "start_time": "2023-05-28T16:11:48.680Z"
   },
   {
    "duration": 542,
    "start_time": "2023-05-28T16:11:49.658Z"
   },
   {
    "duration": 3,
    "start_time": "2023-05-28T16:11:54.078Z"
   },
   {
    "duration": 7,
    "start_time": "2023-05-28T16:11:57.178Z"
   },
   {
    "duration": 3,
    "start_time": "2023-05-28T16:12:12.150Z"
   },
   {
    "duration": 715,
    "start_time": "2023-05-28T16:12:12.154Z"
   },
   {
    "duration": 40,
    "start_time": "2023-05-28T16:12:12.870Z"
   },
   {
    "duration": 88,
    "start_time": "2023-05-28T16:12:12.911Z"
   },
   {
    "duration": 7,
    "start_time": "2023-05-28T16:12:46.638Z"
   },
   {
    "duration": 553,
    "start_time": "2023-05-28T16:12:47.575Z"
   },
   {
    "duration": 78,
    "start_time": "2023-05-28T16:12:52.266Z"
   },
   {
    "duration": 11,
    "start_time": "2023-05-28T16:13:41.242Z"
   },
   {
    "duration": 2,
    "start_time": "2023-05-28T16:14:28.742Z"
   },
   {
    "duration": 623,
    "start_time": "2023-05-28T16:14:28.748Z"
   },
   {
    "duration": 40,
    "start_time": "2023-05-28T16:14:29.373Z"
   },
   {
    "duration": 94,
    "start_time": "2023-05-28T16:14:29.415Z"
   },
   {
    "duration": 10,
    "start_time": "2023-05-28T16:14:29.511Z"
   },
   {
    "duration": 29,
    "start_time": "2023-05-28T16:14:29.523Z"
   },
   {
    "duration": 567,
    "start_time": "2023-05-28T16:14:38.358Z"
   },
   {
    "duration": 76,
    "start_time": "2023-05-28T16:15:00.550Z"
   },
   {
    "duration": 79,
    "start_time": "2023-05-28T16:15:15.257Z"
   },
   {
    "duration": 3,
    "start_time": "2023-05-28T16:15:22.761Z"
   },
   {
    "duration": 653,
    "start_time": "2023-05-28T16:15:22.766Z"
   },
   {
    "duration": 39,
    "start_time": "2023-05-28T16:15:23.421Z"
   },
   {
    "duration": 100,
    "start_time": "2023-05-28T16:15:23.461Z"
   },
   {
    "duration": 11,
    "start_time": "2023-05-28T16:15:23.562Z"
   },
   {
    "duration": 6,
    "start_time": "2023-05-28T16:15:23.575Z"
   },
   {
    "duration": 621,
    "start_time": "2023-05-28T16:15:23.582Z"
   },
   {
    "duration": 3,
    "start_time": "2023-05-28T16:17:06.445Z"
   },
   {
    "duration": 700,
    "start_time": "2023-05-28T16:17:06.450Z"
   },
   {
    "duration": 33,
    "start_time": "2023-05-28T16:17:07.152Z"
   },
   {
    "duration": 107,
    "start_time": "2023-05-28T16:17:07.186Z"
   },
   {
    "duration": 18,
    "start_time": "2023-05-28T16:17:07.296Z"
   },
   {
    "duration": 6,
    "start_time": "2023-05-28T16:17:07.316Z"
   },
   {
    "duration": 584,
    "start_time": "2023-05-28T16:17:53.780Z"
   },
   {
    "duration": 636,
    "start_time": "2023-05-28T16:18:01.442Z"
   },
   {
    "duration": 50,
    "start_time": "2023-05-28T16:20:18.945Z"
   },
   {
    "duration": 1055,
    "start_time": "2023-05-28T16:20:25.998Z"
   },
   {
    "duration": 2832,
    "start_time": "2023-05-28T16:20:27.055Z"
   },
   {
    "duration": 49,
    "start_time": "2023-05-28T16:20:29.889Z"
   },
   {
    "duration": 114,
    "start_time": "2023-05-28T16:20:29.940Z"
   },
   {
    "duration": 58,
    "start_time": "2023-05-28T16:20:30.056Z"
   },
   {
    "duration": 23,
    "start_time": "2023-05-28T16:20:30.116Z"
   },
   {
    "duration": 4011,
    "start_time": "2023-05-28T16:20:34.047Z"
   },
   {
    "duration": 1049,
    "start_time": "2023-05-28T16:22:55.651Z"
   },
   {
    "duration": 2772,
    "start_time": "2023-05-28T16:22:56.702Z"
   },
   {
    "duration": 42,
    "start_time": "2023-05-28T16:22:59.475Z"
   },
   {
    "duration": 93,
    "start_time": "2023-05-28T16:22:59.519Z"
   },
   {
    "duration": 16,
    "start_time": "2023-05-28T16:22:59.615Z"
   },
   {
    "duration": 4,
    "start_time": "2023-05-28T16:23:02.072Z"
   },
   {
    "duration": 45,
    "start_time": "2023-05-28T16:25:36.795Z"
   },
   {
    "duration": 1083,
    "start_time": "2023-05-28T16:25:41.283Z"
   },
   {
    "duration": 2825,
    "start_time": "2023-05-28T16:25:42.368Z"
   },
   {
    "duration": 45,
    "start_time": "2023-05-28T16:25:45.195Z"
   },
   {
    "duration": 96,
    "start_time": "2023-05-28T16:25:45.241Z"
   },
   {
    "duration": 17,
    "start_time": "2023-05-28T16:25:45.339Z"
   },
   {
    "duration": 48,
    "start_time": "2023-05-28T16:26:16.955Z"
   },
   {
    "duration": 1137,
    "start_time": "2023-05-28T16:26:20.909Z"
   },
   {
    "duration": 2833,
    "start_time": "2023-05-28T16:26:22.048Z"
   },
   {
    "duration": 44,
    "start_time": "2023-05-28T16:26:24.882Z"
   },
   {
    "duration": 88,
    "start_time": "2023-05-28T16:26:24.928Z"
   },
   {
    "duration": 17,
    "start_time": "2023-05-28T16:26:25.018Z"
   },
   {
    "duration": 40,
    "start_time": "2023-05-28T16:33:48.901Z"
   },
   {
    "duration": 1118,
    "start_time": "2023-05-28T16:33:53.655Z"
   },
   {
    "duration": 2853,
    "start_time": "2023-05-28T16:33:54.775Z"
   },
   {
    "duration": 53,
    "start_time": "2023-05-28T16:33:57.630Z"
   },
   {
    "duration": 102,
    "start_time": "2023-05-28T16:33:57.685Z"
   },
   {
    "duration": 29,
    "start_time": "2023-05-28T16:33:59.742Z"
   },
   {
    "duration": 58,
    "start_time": "2023-05-28T16:34:45.105Z"
   },
   {
    "duration": 5,
    "start_time": "2023-05-28T16:35:00.742Z"
   },
   {
    "duration": 782,
    "start_time": "2023-05-28T16:35:00.749Z"
   },
   {
    "duration": 42,
    "start_time": "2023-05-28T16:35:01.533Z"
   },
   {
    "duration": 124,
    "start_time": "2023-05-28T16:35:01.576Z"
   },
   {
    "duration": 84,
    "start_time": "2023-05-28T16:35:04.366Z"
   },
   {
    "duration": 17,
    "start_time": "2023-05-28T16:35:04.664Z"
   },
   {
    "duration": 94,
    "start_time": "2023-05-28T16:35:06.394Z"
   },
   {
    "duration": 72,
    "start_time": "2023-05-28T16:36:34.811Z"
   },
   {
    "duration": 3,
    "start_time": "2023-05-28T16:36:41.174Z"
   },
   {
    "duration": 675,
    "start_time": "2023-05-28T16:36:41.178Z"
   },
   {
    "duration": 32,
    "start_time": "2023-05-28T16:36:41.855Z"
   },
   {
    "duration": 89,
    "start_time": "2023-05-28T16:36:41.889Z"
   },
   {
    "duration": 28,
    "start_time": "2023-05-28T16:36:41.979Z"
   },
   {
    "duration": 107,
    "start_time": "2023-05-28T16:36:42.008Z"
   },
   {
    "duration": 54,
    "start_time": "2023-05-28T16:36:44.666Z"
   },
   {
    "duration": 1180,
    "start_time": "2023-05-28T16:37:05.282Z"
   },
   {
    "duration": 1143,
    "start_time": "2023-05-28T16:37:43.989Z"
   },
   {
    "duration": 2866,
    "start_time": "2023-05-28T16:37:45.134Z"
   },
   {
    "duration": 45,
    "start_time": "2023-05-28T16:37:48.001Z"
   },
   {
    "duration": 102,
    "start_time": "2023-05-28T16:37:48.048Z"
   },
   {
    "duration": 21,
    "start_time": "2023-05-28T16:37:48.153Z"
   },
   {
    "duration": 99,
    "start_time": "2023-05-28T16:37:48.175Z"
   },
   {
    "duration": 1117,
    "start_time": "2023-05-28T16:38:30.393Z"
   },
   {
    "duration": 2843,
    "start_time": "2023-05-28T16:38:31.512Z"
   },
   {
    "duration": 40,
    "start_time": "2023-05-28T16:38:34.357Z"
   },
   {
    "duration": 97,
    "start_time": "2023-05-28T16:38:34.399Z"
   },
   {
    "duration": 18,
    "start_time": "2023-05-28T16:38:34.497Z"
   },
   {
    "duration": 98,
    "start_time": "2023-05-28T16:38:34.517Z"
   },
   {
    "duration": 3,
    "start_time": "2023-05-28T16:38:39.562Z"
   },
   {
    "duration": 685,
    "start_time": "2023-05-28T16:38:39.567Z"
   },
   {
    "duration": 36,
    "start_time": "2023-05-28T16:38:40.253Z"
   },
   {
    "duration": 97,
    "start_time": "2023-05-28T16:38:40.291Z"
   },
   {
    "duration": 23,
    "start_time": "2023-05-28T16:38:40.391Z"
   },
   {
    "duration": 94,
    "start_time": "2023-05-28T16:38:40.415Z"
   },
   {
    "duration": 45,
    "start_time": "2023-05-28T16:39:10.655Z"
   },
   {
    "duration": 1053,
    "start_time": "2023-05-28T16:39:15.338Z"
   },
   {
    "duration": 2830,
    "start_time": "2023-05-28T16:39:16.392Z"
   },
   {
    "duration": 46,
    "start_time": "2023-05-28T16:39:19.224Z"
   },
   {
    "duration": 95,
    "start_time": "2023-05-28T16:39:19.271Z"
   },
   {
    "duration": 18,
    "start_time": "2023-05-28T16:39:19.368Z"
   },
   {
    "duration": 88,
    "start_time": "2023-05-28T16:39:19.387Z"
   },
   {
    "duration": 50,
    "start_time": "2023-05-28T16:44:40.571Z"
   },
   {
    "duration": 1106,
    "start_time": "2023-05-28T16:44:44.106Z"
   },
   {
    "duration": 2846,
    "start_time": "2023-05-28T16:44:45.214Z"
   },
   {
    "duration": 47,
    "start_time": "2023-05-28T16:44:48.061Z"
   },
   {
    "duration": 104,
    "start_time": "2023-05-28T16:44:48.110Z"
   },
   {
    "duration": 17,
    "start_time": "2023-05-28T16:44:48.215Z"
   },
   {
    "duration": 92,
    "start_time": "2023-05-28T16:44:48.234Z"
   },
   {
    "duration": 714,
    "start_time": "2023-05-28T16:44:51.082Z"
   },
   {
    "duration": 2,
    "start_time": "2023-05-28T16:47:19.553Z"
   },
   {
    "duration": 694,
    "start_time": "2023-05-28T16:47:19.557Z"
   },
   {
    "duration": 42,
    "start_time": "2023-05-28T16:47:20.253Z"
   },
   {
    "duration": 108,
    "start_time": "2023-05-28T16:47:20.297Z"
   },
   {
    "duration": 19,
    "start_time": "2023-05-28T16:47:20.407Z"
   },
   {
    "duration": 123,
    "start_time": "2023-05-28T16:47:20.428Z"
   },
   {
    "duration": 651,
    "start_time": "2023-05-28T16:47:29.700Z"
   },
   {
    "duration": 56,
    "start_time": "2023-05-28T16:47:44.793Z"
   },
   {
    "duration": 19,
    "start_time": "2023-05-28T16:48:00.978Z"
   },
   {
    "duration": 60,
    "start_time": "2023-05-28T16:48:12.077Z"
   },
   {
    "duration": 1029,
    "start_time": "2023-05-28T16:48:33.447Z"
   },
   {
    "duration": 2816,
    "start_time": "2023-05-28T16:48:34.478Z"
   },
   {
    "duration": 44,
    "start_time": "2023-05-28T16:48:37.296Z"
   },
   {
    "duration": 94,
    "start_time": "2023-05-28T16:48:37.342Z"
   },
   {
    "duration": 17,
    "start_time": "2023-05-28T16:48:37.438Z"
   },
   {
    "duration": 97,
    "start_time": "2023-05-28T16:48:37.457Z"
   },
   {
    "duration": 760,
    "start_time": "2023-05-28T16:48:37.556Z"
   },
   {
    "duration": 3,
    "start_time": "2023-05-28T16:49:01.998Z"
   },
   {
    "duration": 774,
    "start_time": "2023-05-28T16:49:02.002Z"
   },
   {
    "duration": 41,
    "start_time": "2023-05-28T16:49:02.778Z"
   },
   {
    "duration": 92,
    "start_time": "2023-05-28T16:49:02.820Z"
   },
   {
    "duration": 17,
    "start_time": "2023-05-28T16:49:02.914Z"
   },
   {
    "duration": 100,
    "start_time": "2023-05-28T16:49:02.932Z"
   },
   {
    "duration": 650,
    "start_time": "2023-05-28T16:49:04.887Z"
   },
   {
    "duration": 45,
    "start_time": "2023-05-28T16:50:26.261Z"
   },
   {
    "duration": 1064,
    "start_time": "2023-05-28T16:50:30.842Z"
   },
   {
    "duration": 2874,
    "start_time": "2023-05-28T16:50:31.908Z"
   },
   {
    "duration": 50,
    "start_time": "2023-05-28T16:50:34.783Z"
   },
   {
    "duration": 96,
    "start_time": "2023-05-28T16:50:34.834Z"
   },
   {
    "duration": 18,
    "start_time": "2023-05-28T16:50:34.933Z"
   },
   {
    "duration": 100,
    "start_time": "2023-05-28T16:50:34.952Z"
   },
   {
    "duration": 739,
    "start_time": "2023-05-28T16:50:35.054Z"
   },
   {
    "duration": 6,
    "start_time": "2023-05-28T16:50:38.557Z"
   },
   {
    "duration": 7,
    "start_time": "2023-05-28T16:51:00.650Z"
   },
   {
    "duration": 1111,
    "start_time": "2023-05-28T16:51:29.008Z"
   },
   {
    "duration": 2883,
    "start_time": "2023-05-28T16:51:30.122Z"
   },
   {
    "duration": 44,
    "start_time": "2023-05-28T16:51:33.007Z"
   },
   {
    "duration": 117,
    "start_time": "2023-05-28T16:51:33.052Z"
   },
   {
    "duration": 22,
    "start_time": "2023-05-28T16:51:33.171Z"
   },
   {
    "duration": 89,
    "start_time": "2023-05-28T16:51:33.195Z"
   },
   {
    "duration": 768,
    "start_time": "2023-05-28T16:51:33.286Z"
   },
   {
    "duration": 6,
    "start_time": "2023-05-28T16:51:34.056Z"
   },
   {
    "duration": 16,
    "start_time": "2023-05-28T16:51:34.063Z"
   },
   {
    "duration": 161,
    "start_time": "2023-05-28T16:51:42.289Z"
   },
   {
    "duration": 14,
    "start_time": "2023-05-28T16:51:59.410Z"
   },
   {
    "duration": 143,
    "start_time": "2023-05-28T16:52:32.992Z"
   },
   {
    "duration": 26,
    "start_time": "2023-05-28T16:52:45.364Z"
   },
   {
    "duration": 273,
    "start_time": "2023-05-28T16:54:05.358Z"
   },
   {
    "duration": 5,
    "start_time": "2023-05-28T16:54:55.281Z"
   },
   {
    "duration": 7,
    "start_time": "2023-05-28T16:54:58.005Z"
   },
   {
    "duration": 45,
    "start_time": "2023-05-28T16:55:07.975Z"
   },
   {
    "duration": 1042,
    "start_time": "2023-05-28T16:55:12.655Z"
   },
   {
    "duration": 2809,
    "start_time": "2023-05-28T16:55:13.699Z"
   },
   {
    "duration": 48,
    "start_time": "2023-05-28T16:55:16.510Z"
   },
   {
    "duration": 113,
    "start_time": "2023-05-28T16:55:16.560Z"
   },
   {
    "duration": 29,
    "start_time": "2023-05-28T16:55:16.677Z"
   },
   {
    "duration": 99,
    "start_time": "2023-05-28T16:55:16.708Z"
   },
   {
    "duration": 717,
    "start_time": "2023-05-28T16:55:16.809Z"
   },
   {
    "duration": 7,
    "start_time": "2023-05-28T16:55:17.527Z"
   },
   {
    "duration": 9,
    "start_time": "2023-05-28T16:55:17.535Z"
   },
   {
    "duration": 42,
    "start_time": "2023-05-28T16:55:22.965Z"
   },
   {
    "duration": 1002,
    "start_time": "2023-05-28T16:55:26.759Z"
   },
   {
    "duration": 2804,
    "start_time": "2023-05-28T16:55:27.763Z"
   },
   {
    "duration": 48,
    "start_time": "2023-05-28T16:55:30.569Z"
   },
   {
    "duration": 142,
    "start_time": "2023-05-28T16:55:30.618Z"
   },
   {
    "duration": 47,
    "start_time": "2023-05-28T16:55:30.762Z"
   },
   {
    "duration": 104,
    "start_time": "2023-05-28T16:55:30.811Z"
   },
   {
    "duration": 719,
    "start_time": "2023-05-28T16:55:30.917Z"
   },
   {
    "duration": 7,
    "start_time": "2023-05-28T16:55:31.638Z"
   },
   {
    "duration": 27,
    "start_time": "2023-05-28T16:55:31.646Z"
   },
   {
    "duration": 137,
    "start_time": "2023-05-28T16:55:32.977Z"
   },
   {
    "duration": 11,
    "start_time": "2023-05-28T16:55:57.846Z"
   },
   {
    "duration": 58,
    "start_time": "2023-05-28T16:56:05.165Z"
   },
   {
    "duration": 58,
    "start_time": "2023-05-28T16:56:24.354Z"
   },
   {
    "duration": 8,
    "start_time": "2023-05-28T16:56:34.062Z"
   },
   {
    "duration": 8,
    "start_time": "2023-05-28T16:56:41.390Z"
   },
   {
    "duration": 9,
    "start_time": "2023-05-28T16:56:48.711Z"
   },
   {
    "duration": 6,
    "start_time": "2023-05-28T16:57:22.750Z"
   },
   {
    "duration": 9,
    "start_time": "2023-05-28T16:57:25.666Z"
   },
   {
    "duration": 3,
    "start_time": "2023-05-28T16:58:02.459Z"
   },
   {
    "duration": 8,
    "start_time": "2023-05-28T16:58:05.154Z"
   },
   {
    "duration": 8,
    "start_time": "2023-05-28T16:58:17.111Z"
   },
   {
    "duration": 3,
    "start_time": "2023-05-28T16:58:23.566Z"
   },
   {
    "duration": 652,
    "start_time": "2023-05-28T16:58:23.570Z"
   },
   {
    "duration": 36,
    "start_time": "2023-05-28T16:58:24.224Z"
   },
   {
    "duration": 104,
    "start_time": "2023-05-28T16:58:24.261Z"
   },
   {
    "duration": 17,
    "start_time": "2023-05-28T16:58:24.366Z"
   },
   {
    "duration": 89,
    "start_time": "2023-05-28T16:58:24.385Z"
   },
   {
    "duration": 286,
    "start_time": "2023-05-28T16:58:28.510Z"
   },
   {
    "duration": 654,
    "start_time": "2023-05-28T16:58:33.087Z"
   },
   {
    "duration": 5,
    "start_time": "2023-05-28T16:58:36.188Z"
   },
   {
    "duration": 6,
    "start_time": "2023-05-28T16:58:37.086Z"
   },
   {
    "duration": 8,
    "start_time": "2023-05-28T16:58:38.709Z"
   },
   {
    "duration": 6,
    "start_time": "2023-05-28T16:59:17.338Z"
   },
   {
    "duration": 9,
    "start_time": "2023-05-28T16:59:19.462Z"
   },
   {
    "duration": 8,
    "start_time": "2023-05-28T16:59:35.970Z"
   },
   {
    "duration": 8,
    "start_time": "2023-05-28T16:59:38.020Z"
   },
   {
    "duration": 320,
    "start_time": "2023-05-28T17:00:54.946Z"
   },
   {
    "duration": 348,
    "start_time": "2023-05-28T17:01:06.554Z"
   },
   {
    "duration": 39,
    "start_time": "2023-05-28T17:01:08.702Z"
   },
   {
    "duration": 100,
    "start_time": "2023-05-28T17:01:22.221Z"
   },
   {
    "duration": 593,
    "start_time": "2023-05-28T17:03:22.270Z"
   },
   {
    "duration": 41,
    "start_time": "2023-05-28T17:03:27.254Z"
   },
   {
    "duration": 95,
    "start_time": "2023-05-28T17:03:36.650Z"
   },
   {
    "duration": 2,
    "start_time": "2023-05-28T17:04:37.963Z"
   },
   {
    "duration": 632,
    "start_time": "2023-05-28T17:04:37.967Z"
   },
   {
    "duration": 36,
    "start_time": "2023-05-28T17:04:38.600Z"
   },
   {
    "duration": 97,
    "start_time": "2023-05-28T17:04:38.638Z"
   },
   {
    "duration": 17,
    "start_time": "2023-05-28T17:04:38.736Z"
   },
   {
    "duration": 102,
    "start_time": "2023-05-28T17:04:38.754Z"
   },
   {
    "duration": 263,
    "start_time": "2023-05-28T17:04:38.857Z"
   },
   {
    "duration": 98,
    "start_time": "2023-05-28T17:04:39.122Z"
   },
   {
    "duration": 265,
    "start_time": "2023-05-28T17:04:56.854Z"
   },
   {
    "duration": 92,
    "start_time": "2023-05-28T17:04:59.879Z"
   },
   {
    "duration": 7,
    "start_time": "2023-05-28T17:06:20.786Z"
   },
   {
    "duration": 86,
    "start_time": "2023-05-28T17:08:26.663Z"
   },
   {
    "duration": 1255,
    "start_time": "2023-05-28T17:09:36.495Z"
   },
   {
    "duration": 15,
    "start_time": "2023-05-28T17:09:46.290Z"
   },
   {
    "duration": 48,
    "start_time": "2023-05-28T17:10:19.490Z"
   },
   {
    "duration": 37,
    "start_time": "2023-05-28T17:10:28.882Z"
   },
   {
    "duration": 80,
    "start_time": "2023-05-28T17:10:39.422Z"
   },
   {
    "duration": 43,
    "start_time": "2023-05-28T17:11:43.574Z"
   },
   {
    "duration": 16,
    "start_time": "2023-05-28T17:11:48.806Z"
   },
   {
    "duration": 15,
    "start_time": "2023-05-28T17:12:34.188Z"
   },
   {
    "duration": 3,
    "start_time": "2023-05-28T17:13:27.421Z"
   },
   {
    "duration": 631,
    "start_time": "2023-05-28T17:13:27.425Z"
   },
   {
    "duration": 32,
    "start_time": "2023-05-28T17:13:28.058Z"
   },
   {
    "duration": 89,
    "start_time": "2023-05-28T17:13:28.092Z"
   },
   {
    "duration": 26,
    "start_time": "2023-05-28T17:13:28.183Z"
   },
   {
    "duration": 259,
    "start_time": "2023-05-28T17:13:28.210Z"
   },
   {
    "duration": 41,
    "start_time": "2023-05-28T17:13:30.063Z"
   },
   {
    "duration": 13,
    "start_time": "2023-05-28T17:13:34.910Z"
   },
   {
    "duration": 40,
    "start_time": "2023-05-28T17:14:12.717Z"
   },
   {
    "duration": 58,
    "start_time": "2023-05-28T17:14:25.786Z"
   },
   {
    "duration": 54,
    "start_time": "2023-05-28T17:14:45.366Z"
   },
   {
    "duration": 53,
    "start_time": "2023-05-28T17:15:26.722Z"
   },
   {
    "duration": 53,
    "start_time": "2023-05-28T17:15:38.662Z"
   },
   {
    "duration": 89,
    "start_time": "2023-05-28T17:16:14.882Z"
   },
   {
    "duration": 15,
    "start_time": "2023-05-28T17:16:44.494Z"
   },
   {
    "duration": 51,
    "start_time": "2023-05-28T17:17:35.202Z"
   },
   {
    "duration": 49,
    "start_time": "2023-05-28T17:17:40.926Z"
   },
   {
    "duration": 52,
    "start_time": "2023-05-28T17:17:44.910Z"
   },
   {
    "duration": 8,
    "start_time": "2023-05-28T17:18:13.502Z"
   },
   {
    "duration": 9,
    "start_time": "2023-05-28T17:18:15.810Z"
   },
   {
    "duration": 12,
    "start_time": "2023-05-28T17:18:21.066Z"
   },
   {
    "duration": 49,
    "start_time": "2023-05-28T17:18:55.154Z"
   },
   {
    "duration": 34,
    "start_time": "2023-05-28T17:19:08.758Z"
   },
   {
    "duration": 15,
    "start_time": "2023-05-28T17:19:27.210Z"
   },
   {
    "duration": 61,
    "start_time": "2023-05-28T17:20:24.610Z"
   },
   {
    "duration": 74,
    "start_time": "2023-05-28T17:20:51.326Z"
   },
   {
    "duration": 22,
    "start_time": "2023-05-28T17:21:21.601Z"
   },
   {
    "duration": 9,
    "start_time": "2023-05-28T17:21:47.962Z"
   },
   {
    "duration": 79,
    "start_time": "2023-05-28T17:21:54.866Z"
   },
   {
    "duration": 31,
    "start_time": "2023-05-28T17:23:15.415Z"
   },
   {
    "duration": 15,
    "start_time": "2023-05-28T17:23:40.287Z"
   },
   {
    "duration": 40,
    "start_time": "2023-05-28T17:23:59.387Z"
   },
   {
    "duration": 16,
    "start_time": "2023-05-28T17:24:13.762Z"
   },
   {
    "duration": 36,
    "start_time": "2023-05-28T17:24:35.503Z"
   },
   {
    "duration": 17,
    "start_time": "2023-05-28T17:24:46.487Z"
   },
   {
    "duration": 19,
    "start_time": "2023-05-28T17:25:06.370Z"
   },
   {
    "duration": 30,
    "start_time": "2023-05-28T17:25:20.966Z"
   },
   {
    "duration": 17,
    "start_time": "2023-05-28T17:25:38.028Z"
   },
   {
    "duration": 84,
    "start_time": "2023-05-28T17:26:14.700Z"
   },
   {
    "duration": 20,
    "start_time": "2023-05-28T17:30:03.626Z"
   },
   {
    "duration": 36,
    "start_time": "2023-05-28T17:30:15.178Z"
   },
   {
    "duration": 74,
    "start_time": "2023-05-28T17:30:24.428Z"
   },
   {
    "duration": 13,
    "start_time": "2023-05-28T17:30:55.475Z"
   },
   {
    "duration": 3,
    "start_time": "2023-05-28T17:31:11.311Z"
   },
   {
    "duration": 719,
    "start_time": "2023-05-28T17:31:11.316Z"
   },
   {
    "duration": 33,
    "start_time": "2023-05-28T17:31:12.037Z"
   },
   {
    "duration": 99,
    "start_time": "2023-05-28T17:31:12.072Z"
   },
   {
    "duration": 17,
    "start_time": "2023-05-28T17:31:12.173Z"
   },
   {
    "duration": 297,
    "start_time": "2023-05-28T17:31:12.191Z"
   },
   {
    "duration": 63,
    "start_time": "2023-05-28T17:31:12.490Z"
   },
   {
    "duration": 15,
    "start_time": "2023-05-28T17:31:12.555Z"
   },
   {
    "duration": 90,
    "start_time": "2023-05-28T17:31:12.572Z"
   },
   {
    "duration": 69,
    "start_time": "2023-05-28T17:31:12.665Z"
   },
   {
    "duration": 77,
    "start_time": "2023-05-28T17:31:12.735Z"
   },
   {
    "duration": 26,
    "start_time": "2023-05-28T17:31:12.814Z"
   },
   {
    "duration": 38,
    "start_time": "2023-05-28T17:31:12.841Z"
   },
   {
    "duration": 25,
    "start_time": "2023-05-28T17:31:12.880Z"
   },
   {
    "duration": 27,
    "start_time": "2023-05-28T17:31:12.907Z"
   },
   {
    "duration": 82,
    "start_time": "2023-05-28T17:31:12.935Z"
   },
   {
    "duration": 13,
    "start_time": "2023-05-28T17:31:22.650Z"
   },
   {
    "duration": 2,
    "start_time": "2023-05-28T17:31:38.885Z"
   },
   {
    "duration": 652,
    "start_time": "2023-05-28T17:31:38.889Z"
   },
   {
    "duration": 38,
    "start_time": "2023-05-28T17:31:39.543Z"
   },
   {
    "duration": 92,
    "start_time": "2023-05-28T17:31:39.583Z"
   },
   {
    "duration": 17,
    "start_time": "2023-05-28T17:31:47.970Z"
   },
   {
    "duration": 17,
    "start_time": "2023-05-28T17:31:59.262Z"
   },
   {
    "duration": 1147,
    "start_time": "2023-05-29T16:40:43.487Z"
   },
   {
    "duration": 2743,
    "start_time": "2023-05-29T16:40:44.636Z"
   },
   {
    "duration": 44,
    "start_time": "2023-05-29T16:40:47.381Z"
   },
   {
    "duration": 138,
    "start_time": "2023-05-29T16:40:47.428Z"
   },
   {
    "duration": 20,
    "start_time": "2023-05-29T16:40:47.568Z"
   },
   {
    "duration": 360,
    "start_time": "2023-05-29T16:40:47.590Z"
   },
   {
    "duration": 62,
    "start_time": "2023-05-29T16:40:47.952Z"
   },
   {
    "duration": 15,
    "start_time": "2023-05-29T16:40:48.015Z"
   },
   {
    "duration": 60,
    "start_time": "2023-05-29T16:40:48.050Z"
   },
   {
    "duration": 74,
    "start_time": "2023-05-29T16:40:48.113Z"
   },
   {
    "duration": 112,
    "start_time": "2023-05-29T16:40:48.189Z"
   },
   {
    "duration": 61,
    "start_time": "2023-05-29T16:40:48.302Z"
   },
   {
    "duration": 50,
    "start_time": "2023-05-29T16:40:48.365Z"
   },
   {
    "duration": 33,
    "start_time": "2023-05-29T16:40:48.417Z"
   },
   {
    "duration": 54,
    "start_time": "2023-05-29T16:40:48.453Z"
   },
   {
    "duration": 94,
    "start_time": "2023-05-29T16:40:48.510Z"
   },
   {
    "duration": 1067,
    "start_time": "2023-05-29T16:42:18.405Z"
   },
   {
    "duration": 2787,
    "start_time": "2023-05-29T16:42:19.474Z"
   },
   {
    "duration": 48,
    "start_time": "2023-05-29T16:42:22.262Z"
   },
   {
    "duration": 104,
    "start_time": "2023-05-29T16:42:22.312Z"
   },
   {
    "duration": 22,
    "start_time": "2023-05-29T16:42:22.418Z"
   },
   {
    "duration": 396,
    "start_time": "2023-05-29T16:42:22.450Z"
   },
   {
    "duration": 68,
    "start_time": "2023-05-29T16:42:22.848Z"
   },
   {
    "duration": 15,
    "start_time": "2023-05-29T16:42:22.918Z"
   },
   {
    "duration": 69,
    "start_time": "2023-05-29T16:42:22.949Z"
   },
   {
    "duration": 73,
    "start_time": "2023-05-29T16:42:23.021Z"
   },
   {
    "duration": 96,
    "start_time": "2023-05-29T16:42:23.096Z"
   },
   {
    "duration": 32,
    "start_time": "2023-05-29T16:42:23.194Z"
   },
   {
    "duration": 46,
    "start_time": "2023-05-29T16:42:23.228Z"
   },
   {
    "duration": 16,
    "start_time": "2023-05-29T16:42:23.276Z"
   },
   {
    "duration": 38,
    "start_time": "2023-05-29T16:42:23.293Z"
   },
   {
    "duration": 99,
    "start_time": "2023-05-29T16:42:23.333Z"
   },
   {
    "duration": 1118,
    "start_time": "2023-05-29T16:45:00.087Z"
   },
   {
    "duration": 2873,
    "start_time": "2023-05-29T16:45:01.208Z"
   },
   {
    "duration": 50,
    "start_time": "2023-05-29T16:45:04.083Z"
   },
   {
    "duration": 132,
    "start_time": "2023-05-29T16:45:04.134Z"
   },
   {
    "duration": 23,
    "start_time": "2023-05-29T16:45:04.269Z"
   },
   {
    "duration": 473,
    "start_time": "2023-05-29T16:45:04.294Z"
   },
   {
    "duration": 65,
    "start_time": "2023-05-29T16:45:04.769Z"
   },
   {
    "duration": 27,
    "start_time": "2023-05-29T16:45:04.836Z"
   },
   {
    "duration": 60,
    "start_time": "2023-05-29T16:45:04.864Z"
   },
   {
    "duration": 83,
    "start_time": "2023-05-29T16:45:04.926Z"
   },
   {
    "duration": 99,
    "start_time": "2023-05-29T16:45:05.010Z"
   },
   {
    "duration": 45,
    "start_time": "2023-05-29T16:45:05.110Z"
   },
   {
    "duration": 29,
    "start_time": "2023-05-29T16:45:05.157Z"
   },
   {
    "duration": 36,
    "start_time": "2023-05-29T16:45:05.189Z"
   },
   {
    "duration": 29,
    "start_time": "2023-05-29T16:45:05.227Z"
   },
   {
    "duration": 118,
    "start_time": "2023-05-29T16:45:05.257Z"
   },
   {
    "duration": 3,
    "start_time": "2023-05-29T16:45:58.791Z"
   },
   {
    "duration": 2530,
    "start_time": "2023-05-29T16:46:52.088Z"
   },
   {
    "duration": 22,
    "start_time": "2023-05-29T16:46:59.885Z"
   },
   {
    "duration": 9,
    "start_time": "2023-05-29T16:47:59.039Z"
   },
   {
    "duration": 3,
    "start_time": "2023-05-29T16:48:46.419Z"
   },
   {
    "duration": 114,
    "start_time": "2023-05-29T16:51:00.796Z"
   },
   {
    "duration": 4,
    "start_time": "2023-05-29T16:51:20.979Z"
   },
   {
    "duration": 3,
    "start_time": "2023-05-29T16:51:36.694Z"
   },
   {
    "duration": 135,
    "start_time": "2023-05-29T16:52:12.446Z"
   },
   {
    "duration": 3,
    "start_time": "2023-05-29T16:52:16.401Z"
   },
   {
    "duration": 64,
    "start_time": "2023-05-29T16:52:42.748Z"
   },
   {
    "duration": 3,
    "start_time": "2023-05-29T16:52:43.638Z"
   },
   {
    "duration": 83,
    "start_time": "2023-05-29T16:53:32.853Z"
   },
   {
    "duration": 3,
    "start_time": "2023-05-29T17:08:17.027Z"
   },
   {
    "duration": 3,
    "start_time": "2023-05-29T17:09:34.664Z"
   },
   {
    "duration": 775,
    "start_time": "2023-05-29T17:09:34.670Z"
   },
   {
    "duration": 37,
    "start_time": "2023-05-29T17:09:35.447Z"
   },
   {
    "duration": 109,
    "start_time": "2023-05-29T17:09:35.485Z"
   },
   {
    "duration": 18,
    "start_time": "2023-05-29T17:09:35.597Z"
   },
   {
    "duration": 326,
    "start_time": "2023-05-29T17:09:35.617Z"
   },
   {
    "duration": 58,
    "start_time": "2023-05-29T17:09:35.945Z"
   },
   {
    "duration": 16,
    "start_time": "2023-05-29T17:09:36.005Z"
   },
   {
    "duration": 83,
    "start_time": "2023-05-29T17:09:36.022Z"
   },
   {
    "duration": 80,
    "start_time": "2023-05-29T17:09:36.106Z"
   },
   {
    "duration": 93,
    "start_time": "2023-05-29T17:09:36.188Z"
   },
   {
    "duration": 29,
    "start_time": "2023-05-29T17:09:36.282Z"
   },
   {
    "duration": 45,
    "start_time": "2023-05-29T17:09:36.313Z"
   },
   {
    "duration": 18,
    "start_time": "2023-05-29T17:09:36.361Z"
   },
   {
    "duration": 32,
    "start_time": "2023-05-29T17:09:36.381Z"
   },
   {
    "duration": 135,
    "start_time": "2023-05-29T17:09:36.415Z"
   },
   {
    "duration": 68,
    "start_time": "2023-05-29T17:09:36.552Z"
   },
   {
    "duration": 142,
    "start_time": "2023-05-29T17:14:38.226Z"
   },
   {
    "duration": 13,
    "start_time": "2023-05-29T17:16:17.762Z"
   },
   {
    "duration": 3,
    "start_time": "2023-05-29T17:16:24.344Z"
   },
   {
    "duration": 15,
    "start_time": "2023-05-29T17:16:28.251Z"
   },
   {
    "duration": 11,
    "start_time": "2023-05-29T17:16:38.478Z"
   },
   {
    "duration": 4,
    "start_time": "2023-05-29T17:16:44.515Z"
   },
   {
    "duration": 799,
    "start_time": "2023-05-29T17:16:44.521Z"
   },
   {
    "duration": 53,
    "start_time": "2023-05-29T17:16:45.322Z"
   },
   {
    "duration": 110,
    "start_time": "2023-05-29T17:16:45.376Z"
   },
   {
    "duration": 20,
    "start_time": "2023-05-29T17:16:45.488Z"
   },
   {
    "duration": 354,
    "start_time": "2023-05-29T17:16:45.511Z"
   },
   {
    "duration": 49,
    "start_time": "2023-05-29T17:16:45.867Z"
   },
   {
    "duration": 35,
    "start_time": "2023-05-29T17:16:45.918Z"
   },
   {
    "duration": 67,
    "start_time": "2023-05-29T17:16:45.958Z"
   },
   {
    "duration": 72,
    "start_time": "2023-05-29T17:16:46.028Z"
   },
   {
    "duration": 103,
    "start_time": "2023-05-29T17:16:46.101Z"
   },
   {
    "duration": 29,
    "start_time": "2023-05-29T17:16:46.206Z"
   },
   {
    "duration": 35,
    "start_time": "2023-05-29T17:16:46.250Z"
   },
   {
    "duration": 15,
    "start_time": "2023-05-29T17:16:46.287Z"
   },
   {
    "duration": 49,
    "start_time": "2023-05-29T17:16:46.304Z"
   },
   {
    "duration": 101,
    "start_time": "2023-05-29T17:16:46.354Z"
   },
   {
    "duration": 89,
    "start_time": "2023-05-29T17:16:46.457Z"
   },
   {
    "duration": 4,
    "start_time": "2023-05-29T17:16:58.330Z"
   },
   {
    "duration": 74,
    "start_time": "2023-05-29T17:17:03.539Z"
   },
   {
    "duration": 68,
    "start_time": "2023-05-29T17:17:18.854Z"
   },
   {
    "duration": 12,
    "start_time": "2023-05-29T17:17:21.669Z"
   },
   {
    "duration": 25,
    "start_time": "2023-05-29T17:17:36.623Z"
   },
   {
    "duration": 303,
    "start_time": "2023-05-29T17:18:05.472Z"
   },
   {
    "duration": 21,
    "start_time": "2023-05-29T17:18:30.493Z"
   },
   {
    "duration": 5,
    "start_time": "2023-05-29T17:18:35.074Z"
   },
   {
    "duration": 64,
    "start_time": "2023-05-29T17:18:50.140Z"
   },
   {
    "duration": 75,
    "start_time": "2023-05-29T17:19:02.730Z"
   },
   {
    "duration": 6,
    "start_time": "2023-05-29T17:19:05.953Z"
   },
   {
    "duration": 22,
    "start_time": "2023-05-29T17:19:12.782Z"
   },
   {
    "duration": 6801,
    "start_time": "2023-05-29T17:19:25.856Z"
   },
   {
    "duration": 738,
    "start_time": "2023-05-29T17:20:16.838Z"
   },
   {
    "duration": 6,
    "start_time": "2023-05-29T17:20:40.191Z"
   },
   {
    "duration": 15029,
    "start_time": "2023-05-29T17:22:13.330Z"
   },
   {
    "duration": 1581,
    "start_time": "2023-05-29T17:23:04.598Z"
   },
   {
    "duration": 5,
    "start_time": "2023-05-29T17:23:07.004Z"
   },
   {
    "duration": 56159,
    "start_time": "2023-05-29T17:23:30.595Z"
   },
   {
    "duration": 54,
    "start_time": "2023-05-29T17:24:56.391Z"
   },
   {
    "duration": 680,
    "start_time": "2023-05-29T17:25:15.833Z"
   },
   {
    "duration": 266903,
    "start_time": "2023-05-29T17:26:05.059Z"
   },
   {
    "duration": 39735,
    "start_time": "2023-05-29T17:30:39.738Z"
   },
   {
    "duration": 3,
    "start_time": "2023-05-29T17:33:55.257Z"
   },
   {
    "duration": 734,
    "start_time": "2023-05-29T17:33:55.262Z"
   },
   {
    "duration": 44,
    "start_time": "2023-05-29T17:33:55.997Z"
   },
   {
    "duration": 100,
    "start_time": "2023-05-29T17:33:56.050Z"
   },
   {
    "duration": 19,
    "start_time": "2023-05-29T17:33:56.152Z"
   },
   {
    "duration": 337,
    "start_time": "2023-05-29T17:33:56.173Z"
   },
   {
    "duration": 57,
    "start_time": "2023-05-29T17:33:56.512Z"
   },
   {
    "duration": 14,
    "start_time": "2023-05-29T17:33:56.571Z"
   },
   {
    "duration": 80,
    "start_time": "2023-05-29T17:33:56.587Z"
   },
   {
    "duration": 59,
    "start_time": "2023-05-29T17:33:56.670Z"
   },
   {
    "duration": 95,
    "start_time": "2023-05-29T17:33:56.731Z"
   },
   {
    "duration": 38,
    "start_time": "2023-05-29T17:33:56.827Z"
   },
   {
    "duration": 36,
    "start_time": "2023-05-29T17:33:56.866Z"
   },
   {
    "duration": 15,
    "start_time": "2023-05-29T17:33:56.904Z"
   },
   {
    "duration": 44,
    "start_time": "2023-05-29T17:33:56.920Z"
   },
   {
    "duration": 91,
    "start_time": "2023-05-29T17:33:56.965Z"
   },
   {
    "duration": 642,
    "start_time": "2023-05-29T17:33:57.058Z"
   },
   {
    "duration": 15313,
    "start_time": "2023-05-29T17:34:03.451Z"
   },
   {
    "duration": 729,
    "start_time": "2023-05-29T17:34:34.107Z"
   },
   {
    "duration": 19763,
    "start_time": "2023-05-29T17:34:36.902Z"
   },
   {
    "duration": 61207,
    "start_time": "2023-05-29T17:34:59.158Z"
   },
   {
    "duration": 0,
    "start_time": "2023-05-29T17:36:00.368Z"
   },
   {
    "duration": 59832,
    "start_time": "2023-05-29T17:36:01.828Z"
   },
   {
    "duration": 2610,
    "start_time": "2023-05-29T17:38:30.102Z"
   },
   {
    "duration": 4,
    "start_time": "2023-05-29T17:38:44.008Z"
   },
   {
    "duration": 790,
    "start_time": "2023-05-29T17:38:44.014Z"
   },
   {
    "duration": 46,
    "start_time": "2023-05-29T17:38:44.806Z"
   },
   {
    "duration": 109,
    "start_time": "2023-05-29T17:38:44.853Z"
   },
   {
    "duration": 19,
    "start_time": "2023-05-29T17:38:44.965Z"
   },
   {
    "duration": 353,
    "start_time": "2023-05-29T17:38:44.986Z"
   },
   {
    "duration": 54,
    "start_time": "2023-05-29T17:38:45.341Z"
   },
   {
    "duration": 16,
    "start_time": "2023-05-29T17:38:45.397Z"
   },
   {
    "duration": 81,
    "start_time": "2023-05-29T17:38:45.414Z"
   },
   {
    "duration": 76,
    "start_time": "2023-05-29T17:38:45.496Z"
   },
   {
    "duration": 93,
    "start_time": "2023-05-29T17:38:45.574Z"
   },
   {
    "duration": 30,
    "start_time": "2023-05-29T17:38:45.668Z"
   },
   {
    "duration": 53,
    "start_time": "2023-05-29T17:38:45.700Z"
   },
   {
    "duration": 15,
    "start_time": "2023-05-29T17:38:45.755Z"
   },
   {
    "duration": 32,
    "start_time": "2023-05-29T17:38:45.772Z"
   },
   {
    "duration": 107,
    "start_time": "2023-05-29T17:38:45.805Z"
   },
   {
    "duration": 686,
    "start_time": "2023-05-29T17:38:49.303Z"
   },
   {
    "duration": 9268,
    "start_time": "2023-05-29T17:39:02.203Z"
   },
   {
    "duration": 1462,
    "start_time": "2023-05-29T17:40:06.621Z"
   },
   {
    "duration": 5,
    "start_time": "2023-05-29T17:40:16.309Z"
   },
   {
    "duration": 0,
    "start_time": "2023-05-29T17:42:41.371Z"
   },
   {
    "duration": 3,
    "start_time": "2023-05-29T17:42:47.128Z"
   },
   {
    "duration": 760,
    "start_time": "2023-05-29T17:42:47.133Z"
   },
   {
    "duration": 35,
    "start_time": "2023-05-29T17:42:47.896Z"
   },
   {
    "duration": 125,
    "start_time": "2023-05-29T17:42:47.933Z"
   },
   {
    "duration": 20,
    "start_time": "2023-05-29T17:42:48.062Z"
   },
   {
    "duration": 352,
    "start_time": "2023-05-29T17:42:48.084Z"
   },
   {
    "duration": 56,
    "start_time": "2023-05-29T17:42:48.438Z"
   },
   {
    "duration": 15,
    "start_time": "2023-05-29T17:42:48.495Z"
   },
   {
    "duration": 79,
    "start_time": "2023-05-29T17:42:48.511Z"
   },
   {
    "duration": 73,
    "start_time": "2023-05-29T17:42:48.591Z"
   },
   {
    "duration": 95,
    "start_time": "2023-05-29T17:42:48.666Z"
   },
   {
    "duration": 33,
    "start_time": "2023-05-29T17:42:48.763Z"
   },
   {
    "duration": 31,
    "start_time": "2023-05-29T17:42:48.798Z"
   },
   {
    "duration": 20,
    "start_time": "2023-05-29T17:42:48.853Z"
   },
   {
    "duration": 30,
    "start_time": "2023-05-29T17:42:48.875Z"
   },
   {
    "duration": 101,
    "start_time": "2023-05-29T17:42:48.906Z"
   },
   {
    "duration": 687,
    "start_time": "2023-05-29T17:42:51.384Z"
   },
   {
    "duration": 23243,
    "start_time": "2023-05-29T17:47:02.162Z"
   },
   {
    "duration": 3723,
    "start_time": "2023-05-29T17:48:07.064Z"
   },
   {
    "duration": 3635,
    "start_time": "2023-05-29T17:48:26.516Z"
   },
   {
    "duration": 22825,
    "start_time": "2023-05-29T17:50:21.939Z"
   },
   {
    "duration": 17,
    "start_time": "2023-05-29T17:50:47.250Z"
   },
   {
    "duration": 789,
    "start_time": "2023-05-29T17:50:47.273Z"
   },
   {
    "duration": 38,
    "start_time": "2023-05-29T17:50:48.065Z"
   },
   {
    "duration": 123,
    "start_time": "2023-05-29T17:50:48.105Z"
   },
   {
    "duration": 39,
    "start_time": "2023-05-29T17:50:48.232Z"
   },
   {
    "duration": 330,
    "start_time": "2023-05-29T17:50:48.273Z"
   },
   {
    "duration": 62,
    "start_time": "2023-05-29T17:50:48.605Z"
   },
   {
    "duration": 17,
    "start_time": "2023-05-29T17:50:48.669Z"
   },
   {
    "duration": 78,
    "start_time": "2023-05-29T17:50:48.688Z"
   },
   {
    "duration": 71,
    "start_time": "2023-05-29T17:50:48.769Z"
   },
   {
    "duration": 124,
    "start_time": "2023-05-29T17:50:48.850Z"
   },
   {
    "duration": 32,
    "start_time": "2023-05-29T17:50:48.976Z"
   },
   {
    "duration": 29,
    "start_time": "2023-05-29T17:50:49.010Z"
   },
   {
    "duration": 34,
    "start_time": "2023-05-29T17:50:49.054Z"
   },
   {
    "duration": 30,
    "start_time": "2023-05-29T17:50:49.090Z"
   },
   {
    "duration": 112,
    "start_time": "2023-05-29T17:50:49.121Z"
   },
   {
    "duration": 770,
    "start_time": "2023-05-29T17:50:49.235Z"
   },
   {
    "duration": 108505,
    "start_time": "2023-05-29T17:50:51.075Z"
   },
   {
    "duration": 23,
    "start_time": "2023-05-29T17:53:34.537Z"
   },
   {
    "duration": 2542,
    "start_time": "2023-05-29T17:53:45.901Z"
   },
   {
    "duration": 69,
    "start_time": "2023-05-29T17:53:51.920Z"
   },
   {
    "duration": 50279,
    "start_time": "2023-05-29T17:55:36.398Z"
   },
   {
    "duration": 274412,
    "start_time": "2023-05-29T17:56:28.735Z"
   },
   {
    "duration": 56265,
    "start_time": "2023-05-29T18:02:03.247Z"
   },
   {
    "duration": 5,
    "start_time": "2023-05-29T18:03:06.122Z"
   },
   {
    "duration": 4,
    "start_time": "2023-05-29T18:04:26.704Z"
   },
   {
    "duration": 765,
    "start_time": "2023-05-29T18:04:26.711Z"
   },
   {
    "duration": 46,
    "start_time": "2023-05-29T18:04:27.478Z"
   },
   {
    "duration": 132,
    "start_time": "2023-05-29T18:04:27.526Z"
   },
   {
    "duration": 19,
    "start_time": "2023-05-29T18:04:27.665Z"
   },
   {
    "duration": 321,
    "start_time": "2023-05-29T18:04:27.686Z"
   },
   {
    "duration": 59,
    "start_time": "2023-05-29T18:04:28.009Z"
   },
   {
    "duration": 14,
    "start_time": "2023-05-29T18:04:28.070Z"
   },
   {
    "duration": 78,
    "start_time": "2023-05-29T18:04:28.086Z"
   },
   {
    "duration": 57,
    "start_time": "2023-05-29T18:04:28.166Z"
   },
   {
    "duration": 115,
    "start_time": "2023-05-29T18:04:28.225Z"
   },
   {
    "duration": 32,
    "start_time": "2023-05-29T18:04:28.342Z"
   },
   {
    "duration": 29,
    "start_time": "2023-05-29T18:04:28.376Z"
   },
   {
    "duration": 14,
    "start_time": "2023-05-29T18:04:28.407Z"
   },
   {
    "duration": 58,
    "start_time": "2023-05-29T18:04:28.423Z"
   },
   {
    "duration": 97,
    "start_time": "2023-05-29T18:04:28.483Z"
   },
   {
    "duration": 744,
    "start_time": "2023-05-29T18:04:28.583Z"
   },
   {
    "duration": 53471,
    "start_time": "2023-05-29T18:04:36.089Z"
   },
   {
    "duration": 2479,
    "start_time": "2023-05-29T18:05:35.232Z"
   },
   {
    "duration": 68,
    "start_time": "2023-05-29T18:05:39.524Z"
   },
   {
    "duration": 7,
    "start_time": "2023-05-29T18:05:44.121Z"
   },
   {
    "duration": 21,
    "start_time": "2023-05-29T18:05:50.791Z"
   },
   {
    "duration": 7,
    "start_time": "2023-05-29T18:05:57.506Z"
   },
   {
    "duration": 5,
    "start_time": "2023-05-29T18:06:01.866Z"
   },
   {
    "duration": 3958,
    "start_time": "2023-05-29T18:06:11.880Z"
   },
   {
    "duration": 4184,
    "start_time": "2023-05-29T18:06:24.017Z"
   },
   {
    "duration": 45,
    "start_time": "2023-05-29T18:06:31.795Z"
   },
   {
    "duration": 428,
    "start_time": "2023-05-29T18:09:00.085Z"
   },
   {
    "duration": 56578,
    "start_time": "2023-05-29T18:09:02.802Z"
   },
   {
    "duration": 2665,
    "start_time": "2023-05-29T18:10:01.767Z"
   },
   {
    "duration": 52,
    "start_time": "2023-05-29T18:10:18.861Z"
   },
   {
    "duration": 6159,
    "start_time": "2023-05-29T18:10:28.218Z"
   },
   {
    "duration": 4,
    "start_time": "2023-05-29T18:11:07.479Z"
   },
   {
    "duration": 7,
    "start_time": "2023-05-29T18:11:20.819Z"
   },
   {
    "duration": 133,
    "start_time": "2023-05-29T18:11:38.239Z"
   },
   {
    "duration": 2624,
    "start_time": "2023-05-29T18:17:20.916Z"
   },
   {
    "duration": 2726,
    "start_time": "2023-05-29T18:17:26.230Z"
   },
   {
    "duration": 50,
    "start_time": "2023-05-29T18:18:22.224Z"
   },
   {
    "duration": 26432,
    "start_time": "2023-05-29T18:18:34.821Z"
   },
   {
    "duration": 5,
    "start_time": "2023-05-29T18:21:31.128Z"
   },
   {
    "duration": 6,
    "start_time": "2023-05-29T18:21:49.132Z"
   },
   {
    "duration": 8,
    "start_time": "2023-05-29T18:22:02.825Z"
   },
   {
    "duration": 675,
    "start_time": "2023-05-29T18:22:09.388Z"
   },
   {
    "duration": 52,
    "start_time": "2023-05-30T06:24:29.791Z"
   },
   {
    "duration": 1056,
    "start_time": "2023-05-30T06:24:35.876Z"
   },
   {
    "duration": 980,
    "start_time": "2023-05-30T06:24:36.934Z"
   },
   {
    "duration": 40,
    "start_time": "2023-05-30T06:24:37.915Z"
   },
   {
    "duration": 136,
    "start_time": "2023-05-30T06:24:37.957Z"
   },
   {
    "duration": 66,
    "start_time": "2023-05-30T06:24:38.095Z"
   },
   {
    "duration": 331,
    "start_time": "2023-05-30T06:24:38.163Z"
   },
   {
    "duration": 63,
    "start_time": "2023-05-30T06:24:44.200Z"
   },
   {
    "duration": 380,
    "start_time": "2023-05-30T06:25:35.652Z"
   },
   {
    "duration": 195,
    "start_time": "2023-05-30T06:26:04.267Z"
   },
   {
    "duration": 131,
    "start_time": "2023-05-30T06:27:04.226Z"
   },
   {
    "duration": 144,
    "start_time": "2023-05-30T06:27:27.365Z"
   },
   {
    "duration": 211,
    "start_time": "2023-05-30T06:27:33.763Z"
   },
   {
    "duration": 133,
    "start_time": "2023-05-30T06:27:45.401Z"
   },
   {
    "duration": 136,
    "start_time": "2023-05-30T06:28:04.093Z"
   },
   {
    "duration": 48,
    "start_time": "2023-05-30T06:28:08.515Z"
   },
   {
    "duration": 132,
    "start_time": "2023-05-30T06:28:18.804Z"
   },
   {
    "duration": 120,
    "start_time": "2023-05-30T06:28:47.466Z"
   },
   {
    "duration": 134,
    "start_time": "2023-05-30T06:29:12.064Z"
   },
   {
    "duration": 142,
    "start_time": "2023-05-30T06:29:14.788Z"
   },
   {
    "duration": 119,
    "start_time": "2023-05-30T06:29:20.464Z"
   },
   {
    "duration": 86,
    "start_time": "2023-05-30T06:29:22.207Z"
   },
   {
    "duration": 124,
    "start_time": "2023-05-30T06:29:30.864Z"
   },
   {
    "duration": 87,
    "start_time": "2023-05-30T06:29:32.649Z"
   },
   {
    "duration": 133,
    "start_time": "2023-05-30T06:29:34.713Z"
   },
   {
    "duration": 4,
    "start_time": "2023-05-30T06:29:45.219Z"
   },
   {
    "duration": 748,
    "start_time": "2023-05-30T06:29:45.225Z"
   },
   {
    "duration": 38,
    "start_time": "2023-05-30T06:29:45.974Z"
   },
   {
    "duration": 110,
    "start_time": "2023-05-30T06:29:46.024Z"
   },
   {
    "duration": 19,
    "start_time": "2023-05-30T06:29:46.137Z"
   },
   {
    "duration": 349,
    "start_time": "2023-05-30T06:29:46.158Z"
   },
   {
    "duration": 161,
    "start_time": "2023-05-30T06:29:46.508Z"
   },
   {
    "duration": 14,
    "start_time": "2023-05-30T06:29:46.671Z"
   },
   {
    "duration": 146,
    "start_time": "2023-05-30T06:29:46.686Z"
   },
   {
    "duration": 135,
    "start_time": "2023-05-30T06:29:56.274Z"
   },
   {
    "duration": 158,
    "start_time": "2023-05-30T06:29:58.486Z"
   },
   {
    "duration": 207,
    "start_time": "2023-05-30T06:30:09.942Z"
   },
   {
    "duration": 144,
    "start_time": "2023-05-30T06:30:14.709Z"
   },
   {
    "duration": 16,
    "start_time": "2023-05-30T06:30:50.472Z"
   },
   {
    "duration": 20,
    "start_time": "2023-05-30T06:31:55.463Z"
   },
   {
    "duration": 12,
    "start_time": "2023-05-30T06:32:07.806Z"
   },
   {
    "duration": 12,
    "start_time": "2023-05-30T06:32:22.358Z"
   },
   {
    "duration": 11,
    "start_time": "2023-05-30T06:32:27.370Z"
   },
   {
    "duration": 89,
    "start_time": "2023-05-30T06:32:37.080Z"
   },
   {
    "duration": 10,
    "start_time": "2023-05-30T06:32:44.171Z"
   },
   {
    "duration": 8,
    "start_time": "2023-05-30T06:33:22.678Z"
   },
   {
    "duration": 33,
    "start_time": "2023-05-30T06:33:26.044Z"
   },
   {
    "duration": 11,
    "start_time": "2023-05-30T06:35:01.306Z"
   },
   {
    "duration": 9,
    "start_time": "2023-05-30T06:35:12.985Z"
   },
   {
    "duration": 10,
    "start_time": "2023-05-30T06:36:56.273Z"
   },
   {
    "duration": 3,
    "start_time": "2023-05-30T06:37:01.617Z"
   },
   {
    "duration": 851,
    "start_time": "2023-05-30T06:37:01.622Z"
   },
   {
    "duration": 36,
    "start_time": "2023-05-30T06:37:02.474Z"
   },
   {
    "duration": 141,
    "start_time": "2023-05-30T06:37:02.512Z"
   },
   {
    "duration": 22,
    "start_time": "2023-05-30T06:37:02.656Z"
   },
   {
    "duration": 370,
    "start_time": "2023-05-30T06:37:02.680Z"
   },
   {
    "duration": 186,
    "start_time": "2023-05-30T06:37:03.053Z"
   },
   {
    "duration": 18,
    "start_time": "2023-05-30T06:37:03.241Z"
   },
   {
    "duration": 164,
    "start_time": "2023-05-30T06:37:03.262Z"
   },
   {
    "duration": 165,
    "start_time": "2023-05-30T06:37:03.428Z"
   },
   {
    "duration": 98,
    "start_time": "2023-05-30T06:37:03.594Z"
   },
   {
    "duration": 16,
    "start_time": "2023-05-30T06:37:03.694Z"
   },
   {
    "duration": 107,
    "start_time": "2023-05-30T06:37:03.726Z"
   },
   {
    "duration": 21,
    "start_time": "2023-05-30T06:37:16.866Z"
   },
   {
    "duration": 11,
    "start_time": "2023-05-30T06:37:18.244Z"
   },
   {
    "duration": 41,
    "start_time": "2023-05-30T06:37:48.303Z"
   },
   {
    "duration": 40,
    "start_time": "2023-05-30T06:38:01.676Z"
   },
   {
    "duration": 38,
    "start_time": "2023-05-30T06:38:22.772Z"
   },
   {
    "duration": 22,
    "start_time": "2023-05-30T06:38:32.851Z"
   },
   {
    "duration": 89,
    "start_time": "2023-05-30T06:39:03.163Z"
   },
   {
    "duration": 92,
    "start_time": "2023-05-30T06:39:30.025Z"
   },
   {
    "duration": 22,
    "start_time": "2023-05-30T06:39:38.355Z"
   },
   {
    "duration": 40,
    "start_time": "2023-05-30T06:40:10.176Z"
   },
   {
    "duration": 49,
    "start_time": "2023-05-30T06:40:24.926Z"
   },
   {
    "duration": 83,
    "start_time": "2023-05-30T06:40:26.843Z"
   },
   {
    "duration": 2320,
    "start_time": "2023-05-30T06:40:30.281Z"
   },
   {
    "duration": 176650,
    "start_time": "2023-05-30T06:40:41.081Z"
   },
   {
    "duration": 25216,
    "start_time": "2023-05-30T06:43:51.897Z"
   },
   {
    "duration": 19572,
    "start_time": "2023-05-30T06:44:34.118Z"
   },
   {
    "duration": 28,
    "start_time": "2023-05-30T06:44:56.293Z"
   },
   {
    "duration": 387,
    "start_time": "2023-05-30T06:47:40.412Z"
   },
   {
    "duration": 395,
    "start_time": "2023-05-30T06:48:05.448Z"
   },
   {
    "duration": 402,
    "start_time": "2023-05-30T06:52:52.976Z"
   },
   {
    "duration": 140,
    "start_time": "2023-05-30T06:54:51.497Z"
   },
   {
    "duration": 94,
    "start_time": "2023-05-30T06:55:05.999Z"
   },
   {
    "duration": 511,
    "start_time": "2023-05-30T06:55:27.275Z"
   },
   {
    "duration": 542,
    "start_time": "2023-05-30T06:58:44.879Z"
   },
   {
    "duration": 90,
    "start_time": "2023-05-30T06:59:02.510Z"
   },
   {
    "duration": 513,
    "start_time": "2023-05-30T06:59:36.907Z"
   },
   {
    "duration": 577,
    "start_time": "2023-05-30T06:59:47.588Z"
   },
   {
    "duration": 858,
    "start_time": "2023-05-30T07:02:24.418Z"
   },
   {
    "duration": 678,
    "start_time": "2023-05-30T07:03:21.196Z"
   },
   {
    "duration": 529,
    "start_time": "2023-05-30T07:04:23.875Z"
   },
   {
    "duration": 527,
    "start_time": "2023-05-30T07:06:49.958Z"
   },
   {
    "duration": 493,
    "start_time": "2023-05-30T07:06:56.693Z"
   },
   {
    "duration": 533,
    "start_time": "2023-05-30T07:07:34.537Z"
   },
   {
    "duration": 467,
    "start_time": "2023-05-30T07:08:22.252Z"
   },
   {
    "duration": 629,
    "start_time": "2023-05-30T07:10:36.175Z"
   },
   {
    "duration": 16,
    "start_time": "2023-05-30T07:11:10.469Z"
   },
   {
    "duration": 17,
    "start_time": "2023-05-30T07:11:44.788Z"
   },
   {
    "duration": 735,
    "start_time": "2023-05-30T07:12:51.857Z"
   },
   {
    "duration": 20,
    "start_time": "2023-05-30T07:13:00.358Z"
   },
   {
    "duration": 14,
    "start_time": "2023-05-30T07:13:33.531Z"
   },
   {
    "duration": 18,
    "start_time": "2023-05-30T07:13:59.258Z"
   },
   {
    "duration": 13,
    "start_time": "2023-05-30T07:14:14.400Z"
   },
   {
    "duration": 3272,
    "start_time": "2023-05-30T07:14:16.580Z"
   },
   {
    "duration": 30,
    "start_time": "2023-05-30T07:14:25.556Z"
   },
   {
    "duration": 11,
    "start_time": "2023-05-30T07:15:41.539Z"
   },
   {
    "duration": 16,
    "start_time": "2023-05-30T07:16:14.195Z"
   },
   {
    "duration": 30,
    "start_time": "2023-05-30T07:16:16.926Z"
   },
   {
    "duration": 5,
    "start_time": "2023-05-30T07:17:15.950Z"
   },
   {
    "duration": 710,
    "start_time": "2023-05-30T07:17:15.958Z"
   },
   {
    "duration": 35,
    "start_time": "2023-05-30T07:17:16.670Z"
   },
   {
    "duration": 131,
    "start_time": "2023-05-30T07:17:16.707Z"
   },
   {
    "duration": 23,
    "start_time": "2023-05-30T07:17:16.839Z"
   },
   {
    "duration": 317,
    "start_time": "2023-05-30T07:17:16.864Z"
   },
   {
    "duration": 184,
    "start_time": "2023-05-30T07:17:17.183Z"
   },
   {
    "duration": 18,
    "start_time": "2023-05-30T07:17:17.369Z"
   },
   {
    "duration": 228,
    "start_time": "2023-05-30T07:17:17.389Z"
   },
   {
    "duration": 170,
    "start_time": "2023-05-30T07:17:17.627Z"
   },
   {
    "duration": 26,
    "start_time": "2023-05-30T07:17:17.799Z"
   },
   {
    "duration": 39,
    "start_time": "2023-05-30T07:17:17.827Z"
   },
   {
    "duration": 76,
    "start_time": "2023-05-30T07:17:17.867Z"
   },
   {
    "duration": 37,
    "start_time": "2023-05-30T07:17:17.945Z"
   },
   {
    "duration": 108,
    "start_time": "2023-05-30T07:17:17.984Z"
   },
   {
    "duration": 117,
    "start_time": "2023-05-30T07:17:18.095Z"
   },
   {
    "duration": 747,
    "start_time": "2023-05-30T07:17:18.214Z"
   },
   {
    "duration": 30,
    "start_time": "2023-05-30T07:17:23.852Z"
   },
   {
    "duration": 16,
    "start_time": "2023-05-30T07:17:32.626Z"
   },
   {
    "duration": 18,
    "start_time": "2023-05-30T07:17:50.147Z"
   },
   {
    "duration": 701,
    "start_time": "2023-05-30T07:18:07.173Z"
   },
   {
    "duration": 16,
    "start_time": "2023-05-30T07:18:07.914Z"
   },
   {
    "duration": 22,
    "start_time": "2023-05-30T07:18:17.887Z"
   },
   {
    "duration": 11,
    "start_time": "2023-05-30T07:18:19.684Z"
   },
   {
    "duration": 19,
    "start_time": "2023-05-30T07:18:31.869Z"
   },
   {
    "duration": 14,
    "start_time": "2023-05-30T07:18:44.473Z"
   },
   {
    "duration": 17,
    "start_time": "2023-05-30T07:18:45.598Z"
   },
   {
    "duration": 113,
    "start_time": "2023-05-30T07:19:01.824Z"
   },
   {
    "duration": 18,
    "start_time": "2023-05-30T07:19:04.749Z"
   },
   {
    "duration": 39,
    "start_time": "2023-05-30T07:19:25.157Z"
   },
   {
    "duration": 35,
    "start_time": "2023-05-30T07:20:16.368Z"
   },
   {
    "duration": 47,
    "start_time": "2023-05-30T07:20:41.670Z"
   },
   {
    "duration": 18,
    "start_time": "2023-05-30T07:21:39.113Z"
   },
   {
    "duration": 1829,
    "start_time": "2023-05-30T07:22:27.218Z"
   },
   {
    "duration": 108,
    "start_time": "2023-05-30T07:22:53.435Z"
   },
   {
    "duration": 7,
    "start_time": "2023-05-30T07:22:57.574Z"
   },
   {
    "duration": 6,
    "start_time": "2023-05-30T07:23:03.095Z"
   },
   {
    "duration": 7,
    "start_time": "2023-05-30T07:23:20.058Z"
   },
   {
    "duration": 8,
    "start_time": "2023-05-30T07:23:21.282Z"
   },
   {
    "duration": 12,
    "start_time": "2023-05-30T07:24:03.637Z"
   },
   {
    "duration": 6,
    "start_time": "2023-05-30T07:24:33.689Z"
   },
   {
    "duration": 24,
    "start_time": "2023-05-30T07:24:36.631Z"
   },
   {
    "duration": 892,
    "start_time": "2023-05-30T07:32:04.094Z"
   },
   {
    "duration": 775,
    "start_time": "2023-05-30T07:32:09.213Z"
   },
   {
    "duration": 2064,
    "start_time": "2023-05-30T07:32:23.184Z"
   },
   {
    "duration": 11,
    "start_time": "2023-05-30T07:34:01.667Z"
   },
   {
    "duration": 12,
    "start_time": "2023-05-30T07:34:11.063Z"
   },
   {
    "duration": 104,
    "start_time": "2023-05-30T07:34:21.583Z"
   },
   {
    "duration": 6,
    "start_time": "2023-05-30T07:34:31.941Z"
   },
   {
    "duration": 54514,
    "start_time": "2023-05-30T07:35:29.098Z"
   },
   {
    "duration": 0,
    "start_time": "2023-05-30T07:36:57.267Z"
   },
   {
    "duration": 0,
    "start_time": "2023-05-30T07:37:04.712Z"
   },
   {
    "duration": 30274,
    "start_time": "2023-05-30T07:37:05.569Z"
   },
   {
    "duration": 0,
    "start_time": "2023-05-30T07:40:31.827Z"
   },
   {
    "duration": 23440,
    "start_time": "2023-05-30T07:40:32.889Z"
   },
   {
    "duration": 0,
    "start_time": "2023-05-30T07:40:56.332Z"
   },
   {
    "duration": 4,
    "start_time": "2023-05-30T07:40:59.843Z"
   },
   {
    "duration": 814,
    "start_time": "2023-05-30T07:40:59.849Z"
   },
   {
    "duration": 35,
    "start_time": "2023-05-30T07:41:00.665Z"
   },
   {
    "duration": 142,
    "start_time": "2023-05-30T07:41:00.702Z"
   },
   {
    "duration": 47,
    "start_time": "2023-05-30T07:41:00.846Z"
   },
   {
    "duration": 429,
    "start_time": "2023-05-30T07:41:00.895Z"
   },
   {
    "duration": 191,
    "start_time": "2023-05-30T07:41:01.326Z"
   },
   {
    "duration": 25,
    "start_time": "2023-05-30T07:41:01.519Z"
   },
   {
    "duration": 154,
    "start_time": "2023-05-30T07:41:01.545Z"
   },
   {
    "duration": 187,
    "start_time": "2023-05-30T07:41:01.700Z"
   },
   {
    "duration": 16,
    "start_time": "2023-05-30T07:41:01.889Z"
   },
   {
    "duration": 67,
    "start_time": "2023-05-30T07:41:01.907Z"
   },
   {
    "duration": 41,
    "start_time": "2023-05-30T07:41:01.976Z"
   },
   {
    "duration": 48,
    "start_time": "2023-05-30T07:41:02.030Z"
   },
   {
    "duration": 114,
    "start_time": "2023-05-30T07:41:02.079Z"
   },
   {
    "duration": 167,
    "start_time": "2023-05-30T07:41:02.195Z"
   },
   {
    "duration": 869,
    "start_time": "2023-05-30T07:41:02.364Z"
   },
   {
    "duration": 16,
    "start_time": "2023-05-30T07:41:03.236Z"
   },
   {
    "duration": 95,
    "start_time": "2023-05-30T07:41:03.253Z"
   },
   {
    "duration": 14,
    "start_time": "2023-05-30T07:41:03.349Z"
   },
   {
    "duration": 36,
    "start_time": "2023-05-30T07:41:03.364Z"
   },
   {
    "duration": 39,
    "start_time": "2023-05-30T07:41:03.401Z"
   },
   {
    "duration": 104,
    "start_time": "2023-05-30T07:41:03.443Z"
   },
   {
    "duration": 7,
    "start_time": "2023-05-30T07:41:03.548Z"
   },
   {
    "duration": 20,
    "start_time": "2023-05-30T07:41:03.556Z"
   },
   {
    "duration": 2300,
    "start_time": "2023-05-30T07:41:03.578Z"
   },
   {
    "duration": 6,
    "start_time": "2023-05-30T07:41:05.880Z"
   },
   {
    "duration": 0,
    "start_time": "2023-05-30T07:41:37.673Z"
   },
   {
    "duration": 0,
    "start_time": "2023-05-30T07:41:49.270Z"
   },
   {
    "duration": 27971,
    "start_time": "2023-05-30T07:41:49.561Z"
   },
   {
    "duration": 14,
    "start_time": "2023-05-30T07:43:55.453Z"
   },
   {
    "duration": 4,
    "start_time": "2023-05-30T07:44:00.299Z"
   },
   {
    "duration": 923,
    "start_time": "2023-05-30T07:44:00.306Z"
   },
   {
    "duration": 43,
    "start_time": "2023-05-30T07:44:01.230Z"
   },
   {
    "duration": 148,
    "start_time": "2023-05-30T07:44:01.276Z"
   },
   {
    "duration": 75,
    "start_time": "2023-05-30T07:44:01.426Z"
   },
   {
    "duration": 425,
    "start_time": "2023-05-30T07:44:01.503Z"
   },
   {
    "duration": 297,
    "start_time": "2023-05-30T07:44:01.930Z"
   },
   {
    "duration": 18,
    "start_time": "2023-05-30T07:44:02.229Z"
   },
   {
    "duration": 152,
    "start_time": "2023-05-30T07:44:02.248Z"
   },
   {
    "duration": 173,
    "start_time": "2023-05-30T07:44:02.403Z"
   },
   {
    "duration": 17,
    "start_time": "2023-05-30T07:44:02.578Z"
   },
   {
    "duration": 81,
    "start_time": "2023-05-30T07:44:02.597Z"
   },
   {
    "duration": 67,
    "start_time": "2023-05-30T07:44:02.680Z"
   },
   {
    "duration": 102,
    "start_time": "2023-05-30T07:44:02.748Z"
   },
   {
    "duration": 138,
    "start_time": "2023-05-30T07:44:02.852Z"
   },
   {
    "duration": 161,
    "start_time": "2023-05-30T07:44:02.992Z"
   },
   {
    "duration": 750,
    "start_time": "2023-05-30T07:44:03.154Z"
   },
   {
    "duration": 18,
    "start_time": "2023-05-30T07:44:03.905Z"
   },
   {
    "duration": 48,
    "start_time": "2023-05-30T07:44:03.926Z"
   },
   {
    "duration": 21,
    "start_time": "2023-05-30T07:44:03.975Z"
   },
   {
    "duration": 61,
    "start_time": "2023-05-30T07:44:03.998Z"
   },
   {
    "duration": 16,
    "start_time": "2023-05-30T07:44:04.060Z"
   },
   {
    "duration": 109,
    "start_time": "2023-05-30T07:44:04.078Z"
   },
   {
    "duration": 6,
    "start_time": "2023-05-30T07:44:04.188Z"
   },
   {
    "duration": 11,
    "start_time": "2023-05-30T07:44:09.518Z"
   },
   {
    "duration": 69,
    "start_time": "2023-05-30T07:44:12.899Z"
   },
   {
    "duration": 11044,
    "start_time": "2023-05-30T07:44:14.541Z"
   },
   {
    "duration": 18,
    "start_time": "2023-05-30T07:44:30.622Z"
   },
   {
    "duration": 15,
    "start_time": "2023-05-30T07:44:45.509Z"
   },
   {
    "duration": 6,
    "start_time": "2023-05-30T07:45:00.241Z"
   },
   {
    "duration": 3672,
    "start_time": "2023-05-30T07:45:09.387Z"
   },
   {
    "duration": 4899,
    "start_time": "2023-05-30T07:46:22.999Z"
   },
   {
    "duration": 35093,
    "start_time": "2023-05-30T07:46:30.508Z"
   },
   {
    "duration": 51353,
    "start_time": "2023-05-30T07:48:33.600Z"
   },
   {
    "duration": 273,
    "start_time": "2023-05-30T07:49:26.479Z"
   },
   {
    "duration": 85,
    "start_time": "2023-05-30T07:49:35.229Z"
   },
   {
    "duration": 70,
    "start_time": "2023-05-30T07:49:46.364Z"
   },
   {
    "duration": 334760,
    "start_time": "2023-05-30T07:50:28.280Z"
   },
   {
    "duration": 507,
    "start_time": "2023-05-30T07:57:28.350Z"
   },
   {
    "duration": 3100,
    "start_time": "2023-05-30T07:57:31.544Z"
   },
   {
    "duration": 190,
    "start_time": "2023-05-30T07:57:36.141Z"
   },
   {
    "duration": 149,
    "start_time": "2023-05-30T07:57:55.481Z"
   },
   {
    "duration": 3332,
    "start_time": "2023-05-30T15:42:35.209Z"
   },
   {
    "duration": 1393,
    "start_time": "2023-05-30T15:42:38.544Z"
   },
   {
    "duration": 54,
    "start_time": "2023-05-30T15:42:39.939Z"
   },
   {
    "duration": 261,
    "start_time": "2023-05-30T15:42:39.996Z"
   },
   {
    "duration": 113,
    "start_time": "2023-05-30T15:42:40.260Z"
   },
   {
    "duration": 490,
    "start_time": "2023-05-30T15:42:40.375Z"
   },
   {
    "duration": 217,
    "start_time": "2023-05-30T15:42:40.867Z"
   },
   {
    "duration": 20,
    "start_time": "2023-05-30T15:42:41.087Z"
   },
   {
    "duration": 199,
    "start_time": "2023-05-30T15:42:41.109Z"
   },
   {
    "duration": 203,
    "start_time": "2023-05-30T15:42:41.311Z"
   },
   {
    "duration": 26,
    "start_time": "2023-05-30T15:42:41.516Z"
   },
   {
    "duration": 97,
    "start_time": "2023-05-30T15:42:41.544Z"
   },
   {
    "duration": 39,
    "start_time": "2023-05-30T15:42:41.643Z"
   },
   {
    "duration": 78,
    "start_time": "2023-05-30T15:42:41.686Z"
   },
   {
    "duration": 102,
    "start_time": "2023-05-30T15:42:41.766Z"
   },
   {
    "duration": 124,
    "start_time": "2023-05-30T15:42:41.871Z"
   },
   {
    "duration": 716,
    "start_time": "2023-05-30T15:42:41.997Z"
   },
   {
    "duration": 128,
    "start_time": "2023-05-30T15:42:42.715Z"
   },
   {
    "duration": 58,
    "start_time": "2023-05-30T15:42:42.845Z"
   },
   {
    "duration": 44,
    "start_time": "2023-05-30T15:42:42.905Z"
   },
   {
    "duration": 114,
    "start_time": "2023-05-30T15:42:42.951Z"
   },
   {
    "duration": 236,
    "start_time": "2023-05-30T15:42:43.068Z"
   },
   {
    "duration": 10,
    "start_time": "2023-05-30T15:42:43.306Z"
   },
   {
    "duration": 123,
    "start_time": "2023-05-30T15:42:43.318Z"
   },
   {
    "duration": 80,
    "start_time": "2023-05-30T15:42:43.443Z"
   },
   {
    "duration": 6821,
    "start_time": "2023-05-30T15:42:43.526Z"
   },
   {
    "duration": 604,
    "start_time": "2023-05-30T15:42:50.349Z"
   },
   {
    "duration": 3940,
    "start_time": "2023-05-30T15:42:50.956Z"
   },
   {
    "duration": 148,
    "start_time": "2023-05-30T15:42:54.898Z"
   },
   {
    "duration": 3586,
    "start_time": "2023-05-30T15:46:08.632Z"
   },
   {
    "duration": 3838,
    "start_time": "2023-05-30T15:46:18.466Z"
   },
   {
    "duration": 1668,
    "start_time": "2023-05-31T10:20:40.258Z"
   },
   {
    "duration": 2853,
    "start_time": "2023-05-31T10:20:42.974Z"
   },
   {
    "duration": 37,
    "start_time": "2023-05-31T10:20:46.597Z"
   },
   {
    "duration": 4,
    "start_time": "2023-05-31T10:23:06.504Z"
   },
   {
    "duration": 909,
    "start_time": "2023-05-31T10:23:07.704Z"
   },
   {
    "duration": 119,
    "start_time": "2023-05-31T10:23:10.356Z"
   },
   {
    "duration": 31,
    "start_time": "2023-05-31T10:23:14.240Z"
   },
   {
    "duration": 500,
    "start_time": "2023-05-31T10:23:16.146Z"
   },
   {
    "duration": 306,
    "start_time": "2023-05-31T10:23:52.206Z"
   },
   {
    "duration": 25,
    "start_time": "2023-05-31T10:24:02.541Z"
   },
   {
    "duration": 187,
    "start_time": "2023-05-31T10:24:27.709Z"
   },
   {
    "duration": 173,
    "start_time": "2023-05-31T10:24:30.447Z"
   },
   {
    "duration": 157,
    "start_time": "2023-05-31T10:24:40.760Z"
   },
   {
    "duration": 232,
    "start_time": "2023-05-31T10:24:43.392Z"
   },
   {
    "duration": 191,
    "start_time": "2023-05-31T10:27:53.732Z"
   },
   {
    "duration": 144,
    "start_time": "2023-05-31T10:27:56.333Z"
   },
   {
    "duration": 36,
    "start_time": "2023-05-31T10:30:46.891Z"
   },
   {
    "duration": 93,
    "start_time": "2023-05-31T10:30:47.427Z"
   },
   {
    "duration": 31,
    "start_time": "2023-05-31T10:30:50.434Z"
   },
   {
    "duration": 28,
    "start_time": "2023-05-31T10:33:34.942Z"
   },
   {
    "duration": 69,
    "start_time": "2023-05-31T10:39:06.428Z"
   },
   {
    "duration": 4,
    "start_time": "2023-05-31T10:39:28.642Z"
   },
   {
    "duration": 729,
    "start_time": "2023-05-31T10:39:28.648Z"
   },
   {
    "duration": 114,
    "start_time": "2023-05-31T10:39:29.379Z"
   },
   {
    "duration": 19,
    "start_time": "2023-05-31T10:39:29.495Z"
   },
   {
    "duration": 446,
    "start_time": "2023-05-31T10:39:29.516Z"
   },
   {
    "duration": 188,
    "start_time": "2023-05-31T10:39:29.964Z"
   },
   {
    "duration": 14,
    "start_time": "2023-05-31T10:39:30.153Z"
   },
   {
    "duration": 52,
    "start_time": "2023-05-31T10:39:30.168Z"
   },
   {
    "duration": 191,
    "start_time": "2023-05-31T10:39:30.222Z"
   },
   {
    "duration": 192,
    "start_time": "2023-05-31T10:39:30.415Z"
   },
   {
    "duration": 14,
    "start_time": "2023-05-31T10:39:30.609Z"
   },
   {
    "duration": 81,
    "start_time": "2023-05-31T10:39:30.625Z"
   },
   {
    "duration": 33,
    "start_time": "2023-05-31T10:39:30.708Z"
   },
   {
    "duration": 56,
    "start_time": "2023-05-31T10:39:30.743Z"
   },
   {
    "duration": 106,
    "start_time": "2023-05-31T10:39:30.801Z"
   },
   {
    "duration": 42,
    "start_time": "2023-05-31T10:39:30.908Z"
   },
   {
    "duration": 27,
    "start_time": "2023-05-31T10:39:30.952Z"
   },
   {
    "duration": 53,
    "start_time": "2023-05-31T10:39:32.121Z"
   },
   {
    "duration": 182,
    "start_time": "2023-05-31T10:50:21.100Z"
   },
   {
    "duration": 105,
    "start_time": "2023-05-31T10:50:30.272Z"
   },
   {
    "duration": 88,
    "start_time": "2023-05-31T10:50:34.602Z"
   },
   {
    "duration": 13,
    "start_time": "2023-05-31T10:51:37.435Z"
   },
   {
    "duration": 72,
    "start_time": "2023-05-31T10:51:43.118Z"
   },
   {
    "duration": 21,
    "start_time": "2023-05-31T10:54:00.321Z"
   },
   {
    "duration": 4,
    "start_time": "2023-05-31T10:54:26.400Z"
   },
   {
    "duration": 8748,
    "start_time": "2023-05-31T10:54:41.525Z"
   },
   {
    "duration": 8621,
    "start_time": "2023-05-31T10:56:32.507Z"
   },
   {
    "duration": 22,
    "start_time": "2023-05-31T10:56:54.367Z"
   },
   {
    "duration": 8793,
    "start_time": "2023-05-31T10:59:11.430Z"
   },
   {
    "duration": 8025,
    "start_time": "2023-05-31T11:00:59.205Z"
   },
   {
    "duration": 8895,
    "start_time": "2023-05-31T11:01:18.432Z"
   },
   {
    "duration": 4,
    "start_time": "2023-05-31T11:02:39.685Z"
   },
   {
    "duration": 5,
    "start_time": "2023-05-31T11:03:00.580Z"
   },
   {
    "duration": 7731,
    "start_time": "2023-05-31T11:03:01.585Z"
   },
   {
    "duration": 19,
    "start_time": "2023-05-31T11:03:36.299Z"
   },
   {
    "duration": 21,
    "start_time": "2023-05-31T11:07:00.495Z"
   },
   {
    "duration": 4,
    "start_time": "2023-05-31T11:07:09.651Z"
   },
   {
    "duration": 8384,
    "start_time": "2023-05-31T11:07:16.061Z"
   },
   {
    "duration": 37,
    "start_time": "2023-05-31T11:08:47.305Z"
   },
   {
    "duration": 12,
    "start_time": "2023-05-31T11:08:51.381Z"
   },
   {
    "duration": 8234,
    "start_time": "2023-05-31T11:08:57.932Z"
   },
   {
    "duration": 8344,
    "start_time": "2023-05-31T11:09:07.937Z"
   },
   {
    "duration": 19,
    "start_time": "2023-05-31T11:09:16.935Z"
   },
   {
    "duration": 83,
    "start_time": "2023-05-31T11:09:17.721Z"
   },
   {
    "duration": 24,
    "start_time": "2023-05-31T11:09:25.093Z"
   },
   {
    "duration": 3,
    "start_time": "2023-05-31T11:09:36.234Z"
   },
   {
    "duration": 21,
    "start_time": "2023-05-31T11:09:37.390Z"
   },
   {
    "duration": 3,
    "start_time": "2023-05-31T11:09:46.905Z"
   },
   {
    "duration": 84,
    "start_time": "2023-05-31T11:09:48.373Z"
   },
   {
    "duration": 28,
    "start_time": "2023-05-31T11:09:50.854Z"
   },
   {
    "duration": 20,
    "start_time": "2023-05-31T11:09:51.927Z"
   },
   {
    "duration": 5,
    "start_time": "2023-05-31T11:10:05.495Z"
   },
   {
    "duration": 5,
    "start_time": "2023-05-31T11:10:34.175Z"
   },
   {
    "duration": 58,
    "start_time": "2023-05-31T11:10:34.818Z"
   },
   {
    "duration": 3,
    "start_time": "2023-05-31T11:10:53.708Z"
   },
   {
    "duration": 61,
    "start_time": "2023-05-31T11:10:54.378Z"
   },
   {
    "duration": 7865,
    "start_time": "2023-05-31T11:14:32.547Z"
   },
   {
    "duration": 7879,
    "start_time": "2023-05-31T11:15:01.556Z"
   },
   {
    "duration": 7732,
    "start_time": "2023-05-31T11:16:21.403Z"
   },
   {
    "duration": 8037,
    "start_time": "2023-05-31T11:17:01.322Z"
   },
   {
    "duration": 44,
    "start_time": "2023-05-31T11:17:23.428Z"
   },
   {
    "duration": 7673,
    "start_time": "2023-05-31T11:17:48.207Z"
   },
   {
    "duration": 7502,
    "start_time": "2023-05-31T11:18:33.396Z"
   },
   {
    "duration": 47,
    "start_time": "2023-05-31T11:27:47.383Z"
   },
   {
    "duration": 7743,
    "start_time": "2023-05-31T11:47:55.961Z"
   },
   {
    "duration": 61,
    "start_time": "2023-05-31T11:51:13.926Z"
   },
   {
    "duration": 8102,
    "start_time": "2023-05-31T11:51:16.948Z"
   },
   {
    "duration": 7760,
    "start_time": "2023-05-31T11:51:42.865Z"
   },
   {
    "duration": 6074,
    "start_time": "2023-05-31T11:52:42.808Z"
   },
   {
    "duration": 7943,
    "start_time": "2023-05-31T11:52:50.350Z"
   },
   {
    "duration": 8331,
    "start_time": "2023-05-31T11:53:59.697Z"
   },
   {
    "duration": 48,
    "start_time": "2023-05-31T11:54:39.192Z"
   },
   {
    "duration": 53,
    "start_time": "2023-05-31T11:54:54.619Z"
   },
   {
    "duration": 233,
    "start_time": "2023-05-31T11:57:00.042Z"
   },
   {
    "duration": 50,
    "start_time": "2023-05-31T11:57:11.256Z"
   },
   {
    "duration": 8307,
    "start_time": "2023-05-31T11:57:15.779Z"
   },
   {
    "duration": 7959,
    "start_time": "2023-05-31T11:57:35.903Z"
   },
   {
    "duration": 8130,
    "start_time": "2023-05-31T11:58:06.466Z"
   },
   {
    "duration": 1560,
    "start_time": "2023-05-31T15:44:18.304Z"
   },
   {
    "duration": 1034,
    "start_time": "2023-05-31T15:44:19.866Z"
   },
   {
    "duration": 125,
    "start_time": "2023-05-31T15:44:20.902Z"
   },
   {
    "duration": 22,
    "start_time": "2023-05-31T15:44:21.028Z"
   },
   {
    "duration": 474,
    "start_time": "2023-05-31T15:44:21.051Z"
   },
   {
    "duration": 206,
    "start_time": "2023-05-31T15:44:21.526Z"
   },
   {
    "duration": 16,
    "start_time": "2023-05-31T15:44:21.734Z"
   },
   {
    "duration": 36,
    "start_time": "2023-05-31T15:44:21.752Z"
   },
   {
    "duration": 165,
    "start_time": "2023-05-31T15:44:21.790Z"
   },
   {
    "duration": 172,
    "start_time": "2023-05-31T15:44:21.957Z"
   },
   {
    "duration": 15,
    "start_time": "2023-05-31T15:44:22.131Z"
   },
   {
    "duration": 53,
    "start_time": "2023-05-31T15:44:22.147Z"
   },
   {
    "duration": 41,
    "start_time": "2023-05-31T15:44:22.201Z"
   },
   {
    "duration": 52,
    "start_time": "2023-05-31T15:44:22.244Z"
   },
   {
    "duration": 119,
    "start_time": "2023-05-31T15:44:22.298Z"
   },
   {
    "duration": 26,
    "start_time": "2023-05-31T15:44:22.419Z"
   },
   {
    "duration": 45,
    "start_time": "2023-05-31T15:44:22.447Z"
   },
   {
    "duration": 152,
    "start_time": "2023-05-31T15:44:22.494Z"
   },
   {
    "duration": 14,
    "start_time": "2023-05-31T15:44:22.647Z"
   },
   {
    "duration": 76,
    "start_time": "2023-05-31T15:44:22.663Z"
   },
   {
    "duration": 7487,
    "start_time": "2023-05-31T15:46:42.391Z"
   },
   {
    "duration": 7578,
    "start_time": "2023-05-31T15:49:53.019Z"
   },
   {
    "duration": 7366,
    "start_time": "2023-05-31T15:50:57.222Z"
   },
   {
    "duration": 13,
    "start_time": "2023-05-31T15:51:24.913Z"
   },
   {
    "duration": 7646,
    "start_time": "2023-05-31T15:52:04.490Z"
   },
   {
    "duration": 265,
    "start_time": "2023-05-31T15:52:31.546Z"
   },
   {
    "duration": 7697,
    "start_time": "2023-05-31T15:52:37.141Z"
   },
   {
    "duration": 10,
    "start_time": "2023-05-31T15:53:21.393Z"
   },
   {
    "duration": 5,
    "start_time": "2023-05-31T15:53:46.047Z"
   },
   {
    "duration": 119,
    "start_time": "2023-05-31T15:53:59.196Z"
   },
   {
    "duration": 17,
    "start_time": "2023-05-31T15:57:42.343Z"
   },
   {
    "duration": 9786,
    "start_time": "2023-05-31T15:59:40.233Z"
   },
   {
    "duration": 10,
    "start_time": "2023-05-31T16:00:45.202Z"
   },
   {
    "duration": 7934,
    "start_time": "2023-05-31T16:02:41.265Z"
   },
   {
    "duration": 9763,
    "start_time": "2023-05-31T16:04:04.841Z"
   },
   {
    "duration": 9,
    "start_time": "2023-05-31T16:04:19.054Z"
   },
   {
    "duration": 9828,
    "start_time": "2023-05-31T16:04:25.057Z"
   },
   {
    "duration": 10,
    "start_time": "2023-05-31T16:04:46.890Z"
   },
   {
    "duration": 7774,
    "start_time": "2023-05-31T16:05:14.339Z"
   },
   {
    "duration": 184,
    "start_time": "2023-05-31T16:08:17.381Z"
   },
   {
    "duration": 19,
    "start_time": "2023-05-31T16:08:26.103Z"
   },
   {
    "duration": 354,
    "start_time": "2023-05-31T16:09:02.706Z"
   },
   {
    "duration": 7629,
    "start_time": "2023-05-31T16:09:15.525Z"
   },
   {
    "duration": 7535,
    "start_time": "2023-05-31T16:09:28.367Z"
   },
   {
    "duration": 10,
    "start_time": "2023-05-31T16:09:39.452Z"
   },
   {
    "duration": 411,
    "start_time": "2023-05-31T16:10:21.793Z"
   },
   {
    "duration": 150,
    "start_time": "2023-05-31T16:10:23.995Z"
   },
   {
    "duration": 9538,
    "start_time": "2023-05-31T16:10:43.007Z"
   },
   {
    "duration": 11,
    "start_time": "2023-05-31T16:10:54.273Z"
   },
   {
    "duration": 400,
    "start_time": "2023-05-31T16:11:22.526Z"
   },
   {
    "duration": 8258,
    "start_time": "2023-05-31T16:11:35.756Z"
   },
   {
    "duration": 85,
    "start_time": "2023-05-31T16:17:05.206Z"
   },
   {
    "duration": 15,
    "start_time": "2023-05-31T16:17:07.736Z"
   },
   {
    "duration": 16,
    "start_time": "2023-05-31T16:17:32.567Z"
   },
   {
    "duration": 3692,
    "start_time": "2023-05-31T16:18:00.212Z"
   },
   {
    "duration": 407,
    "start_time": "2023-05-31T16:18:07.272Z"
   },
   {
    "duration": 1304,
    "start_time": "2023-05-31T16:19:57.790Z"
   },
   {
    "duration": 16,
    "start_time": "2023-05-31T16:20:05.522Z"
   },
   {
    "duration": 7,
    "start_time": "2023-05-31T16:20:23.593Z"
   },
   {
    "duration": 142,
    "start_time": "2023-05-31T16:20:24.650Z"
   },
   {
    "duration": 750,
    "start_time": "2023-05-31T16:20:26.654Z"
   },
   {
    "duration": 721,
    "start_time": "2023-05-31T16:20:32.536Z"
   },
   {
    "duration": 20,
    "start_time": "2023-05-31T16:20:56.817Z"
   },
   {
    "duration": 2414,
    "start_time": "2023-05-31T16:21:17.665Z"
   },
   {
    "duration": 6,
    "start_time": "2023-05-31T16:21:20.082Z"
   },
   {
    "duration": 995,
    "start_time": "2023-05-31T16:21:20.091Z"
   },
   {
    "duration": 158,
    "start_time": "2023-05-31T16:21:21.089Z"
   },
   {
    "duration": 39,
    "start_time": "2023-05-31T16:21:21.249Z"
   },
   {
    "duration": 498,
    "start_time": "2023-05-31T16:21:21.290Z"
   },
   {
    "duration": 226,
    "start_time": "2023-05-31T16:21:21.790Z"
   },
   {
    "duration": 18,
    "start_time": "2023-05-31T16:21:22.018Z"
   },
   {
    "duration": 50,
    "start_time": "2023-05-31T16:21:22.039Z"
   },
   {
    "duration": 177,
    "start_time": "2023-05-31T16:21:22.092Z"
   },
   {
    "duration": 187,
    "start_time": "2023-05-31T16:21:22.277Z"
   },
   {
    "duration": 21,
    "start_time": "2023-05-31T16:21:22.465Z"
   },
   {
    "duration": 49,
    "start_time": "2023-05-31T16:21:22.488Z"
   },
   {
    "duration": 63,
    "start_time": "2023-05-31T16:21:22.539Z"
   },
   {
    "duration": 41,
    "start_time": "2023-05-31T16:21:22.604Z"
   },
   {
    "duration": 149,
    "start_time": "2023-05-31T16:21:22.648Z"
   },
   {
    "duration": 30,
    "start_time": "2023-05-31T16:21:22.799Z"
   },
   {
    "duration": 29,
    "start_time": "2023-05-31T16:21:22.831Z"
   },
   {
    "duration": 79,
    "start_time": "2023-05-31T16:21:22.877Z"
   },
   {
    "duration": 33,
    "start_time": "2023-05-31T16:21:22.958Z"
   },
   {
    "duration": 100,
    "start_time": "2023-05-31T16:21:22.993Z"
   },
   {
    "duration": 1315,
    "start_time": "2023-05-31T16:21:25.616Z"
   },
   {
    "duration": 25,
    "start_time": "2023-05-31T16:21:31.730Z"
   },
   {
    "duration": 139,
    "start_time": "2023-05-31T16:21:51.634Z"
   },
   {
    "duration": 20,
    "start_time": "2023-05-31T16:21:57.050Z"
   },
   {
    "duration": 127,
    "start_time": "2023-05-31T16:22:22.635Z"
   },
   {
    "duration": 20,
    "start_time": "2023-05-31T16:22:24.907Z"
   },
   {
    "duration": 1369,
    "start_time": "2023-05-31T16:22:31.520Z"
   },
   {
    "duration": 137,
    "start_time": "2023-05-31T16:22:39.730Z"
   },
   {
    "duration": 20,
    "start_time": "2023-05-31T16:22:42.187Z"
   },
   {
    "duration": 76,
    "start_time": "2023-05-31T16:23:06.910Z"
   },
   {
    "duration": 127,
    "start_time": "2023-05-31T16:23:08.345Z"
   },
   {
    "duration": 28,
    "start_time": "2023-05-31T16:23:14.820Z"
   },
   {
    "duration": 1237,
    "start_time": "2023-05-31T16:23:18.540Z"
   },
   {
    "duration": 16,
    "start_time": "2023-05-31T16:23:24.979Z"
   },
   {
    "duration": 1216,
    "start_time": "2023-05-31T16:23:40.786Z"
   },
   {
    "duration": 62,
    "start_time": "2023-05-31T16:23:55.648Z"
   },
   {
    "duration": 86,
    "start_time": "2023-05-31T16:24:56.303Z"
   },
   {
    "duration": 1305,
    "start_time": "2023-05-31T16:24:57.293Z"
   },
   {
    "duration": 111,
    "start_time": "2023-05-31T16:26:04.951Z"
   },
   {
    "duration": 49,
    "start_time": "2023-05-31T16:26:27.575Z"
   },
   {
    "duration": 6,
    "start_time": "2023-05-31T16:26:34.536Z"
   },
   {
    "duration": 63,
    "start_time": "2023-05-31T16:27:47.948Z"
   },
   {
    "duration": 1141,
    "start_time": "2023-05-31T16:27:48.988Z"
   },
   {
    "duration": 310,
    "start_time": "2023-05-31T16:27:51.899Z"
   },
   {
    "duration": 15,
    "start_time": "2023-05-31T16:27:53.769Z"
   },
   {
    "duration": 129,
    "start_time": "2023-05-31T16:28:09.237Z"
   },
   {
    "duration": 58,
    "start_time": "2023-05-31T16:28:22.581Z"
   },
   {
    "duration": 1195,
    "start_time": "2023-05-31T16:28:23.356Z"
   },
   {
    "duration": 330,
    "start_time": "2023-05-31T16:28:24.880Z"
   },
   {
    "duration": 5059,
    "start_time": "2023-05-31T16:28:29.123Z"
   },
   {
    "duration": 7051,
    "start_time": "2023-05-31T16:28:44.926Z"
   },
   {
    "duration": 153,
    "start_time": "2023-05-31T16:28:59.334Z"
   },
   {
    "duration": 180,
    "start_time": "2023-05-31T16:29:12.613Z"
   },
   {
    "duration": 186,
    "start_time": "2023-05-31T16:29:31.406Z"
   },
   {
    "duration": 132,
    "start_time": "2023-05-31T16:30:01.885Z"
   },
   {
    "duration": 215,
    "start_time": "2023-05-31T16:30:06.387Z"
   },
   {
    "duration": 280,
    "start_time": "2023-05-31T16:30:20.697Z"
   },
   {
    "duration": 199,
    "start_time": "2023-05-31T16:30:30.695Z"
   },
   {
    "duration": 118512,
    "start_time": "2023-05-31T16:33:46.840Z"
   },
   {
    "duration": 237897,
    "start_time": "2023-05-31T16:35:56.494Z"
   },
   {
    "duration": 169815,
    "start_time": "2023-05-31T16:40:25.266Z"
   },
   {
    "duration": 11163,
    "start_time": "2023-05-31T16:43:43.617Z"
   },
   {
    "duration": 8525,
    "start_time": "2023-05-31T16:44:09.036Z"
   },
   {
    "duration": 8753,
    "start_time": "2023-05-31T16:44:31.332Z"
   },
   {
    "duration": 76,
    "start_time": "2023-05-31T16:44:49.312Z"
   },
   {
    "duration": 22676,
    "start_time": "2023-05-31T16:45:24.732Z"
   },
   {
    "duration": 3,
    "start_time": "2023-05-31T16:45:47.412Z"
   },
   {
    "duration": 691539,
    "start_time": "2023-05-31T16:45:55.756Z"
   },
   {
    "duration": 3535,
    "start_time": "2023-05-31T16:57:27.296Z"
   },
   {
    "duration": 249,
    "start_time": "2023-05-31T16:57:30.834Z"
   },
   {
    "duration": 3378,
    "start_time": "2023-05-31T16:58:25.747Z"
   },
   {
    "duration": 28423,
    "start_time": "2023-05-31T16:58:30.433Z"
   },
   {
    "duration": 3523,
    "start_time": "2023-05-31T16:58:58.859Z"
   },
   {
    "duration": 404,
    "start_time": "2023-05-31T16:59:02.384Z"
   },
   {
    "duration": 187,
    "start_time": "2023-05-31T16:59:02.790Z"
   },
   {
    "duration": 11811,
    "start_time": "2023-05-31T18:29:06.377Z"
   },
   {
    "duration": 6,
    "start_time": "2023-05-31T18:34:45.091Z"
   },
   {
    "duration": 9,
    "start_time": "2023-05-31T18:34:59.267Z"
   },
   {
    "duration": 3298,
    "start_time": "2023-06-01T16:54:05.103Z"
   },
   {
    "duration": 3108,
    "start_time": "2023-06-01T16:54:08.404Z"
   },
   {
    "duration": 3039,
    "start_time": "2023-06-01T16:54:11.514Z"
   },
   {
    "duration": 115,
    "start_time": "2023-06-01T16:54:14.555Z"
   },
   {
    "duration": 20,
    "start_time": "2023-06-01T16:54:14.672Z"
   },
   {
    "duration": 528,
    "start_time": "2023-06-01T16:54:14.694Z"
   },
   {
    "duration": 209,
    "start_time": "2023-06-01T16:54:15.224Z"
   },
   {
    "duration": 23,
    "start_time": "2023-06-01T16:54:15.434Z"
   },
   {
    "duration": 21,
    "start_time": "2023-06-01T16:54:15.459Z"
   },
   {
    "duration": 256,
    "start_time": "2023-06-01T16:54:15.483Z"
   },
   {
    "duration": 186,
    "start_time": "2023-06-01T16:54:15.741Z"
   },
   {
    "duration": 14,
    "start_time": "2023-06-01T16:54:15.928Z"
   },
   {
    "duration": 67,
    "start_time": "2023-06-01T16:54:15.943Z"
   },
   {
    "duration": 49,
    "start_time": "2023-06-01T16:54:16.012Z"
   },
   {
    "duration": 31,
    "start_time": "2023-06-01T16:54:16.063Z"
   },
   {
    "duration": 90,
    "start_time": "2023-06-01T16:54:16.096Z"
   },
   {
    "duration": 30,
    "start_time": "2023-06-01T16:54:16.188Z"
   },
   {
    "duration": 45,
    "start_time": "2023-06-01T16:54:16.219Z"
   },
   {
    "duration": 52,
    "start_time": "2023-06-01T16:54:16.266Z"
   },
   {
    "duration": 13,
    "start_time": "2023-06-01T16:54:16.320Z"
   },
   {
    "duration": 83,
    "start_time": "2023-06-01T16:54:16.335Z"
   },
   {
    "duration": 1156,
    "start_time": "2023-06-01T16:54:16.420Z"
   },
   {
    "duration": 349,
    "start_time": "2023-06-01T16:54:17.578Z"
   },
   {
    "duration": 1684417,
    "start_time": "2023-06-01T16:54:17.929Z"
   },
   {
    "duration": 11502,
    "start_time": "2023-06-01T17:22:22.349Z"
   },
   {
    "duration": 47,
    "start_time": "2023-06-01T18:39:58.410Z"
   },
   {
    "duration": 2963,
    "start_time": "2023-06-01T18:40:02.341Z"
   },
   {
    "duration": 1692,
    "start_time": "2023-06-01T18:40:05.306Z"
   },
   {
    "duration": 1021,
    "start_time": "2023-06-01T18:40:07.000Z"
   },
   {
    "duration": 110,
    "start_time": "2023-06-01T18:40:08.022Z"
   },
   {
    "duration": 20,
    "start_time": "2023-06-01T18:40:08.134Z"
   },
   {
    "duration": 475,
    "start_time": "2023-06-01T18:40:08.155Z"
   },
   {
    "duration": 194,
    "start_time": "2023-06-01T18:40:08.631Z"
   },
   {
    "duration": 14,
    "start_time": "2023-06-01T18:40:08.827Z"
   },
   {
    "duration": 20,
    "start_time": "2023-06-01T18:40:08.842Z"
   },
   {
    "duration": 1710,
    "start_time": "2023-06-01T18:40:12.876Z"
   },
   {
    "duration": 970,
    "start_time": "2023-06-01T18:43:41.992Z"
   },
   {
    "duration": 97,
    "start_time": "2023-06-01T18:43:49.670Z"
   },
   {
    "duration": 141,
    "start_time": "2023-06-01T18:43:56.636Z"
   },
   {
    "duration": 127,
    "start_time": "2023-06-01T18:43:57.385Z"
   },
   {
    "duration": 146,
    "start_time": "2023-06-01T18:44:01.068Z"
   },
   {
    "duration": 12,
    "start_time": "2023-06-01T18:44:02.860Z"
   },
   {
    "duration": 41,
    "start_time": "2023-06-01T18:44:03.512Z"
   },
   {
    "duration": 30,
    "start_time": "2023-06-01T18:44:04.313Z"
   },
   {
    "duration": 29,
    "start_time": "2023-06-01T18:44:07.387Z"
   },
   {
    "duration": 73,
    "start_time": "2023-06-01T18:44:08.268Z"
   },
   {
    "duration": 27,
    "start_time": "2023-06-01T18:44:10.792Z"
   },
   {
    "duration": 25,
    "start_time": "2023-06-01T18:44:13.325Z"
   },
   {
    "duration": 49,
    "start_time": "2023-06-01T18:44:14.539Z"
   },
   {
    "duration": 16,
    "start_time": "2023-06-01T18:44:17.515Z"
   },
   {
    "duration": 56,
    "start_time": "2023-06-01T18:44:18.199Z"
   },
   {
    "duration": 997,
    "start_time": "2023-06-01T18:44:19.103Z"
   },
   {
    "duration": 237,
    "start_time": "2023-06-01T18:44:20.102Z"
   },
   {
    "duration": 736,
    "start_time": "2023-06-01T18:44:27.402Z"
   },
   {
    "duration": 45,
    "start_time": "2023-06-01T18:44:35.590Z"
   },
   {
    "duration": 780,
    "start_time": "2023-06-01T18:44:36.969Z"
   },
   {
    "duration": 1237,
    "start_time": "2023-06-01T18:44:56.207Z"
   },
   {
    "duration": 3996730,
    "start_time": "2023-06-01T18:45:17.884Z"
   },
   {
    "duration": 180303,
    "start_time": "2023-06-01T19:51:54.686Z"
   },
   {
    "duration": 294103,
    "start_time": "2023-06-01T19:54:55.002Z"
   },
   {
    "duration": 24417,
    "start_time": "2023-06-01T19:59:49.107Z"
   },
   {
    "duration": 3292,
    "start_time": "2023-06-01T20:00:13.525Z"
   },
   {
    "duration": 382,
    "start_time": "2023-06-01T20:00:16.818Z"
   },
   {
    "duration": 99,
    "start_time": "2023-06-01T20:00:17.202Z"
   },
   {
    "duration": 95481,
    "start_time": "2023-06-01T20:00:17.304Z"
   },
   {
    "duration": 16,
    "start_time": "2023-06-01T20:01:52.788Z"
   },
   {
    "duration": 5,
    "start_time": "2023-06-01T20:26:33.434Z"
   },
   {
    "duration": 663,
    "start_time": "2023-06-01T20:26:33.441Z"
   },
   {
    "duration": 106,
    "start_time": "2023-06-01T20:26:34.105Z"
   },
   {
    "duration": 27,
    "start_time": "2023-06-01T20:26:34.213Z"
   },
   {
    "duration": 376,
    "start_time": "2023-06-01T20:26:34.241Z"
   },
   {
    "duration": 252,
    "start_time": "2023-06-01T20:26:34.618Z"
   },
   {
    "duration": 19,
    "start_time": "2023-06-01T20:26:34.871Z"
   },
   {
    "duration": 21,
    "start_time": "2023-06-01T20:26:34.892Z"
   },
   {
    "duration": 1006,
    "start_time": "2023-06-01T20:26:34.914Z"
   },
   {
    "duration": 163,
    "start_time": "2023-06-01T20:26:35.922Z"
   },
   {
    "duration": 168,
    "start_time": "2023-06-01T20:26:36.087Z"
   },
   {
    "duration": 13,
    "start_time": "2023-06-01T20:26:36.256Z"
   },
   {
    "duration": 52,
    "start_time": "2023-06-01T20:26:36.271Z"
   },
   {
    "duration": 29,
    "start_time": "2023-06-01T20:26:36.324Z"
   },
   {
    "duration": 41,
    "start_time": "2023-06-01T20:26:36.354Z"
   },
   {
    "duration": 105,
    "start_time": "2023-06-01T20:26:36.397Z"
   },
   {
    "duration": 29,
    "start_time": "2023-06-01T20:26:36.503Z"
   },
   {
    "duration": 22,
    "start_time": "2023-06-01T20:26:36.534Z"
   },
   {
    "duration": 66,
    "start_time": "2023-06-01T20:26:36.557Z"
   },
   {
    "duration": 12,
    "start_time": "2023-06-01T20:26:36.625Z"
   },
   {
    "duration": 56,
    "start_time": "2023-06-01T20:26:36.638Z"
   },
   {
    "duration": 972,
    "start_time": "2023-06-01T20:26:36.696Z"
   },
   {
    "duration": 249,
    "start_time": "2023-06-01T20:26:37.669Z"
   },
   {
    "duration": 52179,
    "start_time": "2023-06-01T20:26:40.201Z"
   },
   {
    "duration": 33195,
    "start_time": "2023-06-01T20:27:41.448Z"
   },
   {
    "duration": 892,
    "start_time": "2023-06-01T20:35:44.642Z"
   },
   {
    "duration": 3,
    "start_time": "2023-06-01T20:35:45.535Z"
   },
   {
    "duration": 689,
    "start_time": "2023-06-01T20:35:45.539Z"
   },
   {
    "duration": 114,
    "start_time": "2023-06-01T20:35:46.230Z"
   },
   {
    "duration": 18,
    "start_time": "2023-06-01T20:35:46.345Z"
   },
   {
    "duration": 355,
    "start_time": "2023-06-01T20:35:46.364Z"
   },
   {
    "duration": 161,
    "start_time": "2023-06-01T20:35:46.722Z"
   },
   {
    "duration": 13,
    "start_time": "2023-06-01T20:35:46.884Z"
   },
   {
    "duration": 20,
    "start_time": "2023-06-01T20:35:46.898Z"
   },
   {
    "duration": 157,
    "start_time": "2023-06-01T20:35:46.920Z"
   },
   {
    "duration": 3,
    "start_time": "2023-06-01T20:35:48.859Z"
   },
   {
    "duration": 692,
    "start_time": "2023-06-01T20:35:50.002Z"
   },
   {
    "duration": 105,
    "start_time": "2023-06-01T20:35:52.745Z"
   },
   {
    "duration": 23,
    "start_time": "2023-06-01T20:35:54.406Z"
   },
   {
    "duration": 367,
    "start_time": "2023-06-01T20:35:55.094Z"
   },
   {
    "duration": 166,
    "start_time": "2023-06-01T20:35:56.637Z"
   },
   {
    "duration": 145,
    "start_time": "2023-06-01T20:35:58.272Z"
   },
   {
    "duration": 14,
    "start_time": "2023-06-01T20:35:59.603Z"
   },
   {
    "duration": 4,
    "start_time": "2023-06-01T20:36:07.659Z"
   },
   {
    "duration": 665,
    "start_time": "2023-06-01T20:36:07.665Z"
   },
   {
    "duration": 119,
    "start_time": "2023-06-01T20:36:08.332Z"
   },
   {
    "duration": 35,
    "start_time": "2023-06-01T20:36:08.452Z"
   },
   {
    "duration": 398,
    "start_time": "2023-06-01T20:36:08.489Z"
   },
   {
    "duration": 172,
    "start_time": "2023-06-01T20:36:08.889Z"
   },
   {
    "duration": 22,
    "start_time": "2023-06-01T20:36:09.062Z"
   },
   {
    "duration": 31,
    "start_time": "2023-06-01T20:36:09.086Z"
   },
   {
    "duration": 149,
    "start_time": "2023-06-01T20:36:09.118Z"
   },
   {
    "duration": 906,
    "start_time": "2023-06-01T20:36:09.268Z"
   },
   {
    "duration": 153,
    "start_time": "2023-06-01T20:36:10.177Z"
   },
   {
    "duration": 12,
    "start_time": "2023-06-01T20:36:10.331Z"
   },
   {
    "duration": 60,
    "start_time": "2023-06-01T20:36:10.344Z"
   },
   {
    "duration": 36,
    "start_time": "2023-06-01T20:36:10.405Z"
   },
   {
    "duration": 44,
    "start_time": "2023-06-01T20:36:10.443Z"
   },
   {
    "duration": 84,
    "start_time": "2023-06-01T20:36:10.489Z"
   },
   {
    "duration": 33,
    "start_time": "2023-06-01T20:36:14.662Z"
   },
   {
    "duration": 24,
    "start_time": "2023-06-01T20:36:17.303Z"
   },
   {
    "duration": 56,
    "start_time": "2023-06-01T20:36:18.473Z"
   },
   {
    "duration": 12,
    "start_time": "2023-06-01T20:36:19.836Z"
   },
   {
    "duration": 44,
    "start_time": "2023-06-01T20:36:21.162Z"
   },
   {
    "duration": 959,
    "start_time": "2023-06-01T20:36:21.951Z"
   },
   {
    "duration": 228,
    "start_time": "2023-06-01T20:36:23.846Z"
   },
   {
    "duration": 14,
    "start_time": "2023-06-01T20:36:32.416Z"
   },
   {
    "duration": 2471,
    "start_time": "2023-06-02T08:20:14.561Z"
   },
   {
    "duration": 0,
    "start_time": "2023-06-02T08:20:17.035Z"
   },
   {
    "duration": 0,
    "start_time": "2023-06-02T08:20:17.036Z"
   },
   {
    "duration": 0,
    "start_time": "2023-06-02T08:20:17.037Z"
   },
   {
    "duration": 0,
    "start_time": "2023-06-02T08:20:17.038Z"
   },
   {
    "duration": 0,
    "start_time": "2023-06-02T08:20:17.045Z"
   },
   {
    "duration": 0,
    "start_time": "2023-06-02T08:20:17.046Z"
   },
   {
    "duration": 0,
    "start_time": "2023-06-02T08:20:17.047Z"
   },
   {
    "duration": 0,
    "start_time": "2023-06-02T08:20:17.048Z"
   },
   {
    "duration": 0,
    "start_time": "2023-06-02T08:20:17.048Z"
   },
   {
    "duration": 0,
    "start_time": "2023-06-02T08:20:17.049Z"
   },
   {
    "duration": 0,
    "start_time": "2023-06-02T08:20:17.050Z"
   },
   {
    "duration": 0,
    "start_time": "2023-06-02T08:20:17.052Z"
   },
   {
    "duration": 0,
    "start_time": "2023-06-02T08:20:17.053Z"
   },
   {
    "duration": 0,
    "start_time": "2023-06-02T08:20:17.054Z"
   },
   {
    "duration": 0,
    "start_time": "2023-06-02T08:20:17.055Z"
   },
   {
    "duration": 0,
    "start_time": "2023-06-02T08:20:17.056Z"
   },
   {
    "duration": 0,
    "start_time": "2023-06-02T08:20:17.057Z"
   },
   {
    "duration": 0,
    "start_time": "2023-06-02T08:20:17.058Z"
   },
   {
    "duration": 0,
    "start_time": "2023-06-02T08:20:17.059Z"
   },
   {
    "duration": 0,
    "start_time": "2023-06-02T08:20:17.060Z"
   },
   {
    "duration": 1,
    "start_time": "2023-06-02T08:20:17.061Z"
   },
   {
    "duration": 0,
    "start_time": "2023-06-02T08:20:17.062Z"
   },
   {
    "duration": 0,
    "start_time": "2023-06-02T08:20:17.064Z"
   },
   {
    "duration": 0,
    "start_time": "2023-06-02T08:20:17.065Z"
   },
   {
    "duration": 0,
    "start_time": "2023-06-02T08:20:17.065Z"
   },
   {
    "duration": 0,
    "start_time": "2023-06-02T08:20:17.067Z"
   },
   {
    "duration": 0,
    "start_time": "2023-06-02T08:20:17.068Z"
   },
   {
    "duration": 0,
    "start_time": "2023-06-02T08:20:17.069Z"
   },
   {
    "duration": 0,
    "start_time": "2023-06-02T08:20:17.070Z"
   },
   {
    "duration": 0,
    "start_time": "2023-06-02T08:20:17.071Z"
   },
   {
    "duration": 2960,
    "start_time": "2023-06-02T10:07:13.162Z"
   },
   {
    "duration": 1724,
    "start_time": "2023-06-02T10:07:32.082Z"
   },
   {
    "duration": 2031,
    "start_time": "2023-06-02T10:07:47.329Z"
   },
   {
    "duration": 4,
    "start_time": "2023-06-02T10:07:49.362Z"
   },
   {
    "duration": 6,
    "start_time": "2023-06-02T10:07:49.368Z"
   },
   {
    "duration": 3135,
    "start_time": "2023-06-02T10:07:49.376Z"
   },
   {
    "duration": 113,
    "start_time": "2023-06-02T10:07:52.514Z"
   },
   {
    "duration": 27,
    "start_time": "2023-06-02T10:07:52.629Z"
   },
   {
    "duration": 501,
    "start_time": "2023-06-02T10:07:52.658Z"
   },
   {
    "duration": 216,
    "start_time": "2023-06-02T10:07:53.160Z"
   },
   {
    "duration": 16,
    "start_time": "2023-06-02T10:07:53.377Z"
   },
   {
    "duration": 22,
    "start_time": "2023-06-02T10:07:53.395Z"
   },
   {
    "duration": 262,
    "start_time": "2023-06-02T10:07:53.419Z"
   },
   {
    "duration": 1062,
    "start_time": "2023-06-02T10:07:53.683Z"
   },
   {
    "duration": 169,
    "start_time": "2023-06-02T10:07:54.749Z"
   },
   {
    "duration": 27,
    "start_time": "2023-06-02T10:07:54.919Z"
   },
   {
    "duration": 60,
    "start_time": "2023-06-02T10:07:54.950Z"
   },
   {
    "duration": 48,
    "start_time": "2023-06-02T10:07:55.012Z"
   },
   {
    "duration": 55,
    "start_time": "2023-06-02T10:07:55.062Z"
   },
   {
    "duration": 97,
    "start_time": "2023-06-02T10:07:55.119Z"
   },
   {
    "duration": 32,
    "start_time": "2023-06-02T10:07:55.218Z"
   },
   {
    "duration": 31,
    "start_time": "2023-06-02T10:07:55.252Z"
   },
   {
    "duration": 66,
    "start_time": "2023-06-02T10:07:55.284Z"
   },
   {
    "duration": 14,
    "start_time": "2023-06-02T10:07:55.352Z"
   },
   {
    "duration": 65,
    "start_time": "2023-06-02T10:07:55.367Z"
   },
   {
    "duration": 1095,
    "start_time": "2023-06-02T10:07:55.450Z"
   },
   {
    "duration": 275,
    "start_time": "2023-06-02T10:07:56.547Z"
   },
   {
    "duration": 9333,
    "start_time": "2023-06-02T10:07:56.824Z"
   },
   {
    "duration": 314361,
    "start_time": "2023-06-02T10:08:06.159Z"
   },
   {
    "duration": 25750,
    "start_time": "2023-06-02T10:13:20.523Z"
   },
   {
    "duration": 3098,
    "start_time": "2023-06-02T10:13:46.275Z"
   },
   {
    "duration": 373,
    "start_time": "2023-06-02T10:13:49.375Z"
   },
   {
    "duration": 204,
    "start_time": "2023-06-02T10:13:49.750Z"
   },
   {
    "duration": 11400,
    "start_time": "2023-06-02T10:13:49.956Z"
   },
   {
    "duration": 9,
    "start_time": "2023-06-02T10:14:01.358Z"
   },
   {
    "duration": 2221,
    "start_time": "2023-06-02T15:39:56.190Z"
   },
   {
    "duration": 2762,
    "start_time": "2023-06-02T15:39:58.413Z"
   },
   {
    "duration": 3,
    "start_time": "2023-06-02T15:40:01.177Z"
   },
   {
    "duration": 820,
    "start_time": "2023-06-02T15:40:01.182Z"
   },
   {
    "duration": 123,
    "start_time": "2023-06-02T15:40:02.004Z"
   },
   {
    "duration": 41,
    "start_time": "2023-06-02T15:40:02.129Z"
   },
   {
    "duration": 438,
    "start_time": "2023-06-02T15:40:02.171Z"
   },
   {
    "duration": 288,
    "start_time": "2023-06-02T15:40:02.610Z"
   },
   {
    "duration": 22,
    "start_time": "2023-06-02T15:40:02.899Z"
   },
   {
    "duration": 28,
    "start_time": "2023-06-02T15:40:02.923Z"
   },
   {
    "duration": 230,
    "start_time": "2023-06-02T15:40:02.952Z"
   },
   {
    "duration": 991,
    "start_time": "2023-06-02T15:40:03.184Z"
   },
   {
    "duration": 160,
    "start_time": "2023-06-02T15:40:04.176Z"
   },
   {
    "duration": 12,
    "start_time": "2023-06-02T15:40:04.339Z"
   },
   {
    "duration": 52,
    "start_time": "2023-06-02T15:40:04.352Z"
   },
   {
    "duration": 42,
    "start_time": "2023-06-02T15:40:04.406Z"
   },
   {
    "duration": 28,
    "start_time": "2023-06-02T15:40:04.449Z"
   },
   {
    "duration": 105,
    "start_time": "2023-06-02T15:40:04.478Z"
   },
   {
    "duration": 31,
    "start_time": "2023-06-02T15:40:04.585Z"
   },
   {
    "duration": 29,
    "start_time": "2023-06-02T15:40:04.621Z"
   },
   {
    "duration": 47,
    "start_time": "2023-06-02T15:40:04.651Z"
   },
   {
    "duration": 39,
    "start_time": "2023-06-02T15:40:04.699Z"
   },
   {
    "duration": 80,
    "start_time": "2023-06-02T15:40:04.739Z"
   },
   {
    "duration": 1116,
    "start_time": "2023-06-02T15:40:04.821Z"
   },
   {
    "duration": 244,
    "start_time": "2023-06-02T15:40:05.939Z"
   },
   {
    "duration": 48032,
    "start_time": "2023-06-02T15:40:06.184Z"
   },
   {
    "duration": 303434,
    "start_time": "2023-06-02T15:40:54.217Z"
   },
   {
    "duration": 25457,
    "start_time": "2023-06-02T15:45:57.653Z"
   },
   {
    "duration": 3122,
    "start_time": "2023-06-02T15:46:23.112Z"
   },
   {
    "duration": 379,
    "start_time": "2023-06-02T15:46:26.236Z"
   },
   {
    "duration": 200,
    "start_time": "2023-06-02T15:46:26.616Z"
   },
   {
    "duration": 51,
    "start_time": "2023-06-02T16:25:41.624Z"
   },
   {
    "duration": 5442,
    "start_time": "2023-06-02T16:25:45.071Z"
   },
   {
    "duration": 2599,
    "start_time": "2023-06-02T16:25:50.517Z"
   },
   {
    "duration": 6,
    "start_time": "2023-06-02T16:25:53.118Z"
   },
   {
    "duration": 1408,
    "start_time": "2023-06-02T16:25:53.127Z"
   },
   {
    "duration": 161,
    "start_time": "2023-06-02T16:25:54.537Z"
   },
   {
    "duration": 39,
    "start_time": "2023-06-02T16:25:54.700Z"
   },
   {
    "duration": 528,
    "start_time": "2023-06-02T16:25:54.741Z"
   },
   {
    "duration": 350,
    "start_time": "2023-06-02T16:25:56.274Z"
   },
   {
    "duration": 314,
    "start_time": "2023-06-02T16:26:30.105Z"
   },
   {
    "duration": 208,
    "start_time": "2023-06-02T16:26:39.672Z"
   },
   {
    "duration": 194,
    "start_time": "2023-06-02T16:26:48.538Z"
   },
   {
    "duration": 214,
    "start_time": "2023-06-02T16:27:15.608Z"
   },
   {
    "duration": 188,
    "start_time": "2023-06-02T16:27:21.506Z"
   },
   {
    "duration": 2368,
    "start_time": "2023-06-02T16:27:28.330Z"
   },
   {
    "duration": 10,
    "start_time": "2023-06-02T16:27:30.701Z"
   },
   {
    "duration": 30,
    "start_time": "2023-06-02T16:27:30.713Z"
   },
   {
    "duration": 1090,
    "start_time": "2023-06-02T16:27:30.745Z"
   },
   {
    "duration": 199,
    "start_time": "2023-06-02T16:27:31.837Z"
   },
   {
    "duration": 23,
    "start_time": "2023-06-02T16:27:32.038Z"
   },
   {
    "duration": 612,
    "start_time": "2023-06-02T16:27:32.080Z"
   },
   {
    "duration": 258,
    "start_time": "2023-06-02T16:27:32.698Z"
   },
   {
    "duration": 25,
    "start_time": "2023-06-02T16:27:32.958Z"
   },
   {
    "duration": 60,
    "start_time": "2023-06-02T16:27:32.990Z"
   },
   {
    "duration": 204,
    "start_time": "2023-06-02T16:27:33.051Z"
   },
   {
    "duration": 223,
    "start_time": "2023-06-02T16:28:55.246Z"
   },
   {
    "duration": 2961,
    "start_time": "2023-06-02T16:29:18.674Z"
   },
   {
    "duration": 7,
    "start_time": "2023-06-02T16:29:21.638Z"
   },
   {
    "duration": 15,
    "start_time": "2023-06-02T16:29:21.648Z"
   },
   {
    "duration": 1332,
    "start_time": "2023-06-02T16:29:21.666Z"
   },
   {
    "duration": 250,
    "start_time": "2023-06-02T16:29:23.005Z"
   },
   {
    "duration": 25,
    "start_time": "2023-06-02T16:29:23.259Z"
   },
   {
    "duration": 721,
    "start_time": "2023-06-02T16:29:23.286Z"
   },
   {
    "duration": 236,
    "start_time": "2023-06-02T16:29:24.009Z"
   },
   {
    "duration": 22,
    "start_time": "2023-06-02T16:29:24.248Z"
   },
   {
    "duration": 175,
    "start_time": "2023-06-02T16:29:24.277Z"
   },
   {
    "duration": 238,
    "start_time": "2023-06-02T16:29:24.454Z"
   },
   {
    "duration": 252,
    "start_time": "2023-06-02T16:29:28.189Z"
   },
   {
    "duration": 1714,
    "start_time": "2023-06-02T16:29:30.731Z"
   }
  ],
  "kernelspec": {
   "display_name": "Python 3 (ipykernel)",
   "language": "python",
   "name": "python3"
  },
  "language_info": {
   "codemirror_mode": {
    "name": "ipython",
    "version": 3
   },
   "file_extension": ".py",
   "mimetype": "text/x-python",
   "name": "python",
   "nbconvert_exporter": "python",
   "pygments_lexer": "ipython3",
   "version": "3.11.5"
  },
  "toc": {
   "base_numbering": 1,
   "nav_menu": {},
   "number_sections": true,
   "sideBar": true,
   "skip_h1_title": true,
   "title_cell": "Table of Contents",
   "title_sidebar": "Contents",
   "toc_cell": false,
   "toc_position": {},
   "toc_section_display": true,
   "toc_window_display": true
  }
 },
 "nbformat": 4,
 "nbformat_minor": 2
}
