{
 "cells": [
  {
   "cell_type": "markdown",
   "id": "8a4dac2f",
   "metadata": {},
   "source": [
    "# Финальный проект по теме \"Промышленность\""
   ]
  },
  {
   "cell_type": "markdown",
   "id": "016040d0",
   "metadata": {},
   "source": [
    "**Цель**\n",
    "\n",
    "Чтобы оптимизировать производственные расходы, металлургический комбинат ООО «Так закаляем сталь» решил уменьшить потребление электроэнергии на этапе обработки стали. Необходимо построить модель, которая сможет предсказать температуру стали.\n",
    "\n",
    "**Описание**\n",
    "\n",
    "Сталь обрабатывают в металлическом ковше вместимостью около 100 тонн. Чтобы ковш выдерживал высокие температуры, изнутри его облицовывают огнеупорным кирпичом. Расплавленную сталь заливают в ковш и подогревают до нужной температуры графитовыми электродами. Они установлены в крышке ковша. \n",
    "\n",
    "Из сплава выводится сера (десульфурация), добавлением примесей корректируется химический состав и отбираются пробы. Сталь легируют — изменяют её состав — подавая куски сплава из бункера для сыпучих материалов или проволоку через специальный трайб-аппарат (англ. tribe, «масса»).\n",
    "\n",
    "Перед тем как первый раз ввести легирующие добавки, измеряют температуру стали и производят её химический анализ. Потом температуру на несколько минут повышают, добавляют легирующие материалы и продувают сплав инертным газом. Затем его перемешивают и снова проводят измерения. Такой цикл повторяется до достижения целевого химического состава и оптимальной температуры плавки.\n",
    "\n",
    "Тогда расплавленная сталь отправляется на доводку металла или поступает в машину непрерывной разливки. Оттуда готовый продукт выходит в виде заготовок-слябов (англ. slab, «плита»).\n",
    "\n",
    "**Задачи**\n",
    "\n",
    "Необходимо провести исследовательский анализ данных.\n",
    "\n",
    "Необходимо построить модель машиного обучения, которая предскажет температуру стали."
   ]
  },
  {
   "cell_type": "code",
   "execution_count": 5,
   "id": "1caa8ff4",
   "metadata": {},
   "outputs": [],
   "source": [
    "import pandas as pd\n",
    "from datetime import datetime\n",
    "import numpy as np\n",
    "import pandas as pd\n",
    "from sklearn.model_selection import train_test_split\n",
    "import lightgbm as ltb\n",
    "from sklearn.metrics import mean_absolute_error\n",
    "from sklearn.ensemble import RandomForestRegressor\n",
    "from sklearn.tree import DecisionTreeRegressor\n",
    "import matplotlib.pyplot as plt\n",
    "import seaborn as sns\n",
    "from sklearn.preprocessing import StandardScaler\n",
    "from sklearn.dummy import DummyRegressor\n",
    "from sklearn.model_selection import GridSearchCV \n",
    "import shap"
   ]
  },
  {
   "cell_type": "code",
   "execution_count": 6,
   "id": "143f7591",
   "metadata": {
    "scrolled": true
   },
   "outputs": [],
   "source": [
    "try:\n",
    "    data_electrod = pd.read_csv('data_arc_new.csv')\n",
    "    data_sip_volume = pd.read_csv('data_bulk_new.csv')\n",
    "    data_sip_time = pd.read_csv('data_bulk_time_new.csv')\n",
    "    data_gas = pd.read_csv('data_gas_new.csv')\n",
    "    data_temp = pd.read_csv('data_temp_new.csv')\n",
    "    data_wire_volume = pd.read_csv('data_wire_new.csv')\n",
    "    data_wire_time = pd.read_csv('data_wire_time_new.csv')\n",
    "except:\n",
    "    data_electrod = pd.read_csv('/datasets/data_arc_new.csv')\n",
    "    data_sip_volume = pd.read_csv('/datasets/data_bulk_new.csv')\n",
    "    data_sip_time = pd.read_csv('/datasets/data_bulk_time_new.csv')\n",
    "    data_gas = pd.read_csv('/datasets/data_gas_new.csv')\n",
    "    data_temp = pd.read_csv('/datasets/data_temp_new.csv')\n",
    "    data_wire_volume = pd.read_csv('/datasets/data_wire_new.csv')\n",
    "    data_wire_time = pd.read_csv('/datasets/data_wire_time_new.csv')"
   ]
  },
  {
   "cell_type": "code",
   "execution_count": 7,
   "id": "ed16b879",
   "metadata": {},
   "outputs": [],
   "source": [
    "# переводим все ячейки с датой и временем в формат datetime\n",
    "data_temp['time'] = pd.to_datetime(data_temp['Время замера'])\n",
    "data_temp = data_temp.drop(columns=['Время замера'], axis=1)\n",
    "data_electrod['start_time'] = pd.to_datetime(data_electrod['Начало нагрева дугой'])\n",
    "data_electrod['end_time'] = pd.to_datetime(data_electrod['Конец нагрева дугой'])\n",
    "data_electrod = data_electrod.drop(columns=['Начало нагрева дугой'], axis=1)\n",
    "data_electrod = data_electrod.drop(columns=['Конец нагрева дугой'], axis=1)\n",
    "\n",
    "for col in data_sip_time.columns[1:]:\n",
    "    data_sip_time[col] =  pd.to_datetime(data_sip_time[col])\n",
    "for col in data_wire_time.columns[1:]:\n",
    "    data_wire_time[col] =  pd.to_datetime(data_wire_time[col])"
   ]
  },
  {
   "cell_type": "code",
   "execution_count": 8,
   "id": "2e98d401",
   "metadata": {
    "scrolled": true
   },
   "outputs": [],
   "source": [
    "data_electrod['delta_t'] = data_electrod['end_time'] - data_electrod['start_time']\n",
    "data_electrod['seconds'] = data_electrod['delta_t'].dt.total_seconds()\n",
    "data_electrod = data_electrod.drop(columns=['delta_t'], axis=1)"
   ]
  },
  {
   "cell_type": "code",
   "execution_count": 9,
   "id": "2111d8c0",
   "metadata": {},
   "outputs": [
    {
     "data": {},
     "execution_count": 9,
     "metadata": {},
     "output_type": "execute_result"
    }
   ],
   "source": [
    "data_electrod.describe()"
   ]
  },
  {
   "cell_type": "markdown",
   "id": "f616e67f",
   "metadata": {},
   "source": [
    "**Вывод**\n",
    "\n",
    "Отбросим отрицательные значения мощности."
   ]
  },
  {
   "cell_type": "code",
   "execution_count": 10,
   "id": "39b3cd82",
   "metadata": {},
   "outputs": [],
   "source": [
    "data_electrod = data_electrod.loc[data_electrod['Реактивная мощность'] > 0]"
   ]
  },
  {
   "cell_type": "code",
   "execution_count": 11,
   "id": "82503d9f",
   "metadata": {},
   "outputs": [
    {
     "data": {},
     "execution_count": 11,
     "metadata": {},
     "output_type": "execute_result"
    }
   ],
   "source": [
    "data_electrod"
   ]
  },
  {
   "cell_type": "code",
   "execution_count": 12,
   "id": "d47b8378",
   "metadata": {
    "scrolled": true
   },
   "outputs": [
    {
     "data": {},
     "execution_count": 12,
     "metadata": {},
     "output_type": "execute_result"
    }
   ],
   "source": [
    "len(data_electrod['key'].unique())"
   ]
  },
  {
   "cell_type": "markdown",
   "id": "032ce5c0",
   "metadata": {},
   "source": [
    "**Вывод по датасету data_electrod**\n",
    "\n",
    "Была проведена предобработка данных, а также добавлен столбец со временем каждого этапа продувки, что возможно, пригодится впоследствии. Данные о начале и конце нагрева было решено оставить для дальнейшего их объединения."
   ]
  },
  {
   "cell_type": "code",
   "execution_count": 13,
   "id": "b1369a54",
   "metadata": {},
   "outputs": [],
   "source": [
    "data_sip_volume = data_sip_volume.fillna(0)"
   ]
  },
  {
   "cell_type": "code",
   "execution_count": 14,
   "id": "e432ad84",
   "metadata": {},
   "outputs": [
    {
     "data": {},
     "execution_count": 14,
     "metadata": {},
     "output_type": "execute_result"
    }
   ],
   "source": [
    "data_sip_volume"
   ]
  },
  {
   "cell_type": "markdown",
   "id": "186e02c0",
   "metadata": {},
   "source": [
    "**Выводы по датасету data_sip_volume**\n",
    "\n",
    "Датасет содержит информацию о различных добавках порошков для каждой партии продувки. Эти данные в дальейшем необходимо будет добавить в общий датасет, на данный момент были заполнены пропуски в значениях нулями."
   ]
  },
  {
   "cell_type": "code",
   "execution_count": 15,
   "id": "fbdf3300",
   "metadata": {},
   "outputs": [
    {
     "data": {},
     "execution_count": 15,
     "metadata": {},
     "output_type": "execute_result"
    }
   ],
   "source": [
    "data_gas"
   ]
  },
  {
   "cell_type": "markdown",
   "id": "b358f301",
   "metadata": {},
   "source": [
    "**Выводы по датасету data_gas**\n",
    "\n",
    "Датасет содержит информацию об продувке газом, необходимо получить дополнительные данные о продувке газом на каждом этапе, даны только на первом."
   ]
  },
  {
   "cell_type": "code",
   "execution_count": 16,
   "id": "86e3e975",
   "metadata": {
    "scrolled": false
   },
   "outputs": [],
   "source": [
    "data_wire_volume = data_wire_volume.fillna(0)"
   ]
  },
  {
   "cell_type": "code",
   "execution_count": 17,
   "id": "561579f0",
   "metadata": {},
   "outputs": [
    {
     "data": {},
     "execution_count": 17,
     "metadata": {},
     "output_type": "execute_result"
    }
   ],
   "source": [
    "data_wire_volume"
   ]
  },
  {
   "cell_type": "markdown",
   "id": "2bdc8d5a",
   "metadata": {},
   "source": [
    "**Выводы по датасету data_wire_volume**\n",
    "\n",
    "Датасет содержит информацию о различных добавках проволоки для каждой партии продувки. Эти данные в дальейшем необходимо будет добавить в общий датасет, на данный момент пропуски были заполнены нулями."
   ]
  },
  {
   "cell_type": "code",
   "execution_count": 18,
   "id": "665c4216",
   "metadata": {},
   "outputs": [],
   "source": [
    "data_temp = data_temp.dropna()"
   ]
  },
  {
   "cell_type": "code",
   "execution_count": 19,
   "id": "d1404cab",
   "metadata": {},
   "outputs": [
    {
     "data": {},
     "execution_count": 19,
     "metadata": {},
     "output_type": "execute_result"
    }
   ],
   "source": [
    "len(data_temp['key'].unique())"
   ]
  },
  {
   "cell_type": "code",
   "execution_count": 20,
   "id": "1d44a62d",
   "metadata": {},
   "outputs": [
    {
     "data": {},
     "execution_count": 20,
     "metadata": {},
     "output_type": "execute_result"
    }
   ],
   "source": [
    "data_temp"
   ]
  },
  {
   "cell_type": "markdown",
   "id": "d574bcd0",
   "metadata": {},
   "source": [
    "**Вывод по датасету data_temp**\n",
    "\n",
    "Данный датасет содержит целевой признак, поэтому были удалены строки с пропусками."
   ]
  },
  {
   "cell_type": "code",
   "execution_count": 21,
   "id": "70ffe79d",
   "metadata": {},
   "outputs": [
    {
     "data": {},
     "execution_count": 21,
     "metadata": {},
     "output_type": "execute_result"
    }
   ],
   "source": [
    "data_sip_time"
   ]
  },
  {
   "cell_type": "code",
   "execution_count": 22,
   "id": "5e83f89f",
   "metadata": {},
   "outputs": [
    {
     "data": {},
     "execution_count": 22,
     "metadata": {},
     "output_type": "execute_result"
    }
   ],
   "source": [
    "data_wire_time"
   ]
  },
  {
   "cell_type": "markdown",
   "id": "54447471",
   "metadata": {},
   "source": [
    "**Вывод по датасетам data_wire_time и data_sip_time**\n",
    "\n",
    "Данные датасеты содержат информацию о дате добавления того или иного легирующего элемента. По ним на данный момент не было предпринято никаких действий. Даты в добавлении почти совпадают с датой конца нагрева в датафрейме с электродами."
   ]
  },
  {
   "cell_type": "markdown",
   "id": "d3c1d95f",
   "metadata": {},
   "source": [
    "# Общий вывод\n",
    "\n",
    "В ходе составления плана была проведена предварительная преодобработка данных, были удалены аномальные значения. Также в столбце с целевым значением были удалены пропуски.\n",
    "\n",
    "Исходя из анализа данных был сделан вывод о том, что в таблицах, которые хранят значения о мощности электродов и температуре присутствует несколько записей из-за того, что для одного состава стали проводилось несколько добавлений модифицирющих веществ (легирований). В таблицах о проволочных материалах и присыпках содержится несколько столбцов о добавлении легирующих элементов для каждого этапа продувки (то есть каждый столбец с данными об объеме сыпучих материалов и проволоки соответствует строке записи в таблицах, содержащих значение температуры и мощности), эти значения возможно объединить по столбцу key."
   ]
  },
  {
   "cell_type": "markdown",
   "id": "3a132bf4",
   "metadata": {},
   "source": [
    "# План работы\n",
    "\n",
    "1) Объединить по столбцу key таблицы с реактивной мощностью, температурой, объемами проволоки и сыпучих материалов;\n",
    "\n",
    "    1. Сделать предобработку данных в каждой таблице (удалить пропуски, дубликаты, удалить промежуточные значения температур);\n",
    "    2. Выделить конечную и начальную запись с температурой в датафрейме с температурой и мощностью;\n",
    "    3. Объединить таблицы с мощностью, температурой, добавками;\n",
    "\n",
    "2) Подготовить данные для обучения;\n",
    "\n",
    "    1. Выделить целевой признак, а также оформить признаки для обучения (провести масштабирование, удалить сильно скореллированные признаки);\n",
    "    2. Разделить данные на тестовую и обучающу выборки;\n",
    "    3. Обработать аномалии в обучающей выборке;\n",
    "    4. На основе кросс-валидации создать модели машинного обучения и выбрать наилучшую по метрике MAE.\n",
    "\n",
    "3) Далее выбрать лучшую модель и обучить ее на общей выборке;\n",
    "\n",
    "    1. Выбранную модель протестировать на тестовой выборке;\n",
    "    2. Оценить адекватность модели, сравнив ее с константной."
   ]
  },
  {
   "cell_type": "markdown",
   "id": "3c7abe52",
   "metadata": {},
   "source": [
    "# Предобработка и слияние данных"
   ]
  },
  {
   "cell_type": "markdown",
   "id": "c2043c77",
   "metadata": {},
   "source": [
    "**Удаление строк с промежуточным значением температуры в датафреймах с температурой и с электродами**"
   ]
  },
  {
   "cell_type": "code",
   "execution_count": 23,
   "id": "d7b42042",
   "metadata": {},
   "outputs": [],
   "source": [
    "data_null = data_electrod.copy()\n",
    "df_electrod = data_electrod.copy()\n",
    "df_electrod = df_electrod[0:0]\n",
    "\n",
    "for key in data_electrod['key'].unique():\n",
    "    data_null = data_null[0:0]\n",
    "    for _, row in data_electrod.loc[data_electrod['key'] == key].iterrows():\n",
    "        data_null.loc[len(data_null.index)] = row\n",
    "    \n",
    "    # добавление времени начала процесса\n",
    "    start_time = data_null['start_time'][0]\n",
    "    \n",
    "    # добавление времени конца процесса\n",
    "    end_time = data_null['end_time'][len(data_null)-1]\n",
    "    \n",
    "    # фильтр, который убирает из датасета все значения активной и реактивной мощностей, кроме интересующей конечной\n",
    "    # также дополнительно проверяются строки с ключом, в которых есть только один процесс\n",
    "    if start_time != end_time and len(data_null) != 1:\n",
    "        data_null = data_null.loc[data_null['end_time'] == end_time]\n",
    "        data_null['start_time'] = start_time\n",
    "        \n",
    "        # добавление итоговых строк в датафрейм\n",
    "        frames = [df_electrod, data_null]\n",
    "        df_electrod = pd.concat(frames)\n",
    "\n",
    "# удаление возникающих дубликатов\n",
    "df_electrod = df_electrod.drop_duplicates()"
   ]
  },
  {
   "cell_type": "code",
   "execution_count": 24,
   "id": "c6b9db49",
   "metadata": {},
   "outputs": [],
   "source": [
    "data_null = data_temp.copy()\n",
    "df_temp = data_temp.copy()\n",
    "df_temp = df_temp[0:0]\n",
    "\n",
    "for key in data_temp['key'].unique():\n",
    "    data_null = data_null[0:0]\n",
    "    for _, row in data_temp.loc[data_temp['key'] == key].iterrows():\n",
    "        data_null.loc[len(data_null.index)] = row\n",
    "    \n",
    "    # добавление начальной температуры\n",
    "    start_temp = data_null['Температура'][0]\n",
    "    \n",
    "    # вычисление последней даты процесса\n",
    "    end_time = data_null['time'][len(data_null)-1]\n",
    "    \n",
    "    # фильтр, который убирает из датасета все значения температуры, кроме интересующей конечной\n",
    "    # также дополнительно проверяются строки с ключом, в которых есть только один процесс \n",
    "    if len(data_null) != 1:\n",
    "        data_null = data_null.loc[data_null['time'] == end_time]\n",
    "        data_null['start_temp'] = start_temp\n",
    "        \n",
    "        # добавление итоговых строк в датафрейм\n",
    "        frames = [df_temp, data_null]\n",
    "        df_temp = pd.concat(frames)\n",
    "\n",
    "# удаление возникающих дубликатов       \n",
    "df_temp = df_temp.drop_duplicates()"
   ]
  },
  {
   "cell_type": "code",
   "execution_count": 25,
   "id": "60238299",
   "metadata": {},
   "outputs": [],
   "source": [
    "# обновление индексов\n",
    "df_electrod = df_electrod.reset_index(drop=True)\n",
    "df_temp = df_temp.reset_index(drop=True)"
   ]
  },
  {
   "cell_type": "code",
   "execution_count": 26,
   "id": "ae589784",
   "metadata": {},
   "outputs": [],
   "source": [
    "# объединение в общий датафрейм\n",
    "data = df_temp.merge(df_electrod, on='key', how='inner')\n",
    "data = data.merge(data_gas, on='key', how='inner')"
   ]
  },
  {
   "cell_type": "markdown",
   "id": "48e64f7b",
   "metadata": {},
   "source": [
    "**Обработка признаков**"
   ]
  },
  {
   "cell_type": "code",
   "execution_count": 27,
   "id": "d70e3e62",
   "metadata": {},
   "outputs": [],
   "source": [
    "# исследование объема легирующих добавок\n",
    "for col in data_wire_volume.columns:\n",
    "    print(col, data_wire_volume.loc[data_wire_volume[col] != 0, col].count())\n",
    "for col in data_sip_volume.columns:\n",
    "    print(col, data_sip_volume.loc[data_sip_volume[col] != 0, col].count())"
   ]
  },
  {
   "cell_type": "markdown",
   "id": "4f8d15c2",
   "metadata": {},
   "source": [
    "**Вывод**\n",
    "\n",
    "В итоге обработки данных признаков был сделан вывод о том, что некоторые виды проволоки и порошка используются очень редко, поэтому был сделан вывод о том, что проволоки: 4, 5, 7, 8, а также порошки 8, 9, 13 не будут использоваться для обучения и тестирования моделей."
   ]
  },
  {
   "cell_type": "code",
   "execution_count": 28,
   "id": "37ae6b82",
   "metadata": {},
   "outputs": [],
   "source": [
    "data = data.merge(data_wire_volume, on='key', how='inner')\n",
    "data = data.merge(data_sip_volume, on='key', how='inner')"
   ]
  },
  {
   "cell_type": "code",
   "execution_count": 29,
   "id": "d6641967",
   "metadata": {},
   "outputs": [],
   "source": [
    "data = data.drop(['Wire 4', 'Wire 5', 'Wire 7', 'Wire 8', 'Bulk 8', 'Bulk 9', 'Bulk 13'] , axis=1)"
   ]
  },
  {
   "cell_type": "markdown",
   "id": "5de6e474",
   "metadata": {},
   "source": [
    "**Работа с датами**"
   ]
  },
  {
   "cell_type": "code",
   "execution_count": 30,
   "id": "89fe4901",
   "metadata": {},
   "outputs": [],
   "source": [
    "data = data.drop(['time', 'start_time', 'end_time'] , axis=1)"
   ]
  },
  {
   "cell_type": "markdown",
   "id": "ca0a4887",
   "metadata": {},
   "source": [
    "**Вывод**\n",
    "\n",
    "Исходя из того, что более корректным признаком вместо дат является время всего процесса из датасета удаляются все даты, остается только время процесса."
   ]
  },
  {
   "cell_type": "markdown",
   "id": "eca3aaf6",
   "metadata": {},
   "source": [
    "**Корелляция признаков**"
   ]
  },
  {
   "cell_type": "code",
   "execution_count": 31,
   "id": "39c6fae5",
   "metadata": {},
   "outputs": [],
   "source": [
    "print('key', sum(pd.isnull(data['key'])))\n",
    "print('Активная мощность', sum(pd.isnull(data['Активная мощность'])))\n",
    "print('Реактивная мощность', sum(pd.isnull(data['Реактивная мощность'])))\n",
    "print('Температура', sum(pd.isnull(data['Температура'])))\n",
    "print('seconds', sum(pd.isnull(data['seconds'])))"
   ]
  },
  {
   "cell_type": "code",
   "execution_count": 32,
   "id": "bed0b457",
   "metadata": {},
   "outputs": [],
   "source": [
    "data = data.dropna()"
   ]
  },
  {
   "cell_type": "markdown",
   "id": "1a16a5ab",
   "metadata": {},
   "source": [
    "**Вывод**\n",
    "\n",
    "Пропущенные признаки были выделены как важные для обучения, поэтому они удаляются."
   ]
  },
  {
   "cell_type": "code",
   "execution_count": 33,
   "id": "8ddc494e",
   "metadata": {},
   "outputs": [],
   "source": [
    "data['Активная мощность'] = data['Активная мощность'].astype('float64')\n",
    "data['Реактивная мощность'] = data['Реактивная мощность'].astype('float64')\n",
    "data['Температура'] = data['Температура'].astype('float64')\n",
    "data['seconds'] = data['seconds'].astype('int')\n",
    "data['key'] = data['key'].astype('int')"
   ]
  },
  {
   "cell_type": "code",
   "execution_count": 34,
   "id": "427ea638",
   "metadata": {},
   "outputs": [
    {
     "data": {},
     "execution_count": 34,
     "metadata": {},
     "output_type": "execute_result"
    }
   ],
   "source": [
    "data.corr()"
   ]
  },
  {
   "cell_type": "code",
   "execution_count": 35,
   "id": "9770343d",
   "metadata": {},
   "outputs": [
    {
     "data": {},
     "execution_count": 35,
     "metadata": {},
     "output_type": "execute_result"
    },
    {
     "data": {
      "image/png": "[encoded data removed]"
     },
     "metadata": {},
     "output_type": "display_data"
    }
   ],
   "source": [
    "matrix = np.triu(data.corr())\n",
    "sns.heatmap(data.corr(), mask=matrix)"
   ]
  },
  {
   "cell_type": "code",
   "execution_count": 36,
   "id": "d92c458e",
   "metadata": {},
   "outputs": [],
   "source": [
    "data = data.drop(['Реактивная мощность'] , axis=1)"
   ]
  },
  {
   "cell_type": "code",
   "execution_count": 37,
   "id": "d06df75c",
   "metadata": {},
   "outputs": [],
   "source": [
    "data = data.drop(['key'] , axis=1)"
   ]
  },
  {
   "cell_type": "code",
   "execution_count": 38,
   "id": "9ced6f24",
   "metadata": {},
   "outputs": [],
   "source": [
    "data.loc[(data['Температура'] < 1600) & (data['start_temp'] < 1600)]\n",
    "data = data.reset_index(drop=True)"
   ]
  },
  {
   "cell_type": "code",
   "execution_count": 39,
   "id": "7855d1c9",
   "metadata": {},
   "outputs": [
    {
     "data": {},
     "execution_count": 39,
     "metadata": {},
     "output_type": "execute_result"
    }
   ],
   "source": [
    "data"
   ]
  },
  {
   "cell_type": "markdown",
   "id": "c952db6d",
   "metadata": {},
   "source": [
    "**Вывод**\n",
    "\n",
    "Исходя из того, что наблюдается очень сильная корелляция между активной и реактивной мощностью, было принято удалить столбец с реактивной мощностью. \n",
    "\n",
    "Также следует отметить то, что предобработка данных проведена и данные объединены, поэтому столбец со значением key больше не нужен и его можно удалить.\n",
    "\n",
    "Также были отброшены строки со значением температуры ниже значения температуры плавления."
   ]
  },
  {
   "cell_type": "markdown",
   "id": "1e773b18",
   "metadata": {},
   "source": [
    "# Работа с моделью машинного обучения"
   ]
  },
  {
   "cell_type": "markdown",
   "id": "a24e2c19",
   "metadata": {},
   "source": [
    "**Разделение на тестовую и обучающую выборки**"
   ]
  },
  {
   "cell_type": "code",
   "execution_count": 67,
   "id": "f7384d3f",
   "metadata": {},
   "outputs": [],
   "source": [
    "target = data['Температура']\n",
    "features = data.drop(['Температура'] , axis=1)\n",
    "\n",
    "features_train, features_test, target_train, target_test = train_test_split(\n",
    "    features, target, test_size=0.25, random_state=140823)"
   ]
  },
  {
   "cell_type": "markdown",
   "id": "3c854ec5",
   "metadata": {},
   "source": [
    "**Обучение моделей c использованием кросс-валидации**"
   ]
  },
  {
   "cell_type": "code",
   "execution_count": 68,
   "id": "0ca9458f",
   "metadata": {},
   "outputs": [],
   "source": [
    "sample_size = int(len(target_train)/3)\n",
    "dict_of_results = {'best_result': [],\n",
    "                  'best_est': [],\n",
    "                  'best_depth': []}\n",
    "\n",
    "for i in range(0, len(target_train), sample_size):\n",
    "    valid_indexes = features_train.iloc[i: i + sample_size].index\n",
    "    train_indexes = features_train.loc[features_train.index.isin(valid_indexes) == False].index\n",
    "    \n",
    "    features_train_val = features_train.loc[train_indexes]\n",
    "    target_train_val = target_train.loc[train_indexes]\n",
    "    features_valid = features_train.loc[valid_indexes]\n",
    "    target_valid = target_train.loc[valid_indexes]\n",
    "    \n",
    "    best_result = 8\n",
    "    best_est = 0\n",
    "    best_depth = 0\n",
    "\n",
    "    for est in range(10, 101, 10):\n",
    "        for depth in range (1, 15, 1):\n",
    "            model_forest = RandomForestRegressor(random_state=140823, n_estimators=est, max_depth=depth)\n",
    "            model_forest.fit(features_train_val, target_train_val) \n",
    "        \n",
    "            predictions_valid = model_forest.predict(features_valid) \n",
    "            result = mean_absolute_error(target_valid, predictions_valid)\n",
    "\n",
    "            if result < best_result:\n",
    "                best_result = result\n",
    "                best_est = est\n",
    "                best_depth = depth\n",
    "    \n",
    "    dict_of_results['best_result'].append(best_result)\n",
    "    dict_of_results['best_est'].append(best_est)\n",
    "    dict_of_results['best_depth'].append(best_depth)\n",
    "    \n",
    "    print(best_result)\n",
    "    print(best_est)\n",
    "    print(best_depth)"
   ]
  },
  {
   "cell_type": "code",
   "execution_count": 69,
   "id": "e076b5eb",
   "metadata": {},
   "outputs": [],
   "source": [
    "sample_size = int(len(target_train)/3)\n",
    "dict_of_results_1 = {'best_result': [],\n",
    "                  'best_est': [],\n",
    "                  'best_leave': []}\n",
    "\n",
    "for i in range(0, len(target_train), sample_size):\n",
    "    valid_indexes = features_train.iloc[i: i + sample_size].index\n",
    "    train_indexes = features_train.loc[features_train.index.isin(valid_indexes) == False].index\n",
    "    \n",
    "    features_train_val = features_train.loc[train_indexes]\n",
    "    target_train_val = target_train.loc[train_indexes]\n",
    "    features_valid = features_train.loc[valid_indexes]\n",
    "    target_valid = target_train.loc[valid_indexes]\n",
    "    \n",
    "    best_result = 8\n",
    "    best_est = 0\n",
    "    best_leave = 0\n",
    "\n",
    "    for est in range(10, 70, 10):\n",
    "        for leave in range (10, 50, 5):\n",
    "            model_lgbr = ltb.LGBMRegressor(random_seed=140823, n_estimators=est, num_leaves=leave)\n",
    "            model_lgbr.fit(features_train_val, target_train_val) \n",
    "        \n",
    "            predictions_valid = model_lgbr.predict(features_valid) \n",
    "            result = mean_absolute_error(target_valid, predictions_valid)\n",
    "\n",
    "            if result < best_result:\n",
    "                best_result = result\n",
    "                best_est = est\n",
    "                best_leave = leave\n",
    "    \n",
    "    dict_of_results_1['best_result'].append(best_result)\n",
    "    dict_of_results_1['best_est'].append(best_est)\n",
    "    dict_of_results_1['best_leave'].append(best_leave)\n",
    "    \n",
    "    print(best_result)\n",
    "    print(best_est)\n",
    "    print(best_leave)"
   ]
  },
  {
   "cell_type": "code",
   "execution_count": 70,
   "id": "631c3c0a",
   "metadata": {
    "scrolled": true
   },
   "outputs": [],
   "source": [
    "sample_size = int(len(target_train)/3)\n",
    "dict_of_results_2 = {'best_result': [],\n",
    "                  'best_depth': []}\n",
    "\n",
    "for i in range(0, len(target_train), sample_size):\n",
    "    valid_indexes = features_train.iloc[i: i + sample_size].index\n",
    "    train_indexes = features_train.loc[features_train.index.isin(valid_indexes) == False].index\n",
    "    \n",
    "    features_train_val = features_train.loc[train_indexes]\n",
    "    target_train_val = target_train.loc[train_indexes]\n",
    "    features_valid = features_train.loc[valid_indexes]\n",
    "    target_valid = target_train.loc[valid_indexes]\n",
    "    \n",
    "    best_result = 8\n",
    "    best_depth = 0\n",
    "\n",
    "    for depth in range(1, 15, 1):\n",
    "        model_tree = DecisionTreeRegressor(random_state=140823, max_depth=depth)\n",
    "        model_tree.fit(features_train_val, target_train_val) \n",
    "        \n",
    "        predictions_valid = model_tree.predict(features_valid) \n",
    "        result = mean_absolute_error(target_valid, predictions_valid)\n",
    "\n",
    "        if result < best_result:\n",
    "            best_result = result\n",
    "            best_depth = depth\n",
    "    \n",
    "    dict_of_results_2['best_result'].append(best_result)\n",
    "    dict_of_results_2['best_depth'].append(best_depth)\n",
    "    \n",
    "    print(best_result)\n",
    "    print(best_depth)"
   ]
  },
  {
   "cell_type": "markdown",
   "id": "828b0c2b",
   "metadata": {},
   "source": [
    "**Вывод**\n",
    "\n",
    "Лучше всего показала себя модель LGBM."
   ]
  },
  {
   "cell_type": "markdown",
   "id": "94b5a4ce",
   "metadata": {},
   "source": [
    "**Автоматический подбор параметров**"
   ]
  },
  {
   "cell_type": "code",
   "execution_count": 99,
   "id": "0f643148",
   "metadata": {},
   "outputs": [],
   "source": [
    "parametrs = { 'n_estimators': [i for i in range (10, 101, 10)],\n",
    "              'num_leaves': [i for i in range (10, 51, 5)],\n",
    "              'max_depth': [i for i in range (10, 36, 5)],\n",
    "              'learning_rate': [0.1, 0.01],\n",
    "              'random_state' : [140823]}"
   ]
  },
  {
   "cell_type": "code",
   "execution_count": 100,
   "id": "a42fe24f",
   "metadata": {},
   "outputs": [
    {
     "data": {},
     "execution_count": 100,
     "metadata": {},
     "output_type": "execute_result"
    }
   ],
   "source": [
    "model_lgbr = ltb.LGBMRegressor()\n",
    "\n",
    "grid = GridSearchCV(model_lgbr, parametrs, cv=3)\n",
    "grid.fit(features_train, target_train)"
   ]
  },
  {
   "cell_type": "code",
   "execution_count": 102,
   "id": "e4012316",
   "metadata": {},
   "outputs": [
    {
     "data": {},
     "execution_count": 102,
     "metadata": {},
     "output_type": "execute_result"
    }
   ],
   "source": [
    "grid.best_params_"
   ]
  },
  {
   "cell_type": "markdown",
   "id": "51fd1e1e",
   "metadata": {},
   "source": [
    "**Проверка на тестовой выборке**"
   ]
  },
  {
   "cell_type": "code",
   "execution_count": 103,
   "id": "d674fe9e",
   "metadata": {},
   "outputs": [],
   "source": [
    "target = data['Температура']\n",
    "features = data.drop(['Температура'] , axis=1)\n",
    "\n",
    "features_train, features_test, target_train, target_test = train_test_split(\n",
    "    features, target, test_size=0.25, random_state=140823)"
   ]
  },
  {
   "cell_type": "markdown",
   "id": "acbb19e9",
   "metadata": {},
   "source": [
    "**Масштабирование**"
   ]
  },
  {
   "cell_type": "code",
   "execution_count": 104,
   "id": "5203834a",
   "metadata": {},
   "outputs": [],
   "source": [
    "scaler = StandardScaler()\n",
    "scaler.fit(features_train)\n",
    "features_train_scale = scaler.transform(features_train)\n",
    "features_test_scale = scaler.transform(features_test)"
   ]
  },
  {
   "cell_type": "code",
   "execution_count": 110,
   "id": "7ecded82",
   "metadata": {},
   "outputs": [
    {
     "data": {},
     "execution_count": 110,
     "metadata": {},
     "output_type": "execute_result"
    }
   ],
   "source": [
    "model_lgbr = ltb.LGBMRegressor(random_seed=140823, n_estimators=30, num_leaves=25, max_depth = 30, learning_rate=0.1)\n",
    "model_lgbr.fit(features_train_scale, target_train) \n",
    "        \n",
    "predictions_test = model_lgbr.predict(features_test_scale) \n",
    "result = mean_absolute_error(target_test, predictions_test)\n",
    "result"
   ]
  },
  {
   "cell_type": "markdown",
   "id": "5ce18971",
   "metadata": {},
   "source": [
    "**Сравнение с константной моделью**"
   ]
  },
  {
   "cell_type": "code",
   "execution_count": 106,
   "id": "e7eeb046",
   "metadata": {},
   "outputs": [
    {
     "data": {},
     "execution_count": 106,
     "metadata": {},
     "output_type": "execute_result"
    }
   ],
   "source": [
    "dummy_regr = DummyRegressor(strategy=\"mean\")\n",
    "\n",
    "dummy_regr.fit(features_train, target_train)\n",
    "dummy_pred = dummy_regr.predict(features_test)\n",
    "result = mean_absolute_error(target_test, dummy_pred)\n",
    "result"
   ]
  },
  {
   "cell_type": "markdown",
   "id": "6e99d049",
   "metadata": {},
   "source": [
    "**Исследование на признаки**"
   ]
  },
  {
   "cell_type": "code",
   "execution_count": 107,
   "id": "fb1f8772",
   "metadata": {},
   "outputs": [],
   "source": [
    "features_test_inverse = pd.DataFrame(scaler.inverse_transform(features_test),\n",
    "                              columns = features_test.columns)"
   ]
  },
  {
   "cell_type": "code",
   "execution_count": 108,
   "id": "510fee29",
   "metadata": {
    "scrolled": false
   },
   "outputs": [
    {
     "data": {
      "image/png": "[encoded data removed]"
     },
     "metadata": {},
     "output_type": "display_data"
    }
   ],
   "source": [
    "explainer = shap.Explainer(model_lgbr)\n",
    "shap_values = explainer(features_test_inverse)\n",
    "shap.plots.bar(shap_values)"
   ]
  },
  {
   "cell_type": "markdown",
   "id": "01871bda",
   "metadata": {},
   "source": [
    "**Вывод**\n",
    "\n",
    "При исследовании признаков после обучения был сделан вывод о том, что наиболее полезным принаком при обучении модели является начальная температура партии, также данные о некоторых присадках и время процесса плавки."
   ]
  },
  {
   "cell_type": "markdown",
   "id": "8190cc0e",
   "metadata": {},
   "source": [
    "# Вывод"
   ]
  },
  {
   "cell_type": "markdown",
   "id": "72e40c65",
   "metadata": {},
   "source": [
    "В ходе решения задачи было проанализировано неколько моделей машинного обучения, среди них: модель обучающего дерева модель леса деревьев, а также модель градиентного бустинга. Все модели были проверены при помощи кросс-валидации на тренировочных выборках.\n",
    "\n",
    "Лучше всего с задачей предсказания финальной температуры справляется модель LGBM, гиперпараметры модели составили n_estimators=30, num_leaves=25, max_depth = 30, learning_rate=0.1, random_seed=140823. Итоговое значение метрики MAE составило 6,62, что удовлеторяет запросу заказчика.\n",
    "\n",
    "Также модель была сравнена с константной, был сделан вывод о том, что она лучше константной предсказывает температуру на 1,5 градуса."
   ]
  },
  {
   "cell_type": "markdown",
   "id": "75785f55",
   "metadata": {},
   "source": [
    "# Отчет"
   ]
  },
  {
   "cell_type": "markdown",
   "id": "1141d6e7",
   "metadata": {},
   "source": [
    "**Трудности**\n",
    "\n",
    "В ходе работы над проектом возникли следующие трудности: \n",
    "\n",
    "1) Изначально было непонятно каким образом объединить данные. В ходе работы над проектом был получен комментарий тимлида: по ключу;\n",
    "\n",
    "2) Также непонятно было, какую метрику использовать для оценки модели. Также в ходе работы над проектом был получен комментарий от тимлида по этому поводу: метрику MAE;\n",
    "\n",
    "3) Также были вопросы по поводу касательно обработки пропусков в данных и аномалий. Данный вопрос был также уточнен тимлидом.\n",
    "\n",
    "\n",
    "**Исследовательский анализ данных**\n",
    "\n",
    "Был проведен первоначальный анализ данных. В его процессе были выполнены следующие пункты:\n",
    "\n",
    "1) Была произведена загрузка и изучение данных;\n",
    "\n",
    "2) Были удалены аномалии в датафреймах с температурой (температуры, выше температуры плавления) и мощностью (отрицательная реактивная мощность);\n",
    "\n",
    "3) Была произведена первоначальная предобработка. Столбцы с датой и временем были заменены на общее время процесса плавки. Удалена реактивная мощность, так как она обладала коллинеарностью с активной мощностью. Также были удалены столбцы с объемами  тех легирующих элементов, которые практически не использовались в процессе плавки;\n",
    "\n",
    "4) Было произведено объединение датафреймов с температурой, объемами легирующих веществ, активной мощностью, газом. Объединение было произведено по ключу партии. Объединение было произведено при помощи метода merge (inner);\n",
    "\n",
    "5) После этого были удалены строки в которых есть пропуски (в столбцах с температурой, мощнолстью и временем процесса). Также был удален столбец со значением ключа номера партии;\n",
    "\n",
    "6) Итоговый датафрейм состоял из следующих столбцов: время процесса плавки, первоначальная температура, активная мощность, газ, а также объемы легирующих элементов, конечная температура (целевой признак).\n",
    "\n",
    "**Машинное обучение**\n",
    "\n",
    "1) Далее датафрейм был разбит на признаки для обучения и целевой признак (финальная температура). Соотношение между тестовой и обучающей выборкой составило 1:3;\n",
    "\n",
    "2) Далее вручную была проведена кросс-валидация. Тренировочная выборка была разделена 1:2. Кросс-валидация проводилась на следующих моделях машинного обучения: RandomForestRegressor, DecisionTreeRegressor и LigtGBM. Лучше всего показала себя модель машинного обучения LGBM, наилучший результат по ней составил 6.97;\n",
    "\n",
    "3) Далее была проведена автоматическая кросс-валидация с подбором параметров уже только на модели LGBM при помощи метода GridSearchCV;\n",
    "\n",
    "4) Далее были промасштабированы признаки для обучения тестовой и тренировочной выборки;\n",
    "\n",
    "5) Модель LGBM была заново обучена целиком на тренировочной выборке и показала результат на метрике MAE 6,62, что удовлетворяет требованиям заказчика. Гиперпараметры модели следующие:  n_estimators=30, num_leaves=25, max_depth = 30, learning_rate=0.1, random_seed=140823;\n",
    "\n",
    "6) Далее была создана константная модель, предсказывающая среднее по всему датафрейму значение финальной температуры. Значение метрики MAE составило 8, что является более плохим результатом по сравнению с моделью LGBM на 1.4 градуса;\n",
    "\n",
    "7) Далее было произведено SHAP исследование, с помощью которого были выявлены наиболее важные для обучения модели признаки. Исследование показало, что наиболее полезным принаком при обучении модели является начальная температура партии, также данные о некоторых присадках и время процесса плавки."
   ]
  }
 ],
 "metadata": {
  "ExecuteTimeLog": [
   {
    "duration": 398,
    "start_time": "2023-08-15T11:09:08.484Z"
   },
   {
    "duration": 125,
    "start_time": "2023-08-15T11:09:08.885Z"
   },
   {
    "duration": 155,
    "start_time": "2023-08-15T11:09:36.241Z"
   },
   {
    "duration": 1795,
    "start_time": "2023-08-18T19:15:09.908Z"
   },
   {
    "duration": 246,
    "start_time": "2023-08-18T19:15:11.705Z"
   },
   {
    "duration": 4,
    "start_time": "2023-08-18T19:18:05.488Z"
   },
   {
    "duration": 243,
    "start_time": "2023-08-18T19:18:05.493Z"
   },
   {
    "duration": 65,
    "start_time": "2023-08-18T19:18:05.738Z"
   },
   {
    "duration": 6,
    "start_time": "2023-08-18T19:18:05.805Z"
   },
   {
    "duration": 52,
    "start_time": "2023-08-18T19:18:05.813Z"
   },
   {
    "duration": 5,
    "start_time": "2023-08-18T19:18:05.866Z"
   },
   {
    "duration": 35,
    "start_time": "2023-08-18T19:18:05.873Z"
   },
   {
    "duration": 22,
    "start_time": "2023-08-18T19:18:05.909Z"
   },
   {
    "duration": 4,
    "start_time": "2023-08-18T19:18:05.932Z"
   },
   {
    "duration": 30,
    "start_time": "2023-08-18T19:18:05.937Z"
   },
   {
    "duration": 13,
    "start_time": "2023-08-18T19:18:05.969Z"
   },
   {
    "duration": 6,
    "start_time": "2023-08-18T19:18:05.983Z"
   },
   {
    "duration": 26,
    "start_time": "2023-08-18T19:18:05.990Z"
   },
   {
    "duration": 14,
    "start_time": "2023-08-18T19:18:06.018Z"
   },
   {
    "duration": 7,
    "start_time": "2023-08-18T19:18:06.034Z"
   },
   {
    "duration": 15,
    "start_time": "2023-08-18T19:18:06.042Z"
   },
   {
    "duration": 33,
    "start_time": "2023-08-18T19:18:06.059Z"
   },
   {
    "duration": 16,
    "start_time": "2023-08-18T19:18:06.095Z"
   },
   {
    "duration": 49083,
    "start_time": "2023-08-18T19:18:06.112Z"
   },
   {
    "duration": 12,
    "start_time": "2023-08-18T19:18:55.197Z"
   },
   {
    "duration": 45017,
    "start_time": "2023-08-18T19:18:59.938Z"
   },
   {
    "duration": 18,
    "start_time": "2023-08-18T19:19:44.957Z"
   },
   {
    "duration": 3,
    "start_time": "2023-08-18T19:20:15.849Z"
   },
   {
    "duration": 3,
    "start_time": "2023-08-18T19:21:34.832Z"
   },
   {
    "duration": 246,
    "start_time": "2023-08-18T19:21:34.837Z"
   },
   {
    "duration": 52,
    "start_time": "2023-08-18T19:21:35.084Z"
   },
   {
    "duration": 6,
    "start_time": "2023-08-18T19:21:35.138Z"
   },
   {
    "duration": 29,
    "start_time": "2023-08-18T19:21:35.146Z"
   },
   {
    "duration": 6,
    "start_time": "2023-08-18T19:21:35.177Z"
   },
   {
    "duration": 17,
    "start_time": "2023-08-18T19:21:35.184Z"
   },
   {
    "duration": 26,
    "start_time": "2023-08-18T19:21:35.202Z"
   },
   {
    "duration": 25,
    "start_time": "2023-08-18T19:21:35.230Z"
   },
   {
    "duration": 39,
    "start_time": "2023-08-18T19:21:35.257Z"
   },
   {
    "duration": 12,
    "start_time": "2023-08-18T19:21:35.298Z"
   },
   {
    "duration": 25,
    "start_time": "2023-08-18T19:21:35.312Z"
   },
   {
    "duration": 25,
    "start_time": "2023-08-18T19:21:35.339Z"
   },
   {
    "duration": 21,
    "start_time": "2023-08-18T19:21:35.366Z"
   },
   {
    "duration": 17,
    "start_time": "2023-08-18T19:21:35.389Z"
   },
   {
    "duration": 26,
    "start_time": "2023-08-18T19:21:35.407Z"
   },
   {
    "duration": 39,
    "start_time": "2023-08-18T19:21:35.435Z"
   },
   {
    "duration": 19,
    "start_time": "2023-08-18T19:21:35.476Z"
   },
   {
    "duration": 49827,
    "start_time": "2023-08-18T19:21:35.497Z"
   },
   {
    "duration": 45094,
    "start_time": "2023-08-18T19:22:25.326Z"
   },
   {
    "duration": 6,
    "start_time": "2023-08-18T19:23:10.422Z"
   },
   {
    "duration": 31,
    "start_time": "2023-08-18T19:23:10.431Z"
   },
   {
    "duration": 61,
    "start_time": "2023-08-18T19:23:10.464Z"
   },
   {
    "duration": 12,
    "start_time": "2023-08-18T19:23:10.527Z"
   },
   {
    "duration": 37,
    "start_time": "2023-08-18T19:23:10.542Z"
   },
   {
    "duration": 71,
    "start_time": "2023-08-18T19:23:10.581Z"
   },
   {
    "duration": 17,
    "start_time": "2023-08-18T19:23:10.654Z"
   },
   {
    "duration": 10,
    "start_time": "2023-08-18T19:23:10.673Z"
   },
   {
    "duration": 13,
    "start_time": "2023-08-18T19:23:10.685Z"
   },
   {
    "duration": 48,
    "start_time": "2023-08-18T19:23:10.699Z"
   },
   {
    "duration": 476,
    "start_time": "2023-08-18T19:23:10.748Z"
   },
   {
    "duration": 4,
    "start_time": "2023-08-18T19:23:11.225Z"
   },
   {
    "duration": 13,
    "start_time": "2023-08-18T19:23:11.231Z"
   },
   {
    "duration": 14,
    "start_time": "2023-08-18T19:23:11.246Z"
   },
   {
    "duration": 33,
    "start_time": "2023-08-18T19:23:11.263Z"
   },
   {
    "duration": 7,
    "start_time": "2023-08-18T19:24:01.857Z"
   },
   {
    "duration": 6,
    "start_time": "2023-08-18T19:24:04.726Z"
   },
   {
    "duration": 30,
    "start_time": "2023-08-18T19:24:07.954Z"
   }
  ],
  "kernelspec": {
   "display_name": "Python 3 (ipykernel)",
   "language": "python",
   "name": "python3"
  },
  "language_info": {
   "codemirror_mode": {
    "name": "ipython",
    "version": 3
   },
   "file_extension": ".py",
   "mimetype": "text/x-python",
   "name": "python",
   "nbconvert_exporter": "python",
   "pygments_lexer": "ipython3",
   "version": "3.11.5"
  },
  "toc": {
   "base_numbering": 1,
   "nav_menu": {},
   "number_sections": true,
   "sideBar": true,
   "skip_h1_title": false,
   "title_cell": "Table of Contents",
   "title_sidebar": "Contents",
   "toc_cell": false,
   "toc_position": {},
   "toc_section_display": true,
   "toc_window_display": false
  }
 },
 "nbformat": 4,
 "nbformat_minor": 5
}
