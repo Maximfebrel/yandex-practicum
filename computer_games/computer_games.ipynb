{
 "cells": [
  {
   "cell_type": "markdown",
   "metadata": {},
   "source": [
    "# Исследование о продаже компьютерных игр\n",
    "\n",
    "Вы работаете в интернет-магазине «Стримчик», который продаёт по всему миру компьютерные игры. Из открытых источников доступны исторические данные о продажах игр, оценки пользователей и экспертов, жанры и платформы (например, Xbox или PlayStation). Вам нужно выявить определяющие успешность игры закономерности. Это позволит сделать ставку на потенциально популярный продукт и спланировать рекламные кампании.\n",
    "\n",
    "**Цель**\n",
    "\n",
    "Выявить закономерности, определяющие закономерность игры\n",
    "\n",
    "**Описание данных**\n",
    "\n",
    "Name — название игры\n",
    "\n",
    "Platform — платформа\n",
    "\n",
    "Year_of_Release — год выпуска\n",
    "\n",
    "Genre — жанр игры\n",
    "\n",
    "NA_sales — продажи в Северной Америке (миллионы проданных копий)\n",
    "\n",
    "EU_sales — продажи в Европе (миллионы проданных копий)\n",
    "\n",
    "JP_sales — продажи в Японии (миллионы проданных копий)\n",
    "\n",
    "Other_sales — продажи в других странах (миллионы проданных копий)\n",
    "\n",
    "Critic_Score — оценка критиков (максимум 100)\n",
    "\n",
    "User_Score — оценка пользователей (максимум 10)\n",
    "\n",
    "Rating — рейтинг от организации ESRB (англ. Entertainment Software Rating Board). Эта ассоциация определяет рейтинг компьютерных игр и присваивает им подходящую возрастную категорию.\n",
    "\n",
    "**План работы**\n",
    "\n",
    "1) просмотреть данные;\n",
    "\n",
    "2) привести названия столбцов к необходимому регистру\n",
    "\n",
    "3) обработать пропуски;\n",
    "\n",
    "4) провести исследовательский анализ данных;\n",
    "\n",
    "5) провести статистический анализ данных\n",
    "\n",
    "6) сделать общий вывод.\n",
    "\n"
   ]
  },
  {
   "cell_type": "markdown",
   "metadata": {},
   "source": [
    "# 1 Предобработка данных"
   ]
  },
  {
   "cell_type": "code",
   "execution_count": 1,
   "metadata": {},
   "outputs": [
    {
     "name": "stdout",
     "output_type": "stream",
     "text": [
      "                       Name Platform  Year_of_Release         Genre  NA_sales  \\\n",
      "0                Wii Sports      Wii           2006.0        Sports     41.36   \n",
      "1         Super Mario Bros.      NES           1985.0      Platform     29.08   \n",
      "2            Mario Kart Wii      Wii           2008.0        Racing     15.68   \n",
      "3         Wii Sports Resort      Wii           2009.0        Sports     15.61   \n",
      "4  Pokemon Red/Pokemon Blue       GB           1996.0  Role-Playing     11.27   \n",
      "\n",
      "   EU_sales  JP_sales  Other_sales  Critic_Score User_Score Rating  \n",
      "0     28.96      3.77         8.45          76.0          8      E  \n",
      "1      3.58      6.81         0.77           NaN        NaN    NaN  \n",
      "2     12.76      3.79         3.29          82.0        8.3      E  \n",
      "3     10.93      3.28         2.95          80.0          8      E  \n",
      "4      8.89     10.22         1.00           NaN        NaN    NaN  \n"
     ]
    }
   ],
   "source": [
    "import pandas as pd\n",
    "import matplotlib.pyplot as plt\n",
    "\n",
    "data = pd.read_csv('/datasets/games.csv')\n",
    "print(data.head())"
   ]
  },
  {
   "cell_type": "code",
   "execution_count": 2,
   "metadata": {},
   "outputs": [
    {
     "name": "stdout",
     "output_type": "stream",
     "text": [
      "<class 'pandas.core.frame.DataFrame'>\n",
      "RangeIndex: 16715 entries, 0 to 16714\n",
      "Data columns (total 11 columns):\n",
      " #   Column           Non-Null Count  Dtype  \n",
      "---  ------           --------------  -----  \n",
      " 0   Name             16713 non-null  object \n",
      " 1   Platform         16715 non-null  object \n",
      " 2   Year_of_Release  16446 non-null  float64\n",
      " 3   Genre            16713 non-null  object \n",
      " 4   NA_sales         16715 non-null  float64\n",
      " 5   EU_sales         16715 non-null  float64\n",
      " 6   JP_sales         16715 non-null  float64\n",
      " 7   Other_sales      16715 non-null  float64\n",
      " 8   Critic_Score     8137 non-null   float64\n",
      " 9   User_Score       10014 non-null  object \n",
      " 10  Rating           9949 non-null   object \n",
      "dtypes: float64(6), object(5)\n",
      "memory usage: 1.4+ MB\n"
     ]
    }
   ],
   "source": [
    "data.info()"
   ]
  },
  {
   "cell_type": "code",
   "execution_count": 3,
   "metadata": {},
   "outputs": [],
   "source": [
    "data = data.rename(\n",
    "columns={\n",
    "    'Name' : 'name',\n",
    "    'Platform' : 'platform',\n",
    "    'Year_of_Release' : 'year_of_release',\n",
    "    'Genre' : 'genre',\n",
    "    'NA_sales' : 'na_sales',\n",
    "    'EU_sales' : 'eu_sales',\n",
    "    'JP_sales' : 'jp_sales',\n",
    "    'Other_sales' : 'other_sales',\n",
    "    'Critic_Score' : 'critic_score',\n",
    "    'User_Score' : 'user_score',\n",
    "    'Rating' : 'rating'\n",
    "}\n",
    ")"
   ]
  },
  {
   "cell_type": "code",
   "execution_count": 4,
   "metadata": {},
   "outputs": [],
   "source": [
    "data['user_score'] = pd.to_numeric(data['user_score'], errors='coerce')"
   ]
  },
  {
   "cell_type": "code",
   "execution_count": 5,
   "metadata": {},
   "outputs": [
    {
     "data": {
      "text/plain": [
       "0"
      ]
     },
     "execution_count": 5,
     "metadata": {},
     "output_type": "execute_result"
    }
   ],
   "source": [
    "data['name'] = data['name'].str.lower()\n",
    "\n",
    "data.duplicated().sum()"
   ]
  },
  {
   "cell_type": "code",
   "execution_count": 6,
   "metadata": {},
   "outputs": [],
   "source": [
    "data = data.dropna(subset=['name', 'genre'])"
   ]
  },
  {
   "cell_type": "code",
   "execution_count": 7,
   "metadata": {
    "scrolled": true
   },
   "outputs": [
    {
     "name": "stdout",
     "output_type": "stream",
     "text": [
      "<class 'pandas.core.frame.DataFrame'>\n",
      "Int64Index: 16713 entries, 0 to 16714\n",
      "Data columns (total 11 columns):\n",
      " #   Column           Non-Null Count  Dtype  \n",
      "---  ------           --------------  -----  \n",
      " 0   name             16713 non-null  object \n",
      " 1   platform         16713 non-null  object \n",
      " 2   year_of_release  16444 non-null  float64\n",
      " 3   genre            16713 non-null  object \n",
      " 4   na_sales         16713 non-null  float64\n",
      " 5   eu_sales         16713 non-null  float64\n",
      " 6   jp_sales         16713 non-null  float64\n",
      " 7   other_sales      16713 non-null  float64\n",
      " 8   critic_score     8137 non-null   float64\n",
      " 9   user_score       7590 non-null   float64\n",
      " 10  rating           9949 non-null   object \n",
      "dtypes: float64(7), object(4)\n",
      "memory usage: 1.5+ MB\n"
     ]
    }
   ],
   "source": [
    "data.info()"
   ]
  },
  {
   "cell_type": "code",
   "execution_count": 8,
   "metadata": {
    "scrolled": true
   },
   "outputs": [
    {
     "data": {
      "text/html": [
       "<div>\n",
       "<style scoped>\n",
       "    .dataframe tbody tr th:only-of-type {\n",
       "        vertical-align: middle;\n",
       "    }\n",
       "\n",
       "    .dataframe tbody tr th {\n",
       "        vertical-align: top;\n",
       "    }\n",
       "\n",
       "    .dataframe thead th {\n",
       "        text-align: right;\n",
       "    }\n",
       "</style>\n",
       "<table border=\"1\" class=\"dataframe\">\n",
       "  <thead>\n",
       "    <tr style=\"text-align: right;\">\n",
       "      <th></th>\n",
       "      <th>year_of_release</th>\n",
       "      <th>na_sales</th>\n",
       "      <th>eu_sales</th>\n",
       "      <th>jp_sales</th>\n",
       "      <th>other_sales</th>\n",
       "      <th>critic_score</th>\n",
       "      <th>user_score</th>\n",
       "    </tr>\n",
       "  </thead>\n",
       "  <tbody>\n",
       "    <tr>\n",
       "      <th>year_of_release</th>\n",
       "      <td>1.000000</td>\n",
       "      <td>-0.092326</td>\n",
       "      <td>0.004045</td>\n",
       "      <td>-0.168477</td>\n",
       "      <td>0.037821</td>\n",
       "      <td>0.011411</td>\n",
       "      <td>-0.267851</td>\n",
       "    </tr>\n",
       "    <tr>\n",
       "      <th>na_sales</th>\n",
       "      <td>-0.092326</td>\n",
       "      <td>1.000000</td>\n",
       "      <td>0.765341</td>\n",
       "      <td>0.449668</td>\n",
       "      <td>0.638695</td>\n",
       "      <td>0.240755</td>\n",
       "      <td>0.086200</td>\n",
       "    </tr>\n",
       "    <tr>\n",
       "      <th>eu_sales</th>\n",
       "      <td>0.004045</td>\n",
       "      <td>0.765341</td>\n",
       "      <td>1.000000</td>\n",
       "      <td>0.435079</td>\n",
       "      <td>0.722796</td>\n",
       "      <td>0.220752</td>\n",
       "      <td>0.055337</td>\n",
       "    </tr>\n",
       "    <tr>\n",
       "      <th>jp_sales</th>\n",
       "      <td>-0.168477</td>\n",
       "      <td>0.449668</td>\n",
       "      <td>0.435079</td>\n",
       "      <td>1.000000</td>\n",
       "      <td>0.291090</td>\n",
       "      <td>0.152593</td>\n",
       "      <td>0.125598</td>\n",
       "    </tr>\n",
       "    <tr>\n",
       "      <th>other_sales</th>\n",
       "      <td>0.037821</td>\n",
       "      <td>0.638695</td>\n",
       "      <td>0.722796</td>\n",
       "      <td>0.291090</td>\n",
       "      <td>1.000000</td>\n",
       "      <td>0.198554</td>\n",
       "      <td>0.057119</td>\n",
       "    </tr>\n",
       "    <tr>\n",
       "      <th>critic_score</th>\n",
       "      <td>0.011411</td>\n",
       "      <td>0.240755</td>\n",
       "      <td>0.220752</td>\n",
       "      <td>0.152593</td>\n",
       "      <td>0.198554</td>\n",
       "      <td>1.000000</td>\n",
       "      <td>0.580878</td>\n",
       "    </tr>\n",
       "    <tr>\n",
       "      <th>user_score</th>\n",
       "      <td>-0.267851</td>\n",
       "      <td>0.086200</td>\n",
       "      <td>0.055337</td>\n",
       "      <td>0.125598</td>\n",
       "      <td>0.057119</td>\n",
       "      <td>0.580878</td>\n",
       "      <td>1.000000</td>\n",
       "    </tr>\n",
       "  </tbody>\n",
       "</table>\n",
       "</div>"
      ],
      "text/plain": [
       "                 year_of_release  na_sales  eu_sales  jp_sales  other_sales  \\\n",
       "year_of_release         1.000000 -0.092326  0.004045 -0.168477     0.037821   \n",
       "na_sales               -0.092326  1.000000  0.765341  0.449668     0.638695   \n",
       "eu_sales                0.004045  0.765341  1.000000  0.435079     0.722796   \n",
       "jp_sales               -0.168477  0.449668  0.435079  1.000000     0.291090   \n",
       "other_sales             0.037821  0.638695  0.722796  0.291090     1.000000   \n",
       "critic_score            0.011411  0.240755  0.220752  0.152593     0.198554   \n",
       "user_score             -0.267851  0.086200  0.055337  0.125598     0.057119   \n",
       "\n",
       "                 critic_score  user_score  \n",
       "year_of_release      0.011411   -0.267851  \n",
       "na_sales             0.240755    0.086200  \n",
       "eu_sales             0.220752    0.055337  \n",
       "jp_sales             0.152593    0.125598  \n",
       "other_sales          0.198554    0.057119  \n",
       "critic_score         1.000000    0.580878  \n",
       "user_score           0.580878    1.000000  "
      ]
     },
     "execution_count": 8,
     "metadata": {},
     "output_type": "execute_result"
    }
   ],
   "source": [
    "data.corr()"
   ]
  },
  {
   "cell_type": "code",
   "execution_count": 9,
   "metadata": {},
   "outputs": [],
   "source": [
    "data['sum_sales'] = data['eu_sales'] + data['na_sales'] + data['jp_sales'] + data['other_sales']"
   ]
  },
  {
   "cell_type": "code",
   "execution_count": 10,
   "metadata": {},
   "outputs": [],
   "source": [
    "data['rating'] = data['rating'].fillna(0)"
   ]
  },
  {
   "cell_type": "markdown",
   "metadata": {},
   "source": [
    "**Вывод**\n",
    "\n",
    "Была проведена первичная предобработка данных. По ее проведении были сделаны следующие выводы: \n",
    "\n",
    "1) в данных отсутствуют дубликаты;\n",
    "\n",
    "2) был изменен тип данных в столбце 'user_score' на вещественный. Значение \"tbd\" было заменено на Nan, в силу того, что согласно интернет-ресурсам данная аббревиатура обозначет \"to be done\", т.е. должно быть сделано, то есть отметка еще не поставлена, значит она отсутствует;\n",
    "\n",
    "3) были изменены названия столбцов на нижний регистр;\n",
    "\n",
    "4) при этом пропуски были удалены в столбцах названия и жанра, в силу того, что пропущены всего 4 строки;\n",
    "\n",
    "5) при этом пропуски в столбцах год выпуска, оценка критиков, пользовательская оценка и рейтинг были оставлены, так как заполнение их другими значениями может привести к искажению данных;\n",
    "\n",
    "6) причины пропусков в столбце год и рейтинг могут быть вызваны ошибкой в копировании данных и некоторые данные были пропущены; пропуски в стобцах с рейтингом и оценкой могут быть вызваны тем, что оценки и рейтинг на данную игру отсутствуют;\n",
    "\n",
    "7) также были посчитаны суммарные продажи в регионах."
   ]
  },
  {
   "cell_type": "markdown",
   "metadata": {},
   "source": [
    "# 2 Исследовательский анализ данных"
   ]
  },
  {
   "cell_type": "code",
   "execution_count": 11,
   "metadata": {
    "scrolled": true
   },
   "outputs": [
    {
     "data": {
      "text/plain": [
       "<AxesSubplot:>"
      ]
     },
     "execution_count": 11,
     "metadata": {},
     "output_type": "execute_result"
    },
    {
     "data": {
      "image/png": "[encoded data removed]",
      "text/plain": [
       "<Figure size 432x288 with 1 Axes>"
      ]
     },
     "metadata": {
      "needs_background": "light"
     },
     "output_type": "display_data"
    }
   ],
   "source": [
    "data['year_of_release'].hist()"
   ]
  },
  {
   "cell_type": "markdown",
   "metadata": {},
   "source": [
    "**Вывод**\n",
    "\n",
    "В силу того, что до 1995 года продажи игр практически отсустствуют, эти данные можно не брать для анализа, также следует отметить, что со временем качество компьютерных игры улучшается, поэтому до 1995 года, возможно, люди в них и не играли. Также следует отметить, что индустрия компьютерных игр- динамичная отрасль, в которой меняется все очень быстро, поэтому далее будут рассматриваться данные после 2014 года."
   ]
  },
  {
   "cell_type": "code",
   "execution_count": 12,
   "metadata": {
    "scrolled": true
   },
   "outputs": [
    {
     "data": {
      "text/plain": [
       "<AxesSubplot:>"
      ]
     },
     "execution_count": 12,
     "metadata": {},
     "output_type": "execute_result"
    },
    {
     "data": {
      "image/png": "[encoded data removed]",
      "text/plain": [
       "<Figure size 432x288 with 1 Axes>"
      ]
     },
     "metadata": {
      "needs_background": "light"
     },
     "output_type": "display_data"
    }
   ],
   "source": [
    "data.query('year_of_release > 2014')['year_of_release'].hist()\n"
   ]
  },
  {
   "cell_type": "markdown",
   "metadata": {},
   "source": [
    "**Вывод**\n",
    "\n",
    "В силу того, что анализировать данные за все года не имеет смысла (популярность игр со временем меняется), данные до 2014 года были отброшены для анализа. Из графика можно сделать вывод, что на данный момент спрос на компьютерные игры падает."
   ]
  },
  {
   "cell_type": "code",
   "execution_count": 13,
   "metadata": {},
   "outputs": [],
   "source": [
    "data_for_popular = data.query('year_of_release > 2014').copy()"
   ]
  },
  {
   "cell_type": "code",
   "execution_count": 14,
   "metadata": {
    "scrolled": true
   },
   "outputs": [
    {
     "data": {
      "text/plain": [
       "platform\n",
       "PS4     188.15\n",
       "XOne     86.29\n",
       "3DS      42.92\n",
       "WiiU     20.95\n",
       "PS3      20.42\n",
       "Name: sum_sales, dtype: float64"
      ]
     },
     "metadata": {},
     "output_type": "display_data"
    },
    {
     "data": {
      "image/png": "[encoded data removed]",
      "text/plain": [
       "<Figure size 432x288 with 1 Axes>"
      ]
     },
     "metadata": {
      "needs_background": "light"
     },
     "output_type": "display_data"
    },
    {
     "data": {
      "image/png": "[encoded data removed]",
      "text/plain": [
       "<Figure size 432x288 with 1 Axes>"
      ]
     },
     "metadata": {
      "needs_background": "light"
     },
     "output_type": "display_data"
    },
    {
     "data": {
      "image/png": "[encoded data removed]",
      "text/plain": [
       "<Figure size 432x288 with 1 Axes>"
      ]
     },
     "metadata": {
      "needs_background": "light"
     },
     "output_type": "display_data"
    },
    {
     "data": {
      "image/png": "[encoded data removed]",
      "text/plain": [
       "<Figure size 432x288 with 1 Axes>"
      ]
     },
     "metadata": {
      "needs_background": "light"
     },
     "output_type": "display_data"
    },
    {
     "data": {
      "image/png": "[encoded data removed]",
      "text/plain": [
       "<Figure size 432x288 with 1 Axes>"
      ]
     },
     "metadata": {
      "needs_background": "light"
     },
     "output_type": "display_data"
    }
   ],
   "source": [
    "most_popular = data_for_popular.groupby('platform')['sum_sales'].sum().sort_values(ascending=False).head()\n",
    "display(most_popular)\n",
    "popular = ['PS4', 'XOne', '3DS', 'WiiU', 'PS3']\n",
    "\n",
    "for unique in popular:\n",
    "    data_for_popular.loc[data_for_popular['platform'] == unique, 'year_of_release'].plot(y='sum_sales', title=unique, kind='hist', bins=50)\n",
    "    plt.show()"
   ]
  },
  {
   "cell_type": "code",
   "execution_count": 15,
   "metadata": {
    "scrolled": true
   },
   "outputs": [
    {
     "data": {
      "text/html": [
       "<div>\n",
       "<style scoped>\n",
       "    .dataframe tbody tr th:only-of-type {\n",
       "        vertical-align: middle;\n",
       "    }\n",
       "\n",
       "    .dataframe tbody tr th {\n",
       "        vertical-align: top;\n",
       "    }\n",
       "\n",
       "    .dataframe thead tr th {\n",
       "        text-align: left;\n",
       "    }\n",
       "\n",
       "    .dataframe thead tr:last-of-type th {\n",
       "        text-align: right;\n",
       "    }\n",
       "</style>\n",
       "<table border=\"1\" class=\"dataframe\">\n",
       "  <thead>\n",
       "    <tr>\n",
       "      <th></th>\n",
       "      <th>min</th>\n",
       "      <th>max</th>\n",
       "      <th>diff</th>\n",
       "    </tr>\n",
       "    <tr>\n",
       "      <th></th>\n",
       "      <th>year_of_release</th>\n",
       "      <th>year_of_release</th>\n",
       "      <th></th>\n",
       "    </tr>\n",
       "    <tr>\n",
       "      <th>platform</th>\n",
       "      <th></th>\n",
       "      <th></th>\n",
       "      <th></th>\n",
       "    </tr>\n",
       "  </thead>\n",
       "  <tbody>\n",
       "    <tr>\n",
       "      <th>3DS</th>\n",
       "      <td>2011.0</td>\n",
       "      <td>2016.0</td>\n",
       "      <td>5.0</td>\n",
       "    </tr>\n",
       "    <tr>\n",
       "      <th>PS3</th>\n",
       "      <td>2006.0</td>\n",
       "      <td>2016.0</td>\n",
       "      <td>10.0</td>\n",
       "    </tr>\n",
       "    <tr>\n",
       "      <th>PS4</th>\n",
       "      <td>2013.0</td>\n",
       "      <td>2016.0</td>\n",
       "      <td>3.0</td>\n",
       "    </tr>\n",
       "    <tr>\n",
       "      <th>WiiU</th>\n",
       "      <td>2012.0</td>\n",
       "      <td>2016.0</td>\n",
       "      <td>4.0</td>\n",
       "    </tr>\n",
       "    <tr>\n",
       "      <th>XOne</th>\n",
       "      <td>2013.0</td>\n",
       "      <td>2016.0</td>\n",
       "      <td>3.0</td>\n",
       "    </tr>\n",
       "  </tbody>\n",
       "</table>\n",
       "</div>"
      ],
      "text/plain": [
       "                     min             max  diff\n",
       "         year_of_release year_of_release      \n",
       "platform                                      \n",
       "3DS               2011.0          2016.0   5.0\n",
       "PS3               2006.0          2016.0  10.0\n",
       "PS4               2013.0          2016.0   3.0\n",
       "WiiU              2012.0          2016.0   4.0\n",
       "XOne              2013.0          2016.0   3.0"
      ]
     },
     "execution_count": 15,
     "metadata": {},
     "output_type": "execute_result"
    }
   ],
   "source": [
    "time_of_platform = data.query('year_of_release > 2000').query('platform == @popular').pivot_table(index='platform', values='year_of_release', aggfunc=['min', 'max'])\n",
    "time_of_platform['diff'] = time_of_platform['max'] - time_of_platform['min']\n",
    "time_of_platform"
   ]
  },
  {
   "cell_type": "markdown",
   "metadata": {},
   "source": [
    "**Вывод**\n",
    "\n",
    "В среднем платформа, на которой играют в игры \"живет около 5 лет\", существует выброс у платформы DS, так как согласно графику первая игра на ней была сыграна еще в 1985 году, однако потом около 20 лет на ней не вышла почти ни одна игра, поэтому эти данные можно отбросить и анализировать платформы без них. "
   ]
  },
  {
   "cell_type": "code",
   "execution_count": 16,
   "metadata": {},
   "outputs": [],
   "source": [
    "data = data.query('year_of_release > 2014')"
   ]
  },
  {
   "cell_type": "markdown",
   "metadata": {},
   "source": [
    "**Вывод**\n",
    "\n",
    "В связи с доводами, приведенными выше, для анализа были оставлены данные об играх, которые были выпущены после 2014 года."
   ]
  },
  {
   "cell_type": "code",
   "execution_count": 17,
   "metadata": {
    "scrolled": false
   },
   "outputs": [
    {
     "data": {
      "image/png": "[encoded data removed]",
      "text/plain": [
       "<Figure size 432x288 with 1 Axes>"
      ]
     },
     "metadata": {
      "needs_background": "light"
     },
     "output_type": "display_data"
    },
    {
     "data": {
      "image/png": "[encoded data removed]",
      "text/plain": [
       "<Figure size 432x288 with 1 Axes>"
      ]
     },
     "metadata": {
      "needs_background": "light"
     },
     "output_type": "display_data"
    },
    {
     "data": {
      "image/png": "[encoded data removed]",
      "text/plain": [
       "<Figure size 432x288 with 1 Axes>"
      ]
     },
     "metadata": {
      "needs_background": "light"
     },
     "output_type": "display_data"
    },
    {
     "data": {
      "image/png": "[encoded data removed]",
      "text/plain": [
       "<Figure size 432x288 with 1 Axes>"
      ]
     },
     "metadata": {
      "needs_background": "light"
     },
     "output_type": "display_data"
    },
    {
     "data": {
      "image/png": "[encoded data removed]",
      "text/plain": [
       "<Figure size 432x288 with 1 Axes>"
      ]
     },
     "metadata": {
      "needs_background": "light"
     },
     "output_type": "display_data"
    },
    {
     "data": {
      "image/png": "[encoded data removed]",
      "text/plain": [
       "<Figure size 432x288 with 1 Axes>"
      ]
     },
     "metadata": {
      "needs_background": "light"
     },
     "output_type": "display_data"
    },
    {
     "data": {
      "image/png": "[encoded data removed]",
      "text/plain": [
       "<Figure size 432x288 with 1 Axes>"
      ]
     },
     "metadata": {
      "needs_background": "light"
     },
     "output_type": "display_data"
    },
    {
     "data": {
      "image/png": "[encoded data removed]",
      "text/plain": [
       "<Figure size 432x288 with 1 Axes>"
      ]
     },
     "metadata": {
      "needs_background": "light"
     },
     "output_type": "display_data"
    },
    {
     "data": {
      "image/png": "[encoded data removed]",
      "text/plain": [
       "<Figure size 432x288 with 1 Axes>"
      ]
     },
     "metadata": {
      "needs_background": "light"
     },
     "output_type": "display_data"
    },
    {
     "data": {
      "image/png": "[encoded data removed]",
      "text/plain": [
       "<Figure size 432x288 with 1 Axes>"
      ]
     },
     "metadata": {
      "needs_background": "light"
     },
     "output_type": "display_data"
    }
   ],
   "source": [
    "for unique, group in data.groupby('platform'):\n",
    "    data.loc[data['platform'] == unique, 'year_of_release'].plot(y='sum_sales', title=unique, kind='hist', bins=50)\n",
    "    plt.show()"
   ]
  },
  {
   "cell_type": "code",
   "execution_count": 18,
   "metadata": {},
   "outputs": [
    {
     "data": {
      "text/html": [
       "<div>\n",
       "<style scoped>\n",
       "    .dataframe tbody tr th:only-of-type {\n",
       "        vertical-align: middle;\n",
       "    }\n",
       "\n",
       "    .dataframe tbody tr th {\n",
       "        vertical-align: top;\n",
       "    }\n",
       "\n",
       "    .dataframe thead th {\n",
       "        text-align: right;\n",
       "    }\n",
       "</style>\n",
       "<table border=\"1\" class=\"dataframe\">\n",
       "  <thead>\n",
       "    <tr style=\"text-align: right;\">\n",
       "      <th></th>\n",
       "      <th>sum_sales</th>\n",
       "    </tr>\n",
       "    <tr>\n",
       "      <th>platform</th>\n",
       "      <th></th>\n",
       "    </tr>\n",
       "  </thead>\n",
       "  <tbody>\n",
       "    <tr>\n",
       "      <th>PS4</th>\n",
       "      <td>188.15</td>\n",
       "    </tr>\n",
       "    <tr>\n",
       "      <th>XOne</th>\n",
       "      <td>86.29</td>\n",
       "    </tr>\n",
       "    <tr>\n",
       "      <th>3DS</th>\n",
       "      <td>42.92</td>\n",
       "    </tr>\n",
       "    <tr>\n",
       "      <th>WiiU</th>\n",
       "      <td>20.95</td>\n",
       "    </tr>\n",
       "    <tr>\n",
       "      <th>PS3</th>\n",
       "      <td>20.42</td>\n",
       "    </tr>\n",
       "  </tbody>\n",
       "</table>\n",
       "</div>"
      ],
      "text/plain": [
       "          sum_sales\n",
       "platform           \n",
       "PS4          188.15\n",
       "XOne          86.29\n",
       "3DS           42.92\n",
       "WiiU          20.95\n",
       "PS3           20.42"
      ]
     },
     "execution_count": 18,
     "metadata": {},
     "output_type": "execute_result"
    }
   ],
   "source": [
    "data.pivot_table(index='platform', values='sum_sales', aggfunc='sum').sort_values(by='sum_sales', ascending=False).head()"
   ]
  },
  {
   "cell_type": "markdown",
   "metadata": {},
   "source": [
    "**Вывод**\n",
    "\n",
    "На данный момент платформы с увелчивающимся количеством продаж: PC, PS4, XOne.\n",
    "\n",
    "На данный момент платформы с падающими продажами: 3DS, PS3, PSP, PSV, Wii, WiiU, X360.\n",
    "\n",
    "На данный момент платформы с наибольшим количеством продаж: PS4, XOne, 3DS, WiiU, PS3.\n",
    "\n",
    "С учетом обозначенных выше позиций можно сделать вывод о том, что есть компании с большим растущим количеством продаж: PS4 и XOne при этом среди компаний с большим, но падающим количеством продаж следует отметить слудющие: PS3, Wii, WiiU, 3DS."
   ]
  },
  {
   "cell_type": "code",
   "execution_count": 19,
   "metadata": {},
   "outputs": [],
   "source": [
    "import seaborn as sns"
   ]
  },
  {
   "cell_type": "code",
   "execution_count": 20,
   "metadata": {
    "scrolled": false
   },
   "outputs": [
    {
     "data": {
      "text/plain": [
       "<AxesSubplot:xlabel='sum_sales', ylabel='platform'>"
      ]
     },
     "execution_count": 20,
     "metadata": {},
     "output_type": "execute_result"
    },
    {
     "data": {
      "image/png": "[encoded data removed]",
      "text/plain": [
       "<Figure size 432x288 with 1 Axes>"
      ]
     },
     "metadata": {
      "needs_background": "light"
     },
     "output_type": "display_data"
    }
   ],
   "source": [
    "alive_platform = ['3DS', 'PS3', 'PSP', 'Wii', 'WiiU', 'X360', 'PC', 'PS4', 'PSV', 'XOne', 'PSV']\n",
    "platforms = data.copy()\n",
    "platforms = platforms.query('platform == @alive_platform')\n",
    "\n",
    "plt.xlim(0, 2)  \n",
    "sns.boxplot(y=\"platform\", x=\"sum_sales\", data=platforms, orient=\"h\")"
   ]
  },
  {
   "cell_type": "markdown",
   "metadata": {},
   "source": [
    "**Вывод**\n",
    "\n",
    "Как видно из графика, в среднем у платформ, которые создают игры на настоящий момент, среднее количество проданных игр аходится в пределах до 250 тыс. штук. Также следует сделать вывод о том, что существует также множество игр, у которых есть существенные \"взлеты\" в продажах. Однако в большинстве своем, игры продаются до 750 тыс. штук."
   ]
  },
  {
   "cell_type": "markdown",
   "metadata": {},
   "source": [
    "**Выбор наиболее перспективной платформы**\n",
    "\n",
    "В качестве популярной платформы следует выбрать платформу с растущим большим количеством продаж. Как было отмечено выше под данный критерий попадают платформы PS4 и XOne."
   ]
  },
  {
   "cell_type": "code",
   "execution_count": 21,
   "metadata": {
    "scrolled": false
   },
   "outputs": [
    {
     "data": {
      "text/html": [
       "<div>\n",
       "<style scoped>\n",
       "    .dataframe tbody tr th:only-of-type {\n",
       "        vertical-align: middle;\n",
       "    }\n",
       "\n",
       "    .dataframe tbody tr th {\n",
       "        vertical-align: top;\n",
       "    }\n",
       "\n",
       "    .dataframe thead th {\n",
       "        text-align: right;\n",
       "    }\n",
       "</style>\n",
       "<table border=\"1\" class=\"dataframe\">\n",
       "  <thead>\n",
       "    <tr style=\"text-align: right;\">\n",
       "      <th></th>\n",
       "      <th>critic_score</th>\n",
       "      <th>user_score</th>\n",
       "      <th>sum_sales</th>\n",
       "    </tr>\n",
       "  </thead>\n",
       "  <tbody>\n",
       "    <tr>\n",
       "      <th>critic_score</th>\n",
       "      <td>1.000000</td>\n",
       "      <td>0.576193</td>\n",
       "      <td>0.366566</td>\n",
       "    </tr>\n",
       "    <tr>\n",
       "      <th>user_score</th>\n",
       "      <td>0.576193</td>\n",
       "      <td>1.000000</td>\n",
       "      <td>0.006312</td>\n",
       "    </tr>\n",
       "    <tr>\n",
       "      <th>sum_sales</th>\n",
       "      <td>0.366566</td>\n",
       "      <td>0.006312</td>\n",
       "      <td>1.000000</td>\n",
       "    </tr>\n",
       "  </tbody>\n",
       "</table>\n",
       "</div>"
      ],
      "text/plain": [
       "              critic_score  user_score  sum_sales\n",
       "critic_score      1.000000    0.576193   0.366566\n",
       "user_score        0.576193    1.000000   0.006312\n",
       "sum_sales         0.366566    0.006312   1.000000"
      ]
     },
     "execution_count": 21,
     "metadata": {},
     "output_type": "execute_result"
    },
    {
     "data": {
      "image/png": "[encoded data removed]",
      "text/plain": [
       "<Figure size 432x288 with 1 Axes>"
      ]
     },
     "metadata": {
      "needs_background": "light"
     },
     "output_type": "display_data"
    },
    {
     "data": {
      "image/png": "[encoded data removed]",
      "text/plain": [
       "<Figure size 432x288 with 1 Axes>"
      ]
     },
     "metadata": {
      "needs_background": "light"
     },
     "output_type": "display_data"
    }
   ],
   "source": [
    "data.query('(platform == \"XOne\") & (sum_sales < 1)').plot(title=\"Зависимость продаж от отзывов критиков\", x='critic_score', y='sum_sales', style='o', alpha=0.5)\n",
    "data.query('(platform == \"XOne\") & (sum_sales < 1)').plot(title=\"Зависимость продаж от отзывов пользователей\", x='user_score', y='sum_sales', style='o', alpha=0.7)\n",
    "data.query('(platform == \"XOne\") & (sum_sales < 1)')[['critic_score', 'user_score', 'sum_sales']].corr()"
   ]
  },
  {
   "cell_type": "markdown",
   "metadata": {},
   "source": [
    "**Вывод**\n",
    "\n",
    "Согласно диаграммам расследования наблюдается некоторая прямая зависимость между продажами и отзывами критиков, что подтверждают данные по корреляции. Зависимость между продажами и отзывами пользователей отсутствует."
   ]
  },
  {
   "cell_type": "code",
   "execution_count": 22,
   "metadata": {
    "scrolled": false
   },
   "outputs": [
    {
     "data": {
      "text/html": [
       "<div>\n",
       "<style scoped>\n",
       "    .dataframe tbody tr th:only-of-type {\n",
       "        vertical-align: middle;\n",
       "    }\n",
       "\n",
       "    .dataframe tbody tr th {\n",
       "        vertical-align: top;\n",
       "    }\n",
       "\n",
       "    .dataframe thead th {\n",
       "        text-align: right;\n",
       "    }\n",
       "</style>\n",
       "<table border=\"1\" class=\"dataframe\">\n",
       "  <thead>\n",
       "    <tr style=\"text-align: right;\">\n",
       "      <th></th>\n",
       "      <th>critic_score</th>\n",
       "      <th>user_score</th>\n",
       "      <th>sum_sales</th>\n",
       "    </tr>\n",
       "  </thead>\n",
       "  <tbody>\n",
       "    <tr>\n",
       "      <th>critic_score</th>\n",
       "      <td>1.000000</td>\n",
       "      <td>0.610340</td>\n",
       "      <td>0.333483</td>\n",
       "    </tr>\n",
       "    <tr>\n",
       "      <th>user_score</th>\n",
       "      <td>0.610340</td>\n",
       "      <td>1.000000</td>\n",
       "      <td>0.016041</td>\n",
       "    </tr>\n",
       "    <tr>\n",
       "      <th>sum_sales</th>\n",
       "      <td>0.333483</td>\n",
       "      <td>0.016041</td>\n",
       "      <td>1.000000</td>\n",
       "    </tr>\n",
       "  </tbody>\n",
       "</table>\n",
       "</div>"
      ],
      "text/plain": [
       "              critic_score  user_score  sum_sales\n",
       "critic_score      1.000000    0.610340   0.333483\n",
       "user_score        0.610340    1.000000   0.016041\n",
       "sum_sales         0.333483    0.016041   1.000000"
      ]
     },
     "execution_count": 22,
     "metadata": {},
     "output_type": "execute_result"
    },
    {
     "data": {
      "image/png": "[encoded data removed]",
      "text/plain": [
       "<Figure size 432x288 with 1 Axes>"
      ]
     },
     "metadata": {
      "needs_background": "light"
     },
     "output_type": "display_data"
    },
    {
     "data": {
      "image/png": "[encoded data removed]",
      "text/plain": [
       "<Figure size 432x288 with 1 Axes>"
      ]
     },
     "metadata": {
      "needs_background": "light"
     },
     "output_type": "display_data"
    }
   ],
   "source": [
    "data.query('(platform == \"PS4\") & (sum_sales < 1)').plot(title=\"Зависимость продаж от отзывов критиков\", x='critic_score', y='sum_sales', style='o', alpha=0.5)\n",
    "data.query('(platform == \"PS4\") & (sum_sales < 1)').plot(title=\"Зависимость продаж от отзывов пользователей\", x='user_score', y='sum_sales', style='o', alpha=0.7)\n",
    "data.query('(platform == \"PS4\") & (sum_sales < 1)')[['critic_score', 'user_score', 'sum_sales']].corr()"
   ]
  },
  {
   "cell_type": "markdown",
   "metadata": {},
   "source": [
    "**Вывод** \n",
    "\n",
    "Согласно диаграммам расследования наблюдается некоторая прямая зависимость между продажами и отзывами критиков, что подтверждают данные по корреляции. Зависимость между продажами и отзывами пользователей отсутствует."
   ]
  },
  {
   "cell_type": "code",
   "execution_count": 58,
   "metadata": {
    "scrolled": false
   },
   "outputs": [
    {
     "data": {
      "text/html": [
       "<div>\n",
       "<style scoped>\n",
       "    .dataframe tbody tr th:only-of-type {\n",
       "        vertical-align: middle;\n",
       "    }\n",
       "\n",
       "    .dataframe tbody tr th {\n",
       "        vertical-align: top;\n",
       "    }\n",
       "\n",
       "    .dataframe thead th {\n",
       "        text-align: right;\n",
       "    }\n",
       "</style>\n",
       "<table border=\"1\" class=\"dataframe\">\n",
       "  <thead>\n",
       "    <tr style=\"text-align: right;\">\n",
       "      <th></th>\n",
       "      <th>critic_score</th>\n",
       "      <th>user_score</th>\n",
       "      <th>sum_sales</th>\n",
       "    </tr>\n",
       "  </thead>\n",
       "  <tbody>\n",
       "    <tr>\n",
       "      <th>critic_score</th>\n",
       "      <td>1.000000</td>\n",
       "      <td>0.533330</td>\n",
       "      <td>0.392849</td>\n",
       "    </tr>\n",
       "    <tr>\n",
       "      <th>user_score</th>\n",
       "      <td>0.533330</td>\n",
       "      <td>1.000000</td>\n",
       "      <td>-0.059738</td>\n",
       "    </tr>\n",
       "    <tr>\n",
       "      <th>sum_sales</th>\n",
       "      <td>0.392849</td>\n",
       "      <td>-0.059738</td>\n",
       "      <td>1.000000</td>\n",
       "    </tr>\n",
       "  </tbody>\n",
       "</table>\n",
       "</div>"
      ],
      "text/plain": [
       "              critic_score  user_score  sum_sales\n",
       "critic_score      1.000000    0.533330   0.392849\n",
       "user_score        0.533330    1.000000  -0.059738\n",
       "sum_sales         0.392849   -0.059738   1.000000"
      ]
     },
     "execution_count": 58,
     "metadata": {},
     "output_type": "execute_result"
    },
    {
     "data": {
      "image/png": "[encoded data removed]",
      "text/plain": [
       "<Figure size 432x288 with 1 Axes>"
      ]
     },
     "metadata": {
      "needs_background": "light"
     },
     "output_type": "display_data"
    },
    {
     "data": {
      "image/png": "[encoded data removed]",
      "text/plain": [
       "<Figure size 432x288 with 1 Axes>"
      ]
     },
     "metadata": {
      "needs_background": "light"
     },
     "output_type": "display_data"
    }
   ],
   "source": [
    "data.query('(platform == \"PS4\") & (sum_sales)').plot(title=\"Зависимость продаж от отзывов критиков\", x='critic_score', y='sum_sales', style='o', alpha=0.5)\n",
    "data.query('(platform == \"PS4\") & (sum_sales)').plot(title=\"Зависимость продаж от отзывов пользователей\", x='user_score', y='sum_sales', style='o', alpha=0.7)\n",
    "data.query('(platform == \"PS4\") & (sum_sales)')[['critic_score', 'user_score', 'sum_sales']].corr()"
   ]
  },
  {
   "cell_type": "markdown",
   "metadata": {},
   "source": [
    "**Вывод** \n",
    "\n",
    "Согласно диаграммам расследования наблюдается некоторая прямая зависимость между продажами и отзывами критиков, что подтверждают данные по корреляции. Зависимость между продажами и отзывами пользователей отсутствует."
   ]
  },
  {
   "cell_type": "code",
   "execution_count": 59,
   "metadata": {},
   "outputs": [
    {
     "data": {
      "text/html": [
       "<div>\n",
       "<style scoped>\n",
       "    .dataframe tbody tr th:only-of-type {\n",
       "        vertical-align: middle;\n",
       "    }\n",
       "\n",
       "    .dataframe tbody tr th {\n",
       "        vertical-align: top;\n",
       "    }\n",
       "\n",
       "    .dataframe thead th {\n",
       "        text-align: right;\n",
       "    }\n",
       "</style>\n",
       "<table border=\"1\" class=\"dataframe\">\n",
       "  <thead>\n",
       "    <tr style=\"text-align: right;\">\n",
       "      <th></th>\n",
       "      <th>critic_score</th>\n",
       "      <th>user_score</th>\n",
       "      <th>sum_sales</th>\n",
       "    </tr>\n",
       "  </thead>\n",
       "  <tbody>\n",
       "    <tr>\n",
       "      <th>critic_score</th>\n",
       "      <td>1.000000</td>\n",
       "      <td>0.810476</td>\n",
       "      <td>0.320816</td>\n",
       "    </tr>\n",
       "    <tr>\n",
       "      <th>user_score</th>\n",
       "      <td>0.810476</td>\n",
       "      <td>1.000000</td>\n",
       "      <td>0.224655</td>\n",
       "    </tr>\n",
       "    <tr>\n",
       "      <th>sum_sales</th>\n",
       "      <td>0.320816</td>\n",
       "      <td>0.224655</td>\n",
       "      <td>1.000000</td>\n",
       "    </tr>\n",
       "  </tbody>\n",
       "</table>\n",
       "</div>"
      ],
      "text/plain": [
       "              critic_score  user_score  sum_sales\n",
       "critic_score      1.000000    0.810476   0.320816\n",
       "user_score        0.810476    1.000000   0.224655\n",
       "sum_sales         0.320816    0.224655   1.000000"
      ]
     },
     "execution_count": 59,
     "metadata": {},
     "output_type": "execute_result"
    },
    {
     "data": {
      "image/png": "[encoded data removed]",
      "text/plain": [
       "<Figure size 432x288 with 1 Axes>"
      ]
     },
     "metadata": {
      "needs_background": "light"
     },
     "output_type": "display_data"
    },
    {
     "data": {
      "image/png": "[encoded data removed]",
      "text/plain": [
       "<Figure size 432x288 with 1 Axes>"
      ]
     },
     "metadata": {
      "needs_background": "light"
     },
     "output_type": "display_data"
    }
   ],
   "source": [
    "data.query('(platform == \"3DS\") & (sum_sales < 1)').plot(title=\"Зависимость продаж от отзывов критиков\", x='critic_score', y='sum_sales', style='o', alpha=0.5)\n",
    "data.query('(platform == \"3DS\") & (sum_sales < 1)').plot(title=\"Зависимость продаж от отзывов пользователей\", x='user_score', y='sum_sales', style='o', alpha=0.7)\n",
    "data.query('(platform == \"3DS\") & (sum_sales < 1)')[['critic_score', 'user_score', 'sum_sales']].corr()"
   ]
  },
  {
   "cell_type": "markdown",
   "metadata": {},
   "source": [
    "**Вывод** \n",
    "\n",
    "Согласно диаграммам расследования наблюдается некоторая прямая зависимость между продажами и отзывами критиков, что подтверждают данные по корреляции. Зависимость между продажами и отзывами пользователей также есть, однако она слабее."
   ]
  },
  {
   "cell_type": "code",
   "execution_count": 61,
   "metadata": {
    "scrolled": false
   },
   "outputs": [
    {
     "data": {
      "text/html": [
       "<div>\n",
       "<style scoped>\n",
       "    .dataframe tbody tr th:only-of-type {\n",
       "        vertical-align: middle;\n",
       "    }\n",
       "\n",
       "    .dataframe tbody tr th {\n",
       "        vertical-align: top;\n",
       "    }\n",
       "\n",
       "    .dataframe thead th {\n",
       "        text-align: right;\n",
       "    }\n",
       "</style>\n",
       "<table border=\"1\" class=\"dataframe\">\n",
       "  <thead>\n",
       "    <tr style=\"text-align: right;\">\n",
       "      <th></th>\n",
       "      <th>critic_score</th>\n",
       "      <th>user_score</th>\n",
       "      <th>sum_sales</th>\n",
       "    </tr>\n",
       "  </thead>\n",
       "  <tbody>\n",
       "    <tr>\n",
       "      <th>critic_score</th>\n",
       "      <td>1.000000</td>\n",
       "      <td>0.678858</td>\n",
       "      <td>0.317046</td>\n",
       "    </tr>\n",
       "    <tr>\n",
       "      <th>user_score</th>\n",
       "      <td>0.678858</td>\n",
       "      <td>1.000000</td>\n",
       "      <td>0.363519</td>\n",
       "    </tr>\n",
       "    <tr>\n",
       "      <th>sum_sales</th>\n",
       "      <td>0.317046</td>\n",
       "      <td>0.363519</td>\n",
       "      <td>1.000000</td>\n",
       "    </tr>\n",
       "  </tbody>\n",
       "</table>\n",
       "</div>"
      ],
      "text/plain": [
       "              critic_score  user_score  sum_sales\n",
       "critic_score      1.000000    0.678858   0.317046\n",
       "user_score        0.678858    1.000000   0.363519\n",
       "sum_sales         0.317046    0.363519   1.000000"
      ]
     },
     "execution_count": 61,
     "metadata": {},
     "output_type": "execute_result"
    },
    {
     "data": {
      "image/png": "[encoded data removed]",
      "text/plain": [
       "<Figure size 432x288 with 1 Axes>"
      ]
     },
     "metadata": {
      "needs_background": "light"
     },
     "output_type": "display_data"
    },
    {
     "data": {
      "image/png": "[encoded data removed]",
      "text/plain": [
       "<Figure size 432x288 with 1 Axes>"
      ]
     },
     "metadata": {
      "needs_background": "light"
     },
     "output_type": "display_data"
    }
   ],
   "source": [
    "data.query('(platform == \"WiiU\") & (sum_sales)').plot(title=\"Зависимость продаж от отзывов критиков\", x='critic_score', y='sum_sales', style='o', alpha=0.5)\n",
    "data.query('(platform == \"WiiU\") & (sum_sales)').plot(title=\"Зависимость продаж от отзывов пользователей\", x='user_score', y='sum_sales', style='o', alpha=0.7)\n",
    "data.query('(platform == \"WiiU\") & (sum_sales)')[['critic_score', 'user_score', 'sum_sales']].corr()"
   ]
  },
  {
   "cell_type": "markdown",
   "metadata": {},
   "source": [
    "**Вывод** \n",
    "\n",
    "Согласно диаграммам расследования отсутствует зависимость между продажами и отзывами критиков, что подтверждают данные по корреляции. Зависимость между продажами и отзывами пользователей также отсутствует."
   ]
  },
  {
   "cell_type": "code",
   "execution_count": 62,
   "metadata": {
    "scrolled": false
   },
   "outputs": [
    {
     "data": {
      "text/html": [
       "<div>\n",
       "<style scoped>\n",
       "    .dataframe tbody tr th:only-of-type {\n",
       "        vertical-align: middle;\n",
       "    }\n",
       "\n",
       "    .dataframe tbody tr th {\n",
       "        vertical-align: top;\n",
       "    }\n",
       "\n",
       "    .dataframe thead th {\n",
       "        text-align: right;\n",
       "    }\n",
       "</style>\n",
       "<table border=\"1\" class=\"dataframe\">\n",
       "  <thead>\n",
       "    <tr style=\"text-align: right;\">\n",
       "      <th></th>\n",
       "      <th>critic_score</th>\n",
       "      <th>user_score</th>\n",
       "      <th>sum_sales</th>\n",
       "    </tr>\n",
       "  </thead>\n",
       "  <tbody>\n",
       "    <tr>\n",
       "      <th>critic_score</th>\n",
       "      <td>1.000000</td>\n",
       "      <td>0.576193</td>\n",
       "      <td>0.366566</td>\n",
       "    </tr>\n",
       "    <tr>\n",
       "      <th>user_score</th>\n",
       "      <td>0.576193</td>\n",
       "      <td>1.000000</td>\n",
       "      <td>0.006312</td>\n",
       "    </tr>\n",
       "    <tr>\n",
       "      <th>sum_sales</th>\n",
       "      <td>0.366566</td>\n",
       "      <td>0.006312</td>\n",
       "      <td>1.000000</td>\n",
       "    </tr>\n",
       "  </tbody>\n",
       "</table>\n",
       "</div>"
      ],
      "text/plain": [
       "              critic_score  user_score  sum_sales\n",
       "critic_score      1.000000    0.576193   0.366566\n",
       "user_score        0.576193    1.000000   0.006312\n",
       "sum_sales         0.366566    0.006312   1.000000"
      ]
     },
     "execution_count": 62,
     "metadata": {},
     "output_type": "execute_result"
    },
    {
     "data": {
      "image/png": "[encoded data removed]",
      "text/plain": [
       "<Figure size 432x288 with 1 Axes>"
      ]
     },
     "metadata": {
      "needs_background": "light"
     },
     "output_type": "display_data"
    },
    {
     "data": {
      "image/png": "[encoded data removed]",
      "text/plain": [
       "<Figure size 432x288 with 1 Axes>"
      ]
     },
     "metadata": {
      "needs_background": "light"
     },
     "output_type": "display_data"
    }
   ],
   "source": [
    "data.query('(platform == \"XOne\") & (sum_sales < 1)').plot(title=\"Зависимость продаж от отзывов критиков\", x='critic_score', y='sum_sales', style='o', alpha=0.5)\n",
    "data.query('(platform == \"XOne\") & (sum_sales < 1)').plot(title=\"Зависимость продаж от отзывов пользователей\", x='user_score', y='sum_sales', style='o', alpha=0.7)\n",
    "data.query('(platform == \"XOne\") & (sum_sales < 1)')[['critic_score', 'user_score', 'sum_sales']].corr()"
   ]
  },
  {
   "cell_type": "markdown",
   "metadata": {},
   "source": [
    "**Вывод** \n",
    "\n",
    "Согласно диаграммам расследования наблюдается некоторая прямая зависимость между продажами и отзывами критиков, что подтверждают данные по корреляции. Зависимость между продажами и отзывами пользователей отсутвтвует."
   ]
  },
  {
   "cell_type": "code",
   "execution_count": 27,
   "metadata": {},
   "outputs": [
    {
     "data": {
      "text/html": [
       "<div>\n",
       "<style scoped>\n",
       "    .dataframe tbody tr th:only-of-type {\n",
       "        vertical-align: middle;\n",
       "    }\n",
       "\n",
       "    .dataframe tbody tr th {\n",
       "        vertical-align: top;\n",
       "    }\n",
       "\n",
       "    .dataframe thead th {\n",
       "        text-align: right;\n",
       "    }\n",
       "</style>\n",
       "<table border=\"1\" class=\"dataframe\">\n",
       "  <thead>\n",
       "    <tr style=\"text-align: right;\">\n",
       "      <th></th>\n",
       "      <th>critic_score</th>\n",
       "      <th>user_score</th>\n",
       "      <th>sum_sales</th>\n",
       "    </tr>\n",
       "  </thead>\n",
       "  <tbody>\n",
       "    <tr>\n",
       "      <th>critic_score</th>\n",
       "      <td>1.000000</td>\n",
       "      <td>0.467901</td>\n",
       "      <td>0.325527</td>\n",
       "    </tr>\n",
       "    <tr>\n",
       "      <th>user_score</th>\n",
       "      <td>0.467901</td>\n",
       "      <td>1.000000</td>\n",
       "      <td>-0.001964</td>\n",
       "    </tr>\n",
       "    <tr>\n",
       "      <th>sum_sales</th>\n",
       "      <td>0.325527</td>\n",
       "      <td>-0.001964</td>\n",
       "      <td>1.000000</td>\n",
       "    </tr>\n",
       "  </tbody>\n",
       "</table>\n",
       "</div>"
      ],
      "text/plain": [
       "              critic_score  user_score  sum_sales\n",
       "critic_score      1.000000    0.467901   0.325527\n",
       "user_score        0.467901    1.000000  -0.001964\n",
       "sum_sales         0.325527   -0.001964   1.000000"
      ]
     },
     "execution_count": 27,
     "metadata": {},
     "output_type": "execute_result"
    }
   ],
   "source": [
    "data[['critic_score', 'user_score', 'sum_sales']].corr()"
   ]
  },
  {
   "cell_type": "code",
   "execution_count": 28,
   "metadata": {
    "scrolled": true
   },
   "outputs": [
    {
     "data": {
      "text/plain": [
       "<AxesSubplot:xlabel='sum_sales', ylabel='genre'>"
      ]
     },
     "execution_count": 28,
     "metadata": {},
     "output_type": "execute_result"
    },
    {
     "data": {
      "image/png": "[encoded data removed]",
      "text/plain": [
       "<Figure size 432x288 with 1 Axes>"
      ]
     },
     "metadata": {
      "needs_background": "light"
     },
     "output_type": "display_data"
    }
   ],
   "source": [
    "plt.xlim(0, 2)  \n",
    "sns.boxplot(y=\"genre\", x=\"sum_sales\", data=platforms, orient=\"h\")"
   ]
  },
  {
   "cell_type": "code",
   "execution_count": 29,
   "metadata": {
    "scrolled": true
   },
   "outputs": [
    {
     "data": {
      "text/plain": [
       "'Чаще продаются'"
      ]
     },
     "metadata": {},
     "output_type": "display_data"
    },
    {
     "data": {
      "text/plain": [
       "genre\n",
       "Shooter         1.305309\n",
       "Sports          0.601215\n",
       "Role-Playing    0.422879\n",
       "Fighting        0.334324\n",
       "Platform        0.331429\n",
       "Name: sum_sales, dtype: float64"
      ]
     },
     "metadata": {},
     "output_type": "display_data"
    },
    {
     "data": {
      "text/plain": [
       "'Реже продаются'"
      ]
     },
     "metadata": {},
     "output_type": "display_data"
    },
    {
     "data": {
      "text/plain": [
       "genre\n",
       "Simulation    0.228788\n",
       "Misc          0.199577\n",
       "Adventure     0.108909\n",
       "Puzzle        0.102857\n",
       "Strategy      0.102759\n",
       "Name: sum_sales, dtype: float64"
      ]
     },
     "metadata": {},
     "output_type": "display_data"
    }
   ],
   "source": [
    "display('Чаще продаются', data.groupby('genre')['sum_sales'].mean().sort_values(ascending=False).head())\n",
    "display('Реже продаются',data.groupby('genre')['sum_sales'].mean().sort_values(ascending=False).tail())"
   ]
  },
  {
   "cell_type": "markdown",
   "metadata": {},
   "source": [
    "**Вывод**\n",
    "\n",
    "Из построенного графика можно сделать вывод, в среднем больше всего продают игры с жанром Shooter и Sports, наименее популярн жанр Adventeure.\n",
    "\n",
    "Из сгруппированных данных можно сделать вывод, что топ-5 самых популярных жанров (наибольшее количество продаж) это: Fifgting, Sports, Shooter, Role-Playing и Rlatform. Наименее популярны Misc, Simulation, Adventure, Strategy, Puzzle."
   ]
  },
  {
   "cell_type": "markdown",
   "metadata": {},
   "source": [
    "# Общий вывод по исследовательскому анализу данных\n",
    "\n",
    "В ходе анализа были сделаны следующие выводы:\n",
    "\n",
    "1) Данные следует анализировать, начиная с 1995 года;\n",
    "\n",
    "2) Пик продаж компьютерных игр был в 2008 году;\n",
    "\n",
    "3) В среднем на одной платформе играют в течение 10 лет, далее ей на замену приходят более новые и усовершенствованные;\n",
    "\n",
    "4) На данный момент наиболее перспективной является платформа PS4. Также менее перспективными можно считать PS3, PSP, Wii, X360;\n",
    "\n",
    "5) Зависимость между количеством продаж и отзывом критиков есть, корелляция является несущественной. В общем по играм она составляет около 0.24, однако есть платформы, где она больше. Практические у всех платформ отсутствует корреляция между отзывами пользователей и количеством продаж;\n",
    "\n",
    "6) Также были выделены наиболее популярные жанры: Action, Sports, Shooter, Role-Playing и Misc. И наименее популярны Fighting, Simulation, Adventure, Strategy, Puzzle.\n",
    "\n",
    "Итого, проведя анализ данных, следует отметить, что продажи игр на платформе PS4 являеются наиболее перспективными. Следует выпускать игру в жанре Action. Однако, на данный момент выпускать новую игру немного рискованно, так как большинство платформ на данный момент продают все меньше и меньше игр. "
   ]
  },
  {
   "cell_type": "markdown",
   "metadata": {},
   "source": [
    "# 3 Портрет пользователей каждого региона\n"
   ]
  },
  {
   "cell_type": "markdown",
   "metadata": {},
   "source": [
    "**NA_SALES**"
   ]
  },
  {
   "cell_type": "code",
   "execution_count": 30,
   "metadata": {},
   "outputs": [],
   "source": [
    "data_na = data.dropna(subset=['eu_sales', 'jp_sales']).copy()"
   ]
  },
  {
   "cell_type": "code",
   "execution_count": 31,
   "metadata": {
    "scrolled": false
   },
   "outputs": [
    {
     "data": {
      "text/plain": [
       "platform\n",
       "XOne    0.301198\n",
       "PS4     0.212159\n",
       "WiiU    0.210952\n",
       "X360    0.167708\n",
       "Wii     0.098000\n",
       "Name: na_sales, dtype: float64"
      ]
     },
     "metadata": {},
     "output_type": "display_data"
    },
    {
     "name": "stdout",
     "output_type": "stream",
     "text": [
      "Платформа PS4 составляет 34 % в Северной Америке от общего числа продаж этой платформы по другим регионам.\n",
      "Платформа PSV составляет 5 % в Северной Америке от общего числа продаж этой платформы по другим регионам.\n",
      "Платформа XOne составляет 57 % в Северной Америке от общего числа продаж этой платформы по другим регионам.\n",
      "Платформа WiiU составляет 42 % в Северной Америке от общего числа продаж этой платформы по другим регионам.\n",
      "Платформа Wii составляет 37 % в Северной Америке от общего числа продаж этой платформы по другим регионам.\n"
     ]
    }
   ],
   "source": [
    "display(data_na.groupby('platform')['na_sales'].mean().sort_values(ascending=False).head())\n",
    "top_platforms_na = ['PS4', 'PSV', 'XOne', 'WiiU', 'Wii']\n",
    "\n",
    "for elem in top_platforms_na:\n",
    "    shares = int(100 * (data.query('platform == @elem')['na_sales'].sum() / data.query('platform == @elem')['sum_sales'].sum()).round(2))\n",
    "    print('Платформа', elem, 'составляет', shares, '% в Северной Америке от общего числа продаж этой платформы по другим регионам.')"
   ]
  },
  {
   "cell_type": "code",
   "execution_count": 32,
   "metadata": {
    "scrolled": false
   },
   "outputs": [
    {
     "data": {
      "text/plain": [
       "genre\n",
       "Shooter         0.594815\n",
       "Sports          0.245888\n",
       "Role-Playing    0.150152\n",
       "Fighting        0.149730\n",
       "Platform        0.135000\n",
       "Name: na_sales, dtype: float64"
      ]
     },
     "metadata": {},
     "output_type": "display_data"
    }
   ],
   "source": [
    "display(data_na.groupby('genre')['na_sales'].mean().sort_values(ascending=False).head())"
   ]
  },
  {
   "cell_type": "markdown",
   "metadata": {},
   "source": [
    "**Вывод**\n",
    "\n",
    "Наиболее популярные жанры в Северной Америке Fighting, Role-Playing, Platform, Sports, Shooter."
   ]
  },
  {
   "cell_type": "code",
   "execution_count": 33,
   "metadata": {
    "scrolled": true
   },
   "outputs": [
    {
     "data": {
      "text/plain": [
       "rating\n",
       "M       47.03\n",
       "0       37.44\n",
       "E       26.59\n",
       "T       22.86\n",
       "E10+    17.87\n",
       "Name: na_sales, dtype: float64"
      ]
     },
     "metadata": {},
     "output_type": "display_data"
    }
   ],
   "source": [
    "display(data_na.groupby('rating')['na_sales'].sum().sort_values(ascending=False))"
   ]
  },
  {
   "cell_type": "markdown",
   "metadata": {},
   "source": [
    "**Вывод**\n",
    "\n",
    "По частоте продаж в Северной Америке игры имеют рейтинг M, O, E, T, E10+."
   ]
  },
  {
   "cell_type": "markdown",
   "metadata": {},
   "source": [
    "**EU_SALES**"
   ]
  },
  {
   "cell_type": "code",
   "execution_count": 34,
   "metadata": {},
   "outputs": [],
   "source": [
    "data_eu = data.dropna(subset=['na_sales', 'jp_sales']).copy()"
   ]
  },
  {
   "cell_type": "code",
   "execution_count": 35,
   "metadata": {},
   "outputs": [
    {
     "data": {
      "text/plain": [
       "platform\n",
       "PS4     0.277542\n",
       "XOne    0.168263\n",
       "WiiU    0.154524\n",
       "Wii     0.146000\n",
       "X360    0.087708\n",
       "Name: eu_sales, dtype: float64"
      ]
     },
     "metadata": {},
     "output_type": "display_data"
    },
    {
     "name": "stdout",
     "output_type": "stream",
     "text": [
      "Платформа PS4 составляет 44 % в Евросоюзе от общего числа продаж этой платформы по другим регионам.\n",
      "Платформа PSV составляет 10 % в Евросоюзе от общего числа продаж этой платформы по другим регионам.\n",
      "Платформа WiiU составляет 31 % в Евросоюзе от общего числа продаж этой платформы по другим регионам.\n",
      "Платформа 3DS составляет 17 % в Евросоюзе от общего числа продаж этой платформы по другим регионам.\n",
      "Платформа Wii составляет 55 % в Евросоюзе от общего числа продаж этой платформы по другим регионам.\n"
     ]
    }
   ],
   "source": [
    "display(data_eu.groupby('platform')['eu_sales'].mean().sort_values(ascending=False).head())\n",
    "top_platforms_eu = ['PS4', 'PSV', 'WiiU', '3DS', 'Wii']\n",
    "\n",
    "for elem in top_platforms_eu:\n",
    "    shares = int(100 * (data.query('platform == @elem')['eu_sales'].sum() / data.query('platform == @elem')['sum_sales'].sum()).round(2))\n",
    "    print('Платформа', elem, 'составляет', shares, '% в Евросоюзе от общего числа продаж этой платформы по другим регионам.')"
   ]
  },
  {
   "cell_type": "code",
   "execution_count": 36,
   "metadata": {
    "scrolled": true
   },
   "outputs": [
    {
     "data": {
      "text/plain": [
       "genre\n",
       "Shooter         0.497284\n",
       "Sports          0.260000\n",
       "Racing          0.155238\n",
       "Role-Playing    0.130379\n",
       "Platform        0.114286\n",
       "Name: eu_sales, dtype: float64"
      ]
     },
     "metadata": {},
     "output_type": "display_data"
    }
   ],
   "source": [
    "display(data_eu.groupby('genre')['eu_sales'].mean().sort_values(ascending=False).head())"
   ]
  },
  {
   "cell_type": "markdown",
   "metadata": {},
   "source": [
    "**Вывод**\n",
    "\n",
    "Наиболее популярные жанры в Евросоюзе Action, Role-Playing, Adventure, Sports, Shooter."
   ]
  },
  {
   "cell_type": "code",
   "execution_count": 37,
   "metadata": {
    "scrolled": true
   },
   "outputs": [
    {
     "data": {
      "text/plain": [
       "rating\n",
       "M       45.54\n",
       "0       35.71\n",
       "E       34.83\n",
       "T       20.32\n",
       "E10+    11.54\n",
       "Name: eu_sales, dtype: float64"
      ]
     },
     "metadata": {},
     "output_type": "display_data"
    }
   ],
   "source": [
    "display(data_eu.groupby('rating')['eu_sales'].sum().sort_values(ascending=False))"
   ]
  },
  {
   "cell_type": "markdown",
   "metadata": {},
   "source": [
    "**Вывод**\n",
    "\n",
    "По частоте продаж в Евросоюзе игры имеют рейтинг M, O, E, T, E10+."
   ]
  },
  {
   "cell_type": "markdown",
   "metadata": {},
   "source": [
    "**JP_SALES**"
   ]
  },
  {
   "cell_type": "code",
   "execution_count": 38,
   "metadata": {},
   "outputs": [],
   "source": [
    "data_jp = data.dropna(subset=['eu_sales', 'jp_sales']).copy()"
   ]
  },
  {
   "cell_type": "code",
   "execution_count": 39,
   "metadata": {
    "scrolled": true
   },
   "outputs": [
    {
     "data": {
      "text/plain": [
       "platform\n",
       "3DS     0.178409\n",
       "WiiU    0.098095\n",
       "PS3     0.044775\n",
       "PSV     0.043128\n",
       "PS4     0.040033\n",
       "Name: jp_sales, dtype: float64"
      ]
     },
     "metadata": {},
     "output_type": "display_data"
    },
    {
     "name": "stdout",
     "output_type": "stream",
     "text": [
      "Платформа PS4 составляет 6 % в Японии от общего числа продаж этой платформы по другим регионам.\n",
      "Платформа PSV составляет 80 % в Японии от общего числа продаж этой платформы по другим регионам.\n",
      "Платформа WiiU составляет 20 % в Японии от общего числа продаж этой платформы по другим регионам.\n",
      "Платформа 3DS составляет 55 % в Японии от общего числа продаж этой платформы по другим регионам.\n",
      "Платформа PS3 составляет 24 % в Японии от общего числа продаж этой платформы по другим регионам.\n"
     ]
    }
   ],
   "source": [
    "display(data_jp.groupby('platform')['jp_sales'].mean().sort_values(ascending=False).head())\n",
    "top_platforms_jp = ['PS4', 'PSV', 'WiiU', '3DS', 'PS3']\n",
    "\n",
    "for elem in top_platforms_jp:\n",
    "    shares = int(100 * (data.query('platform == @elem')['jp_sales'].sum() / data.query('platform == @elem')['sum_sales'].sum()).round(2))\n",
    "    print('Платформа', elem, 'составляет', shares, '% в Японии от общего числа продаж этой платформы по другим регионам.')"
   ]
  },
  {
   "cell_type": "code",
   "execution_count": 40,
   "metadata": {
    "scrolled": true
   },
   "outputs": [
    {
     "data": {
      "text/plain": [
       "genre\n",
       "Role-Playing    0.101591\n",
       "Puzzle          0.074286\n",
       "Simulation      0.058485\n",
       "Action          0.053480\n",
       "Platform        0.050714\n",
       "Name: jp_sales, dtype: float64"
      ]
     },
     "metadata": {},
     "output_type": "display_data"
    }
   ],
   "source": [
    "display(data_jp.groupby('genre')['jp_sales'].mean().sort_values(ascending=False).head())"
   ]
  },
  {
   "cell_type": "markdown",
   "metadata": {},
   "source": [
    "**Вывод**\n",
    "\n",
    "Наиболее популярные жанры в Евросоюзе Action, Role-Playing, Platform, Puzzle, Simulation."
   ]
  },
  {
   "cell_type": "code",
   "execution_count": 41,
   "metadata": {
    "scrolled": true
   },
   "outputs": [
    {
     "data": {
      "text/plain": [
       "rating\n",
       "0       32.89\n",
       "T        7.70\n",
       "E        5.25\n",
       "M        4.29\n",
       "E10+     3.27\n",
       "Name: jp_sales, dtype: float64"
      ]
     },
     "metadata": {},
     "output_type": "display_data"
    }
   ],
   "source": [
    "display(data_jp.groupby('rating')['jp_sales'].sum().sort_values(ascending=False))"
   ]
  },
  {
   "cell_type": "markdown",
   "metadata": {},
   "source": [
    "**Вывод**\n",
    "\n",
    "По частоте продаж в Японии игры имеют рейтинг O, T, E, M, E10+"
   ]
  },
  {
   "cell_type": "markdown",
   "metadata": {},
   "source": [
    "# Вывод по портрету каждого региона\n",
    "\n",
    "**Платформы**\n",
    "Составив портет каждого региона по количеству продаж, был сделан вывод о том, что наиболее популярными платформами в регионах являются WiiU и PS4. \n",
    "\n",
    "PS4: 6% в Японии, 44% в Евросоюзе и 34% в Северной Америке.\n",
    "\n",
    "WiiU: 20% в Японии, 31% в Евросоюзе и 42% в Северной Америке.\n",
    "\n",
    "\n",
    "По регионам наиболее популярные платформы: XOne в Северной Америке, 3DS в Японии, PS4 в Евросоюзе.\n",
    "\n",
    "**Жанры**\n",
    "\n",
    "По регионам наиболее популярные жанры: Shooter в Северной Америке, Role-Playing в Японии, Shooter в Евросоюзе.\n",
    "\n",
    "**Рейтинг**\n",
    "\n",
    "По регионам наиболее популярные рейтинги: M в Северной Америке, O в Японии, M в Евросоюзе. \n",
    "\n",
    "Также следует отметить, что в Евросоюзеи Северной Америке схожие предпочтения по компьютерным играм, так жанры, платформы и рейтинг практически полностью совпадают."
   ]
  },
  {
   "cell_type": "markdown",
   "metadata": {},
   "source": [
    "# 4 Статистический анализ данных"
   ]
  },
  {
   "cell_type": "code",
   "execution_count": 49,
   "metadata": {},
   "outputs": [],
   "source": [
    "from scipy import stats as st\n",
    "import numpy as np\n",
    "import scipy.stats as stats"
   ]
  },
  {
   "cell_type": "code",
   "execution_count": 44,
   "metadata": {
    "scrolled": true
   },
   "outputs": [
    {
     "data": {
      "text/plain": [
       "<AxesSubplot:>"
      ]
     },
     "execution_count": 44,
     "metadata": {},
     "output_type": "execute_result"
    },
    {
     "data": {
      "image/png": "[encoded data removed]",
      "text/plain": [
       "<Figure size 432x288 with 1 Axes>"
      ]
     },
     "metadata": {
      "needs_background": "light"
     },
     "output_type": "display_data"
    }
   ],
   "source": [
    "data.query('platform == \"XOne\"')['user_score'].hist(bins=50)"
   ]
  },
  {
   "cell_type": "code",
   "execution_count": 46,
   "metadata": {},
   "outputs": [
    {
     "data": {
      "text/plain": [
       "<AxesSubplot:>"
      ]
     },
     "execution_count": 46,
     "metadata": {},
     "output_type": "execute_result"
    },
    {
     "data": {
      "image/png": "[encoded data removed]",
      "text/plain": [
       "<Figure size 432x288 with 1 Axes>"
      ]
     },
     "metadata": {
      "needs_background": "light"
     },
     "output_type": "display_data"
    }
   ],
   "source": [
    "data.query('platform == \"PC\"')['user_score'].hist(bins=50)"
   ]
  },
  {
   "cell_type": "markdown",
   "metadata": {},
   "source": [
    "**Нулевая гипотеза**\n",
    "\n",
    "Рейтинги пользователей платформы XOne равен рейтингу пользователей платформы PC.\n",
    "\n",
    "**Альтернативная гипотеза**\n",
    "\n",
    "Рейтинги пользователей платформы XOne не равен рейтингу пользователей платформы PC.\n",
    "\n",
    "Критерий статистической значимости выбран 0.05, исходя из наиболее часто применяемого такого значения, исходя из минимизации количества ошибок первого и второго рода.\n",
    "\n",
    "**Статистический тест**\n",
    "\n",
    "В качестве статистического криетрия был выбран критерий Манна-Уитни, так как выборки являются независимыми и их распределение не является нормальным."
   ]
  },
  {
   "cell_type": "code",
   "execution_count": 47,
   "metadata": {},
   "outputs": [],
   "source": [
    "# создаем необходимые наборы данных и удаляем из них пропуски\n",
    "xone_score = data.copy()\n",
    "pc_score = data.copy()\n",
    "\n",
    "xone_score = xone_score.query('platform == \"XOne\"')['user_score'].dropna()\n",
    "pc_score = pc_score.query('platform == \"PC\"')['user_score'].dropna()"
   ]
  },
  {
   "cell_type": "code",
   "execution_count": 51,
   "metadata": {},
   "outputs": [
    {
     "name": "stdout",
     "output_type": "stream",
     "text": [
      "p-значение: 0.5485557456791791\n",
      "Не получилось отвергнуть нулевую гипотезу\n"
     ]
    }
   ],
   "source": [
    "alpha = 0.05 # уровень статистической значимости\n",
    "\n",
    "_, p_value = stats.mannwhitneyu(xone_score, pc_score, alternative='two-sided')\n",
    "\n",
    "\n",
    "print('p-значение:', p_value)\n",
    "\n",
    "if p_value < alpha:\n",
    "    print('Отвергаем нулевую гипотезу')\n",
    "else:\n",
    "    print('Не получилось отвергнуть нулевую гипотезу') "
   ]
  },
  {
   "cell_type": "markdown",
   "metadata": {},
   "source": [
    "**Вывод** \n",
    "\n",
    "Нулевая гипотеза не была отвергнута. Следовательно, пользовательские рейтинги данных платформ равны."
   ]
  },
  {
   "cell_type": "code",
   "execution_count": 52,
   "metadata": {
    "scrolled": true
   },
   "outputs": [
    {
     "data": {
      "text/plain": [
       "<AxesSubplot:>"
      ]
     },
     "execution_count": 52,
     "metadata": {},
     "output_type": "execute_result"
    },
    {
     "data": {
      "image/png": "[encoded data removed]",
      "text/plain": [
       "<Figure size 432x288 with 1 Axes>"
      ]
     },
     "metadata": {
      "needs_background": "light"
     },
     "output_type": "display_data"
    }
   ],
   "source": [
    "data.query('genre == \"Action\"')['user_score'].hist(bins=50)"
   ]
  },
  {
   "cell_type": "code",
   "execution_count": 53,
   "metadata": {
    "scrolled": true
   },
   "outputs": [
    {
     "data": {
      "text/plain": [
       "<AxesSubplot:>"
      ]
     },
     "execution_count": 53,
     "metadata": {},
     "output_type": "execute_result"
    },
    {
     "data": {
      "image/png": "[encoded data removed]",
      "text/plain": [
       "<Figure size 432x288 with 1 Axes>"
      ]
     },
     "metadata": {
      "needs_background": "light"
     },
     "output_type": "display_data"
    }
   ],
   "source": [
    "data.query('genre == \"Sports\"')['user_score'].hist(bins=50)"
   ]
  },
  {
   "cell_type": "markdown",
   "metadata": {},
   "source": [
    "**Нулевая гипотеза**\n",
    "\n",
    "Рейтинг пользователей жанра Action не равен рейтингу пользователей жанра Sports.\n",
    "\n",
    "**Альтернативная гипотеза**\n",
    "\n",
    "Рейтинг пользователей жанра Action равен рейтингу пользователей жанра Sports.\n",
    "\n",
    "Критерий статистической значимости выбран 0.05, исходя из наиболее часто применяемого такого значения, исходя из минимизации количества ошибок первого и второго рода.\n",
    "\n",
    "**Статистический тест**\n",
    "\n",
    "В качестве статистического криетрия был выбран критерий Манна-Уитни, так как выборки являются независимыми и их распределение не является нормальным."
   ]
  },
  {
   "cell_type": "code",
   "execution_count": 54,
   "metadata": {},
   "outputs": [],
   "source": [
    "# создаем необходимые наборы данных и удаляем из них пропуски\n",
    "action_score = data.copy()\n",
    "sports_score = data.copy()\n",
    "\n",
    "action_score = action_score.query('genre == \"Action\"')['user_score'].dropna()\n",
    "sports_score = sports_score.query('genre == \"Sports\"')['user_score'].dropna()"
   ]
  },
  {
   "cell_type": "code",
   "execution_count": 55,
   "metadata": {},
   "outputs": [
    {
     "name": "stdout",
     "output_type": "stream",
     "text": [
      "p-значение: 2.3982324399866677e-11\n",
      "Отвергаем нулевую гипотезу\n"
     ]
    }
   ],
   "source": [
    "alpha = 0.05 # уровень статистической значимости\n",
    "\n",
    "_, p_value = stats.mannwhitneyu(action_score, sports_score, alternative='two-sided')\n",
    "\n",
    "\n",
    "print('p-значение:', p_value)\n",
    "\n",
    "if p_value < alpha:\n",
    "    print('Отвергаем нулевую гипотезу')\n",
    "else:\n",
    "    print('Не получилось отвергнуть нулевую гипотезу') "
   ]
  },
  {
   "cell_type": "markdown",
   "metadata": {},
   "source": [
    "**Вывод** \n",
    "\n",
    "Нулевая гипотеза была отвергнута. Следовательно, пользовательские рейтинги даных жанров равны."
   ]
  },
  {
   "cell_type": "markdown",
   "metadata": {},
   "source": [
    "# Общий вывод"
   ]
  },
  {
   "cell_type": "markdown",
   "metadata": {},
   "source": [
    "Итого, проведя анализ данных, следует отметить, что продажи игр на платформе PS4 являеются наиболее перспективными, она же является наиболее популярной среди регионов. \n",
    "\n",
    "Платформы\n",
    "\n",
    "По регионам наиболее популярные платформы: XOne в Северной Америке, 3DS в Японии, PS4 в Евросоюзе.\n",
    "\n",
    "Жанры\n",
    "\n",
    "По регионам наиболее популярные жанры: Shooter в Северной Америке, Role-Playing в Японии, Shooter в Евросоюзе.\n",
    "\n",
    "Рейтинг\n",
    "\n",
    "По регионам наиболее популярные рейтинги: M в Северной Америке, O в Японии, M в Евросоюзе.\n",
    "\n",
    "Также следует отметить, что в Евросоюзеи Северной Америке схожие предпочтения по компьютерным играм, так жанры, платформы и рейтинг практически полностью совпадают.\n",
    "\n",
    "Наиболее популярным является рейтинг М.\n",
    "\n",
    "\n",
    "**Общая рекомендация** \n",
    "\n",
    "\n",
    "Итого, делая общий вывод следует отметить, что продажа компьютерных игр на платформах является рисокванным бизнесом. И при выпуске новой игры в Европе (так как Россия частично нахоится на территории Европы) следует дать следующие рекомендации: игры должна быть на платформе PS4, с рейтингом M, более предпочтительный жанр: Shooter."
   ]
  }
 ],
 "metadata": {
  "ExecuteTimeLog": [
   {
    "duration": 614,
    "start_time": "2023-02-27T16:43:27.363Z"
   },
   {
    "duration": 60,
    "start_time": "2023-02-27T16:43:41.971Z"
   },
   {
    "duration": 57,
    "start_time": "2023-02-27T16:44:04.950Z"
   },
   {
    "duration": 18,
    "start_time": "2023-02-27T16:44:08.320Z"
   },
   {
    "duration": 6,
    "start_time": "2023-02-27T16:51:31.813Z"
   },
   {
    "duration": 23,
    "start_time": "2023-02-27T16:52:11.430Z"
   },
   {
    "duration": 14,
    "start_time": "2023-02-27T16:52:21.029Z"
   },
   {
    "duration": 48,
    "start_time": "2023-02-27T16:54:07.420Z"
   },
   {
    "duration": 6,
    "start_time": "2023-02-27T16:54:18.678Z"
   },
   {
    "duration": 6,
    "start_time": "2023-02-27T16:55:59.488Z"
   },
   {
    "duration": 27,
    "start_time": "2023-02-27T16:56:49.249Z"
   },
   {
    "duration": 73,
    "start_time": "2023-02-27T16:58:48.535Z"
   },
   {
    "duration": 15,
    "start_time": "2023-02-27T16:58:48.610Z"
   },
   {
    "duration": 5,
    "start_time": "2023-02-27T16:58:48.627Z"
   },
   {
    "duration": 24,
    "start_time": "2023-02-27T16:58:48.634Z"
   },
   {
    "duration": 13,
    "start_time": "2023-02-27T16:58:48.660Z"
   },
   {
    "duration": 5,
    "start_time": "2023-02-27T16:58:50.226Z"
   },
   {
    "duration": 19,
    "start_time": "2023-02-27T16:58:51.101Z"
   },
   {
    "duration": 4,
    "start_time": "2023-02-27T16:59:28.638Z"
   },
   {
    "duration": 57,
    "start_time": "2023-02-27T16:59:33.190Z"
   },
   {
    "duration": 15,
    "start_time": "2023-02-27T16:59:33.249Z"
   },
   {
    "duration": 5,
    "start_time": "2023-02-27T16:59:33.266Z"
   },
   {
    "duration": 20,
    "start_time": "2023-02-27T16:59:33.272Z"
   },
   {
    "duration": 12,
    "start_time": "2023-02-27T16:59:33.293Z"
   },
   {
    "duration": 5,
    "start_time": "2023-02-27T16:59:34.819Z"
   },
   {
    "duration": 76,
    "start_time": "2023-02-27T17:00:00.470Z"
   },
   {
    "duration": 6,
    "start_time": "2023-02-27T17:00:10.936Z"
   },
   {
    "duration": 17,
    "start_time": "2023-02-27T17:00:15.296Z"
   },
   {
    "duration": 8,
    "start_time": "2023-02-27T17:00:44.315Z"
   },
   {
    "duration": 5,
    "start_time": "2023-02-27T17:02:38.301Z"
   },
   {
    "duration": 57,
    "start_time": "2023-02-27T17:03:17.025Z"
   },
   {
    "duration": 17,
    "start_time": "2023-02-27T17:03:22.750Z"
   },
   {
    "duration": 14,
    "start_time": "2023-02-27T17:03:29.777Z"
   },
   {
    "duration": 5,
    "start_time": "2023-02-27T17:03:31.555Z"
   },
   {
    "duration": 8,
    "start_time": "2023-02-27T17:03:39.464Z"
   },
   {
    "duration": 15,
    "start_time": "2023-02-27T17:03:44.801Z"
   },
   {
    "duration": 29,
    "start_time": "2023-02-27T17:04:39.429Z"
   },
   {
    "duration": 6,
    "start_time": "2023-02-27T17:05:21.659Z"
   },
   {
    "duration": 6,
    "start_time": "2023-02-27T17:05:44.892Z"
   },
   {
    "duration": 8,
    "start_time": "2023-02-27T17:05:52.530Z"
   },
   {
    "duration": 7,
    "start_time": "2023-02-27T17:06:03.089Z"
   },
   {
    "duration": 7,
    "start_time": "2023-02-27T17:06:23.912Z"
   },
   {
    "duration": 7,
    "start_time": "2023-02-27T17:14:41.243Z"
   },
   {
    "duration": 9,
    "start_time": "2023-02-27T17:15:56.992Z"
   },
   {
    "duration": 13,
    "start_time": "2023-02-27T17:16:10.625Z"
   },
   {
    "duration": 6,
    "start_time": "2023-02-27T17:18:30.029Z"
   },
   {
    "duration": 16,
    "start_time": "2023-02-27T17:18:41.648Z"
   },
   {
    "duration": 13,
    "start_time": "2023-02-27T17:19:03.229Z"
   },
   {
    "duration": 22,
    "start_time": "2023-02-27T17:19:17.699Z"
   },
   {
    "duration": 8,
    "start_time": "2023-02-27T17:19:45.074Z"
   },
   {
    "duration": 7,
    "start_time": "2023-02-27T17:19:52.701Z"
   },
   {
    "duration": 55,
    "start_time": "2023-02-27T17:20:23.701Z"
   },
   {
    "duration": 15,
    "start_time": "2023-02-27T17:20:23.757Z"
   },
   {
    "duration": 8,
    "start_time": "2023-02-27T17:20:23.773Z"
   },
   {
    "duration": 10,
    "start_time": "2023-02-27T17:20:23.783Z"
   },
   {
    "duration": 13,
    "start_time": "2023-02-27T17:20:26.021Z"
   },
   {
    "duration": 15,
    "start_time": "2023-02-27T17:20:40.214Z"
   },
   {
    "duration": 24,
    "start_time": "2023-02-27T17:20:47.803Z"
   },
   {
    "duration": 19,
    "start_time": "2023-02-27T17:26:21.980Z"
   },
   {
    "duration": 14,
    "start_time": "2023-02-27T17:33:58.800Z"
   },
   {
    "duration": 619,
    "start_time": "2023-02-27T17:34:21.900Z"
   },
   {
    "duration": 10,
    "start_time": "2023-02-27T17:34:43.823Z"
   },
   {
    "duration": 17,
    "start_time": "2023-02-27T17:35:50.698Z"
   },
   {
    "duration": 7,
    "start_time": "2023-02-27T17:35:58.317Z"
   },
   {
    "duration": 27,
    "start_time": "2023-02-27T17:36:15.415Z"
   },
   {
    "duration": 8,
    "start_time": "2023-02-27T17:36:30.672Z"
   },
   {
    "duration": 20,
    "start_time": "2023-02-27T17:36:34.364Z"
   },
   {
    "duration": 9,
    "start_time": "2023-02-27T17:37:22.977Z"
   },
   {
    "duration": 15,
    "start_time": "2023-02-27T17:38:13.256Z"
   },
   {
    "duration": 26,
    "start_time": "2023-02-27T17:38:17.752Z"
   },
   {
    "duration": 24,
    "start_time": "2023-02-27T17:40:27.559Z"
   },
   {
    "duration": 32,
    "start_time": "2023-02-27T17:41:09.957Z"
   },
   {
    "duration": 14,
    "start_time": "2023-02-27T17:42:56.212Z"
   },
   {
    "duration": 8,
    "start_time": "2023-02-27T17:46:31.109Z"
   },
   {
    "duration": 13,
    "start_time": "2023-02-27T17:53:10.422Z"
   },
   {
    "duration": 4,
    "start_time": "2023-02-27T17:53:17.319Z"
   },
   {
    "duration": 23,
    "start_time": "2023-02-27T17:53:27.700Z"
   },
   {
    "duration": 7,
    "start_time": "2023-02-27T17:53:56.270Z"
   },
   {
    "duration": 5,
    "start_time": "2023-02-27T17:54:08.687Z"
   },
   {
    "duration": 4,
    "start_time": "2023-02-27T17:54:25.181Z"
   },
   {
    "duration": 9,
    "start_time": "2023-02-27T17:54:32.415Z"
   },
   {
    "duration": 57,
    "start_time": "2023-02-27T17:54:45.067Z"
   },
   {
    "duration": 13,
    "start_time": "2023-02-27T17:54:45.126Z"
   },
   {
    "duration": 4,
    "start_time": "2023-02-27T17:54:45.141Z"
   },
   {
    "duration": 12,
    "start_time": "2023-02-27T17:54:45.147Z"
   },
   {
    "duration": 24,
    "start_time": "2023-02-27T17:54:45.161Z"
   },
   {
    "duration": 14,
    "start_time": "2023-02-27T17:54:45.186Z"
   },
   {
    "duration": 22,
    "start_time": "2023-02-27T17:54:45.202Z"
   },
   {
    "duration": 19,
    "start_time": "2023-02-27T17:54:47.211Z"
   },
   {
    "duration": 56,
    "start_time": "2023-02-27T17:55:08.242Z"
   },
   {
    "duration": 14,
    "start_time": "2023-02-27T17:55:08.299Z"
   },
   {
    "duration": 4,
    "start_time": "2023-02-27T17:55:08.314Z"
   },
   {
    "duration": 13,
    "start_time": "2023-02-27T17:55:08.320Z"
   },
   {
    "duration": 23,
    "start_time": "2023-02-27T17:55:08.355Z"
   },
   {
    "duration": 15,
    "start_time": "2023-02-27T17:55:08.457Z"
   },
   {
    "duration": 16,
    "start_time": "2023-02-27T17:55:08.474Z"
   },
   {
    "duration": 41,
    "start_time": "2023-02-27T17:55:09.969Z"
   },
   {
    "duration": 3852,
    "start_time": "2023-02-27T17:56:13.762Z"
   },
   {
    "duration": 57,
    "start_time": "2023-02-27T17:56:22.171Z"
   },
   {
    "duration": 13,
    "start_time": "2023-02-27T17:56:22.230Z"
   },
   {
    "duration": 6,
    "start_time": "2023-02-27T17:56:22.245Z"
   },
   {
    "duration": 8,
    "start_time": "2023-02-27T17:56:22.253Z"
   },
   {
    "duration": 21,
    "start_time": "2023-02-27T17:56:22.263Z"
   },
   {
    "duration": 16,
    "start_time": "2023-02-27T17:56:23.523Z"
   },
   {
    "duration": 394,
    "start_time": "2023-02-27T18:14:20.543Z"
   },
   {
    "duration": 392,
    "start_time": "2023-02-27T18:16:16.887Z"
   },
   {
    "duration": 416,
    "start_time": "2023-02-27T18:16:59.705Z"
   },
   {
    "duration": 14,
    "start_time": "2023-02-27T18:18:22.323Z"
   },
   {
    "duration": 14,
    "start_time": "2023-02-27T18:19:06.608Z"
   },
   {
    "duration": 6,
    "start_time": "2023-02-27T18:19:19.071Z"
   },
   {
    "duration": 57,
    "start_time": "2023-02-27T18:21:08.372Z"
   },
   {
    "duration": 17,
    "start_time": "2023-02-27T18:21:08.431Z"
   },
   {
    "duration": 8,
    "start_time": "2023-02-27T18:21:08.451Z"
   },
   {
    "duration": 13,
    "start_time": "2023-02-27T18:21:08.461Z"
   },
   {
    "duration": 10,
    "start_time": "2023-02-27T18:21:12.528Z"
   },
   {
    "duration": 4,
    "start_time": "2023-02-27T18:21:28.939Z"
   },
   {
    "duration": 16,
    "start_time": "2023-02-27T18:22:07.080Z"
   },
   {
    "duration": 13,
    "start_time": "2023-02-27T18:22:08.856Z"
   },
   {
    "duration": 14,
    "start_time": "2023-02-27T18:22:32.472Z"
   },
   {
    "duration": 6,
    "start_time": "2023-02-27T18:24:00.715Z"
   },
   {
    "duration": 30,
    "start_time": "2023-02-27T18:24:00.724Z"
   },
   {
    "duration": 57,
    "start_time": "2023-02-27T18:24:19.167Z"
   },
   {
    "duration": 14,
    "start_time": "2023-02-27T18:24:19.226Z"
   },
   {
    "duration": 12,
    "start_time": "2023-02-27T18:24:19.242Z"
   },
   {
    "duration": 8,
    "start_time": "2023-02-27T18:24:19.256Z"
   },
   {
    "duration": 6,
    "start_time": "2023-02-27T18:24:19.266Z"
   },
   {
    "duration": 24,
    "start_time": "2023-02-27T18:24:19.273Z"
   },
   {
    "duration": 12,
    "start_time": "2023-02-27T18:24:19.299Z"
   },
   {
    "duration": 14,
    "start_time": "2023-02-27T18:24:19.313Z"
   },
   {
    "duration": 13,
    "start_time": "2023-02-27T18:24:37.257Z"
   },
   {
    "duration": 15,
    "start_time": "2023-02-27T18:26:00.273Z"
   },
   {
    "duration": 28,
    "start_time": "2023-02-27T18:26:04.239Z"
   },
   {
    "duration": 7,
    "start_time": "2023-02-27T18:27:07.435Z"
   },
   {
    "duration": 4,
    "start_time": "2023-02-27T18:27:27.108Z"
   },
   {
    "duration": 15,
    "start_time": "2023-02-27T18:28:04.732Z"
   },
   {
    "duration": 2184,
    "start_time": "2023-02-27T18:29:30.316Z"
   },
   {
    "duration": 731,
    "start_time": "2023-02-27T18:31:05.848Z"
   },
   {
    "duration": 9,
    "start_time": "2023-02-27T18:34:37.361Z"
   },
   {
    "duration": 7,
    "start_time": "2023-02-27T18:35:10.230Z"
   },
   {
    "duration": 8,
    "start_time": "2023-02-27T18:35:38.630Z"
   },
   {
    "duration": 527,
    "start_time": "2023-02-27T18:36:31.139Z"
   },
   {
    "duration": 736,
    "start_time": "2023-02-27T18:36:55.507Z"
   },
   {
    "duration": 10,
    "start_time": "2023-02-27T18:38:57.990Z"
   },
   {
    "duration": 57,
    "start_time": "2023-02-27T18:43:39.390Z"
   },
   {
    "duration": 60,
    "start_time": "2023-02-27T18:43:46.759Z"
   },
   {
    "duration": 59,
    "start_time": "2023-02-27T18:47:35.617Z"
   },
   {
    "duration": 16,
    "start_time": "2023-02-27T18:47:37.597Z"
   },
   {
    "duration": 5,
    "start_time": "2023-02-27T18:47:40.335Z"
   },
   {
    "duration": 8,
    "start_time": "2023-02-27T18:47:41.625Z"
   },
   {
    "duration": 5,
    "start_time": "2023-02-27T18:47:42.387Z"
   },
   {
    "duration": 34,
    "start_time": "2023-02-27T18:47:43.156Z"
   },
   {
    "duration": 14,
    "start_time": "2023-02-27T18:47:45.368Z"
   },
   {
    "duration": 15,
    "start_time": "2023-02-27T18:47:47.407Z"
   },
   {
    "duration": 13,
    "start_time": "2023-02-27T18:47:49.370Z"
   },
   {
    "duration": 64821,
    "start_time": "2023-02-27T18:48:10.763Z"
   },
   {
    "duration": 44833,
    "start_time": "2023-02-27T18:50:20.012Z"
   },
   {
    "duration": 3,
    "start_time": "2023-02-27T18:52:11.067Z"
   },
   {
    "duration": 4,
    "start_time": "2023-02-27T18:52:15.670Z"
   },
   {
    "duration": 38,
    "start_time": "2023-02-27T18:52:22.228Z"
   },
   {
    "duration": 18,
    "start_time": "2023-02-27T18:53:02.380Z"
   },
   {
    "duration": 22,
    "start_time": "2023-02-27T18:53:17.730Z"
   },
   {
    "duration": 11,
    "start_time": "2023-02-27T18:57:05.777Z"
   },
   {
    "duration": 719,
    "start_time": "2023-02-27T18:57:21.362Z"
   },
   {
    "duration": 768,
    "start_time": "2023-02-27T18:57:40.394Z"
   },
   {
    "duration": 814,
    "start_time": "2023-02-27T18:57:55.449Z"
   },
   {
    "duration": 9,
    "start_time": "2023-02-27T19:01:57.669Z"
   },
   {
    "duration": 1446,
    "start_time": "2023-02-27T19:03:56.320Z"
   },
   {
    "duration": 24135,
    "start_time": "2023-02-27T19:05:06.067Z"
   },
   {
    "duration": 25600,
    "start_time": "2023-02-27T19:05:31.069Z"
   },
   {
    "duration": 16,
    "start_time": "2023-02-27T19:06:19.591Z"
   },
   {
    "duration": 9939,
    "start_time": "2023-02-27T19:06:59.090Z"
   },
   {
    "duration": 21,
    "start_time": "2023-02-27T19:09:17.221Z"
   },
   {
    "duration": 716,
    "start_time": "2023-02-28T14:43:54.538Z"
   },
   {
    "duration": 18,
    "start_time": "2023-02-28T14:43:55.256Z"
   },
   {
    "duration": 5,
    "start_time": "2023-02-28T14:43:55.275Z"
   },
   {
    "duration": 10,
    "start_time": "2023-02-28T14:43:55.281Z"
   },
   {
    "duration": 17,
    "start_time": "2023-02-28T14:43:55.292Z"
   },
   {
    "duration": 38,
    "start_time": "2023-02-28T14:43:55.311Z"
   },
   {
    "duration": 7,
    "start_time": "2023-02-28T14:43:58.861Z"
   },
   {
    "duration": 5,
    "start_time": "2023-02-28T14:44:13.889Z"
   },
   {
    "duration": 68,
    "start_time": "2023-02-28T14:44:20.879Z"
   },
   {
    "duration": 62,
    "start_time": "2023-02-28T14:44:30.454Z"
   },
   {
    "duration": 14,
    "start_time": "2023-02-28T14:44:30.518Z"
   },
   {
    "duration": 15,
    "start_time": "2023-02-28T14:44:30.533Z"
   },
   {
    "duration": 27,
    "start_time": "2023-02-28T14:44:30.550Z"
   },
   {
    "duration": 18,
    "start_time": "2023-02-28T14:44:30.579Z"
   },
   {
    "duration": 48,
    "start_time": "2023-02-28T14:44:30.599Z"
   },
   {
    "duration": 7,
    "start_time": "2023-02-28T14:44:31.915Z"
   },
   {
    "duration": 14,
    "start_time": "2023-02-28T14:44:33.260Z"
   },
   {
    "duration": 10,
    "start_time": "2023-02-28T14:45:26.072Z"
   },
   {
    "duration": 15,
    "start_time": "2023-02-28T14:45:26.938Z"
   },
   {
    "duration": 57,
    "start_time": "2023-02-28T14:45:52.938Z"
   },
   {
    "duration": 15,
    "start_time": "2023-02-28T14:45:52.998Z"
   },
   {
    "duration": 5,
    "start_time": "2023-02-28T14:45:53.014Z"
   },
   {
    "duration": 20,
    "start_time": "2023-02-28T14:45:53.020Z"
   },
   {
    "duration": 11,
    "start_time": "2023-02-28T14:45:53.041Z"
   },
   {
    "duration": 24,
    "start_time": "2023-02-28T14:45:53.054Z"
   },
   {
    "duration": 7,
    "start_time": "2023-02-28T14:45:53.080Z"
   },
   {
    "duration": 13,
    "start_time": "2023-02-28T14:45:54.858Z"
   },
   {
    "duration": 51,
    "start_time": "2023-02-28T14:50:01.171Z"
   },
   {
    "duration": 28,
    "start_time": "2023-02-28T14:50:15.388Z"
   },
   {
    "duration": 19,
    "start_time": "2023-02-28T14:50:42.913Z"
   },
   {
    "duration": 56,
    "start_time": "2023-02-28T14:51:08.049Z"
   },
   {
    "duration": 13,
    "start_time": "2023-02-28T14:51:08.107Z"
   },
   {
    "duration": 3,
    "start_time": "2023-02-28T14:51:08.122Z"
   },
   {
    "duration": 11,
    "start_time": "2023-02-28T14:51:08.127Z"
   },
   {
    "duration": 5,
    "start_time": "2023-02-28T14:51:08.140Z"
   },
   {
    "duration": 28,
    "start_time": "2023-02-28T14:51:08.147Z"
   },
   {
    "duration": 7,
    "start_time": "2023-02-28T14:51:08.177Z"
   },
   {
    "duration": 13,
    "start_time": "2023-02-28T14:51:08.185Z"
   },
   {
    "duration": 24,
    "start_time": "2023-02-28T14:51:09.560Z"
   },
   {
    "duration": 18,
    "start_time": "2023-02-28T14:51:11.249Z"
   },
   {
    "duration": 13,
    "start_time": "2023-02-28T14:51:40.368Z"
   },
   {
    "duration": 62,
    "start_time": "2023-02-28T14:51:52.589Z"
   },
   {
    "duration": 14,
    "start_time": "2023-02-28T14:51:52.652Z"
   },
   {
    "duration": 5,
    "start_time": "2023-02-28T14:51:52.668Z"
   },
   {
    "duration": 11,
    "start_time": "2023-02-28T14:51:52.675Z"
   },
   {
    "duration": 10,
    "start_time": "2023-02-28T14:51:52.688Z"
   },
   {
    "duration": 29,
    "start_time": "2023-02-28T14:51:52.700Z"
   },
   {
    "duration": 20,
    "start_time": "2023-02-28T14:51:52.730Z"
   },
   {
    "duration": 11,
    "start_time": "2023-02-28T14:51:52.752Z"
   },
   {
    "duration": 16,
    "start_time": "2023-02-28T14:51:54.258Z"
   },
   {
    "duration": 16,
    "start_time": "2023-02-28T14:52:13.569Z"
   },
   {
    "duration": 14,
    "start_time": "2023-02-28T14:52:33.040Z"
   },
   {
    "duration": 21,
    "start_time": "2023-02-28T14:52:44.768Z"
   },
   {
    "duration": 10,
    "start_time": "2023-02-28T14:53:02.639Z"
   },
   {
    "duration": 17,
    "start_time": "2023-02-28T14:53:11.269Z"
   },
   {
    "duration": 24,
    "start_time": "2023-02-28T14:55:05.181Z"
   },
   {
    "duration": 56,
    "start_time": "2023-02-28T14:55:21.251Z"
   },
   {
    "duration": 14,
    "start_time": "2023-02-28T14:55:21.309Z"
   },
   {
    "duration": 5,
    "start_time": "2023-02-28T14:55:21.324Z"
   },
   {
    "duration": 11,
    "start_time": "2023-02-28T14:55:21.331Z"
   },
   {
    "duration": 5,
    "start_time": "2023-02-28T14:55:21.343Z"
   },
   {
    "duration": 25,
    "start_time": "2023-02-28T14:55:21.350Z"
   },
   {
    "duration": 8,
    "start_time": "2023-02-28T14:55:21.377Z"
   },
   {
    "duration": 19,
    "start_time": "2023-02-28T14:55:21.387Z"
   },
   {
    "duration": 19,
    "start_time": "2023-02-28T14:55:22.672Z"
   },
   {
    "duration": 19,
    "start_time": "2023-02-28T14:55:47.838Z"
   },
   {
    "duration": 5,
    "start_time": "2023-02-28T14:56:08.369Z"
   },
   {
    "duration": 19,
    "start_time": "2023-02-28T14:56:13.511Z"
   },
   {
    "duration": 21,
    "start_time": "2023-02-28T14:56:30.069Z"
   },
   {
    "duration": 18,
    "start_time": "2023-02-28T14:56:49.605Z"
   },
   {
    "duration": 27,
    "start_time": "2023-02-28T14:56:58.991Z"
   },
   {
    "duration": 15,
    "start_time": "2023-02-28T14:58:19.372Z"
   },
   {
    "duration": 57,
    "start_time": "2023-02-28T14:58:42.045Z"
   },
   {
    "duration": 15,
    "start_time": "2023-02-28T14:58:42.104Z"
   },
   {
    "duration": 23,
    "start_time": "2023-02-28T14:58:42.121Z"
   },
   {
    "duration": 20,
    "start_time": "2023-02-28T14:58:42.147Z"
   },
   {
    "duration": 34,
    "start_time": "2023-02-28T14:58:42.170Z"
   },
   {
    "duration": 60,
    "start_time": "2023-02-28T14:58:54.155Z"
   },
   {
    "duration": 14,
    "start_time": "2023-02-28T14:58:54.217Z"
   },
   {
    "duration": 7,
    "start_time": "2023-02-28T14:58:54.232Z"
   },
   {
    "duration": 12,
    "start_time": "2023-02-28T14:58:54.241Z"
   },
   {
    "duration": 21,
    "start_time": "2023-02-28T14:58:54.255Z"
   },
   {
    "duration": 8,
    "start_time": "2023-02-28T14:58:54.277Z"
   },
   {
    "duration": 14,
    "start_time": "2023-02-28T14:58:55.239Z"
   },
   {
    "duration": 16,
    "start_time": "2023-02-28T15:00:25.152Z"
   },
   {
    "duration": 4,
    "start_time": "2023-02-28T15:02:54.974Z"
   },
   {
    "duration": 591,
    "start_time": "2023-02-28T15:08:16.335Z"
   },
   {
    "duration": 9,
    "start_time": "2023-02-28T15:11:48.238Z"
   },
   {
    "duration": 8,
    "start_time": "2023-02-28T15:12:02.539Z"
   },
   {
    "duration": 8,
    "start_time": "2023-02-28T15:12:12.788Z"
   },
   {
    "duration": 8,
    "start_time": "2023-02-28T15:12:53.448Z"
   },
   {
    "duration": 904,
    "start_time": "2023-02-28T15:15:22.124Z"
   },
   {
    "duration": 158,
    "start_time": "2023-02-28T15:15:36.417Z"
   },
   {
    "duration": 185,
    "start_time": "2023-02-28T15:18:17.751Z"
   },
   {
    "duration": 13,
    "start_time": "2023-02-28T15:21:37.715Z"
   },
   {
    "duration": 434,
    "start_time": "2023-02-28T15:22:01.568Z"
   },
   {
    "duration": 14,
    "start_time": "2023-02-28T15:22:58.421Z"
   },
   {
    "duration": 464,
    "start_time": "2023-02-28T15:23:24.949Z"
   },
   {
    "duration": 433,
    "start_time": "2023-02-28T15:23:37.348Z"
   },
   {
    "duration": 186,
    "start_time": "2023-02-28T15:23:47.032Z"
   },
   {
    "duration": 141,
    "start_time": "2023-02-28T15:23:57.489Z"
   },
   {
    "duration": 259,
    "start_time": "2023-02-28T15:24:04.147Z"
   },
   {
    "duration": 300,
    "start_time": "2023-02-28T15:24:35.358Z"
   },
   {
    "duration": 74,
    "start_time": "2023-02-28T19:07:02.778Z"
   },
   {
    "duration": 634,
    "start_time": "2023-02-28T19:07:08.477Z"
   },
   {
    "duration": 28,
    "start_time": "2023-02-28T19:07:09.114Z"
   },
   {
    "duration": 7,
    "start_time": "2023-02-28T19:07:09.151Z"
   },
   {
    "duration": 14,
    "start_time": "2023-02-28T19:07:09.160Z"
   },
   {
    "duration": 39,
    "start_time": "2023-02-28T19:07:09.176Z"
   },
   {
    "duration": 13,
    "start_time": "2023-02-28T19:07:09.217Z"
   },
   {
    "duration": 41,
    "start_time": "2023-02-28T19:07:09.232Z"
   },
   {
    "duration": 16,
    "start_time": "2023-02-28T19:07:09.275Z"
   },
   {
    "duration": 7,
    "start_time": "2023-02-28T19:07:09.293Z"
   },
   {
    "duration": 696,
    "start_time": "2023-02-28T19:07:09.301Z"
   },
   {
    "duration": 1870,
    "start_time": "2023-02-28T19:07:12.617Z"
   },
   {
    "duration": 160,
    "start_time": "2023-02-28T19:07:38.900Z"
   },
   {
    "duration": 359,
    "start_time": "2023-02-28T19:08:58.243Z"
   },
   {
    "duration": 486,
    "start_time": "2023-02-28T19:09:07.200Z"
   },
   {
    "duration": 501,
    "start_time": "2023-02-28T19:09:23.919Z"
   },
   {
    "duration": 7,
    "start_time": "2023-02-28T19:10:06.087Z"
   },
   {
    "duration": 8,
    "start_time": "2023-02-28T19:10:11.547Z"
   },
   {
    "duration": 546,
    "start_time": "2023-02-28T19:11:01.798Z"
   },
   {
    "duration": 583,
    "start_time": "2023-02-28T19:11:58.976Z"
   },
   {
    "duration": 765,
    "start_time": "2023-02-28T19:12:19.416Z"
   },
   {
    "duration": 52,
    "start_time": "2023-02-28T19:12:41.947Z"
   },
   {
    "duration": 12,
    "start_time": "2023-02-28T19:12:42.001Z"
   },
   {
    "duration": 8,
    "start_time": "2023-02-28T19:12:42.015Z"
   },
   {
    "duration": 28,
    "start_time": "2023-02-28T19:12:42.024Z"
   },
   {
    "duration": 21,
    "start_time": "2023-02-28T19:12:42.055Z"
   },
   {
    "duration": 8,
    "start_time": "2023-02-28T19:12:42.078Z"
   },
   {
    "duration": 13,
    "start_time": "2023-02-28T19:12:42.087Z"
   },
   {
    "duration": 15,
    "start_time": "2023-02-28T19:12:42.102Z"
   },
   {
    "duration": 10,
    "start_time": "2023-02-28T19:12:42.127Z"
   },
   {
    "duration": 146,
    "start_time": "2023-02-28T19:12:42.140Z"
   },
   {
    "duration": 1075,
    "start_time": "2023-02-28T19:13:26.885Z"
   },
   {
    "duration": 13,
    "start_time": "2023-02-28T19:16:57.855Z"
   },
   {
    "duration": 16,
    "start_time": "2023-02-28T19:17:05.151Z"
   },
   {
    "duration": 19,
    "start_time": "2023-02-28T19:17:54.218Z"
   },
   {
    "duration": 25,
    "start_time": "2023-02-28T19:18:17.008Z"
   },
   {
    "duration": 40,
    "start_time": "2023-02-28T19:18:57.618Z"
   },
   {
    "duration": 12,
    "start_time": "2023-02-28T19:19:37.252Z"
   },
   {
    "duration": 21,
    "start_time": "2023-02-28T19:20:07.188Z"
   },
   {
    "duration": 27,
    "start_time": "2023-02-28T19:20:15.453Z"
   },
   {
    "duration": 40,
    "start_time": "2023-02-28T19:21:34.006Z"
   },
   {
    "duration": 10,
    "start_time": "2023-02-28T19:24:30.083Z"
   },
   {
    "duration": 218,
    "start_time": "2023-02-28T19:24:35.260Z"
   },
   {
    "duration": 229,
    "start_time": "2023-02-28T19:24:51.054Z"
   },
   {
    "duration": 93,
    "start_time": "2023-02-28T19:26:23.451Z"
   },
   {
    "duration": 14,
    "start_time": "2023-02-28T19:26:23.546Z"
   },
   {
    "duration": 8,
    "start_time": "2023-02-28T19:26:23.562Z"
   },
   {
    "duration": 16,
    "start_time": "2023-02-28T19:26:23.572Z"
   },
   {
    "duration": 50,
    "start_time": "2023-02-28T19:26:23.591Z"
   },
   {
    "duration": 30,
    "start_time": "2023-02-28T19:26:23.643Z"
   },
   {
    "duration": 19,
    "start_time": "2023-02-28T19:26:23.676Z"
   },
   {
    "duration": 19,
    "start_time": "2023-02-28T19:26:23.696Z"
   },
   {
    "duration": 19,
    "start_time": "2023-02-28T19:26:23.717Z"
   },
   {
    "duration": 223,
    "start_time": "2023-02-28T19:26:23.746Z"
   },
   {
    "duration": 211,
    "start_time": "2023-02-28T19:26:23.971Z"
   },
   {
    "duration": 1068,
    "start_time": "2023-02-28T19:26:24.184Z"
   },
   {
    "duration": 36,
    "start_time": "2023-02-28T19:26:25.255Z"
   },
   {
    "duration": 8,
    "start_time": "2023-02-28T19:26:32.182Z"
   },
   {
    "duration": 13,
    "start_time": "2023-02-28T19:26:39.534Z"
   },
   {
    "duration": 19,
    "start_time": "2023-02-28T19:27:33.652Z"
   },
   {
    "duration": 14,
    "start_time": "2023-02-28T19:29:40.599Z"
   },
   {
    "duration": 279,
    "start_time": "2023-02-28T19:35:19.451Z"
   },
   {
    "duration": 4829,
    "start_time": "2023-02-28T19:35:44.751Z"
   },
   {
    "duration": 884,
    "start_time": "2023-02-28T19:38:44.892Z"
   },
   {
    "duration": 7,
    "start_time": "2023-02-28T19:39:22.224Z"
   },
   {
    "duration": 7,
    "start_time": "2023-02-28T19:50:47.618Z"
   },
   {
    "duration": 10,
    "start_time": "2023-02-28T19:50:55.187Z"
   },
   {
    "duration": 13,
    "start_time": "2023-02-28T19:51:00.276Z"
   },
   {
    "duration": 93,
    "start_time": "2023-02-28T19:51:43.641Z"
   },
   {
    "duration": 15,
    "start_time": "2023-02-28T19:51:51.441Z"
   },
   {
    "duration": 23,
    "start_time": "2023-02-28T19:52:07.843Z"
   },
   {
    "duration": 15,
    "start_time": "2023-02-28T19:52:29.322Z"
   },
   {
    "duration": 20,
    "start_time": "2023-02-28T19:52:44.297Z"
   },
   {
    "duration": 17,
    "start_time": "2023-02-28T19:52:52.352Z"
   },
   {
    "duration": 8,
    "start_time": "2023-02-28T19:53:33.092Z"
   },
   {
    "duration": 18,
    "start_time": "2023-02-28T19:53:37.594Z"
   },
   {
    "duration": 15,
    "start_time": "2023-02-28T19:53:47.032Z"
   },
   {
    "duration": 19,
    "start_time": "2023-02-28T19:55:11.736Z"
   },
   {
    "duration": 18,
    "start_time": "2023-02-28T19:56:08.767Z"
   },
   {
    "duration": 18,
    "start_time": "2023-02-28T19:57:24.387Z"
   },
   {
    "duration": 9,
    "start_time": "2023-02-28T20:06:59.860Z"
   },
   {
    "duration": 606,
    "start_time": "2023-02-28T20:07:29.827Z"
   },
   {
    "duration": 40,
    "start_time": "2023-02-28T20:07:31.600Z"
   },
   {
    "duration": 22,
    "start_time": "2023-02-28T20:08:28.890Z"
   },
   {
    "duration": 584,
    "start_time": "2023-02-28T20:08:29.600Z"
   },
   {
    "duration": 6,
    "start_time": "2023-02-28T20:08:57.540Z"
   },
   {
    "duration": 621,
    "start_time": "2023-02-28T20:08:58.369Z"
   },
   {
    "duration": 81,
    "start_time": "2023-02-28T20:10:20.529Z"
   },
   {
    "duration": 480,
    "start_time": "2023-02-28T20:12:47.787Z"
   },
   {
    "duration": 169,
    "start_time": "2023-02-28T20:13:56.296Z"
   },
   {
    "duration": 175,
    "start_time": "2023-02-28T20:14:45.428Z"
   },
   {
    "duration": 60,
    "start_time": "2023-03-01T08:41:05.746Z"
   },
   {
    "duration": 1030,
    "start_time": "2023-03-01T08:41:10.773Z"
   },
   {
    "duration": 14,
    "start_time": "2023-03-01T08:41:11.805Z"
   },
   {
    "duration": 17,
    "start_time": "2023-03-01T08:41:11.821Z"
   },
   {
    "duration": 29,
    "start_time": "2023-03-01T08:41:11.840Z"
   },
   {
    "duration": 40,
    "start_time": "2023-03-01T08:41:11.871Z"
   },
   {
    "duration": 17,
    "start_time": "2023-03-01T08:41:11.913Z"
   },
   {
    "duration": 28,
    "start_time": "2023-03-01T08:41:11.931Z"
   },
   {
    "duration": 33,
    "start_time": "2023-03-01T08:41:11.960Z"
   },
   {
    "duration": 5,
    "start_time": "2023-03-01T08:41:11.995Z"
   },
   {
    "duration": 170,
    "start_time": "2023-03-01T08:41:12.003Z"
   },
   {
    "duration": 131,
    "start_time": "2023-03-01T08:41:12.174Z"
   },
   {
    "duration": 904,
    "start_time": "2023-03-01T08:41:12.306Z"
   },
   {
    "duration": 28,
    "start_time": "2023-03-01T08:41:13.212Z"
   },
   {
    "duration": 5,
    "start_time": "2023-03-01T08:41:13.241Z"
   },
   {
    "duration": 4460,
    "start_time": "2023-03-01T08:41:13.248Z"
   },
   {
    "duration": 16,
    "start_time": "2023-03-01T08:41:17.710Z"
   },
   {
    "duration": 534,
    "start_time": "2023-03-01T08:41:17.727Z"
   },
   {
    "duration": 63,
    "start_time": "2023-03-01T08:41:19.271Z"
   },
   {
    "duration": 265,
    "start_time": "2023-03-01T08:41:28.033Z"
   },
   {
    "duration": 94,
    "start_time": "2023-03-01T08:42:12.571Z"
   },
   {
    "duration": 390,
    "start_time": "2023-03-01T08:43:48.471Z"
   },
   {
    "duration": 30,
    "start_time": "2023-03-01T08:46:40.730Z"
   },
   {
    "duration": 29,
    "start_time": "2023-03-01T08:47:04.216Z"
   },
   {
    "duration": 10,
    "start_time": "2023-03-01T08:47:12.166Z"
   },
   {
    "duration": 205,
    "start_time": "2023-03-01T08:47:14.467Z"
   },
   {
    "duration": 272,
    "start_time": "2023-03-01T08:48:02.372Z"
   },
   {
    "duration": 209,
    "start_time": "2023-03-01T08:48:13.737Z"
   },
   {
    "duration": 235,
    "start_time": "2023-03-01T08:48:26.862Z"
   },
   {
    "duration": 228,
    "start_time": "2023-03-01T08:48:38.498Z"
   },
   {
    "duration": 226,
    "start_time": "2023-03-01T08:49:23.590Z"
   },
   {
    "duration": 222,
    "start_time": "2023-03-01T08:49:33.743Z"
   },
   {
    "duration": 162,
    "start_time": "2023-03-01T09:02:28.479Z"
   },
   {
    "duration": 253,
    "start_time": "2023-03-01T09:03:09.795Z"
   },
   {
    "duration": 145,
    "start_time": "2023-03-01T09:03:18.417Z"
   },
   {
    "duration": 147,
    "start_time": "2023-03-01T09:03:25.900Z"
   },
   {
    "duration": 306,
    "start_time": "2023-03-01T09:03:55.866Z"
   },
   {
    "duration": 271,
    "start_time": "2023-03-01T09:04:41.821Z"
   },
   {
    "duration": 346,
    "start_time": "2023-03-01T09:04:56.759Z"
   },
   {
    "duration": 313,
    "start_time": "2023-03-01T09:05:03.219Z"
   },
   {
    "duration": 11,
    "start_time": "2023-03-01T09:06:00.954Z"
   },
   {
    "duration": 278,
    "start_time": "2023-03-01T09:08:09.559Z"
   },
   {
    "duration": 330,
    "start_time": "2023-03-01T09:09:55.555Z"
   },
   {
    "duration": 69,
    "start_time": "2023-03-01T09:10:48.919Z"
   },
   {
    "duration": 274,
    "start_time": "2023-03-01T09:11:23.779Z"
   },
   {
    "duration": 306,
    "start_time": "2023-03-01T09:11:50.798Z"
   },
   {
    "duration": 285,
    "start_time": "2023-03-01T09:11:57.164Z"
   },
   {
    "duration": 353,
    "start_time": "2023-03-01T09:12:40.932Z"
   },
   {
    "duration": 331,
    "start_time": "2023-03-01T09:13:25.504Z"
   },
   {
    "duration": 327,
    "start_time": "2023-03-01T09:13:43.085Z"
   },
   {
    "duration": 294,
    "start_time": "2023-03-01T09:13:57.933Z"
   },
   {
    "duration": 324,
    "start_time": "2023-03-01T09:15:00.044Z"
   },
   {
    "duration": 293,
    "start_time": "2023-03-01T09:15:38.284Z"
   },
   {
    "duration": 392,
    "start_time": "2023-03-01T09:16:15.352Z"
   },
   {
    "duration": 255,
    "start_time": "2023-03-01T09:19:16.299Z"
   },
   {
    "duration": 7,
    "start_time": "2023-03-01T09:19:52.765Z"
   },
   {
    "duration": 8,
    "start_time": "2023-03-01T09:20:08.213Z"
   },
   {
    "duration": 8,
    "start_time": "2023-03-01T09:20:26.662Z"
   },
   {
    "duration": 9,
    "start_time": "2023-03-01T09:24:12.443Z"
   },
   {
    "duration": 15,
    "start_time": "2023-03-01T09:24:42.441Z"
   },
   {
    "duration": 9,
    "start_time": "2023-03-01T09:41:30.823Z"
   },
   {
    "duration": 11,
    "start_time": "2023-03-01T09:41:42.393Z"
   },
   {
    "duration": 861,
    "start_time": "2023-03-01T11:46:03.182Z"
   },
   {
    "duration": 15,
    "start_time": "2023-03-01T11:46:04.045Z"
   },
   {
    "duration": 5,
    "start_time": "2023-03-01T11:46:04.062Z"
   },
   {
    "duration": 29,
    "start_time": "2023-03-01T11:46:04.069Z"
   },
   {
    "duration": 23,
    "start_time": "2023-03-01T11:46:04.101Z"
   },
   {
    "duration": 9,
    "start_time": "2023-03-01T11:46:04.126Z"
   },
   {
    "duration": 12,
    "start_time": "2023-03-01T11:46:04.136Z"
   },
   {
    "duration": 15,
    "start_time": "2023-03-01T11:46:04.150Z"
   },
   {
    "duration": 4,
    "start_time": "2023-03-01T11:46:04.166Z"
   },
   {
    "duration": 169,
    "start_time": "2023-03-01T11:46:04.172Z"
   },
   {
    "duration": 158,
    "start_time": "2023-03-01T11:46:04.343Z"
   },
   {
    "duration": 926,
    "start_time": "2023-03-01T11:46:04.503Z"
   },
   {
    "duration": 30,
    "start_time": "2023-03-01T11:46:05.430Z"
   },
   {
    "duration": 6,
    "start_time": "2023-03-01T11:46:05.462Z"
   },
   {
    "duration": 4536,
    "start_time": "2023-03-01T11:46:05.470Z"
   },
   {
    "duration": 21,
    "start_time": "2023-03-01T11:46:10.008Z"
   },
   {
    "duration": 577,
    "start_time": "2023-03-01T11:46:10.031Z"
   },
   {
    "duration": 246,
    "start_time": "2023-03-01T11:46:10.610Z"
   },
   {
    "duration": 290,
    "start_time": "2023-03-01T11:46:10.858Z"
   },
   {
    "duration": 298,
    "start_time": "2023-03-01T11:46:11.150Z"
   },
   {
    "duration": 303,
    "start_time": "2023-03-01T11:46:11.450Z"
   },
   {
    "duration": 297,
    "start_time": "2023-03-01T11:46:11.755Z"
   },
   {
    "duration": 298,
    "start_time": "2023-03-01T11:46:12.054Z"
   },
   {
    "duration": 10,
    "start_time": "2023-03-01T11:46:12.354Z"
   },
   {
    "duration": 277,
    "start_time": "2023-03-01T11:46:12.365Z"
   },
   {
    "duration": 14,
    "start_time": "2023-03-01T11:46:12.644Z"
   },
   {
    "duration": 3,
    "start_time": "2023-03-01T11:47:57.834Z"
   },
   {
    "duration": 11,
    "start_time": "2023-03-01T11:50:57.009Z"
   },
   {
    "duration": 11,
    "start_time": "2023-03-01T11:51:16.509Z"
   },
   {
    "duration": 11,
    "start_time": "2023-03-01T11:51:22.827Z"
   },
   {
    "duration": 9,
    "start_time": "2023-03-01T11:51:43.099Z"
   },
   {
    "duration": 5,
    "start_time": "2023-03-01T11:51:50.070Z"
   },
   {
    "duration": 54,
    "start_time": "2023-03-01T11:58:23.585Z"
   },
   {
    "duration": 14,
    "start_time": "2023-03-01T11:58:23.641Z"
   },
   {
    "duration": 11,
    "start_time": "2023-03-01T11:58:23.656Z"
   },
   {
    "duration": 21,
    "start_time": "2023-03-01T11:58:23.669Z"
   },
   {
    "duration": 33,
    "start_time": "2023-03-01T11:58:23.693Z"
   },
   {
    "duration": 8,
    "start_time": "2023-03-01T11:58:23.728Z"
   },
   {
    "duration": 11,
    "start_time": "2023-03-01T11:58:23.738Z"
   },
   {
    "duration": 17,
    "start_time": "2023-03-01T11:58:23.751Z"
   },
   {
    "duration": 8,
    "start_time": "2023-03-01T11:58:23.770Z"
   },
   {
    "duration": 213,
    "start_time": "2023-03-01T11:58:23.779Z"
   },
   {
    "duration": 155,
    "start_time": "2023-03-01T11:58:23.994Z"
   },
   {
    "duration": 871,
    "start_time": "2023-03-01T11:58:24.151Z"
   },
   {
    "duration": 31,
    "start_time": "2023-03-01T11:58:25.023Z"
   },
   {
    "duration": 5,
    "start_time": "2023-03-01T11:58:25.057Z"
   },
   {
    "duration": 4597,
    "start_time": "2023-03-01T11:58:25.064Z"
   },
   {
    "duration": 24,
    "start_time": "2023-03-01T11:58:29.663Z"
   },
   {
    "duration": 3,
    "start_time": "2023-03-01T11:58:29.688Z"
   },
   {
    "duration": 245,
    "start_time": "2023-03-01T11:58:29.693Z"
   },
   {
    "duration": 420,
    "start_time": "2023-03-01T11:58:29.940Z"
   },
   {
    "duration": 369,
    "start_time": "2023-03-01T11:58:30.362Z"
   },
   {
    "duration": 316,
    "start_time": "2023-03-01T11:58:30.733Z"
   },
   {
    "duration": 304,
    "start_time": "2023-03-01T11:58:31.051Z"
   },
   {
    "duration": 326,
    "start_time": "2023-03-01T11:58:31.357Z"
   },
   {
    "duration": 10,
    "start_time": "2023-03-01T11:58:31.685Z"
   },
   {
    "duration": 294,
    "start_time": "2023-03-01T11:58:31.697Z"
   },
   {
    "duration": 14,
    "start_time": "2023-03-01T11:58:31.992Z"
   },
   {
    "duration": 14,
    "start_time": "2023-03-01T11:58:32.008Z"
   },
   {
    "duration": 38,
    "start_time": "2023-03-01T11:58:32.027Z"
   },
   {
    "duration": 5,
    "start_time": "2023-03-01T11:58:32.066Z"
   },
   {
    "duration": 16,
    "start_time": "2023-03-01T11:59:19.293Z"
   },
   {
    "duration": 14,
    "start_time": "2023-03-01T11:59:20.306Z"
   },
   {
    "duration": 5,
    "start_time": "2023-03-01T12:00:05.683Z"
   },
   {
    "duration": 161,
    "start_time": "2023-03-01T12:03:09.404Z"
   },
   {
    "duration": 208,
    "start_time": "2023-03-01T12:03:18.432Z"
   },
   {
    "duration": 268,
    "start_time": "2023-03-01T12:03:32.698Z"
   },
   {
    "duration": 499,
    "start_time": "2023-03-01T12:05:23.473Z"
   },
   {
    "duration": 118,
    "start_time": "2023-03-01T12:07:32.678Z"
   },
   {
    "duration": 176,
    "start_time": "2023-03-01T12:07:38.140Z"
   },
   {
    "duration": 122,
    "start_time": "2023-03-01T12:08:01.394Z"
   },
   {
    "duration": 284,
    "start_time": "2023-03-01T12:09:20.096Z"
   },
   {
    "duration": 1321,
    "start_time": "2023-03-01T12:10:32.806Z"
   },
   {
    "duration": 1464,
    "start_time": "2023-03-01T12:10:44.950Z"
   },
   {
    "duration": 1323,
    "start_time": "2023-03-01T12:10:59.116Z"
   },
   {
    "duration": 1241,
    "start_time": "2023-03-01T12:11:11.806Z"
   },
   {
    "duration": 1348,
    "start_time": "2023-03-01T12:11:26.549Z"
   },
   {
    "duration": 208,
    "start_time": "2023-03-01T12:11:52.868Z"
   },
   {
    "duration": 79,
    "start_time": "2023-03-01T12:12:48.286Z"
   },
   {
    "duration": 1255,
    "start_time": "2023-03-01T12:13:04.136Z"
   },
   {
    "duration": 1228,
    "start_time": "2023-03-01T12:13:20.720Z"
   },
   {
    "duration": 1317,
    "start_time": "2023-03-01T12:13:28.726Z"
   },
   {
    "duration": 32,
    "start_time": "2023-03-01T12:15:45.924Z"
   },
   {
    "duration": 25,
    "start_time": "2023-03-01T12:15:55.359Z"
   },
   {
    "duration": 68,
    "start_time": "2023-03-01T12:16:10.325Z"
   },
   {
    "duration": 25,
    "start_time": "2023-03-01T12:16:10.396Z"
   },
   {
    "duration": 18,
    "start_time": "2023-03-01T12:16:10.423Z"
   },
   {
    "duration": 19,
    "start_time": "2023-03-01T12:16:10.443Z"
   },
   {
    "duration": 151,
    "start_time": "2023-03-01T12:16:10.465Z"
   },
   {
    "duration": 14,
    "start_time": "2023-03-01T12:16:10.618Z"
   },
   {
    "duration": 13,
    "start_time": "2023-03-01T12:16:10.634Z"
   },
   {
    "duration": 14,
    "start_time": "2023-03-01T12:16:10.649Z"
   },
   {
    "duration": 5,
    "start_time": "2023-03-01T12:16:10.664Z"
   },
   {
    "duration": 170,
    "start_time": "2023-03-01T12:16:10.670Z"
   },
   {
    "duration": 160,
    "start_time": "2023-03-01T12:16:10.842Z"
   },
   {
    "duration": 945,
    "start_time": "2023-03-01T12:16:11.004Z"
   },
   {
    "duration": 31,
    "start_time": "2023-03-01T12:16:11.950Z"
   },
   {
    "duration": 7,
    "start_time": "2023-03-01T12:16:11.983Z"
   },
   {
    "duration": 4845,
    "start_time": "2023-03-01T12:16:11.992Z"
   },
   {
    "duration": 19,
    "start_time": "2023-03-01T12:16:16.838Z"
   },
   {
    "duration": 7,
    "start_time": "2023-03-01T12:16:16.859Z"
   },
   {
    "duration": 287,
    "start_time": "2023-03-01T12:16:16.868Z"
   },
   {
    "duration": 530,
    "start_time": "2023-03-01T12:16:17.156Z"
   },
   {
    "duration": 358,
    "start_time": "2023-03-01T12:16:17.687Z"
   },
   {
    "duration": 334,
    "start_time": "2023-03-01T12:16:18.047Z"
   },
   {
    "duration": 326,
    "start_time": "2023-03-01T12:16:18.383Z"
   },
   {
    "duration": 351,
    "start_time": "2023-03-01T12:16:18.711Z"
   },
   {
    "duration": 16,
    "start_time": "2023-03-01T12:16:19.064Z"
   },
   {
    "duration": 25,
    "start_time": "2023-03-01T12:16:22.276Z"
   },
   {
    "duration": 25,
    "start_time": "2023-03-01T12:16:51.679Z"
   },
   {
    "duration": 524,
    "start_time": "2023-03-01T12:18:00.027Z"
   },
   {
    "duration": 922,
    "start_time": "2023-03-02T14:29:41.306Z"
   },
   {
    "duration": 15,
    "start_time": "2023-03-02T14:29:42.230Z"
   },
   {
    "duration": 10,
    "start_time": "2023-03-02T14:29:42.247Z"
   },
   {
    "duration": 8,
    "start_time": "2023-03-02T14:29:42.259Z"
   },
   {
    "duration": 26,
    "start_time": "2023-03-02T14:29:42.269Z"
   },
   {
    "duration": 10,
    "start_time": "2023-03-02T14:29:42.296Z"
   },
   {
    "duration": 12,
    "start_time": "2023-03-02T14:29:42.308Z"
   },
   {
    "duration": 43,
    "start_time": "2023-03-02T14:29:42.322Z"
   },
   {
    "duration": 5,
    "start_time": "2023-03-02T14:29:42.367Z"
   },
   {
    "duration": 4,
    "start_time": "2023-03-02T14:29:47.677Z"
   },
   {
    "duration": 57,
    "start_time": "2023-03-02T14:30:23.749Z"
   },
   {
    "duration": 15,
    "start_time": "2023-03-02T14:30:23.807Z"
   },
   {
    "duration": 4,
    "start_time": "2023-03-02T14:30:23.823Z"
   },
   {
    "duration": 36,
    "start_time": "2023-03-02T14:30:23.829Z"
   },
   {
    "duration": 39,
    "start_time": "2023-03-02T14:30:23.868Z"
   },
   {
    "duration": 10,
    "start_time": "2023-03-02T14:30:23.909Z"
   },
   {
    "duration": 18,
    "start_time": "2023-03-02T14:30:23.922Z"
   },
   {
    "duration": 20,
    "start_time": "2023-03-02T14:30:23.942Z"
   },
   {
    "duration": 6,
    "start_time": "2023-03-02T14:30:23.964Z"
   },
   {
    "duration": 6,
    "start_time": "2023-03-02T14:30:23.972Z"
   },
   {
    "duration": 221,
    "start_time": "2023-03-02T14:30:23.980Z"
   },
   {
    "duration": 142,
    "start_time": "2023-03-02T14:30:24.202Z"
   },
   {
    "duration": 1100,
    "start_time": "2023-03-02T14:30:24.346Z"
   },
   {
    "duration": 37,
    "start_time": "2023-03-02T14:30:25.453Z"
   },
   {
    "duration": 6,
    "start_time": "2023-03-02T14:31:00.477Z"
   },
   {
    "duration": 150,
    "start_time": "2023-03-02T14:32:21.737Z"
   },
   {
    "duration": 157,
    "start_time": "2023-03-02T14:32:33.368Z"
   },
   {
    "duration": 140,
    "start_time": "2023-03-02T14:32:53.737Z"
   },
   {
    "duration": 5,
    "start_time": "2023-03-02T14:34:27.577Z"
   },
   {
    "duration": 1010,
    "start_time": "2023-03-02T14:34:29.197Z"
   },
   {
    "duration": 948,
    "start_time": "2023-03-02T14:34:57.257Z"
   },
   {
    "duration": 856,
    "start_time": "2023-03-02T14:36:06.141Z"
   },
   {
    "duration": 37,
    "start_time": "2023-03-02T14:36:23.511Z"
   },
   {
    "duration": 61,
    "start_time": "2023-03-02T14:38:09.123Z"
   },
   {
    "duration": 14,
    "start_time": "2023-03-02T14:38:09.186Z"
   },
   {
    "duration": 7,
    "start_time": "2023-03-02T14:38:09.202Z"
   },
   {
    "duration": 9,
    "start_time": "2023-03-02T14:38:09.211Z"
   },
   {
    "duration": 44,
    "start_time": "2023-03-02T14:38:09.222Z"
   },
   {
    "duration": 12,
    "start_time": "2023-03-02T14:38:09.268Z"
   },
   {
    "duration": 13,
    "start_time": "2023-03-02T14:38:09.282Z"
   },
   {
    "duration": 25,
    "start_time": "2023-03-02T14:38:09.297Z"
   },
   {
    "duration": 29,
    "start_time": "2023-03-02T14:38:09.324Z"
   },
   {
    "duration": 6,
    "start_time": "2023-03-02T14:38:09.356Z"
   },
   {
    "duration": 280,
    "start_time": "2023-03-02T14:38:09.364Z"
   },
   {
    "duration": 158,
    "start_time": "2023-03-02T14:38:09.653Z"
   },
   {
    "duration": 8,
    "start_time": "2023-03-02T14:38:12.491Z"
   },
   {
    "duration": 938,
    "start_time": "2023-03-02T14:38:14.682Z"
   },
   {
    "duration": 30,
    "start_time": "2023-03-02T14:38:25.374Z"
   },
   {
    "duration": 32,
    "start_time": "2023-03-02T14:38:40.563Z"
   },
   {
    "duration": 60,
    "start_time": "2023-03-02T14:38:58.099Z"
   },
   {
    "duration": 14,
    "start_time": "2023-03-02T14:38:58.160Z"
   },
   {
    "duration": 8,
    "start_time": "2023-03-02T14:38:58.176Z"
   },
   {
    "duration": 10,
    "start_time": "2023-03-02T14:38:58.186Z"
   },
   {
    "duration": 26,
    "start_time": "2023-03-02T14:38:58.199Z"
   },
   {
    "duration": 10,
    "start_time": "2023-03-02T14:38:58.227Z"
   },
   {
    "duration": 22,
    "start_time": "2023-03-02T14:38:58.254Z"
   },
   {
    "duration": 16,
    "start_time": "2023-03-02T14:38:58.278Z"
   },
   {
    "duration": 5,
    "start_time": "2023-03-02T14:38:58.296Z"
   },
   {
    "duration": 13,
    "start_time": "2023-03-02T14:38:58.303Z"
   },
   {
    "duration": 149,
    "start_time": "2023-03-02T14:38:58.317Z"
   },
   {
    "duration": 147,
    "start_time": "2023-03-02T14:38:58.467Z"
   },
   {
    "duration": 6,
    "start_time": "2023-03-02T14:38:58.616Z"
   },
   {
    "duration": 1044,
    "start_time": "2023-03-02T14:38:58.624Z"
   },
   {
    "duration": 15,
    "start_time": "2023-03-02T14:39:09.274Z"
   },
   {
    "duration": 33,
    "start_time": "2023-03-02T14:39:13.620Z"
   },
   {
    "duration": 6,
    "start_time": "2023-03-02T14:39:47.450Z"
   },
   {
    "duration": 2005,
    "start_time": "2023-03-02T14:40:00.051Z"
   },
   {
    "duration": 18,
    "start_time": "2023-03-02T14:40:08.360Z"
   },
   {
    "duration": 15,
    "start_time": "2023-03-02T14:40:18.450Z"
   },
   {
    "duration": 19,
    "start_time": "2023-03-02T14:40:44.080Z"
   },
   {
    "duration": 196,
    "start_time": "2023-03-02T14:45:23.732Z"
   },
   {
    "duration": 551,
    "start_time": "2023-03-02T14:45:28.462Z"
   },
   {
    "duration": 244,
    "start_time": "2023-03-02T14:45:30.329Z"
   },
   {
    "duration": 308,
    "start_time": "2023-03-02T14:52:53.585Z"
   },
   {
    "duration": 18,
    "start_time": "2023-03-02T14:53:55.858Z"
   },
   {
    "duration": 6,
    "start_time": "2023-03-02T15:08:50.964Z"
   },
   {
    "duration": 7,
    "start_time": "2023-03-02T15:10:24.213Z"
   },
   {
    "duration": 7,
    "start_time": "2023-03-02T15:10:46.936Z"
   },
   {
    "duration": 8,
    "start_time": "2023-03-02T15:10:52.775Z"
   },
   {
    "duration": 7,
    "start_time": "2023-03-02T15:11:28.913Z"
   },
   {
    "duration": 91,
    "start_time": "2023-03-02T15:15:14.355Z"
   },
   {
    "duration": 9,
    "start_time": "2023-03-02T15:15:18.703Z"
   },
   {
    "duration": 30,
    "start_time": "2023-03-02T15:15:33.033Z"
   },
   {
    "duration": 18,
    "start_time": "2023-03-02T15:16:33.922Z"
   },
   {
    "duration": 16,
    "start_time": "2023-03-02T15:16:59.672Z"
   },
   {
    "duration": 169,
    "start_time": "2023-03-02T15:17:22.625Z"
   },
   {
    "duration": 139,
    "start_time": "2023-03-02T15:19:59.246Z"
   },
   {
    "duration": 125,
    "start_time": "2023-03-02T15:23:02.873Z"
   },
   {
    "duration": 132,
    "start_time": "2023-03-02T15:23:29.953Z"
   },
   {
    "duration": 149,
    "start_time": "2023-03-02T15:23:42.350Z"
   },
   {
    "duration": 130,
    "start_time": "2023-03-02T15:23:50.476Z"
   },
   {
    "duration": 137,
    "start_time": "2023-03-02T15:24:35.067Z"
   },
   {
    "duration": 131,
    "start_time": "2023-03-02T15:25:18.565Z"
   },
   {
    "duration": 7,
    "start_time": "2023-03-02T15:25:38.862Z"
   },
   {
    "duration": 8,
    "start_time": "2023-03-02T15:27:09.492Z"
   },
   {
    "duration": 9,
    "start_time": "2023-03-02T15:28:46.833Z"
   },
   {
    "duration": 7,
    "start_time": "2023-03-02T15:28:58.442Z"
   },
   {
    "duration": 6,
    "start_time": "2023-03-02T15:33:11.243Z"
   },
   {
    "duration": 138,
    "start_time": "2023-03-02T15:33:35.093Z"
   },
   {
    "duration": 216,
    "start_time": "2023-03-02T15:34:27.726Z"
   },
   {
    "duration": 8,
    "start_time": "2023-03-02T15:35:51.600Z"
   },
   {
    "duration": 10,
    "start_time": "2023-03-02T15:37:11.058Z"
   },
   {
    "duration": 9,
    "start_time": "2023-03-02T15:38:00.834Z"
   },
   {
    "duration": 7,
    "start_time": "2023-03-02T15:38:43.038Z"
   },
   {
    "duration": 8,
    "start_time": "2023-03-02T15:38:51.755Z"
   },
   {
    "duration": 65,
    "start_time": "2023-03-02T20:43:45.535Z"
   },
   {
    "duration": 1003,
    "start_time": "2023-03-02T20:43:50.240Z"
   },
   {
    "duration": 15,
    "start_time": "2023-03-02T20:43:51.246Z"
   },
   {
    "duration": 19,
    "start_time": "2023-03-02T20:43:51.269Z"
   },
   {
    "duration": 8,
    "start_time": "2023-03-02T20:43:51.289Z"
   },
   {
    "duration": 26,
    "start_time": "2023-03-02T20:43:51.299Z"
   },
   {
    "duration": 8,
    "start_time": "2023-03-02T20:43:51.327Z"
   },
   {
    "duration": 14,
    "start_time": "2023-03-02T20:43:51.336Z"
   },
   {
    "duration": 18,
    "start_time": "2023-03-02T20:43:51.359Z"
   },
   {
    "duration": 4,
    "start_time": "2023-03-02T20:43:51.382Z"
   },
   {
    "duration": 5,
    "start_time": "2023-03-02T20:43:51.388Z"
   },
   {
    "duration": 155,
    "start_time": "2023-03-02T20:43:51.394Z"
   },
   {
    "duration": 135,
    "start_time": "2023-03-02T20:43:51.555Z"
   },
   {
    "duration": 5,
    "start_time": "2023-03-02T20:43:51.692Z"
   },
   {
    "duration": 915,
    "start_time": "2023-03-02T20:43:51.700Z"
   },
   {
    "duration": 41,
    "start_time": "2023-03-02T20:43:52.616Z"
   },
   {
    "duration": 9,
    "start_time": "2023-03-02T20:43:52.664Z"
   },
   {
    "duration": 1900,
    "start_time": "2023-03-02T20:43:52.675Z"
   },
   {
    "duration": 18,
    "start_time": "2023-03-02T20:43:54.577Z"
   },
   {
    "duration": 564,
    "start_time": "2023-03-02T20:43:54.597Z"
   },
   {
    "duration": 287,
    "start_time": "2023-03-02T20:43:55.167Z"
   },
   {
    "duration": 425,
    "start_time": "2023-03-02T20:43:55.455Z"
   },
   {
    "duration": 345,
    "start_time": "2023-03-02T20:43:55.886Z"
   },
   {
    "duration": 296,
    "start_time": "2023-03-02T20:43:56.233Z"
   },
   {
    "duration": 353,
    "start_time": "2023-03-02T20:43:56.531Z"
   },
   {
    "duration": 291,
    "start_time": "2023-03-02T20:43:56.886Z"
   },
   {
    "duration": 295,
    "start_time": "2023-03-02T20:43:57.179Z"
   },
   {
    "duration": 9,
    "start_time": "2023-03-02T20:43:57.476Z"
   },
   {
    "duration": 274,
    "start_time": "2023-03-02T20:43:57.487Z"
   },
   {
    "duration": 17,
    "start_time": "2023-03-02T20:43:57.762Z"
   },
   {
    "duration": 5,
    "start_time": "2023-03-02T20:43:57.781Z"
   },
   {
    "duration": 155,
    "start_time": "2023-03-02T20:43:57.788Z"
   },
   {
    "duration": 24,
    "start_time": "2023-03-02T20:43:57.945Z"
   },
   {
    "duration": 7,
    "start_time": "2023-03-02T20:43:57.972Z"
   },
   {
    "duration": 9,
    "start_time": "2023-03-02T20:43:57.981Z"
   },
   {
    "duration": 226,
    "start_time": "2023-03-02T20:43:57.992Z"
   },
   {
    "duration": 6,
    "start_time": "2023-03-02T20:43:58.220Z"
   },
   {
    "duration": 8,
    "start_time": "2023-03-02T20:44:04.515Z"
   },
   {
    "duration": 9,
    "start_time": "2023-03-02T20:44:44.030Z"
   },
   {
    "duration": 6,
    "start_time": "2023-03-02T20:44:53.702Z"
   },
   {
    "duration": 6,
    "start_time": "2023-03-02T20:47:01.829Z"
   },
   {
    "duration": 1557,
    "start_time": "2023-03-02T20:48:31.555Z"
   },
   {
    "duration": 152,
    "start_time": "2023-03-02T20:49:38.050Z"
   },
   {
    "duration": 144,
    "start_time": "2023-03-02T20:50:09.720Z"
   },
   {
    "duration": 1494,
    "start_time": "2023-03-02T20:50:19.110Z"
   },
   {
    "duration": 187,
    "start_time": "2023-03-02T20:50:30.840Z"
   },
   {
    "duration": 877,
    "start_time": "2023-03-03T15:19:52.774Z"
   },
   {
    "duration": 14,
    "start_time": "2023-03-03T15:19:53.653Z"
   },
   {
    "duration": 9,
    "start_time": "2023-03-03T15:19:53.668Z"
   },
   {
    "duration": 19,
    "start_time": "2023-03-03T15:19:53.678Z"
   },
   {
    "duration": 57,
    "start_time": "2023-03-03T15:19:53.700Z"
   },
   {
    "duration": 9,
    "start_time": "2023-03-03T15:19:53.758Z"
   },
   {
    "duration": 18,
    "start_time": "2023-03-03T15:19:53.768Z"
   },
   {
    "duration": 25,
    "start_time": "2023-03-03T15:19:53.787Z"
   },
   {
    "duration": 12,
    "start_time": "2023-03-03T15:19:53.814Z"
   },
   {
    "duration": 26,
    "start_time": "2023-03-03T15:19:53.827Z"
   },
   {
    "duration": 160,
    "start_time": "2023-03-03T15:19:53.855Z"
   },
   {
    "duration": 139,
    "start_time": "2023-03-03T15:19:54.017Z"
   },
   {
    "duration": 7,
    "start_time": "2023-03-03T15:19:54.157Z"
   },
   {
    "duration": 919,
    "start_time": "2023-03-03T15:19:54.167Z"
   },
   {
    "duration": 54,
    "start_time": "2023-03-03T15:19:55.088Z"
   },
   {
    "duration": 8,
    "start_time": "2023-03-03T15:19:55.144Z"
   },
   {
    "duration": 1979,
    "start_time": "2023-03-03T15:19:55.154Z"
   },
   {
    "duration": 19,
    "start_time": "2023-03-03T15:19:57.135Z"
   },
   {
    "duration": 445,
    "start_time": "2023-03-03T15:19:57.156Z"
   },
   {
    "duration": 298,
    "start_time": "2023-03-03T15:19:57.602Z"
   },
   {
    "duration": 304,
    "start_time": "2023-03-03T15:19:57.902Z"
   },
   {
    "duration": 356,
    "start_time": "2023-03-03T15:19:58.208Z"
   },
   {
    "duration": 287,
    "start_time": "2023-03-03T15:19:58.566Z"
   },
   {
    "duration": 332,
    "start_time": "2023-03-03T15:19:58.855Z"
   },
   {
    "duration": 277,
    "start_time": "2023-03-03T15:19:59.189Z"
   },
   {
    "duration": 286,
    "start_time": "2023-03-03T15:19:59.468Z"
   },
   {
    "duration": 11,
    "start_time": "2023-03-03T15:19:59.755Z"
   },
   {
    "duration": 287,
    "start_time": "2023-03-03T15:19:59.767Z"
   },
   {
    "duration": 14,
    "start_time": "2023-03-03T15:20:00.056Z"
   },
   {
    "duration": 11,
    "start_time": "2023-03-03T15:20:00.071Z"
   },
   {
    "duration": 155,
    "start_time": "2023-03-03T15:20:00.084Z"
   },
   {
    "duration": 6,
    "start_time": "2023-03-03T15:20:00.241Z"
   },
   {
    "duration": 47,
    "start_time": "2023-03-03T15:20:00.249Z"
   },
   {
    "duration": 50,
    "start_time": "2023-03-03T15:20:00.298Z"
   },
   {
    "duration": 207,
    "start_time": "2023-03-03T15:20:00.350Z"
   },
   {
    "duration": 7,
    "start_time": "2023-03-03T15:20:00.559Z"
   },
   {
    "duration": 40,
    "start_time": "2023-03-03T15:20:00.568Z"
   },
   {
    "duration": 64,
    "start_time": "2023-03-03T15:20:00.610Z"
   },
   {
    "duration": 262,
    "start_time": "2023-03-03T15:20:00.676Z"
   },
   {
    "duration": 8,
    "start_time": "2023-03-03T15:20:34.171Z"
   },
   {
    "duration": 55,
    "start_time": "2023-03-03T15:28:21.491Z"
   },
   {
    "duration": 155,
    "start_time": "2023-03-03T15:28:30.139Z"
   },
   {
    "duration": 38,
    "start_time": "2023-03-03T15:28:40.379Z"
   },
   {
    "duration": 32,
    "start_time": "2023-03-03T15:29:30.662Z"
   },
   {
    "duration": 41,
    "start_time": "2023-03-03T15:30:10.799Z"
   },
   {
    "duration": 41,
    "start_time": "2023-03-03T15:30:32.776Z"
   },
   {
    "duration": 30,
    "start_time": "2023-03-03T15:30:52.480Z"
   },
   {
    "duration": 33,
    "start_time": "2023-03-03T15:31:36.317Z"
   },
   {
    "duration": 39,
    "start_time": "2023-03-03T15:32:08.631Z"
   },
   {
    "duration": 28,
    "start_time": "2023-03-03T15:33:24.284Z"
   },
   {
    "duration": 34,
    "start_time": "2023-03-03T15:34:38.885Z"
   },
   {
    "duration": 30,
    "start_time": "2023-03-03T15:34:45.494Z"
   },
   {
    "duration": 31,
    "start_time": "2023-03-03T15:35:21.060Z"
   },
   {
    "duration": 32,
    "start_time": "2023-03-03T15:35:57.193Z"
   },
   {
    "duration": 27,
    "start_time": "2023-03-03T15:36:46.683Z"
   },
   {
    "duration": 29,
    "start_time": "2023-03-03T15:37:02.234Z"
   },
   {
    "duration": 31,
    "start_time": "2023-03-03T15:37:10.524Z"
   },
   {
    "duration": 31,
    "start_time": "2023-03-03T15:37:30.204Z"
   },
   {
    "duration": 37,
    "start_time": "2023-03-03T15:43:59.094Z"
   },
   {
    "duration": 8,
    "start_time": "2023-03-03T15:47:15.518Z"
   },
   {
    "duration": 8,
    "start_time": "2023-03-03T15:48:11.198Z"
   },
   {
    "duration": 837,
    "start_time": "2023-03-04T11:56:27.414Z"
   },
   {
    "duration": 15,
    "start_time": "2023-03-04T11:56:28.254Z"
   },
   {
    "duration": 10,
    "start_time": "2023-03-04T11:56:28.271Z"
   },
   {
    "duration": 11,
    "start_time": "2023-03-04T11:56:28.283Z"
   },
   {
    "duration": 26,
    "start_time": "2023-03-04T11:56:28.296Z"
   },
   {
    "duration": 9,
    "start_time": "2023-03-04T11:56:28.324Z"
   },
   {
    "duration": 13,
    "start_time": "2023-03-04T11:56:28.334Z"
   },
   {
    "duration": 14,
    "start_time": "2023-03-04T11:56:28.349Z"
   },
   {
    "duration": 5,
    "start_time": "2023-03-04T11:56:28.365Z"
   },
   {
    "duration": 33,
    "start_time": "2023-03-04T11:56:28.373Z"
   },
   {
    "duration": 145,
    "start_time": "2023-03-04T11:56:28.408Z"
   },
   {
    "duration": 132,
    "start_time": "2023-03-04T11:56:28.555Z"
   },
   {
    "duration": 6,
    "start_time": "2023-03-04T11:56:28.689Z"
   },
   {
    "duration": 942,
    "start_time": "2023-03-04T11:56:28.704Z"
   },
   {
    "duration": 26,
    "start_time": "2023-03-04T11:56:29.648Z"
   },
   {
    "duration": 5,
    "start_time": "2023-03-04T11:56:29.676Z"
   },
   {
    "duration": 1787,
    "start_time": "2023-03-04T11:56:29.682Z"
   },
   {
    "duration": 12,
    "start_time": "2023-03-04T11:56:31.471Z"
   },
   {
    "duration": 472,
    "start_time": "2023-03-04T11:56:31.484Z"
   },
   {
    "duration": 308,
    "start_time": "2023-03-04T11:56:31.957Z"
   },
   {
    "duration": 308,
    "start_time": "2023-03-04T11:56:32.266Z"
   },
   {
    "duration": 304,
    "start_time": "2023-03-04T11:56:32.575Z"
   },
   {
    "duration": 282,
    "start_time": "2023-03-04T11:56:32.880Z"
   },
   {
    "duration": 314,
    "start_time": "2023-03-04T11:56:33.163Z"
   },
   {
    "duration": 281,
    "start_time": "2023-03-04T11:56:33.478Z"
   },
   {
    "duration": 288,
    "start_time": "2023-03-04T11:56:33.760Z"
   },
   {
    "duration": 10,
    "start_time": "2023-03-04T11:56:34.050Z"
   },
   {
    "duration": 290,
    "start_time": "2023-03-04T11:56:34.064Z"
   },
   {
    "duration": 14,
    "start_time": "2023-03-04T11:56:34.356Z"
   },
   {
    "duration": 7,
    "start_time": "2023-03-04T11:56:34.371Z"
   },
   {
    "duration": 52,
    "start_time": "2023-03-04T11:56:34.380Z"
   },
   {
    "duration": 7,
    "start_time": "2023-03-04T11:56:34.434Z"
   },
   {
    "duration": 26,
    "start_time": "2023-03-04T11:56:34.443Z"
   },
   {
    "duration": 9,
    "start_time": "2023-03-04T11:56:34.470Z"
   },
   {
    "duration": 42,
    "start_time": "2023-03-04T11:56:34.480Z"
   },
   {
    "duration": 6,
    "start_time": "2023-03-04T11:56:34.523Z"
   },
   {
    "duration": 15,
    "start_time": "2023-03-04T11:56:34.531Z"
   },
   {
    "duration": 7,
    "start_time": "2023-03-04T11:56:34.548Z"
   },
   {
    "duration": 48,
    "start_time": "2023-03-04T11:56:34.556Z"
   },
   {
    "duration": 6,
    "start_time": "2023-03-04T11:56:34.606Z"
   },
   {
    "duration": 8,
    "start_time": "2023-03-04T11:56:34.613Z"
   },
   {
    "duration": 2,
    "start_time": "2023-03-04T12:04:42.084Z"
   },
   {
    "duration": 249,
    "start_time": "2023-03-04T12:04:43.020Z"
   },
   {
    "duration": 270,
    "start_time": "2023-03-04T12:04:54.196Z"
   },
   {
    "duration": 124,
    "start_time": "2023-03-04T12:10:25.413Z"
   },
   {
    "duration": 179,
    "start_time": "2023-03-04T12:10:30.724Z"
   },
   {
    "duration": 10,
    "start_time": "2023-03-04T12:11:15.709Z"
   },
   {
    "duration": 116,
    "start_time": "2023-03-04T12:11:30.108Z"
   },
   {
    "duration": 2,
    "start_time": "2023-03-04T12:12:35.084Z"
   },
   {
    "duration": 9,
    "start_time": "2023-03-04T12:12:44.010Z"
   },
   {
    "duration": 8,
    "start_time": "2023-03-04T12:13:42.276Z"
   },
   {
    "duration": 197,
    "start_time": "2023-03-04T12:14:29.020Z"
   },
   {
    "duration": 174,
    "start_time": "2023-03-04T12:14:49.984Z"
   },
   {
    "duration": 10,
    "start_time": "2023-03-04T12:15:47.917Z"
   },
   {
    "duration": 13,
    "start_time": "2023-03-04T12:15:50.302Z"
   },
   {
    "duration": 310,
    "start_time": "2023-03-04T12:55:42.825Z"
   },
   {
    "duration": 265,
    "start_time": "2023-03-04T12:56:36.304Z"
   },
   {
    "duration": 287,
    "start_time": "2023-03-04T12:56:49.924Z"
   },
   {
    "duration": 290,
    "start_time": "2023-03-04T12:57:07.149Z"
   },
   {
    "duration": 365,
    "start_time": "2023-03-04T12:57:24.202Z"
   },
   {
    "duration": 287,
    "start_time": "2023-03-04T12:58:08.444Z"
   },
   {
    "duration": 362,
    "start_time": "2023-03-04T12:58:26.684Z"
   }
  ],
  "kernelspec": {
   "display_name": "Python 3 (ipykernel)",
   "language": "python",
   "name": "python3"
  },
  "language_info": {
   "codemirror_mode": {
    "name": "ipython",
    "version": 3
   },
   "file_extension": ".py",
   "mimetype": "text/x-python",
   "name": "python",
   "nbconvert_exporter": "python",
   "pygments_lexer": "ipython3",
   "version": "3.11.5"
  },
  "toc": {
   "base_numbering": 1,
   "nav_menu": {},
   "number_sections": true,
   "sideBar": true,
   "skip_h1_title": true,
   "title_cell": "Table of Contents",
   "title_sidebar": "Contents",
   "toc_cell": false,
   "toc_position": {},
   "toc_section_display": true,
   "toc_window_display": false
  }
 },
 "nbformat": 4,
 "nbformat_minor": 2
}
