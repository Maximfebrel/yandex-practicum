{
 "cells": [
  {
   "cell_type": "markdown",
   "id": "1a4f663d",
   "metadata": {},
   "source": [
    "# Введение"
   ]
  },
  {
   "cell_type": "markdown",
   "id": "5796caa0",
   "metadata": {},
   "source": [
    "Интернет-магазин «Викишоп» запускает новый сервис. Теперь пользователи могут редактировать и дополнять описания товаров, как в вики-сообществах. То есть клиенты предлагают свои правки и комментируют изменения других. Магазину нужен инструмент, который будет искать токсичные комментарии и отправлять их на модерацию. \n",
    "\n",
    "Обучите модель классифицировать комментарии на позитивные и негативные. В вашем распоряжении набор данных с разметкой о токсичности правок.\n",
    "\n",
    "Постройте модель со значением метрики качества *F1* не меньше 0.75. \n",
    "\n",
    "**Инструкция по выполнению проекта**\n",
    "\n",
    "1. Загрузите и подготовьте данные.\n",
    "2. Обучите разные модели. \n",
    "3. Сделайте выводы.\n",
    "\n",
    "Для выполнения проекта применять *BERT* необязательно, но вы можете попробовать.\n",
    "\n",
    "**Описание данных**\n",
    "\n",
    "Данные находятся в файле `toxic_comments.csv`. Столбец *text* в нём содержит текст комментария, а *toxic* — целевой признак."
   ]
  },
  {
   "cell_type": "markdown",
   "id": "d4760f04",
   "metadata": {},
   "source": [
    "# Подготовка данных"
   ]
  },
  {
   "cell_type": "code",
   "execution_count": 1,
   "id": "f2067ab6",
   "metadata": {},
   "outputs": [
    {
     "name": "stdout",
     "output_type": "stream",
     "text": [
      "Requirement already satisfied: catboost in c:\\users\\admin\\anaconda3\\lib\\site-packages (1.2)\n",
      "Requirement already satisfied: graphviz in c:\\users\\admin\\anaconda3\\lib\\site-packages (from catboost) (0.20.1)\n",
      "Requirement already satisfied: matplotlib in c:\\users\\admin\\anaconda3\\lib\\site-packages (from catboost) (3.5.2)\n",
      "Requirement already satisfied: numpy>=1.16.0 in c:\\users\\admin\\anaconda3\\lib\\site-packages (from catboost) (1.21.5)\n",
      "Requirement already satisfied: pandas>=0.24 in c:\\users\\admin\\anaconda3\\lib\\site-packages (from catboost) (1.4.4)\n",
      "Requirement already satisfied: scipy in c:\\users\\admin\\anaconda3\\lib\\site-packages (from catboost) (1.9.1)\n",
      "Requirement already satisfied: plotly in c:\\users\\admin\\anaconda3\\lib\\site-packages (from catboost) (5.9.0)\n",
      "Requirement already satisfied: six in c:\\users\\admin\\anaconda3\\lib\\site-packages (from catboost) (1.16.0)\n",
      "Requirement already satisfied: python-dateutil>=2.8.1 in c:\\users\\admin\\anaconda3\\lib\\site-packages (from pandas>=0.24->catboost) (2.8.2)\n",
      "Requirement already satisfied: pytz>=2020.1 in c:\\users\\admin\\anaconda3\\lib\\site-packages (from pandas>=0.24->catboost) (2022.1)\n",
      "Requirement already satisfied: cycler>=0.10 in c:\\users\\admin\\anaconda3\\lib\\site-packages (from matplotlib->catboost) (0.11.0)\n",
      "Requirement already satisfied: fonttools>=4.22.0 in c:\\users\\admin\\anaconda3\\lib\\site-packages (from matplotlib->catboost) (4.25.0)\n",
      "Requirement already satisfied: kiwisolver>=1.0.1 in c:\\users\\admin\\anaconda3\\lib\\site-packages (from matplotlib->catboost) (1.4.2)\n",
      "Requirement already satisfied: packaging>=20.0 in c:\\users\\admin\\anaconda3\\lib\\site-packages (from matplotlib->catboost) (21.3)\n",
      "Requirement already satisfied: pillow>=6.2.0 in c:\\users\\admin\\anaconda3\\lib\\site-packages (from matplotlib->catboost) (9.2.0)\n",
      "Requirement already satisfied: pyparsing>=2.2.1 in c:\\users\\admin\\anaconda3\\lib\\site-packages (from matplotlib->catboost) (3.0.9)\n",
      "Requirement already satisfied: tenacity>=6.2.0 in c:\\users\\admin\\anaconda3\\lib\\site-packages (from plotly->catboost) (8.0.1)\n",
      "Note: you may need to restart the kernel to use updated packages.\n"
     ]
    }
   ],
   "source": [
    "pip install catboost"
   ]
  },
  {
   "cell_type": "code",
   "execution_count": 2,
   "id": "5ef9db5a",
   "metadata": {},
   "outputs": [],
   "source": [
    "import pandas as pd\n",
    "import nltk\n",
    "from nltk.corpus import stopwords as nltk_stopwords\n",
    "from sklearn.feature_extraction.text import TfidfVectorizer\n",
    "import re\n",
    "from tqdm import tqdm\n",
    "from nltk.stem import WordNetLemmatizer\n",
    "import numpy as np\n",
    "import spacy\n",
    "from sklearn.model_selection import train_test_split\n",
    "from sklearn.linear_model import LogisticRegression\n",
    "from sklearn.metrics import f1_score\n",
    "from catboost import CatBoostClassifier"
   ]
  },
  {
   "cell_type": "code",
   "execution_count": 3,
   "id": "df3400b9",
   "metadata": {},
   "outputs": [],
   "source": [
    "data = pd.read_csv('toxic_comments.csv')"
   ]
  },
  {
   "cell_type": "code",
   "execution_count": 4,
   "id": "3d09d28c",
   "metadata": {},
   "outputs": [
    {
     "name": "stdout",
     "output_type": "stream",
     "text": [
      "<class 'pandas.core.frame.DataFrame'>\n",
      "RangeIndex: 159292 entries, 0 to 159291\n",
      "Data columns (total 3 columns):\n",
      " #   Column      Non-Null Count   Dtype \n",
      "---  ------      --------------   ----- \n",
      " 0   Unnamed: 0  159292 non-null  int64 \n",
      " 1   text        159292 non-null  object\n",
      " 2   toxic       159292 non-null  int64 \n",
      "dtypes: int64(2), object(1)\n",
      "memory usage: 3.6+ MB\n"
     ]
    }
   ],
   "source": [
    "data.info()"
   ]
  },
  {
   "cell_type": "code",
   "execution_count": 5,
   "id": "f910e9f3",
   "metadata": {},
   "outputs": [
    {
     "data": {
      "text/html": [
       "<div>\n",
       "<style scoped>\n",
       "    .dataframe tbody tr th:only-of-type {\n",
       "        vertical-align: middle;\n",
       "    }\n",
       "\n",
       "    .dataframe tbody tr th {\n",
       "        vertical-align: top;\n",
       "    }\n",
       "\n",
       "    .dataframe thead th {\n",
       "        text-align: right;\n",
       "    }\n",
       "</style>\n",
       "<table border=\"1\" class=\"dataframe\">\n",
       "  <thead>\n",
       "    <tr style=\"text-align: right;\">\n",
       "      <th></th>\n",
       "      <th>Unnamed: 0</th>\n",
       "      <th>text</th>\n",
       "      <th>toxic</th>\n",
       "    </tr>\n",
       "  </thead>\n",
       "  <tbody>\n",
       "    <tr>\n",
       "      <th>0</th>\n",
       "      <td>0</td>\n",
       "      <td>Explanation\\nWhy the edits made under my usern...</td>\n",
       "      <td>0</td>\n",
       "    </tr>\n",
       "    <tr>\n",
       "      <th>1</th>\n",
       "      <td>1</td>\n",
       "      <td>D'aww! He matches this background colour I'm s...</td>\n",
       "      <td>0</td>\n",
       "    </tr>\n",
       "    <tr>\n",
       "      <th>2</th>\n",
       "      <td>2</td>\n",
       "      <td>Hey man, I'm really not trying to edit war. It...</td>\n",
       "      <td>0</td>\n",
       "    </tr>\n",
       "    <tr>\n",
       "      <th>3</th>\n",
       "      <td>3</td>\n",
       "      <td>\"\\nMore\\nI can't make any real suggestions on ...</td>\n",
       "      <td>0</td>\n",
       "    </tr>\n",
       "    <tr>\n",
       "      <th>4</th>\n",
       "      <td>4</td>\n",
       "      <td>You, sir, are my hero. Any chance you remember...</td>\n",
       "      <td>0</td>\n",
       "    </tr>\n",
       "  </tbody>\n",
       "</table>\n",
       "</div>"
      ],
      "text/plain": [
       "   Unnamed: 0                                               text  toxic\n",
       "0           0  Explanation\\nWhy the edits made under my usern...      0\n",
       "1           1  D'aww! He matches this background colour I'm s...      0\n",
       "2           2  Hey man, I'm really not trying to edit war. It...      0\n",
       "3           3  \"\\nMore\\nI can't make any real suggestions on ...      0\n",
       "4           4  You, sir, are my hero. Any chance you remember...      0"
      ]
     },
     "execution_count": 5,
     "metadata": {},
     "output_type": "execute_result"
    }
   ],
   "source": [
    "data.head()"
   ]
  },
  {
   "cell_type": "code",
   "execution_count": 6,
   "id": "9ec980d1",
   "metadata": {},
   "outputs": [],
   "source": [
    "data = data.drop(['Unnamed: 0'], axis=1)"
   ]
  },
  {
   "cell_type": "code",
   "execution_count": 7,
   "id": "095fc601",
   "metadata": {},
   "outputs": [],
   "source": [
    "# лемматизаия текста\n",
    "nlp = spacy.load(\"en_core_web_sm\")\n",
    "\n",
    "def clear(text):\n",
    "    return \" \".join(re.sub(r'[^a-zA-Z]', ' ', text.lower()).split())\n",
    "\n",
    "def lemmatize(text):\n",
    "    global nlp\n",
    "    doc = nlp(text)\n",
    "    return \" \".join([token.lemma_ for token in doc])\n",
    "\n",
    "data['clear_text'] = data['text'].apply(clear)\n",
    "data['lemmatized_text'] = data['clear_text'].apply(lemmatize)"
   ]
  },
  {
   "cell_type": "markdown",
   "id": "5b1ba988",
   "metadata": {},
   "source": [
    "**Рассчет TF-IDF**"
   ]
  },
  {
   "cell_type": "code",
   "execution_count": 8,
   "id": "d6469849",
   "metadata": {},
   "outputs": [],
   "source": [
    "#разбиение на обучающую, валидационную и тестовую выборки\n",
    "\n",
    "train, valid = train_test_split(data, test_size=0.2, random_state=12345)\n",
    "valid, test = train_test_split(valid, test_size=0.5, random_state=12345)"
   ]
  },
  {
   "cell_type": "code",
   "execution_count": 9,
   "id": "4a74f5e6",
   "metadata": {},
   "outputs": [],
   "source": [
    "corpus_train = train['lemmatized_text']\n",
    "corpus_valid = valid['lemmatized_text']\n",
    "corpus_test = test['lemmatized_text']"
   ]
  },
  {
   "cell_type": "code",
   "execution_count": 10,
   "id": "95525f68",
   "metadata": {},
   "outputs": [
    {
     "name": "stderr",
     "output_type": "stream",
     "text": [
      "[nltk_data] Downloading package stopwords to\n",
      "[nltk_data]     C:\\Users\\Admin\\AppData\\Roaming\\nltk_data...\n",
      "[nltk_data]   Package stopwords is already up-to-date!\n"
     ]
    }
   ],
   "source": [
    "nltk.download('stopwords')\n",
    "stopwords = set(nltk_stopwords.words('english'))\n",
    "\n",
    "count_tf_idf = TfidfVectorizer(stop_words=stopwords)"
   ]
  },
  {
   "cell_type": "code",
   "execution_count": 11,
   "id": "3e008279",
   "metadata": {},
   "outputs": [],
   "source": [
    "#обучающие признаки\n",
    "tfidf_train = count_tf_idf.fit_transform(corpus_train)\n",
    "tfidf_valid = count_tf_idf.transform(corpus_valid)\n",
    "tfidf_test = count_tf_idf.transform(corpus_test)"
   ]
  },
  {
   "cell_type": "code",
   "execution_count": 12,
   "id": "20689640",
   "metadata": {},
   "outputs": [],
   "source": [
    "# целевой признак\n",
    "target_train = train['toxic']\n",
    "target_valid = valid['toxic']\n",
    "target_test = test['toxic']"
   ]
  },
  {
   "cell_type": "markdown",
   "id": "4fbcbdda",
   "metadata": {},
   "source": [
    "# Обучение модели"
   ]
  },
  {
   "cell_type": "markdown",
   "id": "3d49a87d",
   "metadata": {},
   "source": [
    "**Логистическая регрессия**"
   ]
  },
  {
   "cell_type": "code",
   "execution_count": 13,
   "id": "44c2f122",
   "metadata": {},
   "outputs": [
    {
     "name": "stderr",
     "output_type": "stream",
     "text": [
      "C:\\Users\\Admin\\anaconda3\\lib\\site-packages\\sklearn\\linear_model\\_logistic.py:814: ConvergenceWarning: lbfgs failed to converge (status=1):\n",
      "STOP: TOTAL NO. of ITERATIONS REACHED LIMIT.\n",
      "\n",
      "Increase the number of iterations (max_iter) or scale the data as shown in:\n",
      "    https://scikit-learn.org/stable/modules/preprocessing.html\n",
      "Please also refer to the documentation for alternative solver options:\n",
      "    https://scikit-learn.org/stable/modules/linear_model.html#logistic-regression\n",
      "  n_iter_i = _check_optimize_result(\n"
     ]
    },
    {
     "data": {
      "text/plain": [
       "LogisticRegression(random_state=12345)"
      ]
     },
     "execution_count": 13,
     "metadata": {},
     "output_type": "execute_result"
    }
   ],
   "source": [
    "model = LogisticRegression(random_state=12345)\n",
    "model.fit(tfidf_train, target_train)"
   ]
  },
  {
   "cell_type": "code",
   "execution_count": 14,
   "id": "5f1f9cec",
   "metadata": {},
   "outputs": [],
   "source": [
    "predictions_valid = model.predict(tfidf_valid)"
   ]
  },
  {
   "cell_type": "code",
   "execution_count": 15,
   "id": "b8bead79",
   "metadata": {},
   "outputs": [
    {
     "data": {
      "text/plain": [
       "0.7476705180767798"
      ]
     },
     "execution_count": 15,
     "metadata": {},
     "output_type": "execute_result"
    }
   ],
   "source": [
    "f1_score(target_valid, predictions_valid)"
   ]
  },
  {
   "cell_type": "markdown",
   "id": "1109d547",
   "metadata": {},
   "source": [
    "**CatBoostClassifier**"
   ]
  },
  {
   "cell_type": "code",
   "execution_count": 16,
   "id": "add744da",
   "metadata": {},
   "outputs": [
    {
     "name": "stdout",
     "output_type": "stream",
     "text": [
      "Learning rate set to 0.5\n",
      "0:\tlearn: 0.3416542\ttotal: 2.88s\tremaining: 25.9s\n",
      "9:\tlearn: 0.1818331\ttotal: 23.1s\tremaining: 0us\n",
      "Learning rate set to 0.5\n",
      "0:\tlearn: 0.3416542\ttotal: 2.27s\tremaining: 43.2s\n",
      "10:\tlearn: 0.1788064\ttotal: 24.8s\tremaining: 20.3s\n",
      "19:\tlearn: 0.1591385\ttotal: 44.1s\tremaining: 0us\n",
      "Learning rate set to 0.5\n",
      "0:\tlearn: 0.3416542\ttotal: 2.28s\tremaining: 1m 6s\n",
      "10:\tlearn: 0.1788064\ttotal: 24.6s\tremaining: 42.4s\n",
      "20:\tlearn: 0.1574732\ttotal: 46.1s\tremaining: 19.7s\n",
      "29:\tlearn: 0.1471153\ttotal: 1m 5s\tremaining: 0us\n",
      "Learning rate set to 0.5\n",
      "0:\tlearn: 0.3416542\ttotal: 2.26s\tremaining: 1m 28s\n",
      "10:\tlearn: 0.1788064\ttotal: 23.9s\tremaining: 1m 3s\n",
      "20:\tlearn: 0.1574732\ttotal: 45.4s\tremaining: 41.1s\n",
      "30:\tlearn: 0.1462806\ttotal: 1m 6s\tremaining: 19.4s\n",
      "39:\tlearn: 0.1388492\ttotal: 1m 26s\tremaining: 0us\n",
      "Learning rate set to 0.5\n",
      "0:\tlearn: 0.3416542\ttotal: 2.26s\tremaining: 1m 50s\n",
      "10:\tlearn: 0.1788064\ttotal: 23.8s\tremaining: 1m 24s\n",
      "20:\tlearn: 0.1574732\ttotal: 45.1s\tremaining: 1m 2s\n",
      "30:\tlearn: 0.1462806\ttotal: 1m 6s\tremaining: 40.6s\n",
      "40:\tlearn: 0.1381887\ttotal: 1m 27s\tremaining: 19.2s\n",
      "49:\tlearn: 0.1328675\ttotal: 1m 46s\tremaining: 0us\n",
      "Learning rate set to 0.5\n",
      "0:\tlearn: 0.3416542\ttotal: 2.28s\tremaining: 2m 14s\n",
      "10:\tlearn: 0.1788064\ttotal: 23.9s\tremaining: 1m 46s\n",
      "20:\tlearn: 0.1574732\ttotal: 45.2s\tremaining: 1m 23s\n",
      "30:\tlearn: 0.1462806\ttotal: 1m 6s\tremaining: 1m 2s\n",
      "40:\tlearn: 0.1381887\ttotal: 1m 27s\tremaining: 40.7s\n",
      "50:\tlearn: 0.1323732\ttotal: 1m 48s\tremaining: 19.2s\n",
      "59:\tlearn: 0.1278551\ttotal: 2m 8s\tremaining: 0us\n",
      "Learning rate set to 0.5\n",
      "0:\tlearn: 0.3416542\ttotal: 2.29s\tremaining: 2m 37s\n",
      "10:\tlearn: 0.1788064\ttotal: 23.8s\tremaining: 2m 7s\n",
      "20:\tlearn: 0.1574732\ttotal: 45.3s\tremaining: 1m 45s\n",
      "30:\tlearn: 0.1462806\ttotal: 1m 6s\tremaining: 1m 23s\n",
      "40:\tlearn: 0.1381887\ttotal: 1m 27s\tremaining: 1m 2s\n",
      "50:\tlearn: 0.1323732\ttotal: 1m 49s\tremaining: 40.6s\n",
      "60:\tlearn: 0.1275955\ttotal: 2m 10s\tremaining: 19.3s\n",
      "69:\tlearn: 0.1242597\ttotal: 2m 29s\tremaining: 0us\n",
      "Learning rate set to 0.5\n",
      "0:\tlearn: 0.3416542\ttotal: 2.38s\tremaining: 3m 8s\n",
      "10:\tlearn: 0.1788064\ttotal: 24s\tremaining: 2m 30s\n",
      "20:\tlearn: 0.1574732\ttotal: 45.4s\tremaining: 2m 7s\n",
      "30:\tlearn: 0.1462806\ttotal: 1m 6s\tremaining: 1m 45s\n",
      "40:\tlearn: 0.1381887\ttotal: 1m 27s\tremaining: 1m 23s\n",
      "50:\tlearn: 0.1323732\ttotal: 1m 49s\tremaining: 1m 2s\n",
      "60:\tlearn: 0.1275955\ttotal: 2m 10s\tremaining: 40.6s\n",
      "70:\tlearn: 0.1240397\ttotal: 2m 31s\tremaining: 19.2s\n",
      "79:\tlearn: 0.1208767\ttotal: 2m 50s\tremaining: 0us\n",
      "Learning rate set to 0.5\n",
      "0:\tlearn: 0.3416542\ttotal: 2.25s\tremaining: 3m 20s\n",
      "10:\tlearn: 0.1788064\ttotal: 24.1s\tremaining: 2m 52s\n",
      "20:\tlearn: 0.1574732\ttotal: 45.6s\tremaining: 2m 29s\n",
      "30:\tlearn: 0.1462806\ttotal: 1m 6s\tremaining: 2m 7s\n",
      "40:\tlearn: 0.1381887\ttotal: 1m 28s\tremaining: 1m 45s\n",
      "50:\tlearn: 0.1323732\ttotal: 1m 49s\tremaining: 1m 23s\n",
      "60:\tlearn: 0.1275955\ttotal: 2m 10s\tremaining: 1m 2s\n",
      "70:\tlearn: 0.1240397\ttotal: 2m 31s\tremaining: 40.6s\n",
      "80:\tlearn: 0.1206828\ttotal: 2m 53s\tremaining: 19.2s\n",
      "89:\tlearn: 0.1179761\ttotal: 3m 12s\tremaining: 0us\n",
      "Learning rate set to 0.5\n",
      "0:\tlearn: 0.3416542\ttotal: 2.27s\tremaining: 3m 44s\n",
      "10:\tlearn: 0.1788064\ttotal: 23.9s\tremaining: 3m 13s\n",
      "20:\tlearn: 0.1574732\ttotal: 45.4s\tremaining: 2m 50s\n",
      "30:\tlearn: 0.1462806\ttotal: 1m 6s\tremaining: 2m 28s\n",
      "40:\tlearn: 0.1381887\ttotal: 1m 28s\tremaining: 2m 6s\n",
      "50:\tlearn: 0.1323732\ttotal: 1m 49s\tremaining: 1m 45s\n",
      "60:\tlearn: 0.1275955\ttotal: 2m 10s\tremaining: 1m 23s\n",
      "70:\tlearn: 0.1240397\ttotal: 2m 31s\tremaining: 1m 2s\n",
      "80:\tlearn: 0.1206828\ttotal: 2m 53s\tremaining: 40.6s\n",
      "90:\tlearn: 0.1177970\ttotal: 3m 14s\tremaining: 19.3s\n",
      "99:\tlearn: 0.1153310\ttotal: 3m 33s\tremaining: 0us\n",
      "0.7594119756185012\n",
      "90\n"
     ]
    }
   ],
   "source": [
    "best_result = 0.75\n",
    "best_iter = 0\n",
    "\n",
    "\n",
    "for i in range(10, 101, 10):\n",
    "    model = CatBoostClassifier(loss_function='Logloss', iterations=i)\n",
    "\n",
    "    model.fit(tfidf_train, target_train, verbose=10)\n",
    "    \n",
    "    predictions_valid = model.predict(tfidf_valid)\n",
    "    \n",
    "    result = f1_score(target_valid, predictions_valid)\n",
    "    \n",
    "    if result > best_result:\n",
    "        best_result = result\n",
    "        best_iter = i\n",
    "        \n",
    "print(best_result)    \n",
    "print(best_iter)"
   ]
  },
  {
   "cell_type": "markdown",
   "id": "001dbfc5",
   "metadata": {},
   "source": [
    "**Вывод**\n",
    "\n",
    "По итогу обучения модели на валидационной выборке была выбрана модель CatBoostClassifier."
   ]
  },
  {
   "cell_type": "code",
   "execution_count": 18,
   "id": "a34458dd",
   "metadata": {},
   "outputs": [
    {
     "name": "stdout",
     "output_type": "stream",
     "text": [
      "Learning rate set to 0.5\n",
      "0:\tlearn: 0.3416542\ttotal: 2.49s\tremaining: 3m 41s\n",
      "10:\tlearn: 0.1788064\ttotal: 24.4s\tremaining: 2m 55s\n",
      "20:\tlearn: 0.1574732\ttotal: 45.9s\tremaining: 2m 30s\n",
      "30:\tlearn: 0.1462806\ttotal: 1m 7s\tremaining: 2m 7s\n",
      "40:\tlearn: 0.1381887\ttotal: 1m 28s\tremaining: 1m 45s\n",
      "50:\tlearn: 0.1323732\ttotal: 1m 51s\tremaining: 1m 25s\n",
      "60:\tlearn: 0.1275955\ttotal: 2m 12s\tremaining: 1m 2s\n",
      "70:\tlearn: 0.1240397\ttotal: 2m 33s\tremaining: 41.1s\n",
      "80:\tlearn: 0.1206828\ttotal: 2m 54s\tremaining: 19.4s\n",
      "89:\tlearn: 0.1179761\ttotal: 3m 13s\tremaining: 0us\n"
     ]
    },
    {
     "data": {
      "text/plain": [
       "0.7605432451751252"
      ]
     },
     "execution_count": 18,
     "metadata": {},
     "output_type": "execute_result"
    }
   ],
   "source": [
    "model = CatBoostClassifier(loss_function='Logloss', iterations=90)\n",
    "\n",
    "model.fit(tfidf_train, target_train, verbose=10)\n",
    "    \n",
    "predictions_test = model.predict(tfidf_test)\n",
    "    \n",
    "f1_score(target_test, predictions_test)"
   ]
  },
  {
   "cell_type": "markdown",
   "id": "e7ff1cb1",
   "metadata": {},
   "source": [
    "# Вывод"
   ]
  },
  {
   "cell_type": "markdown",
   "id": "2d26a5d1",
   "metadata": {},
   "source": [
    "В результате работы над проектом были выполнены следующие задачи:\n",
    "\n",
    "1) Данные были очищены от ненужных символов, затрудняющих обучение модели;\n",
    "\n",
    "2) Данные были лемматизированы при помощи библиотеки spacy;\n",
    "\n",
    "3) Были проанализированы две библиотеки для обучения: логистическая регрессия и CatBoostClassifier;\n",
    "\n",
    "4) По итогу была выбрана модель CatBoostClassifier с количеством итераций 10, итоговой значение метрики f1 составило 0,76."
   ]
  }
 ],
 "metadata": {
  "kernelspec": {
   "display_name": "Python 3 (ipykernel)",
   "language": "python",
   "name": "python3"
  },
  "language_info": {
   "codemirror_mode": {
    "name": "ipython",
    "version": 3
   },
   "file_extension": ".py",
   "mimetype": "text/x-python",
   "name": "python",
   "nbconvert_exporter": "python",
   "pygments_lexer": "ipython3",
   "version": "3.11.5"
  },
  "toc": {
   "base_numbering": 1,
   "nav_menu": {},
   "number_sections": true,
   "sideBar": true,
   "skip_h1_title": false,
   "title_cell": "Table of Contents",
   "title_sidebar": "Contents",
   "toc_cell": false,
   "toc_position": {},
   "toc_section_display": true,
   "toc_window_display": false
  }
 },
 "nbformat": 4,
 "nbformat_minor": 5
}
