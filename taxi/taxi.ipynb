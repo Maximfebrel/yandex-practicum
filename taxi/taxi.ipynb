{
 "cells": [
  {
   "cell_type": "markdown",
   "metadata": {},
   "source": [
    "#  Прогнозирование заказов такси"
   ]
  },
  {
   "cell_type": "markdown",
   "metadata": {},
   "source": [
    "Компания «Чётенькое такси» собрала исторические данные о заказах такси в аэропортах. Чтобы привлекать больше водителей в период пиковой нагрузки, нужно спрогнозировать количество заказов такси на следующий час. Постройте модель для такого предсказания.\n",
    "\n",
    "Значение метрики *RMSE* на тестовой выборке должно быть не больше 48.\n",
    "\n",
    "Вам нужно:\n",
    "\n",
    "1. Загрузить данные и выполнить их ресемплирование по одному часу.\n",
    "2. Проанализировать данные.\n",
    "3. Обучить разные модели с различными гиперпараметрами. Сделать тестовую выборку размером 10% от исходных данных.\n",
    "4. Проверить данные на тестовой выборке и сделать выводы.\n",
    "\n",
    "\n",
    "Данные лежат в файле `taxi.csv`. Количество заказов находится в столбце `num_orders` (от англ. *number of orders*, «число заказов»)."
   ]
  },
  {
   "cell_type": "markdown",
   "metadata": {},
   "source": [
    "## Подготовка"
   ]
  },
  {
   "cell_type": "code",
   "execution_count": 190,
   "metadata": {},
   "outputs": [],
   "source": [
    "import pandas as pd\n",
    "from statsmodels.tsa.seasonal import seasonal_decompose\n",
    "import matplotlib.pyplot as plt\n",
    "from sklearn.model_selection import train_test_split\n",
    "from sklearn.linear_model import LinearRegression\n",
    "from sklearn.metrics import mean_squared_error\n",
    "import lightgbm as ltb"
   ]
  },
  {
   "cell_type": "code",
   "execution_count": 191,
   "metadata": {},
   "outputs": [],
   "source": [
    "data = pd.read_csv('/datasets/taxi.csv', index_col=[0], parse_dates=[0])"
   ]
  },
  {
   "cell_type": "code",
   "execution_count": 192,
   "metadata": {},
   "outputs": [
    {
     "name": "stdout",
     "output_type": "stream",
     "text": [
      "<class 'pandas.core.frame.DataFrame'>\n",
      "DatetimeIndex: 26496 entries, 2018-03-01 00:00:00 to 2018-08-31 23:50:00\n",
      "Data columns (total 1 columns):\n",
      " #   Column      Non-Null Count  Dtype\n",
      "---  ------      --------------  -----\n",
      " 0   num_orders  26496 non-null  int64\n",
      "dtypes: int64(1)\n",
      "memory usage: 414.0 KB\n"
     ]
    }
   ],
   "source": [
    "data.info()"
   ]
  },
  {
   "cell_type": "code",
   "execution_count": 193,
   "metadata": {},
   "outputs": [],
   "source": [
    "data.sort_index(inplace=True)"
   ]
  },
  {
   "cell_type": "code",
   "execution_count": 194,
   "metadata": {},
   "outputs": [],
   "source": [
    "data = data.resample('1H').sum()"
   ]
  },
  {
   "cell_type": "code",
   "execution_count": 195,
   "metadata": {
    "scrolled": true
   },
   "outputs": [
    {
     "name": "stdout",
     "output_type": "stream",
     "text": [
      "<class 'pandas.core.frame.DataFrame'>\n",
      "DatetimeIndex: 4416 entries, 2018-03-01 00:00:00 to 2018-08-31 23:00:00\n",
      "Freq: H\n",
      "Data columns (total 1 columns):\n",
      " #   Column      Non-Null Count  Dtype\n",
      "---  ------      --------------  -----\n",
      " 0   num_orders  4416 non-null   int64\n",
      "dtypes: int64(1)\n",
      "memory usage: 69.0 KB\n"
     ]
    }
   ],
   "source": [
    "data.info()"
   ]
  },
  {
   "cell_type": "markdown",
   "metadata": {},
   "source": [
    "**Вывод**\n",
    "\n",
    "В процессе подготовки данных было проведено ресемлирование по одному часу, при этом заказы на такси были сложены."
   ]
  },
  {
   "cell_type": "markdown",
   "metadata": {},
   "source": [
    "## Анализ"
   ]
  },
  {
   "cell_type": "code",
   "execution_count": 196,
   "metadata": {
    "scrolled": false
   },
   "outputs": [
    {
     "data": {
      "text/plain": [
       "<AxesSubplot:title={'center':'общее количество заказов'}, xlabel='datetime', ylabel='Заказов такси'>"
      ]
     },
     "execution_count": 196,
     "metadata": {},
     "output_type": "execute_result"
    },
    {
     "data": {
      "image/png": "[encoded data removed]",
      "text/plain": [
       "<Figure size 432x288 with 1 Axes>"
      ]
     },
     "metadata": {
      "needs_background": "light"
     },
     "output_type": "display_data"
    }
   ],
   "source": [
    "data['rolling_mean'] = data.rolling(10).mean()\n",
    "plt.title('общее количество заказов')\n",
    "plt.xlabel(\"Дата\")\n",
    "plt.ylabel(\"Заказов такси\")\n",
    "data['rolling_mean'].plot()"
   ]
  },
  {
   "cell_type": "code",
   "execution_count": 197,
   "metadata": {},
   "outputs": [],
   "source": [
    "data = data.drop(['rolling_mean'], axis=1)"
   ]
  },
  {
   "cell_type": "code",
   "execution_count": 198,
   "metadata": {},
   "outputs": [
    {
     "data": {
      "text/html": [
       "<div>\n",
       "<style scoped>\n",
       "    .dataframe tbody tr th:only-of-type {\n",
       "        vertical-align: middle;\n",
       "    }\n",
       "\n",
       "    .dataframe tbody tr th {\n",
       "        vertical-align: top;\n",
       "    }\n",
       "\n",
       "    .dataframe thead th {\n",
       "        text-align: right;\n",
       "    }\n",
       "</style>\n",
       "<table border=\"1\" class=\"dataframe\">\n",
       "  <thead>\n",
       "    <tr style=\"text-align: right;\">\n",
       "      <th></th>\n",
       "      <th>num_orders</th>\n",
       "    </tr>\n",
       "    <tr>\n",
       "      <th>datetime</th>\n",
       "      <th></th>\n",
       "    </tr>\n",
       "  </thead>\n",
       "  <tbody>\n",
       "    <tr>\n",
       "      <th>2018-03-01 00:00:00</th>\n",
       "      <td>124</td>\n",
       "    </tr>\n",
       "    <tr>\n",
       "      <th>2018-03-01 01:00:00</th>\n",
       "      <td>85</td>\n",
       "    </tr>\n",
       "    <tr>\n",
       "      <th>2018-03-01 02:00:00</th>\n",
       "      <td>71</td>\n",
       "    </tr>\n",
       "    <tr>\n",
       "      <th>2018-03-01 03:00:00</th>\n",
       "      <td>66</td>\n",
       "    </tr>\n",
       "    <tr>\n",
       "      <th>2018-03-01 04:00:00</th>\n",
       "      <td>43</td>\n",
       "    </tr>\n",
       "    <tr>\n",
       "      <th>...</th>\n",
       "      <td>...</td>\n",
       "    </tr>\n",
       "    <tr>\n",
       "      <th>2018-08-31 19:00:00</th>\n",
       "      <td>136</td>\n",
       "    </tr>\n",
       "    <tr>\n",
       "      <th>2018-08-31 20:00:00</th>\n",
       "      <td>154</td>\n",
       "    </tr>\n",
       "    <tr>\n",
       "      <th>2018-08-31 21:00:00</th>\n",
       "      <td>159</td>\n",
       "    </tr>\n",
       "    <tr>\n",
       "      <th>2018-08-31 22:00:00</th>\n",
       "      <td>223</td>\n",
       "    </tr>\n",
       "    <tr>\n",
       "      <th>2018-08-31 23:00:00</th>\n",
       "      <td>205</td>\n",
       "    </tr>\n",
       "  </tbody>\n",
       "</table>\n",
       "<p>4416 rows × 1 columns</p>\n",
       "</div>"
      ],
      "text/plain": [
       "                     num_orders\n",
       "datetime                       \n",
       "2018-03-01 00:00:00         124\n",
       "2018-03-01 01:00:00          85\n",
       "2018-03-01 02:00:00          71\n",
       "2018-03-01 03:00:00          66\n",
       "2018-03-01 04:00:00          43\n",
       "...                         ...\n",
       "2018-08-31 19:00:00         136\n",
       "2018-08-31 20:00:00         154\n",
       "2018-08-31 21:00:00         159\n",
       "2018-08-31 22:00:00         223\n",
       "2018-08-31 23:00:00         205\n",
       "\n",
       "[4416 rows x 1 columns]"
      ]
     },
     "execution_count": 198,
     "metadata": {},
     "output_type": "execute_result"
    }
   ],
   "source": [
    "data"
   ]
  },
  {
   "cell_type": "markdown",
   "metadata": {},
   "source": [
    "Из графика ничего непонятно, необходимо проанализировать сезонность и тренды"
   ]
  },
  {
   "cell_type": "code",
   "execution_count": 199,
   "metadata": {
    "scrolled": true
   },
   "outputs": [
    {
     "data": {
      "image/png": "[encoded data removed]",
      "text/plain": [
       "<Figure size 432x216 with 1 Axes>"
      ]
     },
     "metadata": {
      "needs_background": "light"
     },
     "output_type": "display_data"
    }
   ],
   "source": [
    "decomposed = seasonal_decompose(data)\n",
    "\n",
    "plt.figure(figsize=(6, 3))\n",
    "decomposed.seasonal['2018-03-01':'2018-03-15'].plot(ax=plt.gca()) \n",
    "plt.title('Seasonality')\n",
    "plt.xlabel(\"Дата\")\n",
    "plt.ylabel(\"Заказов такси\")\n",
    "plt.show()"
   ]
  },
  {
   "cell_type": "markdown",
   "metadata": {},
   "source": [
    "**Вывод**\n",
    "\n",
    "Из графика видно, что каждый день имеются ярко-выраженные максимумы, определим эти максимумы."
   ]
  },
  {
   "cell_type": "code",
   "execution_count": 200,
   "metadata": {},
   "outputs": [
    {
     "data": {
      "image/png": "[encoded data removed]",
      "text/plain": [
       "<Figure size 432x216 with 1 Axes>"
      ]
     },
     "metadata": {
      "needs_background": "light"
     },
     "output_type": "display_data"
    }
   ],
   "source": [
    "decomposed = seasonal_decompose(data)\n",
    "\n",
    "plt.figure(figsize=(6, 3))\n",
    "decomposed.seasonal['2018-03-01':'2018-03-02'].plot(ax=plt.gca()) \n",
    "plt.title('Seasonality')\n",
    "plt.xlabel(\"Дата\")\n",
    "plt.ylabel(\"Заказов такси\")\n",
    "plt.show()"
   ]
  },
  {
   "cell_type": "markdown",
   "metadata": {},
   "source": [
    "**Вывод**\n",
    "\n",
    "Из графика можно сделать вывод о том, что пик заказов приходится на 00:00 ночи."
   ]
  },
  {
   "cell_type": "code",
   "execution_count": 201,
   "metadata": {},
   "outputs": [
    {
     "data": {
      "image/png": "[encoded data removed]",
      "text/plain": [
       "<Figure size 432x288 with 1 Axes>"
      ]
     },
     "metadata": {
      "needs_background": "light"
     },
     "output_type": "display_data"
    }
   ],
   "source": [
    "data_query = data['2018-03-01':'2018-03-15'].copy()\n",
    "data_query['mean'] = data_query['num_orders'].rolling(15).mean()\n",
    "data_query['std'] = data_query['num_orders'].rolling(15).std()\n",
    "data_query.plot() \n",
    "plt.title('Распределение')\n",
    "plt.xlabel(\"Дата\")\n",
    "plt.ylabel(\"Заказов такси\")\n",
    "plt.show()"
   ]
  },
  {
   "cell_type": "markdown",
   "metadata": {},
   "source": [
    "**Вывод** \n",
    "\n",
    "Из данного графика можно сделать вывод о том, что процесс не является стационарным, среднее отклонение постоянно изменяется, необходимо нормализовать данные."
   ]
  },
  {
   "cell_type": "code",
   "execution_count": 203,
   "metadata": {
    "scrolled": true
   },
   "outputs": [
    {
     "data": {
      "image/png": "[encoded data removed]",
      "text/plain": [
       "<Figure size 432x288 with 1 Axes>"
      ]
     },
     "metadata": {
      "needs_background": "light"
     },
     "output_type": "display_data"
    }
   ],
   "source": [
    "data_query = data['2018-03-01':'2018-03-15'].copy()\n",
    "data_query = data_query - data_query.shift()\n",
    "\n",
    "data_query['mean'] = data_query['num_orders'].rolling(15).mean()\n",
    "data_query['std'] = data_query['num_orders'].rolling(15).std()\n",
    "data_query.plot()\n",
    "plt.title('Распределение')\n",
    "plt.xlabel(\"Дата\")\n",
    "plt.ylabel(\"Заказов такси\")\n",
    "plt.show()"
   ]
  },
  {
   "cell_type": "markdown",
   "metadata": {},
   "source": [
    "**Вывод** \n",
    "\n",
    "Средние отклонения заметно уменьшились, следовательно данные пригодны для машинного обучения."
   ]
  },
  {
   "cell_type": "markdown",
   "metadata": {},
   "source": [
    "## Обучение"
   ]
  },
  {
   "cell_type": "code",
   "execution_count": 88,
   "metadata": {},
   "outputs": [],
   "source": [
    "def make_features(data, max_lag, rolling_mean_size):\n",
    "    data['hour'] = data.index.hour\n",
    "    data['minute'] = data.index.minute\n",
    "    data['second'] = data.index.second\n",
    "    data['month'] = data.index.month\n",
    "    data['day'] = data.index.day\n",
    "    data['dayofweek'] = data.index.dayofweek\n",
    "    \n",
    "    for lag in range(1, max_lag + 1):\n",
    "        data['lag_{}'.format(lag)] = data['num_orders'].shift(lag)\n",
    "\n",
    "    data['rolling_mean'] = data['num_orders'].shift().rolling(rolling_mean_size).mean()\n",
    "    \n",
    "    return data"
   ]
  },
  {
   "cell_type": "code",
   "execution_count": 89,
   "metadata": {},
   "outputs": [
    {
     "name": "stdout",
     "output_type": "stream",
     "text": [
      "\n"
     ]
    }
   ],
   "source": [
    "make_features(data, 1, 1)\n",
    "print()"
   ]
  },
  {
   "cell_type": "code",
   "execution_count": 95,
   "metadata": {},
   "outputs": [],
   "source": [
    "train, valid = train_test_split(data, shuffle=False, test_size=0.2)\n",
    "valid, test = train_test_split(valid, shuffle=False, test_size=0.5) \n",
    "\n",
    "train = train.dropna()\n",
    "\n",
    "features_train = train.drop(['num_orders'], axis=1)\n",
    "target_train = train['num_orders']\n",
    "\n",
    "features_valid = valid.drop(['num_orders'], axis=1)\n",
    "target_valid = valid['num_orders']\n",
    "\n",
    "features_test = test.drop(['num_orders'], axis=1)\n",
    "target_test = test['num_orders']"
   ]
  },
  {
   "cell_type": "code",
   "execution_count": 111,
   "metadata": {},
   "outputs": [
    {
     "name": "stdout",
     "output_type": "stream",
     "text": [
      "35.640399126633405\n",
      "100\n",
      "11\n"
     ]
    }
   ],
   "source": [
    "best_result = 0.75\n",
    "best_iter = 0\n",
    "\n",
    "\n",
    "for i in range(10, 101, 10):\n",
    "    model = CatBoostClassifier(loss_function='Logloss', iterations=i)\n",
    "\n",
    "    model.fit(features_train, target_train, cat_features=cat_features, verbose=10)\n",
    "    \n",
    "    prediction_valid = model.predict()\n",
    "        if result < best_result:\n",
    "            best_result = result\n",
    "            best_est = est\n",
    "            best_depth = depth\n",
    "\n",
    "print(best_result)    \n",
    "print(best_est)\n",
    "print(best_depth)"
   ]
  },
  {
   "cell_type": "markdown",
   "metadata": {},
   "source": [
    "**Вывод**\n",
    "\n",
    "Наилучшую сходимость показа модель Light GBM, сходимость по метрике RMSE составляет 35."
   ]
  },
  {
   "cell_type": "markdown",
   "metadata": {},
   "source": [
    "## Тестирование"
   ]
  },
  {
   "cell_type": "code",
   "execution_count": 113,
   "metadata": {},
   "outputs": [],
   "source": [
    "train, test = train_test_split(data, shuffle=False, test_size=0.1)\n",
    "\n",
    "train = train.dropna()\n",
    "\n",
    "features_train = train.drop(['num_orders'], axis=1)\n",
    "target_train = train['num_orders']\n",
    "\n",
    "features_test = test.drop(['num_orders'], axis=1)\n",
    "target_test = test['num_orders']"
   ]
  },
  {
   "cell_type": "code",
   "execution_count": 114,
   "metadata": {},
   "outputs": [
    {
     "name": "stdout",
     "output_type": "stream",
     "text": [
      "45.94207476004711\n"
     ]
    }
   ],
   "source": [
    "lgbr = ltb.LGBMRegressor(random_seed=12345, n_estimators=100, num_leaves=11) \n",
    "\n",
    "lgbr.fit(features_train, target_train)\n",
    "        \n",
    "prediction_test = lgbr.predict(features_test)\n",
    "\n",
    "result = (mean_squared_error(target_test, prediction_test))**0.5\n",
    "print(result)"
   ]
  },
  {
   "cell_type": "markdown",
   "metadata": {},
   "source": [
    "**Вывод**\n",
    "\n",
    "В ходе работы над проектом были выполнены следующие задачи:\n",
    "\n",
    "1) Данные были ресемплерованы для более удобного их анализа;\n",
    "\n",
    "2) Был произведен анализ данных и их нормализация;\n",
    "\n",
    "3) Было проведено изучение различных моделей, далее на тестовой модели данные были проверены, наилучшая модель - Light GBM, сходимость по метрике RMSE составляет 45."
   ]
  }
 ],
 "metadata": {
  "ExecuteTimeLog": [
   {
    "duration": 427,
    "start_time": "2023-06-09T16:05:12.374Z"
   },
   {
    "duration": 179,
    "start_time": "2023-06-09T16:05:30.616Z"
   },
   {
    "duration": 13,
    "start_time": "2023-06-09T16:05:39.451Z"
   },
   {
    "duration": 70,
    "start_time": "2023-06-09T16:06:27.533Z"
   },
   {
    "duration": 7,
    "start_time": "2023-06-09T16:06:28.850Z"
   },
   {
    "duration": 2,
    "start_time": "2023-06-09T16:06:31.671Z"
   },
   {
    "duration": 14,
    "start_time": "2023-06-09T16:06:54.655Z"
   },
   {
    "duration": 10,
    "start_time": "2023-06-09T16:06:59.040Z"
   },
   {
    "duration": 10,
    "start_time": "2023-06-09T16:07:08.757Z"
   },
   {
    "duration": 3,
    "start_time": "2023-06-09T16:07:10.737Z"
   },
   {
    "duration": 44,
    "start_time": "2023-06-09T16:07:11.429Z"
   },
   {
    "duration": 10,
    "start_time": "2023-06-09T16:07:12.053Z"
   },
   {
    "duration": 8,
    "start_time": "2023-06-09T16:07:17.429Z"
   },
   {
    "duration": 3,
    "start_time": "2023-06-09T16:07:20.851Z"
   },
   {
    "duration": 7,
    "start_time": "2023-06-09T16:07:21.841Z"
   },
   {
    "duration": 16,
    "start_time": "2023-06-09T16:07:24.298Z"
   },
   {
    "duration": 9,
    "start_time": "2023-06-09T16:07:28.525Z"
   },
   {
    "duration": 841,
    "start_time": "2023-06-09T16:08:44.213Z"
   },
   {
    "duration": 274,
    "start_time": "2023-06-09T16:09:28.395Z"
   },
   {
    "duration": 86,
    "start_time": "2023-06-09T16:10:11.867Z"
   },
   {
    "duration": 487,
    "start_time": "2023-06-09T16:10:21.144Z"
   },
   {
    "duration": 3,
    "start_time": "2023-06-09T16:10:32.005Z"
   },
   {
    "duration": 50,
    "start_time": "2023-06-09T16:10:34.653Z"
   },
   {
    "duration": 4,
    "start_time": "2023-06-09T16:11:18.570Z"
   },
   {
    "duration": 188,
    "start_time": "2023-06-09T16:11:20.141Z"
   },
   {
    "duration": 282,
    "start_time": "2023-06-09T16:11:44.230Z"
   },
   {
    "duration": 331,
    "start_time": "2023-06-09T16:11:50.325Z"
   },
   {
    "duration": 135,
    "start_time": "2023-06-09T16:12:04.532Z"
   },
   {
    "duration": 278,
    "start_time": "2023-06-09T16:12:08.747Z"
   },
   {
    "duration": 287,
    "start_time": "2023-06-09T16:12:16.307Z"
   },
   {
    "duration": 3,
    "start_time": "2023-06-09T16:12:20.433Z"
   },
   {
    "duration": 67,
    "start_time": "2023-06-09T16:12:20.438Z"
   },
   {
    "duration": 11,
    "start_time": "2023-06-09T16:12:20.507Z"
   },
   {
    "duration": 36,
    "start_time": "2023-06-09T16:12:20.520Z"
   },
   {
    "duration": 19,
    "start_time": "2023-06-09T16:12:20.559Z"
   },
   {
    "duration": 17,
    "start_time": "2023-06-09T16:12:20.580Z"
   },
   {
    "duration": 224,
    "start_time": "2023-06-09T16:12:20.601Z"
   },
   {
    "duration": 4,
    "start_time": "2023-06-09T16:12:20.827Z"
   },
   {
    "duration": 12,
    "start_time": "2023-06-09T16:12:36.999Z"
   },
   {
    "duration": 9,
    "start_time": "2023-06-09T16:13:00.449Z"
   },
   {
    "duration": 246,
    "start_time": "2023-06-09T16:13:19.209Z"
   },
   {
    "duration": 232,
    "start_time": "2023-06-09T16:13:26.407Z"
   },
   {
    "duration": 168,
    "start_time": "2023-06-09T16:13:31.231Z"
   },
   {
    "duration": 231,
    "start_time": "2023-06-09T16:13:35.401Z"
   },
   {
    "duration": 215,
    "start_time": "2023-06-09T16:14:01.247Z"
   },
   {
    "duration": 200,
    "start_time": "2023-06-09T16:14:08.161Z"
   },
   {
    "duration": 161,
    "start_time": "2023-06-09T16:14:20.743Z"
   },
   {
    "duration": 183,
    "start_time": "2023-06-09T16:14:44.653Z"
   },
   {
    "duration": 148,
    "start_time": "2023-06-09T16:15:36.388Z"
   },
   {
    "duration": 243,
    "start_time": "2023-06-09T16:17:33.074Z"
   },
   {
    "duration": 228,
    "start_time": "2023-06-09T16:17:40.585Z"
   },
   {
    "duration": 241,
    "start_time": "2023-06-09T16:17:51.024Z"
   },
   {
    "duration": 333,
    "start_time": "2023-06-09T16:20:00.406Z"
   },
   {
    "duration": 243,
    "start_time": "2023-06-09T16:48:11.277Z"
   },
   {
    "duration": 273,
    "start_time": "2023-06-09T16:48:38.078Z"
   },
   {
    "duration": 6,
    "start_time": "2023-06-09T16:49:23.933Z"
   },
   {
    "duration": 47,
    "start_time": "2023-06-09T16:52:10.792Z"
   },
   {
    "duration": 15,
    "start_time": "2023-06-09T16:53:01.175Z"
   },
   {
    "duration": 18,
    "start_time": "2023-06-09T16:53:07.044Z"
   },
   {
    "duration": 13,
    "start_time": "2023-06-09T16:53:13.199Z"
   },
   {
    "duration": 18,
    "start_time": "2023-06-09T16:53:17.930Z"
   },
   {
    "duration": 7,
    "start_time": "2023-06-09T16:53:23.252Z"
   },
   {
    "duration": 18,
    "start_time": "2023-06-09T16:53:30.010Z"
   },
   {
    "duration": 10,
    "start_time": "2023-06-09T16:53:33.620Z"
   },
   {
    "duration": 6,
    "start_time": "2023-06-09T16:53:51.521Z"
   },
   {
    "duration": 33,
    "start_time": "2023-06-09T16:53:54.527Z"
   },
   {
    "duration": 8,
    "start_time": "2023-06-09T16:54:03.240Z"
   },
   {
    "duration": 10,
    "start_time": "2023-06-09T16:54:05.286Z"
   },
   {
    "duration": 15,
    "start_time": "2023-06-09T16:54:50.275Z"
   },
   {
    "duration": 24,
    "start_time": "2023-06-09T16:55:02.476Z"
   },
   {
    "duration": 90,
    "start_time": "2023-06-09T16:55:07.305Z"
   },
   {
    "duration": 8,
    "start_time": "2023-06-09T16:55:22.795Z"
   },
   {
    "duration": 11,
    "start_time": "2023-06-09T16:55:28.196Z"
   },
   {
    "duration": 44,
    "start_time": "2023-06-09T16:55:29.139Z"
   },
   {
    "duration": 4,
    "start_time": "2023-06-09T16:55:32.568Z"
   },
   {
    "duration": 69,
    "start_time": "2023-06-09T16:55:32.574Z"
   },
   {
    "duration": 12,
    "start_time": "2023-06-09T16:55:32.645Z"
   },
   {
    "duration": 4,
    "start_time": "2023-06-09T16:55:32.659Z"
   },
   {
    "duration": 8,
    "start_time": "2023-06-09T16:55:32.665Z"
   },
   {
    "duration": 23,
    "start_time": "2023-06-09T16:55:32.674Z"
   },
   {
    "duration": 240,
    "start_time": "2023-06-09T16:55:32.698Z"
   },
   {
    "duration": 4,
    "start_time": "2023-06-09T16:55:32.940Z"
   },
   {
    "duration": 13,
    "start_time": "2023-06-09T16:55:32.945Z"
   },
   {
    "duration": 190,
    "start_time": "2023-06-09T16:55:32.960Z"
   },
   {
    "duration": 163,
    "start_time": "2023-06-09T16:55:33.152Z"
   },
   {
    "duration": 263,
    "start_time": "2023-06-09T16:55:33.316Z"
   },
   {
    "duration": 347,
    "start_time": "2023-06-09T16:55:33.584Z"
   },
   {
    "duration": 8,
    "start_time": "2023-06-09T16:55:33.933Z"
   },
   {
    "duration": 28,
    "start_time": "2023-06-09T16:55:33.943Z"
   },
   {
    "duration": 14,
    "start_time": "2023-06-09T16:55:33.973Z"
   },
   {
    "duration": 70,
    "start_time": "2023-06-09T16:55:41.108Z"
   },
   {
    "duration": 24,
    "start_time": "2023-06-09T16:57:00.393Z"
   },
   {
    "duration": 20601,
    "start_time": "2023-06-09T16:58:06.609Z"
   },
   {
    "duration": 10,
    "start_time": "2023-06-09T16:59:01.488Z"
   },
   {
    "duration": 15,
    "start_time": "2023-06-09T16:59:26.801Z"
   },
   {
    "duration": 96,
    "start_time": "2023-06-09T16:59:28.085Z"
   },
   {
    "duration": 13,
    "start_time": "2023-06-09T16:59:41.240Z"
   },
   {
    "duration": 0,
    "start_time": "2023-06-09T16:59:55.397Z"
   },
   {
    "duration": 4977,
    "start_time": "2023-06-09T16:59:56.719Z"
   },
   {
    "duration": 9,
    "start_time": "2023-06-09T17:00:37.500Z"
   },
   {
    "duration": 202799,
    "start_time": "2023-06-09T17:00:59.791Z"
   },
   {
    "duration": 9,
    "start_time": "2023-06-09T17:05:37.463Z"
   },
   {
    "duration": 15,
    "start_time": "2023-06-09T17:05:55.667Z"
   },
   {
    "duration": 16,
    "start_time": "2023-06-09T17:06:02.025Z"
   },
   {
    "duration": 5,
    "start_time": "2023-06-09T17:06:06.184Z"
   },
   {
    "duration": 4,
    "start_time": "2023-06-09T17:06:11.432Z"
   },
   {
    "duration": 4776,
    "start_time": "2023-06-09T17:06:13.714Z"
   },
   {
    "duration": 0,
    "start_time": "2023-06-09T17:06:18.493Z"
   },
   {
    "duration": 12,
    "start_time": "2023-06-09T17:06:23.207Z"
   },
   {
    "duration": 230946,
    "start_time": "2023-06-09T17:06:24.637Z"
   },
   {
    "duration": 11411,
    "start_time": "2023-06-09T17:10:15.587Z"
   },
   {
    "duration": 1190053,
    "start_time": "2023-06-09T17:10:51.640Z"
   },
   {
    "duration": 111939,
    "start_time": "2023-06-09T18:05:27.359Z"
   },
   {
    "duration": 10,
    "start_time": "2023-06-09T18:09:19.859Z"
   },
   {
    "duration": 134511,
    "start_time": "2023-06-09T18:09:21.070Z"
   },
   {
    "duration": 6,
    "start_time": "2023-06-09T18:54:09.041Z"
   },
   {
    "duration": 83,
    "start_time": "2023-06-09T18:54:10.259Z"
   },
   {
    "duration": 14,
    "start_time": "2023-06-09T18:54:11.752Z"
   },
   {
    "duration": 4,
    "start_time": "2023-06-09T18:54:12.829Z"
   },
   {
    "duration": 8,
    "start_time": "2023-06-09T18:54:13.362Z"
   },
   {
    "duration": 16,
    "start_time": "2023-06-09T18:54:13.815Z"
   },
   {
    "duration": 322,
    "start_time": "2023-06-09T18:54:15.307Z"
   },
   {
    "duration": 8,
    "start_time": "2023-06-09T18:54:21.731Z"
   },
   {
    "duration": 29,
    "start_time": "2023-06-09T18:54:22.403Z"
   },
   {
    "duration": 268,
    "start_time": "2023-06-09T18:54:24.594Z"
   },
   {
    "duration": 223,
    "start_time": "2023-06-09T18:54:27.200Z"
   },
   {
    "duration": 497,
    "start_time": "2023-06-09T18:54:30.260Z"
   },
   {
    "duration": 176,
    "start_time": "2023-06-09T18:55:02.838Z"
   },
   {
    "duration": 399,
    "start_time": "2023-06-09T18:55:15.298Z"
   },
   {
    "duration": 404,
    "start_time": "2023-06-09T18:55:29.432Z"
   },
   {
    "duration": 230,
    "start_time": "2023-06-09T18:56:35.337Z"
   },
   {
    "duration": 20,
    "start_time": "2023-06-09T18:56:52.986Z"
   },
   {
    "duration": 11,
    "start_time": "2023-06-09T18:57:13.508Z"
   },
   {
    "duration": 4,
    "start_time": "2023-06-09T18:57:21.842Z"
   },
   {
    "duration": 60,
    "start_time": "2023-06-09T18:57:21.848Z"
   },
   {
    "duration": 11,
    "start_time": "2023-06-09T18:57:21.910Z"
   },
   {
    "duration": 19,
    "start_time": "2023-06-09T18:57:21.923Z"
   },
   {
    "duration": 8,
    "start_time": "2023-06-09T18:57:21.944Z"
   },
   {
    "duration": 9,
    "start_time": "2023-06-09T18:57:21.953Z"
   },
   {
    "duration": 349,
    "start_time": "2023-06-09T18:57:21.964Z"
   },
   {
    "duration": 4,
    "start_time": "2023-06-09T18:57:22.315Z"
   },
   {
    "duration": 29,
    "start_time": "2023-06-09T18:57:22.320Z"
   },
   {
    "duration": 187,
    "start_time": "2023-06-09T18:57:24.466Z"
   },
   {
    "duration": 187,
    "start_time": "2023-06-09T18:57:28.027Z"
   },
   {
    "duration": 185,
    "start_time": "2023-06-09T18:57:35.629Z"
   },
   {
    "duration": 276,
    "start_time": "2023-06-09T18:59:07.592Z"
   },
   {
    "duration": 258,
    "start_time": "2023-06-09T18:59:19.998Z"
   },
   {
    "duration": 3,
    "start_time": "2023-06-09T18:59:44.632Z"
   },
   {
    "duration": 60,
    "start_time": "2023-06-09T18:59:44.637Z"
   },
   {
    "duration": 12,
    "start_time": "2023-06-09T18:59:44.699Z"
   },
   {
    "duration": 3,
    "start_time": "2023-06-09T18:59:44.713Z"
   },
   {
    "duration": 10,
    "start_time": "2023-06-09T18:59:44.719Z"
   },
   {
    "duration": 11,
    "start_time": "2023-06-09T18:59:44.730Z"
   },
   {
    "duration": 276,
    "start_time": "2023-06-09T18:59:44.743Z"
   },
   {
    "duration": 4,
    "start_time": "2023-06-09T18:59:45.020Z"
   },
   {
    "duration": 36,
    "start_time": "2023-06-09T18:59:45.026Z"
   },
   {
    "duration": 200,
    "start_time": "2023-06-09T18:59:45.063Z"
   },
   {
    "duration": 180,
    "start_time": "2023-06-09T18:59:45.265Z"
   },
   {
    "duration": 253,
    "start_time": "2023-06-09T18:59:45.447Z"
   },
   {
    "duration": 247,
    "start_time": "2023-06-09T18:59:56.298Z"
   },
   {
    "duration": 277,
    "start_time": "2023-06-09T19:00:13.818Z"
   },
   {
    "duration": 268,
    "start_time": "2023-06-09T19:01:02.036Z"
   },
   {
    "duration": 389,
    "start_time": "2023-06-09T19:01:05.968Z"
   },
   {
    "duration": 3,
    "start_time": "2023-06-09T19:01:09.944Z"
   },
   {
    "duration": 56,
    "start_time": "2023-06-09T19:01:09.950Z"
   },
   {
    "duration": 10,
    "start_time": "2023-06-09T19:01:10.008Z"
   },
   {
    "duration": 16,
    "start_time": "2023-06-09T19:01:10.020Z"
   },
   {
    "duration": 14,
    "start_time": "2023-06-09T19:01:10.039Z"
   },
   {
    "duration": 40,
    "start_time": "2023-06-09T19:01:10.055Z"
   },
   {
    "duration": 238,
    "start_time": "2023-06-09T19:01:10.097Z"
   },
   {
    "duration": 4,
    "start_time": "2023-06-09T19:01:10.337Z"
   },
   {
    "duration": 22,
    "start_time": "2023-06-09T19:01:10.343Z"
   },
   {
    "duration": 228,
    "start_time": "2023-06-09T19:01:10.366Z"
   },
   {
    "duration": 163,
    "start_time": "2023-06-09T19:01:10.596Z"
   },
   {
    "duration": 252,
    "start_time": "2023-06-09T19:01:10.760Z"
   },
   {
    "duration": 264,
    "start_time": "2023-06-09T19:01:27.449Z"
   },
   {
    "duration": 263,
    "start_time": "2023-06-09T19:02:05.496Z"
   },
   {
    "duration": 4,
    "start_time": "2023-06-09T19:02:10.802Z"
   },
   {
    "duration": 45,
    "start_time": "2023-06-09T19:02:10.808Z"
   },
   {
    "duration": 9,
    "start_time": "2023-06-09T19:02:10.855Z"
   },
   {
    "duration": 3,
    "start_time": "2023-06-09T19:02:10.866Z"
   },
   {
    "duration": 18,
    "start_time": "2023-06-09T19:02:10.871Z"
   },
   {
    "duration": 11,
    "start_time": "2023-06-09T19:02:10.890Z"
   },
   {
    "duration": 242,
    "start_time": "2023-06-09T19:02:10.902Z"
   },
   {
    "duration": 4,
    "start_time": "2023-06-09T19:02:11.146Z"
   },
   {
    "duration": 11,
    "start_time": "2023-06-09T19:02:11.151Z"
   },
   {
    "duration": 202,
    "start_time": "2023-06-09T19:02:11.185Z"
   },
   {
    "duration": 156,
    "start_time": "2023-06-09T19:02:11.389Z"
   },
   {
    "duration": 262,
    "start_time": "2023-06-09T19:02:11.547Z"
   },
   {
    "duration": 239,
    "start_time": "2023-06-09T19:03:22.389Z"
   },
   {
    "duration": 4,
    "start_time": "2023-06-09T19:04:12.408Z"
   },
   {
    "duration": 44,
    "start_time": "2023-06-09T19:04:12.414Z"
   },
   {
    "duration": 10,
    "start_time": "2023-06-09T19:04:12.460Z"
   },
   {
    "duration": 4,
    "start_time": "2023-06-09T19:04:12.472Z"
   },
   {
    "duration": 17,
    "start_time": "2023-06-09T19:04:12.478Z"
   },
   {
    "duration": 11,
    "start_time": "2023-06-09T19:04:12.496Z"
   },
   {
    "duration": 383,
    "start_time": "2023-06-09T19:04:12.509Z"
   },
   {
    "duration": 4,
    "start_time": "2023-06-09T19:04:12.894Z"
   },
   {
    "duration": 12,
    "start_time": "2023-06-09T19:04:12.900Z"
   },
   {
    "duration": 210,
    "start_time": "2023-06-09T19:04:12.913Z"
   },
   {
    "duration": 167,
    "start_time": "2023-06-09T19:04:13.125Z"
   },
   {
    "duration": 253,
    "start_time": "2023-06-09T19:04:13.296Z"
   },
   {
    "duration": 228,
    "start_time": "2023-06-09T19:04:17.731Z"
   },
   {
    "duration": 234,
    "start_time": "2023-06-09T19:05:01.803Z"
   }
  ],
  "kernelspec": {
   "display_name": "Python 3 (ipykernel)",
   "language": "python",
   "name": "python3"
  },
  "language_info": {
   "codemirror_mode": {
    "name": "ipython",
    "version": 3
   },
   "file_extension": ".py",
   "mimetype": "text/x-python",
   "name": "python",
   "nbconvert_exporter": "python",
   "pygments_lexer": "ipython3",
   "version": "3.11.5"
  },
  "toc": {
   "base_numbering": 1,
   "nav_menu": {},
   "number_sections": true,
   "sideBar": true,
   "skip_h1_title": true,
   "title_cell": "Содержание",
   "title_sidebar": "Contents",
   "toc_cell": true,
   "toc_position": {},
   "toc_section_display": true,
   "toc_window_display": false
  }
 },
 "nbformat": 4,
 "nbformat_minor": 2
}
