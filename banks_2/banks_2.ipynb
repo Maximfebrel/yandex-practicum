{
 "cells": [
  {
   "cell_type": "markdown",
   "metadata": {
    "toc": true
   },
   "source": [
    "<h1>Содержание<span class=\"tocSkip\"></span></h1>\n",
    "<div class=\"toc\"><ul class=\"toc-item\"><li><span><a href=\"#Подготовка-данных\" data-toc-modified-id=\"Подготовка-данных-1\"><span class=\"toc-item-num\">1&nbsp;&nbsp;</span>Подготовка данных</a></span></li><li><span><a href=\"#Исследование-задачи\" data-toc-modified-id=\"Исследование-задачи-2\"><span class=\"toc-item-num\">2&nbsp;&nbsp;</span>Исследование задачи</a></span></li><li><span><a href=\"#Борьба-с-дисбалансом\" data-toc-modified-id=\"Борьба-с-дисбалансом-3\"><span class=\"toc-item-num\">3&nbsp;&nbsp;</span>Борьба с дисбалансом</a></span></li><li><span><a href=\"#Тестирование-модели\" data-toc-modified-id=\"Тестирование-модели-4\"><span class=\"toc-item-num\">4&nbsp;&nbsp;</span>Тестирование модели</a></span></li><li><span><a href=\"#Чек-лист-готовности-проекта\" data-toc-modified-id=\"Чек-лист-готовности-проекта-5\"><span class=\"toc-item-num\">5&nbsp;&nbsp;</span>Чек-лист готовности проекта</a></span></li></ul></div>"
   ]
  },
  {
   "cell_type": "markdown",
   "metadata": {},
   "source": [
    "# Отток клиентов"
   ]
  },
  {
   "cell_type": "markdown",
   "metadata": {},
   "source": [
    "Из «Бета-Банка» стали уходить клиенты. Каждый месяц. Немного, но заметно. Банковские маркетологи посчитали: сохранять текущих клиентов дешевле, чем привлекать новых.\n",
    "\n",
    "Нужно спрогнозировать, уйдёт клиент из банка в ближайшее время или нет. Вам предоставлены исторические данные о поведении клиентов и расторжении договоров с банком. \n",
    "\n",
    "Постройте модель с предельно большим значением *F1*-меры. Чтобы сдать проект успешно, нужно довести метрику до 0.59. Проверьте *F1*-меру на тестовой выборке самостоятельно.\n",
    "\n",
    "Дополнительно измеряйте *AUC-ROC*, сравнивайте её значение с *F1*-мерой.\n",
    "\n",
    "Источник данных: [https://www.kaggle.com/barelydedicated/bank-customer-churn-modeling](https://www.kaggle.com/barelydedicated/bank-customer-churn-modeling)"
   ]
  },
  {
   "cell_type": "markdown",
   "metadata": {},
   "source": [
    "## Подготовка данных"
   ]
  },
  {
   "cell_type": "code",
   "execution_count": 2,
   "metadata": {
    "scrolled": false
   },
   "outputs": [
    {
     "data": {
      "text/html": [
       "<div>\n",
       "<style scoped>\n",
       "    .dataframe tbody tr th:only-of-type {\n",
       "        vertical-align: middle;\n",
       "    }\n",
       "\n",
       "    .dataframe tbody tr th {\n",
       "        vertical-align: top;\n",
       "    }\n",
       "\n",
       "    .dataframe thead th {\n",
       "        text-align: right;\n",
       "    }\n",
       "</style>\n",
       "<table border=\"1\" class=\"dataframe\">\n",
       "  <thead>\n",
       "    <tr style=\"text-align: right;\">\n",
       "      <th></th>\n",
       "      <th>RowNumber</th>\n",
       "      <th>CustomerId</th>\n",
       "      <th>Surname</th>\n",
       "      <th>CreditScore</th>\n",
       "      <th>Geography</th>\n",
       "      <th>Gender</th>\n",
       "      <th>Age</th>\n",
       "      <th>Tenure</th>\n",
       "      <th>Balance</th>\n",
       "      <th>NumOfProducts</th>\n",
       "      <th>HasCrCard</th>\n",
       "      <th>IsActiveMember</th>\n",
       "      <th>EstimatedSalary</th>\n",
       "      <th>Exited</th>\n",
       "    </tr>\n",
       "  </thead>\n",
       "  <tbody>\n",
       "    <tr>\n",
       "      <th>0</th>\n",
       "      <td>1</td>\n",
       "      <td>15634602</td>\n",
       "      <td>Hargrave</td>\n",
       "      <td>619</td>\n",
       "      <td>France</td>\n",
       "      <td>Female</td>\n",
       "      <td>42</td>\n",
       "      <td>2.0</td>\n",
       "      <td>0.00</td>\n",
       "      <td>1</td>\n",
       "      <td>1</td>\n",
       "      <td>1</td>\n",
       "      <td>101348.88</td>\n",
       "      <td>1</td>\n",
       "    </tr>\n",
       "    <tr>\n",
       "      <th>1</th>\n",
       "      <td>2</td>\n",
       "      <td>15647311</td>\n",
       "      <td>Hill</td>\n",
       "      <td>608</td>\n",
       "      <td>Spain</td>\n",
       "      <td>Female</td>\n",
       "      <td>41</td>\n",
       "      <td>1.0</td>\n",
       "      <td>83807.86</td>\n",
       "      <td>1</td>\n",
       "      <td>0</td>\n",
       "      <td>1</td>\n",
       "      <td>112542.58</td>\n",
       "      <td>0</td>\n",
       "    </tr>\n",
       "    <tr>\n",
       "      <th>2</th>\n",
       "      <td>3</td>\n",
       "      <td>15619304</td>\n",
       "      <td>Onio</td>\n",
       "      <td>502</td>\n",
       "      <td>France</td>\n",
       "      <td>Female</td>\n",
       "      <td>42</td>\n",
       "      <td>8.0</td>\n",
       "      <td>159660.80</td>\n",
       "      <td>3</td>\n",
       "      <td>1</td>\n",
       "      <td>0</td>\n",
       "      <td>113931.57</td>\n",
       "      <td>1</td>\n",
       "    </tr>\n",
       "    <tr>\n",
       "      <th>3</th>\n",
       "      <td>4</td>\n",
       "      <td>15701354</td>\n",
       "      <td>Boni</td>\n",
       "      <td>699</td>\n",
       "      <td>France</td>\n",
       "      <td>Female</td>\n",
       "      <td>39</td>\n",
       "      <td>1.0</td>\n",
       "      <td>0.00</td>\n",
       "      <td>2</td>\n",
       "      <td>0</td>\n",
       "      <td>0</td>\n",
       "      <td>93826.63</td>\n",
       "      <td>0</td>\n",
       "    </tr>\n",
       "    <tr>\n",
       "      <th>4</th>\n",
       "      <td>5</td>\n",
       "      <td>15737888</td>\n",
       "      <td>Mitchell</td>\n",
       "      <td>850</td>\n",
       "      <td>Spain</td>\n",
       "      <td>Female</td>\n",
       "      <td>43</td>\n",
       "      <td>2.0</td>\n",
       "      <td>125510.82</td>\n",
       "      <td>1</td>\n",
       "      <td>1</td>\n",
       "      <td>1</td>\n",
       "      <td>79084.10</td>\n",
       "      <td>0</td>\n",
       "    </tr>\n",
       "  </tbody>\n",
       "</table>\n",
       "</div>"
      ],
      "text/plain": [
       "   RowNumber  CustomerId   Surname  CreditScore Geography  Gender  Age  \\\n",
       "0          1    15634602  Hargrave          619    France  Female   42   \n",
       "1          2    15647311      Hill          608     Spain  Female   41   \n",
       "2          3    15619304      Onio          502    France  Female   42   \n",
       "3          4    15701354      Boni          699    France  Female   39   \n",
       "4          5    15737888  Mitchell          850     Spain  Female   43   \n",
       "\n",
       "   Tenure    Balance  NumOfProducts  HasCrCard  IsActiveMember  \\\n",
       "0     2.0       0.00              1          1               1   \n",
       "1     1.0   83807.86              1          0               1   \n",
       "2     8.0  159660.80              3          1               0   \n",
       "3     1.0       0.00              2          0               0   \n",
       "4     2.0  125510.82              1          1               1   \n",
       "\n",
       "   EstimatedSalary  Exited  \n",
       "0        101348.88       1  \n",
       "1        112542.58       0  \n",
       "2        113931.57       1  \n",
       "3         93826.63       0  \n",
       "4         79084.10       0  "
      ]
     },
     "metadata": {},
     "output_type": "display_data"
    },
    {
     "name": "stdout",
     "output_type": "stream",
     "text": [
      "<class 'pandas.core.frame.DataFrame'>\n",
      "RangeIndex: 10000 entries, 0 to 9999\n",
      "Data columns (total 14 columns):\n",
      " #   Column           Non-Null Count  Dtype  \n",
      "---  ------           --------------  -----  \n",
      " 0   RowNumber        10000 non-null  int64  \n",
      " 1   CustomerId       10000 non-null  int64  \n",
      " 2   Surname          10000 non-null  object \n",
      " 3   CreditScore      10000 non-null  int64  \n",
      " 4   Geography        10000 non-null  object \n",
      " 5   Gender           10000 non-null  object \n",
      " 6   Age              10000 non-null  int64  \n",
      " 7   Tenure           9091 non-null   float64\n",
      " 8   Balance          10000 non-null  float64\n",
      " 9   NumOfProducts    10000 non-null  int64  \n",
      " 10  HasCrCard        10000 non-null  int64  \n",
      " 11  IsActiveMember   10000 non-null  int64  \n",
      " 12  EstimatedSalary  10000 non-null  float64\n",
      " 13  Exited           10000 non-null  int64  \n",
      "dtypes: float64(3), int64(8), object(3)\n",
      "memory usage: 1.1+ MB\n"
     ]
    }
   ],
   "source": [
    "import pandas as pd\n",
    "from sklearn.model_selection import train_test_split\n",
    "from sklearn.linear_model import LogisticRegression\n",
    "from sklearn.linear_model import LinearRegression\n",
    "from sklearn.tree import DecisionTreeClassifier\n",
    "from sklearn.ensemble import RandomForestClassifier\n",
    "from sklearn.metrics import mean_absolute_error\n",
    "from sklearn.metrics import roc_auc_score\n",
    "from sklearn.metrics import f1_score\n",
    "import numpy as np\n",
    "from sklearn.utils import shuffle\n",
    "from sklearn.metrics import roc_curve\n",
    "import matplotlib.pyplot as plt\n",
    "\n",
    "\n",
    "data = pd.read_csv('/datasets/Churn.csv')\n",
    "display(data.head())\n",
    "data.info()"
   ]
  },
  {
   "cell_type": "code",
   "execution_count": 3,
   "metadata": {},
   "outputs": [],
   "source": [
    "list_old = [column for column in data]\n",
    "list_new = [column.lower() for column in list_old]\n",
    "data.columns = list_new\n",
    "data = data.rename(\n",
    "    columns={\n",
    "        'customerid' : 'customer_id',\n",
    "        'creditscore' : 'credit_score',\n",
    "        'numofproducts' : 'num_of_products',\n",
    "        'hascrcard' : 'has_cr_card',\n",
    "        'isactivemember' : 'is_active_member',\n",
    "        'estimatedsalary' : 'estimated_salary',\n",
    "    }\n",
    ")"
   ]
  },
  {
   "cell_type": "code",
   "execution_count": 4,
   "metadata": {},
   "outputs": [],
   "source": [
    "data = data.drop('rownumber', axis=1)\n",
    "data = data.drop('surname', axis=1)"
   ]
  },
  {
   "cell_type": "code",
   "execution_count": 5,
   "metadata": {},
   "outputs": [],
   "source": [
    "data = data.dropna(subset=['tenure'])"
   ]
  },
  {
   "cell_type": "code",
   "execution_count": 6,
   "metadata": {},
   "outputs": [],
   "source": [
    "data = data.drop_duplicates()"
   ]
  },
  {
   "cell_type": "code",
   "execution_count": 7,
   "metadata": {},
   "outputs": [
    {
     "name": "stdout",
     "output_type": "stream",
     "text": [
      "<class 'pandas.core.frame.DataFrame'>\n",
      "Int64Index: 9091 entries, 0 to 9998\n",
      "Data columns (total 12 columns):\n",
      " #   Column            Non-Null Count  Dtype  \n",
      "---  ------            --------------  -----  \n",
      " 0   customer_id       9091 non-null   int64  \n",
      " 1   credit_score      9091 non-null   int64  \n",
      " 2   geography         9091 non-null   object \n",
      " 3   gender            9091 non-null   object \n",
      " 4   age               9091 non-null   int64  \n",
      " 5   tenure            9091 non-null   float64\n",
      " 6   balance           9091 non-null   float64\n",
      " 7   num_of_products   9091 non-null   int64  \n",
      " 8   has_cr_card       9091 non-null   int64  \n",
      " 9   is_active_member  9091 non-null   int64  \n",
      " 10  estimated_salary  9091 non-null   float64\n",
      " 11  exited            9091 non-null   int64  \n",
      "dtypes: float64(3), int64(7), object(2)\n",
      "memory usage: 923.3+ KB\n"
     ]
    }
   ],
   "source": [
    "data.info()"
   ]
  },
  {
   "cell_type": "markdown",
   "metadata": {},
   "source": [
    "**Вывод**\n",
    "\n",
    "В качестве исходной предобработки данных были удалены ненужные столбцы, которые замедлят обучение модели, также были удалены строки с пропущенными значениями для лучшего обучения модели. Также были удалены явные дубликаты в данных. Предобработка данных выполнена. Также названия столбцов были приведены к нижнему регистру."
   ]
  },
  {
   "cell_type": "markdown",
   "metadata": {},
   "source": [
    "## Исследование задачи"
   ]
  },
  {
   "cell_type": "code",
   "execution_count": 8,
   "metadata": {},
   "outputs": [
    {
     "name": "stdout",
     "output_type": "stream",
     "text": [
      "0.2561835014508774\n"
     ]
    }
   ],
   "source": [
    "# расчет дисбалланса классов\n",
    "print(len(data.loc[data['exited'] == 1]) / len(data.loc[data['exited'] == 0]))"
   ]
  },
  {
   "cell_type": "code",
   "execution_count": 9,
   "metadata": {},
   "outputs": [],
   "source": [
    "# разделение выборки на тренировочную, валидационную и тестовую\n",
    "data_ohe = pd.get_dummies(data, drop_first=True)\n",
    "target = data_ohe['exited']\n",
    "features = data_ohe.drop(['exited'] , axis=1)\n",
    "\n",
    "features_train, features_valid, target_train, target_valid = train_test_split(\n",
    "    features, target, test_size=0.4, random_state=12345)\n",
    "\n",
    "features_valid, features_test, target_valid, target_test = train_test_split(\n",
    "    features_valid, target_valid, test_size=0.5, random_state=12345)"
   ]
  },
  {
   "cell_type": "code",
   "execution_count": 10,
   "metadata": {},
   "outputs": [
    {
     "name": "stdout",
     "output_type": "stream",
     "text": [
      "Для f1 max_depth = 5 : 0.5759493670886077\n",
      "Точнсть константной модели: 0.0\n",
      "Для auc_roc max_depth = 6 : 0.8425699070605623\n"
     ]
    }
   ],
   "source": [
    "# модель обучающего дерева\n",
    "spisok_f1 = []\n",
    "spisok_auc_roc = []\n",
    "\n",
    "for i in range(1, 16):\n",
    "    model_tree = DecisionTreeClassifier(max_depth=i, random_state=12345)\n",
    "    model_tree.fit(features_train, target_train)\n",
    "    \n",
    "    # расчет метрики AUC-ROC\n",
    "    probabilities_valid = model_tree.predict_proba(features_valid)\n",
    "    probabilities_one_valid = probabilities_valid[:, 1]\n",
    "    auc_roc = roc_auc_score(target_valid, probabilities_one_valid)\n",
    "    spisok_auc_roc.append(auc_roc)\n",
    "    \n",
    "    # расчет метрики F1\n",
    "    predictions_valid = model_tree.predict(features_valid)\n",
    "    f1 = f1_score(target_valid, predictions_valid)\n",
    "    spisok_f1.append(f1)\n",
    "\n",
    "# создание константной модели\n",
    "target_pred_constant = pd.Series([0]*len(target_valid))\n",
    "f1 = f1_score(target_valid, target_pred_constant)\n",
    "\n",
    "print('Для f1 max_depth =', np.argmax(spisok_auc_roc), ':', max(spisok_f1))  \n",
    "print('Точнсть константной модели:', f1)\n",
    "print('Для auc_roc max_depth =', np.argmax(spisok_f1), ':', max(spisok_auc_roc))"
   ]
  },
  {
   "cell_type": "code",
   "execution_count": 11,
   "metadata": {},
   "outputs": [
    {
     "name": "stdout",
     "output_type": "stream",
     "text": [
      "f1_score наилучшей модели на валидационной выборке: 0.5806451612903226 Количество деревьев: 80 Максимальная глубина: 14\n",
      "Точнсть константной модели: 0.0\n",
      "auc_roc_score наилучшей модели на валидационной выборке: 0.8718470263613723 Количество деревьев: 90 Максимальная глубина: 9\n"
     ]
    }
   ],
   "source": [
    "# модель обучающего леса деревьев\n",
    "best_result = 0\n",
    "best_est = 0\n",
    "best_depth = 0\n",
    "\n",
    "best_result_auc = 0\n",
    "best_est_auc = 0\n",
    "best_depth_auc = 0\n",
    "\n",
    "for est in range(10, 101, 10):\n",
    "    for depth in range (1, 15):\n",
    "        model_forest = RandomForestClassifier(random_state=12345, n_estimators=est, max_depth=depth)\n",
    "        model_forest.fit(features_train, target_train) \n",
    "        \n",
    "        # расчет метрики F1\n",
    "        predictions_valid = model_forest.predict(features_valid) \n",
    "        result = f1_score(target_valid, predictions_valid)\n",
    "        if result > best_result:\n",
    "            best_result = result\n",
    "            best_est = est\n",
    "            best_depth = depth\n",
    "       \n",
    "        # расчет метрики AUC-ROC\n",
    "        probabilities_valid = model_forest.predict_proba(features_valid)\n",
    "        probabilities_one_valid = probabilities_valid[:, 1]\n",
    "        result_auc = roc_auc_score(target_valid, probabilities_one_valid)\n",
    "        if result_auc > best_result_auc:\n",
    "            best_result_auc = result_auc\n",
    "            best_est_auc = est\n",
    "            best_depth_auc = depth\n",
    "\n",
    "# создание константной модели        \n",
    "target_pred_constant = pd.Series([0]*len(target_valid))\n",
    "f1 = f1_score(target_valid, target_pred_constant)\n",
    "\n",
    "print(\"f1_score наилучшей модели на валидационной выборке:\", best_result, \n",
    "      \"Количество деревьев:\", best_est, \n",
    "      \"Максимальная глубина:\", depth)\n",
    "print('Точнсть константной модели:', f1)\n",
    "print(\"auc_roc_score наилучшей модели на валидационной выборке:\", best_result_auc, \n",
    "      \"Количество деревьев:\", best_est_auc, \n",
    "      \"Максимальная глубина:\", best_depth_auc)"
   ]
  },
  {
   "cell_type": "code",
   "execution_count": 12,
   "metadata": {
    "scrolled": true
   },
   "outputs": [
    {
     "name": "stdout",
     "output_type": "stream",
     "text": [
      "AUC-ROC мера: 0.569062156585189\n"
     ]
    }
   ],
   "source": [
    "# модель логистической регрессии\n",
    "model = LogisticRegression(random_state=12345, solver='liblinear')\n",
    "model.fit(features_train, target_train)\n",
    "\n",
    "# расчет метрики AUC-ROC\n",
    "probabilities_valid = model.predict_proba(features_valid)\n",
    "probabilities_one_valid = probabilities_valid[:, 1]\n",
    "auc_roc = roc_auc_score(target_valid, probabilities_one_valid)\n",
    "print('AUC-ROC мера:', auc_roc)"
   ]
  },
  {
   "cell_type": "markdown",
   "metadata": {},
   "source": [
    "**Вывод**\n",
    "\n",
    "Данные были изучены на дисбаланс классов. Он составил слудеющее соотношение: люди, оставшиеся в банке / люди, ушедшие из банка = 0.25. \n",
    "\n",
    "Исходя из первичного обучения модели можно сделать вывод о том, что модель обучается довольно хорошо и без балансирования признаков. Наилучших результатов достигла модель при обучении лесом деревьев. Точность по метрике f1 составила 0.58, точность по метрике auc_roc составила 0.87. Хуже всего модель обучается по линейной регрессии. "
   ]
  },
  {
   "cell_type": "markdown",
   "metadata": {},
   "source": [
    "## Борьба с дисбалансом"
   ]
  },
  {
   "cell_type": "markdown",
   "metadata": {},
   "source": [
    "**Метод class weight**"
   ]
  },
  {
   "cell_type": "code",
   "execution_count": 13,
   "metadata": {},
   "outputs": [
    {
     "name": "stdout",
     "output_type": "stream",
     "text": [
      "AUC-ROC мера: 0.7561872189405752\n",
      "F1: 0.4980988593155894\n"
     ]
    }
   ],
   "source": [
    "# модель логистической регрессии\n",
    "model = LogisticRegression(random_state=12345, solver='liblinear', class_weight='balanced')\n",
    "model.fit(features_train, target_train)\n",
    "\n",
    "probabilities_valid = model.predict_proba(features_valid)\n",
    "probabilities_one_valid = probabilities_valid[:, 1]\n",
    "\n",
    "predicted_valid = model.predict(features_valid)\n",
    "\n",
    "print('AUC-ROC мера:', roc_auc_score(target_valid, probabilities_one_valid))\n",
    "print(\"F1:\", f1_score(target_valid, predicted_valid))"
   ]
  },
  {
   "cell_type": "code",
   "execution_count": 14,
   "metadata": {},
   "outputs": [
    {
     "name": "stdout",
     "output_type": "stream",
     "text": [
      "f1_score наилучшей модели на валидационной выборке: 0.6456043956043955 Количество деревьев: 70 Максимальная глубина: 14\n",
      "Точнсть константной модели: 0.0\n",
      "auc_roc_score наилучшей модели на валидационной выборке: 0.8695663378474644 Количество деревьев: 100 Максимальная глубина: 8\n"
     ]
    }
   ],
   "source": [
    "# модель обучающего леса деревьев\n",
    "best_result = 0\n",
    "best_est = 0\n",
    "best_depth = 0\n",
    "\n",
    "best_result_auc = 0\n",
    "best_est_auc = 0\n",
    "best_depth_auc = 0\n",
    "\n",
    "for est in range(10, 101, 10):\n",
    "    for depth in range (1, 15):\n",
    "        model_forest = RandomForestClassifier(random_state=12345, n_estimators=est, max_depth=depth, class_weight='balanced')\n",
    "        model_forest.fit(features_train, target_train) \n",
    "        \n",
    "        # расчет метрики F1\n",
    "        predictions_valid = model_forest.predict(features_valid) \n",
    "        result = f1_score(target_valid, predictions_valid)\n",
    "        if result > best_result:\n",
    "            best_result = result\n",
    "            best_est = est\n",
    "            best_depth = depth\n",
    "        \n",
    "        # расчет метрики AUC-ROC\n",
    "        probabilities_valid = model_forest.predict_proba(features_valid)\n",
    "        probabilities_one_valid = probabilities_valid[:, 1]\n",
    "        result_auc = roc_auc_score(target_valid, probabilities_one_valid)\n",
    "        if result_auc > best_result_auc:\n",
    "            best_result_auc = result_auc\n",
    "            best_est_auc = est\n",
    "            best_depth_auc = depth\n",
    "        \n",
    "target_pred_constant = pd.Series([0]*len(target_valid))\n",
    "f1 = f1_score(target_valid, target_pred_constant)\n",
    "\n",
    "print(\"f1_score наилучшей модели на валидационной выборке:\", best_result, \n",
    "      \"Количество деревьев:\", best_est, \n",
    "      \"Максимальная глубина:\", depth)\n",
    "print('Точнсть константной модели:', f1)\n",
    "print(\"auc_roc_score наилучшей модели на валидационной выборке:\", best_result_auc, \n",
    "      \"Количество деревьев:\", best_est_auc, \n",
    "      \"Максимальная глубина:\", best_depth_auc)"
   ]
  },
  {
   "cell_type": "code",
   "execution_count": 16,
   "metadata": {
    "scrolled": true
   },
   "outputs": [
    {
     "name": "stdout",
     "output_type": "stream",
     "text": [
      "Для f1 max_depth = 4 : 0.5705196182396607\n",
      "Точнсть константной модели: 0.0\n",
      "Для auc_roc max_depth = 4 : 0.8345423989014407\n"
     ]
    }
   ],
   "source": [
    "# модель обучающего дерева\n",
    "spisok_f1 = []\n",
    "spisok_auc_roc = []\n",
    "\n",
    "for i in range(1, 16):\n",
    "    model_tree = DecisionTreeClassifier(max_depth=i, random_state=12345, class_weight='balanced')\n",
    "    model_tree.fit(features_train, target_train)\n",
    "    \n",
    "    # расчет метрики AUC-ROC\n",
    "    probabilities_valid = model_tree.predict_proba(features_valid)\n",
    "    probabilities_one_valid = probabilities_valid[:, 1]\n",
    "    auc_roc = roc_auc_score(target_valid, probabilities_one_valid)\n",
    "    spisok_auc_roc.append(auc_roc)\n",
    "    \n",
    "    # расчет метрики F1\n",
    "    predictions_valid = model_tree.predict(features_valid)\n",
    "    f1 = f1_score(target_valid, predictions_valid)\n",
    "    spisok_f1.append(f1)\n",
    "    \n",
    "target_pred_constant = pd.Series([0]*len(target_valid))\n",
    "f1 = f1_score(target_valid, target_pred_constant)\n",
    "\n",
    "print('Для f1 max_depth =', np.argmax(spisok_auc_roc), ':', max(spisok_f1))  \n",
    "print('Точнсть константной модели:', f1)\n",
    "print('Для auc_roc max_depth =', np.argmax(spisok_f1), ':', max(spisok_auc_roc))"
   ]
  },
  {
   "cell_type": "markdown",
   "metadata": {},
   "source": [
    "**Вывод**\n",
    "\n",
    "Метод class_weight сработал для модели леса деревьев, точность на метрике f1 достигла 0.64."
   ]
  },
  {
   "cell_type": "markdown",
   "metadata": {},
   "source": [
    "**Метод UPSAMPLING**"
   ]
  },
  {
   "cell_type": "code",
   "execution_count": 18,
   "metadata": {},
   "outputs": [],
   "source": [
    "# написание функции, которая будет увеличивать размер выборки\n",
    "def upsample(features, target, repeat):\n",
    "    features_zeros = features[target == 0]\n",
    "    features_ones = features[target == 1]\n",
    "    target_zeros = target[target == 0]\n",
    "    target_ones = target[target == 1]\n",
    "\n",
    "    features_upsampled = pd.concat([features_zeros] + [features_ones] * repeat)\n",
    "    target_upsampled = pd.concat([target_zeros] + [target_ones] * repeat)\n",
    "    \n",
    "    features_upsampled, target_upsampled = shuffle(\n",
    "        features_upsampled, target_upsampled, random_state=12345)\n",
    "    \n",
    "    return features_upsampled, target_upsampled\n",
    "#увеличение размера выборки\n",
    "features_upsampled, target_upsampled = upsample(features_train, target_train, 9)"
   ]
  },
  {
   "cell_type": "code",
   "execution_count": 19,
   "metadata": {},
   "outputs": [
    {
     "name": "stdout",
     "output_type": "stream",
     "text": [
      "AUC-ROC мера: 0.5692830465138967\n",
      "F1: 0.34350797266514804\n"
     ]
    }
   ],
   "source": [
    "# модель логистической регрессии\n",
    "model = LogisticRegression(random_state=12345, solver='liblinear')\n",
    "model.fit(features_upsampled, target_upsampled)\n",
    "\n",
    "probabilities_valid = model.predict_proba(features_valid)\n",
    "probabilities_one_valid = probabilities_valid[:, 1]\n",
    "\n",
    "predicted_valid = model.predict(features_valid)\n",
    "\n",
    "print('AUC-ROC мера:', roc_auc_score(target_valid, probabilities_one_valid))\n",
    "print(\"F1:\", f1_score(target_valid, predicted_valid))"
   ]
  },
  {
   "cell_type": "code",
   "execution_count": 20,
   "metadata": {},
   "outputs": [
    {
     "name": "stdout",
     "output_type": "stream",
     "text": [
      "f1_score наилучшей модели на валидационной выборке: 0.6388206388206389 Количество деревьев: 70 Максимальная глубина: 14\n",
      "Точнсть константной модели: 0.0\n",
      "auc_roc_score наилучшей модели на валидационной выборке: 0.8619474760564519 Количество деревьев: 90 Максимальная глубина: 11\n"
     ]
    }
   ],
   "source": [
    "# модель обучающего леса деревьев\n",
    "best_result = 0\n",
    "best_est = 0\n",
    "best_depth = 0\n",
    "\n",
    "best_result_auc = 0\n",
    "best_est_auc = 0\n",
    "best_depth_auc = 0\n",
    "\n",
    "for est in range(10, 101, 10):\n",
    "    for depth in range (1, 15):\n",
    "        model_forest = RandomForestClassifier(random_state=12345, n_estimators=est, max_depth=depth)\n",
    "        model_forest.fit(features_upsampled, target_upsampled) \n",
    "        \n",
    "        # вычисление метрики f1\n",
    "        predictions_valid = model_forest.predict(features_valid) \n",
    "        result = f1_score(target_valid, predictions_valid)\n",
    "        if result > best_result:\n",
    "            best_result = result\n",
    "            best_est = est\n",
    "            best_depth = depth\n",
    "        \n",
    "        # вычисление метрики AUC-ROC\n",
    "        probabilities_valid = model_forest.predict_proba(features_valid)\n",
    "        probabilities_one_valid = probabilities_valid[:, 1]\n",
    "        result_auc = roc_auc_score(target_valid, probabilities_one_valid)\n",
    "        if result_auc > best_result_auc:\n",
    "            best_result_auc = result_auc\n",
    "            best_est_auc = est\n",
    "            best_depth_auc = depth\n",
    "        \n",
    "target_pred_constant = pd.Series([0]*len(target_valid))\n",
    "f1 = f1_score(target_valid, target_pred_constant)\n",
    "\n",
    "print(\"f1_score наилучшей модели на валидационной выборке:\", best_result, \n",
    "      \"Количество деревьев:\", best_est, \n",
    "      \"Максимальная глубина:\", depth)\n",
    "print('Точнсть константной модели:', f1)\n",
    "print(\"auc_roc_score наилучшей модели на валидационной выборке:\", best_result_auc, \n",
    "      \"Количество деревьев:\", best_est_auc, \n",
    "      \"Максимальная глубина:\", best_depth_auc)"
   ]
  },
  {
   "cell_type": "code",
   "execution_count": 21,
   "metadata": {},
   "outputs": [
    {
     "name": "stdout",
     "output_type": "stream",
     "text": [
      "Для f1 max_depth = 4 : 0.5318791946308725\n",
      "Точнсть константной модели: 0.0\n",
      "Для auc_roc max_depth = 5 : 0.8399836541452756\n"
     ]
    }
   ],
   "source": [
    "# модель обучающего дерева\n",
    "spisok_f1 = []\n",
    "spisok_auc_roc = []\n",
    "\n",
    "for i in range(1, 16):\n",
    "    model_tree = DecisionTreeClassifier(max_depth=i, random_state=12345)\n",
    "    model_tree.fit(features_upsampled, target_upsampled)\n",
    "    \n",
    "    # вычисление метрики AUC-ROC\n",
    "    probabilities_valid = model_tree.predict_proba(features_valid)\n",
    "    probabilities_one_valid = probabilities_valid[:, 1]\n",
    "    auc_roc = roc_auc_score(target_valid, probabilities_one_valid)\n",
    "    spisok_auc_roc.append(auc_roc)\n",
    "    \n",
    "     # вычисление метрики f1\n",
    "    predictions_valid = model_tree.predict(features_valid)\n",
    "    f1 = f1_score(target_valid, predictions_valid)\n",
    "    spisok_f1.append(f1)\n",
    "    \n",
    "target_pred_constant = pd.Series([0]*len(target_valid))\n",
    "f1 = f1_score(target_valid, target_pred_constant)\n",
    "\n",
    "print('Для f1 max_depth =', np.argmax(spisok_auc_roc), ':', max(spisok_f1))  \n",
    "print('Точнсть константной модели:', f1)\n",
    "print('Для auc_roc max_depth =', np.argmax(spisok_f1), ':', max(spisok_auc_roc))"
   ]
  },
  {
   "cell_type": "markdown",
   "metadata": {},
   "source": [
    "**Вывод**\n",
    "\n",
    "Метод upsampling сработал для модели леса деревьев, точность на метрике f1 достигла 0.63."
   ]
  },
  {
   "cell_type": "markdown",
   "metadata": {},
   "source": [
    "**Метод DOWNSAMPLING**"
   ]
  },
  {
   "cell_type": "code",
   "execution_count": 22,
   "metadata": {},
   "outputs": [],
   "source": [
    "# наипсание функции, которая уменьшает размер выборки\n",
    "def downsample(features, target, fraction):\n",
    "    features_zeros = features[target == 0]\n",
    "    features_ones = features[target == 1]\n",
    "    target_zeros = target[target == 0]\n",
    "    target_ones = target[target == 1]\n",
    "\n",
    "    features_downsampled = pd.concat(\n",
    "        [features_zeros.sample(frac=fraction, random_state=12345)] + [features_ones])\n",
    "    target_downsampled = pd.concat(\n",
    "        [target_zeros.sample(frac=fraction, random_state=12345)] + [target_ones])\n",
    "    \n",
    "    features_downsampled, target_downsampled = shuffle(\n",
    "        features_downsampled, target_downsampled, random_state=12345)\n",
    "    \n",
    "    return features_downsampled, target_downsampled\n",
    "\n",
    "# создание уменьшенной тренировочной выборки\n",
    "features_downsampled, target_downsampled = downsample(features_train, target_train, 0.1)"
   ]
  },
  {
   "cell_type": "code",
   "execution_count": 23,
   "metadata": {},
   "outputs": [
    {
     "name": "stdout",
     "output_type": "stream",
     "text": [
      "AUC-ROC мера: 0.5692296647811258\n",
      "F1: 0.34350797266514804\n"
     ]
    }
   ],
   "source": [
    "# модель логистической регрессии\n",
    "model = LogisticRegression(random_state=12345, solver='liblinear')\n",
    "model.fit(features_downsampled, target_downsampled)\n",
    "\n",
    "probabilities_valid = model.predict_proba(features_valid)\n",
    "probabilities_one_valid = probabilities_valid[:, 1]\n",
    "\n",
    "predicted_valid = model.predict(features_valid)\n",
    "\n",
    "print('AUC-ROC мера:', roc_auc_score(target_valid, probabilities_one_valid))\n",
    "print(\"F1:\", f1_score(target_valid, predicted_valid))"
   ]
  },
  {
   "cell_type": "code",
   "execution_count": 24,
   "metadata": {},
   "outputs": [
    {
     "name": "stdout",
     "output_type": "stream",
     "text": [
      "f1_score наилучшей модели на валидационной выборке: 0.4794223826714802 Количество деревьев: 10 Максимальная глубина: 14\n",
      "Точнсть константной модели: 0.0\n",
      "auc_roc_score наилучшей модели на валидационной выборке: 0.8629138694945486 Количество деревьев: 80 Максимальная глубина: 8\n"
     ]
    }
   ],
   "source": [
    "# модель обучающего леса деревьев\n",
    "best_result = 0\n",
    "best_est = 0\n",
    "best_depth = 0\n",
    "\n",
    "best_result_auc = 0\n",
    "best_est_auc = 0\n",
    "best_depth_auc = 0\n",
    "\n",
    "for est in range(10, 101, 10):\n",
    "    for depth in range (1, 15):\n",
    "        model_forest = RandomForestClassifier(random_state=12345, n_estimators=est, max_depth=depth)\n",
    "        model_forest.fit(features_downsampled, target_downsampled) \n",
    "        \n",
    "        # вычисление метрики f1\n",
    "        predictions_valid = model_forest.predict(features_valid) \n",
    "        result = f1_score(target_valid, predictions_valid)\n",
    "        if result > best_result:\n",
    "            best_result = result\n",
    "            best_est = est\n",
    "            best_depth = depth\n",
    "        \n",
    "        # вычисление метрики AUC-ROC\n",
    "        probabilities_valid = model_forest.predict_proba(features_valid)\n",
    "        probabilities_one_valid = probabilities_valid[:, 1]\n",
    "        result_auc = roc_auc_score(target_valid, probabilities_one_valid)\n",
    "        if result_auc > best_result_auc:\n",
    "            best_result_auc = result_auc\n",
    "            best_est_auc = est\n",
    "            best_depth_auc = depth\n",
    "        \n",
    "target_pred_constant = pd.Series([0]*len(target_valid))\n",
    "f1 = f1_score(target_valid, target_pred_constant)\n",
    "\n",
    "print(\"f1_score наилучшей модели на валидационной выборке:\", \n",
    "      best_result, \"Количество деревьев:\", best_est, \n",
    "      \"Максимальная глубина:\", depth)\n",
    "print('Точнсть константной модели:', f1)\n",
    "print(\"auc_roc_score наилучшей модели на валидационной выборке:\", best_result_auc, \n",
    "      \"Количество деревьев:\", best_est_auc, \n",
    "      \"Максимальная глубина:\", best_depth_auc)"
   ]
  },
  {
   "cell_type": "code",
   "execution_count": 25,
   "metadata": {},
   "outputs": [
    {
     "name": "stdout",
     "output_type": "stream",
     "text": [
      "Для f1 max_depth = 4 : 0.5165257494235204\n",
      "Точнсть константной модели: 0.0\n",
      "Для auc_roc max_depth = 4 : 0.8338171436355168\n"
     ]
    }
   ],
   "source": [
    "# модель дерева решений\n",
    "spisok_f1 = []\n",
    "spisok_auc_roc = []\n",
    "\n",
    "for i in range(1, 16):\n",
    "    model_tree = DecisionTreeClassifier(max_depth=i, random_state=12345)\n",
    "    model_tree.fit(features_downsampled, target_downsampled)\n",
    "    \n",
    "    # вычисление метрики AUC-ROC\n",
    "    probabilities_valid = model_tree.predict_proba(features_valid)\n",
    "    probabilities_one_valid = probabilities_valid[:, 1]\n",
    "    auc_roc = roc_auc_score(target_valid, probabilities_one_valid)\n",
    "    spisok_auc_roc.append(auc_roc)\n",
    "    \n",
    "    # вычисление метрики f1\n",
    "    predictions_valid = model_tree.predict(features_valid)\n",
    "    f1 = f1_score(target_valid, predictions_valid)\n",
    "    spisok_f1.append(f1)\n",
    "    \n",
    "target_pred_constant = pd.Series([0]*len(target_valid))\n",
    "f1 = f1_score(target_valid, target_pred_constant)\n",
    "\n",
    "print('Для f1 max_depth =', np.argmax(spisok_auc_roc), ':', max(spisok_f1))  \n",
    "print('Точнсть константной модели:', f1)\n",
    "print('Для auc_roc max_depth =', np.argmax(spisok_f1), ':', max(spisok_auc_roc))"
   ]
  },
  {
   "cell_type": "markdown",
   "metadata": {},
   "source": [
    "**Вывод**\n",
    "\n",
    "Метод downsampling сработал плохо для всех моделей, точность f1 упала везде."
   ]
  },
  {
   "cell_type": "markdown",
   "metadata": {},
   "source": [
    "**Изменение порога**"
   ]
  },
  {
   "cell_type": "code",
   "execution_count": 26,
   "metadata": {
    "scrolled": true
   },
   "outputs": [
    {
     "name": "stdout",
     "output_type": "stream",
     "text": [
      "Порог = 0.00 | f1 = 0.344\n",
      "Порог = 0.05 | f1 = 0.344\n",
      "Порог = 0.10 | f1 = 0.344\n",
      "Порог = 0.15 | f1 = 0.357\n",
      "Порог = 0.20 | f1 = 0.371\n",
      "Порог = 0.25 | f1 = 0.248\n",
      "Порог = 0.30 | f1 = 0.044\n",
      "Порог = 0.35 | f1 = 0.005\n",
      "Порог = 0.40 | f1 = 0.000\n",
      "Порог = 0.45 | f1 = 0.000\n",
      "Порог = 0.50 | f1 = 0.000\n",
      "Порог = 0.55 | f1 = 0.000\n"
     ]
    }
   ],
   "source": [
    "# модель логистической регрессии\n",
    "model = LogisticRegression(random_state=12345, solver='liblinear')\n",
    "model.fit(features_train, target_train)\n",
    "probabilities_valid = model.predict_proba(features_valid)\n",
    "probabilities_one_valid = probabilities_valid[:, 1]\n",
    "\n",
    "for threshold in np.arange(0, 0.6, 0.05):\n",
    "    predicted_valid = probabilities_one_valid > threshold \n",
    "    f1 = f1_score(target_valid, predicted_valid)\n",
    "\n",
    "    print(\"Порог = {:.2f} | f1 = {:.3f}\".format(\n",
    "        threshold, f1))"
   ]
  },
  {
   "cell_type": "markdown",
   "metadata": {},
   "source": [
    "**Вывод**\n",
    "\n",
    "Итого, если делать общий вывод, следует отметить, что наилучшего результата достигли модели леса деревьев при максимальной глубине 14 и максимальном количестве деревьев 70. При этом применялся метод удаления дисбалланса class_weight. Точность по мере f1 достигла 0.64. И модель леса деревьев при максимальной глубине 14 и максимальном количестве деревьев 90. При этом применялся метод удаления дисбалланса class_weight. Точность по мере f1 достигла 0.74.\n",
    "Теперь необходимо проверить тестовые данные на данной модели."
   ]
  },
  {
   "cell_type": "markdown",
   "metadata": {},
   "source": [
    "## Тестирование модели"
   ]
  },
  {
   "cell_type": "code",
   "execution_count": 15,
   "metadata": {},
   "outputs": [],
   "source": [
    "# разбиение данных на тренировочную и тестовую выборку \n",
    "#валидационная и тренировочная были объеденены для лучших показателей обучения\n",
    "\n",
    "features_train = features_train.append(features_valid, ignore_index = True)\n",
    "target_train = target_train.append(target_valid, ignore_index = True)"
   ]
  },
  {
   "cell_type": "code",
   "execution_count": 17,
   "metadata": {},
   "outputs": [
    {
     "name": "stdout",
     "output_type": "stream",
     "text": [
      "f1_score наилучшей модели на валидационной выборке: 0.6243523316062176 AUC-ROC наилучшей модели на валидационной выборке: 0.8695663378474644 Количество деревьев: 100 Максимальная глубина: 14\n"
     ]
    }
   ],
   "source": [
    "best_result = 0\n",
    "best_est = 0\n",
    "best_depth = 0\n",
    "best_est_auc = 0\n",
    "\n",
    "\n",
    "for est in range(10, 101, 10):\n",
    "    for depth in range (1, 15):\n",
    "        model_forest = RandomForestClassifier(random_state=12345, n_estimators=est, max_depth=depth, class_weight='balanced')\n",
    "        model_forest.fit(features_train, target_train) \n",
    "        \n",
    "        predictions_test = model_forest.predict(features_test) \n",
    "        result = f1_score(target_test, predictions_test)\n",
    "        \n",
    "        probabilities_test = model_forest.predict_proba(features_test)\n",
    "        probabilities_one_test = probabilities_test[:, 1]\n",
    "        result_auc = roc_auc_score(target_test, probabilities_one_test)\n",
    "        \n",
    "        if result > best_result:\n",
    "            best_result = result\n",
    "            best_est_auc = result_auc\n",
    "            best_est = est\n",
    "            best_depth = depth\n",
    "\n",
    "\n",
    "print(\"f1_score наилучшей модели на валидационной выборке:\", best_result, \n",
    "      \"AUC-ROC наилучшей модели на валидационной выборке:\", best_result_auc, \n",
    "      \"Количество деревьев:\", best_est, \n",
    "      \"Максимальная глубина:\", depth)"
   ]
  },
  {
   "cell_type": "code",
   "execution_count": 18,
   "metadata": {},
   "outputs": [],
   "source": [
    "def upsample(features, target, repeat):\n",
    "    features_zeros = features[target == 0]\n",
    "    features_ones = features[target == 1]\n",
    "    target_zeros = target[target == 0]\n",
    "    target_ones = target[target == 1]\n",
    "\n",
    "    features_upsampled = pd.concat([features_zeros] + [features_ones] * repeat)\n",
    "    target_upsampled = pd.concat([target_zeros] + [target_ones] * repeat)\n",
    "    \n",
    "    features_upsampled, target_upsampled = shuffle(\n",
    "        features_upsampled, target_upsampled, random_state=12345)\n",
    "    \n",
    "    return features_upsampled, target_upsampled\n",
    "\n",
    "features_upsampled, target_upsampled = upsample(features_train, target_train, 9)"
   ]
  },
  {
   "cell_type": "code",
   "execution_count": 19,
   "metadata": {
    "scrolled": true
   },
   "outputs": [
    {
     "name": "stdout",
     "output_type": "stream",
     "text": [
      "f1_score наилучшей модели на валидационной выборке: 0.5959079283887468 AUC-ROC наилучшей модели на валидационной выборке: 0.8695663378474644 Количество деревьев: 50 Максимальная глубина: 14\n"
     ]
    }
   ],
   "source": [
    "best_result = 0\n",
    "best_est = 0\n",
    "best_depth = 0\n",
    "best_est_auc = 0\n",
    "\n",
    "for est in range(10, 101, 10):\n",
    "    for depth in range (1, 15):\n",
    "        model_forest = RandomForestClassifier(random_state=12345, n_estimators=est, max_depth=depth)\n",
    "        model_forest.fit(features_upsampled, target_upsampled) \n",
    "        \n",
    "        predictions_test = model_forest.predict(features_test) \n",
    "        result = f1_score(target_test, predictions_test)\n",
    "        \n",
    "        probabilities_test = model_forest.predict_proba(features_test)\n",
    "        probabilities_one_test = probabilities_test[:, 1]\n",
    "        result_auc = roc_auc_score(target_test, probabilities_one_test)\n",
    "        \n",
    "        if result > best_result:\n",
    "            best_result = result\n",
    "            best_est_auc = result_auc\n",
    "            best_est = est\n",
    "            best_depth = depth\n",
    "\n",
    "print(\"f1_score наилучшей модели на валидационной выборке:\", best_result, \n",
    "      \"AUC-ROC наилучшей модели на валидационной выборке:\", best_result_auc, \n",
    "      \"Количество деревьев:\", best_est, \n",
    "      \"Максимальная глубина:\", depth)"
   ]
  },
  {
   "cell_type": "markdown",
   "metadata": {},
   "source": [
    "**Вывод**\n",
    "\n",
    "Итого на наилучшей модели леса деревьев лучше всего показал себя параметр class_weight при борьбе с несбаллансированной выборкой. Точность f1 достигла 0.624. Максимальная глубина дерева при таком обучении составила 14, а максимальное количество деревьев 80. \n",
    "\n",
    "Далее необходимо исследовать метрику AUC-ROC для заданной модели обучения."
   ]
  },
  {
   "cell_type": "markdown",
   "metadata": {},
   "source": [
    "**Исследование метрики AUC-ROC**"
   ]
  },
  {
   "cell_type": "code",
   "execution_count": 37,
   "metadata": {},
   "outputs": [
    {
     "name": "stdout",
     "output_type": "stream",
     "text": [
      "0.8490535728628417\n"
     ]
    },
    {
     "data": {
      "image/png": "[encoded data removed]",
      "text/plain": [
       "<Figure size 432x288 with 1 Axes>"
      ]
     },
     "metadata": {
      "needs_background": "light"
     },
     "output_type": "display_data"
    }
   ],
   "source": [
    "model_forest = RandomForestClassifier(random_state=12345, n_estimators=80, max_depth=14)\n",
    "model_forest.fit(features_upsampled, target_upsampled) \n",
    "\n",
    "probabilities_test = model_forest.predict_proba(features_test)\n",
    "probabilities_one_test = probabilities_test[:, 1]\n",
    "print(roc_auc_score(target_test, probabilities_one_test))\n",
    "\n",
    "fpr, tpr, thresholds = roc_curve(target_test, probabilities_one_test) \n",
    "plt.figure()\n",
    "plt.plot(fpr, tpr)\n",
    "plt.xlim([0.0, 1.0])\n",
    "plt.ylim([0.0, 1.0])\n",
    "plt.xlabel('False Positive Rate')\n",
    "plt.ylabel('True Positive Rate')\n",
    "plt.title('ROC-кривая')\n",
    "plt.show() "
   ]
  },
  {
   "cell_type": "markdown",
   "metadata": {},
   "source": [
    "**Вывод**\n",
    "\n",
    "Итого, при исследовании параметра AUC-ROC был сделан вывод о том, что модель является лучше константной, поэтому применение данной модели считается оправданным."
   ]
  }
 ],
 "metadata": {
  "ExecuteTimeLog": [
   {
    "duration": 565,
    "start_time": "2023-04-03T16:05:48.024Z"
   },
   {
    "duration": 213,
    "start_time": "2023-04-03T16:05:57.866Z"
   },
   {
    "duration": 5,
    "start_time": "2023-04-03T16:06:40.070Z"
   },
   {
    "duration": 11,
    "start_time": "2023-04-03T16:08:37.806Z"
   },
   {
    "duration": 9,
    "start_time": "2023-04-03T16:12:06.997Z"
   },
   {
    "duration": 16,
    "start_time": "2023-04-03T16:12:11.569Z"
   },
   {
    "duration": 10,
    "start_time": "2023-04-03T16:13:52.130Z"
   },
   {
    "duration": 13,
    "start_time": "2023-04-03T16:14:00.575Z"
   },
   {
    "duration": 3,
    "start_time": "2023-04-03T16:14:49.886Z"
   },
   {
    "duration": 13,
    "start_time": "2023-04-03T16:15:21.410Z"
   },
   {
    "duration": 11,
    "start_time": "2023-04-03T16:15:51.478Z"
   },
   {
    "duration": 12,
    "start_time": "2023-04-03T16:17:40.891Z"
   },
   {
    "duration": 8,
    "start_time": "2023-04-03T16:18:49.529Z"
   },
   {
    "duration": 8,
    "start_time": "2023-04-03T16:19:08.818Z"
   },
   {
    "duration": 4,
    "start_time": "2023-04-03T16:19:34.693Z"
   },
   {
    "duration": 10,
    "start_time": "2023-04-03T16:19:46.406Z"
   },
   {
    "duration": 5,
    "start_time": "2023-04-03T16:20:29.879Z"
   },
   {
    "duration": 14,
    "start_time": "2023-04-03T16:23:04.394Z"
   },
   {
    "duration": 12,
    "start_time": "2023-04-03T16:23:30.167Z"
   },
   {
    "duration": 5,
    "start_time": "2023-04-03T16:24:32.010Z"
   },
   {
    "duration": 29,
    "start_time": "2023-04-03T16:24:38.316Z"
   },
   {
    "duration": 30,
    "start_time": "2023-04-03T16:24:48.759Z"
   },
   {
    "duration": 23,
    "start_time": "2023-04-03T16:24:54.359Z"
   },
   {
    "duration": 16,
    "start_time": "2023-04-03T16:24:58.439Z"
   },
   {
    "duration": 13,
    "start_time": "2023-04-03T16:25:00.735Z"
   },
   {
    "duration": 13,
    "start_time": "2023-04-03T16:25:07.598Z"
   },
   {
    "duration": 63,
    "start_time": "2023-04-03T16:25:26.974Z"
   },
   {
    "duration": 6,
    "start_time": "2023-04-03T16:25:28.819Z"
   },
   {
    "duration": 4,
    "start_time": "2023-04-03T16:25:46.884Z"
   },
   {
    "duration": 8,
    "start_time": "2023-04-03T16:25:51.281Z"
   },
   {
    "duration": 9,
    "start_time": "2023-04-03T16:27:10.309Z"
   },
   {
    "duration": 10,
    "start_time": "2023-04-03T16:29:13.624Z"
   },
   {
    "duration": 29,
    "start_time": "2023-04-03T16:29:21.761Z"
   },
   {
    "duration": 3,
    "start_time": "2023-04-03T16:29:28.317Z"
   },
   {
    "duration": 17,
    "start_time": "2023-04-03T16:30:39.607Z"
   },
   {
    "duration": 13,
    "start_time": "2023-04-03T16:30:53.361Z"
   },
   {
    "duration": 13,
    "start_time": "2023-04-03T16:31:05.764Z"
   },
   {
    "duration": 5,
    "start_time": "2023-04-03T16:31:54.679Z"
   },
   {
    "duration": 13,
    "start_time": "2023-04-03T16:32:07.006Z"
   },
   {
    "duration": 65,
    "start_time": "2023-04-03T16:32:17.967Z"
   },
   {
    "duration": 15,
    "start_time": "2023-04-03T16:32:20.056Z"
   },
   {
    "duration": 8,
    "start_time": "2023-04-03T16:32:22.290Z"
   },
   {
    "duration": 62,
    "start_time": "2023-04-03T16:33:11.316Z"
   },
   {
    "duration": 14,
    "start_time": "2023-04-03T16:33:11.380Z"
   },
   {
    "duration": 16,
    "start_time": "2023-04-03T16:33:12.918Z"
   },
   {
    "duration": 14,
    "start_time": "2023-04-03T16:33:34.377Z"
   },
   {
    "duration": 58,
    "start_time": "2023-04-03T16:33:39.332Z"
   },
   {
    "duration": 15,
    "start_time": "2023-04-03T16:33:41.447Z"
   },
   {
    "duration": 6,
    "start_time": "2023-04-03T16:33:42.799Z"
   },
   {
    "duration": 8,
    "start_time": "2023-04-03T16:34:22.476Z"
   },
   {
    "duration": 8,
    "start_time": "2023-04-03T16:34:32.871Z"
   },
   {
    "duration": 28,
    "start_time": "2023-04-03T16:34:58.390Z"
   },
   {
    "duration": 11,
    "start_time": "2023-04-03T16:35:31.821Z"
   },
   {
    "duration": 13,
    "start_time": "2023-04-03T16:38:06.286Z"
   },
   {
    "duration": 60,
    "start_time": "2023-04-03T16:41:28.815Z"
   },
   {
    "duration": 50,
    "start_time": "2023-04-03T16:41:30.610Z"
   },
   {
    "duration": 5,
    "start_time": "2023-04-03T16:41:53.960Z"
   },
   {
    "duration": 8,
    "start_time": "2023-04-03T16:41:56.618Z"
   },
   {
    "duration": 6,
    "start_time": "2023-04-03T16:41:57.408Z"
   },
   {
    "duration": 10,
    "start_time": "2023-04-03T16:41:58.176Z"
   },
   {
    "duration": 15,
    "start_time": "2023-04-03T16:41:59.638Z"
   },
   {
    "duration": 863,
    "start_time": "2023-04-03T16:50:01.033Z"
   },
   {
    "duration": 10,
    "start_time": "2023-04-03T16:50:50.663Z"
   },
   {
    "duration": 12,
    "start_time": "2023-04-03T16:51:38.738Z"
   },
   {
    "duration": 79,
    "start_time": "2023-04-03T16:53:00.868Z"
   },
   {
    "duration": 22,
    "start_time": "2023-04-03T16:53:55.468Z"
   },
   {
    "duration": 25,
    "start_time": "2023-04-03T16:53:57.422Z"
   },
   {
    "duration": 26,
    "start_time": "2023-04-03T16:54:32.381Z"
   },
   {
    "duration": 22,
    "start_time": "2023-04-03T16:54:57.547Z"
   },
   {
    "duration": 23,
    "start_time": "2023-04-03T16:55:27.468Z"
   },
   {
    "duration": 341,
    "start_time": "2023-04-03T16:55:33.348Z"
   },
   {
    "duration": 10,
    "start_time": "2023-04-03T16:58:32.179Z"
   },
   {
    "duration": 4,
    "start_time": "2023-04-03T16:58:39.183Z"
   },
   {
    "duration": 23,
    "start_time": "2023-04-03T16:58:40.162Z"
   },
   {
    "duration": 428,
    "start_time": "2023-04-03T16:58:41.543Z"
   },
   {
    "duration": 43,
    "start_time": "2023-04-03T17:01:16.963Z"
   },
   {
    "duration": 48,
    "start_time": "2023-04-03T17:01:37.829Z"
   },
   {
    "duration": 7340,
    "start_time": "2023-04-03T17:01:47.459Z"
   },
   {
    "duration": 7382,
    "start_time": "2023-04-03T17:03:10.424Z"
   },
   {
    "duration": 7409,
    "start_time": "2023-04-03T17:03:30.900Z"
   },
   {
    "duration": 7563,
    "start_time": "2023-04-03T17:04:24.643Z"
   },
   {
    "duration": 7520,
    "start_time": "2023-04-03T17:05:11.163Z"
   },
   {
    "duration": 63,
    "start_time": "2023-04-03T17:05:50.344Z"
   },
   {
    "duration": 6,
    "start_time": "2023-04-03T17:05:50.410Z"
   },
   {
    "duration": 13,
    "start_time": "2023-04-03T17:05:50.417Z"
   },
   {
    "duration": 12,
    "start_time": "2023-04-03T17:05:50.433Z"
   },
   {
    "duration": 30,
    "start_time": "2023-04-03T17:05:50.447Z"
   },
   {
    "duration": 21,
    "start_time": "2023-04-03T17:05:50.480Z"
   },
   {
    "duration": 3,
    "start_time": "2023-04-03T17:05:50.503Z"
   },
   {
    "duration": 32,
    "start_time": "2023-04-03T17:05:50.509Z"
   },
   {
    "duration": 431,
    "start_time": "2023-04-03T17:05:50.543Z"
   },
   {
    "duration": 7463,
    "start_time": "2023-04-03T17:05:54.280Z"
   },
   {
    "duration": 7256,
    "start_time": "2023-04-03T17:06:18.313Z"
   },
   {
    "duration": 42269,
    "start_time": "2023-04-03T17:06:38.658Z"
   },
   {
    "duration": 303,
    "start_time": "2023-04-03T17:08:13.442Z"
   },
   {
    "duration": 231,
    "start_time": "2023-04-03T17:08:35.815Z"
   },
   {
    "duration": 53,
    "start_time": "2023-04-03T17:10:58.434Z"
   },
   {
    "duration": 36,
    "start_time": "2023-04-03T17:11:27.934Z"
   },
   {
    "duration": 71,
    "start_time": "2023-04-03T17:13:44.774Z"
   },
   {
    "duration": 4,
    "start_time": "2023-04-03T17:14:00.832Z"
   },
   {
    "duration": 114,
    "start_time": "2023-04-03T17:14:03.936Z"
   },
   {
    "duration": 213,
    "start_time": "2023-04-03T17:14:26.049Z"
   },
   {
    "duration": 32,
    "start_time": "2023-04-03T17:17:06.675Z"
   },
   {
    "duration": 25,
    "start_time": "2023-04-03T17:17:22.375Z"
   },
   {
    "duration": 51,
    "start_time": "2023-04-03T17:19:44.356Z"
   },
   {
    "duration": 43,
    "start_time": "2023-04-03T17:19:51.301Z"
   },
   {
    "duration": 406,
    "start_time": "2023-04-03T17:49:48.043Z"
   },
   {
    "duration": 11707,
    "start_time": "2023-04-03T17:49:48.451Z"
   },
   {
    "duration": 0,
    "start_time": "2023-04-03T17:50:00.161Z"
   },
   {
    "duration": 82,
    "start_time": "2023-04-03T17:50:11.890Z"
   },
   {
    "duration": 8,
    "start_time": "2023-04-03T17:50:11.975Z"
   },
   {
    "duration": 11,
    "start_time": "2023-04-03T17:50:11.985Z"
   },
   {
    "duration": 12,
    "start_time": "2023-04-03T17:50:11.998Z"
   },
   {
    "duration": 27,
    "start_time": "2023-04-03T17:50:12.012Z"
   },
   {
    "duration": 25,
    "start_time": "2023-04-03T17:50:12.044Z"
   },
   {
    "duration": 6,
    "start_time": "2023-04-03T17:50:12.071Z"
   },
   {
    "duration": 31,
    "start_time": "2023-04-03T17:50:12.079Z"
   },
   {
    "duration": 370,
    "start_time": "2023-04-03T17:50:24.350Z"
   },
   {
    "duration": 367,
    "start_time": "2023-04-03T17:50:41.167Z"
   },
   {
    "duration": 41841,
    "start_time": "2023-04-03T17:50:59.969Z"
   },
   {
    "duration": 467,
    "start_time": "2023-04-03T17:51:56.648Z"
   },
   {
    "duration": 414,
    "start_time": "2023-04-03T17:52:39.202Z"
   },
   {
    "duration": 412,
    "start_time": "2023-04-03T17:56:12.461Z"
   },
   {
    "duration": 432,
    "start_time": "2023-04-03T17:56:18.941Z"
   },
   {
    "duration": 491,
    "start_time": "2023-04-03T17:56:36.009Z"
   },
   {
    "duration": 48172,
    "start_time": "2023-04-03T18:01:02.636Z"
   },
   {
    "duration": 23,
    "start_time": "2023-04-03T18:02:49.109Z"
   },
   {
    "duration": 8,
    "start_time": "2023-04-03T18:07:07.048Z"
   },
   {
    "duration": 454,
    "start_time": "2023-04-03T18:07:45.003Z"
   },
   {
    "duration": 48055,
    "start_time": "2023-04-03T18:07:52.018Z"
   },
   {
    "duration": 18,
    "start_time": "2023-04-03T18:19:41.506Z"
   },
   {
    "duration": 18,
    "start_time": "2023-04-03T18:21:28.376Z"
   },
   {
    "duration": 439,
    "start_time": "2023-04-03T18:21:33.659Z"
   },
   {
    "duration": 422,
    "start_time": "2023-04-03T18:22:07.077Z"
   },
   {
    "duration": 43140,
    "start_time": "2023-04-03T18:22:27.416Z"
   },
   {
    "duration": 141,
    "start_time": "2023-04-03T18:23:47.401Z"
   },
   {
    "duration": 62,
    "start_time": "2023-04-03T18:24:38.902Z"
   },
   {
    "duration": 6,
    "start_time": "2023-04-03T18:24:38.966Z"
   },
   {
    "duration": 29,
    "start_time": "2023-04-03T18:24:38.973Z"
   },
   {
    "duration": 14,
    "start_time": "2023-04-03T18:24:39.004Z"
   },
   {
    "duration": 19,
    "start_time": "2023-04-03T18:24:39.020Z"
   },
   {
    "duration": 26,
    "start_time": "2023-04-03T18:24:39.041Z"
   },
   {
    "duration": 4,
    "start_time": "2023-04-03T18:24:41.170Z"
   },
   {
    "duration": 8,
    "start_time": "2023-04-03T18:24:42.220Z"
   },
   {
    "duration": 18,
    "start_time": "2023-04-03T18:24:43.320Z"
   },
   {
    "duration": 401,
    "start_time": "2023-04-03T18:25:04.636Z"
   },
   {
    "duration": 42123,
    "start_time": "2023-04-03T18:25:08.408Z"
   },
   {
    "duration": 172,
    "start_time": "2023-04-03T18:26:48.773Z"
   },
   {
    "duration": 75,
    "start_time": "2023-04-03T18:27:20.471Z"
   },
   {
    "duration": 451,
    "start_time": "2023-04-03T18:28:38.333Z"
   },
   {
    "duration": 422,
    "start_time": "2023-04-03T18:28:56.484Z"
   },
   {
    "duration": 398,
    "start_time": "2023-04-03T18:29:02.859Z"
   },
   {
    "duration": 389,
    "start_time": "2023-04-03T18:29:18.236Z"
   },
   {
    "duration": 43609,
    "start_time": "2023-04-03T18:30:08.341Z"
   },
   {
    "duration": 429,
    "start_time": "2023-04-03T18:31:17.975Z"
   },
   {
    "duration": 24,
    "start_time": "2023-04-03T18:35:07.566Z"
   },
   {
    "duration": 4,
    "start_time": "2023-04-03T18:35:22.096Z"
   },
   {
    "duration": 25,
    "start_time": "2023-04-03T18:35:22.637Z"
   },
   {
    "duration": 186,
    "start_time": "2023-04-03T18:36:22.155Z"
   },
   {
    "duration": 12,
    "start_time": "2023-04-03T18:36:41.336Z"
   },
   {
    "duration": 114,
    "start_time": "2023-04-03T18:36:42.840Z"
   },
   {
    "duration": 20,
    "start_time": "2023-04-03T18:36:47.177Z"
   },
   {
    "duration": 218,
    "start_time": "2023-04-03T18:36:48.229Z"
   },
   {
    "duration": 21,
    "start_time": "2023-04-03T18:36:54.603Z"
   },
   {
    "duration": 75354,
    "start_time": "2023-04-03T18:38:02.493Z"
   },
   {
    "duration": 688,
    "start_time": "2023-04-03T18:40:21.924Z"
   },
   {
    "duration": 13,
    "start_time": "2023-04-03T18:41:28.600Z"
   },
   {
    "duration": 11,
    "start_time": "2023-04-03T18:42:09.977Z"
   },
   {
    "duration": 15,
    "start_time": "2023-04-03T18:42:12.134Z"
   },
   {
    "duration": 37,
    "start_time": "2023-04-03T18:42:40.009Z"
   },
   {
    "duration": 22060,
    "start_time": "2023-04-03T18:43:50.499Z"
   },
   {
    "duration": 211,
    "start_time": "2023-04-03T18:45:29.022Z"
   },
   {
    "duration": 17,
    "start_time": "2023-04-03T18:48:19.090Z"
   },
   {
    "duration": 161,
    "start_time": "2023-04-03T18:49:40.289Z"
   },
   {
    "duration": 144,
    "start_time": "2023-04-03T18:49:59.600Z"
   },
   {
    "duration": 8,
    "start_time": "2023-04-03T18:53:10.603Z"
   },
   {
    "duration": 589,
    "start_time": "2023-04-03T18:54:51.054Z"
   },
   {
    "duration": 45,
    "start_time": "2023-04-03T18:55:48.670Z"
   },
   {
    "duration": 45,
    "start_time": "2023-04-03T18:55:55.014Z"
   },
   {
    "duration": 75221,
    "start_time": "2023-04-03T18:56:36.632Z"
   },
   {
    "duration": 87,
    "start_time": "2023-04-03T18:57:51.855Z"
   },
   {
    "duration": 731,
    "start_time": "2023-04-03T18:57:51.944Z"
   },
   {
    "duration": 65,
    "start_time": "2023-04-03T18:57:52.677Z"
   },
   {
    "duration": 7125,
    "start_time": "2023-04-03T18:57:52.744Z"
   },
   {
    "duration": 0,
    "start_time": "2023-04-03T18:57:59.871Z"
   },
   {
    "duration": 21941,
    "start_time": "2023-04-03T18:58:31.907Z"
   },
   {
    "duration": 29,
    "start_time": "2023-04-03T18:59:59.612Z"
   },
   {
    "duration": 20,
    "start_time": "2023-04-03T19:00:38.302Z"
   },
   {
    "duration": 49,
    "start_time": "2023-04-03T19:01:02.376Z"
   },
   {
    "duration": 1410,
    "start_time": "2023-04-03T19:01:13.712Z"
   },
   {
    "duration": 9,
    "start_time": "2023-04-03T19:01:23.646Z"
   },
   {
    "duration": 574,
    "start_time": "2023-04-03T19:01:24.379Z"
   },
   {
    "duration": 57,
    "start_time": "2023-04-03T19:01:26.529Z"
   },
   {
    "duration": 20,
    "start_time": "2023-04-03T19:01:30.229Z"
   },
   {
    "duration": 1418,
    "start_time": "2023-04-03T19:01:31.949Z"
   },
   {
    "duration": 58,
    "start_time": "2023-04-03T19:01:42.728Z"
   },
   {
    "duration": 8,
    "start_time": "2023-04-03T19:02:15.008Z"
   },
   {
    "duration": 664,
    "start_time": "2023-04-03T19:02:15.721Z"
   },
   {
    "duration": 21,
    "start_time": "2023-04-03T19:02:18.555Z"
   },
   {
    "duration": 1394,
    "start_time": "2023-04-03T19:02:22.263Z"
   },
   {
    "duration": 22,
    "start_time": "2023-04-03T19:02:29.993Z"
   },
   {
    "duration": 1755,
    "start_time": "2023-04-03T19:02:32.507Z"
   },
   {
    "duration": 17,
    "start_time": "2023-04-03T19:02:38.845Z"
   },
   {
    "duration": 1475,
    "start_time": "2023-04-03T19:02:41.378Z"
   },
   {
    "duration": 1462,
    "start_time": "2023-04-03T19:02:58.549Z"
   },
   {
    "duration": 1349,
    "start_time": "2023-04-03T19:03:05.185Z"
   },
   {
    "duration": 1453,
    "start_time": "2023-04-03T19:03:11.386Z"
   },
   {
    "duration": 19,
    "start_time": "2023-04-03T19:04:11.690Z"
   },
   {
    "duration": 154,
    "start_time": "2023-04-03T19:04:12.691Z"
   },
   {
    "duration": 88220,
    "start_time": "2023-04-03T19:04:14.144Z"
   },
   {
    "duration": 734,
    "start_time": "2023-04-03T19:05:45.422Z"
   },
   {
    "duration": 3306,
    "start_time": "2023-04-03T19:07:34.978Z"
   },
   {
    "duration": 4,
    "start_time": "2023-04-03T19:07:41.182Z"
   },
   {
    "duration": 89741,
    "start_time": "2023-04-03T19:07:43.182Z"
   },
   {
    "duration": 537,
    "start_time": "2023-04-04T06:51:22.105Z"
   },
   {
    "duration": 5,
    "start_time": "2023-04-04T06:51:22.644Z"
   },
   {
    "duration": 13,
    "start_time": "2023-04-04T06:51:22.651Z"
   },
   {
    "duration": 7,
    "start_time": "2023-04-04T06:51:22.666Z"
   },
   {
    "duration": 10,
    "start_time": "2023-04-04T06:51:22.675Z"
   },
   {
    "duration": 12,
    "start_time": "2023-04-04T06:51:22.687Z"
   },
   {
    "duration": 806,
    "start_time": "2023-04-04T06:51:22.700Z"
   },
   {
    "duration": 6,
    "start_time": "2023-04-04T06:51:23.508Z"
   },
   {
    "duration": 21,
    "start_time": "2023-04-04T06:51:23.516Z"
   },
   {
    "duration": 428,
    "start_time": "2023-04-04T06:51:23.539Z"
   },
   {
    "duration": 13714,
    "start_time": "2023-04-04T06:51:23.969Z"
   },
   {
    "duration": 0,
    "start_time": "2023-04-04T06:51:37.685Z"
   },
   {
    "duration": 0,
    "start_time": "2023-04-04T06:51:37.686Z"
   },
   {
    "duration": 0,
    "start_time": "2023-04-04T06:51:37.687Z"
   },
   {
    "duration": 0,
    "start_time": "2023-04-04T06:51:37.688Z"
   },
   {
    "duration": 0,
    "start_time": "2023-04-04T06:51:37.689Z"
   },
   {
    "duration": 0,
    "start_time": "2023-04-04T06:51:37.690Z"
   },
   {
    "duration": 0,
    "start_time": "2023-04-04T06:51:37.691Z"
   },
   {
    "duration": 0,
    "start_time": "2023-04-04T06:51:37.692Z"
   },
   {
    "duration": 0,
    "start_time": "2023-04-04T06:51:37.693Z"
   },
   {
    "duration": 0,
    "start_time": "2023-04-04T06:51:37.694Z"
   },
   {
    "duration": 0,
    "start_time": "2023-04-04T06:51:37.695Z"
   },
   {
    "duration": 0,
    "start_time": "2023-04-04T06:51:37.696Z"
   },
   {
    "duration": 0,
    "start_time": "2023-04-04T06:51:37.697Z"
   },
   {
    "duration": 0,
    "start_time": "2023-04-04T06:51:37.724Z"
   },
   {
    "duration": 0,
    "start_time": "2023-04-04T06:51:37.725Z"
   },
   {
    "duration": 0,
    "start_time": "2023-04-04T06:51:37.726Z"
   },
   {
    "duration": 0,
    "start_time": "2023-04-04T06:51:37.727Z"
   },
   {
    "duration": 44753,
    "start_time": "2023-04-04T06:52:04.011Z"
   },
   {
    "duration": 55,
    "start_time": "2023-04-04T06:53:30.869Z"
   },
   {
    "duration": 61,
    "start_time": "2023-04-04T06:53:34.163Z"
   },
   {
    "duration": 44765,
    "start_time": "2023-04-04T06:53:35.733Z"
   },
   {
    "duration": 426,
    "start_time": "2023-04-04T06:54:25.047Z"
   },
   {
    "duration": 3,
    "start_time": "2023-04-04T06:54:28.697Z"
   },
   {
    "duration": 16,
    "start_time": "2023-04-04T06:54:29.133Z"
   },
   {
    "duration": 109,
    "start_time": "2023-04-04T06:54:30.717Z"
   },
   {
    "duration": 74365,
    "start_time": "2023-04-04T06:54:32.883Z"
   },
   {
    "duration": 638,
    "start_time": "2023-04-04T06:56:25.165Z"
   },
   {
    "duration": 14,
    "start_time": "2023-04-04T06:56:39.127Z"
   },
   {
    "duration": 22,
    "start_time": "2023-04-04T06:56:40.686Z"
   },
   {
    "duration": 23445,
    "start_time": "2023-04-04T06:56:43.600Z"
   },
   {
    "duration": 223,
    "start_time": "2023-04-04T06:57:29.403Z"
   },
   {
    "duration": 169,
    "start_time": "2023-04-04T06:57:50.462Z"
   },
   {
    "duration": 10,
    "start_time": "2023-04-04T06:57:53.382Z"
   },
   {
    "duration": 75,
    "start_time": "2023-04-04T06:57:54.963Z"
   },
   {
    "duration": 65,
    "start_time": "2023-04-04T06:58:26.102Z"
   },
   {
    "duration": 68,
    "start_time": "2023-04-04T06:59:03.252Z"
   },
   {
    "duration": 75297,
    "start_time": "2023-04-04T06:59:47.612Z"
   },
   {
    "duration": 17,
    "start_time": "2023-04-04T07:01:09.378Z"
   },
   {
    "duration": 77,
    "start_time": "2023-04-04T07:01:12.437Z"
   },
   {
    "duration": 92953,
    "start_time": "2023-04-04T07:01:31.966Z"
   },
   {
    "duration": 1300,
    "start_time": "2023-04-04T07:10:38.604Z"
   },
   {
    "duration": 1877,
    "start_time": "2023-04-04T07:10:51.204Z"
   },
   {
    "duration": 1492,
    "start_time": "2023-04-04T07:12:02.302Z"
   },
   {
    "duration": 1221,
    "start_time": "2023-04-04T18:17:31.923Z"
   },
   {
    "duration": 457,
    "start_time": "2023-04-04T18:18:32.453Z"
   },
   {
    "duration": 5,
    "start_time": "2023-04-04T18:18:36.307Z"
   },
   {
    "duration": 6,
    "start_time": "2023-04-04T18:18:38.650Z"
   },
   {
    "duration": 7,
    "start_time": "2023-04-04T18:18:39.193Z"
   },
   {
    "duration": 11,
    "start_time": "2023-04-04T18:18:39.684Z"
   },
   {
    "duration": 18,
    "start_time": "2023-04-04T18:18:40.294Z"
   },
   {
    "duration": 6,
    "start_time": "2023-04-04T18:18:43.863Z"
   },
   {
    "duration": 14,
    "start_time": "2023-04-04T18:18:44.813Z"
   },
   {
    "duration": 402,
    "start_time": "2023-04-04T18:18:57.324Z"
   },
   {
    "duration": 40075,
    "start_time": "2023-04-04T18:19:00.594Z"
   },
   {
    "duration": 102,
    "start_time": "2023-04-04T18:19:43.579Z"
   },
   {
    "duration": 61,
    "start_time": "2023-04-04T18:19:47.136Z"
   },
   {
    "duration": 40234,
    "start_time": "2023-04-04T18:19:48.851Z"
   },
   {
    "duration": 7,
    "start_time": "2023-04-04T18:22:11.031Z"
   },
   {
    "duration": 138,
    "start_time": "2023-04-04T18:22:13.516Z"
   },
   {
    "duration": 49659,
    "start_time": "2023-04-04T18:22:45.522Z"
   },
   {
    "duration": 26,
    "start_time": "2023-04-04T18:24:19.101Z"
   },
   {
    "duration": 92257,
    "start_time": "2023-04-04T18:24:20.429Z"
   }
  ],
  "kernelspec": {
   "display_name": "Python 3 (ipykernel)",
   "language": "python",
   "name": "python3"
  },
  "language_info": {
   "codemirror_mode": {
    "name": "ipython",
    "version": 3
   },
   "file_extension": ".py",
   "mimetype": "text/x-python",
   "name": "python",
   "nbconvert_exporter": "python",
   "pygments_lexer": "ipython3",
   "version": "3.11.5"
  },
  "toc": {
   "base_numbering": 1,
   "nav_menu": {},
   "number_sections": true,
   "sideBar": true,
   "skip_h1_title": true,
   "title_cell": "Содержание",
   "title_sidebar": "Contents",
   "toc_cell": true,
   "toc_position": {
    "height": "calc(100% - 180px)",
    "left": "10px",
    "top": "150px",
    "width": "165px"
   },
   "toc_section_display": true,
   "toc_window_display": true
  }
 },
 "nbformat": 4,
 "nbformat_minor": 2
}
