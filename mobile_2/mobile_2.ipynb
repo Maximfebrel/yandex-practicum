{
 "cells": [
  {
   "cell_type": "markdown",
   "metadata": {},
   "source": [
    "# Рекомендация тарифов"
   ]
  },
  {
   "cell_type": "markdown",
   "metadata": {},
   "source": [
    "В вашем распоряжении данные о поведении клиентов, которые уже перешли на эти тарифы (из проекта курса «Статистический анализ данных»). Нужно построить модель для задачи классификации, которая выберет подходящий тариф. Предобработка данных не понадобится — вы её уже сделали.\n",
    "\n",
    "Постройте модель с максимально большим значением *accuracy*. Чтобы сдать проект успешно, нужно довести долю правильных ответов по крайней мере до 0.75. Проверьте *accuracy* на тестовой выборке самостоятельно."
   ]
  },
  {
   "cell_type": "markdown",
   "metadata": {},
   "source": [
    "## Откройте и изучите файл"
   ]
  },
  {
   "cell_type": "code",
   "execution_count": 1,
   "metadata": {
    "scrolled": false
   },
   "outputs": [
    {
     "data": {
      "text/html": [
       "<div>\n",
       "<style scoped>\n",
       "    .dataframe tbody tr th:only-of-type {\n",
       "        vertical-align: middle;\n",
       "    }\n",
       "\n",
       "    .dataframe tbody tr th {\n",
       "        vertical-align: top;\n",
       "    }\n",
       "\n",
       "    .dataframe thead th {\n",
       "        text-align: right;\n",
       "    }\n",
       "</style>\n",
       "<table border=\"1\" class=\"dataframe\">\n",
       "  <thead>\n",
       "    <tr style=\"text-align: right;\">\n",
       "      <th></th>\n",
       "      <th>calls</th>\n",
       "      <th>minutes</th>\n",
       "      <th>messages</th>\n",
       "      <th>mb_used</th>\n",
       "      <th>is_ultra</th>\n",
       "    </tr>\n",
       "  </thead>\n",
       "  <tbody>\n",
       "    <tr>\n",
       "      <th>0</th>\n",
       "      <td>40.0</td>\n",
       "      <td>311.90</td>\n",
       "      <td>83.0</td>\n",
       "      <td>19915.42</td>\n",
       "      <td>0</td>\n",
       "    </tr>\n",
       "    <tr>\n",
       "      <th>1</th>\n",
       "      <td>85.0</td>\n",
       "      <td>516.75</td>\n",
       "      <td>56.0</td>\n",
       "      <td>22696.96</td>\n",
       "      <td>0</td>\n",
       "    </tr>\n",
       "    <tr>\n",
       "      <th>2</th>\n",
       "      <td>77.0</td>\n",
       "      <td>467.66</td>\n",
       "      <td>86.0</td>\n",
       "      <td>21060.45</td>\n",
       "      <td>0</td>\n",
       "    </tr>\n",
       "    <tr>\n",
       "      <th>3</th>\n",
       "      <td>106.0</td>\n",
       "      <td>745.53</td>\n",
       "      <td>81.0</td>\n",
       "      <td>8437.39</td>\n",
       "      <td>1</td>\n",
       "    </tr>\n",
       "    <tr>\n",
       "      <th>4</th>\n",
       "      <td>66.0</td>\n",
       "      <td>418.74</td>\n",
       "      <td>1.0</td>\n",
       "      <td>14502.75</td>\n",
       "      <td>0</td>\n",
       "    </tr>\n",
       "  </tbody>\n",
       "</table>\n",
       "</div>"
      ],
      "text/plain": [
       "   calls  minutes  messages   mb_used  is_ultra\n",
       "0   40.0   311.90      83.0  19915.42         0\n",
       "1   85.0   516.75      56.0  22696.96         0\n",
       "2   77.0   467.66      86.0  21060.45         0\n",
       "3  106.0   745.53      81.0   8437.39         1\n",
       "4   66.0   418.74       1.0  14502.75         0"
      ]
     },
     "metadata": {},
     "output_type": "display_data"
    },
    {
     "name": "stdout",
     "output_type": "stream",
     "text": [
      "<class 'pandas.core.frame.DataFrame'>\n",
      "RangeIndex: 3214 entries, 0 to 3213\n",
      "Data columns (total 5 columns):\n",
      " #   Column    Non-Null Count  Dtype  \n",
      "---  ------    --------------  -----  \n",
      " 0   calls     3214 non-null   float64\n",
      " 1   minutes   3214 non-null   float64\n",
      " 2   messages  3214 non-null   float64\n",
      " 3   mb_used   3214 non-null   float64\n",
      " 4   is_ultra  3214 non-null   int64  \n",
      "dtypes: float64(4), int64(1)\n",
      "memory usage: 125.7 KB\n"
     ]
    },
    {
     "data": {
      "text/plain": [
       "None"
      ]
     },
     "metadata": {},
     "output_type": "display_data"
    },
    {
     "data": {
      "text/plain": [
       "0"
      ]
     },
     "execution_count": 1,
     "metadata": {},
     "output_type": "execute_result"
    }
   ],
   "source": [
    "import pandas as pd\n",
    "from sklearn.tree import DecisionTreeClassifier\n",
    "from sklearn.metrics import accuracy_score\n",
    "from sklearn.model_selection import train_test_split\n",
    "from sklearn.ensemble import RandomForestClassifier\n",
    "from joblib import dump\n",
    "from sklearn.linear_model import LogisticRegression\n",
    "\n",
    "data = pd.read_csv('/datasets/users_behavior.csv')\n",
    "display(data.head())\n",
    "display(data.info())\n",
    "data.duplicated().sum()"
   ]
  },
  {
   "cell_type": "code",
   "execution_count": 2,
   "metadata": {},
   "outputs": [],
   "source": [
    "data['calls'] = data['calls'].astype(int)"
   ]
  },
  {
   "cell_type": "markdown",
   "metadata": {},
   "source": [
    "**Вывод**\n",
    "\n",
    "Пропуски в данных отстутсвуют, как и явные дубликаты. Был изменен тип данных в столбце с количеством звонков, так как оно может быть только числом. Предсказываемое число 1 или 0, следовательно. перед нами стоит задача классификации."
   ]
  },
  {
   "cell_type": "markdown",
   "metadata": {},
   "source": [
    "## Разбейте данные на выборки"
   ]
  },
  {
   "cell_type": "code",
   "execution_count": 3,
   "metadata": {},
   "outputs": [],
   "source": [
    "features = data.drop(['is_ultra'], axis=1)\n",
    "target = data['is_ultra']"
   ]
  },
  {
   "cell_type": "code",
   "execution_count": 4,
   "metadata": {},
   "outputs": [],
   "source": [
    "features_train, features_valid, target_train, target_valid = train_test_split(\n",
    "    features, target, test_size=0.4, random_state=12345)\n",
    "\n",
    "features_valid, features_test, target_valid, target_test = train_test_split(\n",
    "    features_valid, target_valid, test_size=0.5, random_state=12345)"
   ]
  },
  {
   "cell_type": "markdown",
   "metadata": {},
   "source": [
    "**Вывод**\n",
    "\n",
    "В качестве целевого признака был выбран используемый тариф. Также выборка была раздлена на 3 категории: обучающая (60%), валидационная (20%) и тестовая (20%)."
   ]
  },
  {
   "cell_type": "markdown",
   "metadata": {},
   "source": [
    "## Исследуйте модели"
   ]
  },
  {
   "cell_type": "markdown",
   "metadata": {},
   "source": [
    "**Модель дерева решений**"
   ]
  },
  {
   "cell_type": "code",
   "execution_count": 5,
   "metadata": {
    "scrolled": true
   },
   "outputs": [
    {
     "name": "stdout",
     "output_type": "stream",
     "text": [
      "max_depth = 1 : 0.7542768273716952\n",
      "max_depth = 2 : 0.7822706065318819\n",
      "max_depth = 3 : 0.7853810264385692\n",
      "max_depth = 4 : 0.7791601866251944\n",
      "max_depth = 5 : 0.7791601866251944\n",
      "max_depth = 6 : 0.7838258164852255\n",
      "max_depth = 7 : 0.7822706065318819\n",
      "max_depth = 8 : 0.7791601866251944\n",
      "max_depth = 9 : 0.7822706065318819\n",
      "max_depth = 10 : 0.7744945567651633\n"
     ]
    }
   ],
   "source": [
    "for i in range(1, 11):\n",
    "    model_tree = DecisionTreeClassifier(max_depth=i, random_state=12345)\n",
    "    model_tree.fit(features_train, target_train)\n",
    "    predictions_valid = model_tree.predict(features_valid)\n",
    "    accuracy = accuracy_score(target_valid, predictions_valid)\n",
    "    print('max_depth =', i, ':', accuracy)"
   ]
  },
  {
   "cell_type": "markdown",
   "metadata": {},
   "source": [
    "**Модель леса решений**"
   ]
  },
  {
   "cell_type": "code",
   "execution_count": 6,
   "metadata": {
    "scrolled": true
   },
   "outputs": [
    {
     "name": "stdout",
     "output_type": "stream",
     "text": [
      "max_est = 1 : 0.7107309486780715\n",
      "max_est = 2 : 0.7636080870917574\n",
      "max_est = 3 : 0.7387247278382582\n",
      "max_est = 4 : 0.7713841368584758\n",
      "max_est = 5 : 0.749611197511664\n",
      "max_est = 6 : 0.7807153965785381\n",
      "max_est = 7 : 0.7682737169517885\n",
      "max_est = 8 : 0.7822706065318819\n",
      "max_est = 9 : 0.7729393468118196\n",
      "max_est = 10 : 0.7853810264385692\n"
     ]
    }
   ],
   "source": [
    "for est in range(1, 11):\n",
    "    model_for = RandomForestClassifier(random_state=12345, n_estimators=est) \n",
    "    model_for.fit(features_train, target_train) \n",
    "    accuracy = model_for.score(features_valid, target_valid) \n",
    "    print('max_est =', est, ':', accuracy)"
   ]
  },
  {
   "cell_type": "markdown",
   "metadata": {},
   "source": [
    "**Логистическая регрессия**"
   ]
  },
  {
   "cell_type": "code",
   "execution_count": 7,
   "metadata": {},
   "outputs": [
    {
     "name": "stdout",
     "output_type": "stream",
     "text": [
      "0.7107309486780715\n"
     ]
    }
   ],
   "source": [
    "model_log = LogisticRegression(random_state=12345, solver='lbfgs', max_iter=1000)\n",
    "model_log.fit(features_train, target_train)\n",
    "predictions_valid = model_log.predict(features_valid)\n",
    "accuracy = accuracy_score(target_valid, predictions_valid)\n",
    "print(accuracy)"
   ]
  },
  {
   "cell_type": "markdown",
   "metadata": {},
   "source": [
    "**Модель деревьев и леса**"
   ]
  },
  {
   "cell_type": "code",
   "execution_count": 8,
   "metadata": {},
   "outputs": [
    {
     "name": "stdout",
     "output_type": "stream",
     "text": [
      "Accuracy наилучшей модели на валидационной выборке: 0.7558320373250389 Количество деревьев: 10 Максимальная глубина: 10\n"
     ]
    }
   ],
   "source": [
    "best_model = None\n",
    "best_result = 10000\n",
    "best_est = 0\n",
    "best_depth = 0\n",
    "for est in range(10, 51, 10):\n",
    "    for depth in range (1, 11):\n",
    "        model = RandomForestClassifier(random_state=12345, n_estimators=est, max_depth=depth)\n",
    "        model.fit(features_train, target_train) \n",
    "        predictions_valid = model.predict(features_valid) \n",
    "        result = accuracy_score(target_valid, predictions_valid)\n",
    "        if result < best_result:\n",
    "            best_model = model\n",
    "            best_result = result\n",
    "            best_est = est\n",
    "            best_depth = depth\n",
    "\n",
    "print(\"Accuracy наилучшей модели на валидационной выборке:\", best_result, \"Количество деревьев:\", best_est, \"Максимальная глубина:\", depth)"
   ]
  },
  {
   "cell_type": "markdown",
   "metadata": {},
   "source": [
    "**Вывод**\n",
    "\n",
    "Наилучшей сходимостью обладает модель дерева решений. С глубиной 7. Сходимость равна 0,789.\n",
    "\n",
    "В модели леса деревьев наилучшей сходимостью обладает решенеие с количеством деревьев 8. Сходимость равна 0,786\n",
    "\n",
    "Модель логистической регрессии обладает самой низкой сходимостью, она составляет 0,698.\n",
    "\n",
    "Если объединить модель леса и решений, то наибольшей сходимостью (0,746) будет обладать модель с 10 деревьями, глубиной 10."
   ]
  },
  {
   "cell_type": "markdown",
   "metadata": {},
   "source": [
    "## Проверьте модель на тестовой выборке"
   ]
  },
  {
   "cell_type": "markdown",
   "metadata": {},
   "source": [
    "**Модель дерева решений**"
   ]
  },
  {
   "cell_type": "code",
   "execution_count": 9,
   "metadata": {},
   "outputs": [
    {
     "name": "stdout",
     "output_type": "stream",
     "text": [
      "0.7993779160186625\n"
     ]
    }
   ],
   "source": [
    "model_tree = DecisionTreeClassifier(max_depth=7, random_state=12345)\n",
    "model_tree.fit(features_train, target_train)\n",
    "predictions_test = model_tree.predict(features_test)\n",
    "accuracy = accuracy_score(target_test, predictions_test)\n",
    "print(accuracy)"
   ]
  },
  {
   "cell_type": "markdown",
   "metadata": {},
   "source": [
    "**Модель леса решений** "
   ]
  },
  {
   "cell_type": "code",
   "execution_count": 10,
   "metadata": {},
   "outputs": [
    {
     "name": "stdout",
     "output_type": "stream",
     "text": [
      "0.7869362363919129\n"
     ]
    }
   ],
   "source": [
    "model_for = RandomForestClassifier(random_state=12345, n_estimators=8) \n",
    "model_for.fit(features_train, target_train) \n",
    "accuracy = model_for.score(features_test, target_test) \n",
    "print(accuracy)"
   ]
  },
  {
   "cell_type": "markdown",
   "metadata": {},
   "source": [
    "**Логичтическая модель**"
   ]
  },
  {
   "cell_type": "code",
   "execution_count": 11,
   "metadata": {},
   "outputs": [
    {
     "name": "stdout",
     "output_type": "stream",
     "text": [
      "0.6842923794712286\n"
     ]
    }
   ],
   "source": [
    "model_log = LogisticRegression(random_state=12345, solver='lbfgs', max_iter=1000)\n",
    "model_log.fit(features_train, target_train)\n",
    "predictions_test = model_log.predict(features_test)\n",
    "accuracy = accuracy_score(target_test, predictions_test)\n",
    "print(accuracy)"
   ]
  },
  {
   "cell_type": "markdown",
   "metadata": {},
   "source": [
    "**Деревья и лес решений**"
   ]
  },
  {
   "cell_type": "code",
   "execution_count": 12,
   "metadata": {},
   "outputs": [
    {
     "name": "stdout",
     "output_type": "stream",
     "text": [
      "0.8009331259720062\n"
     ]
    }
   ],
   "source": [
    "model = RandomForestClassifier(random_state=12345, n_estimators=10, max_depth=10)\n",
    "model.fit(features_train, target_train) \n",
    "predictions_test = model.predict(features_test) \n",
    "result = accuracy_score(target_test, predictions_test)\n",
    "print(result)"
   ]
  },
  {
   "cell_type": "markdown",
   "metadata": {},
   "source": [
    "**Вывод**\n",
    "\n",
    "В итоге если делать вывод, то следует отметить, что наибольшей сходимостью обладает модель объединения леса и дерева решений. Сходимость на тестовой выборке составляет 0.802."
   ]
  }
 ],
 "metadata": {
  "ExecuteTimeLog": [
   {
    "duration": 1307,
    "start_time": "2023-03-19T08:00:55.690Z"
   },
   {
    "duration": 5,
    "start_time": "2023-03-19T08:01:47.389Z"
   },
   {
    "duration": 12,
    "start_time": "2023-03-19T08:01:57.224Z"
   },
   {
    "duration": 4,
    "start_time": "2023-03-19T08:02:10.022Z"
   },
   {
    "duration": 54,
    "start_time": "2023-03-19T08:03:07.497Z"
   },
   {
    "duration": 4,
    "start_time": "2023-03-19T08:06:12.047Z"
   },
   {
    "duration": 9,
    "start_time": "2023-03-19T08:17:23.713Z"
   },
   {
    "duration": 120,
    "start_time": "2023-03-19T08:26:00.818Z"
   },
   {
    "duration": 54,
    "start_time": "2023-03-19T08:26:17.942Z"
   },
   {
    "duration": 4,
    "start_time": "2023-03-19T08:26:19.834Z"
   },
   {
    "duration": 6,
    "start_time": "2023-03-19T08:26:21.108Z"
   },
   {
    "duration": 7,
    "start_time": "2023-03-19T08:26:21.737Z"
   },
   {
    "duration": 23,
    "start_time": "2023-03-19T08:26:23.814Z"
   },
   {
    "duration": 13,
    "start_time": "2023-03-19T08:27:12.877Z"
   },
   {
    "duration": 5,
    "start_time": "2023-03-19T08:27:18.542Z"
   },
   {
    "duration": 17,
    "start_time": "2023-03-19T08:28:24.841Z"
   },
   {
    "duration": 17,
    "start_time": "2023-03-19T08:28:49.114Z"
   },
   {
    "duration": 28,
    "start_time": "2023-03-19T08:29:10.406Z"
   },
   {
    "duration": 5,
    "start_time": "2023-03-19T08:30:06.815Z"
   },
   {
    "duration": 10,
    "start_time": "2023-03-19T08:31:13.509Z"
   },
   {
    "duration": 46,
    "start_time": "2023-03-19T08:31:23.913Z"
   },
   {
    "duration": 3,
    "start_time": "2023-03-19T08:31:27.200Z"
   },
   {
    "duration": 7,
    "start_time": "2023-03-19T08:31:27.813Z"
   },
   {
    "duration": 6,
    "start_time": "2023-03-19T08:31:28.821Z"
   },
   {
    "duration": 29,
    "start_time": "2023-03-19T08:31:33.121Z"
   },
   {
    "duration": 33,
    "start_time": "2023-03-19T08:31:36.855Z"
   },
   {
    "duration": 73,
    "start_time": "2023-03-19T08:31:50.225Z"
   },
   {
    "duration": 72,
    "start_time": "2023-03-19T08:32:41.558Z"
   },
   {
    "duration": 84,
    "start_time": "2023-03-19T08:33:14.788Z"
   },
   {
    "duration": 9,
    "start_time": "2023-03-19T08:36:11.062Z"
   },
   {
    "duration": 47,
    "start_time": "2023-03-19T08:36:27.233Z"
   },
   {
    "duration": 5,
    "start_time": "2023-03-19T08:36:29.322Z"
   },
   {
    "duration": 4,
    "start_time": "2023-03-19T08:36:30.237Z"
   },
   {
    "duration": 6,
    "start_time": "2023-03-19T08:36:31.235Z"
   },
   {
    "duration": 77,
    "start_time": "2023-03-19T08:36:32.975Z"
   },
   {
    "duration": 27,
    "start_time": "2023-03-19T08:36:34.460Z"
   },
   {
    "duration": 273,
    "start_time": "2023-03-19T08:37:33.491Z"
   },
   {
    "duration": 524,
    "start_time": "2023-03-19T08:37:41.478Z"
   },
   {
    "duration": 260,
    "start_time": "2023-03-19T08:38:20.817Z"
   },
   {
    "duration": 52,
    "start_time": "2023-03-19T08:39:14.602Z"
   },
   {
    "duration": 140,
    "start_time": "2023-03-19T08:39:39.269Z"
   },
   {
    "duration": 25,
    "start_time": "2023-03-19T08:41:05.712Z"
   },
   {
    "duration": 23,
    "start_time": "2023-03-19T08:41:13.192Z"
   },
   {
    "duration": 26,
    "start_time": "2023-03-19T08:41:38.126Z"
   },
   {
    "duration": 27,
    "start_time": "2023-03-19T08:41:44.652Z"
   },
   {
    "duration": 3902,
    "start_time": "2023-03-19T08:43:39.849Z"
   },
   {
    "duration": 3874,
    "start_time": "2023-03-19T08:44:01.270Z"
   },
   {
    "duration": 4084,
    "start_time": "2023-03-19T08:44:28.826Z"
   },
   {
    "duration": 4066,
    "start_time": "2023-03-19T08:49:15.592Z"
   },
   {
    "duration": 21,
    "start_time": "2023-03-19T08:51:47.096Z"
   },
   {
    "duration": 14,
    "start_time": "2023-03-19T08:53:01.308Z"
   },
   {
    "duration": 8,
    "start_time": "2023-03-19T08:53:15.042Z"
   },
   {
    "duration": 12,
    "start_time": "2023-03-19T08:54:09.613Z"
   },
   {
    "duration": 52,
    "start_time": "2023-03-19T08:55:01.194Z"
   },
   {
    "duration": 26,
    "start_time": "2023-03-19T08:56:36.876Z"
   },
   {
    "duration": 39,
    "start_time": "2023-03-19T08:57:44.964Z"
   },
   {
    "duration": 40,
    "start_time": "2023-03-19T08:57:52.674Z"
   },
   {
    "duration": 2229,
    "start_time": "2023-03-19T09:13:16.724Z"
   },
   {
    "duration": 5,
    "start_time": "2023-03-19T09:13:18.956Z"
   },
   {
    "duration": 7,
    "start_time": "2023-03-19T09:13:18.963Z"
   },
   {
    "duration": 10,
    "start_time": "2023-03-19T09:13:18.971Z"
   },
   {
    "duration": 114,
    "start_time": "2023-03-19T09:13:18.984Z"
   },
   {
    "duration": 327,
    "start_time": "2023-03-19T09:13:19.101Z"
   },
   {
    "duration": 39,
    "start_time": "2023-03-19T09:13:19.430Z"
   },
   {
    "duration": 4055,
    "start_time": "2023-03-19T09:13:19.471Z"
   },
   {
    "duration": 14,
    "start_time": "2023-03-19T09:13:23.527Z"
   },
   {
    "duration": 66,
    "start_time": "2023-03-19T09:13:23.543Z"
   },
   {
    "duration": 29,
    "start_time": "2023-03-19T09:13:23.611Z"
   },
   {
    "duration": 60,
    "start_time": "2023-03-19T09:13:23.641Z"
   },
   {
    "duration": 2062,
    "start_time": "2023-03-19T09:14:15.903Z"
   },
   {
    "duration": 4,
    "start_time": "2023-03-19T09:14:17.967Z"
   },
   {
    "duration": 8,
    "start_time": "2023-03-19T09:14:17.973Z"
   },
   {
    "duration": 8,
    "start_time": "2023-03-19T09:14:17.984Z"
   },
   {
    "duration": 99,
    "start_time": "2023-03-19T09:14:17.994Z"
   },
   {
    "duration": 298,
    "start_time": "2023-03-19T09:14:18.094Z"
   },
   {
    "duration": 34,
    "start_time": "2023-03-19T09:14:18.393Z"
   },
   {
    "duration": 3811,
    "start_time": "2023-03-19T09:14:18.429Z"
   },
   {
    "duration": 19,
    "start_time": "2023-03-19T09:14:22.242Z"
   },
   {
    "duration": 45,
    "start_time": "2023-03-19T09:14:22.264Z"
   },
   {
    "duration": 51,
    "start_time": "2023-03-19T09:14:22.311Z"
   },
   {
    "duration": 54,
    "start_time": "2023-03-19T09:14:22.364Z"
   }
  ],
  "kernelspec": {
   "display_name": "Python 3 (ipykernel)",
   "language": "python",
   "name": "python3"
  },
  "language_info": {
   "codemirror_mode": {
    "name": "ipython",
    "version": 3
   },
   "file_extension": ".py",
   "mimetype": "text/x-python",
   "name": "python",
   "nbconvert_exporter": "python",
   "pygments_lexer": "ipython3",
   "version": "3.11.5"
  },
  "toc": {
   "base_numbering": 1,
   "nav_menu": {},
   "number_sections": true,
   "sideBar": true,
   "skip_h1_title": true,
   "title_cell": "Table of Contents",
   "title_sidebar": "Contents",
   "toc_cell": false,
   "toc_position": {},
   "toc_section_display": true,
   "toc_window_display": true
  }
 },
 "nbformat": 4,
 "nbformat_minor": 2
}
